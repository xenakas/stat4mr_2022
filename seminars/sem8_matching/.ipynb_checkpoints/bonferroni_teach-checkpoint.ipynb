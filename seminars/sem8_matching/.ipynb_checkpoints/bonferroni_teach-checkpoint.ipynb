{
 "cells": [
  {
   "cell_type": "code",
   "execution_count": 3,
   "id": "17c9fedf",
   "metadata": {
    "ExecuteTime": {
     "end_time": "2021-11-13T08:45:03.538336Z",
     "start_time": "2021-11-13T08:45:03.536288Z"
    }
   },
   "outputs": [],
   "source": [
    "# !pip install multipy"
   ]
  },
  {
   "cell_type": "code",
   "execution_count": 2,
   "id": "9dac2aa3",
   "metadata": {
    "ExecuteTime": {
     "end_time": "2021-11-13T08:44:55.953225Z",
     "start_time": "2021-11-13T08:44:55.150220Z"
    }
   },
   "outputs": [],
   "source": [
    "import pandas as pd#Import the data samples\n",
    "from multipy.data import neuhaus#Import the FWER methods \n",
    "from multipy.fwer import bonferroni, holm_bonferroni#Import the FDR methods (LSU is the other name for BH method)\n",
    "from multipy.fdr import lsu"
   ]
  },
  {
   "cell_type": "markdown",
   "id": "d604d324",
   "metadata": {},
   "source": [
    "Let’s assume we have 15 features, and we already did our hypothesis testing for each feature."
   ]
  },
  {
   "cell_type": "code",
   "execution_count": 9,
   "id": "14da47e6",
   "metadata": {
    "ExecuteTime": {
     "end_time": "2021-11-13T08:48:03.587724Z",
     "start_time": "2021-11-13T08:48:03.578982Z"
    }
   },
   "outputs": [],
   "source": [
    "pvals = neuhaus()\n",
    "df = pd.DataFrame({'Features': ['Feature {}'.format(i) for i in range(1,len(pvals)+1  )], 'P-value':pvals})\n",
    "# df"
   ]
  },
  {
   "cell_type": "code",
   "execution_count": 12,
   "id": "46e540bd",
   "metadata": {
    "ExecuteTime": {
     "end_time": "2021-11-13T08:53:27.716126Z",
     "start_time": "2021-11-13T08:53:27.690787Z"
    }
   },
   "outputs": [
    {
     "data": {
      "text/html": [
       "<div>\n",
       "<style scoped>\n",
       "    .dataframe tbody tr th:only-of-type {\n",
       "        vertical-align: middle;\n",
       "    }\n",
       "\n",
       "    .dataframe tbody tr th {\n",
       "        vertical-align: top;\n",
       "    }\n",
       "\n",
       "    .dataframe thead th {\n",
       "        text-align: right;\n",
       "    }\n",
       "</style>\n",
       "<table border=\"1\" class=\"dataframe\">\n",
       "  <thead>\n",
       "    <tr style=\"text-align: right;\">\n",
       "      <th></th>\n",
       "      <th>Features</th>\n",
       "      <th>P-value</th>\n",
       "      <th>Hypothesis Correction Result</th>\n",
       "    </tr>\n",
       "  </thead>\n",
       "  <tbody>\n",
       "    <tr>\n",
       "      <th>0</th>\n",
       "      <td>Feature 1</td>\n",
       "      <td>0.0001</td>\n",
       "      <td>True</td>\n",
       "    </tr>\n",
       "    <tr>\n",
       "      <th>1</th>\n",
       "      <td>Feature 2</td>\n",
       "      <td>0.0004</td>\n",
       "      <td>True</td>\n",
       "    </tr>\n",
       "    <tr>\n",
       "      <th>2</th>\n",
       "      <td>Feature 3</td>\n",
       "      <td>0.0019</td>\n",
       "      <td>True</td>\n",
       "    </tr>\n",
       "    <tr>\n",
       "      <th>3</th>\n",
       "      <td>Feature 4</td>\n",
       "      <td>0.0095</td>\n",
       "      <td>False</td>\n",
       "    </tr>\n",
       "    <tr>\n",
       "      <th>4</th>\n",
       "      <td>Feature 5</td>\n",
       "      <td>0.0201</td>\n",
       "      <td>False</td>\n",
       "    </tr>\n",
       "    <tr>\n",
       "      <th>5</th>\n",
       "      <td>Feature 6</td>\n",
       "      <td>0.0278</td>\n",
       "      <td>False</td>\n",
       "    </tr>\n",
       "    <tr>\n",
       "      <th>6</th>\n",
       "      <td>Feature 7</td>\n",
       "      <td>0.0298</td>\n",
       "      <td>False</td>\n",
       "    </tr>\n",
       "    <tr>\n",
       "      <th>7</th>\n",
       "      <td>Feature 8</td>\n",
       "      <td>0.0344</td>\n",
       "      <td>False</td>\n",
       "    </tr>\n",
       "    <tr>\n",
       "      <th>8</th>\n",
       "      <td>Feature 9</td>\n",
       "      <td>0.0459</td>\n",
       "      <td>False</td>\n",
       "    </tr>\n",
       "    <tr>\n",
       "      <th>9</th>\n",
       "      <td>Feature 10</td>\n",
       "      <td>0.3240</td>\n",
       "      <td>False</td>\n",
       "    </tr>\n",
       "    <tr>\n",
       "      <th>10</th>\n",
       "      <td>Feature 11</td>\n",
       "      <td>0.4262</td>\n",
       "      <td>False</td>\n",
       "    </tr>\n",
       "    <tr>\n",
       "      <th>11</th>\n",
       "      <td>Feature 12</td>\n",
       "      <td>0.5719</td>\n",
       "      <td>False</td>\n",
       "    </tr>\n",
       "    <tr>\n",
       "      <th>12</th>\n",
       "      <td>Feature 13</td>\n",
       "      <td>0.6528</td>\n",
       "      <td>False</td>\n",
       "    </tr>\n",
       "    <tr>\n",
       "      <th>13</th>\n",
       "      <td>Feature 14</td>\n",
       "      <td>0.7590</td>\n",
       "      <td>False</td>\n",
       "    </tr>\n",
       "    <tr>\n",
       "      <th>14</th>\n",
       "      <td>Feature 15</td>\n",
       "      <td>1.0000</td>\n",
       "      <td>False</td>\n",
       "    </tr>\n",
       "  </tbody>\n",
       "</table>\n",
       "</div>"
      ],
      "text/plain": [
       "      Features  P-value  Hypothesis Correction Result\n",
       "0    Feature 1   0.0001                          True\n",
       "1    Feature 2   0.0004                          True\n",
       "2    Feature 3   0.0019                          True\n",
       "3    Feature 4   0.0095                         False\n",
       "4    Feature 5   0.0201                         False\n",
       "5    Feature 6   0.0278                         False\n",
       "6    Feature 7   0.0298                         False\n",
       "7    Feature 8   0.0344                         False\n",
       "8    Feature 9   0.0459                         False\n",
       "9   Feature 10   0.3240                         False\n",
       "10  Feature 11   0.4262                         False\n",
       "11  Feature 12   0.5719                         False\n",
       "12  Feature 13   0.6528                         False\n",
       "13  Feature 14   0.7590                         False\n",
       "14  Feature 15   1.0000                         False"
      ]
     },
     "execution_count": 12,
     "metadata": {},
     "output_type": "execute_result"
    }
   ],
   "source": [
    "# Now, let’s try the Bonferroni Correction to our data sample\n",
    "#Set the alpha level for your desired significant level\n",
    "df['Hypothesis Correction Result'] = bonferroni(pvals, alpha = 0.05)\n",
    "df"
   ]
  },
  {
   "cell_type": "markdown",
   "id": "e1dfe40f",
   "metadata": {},
   "source": [
    "With the function from MultiPy, we end up either with True or False results. True means we Reject the Null Hypothesis, while False, we Fail to Reject the Null Hypothesis.\n",
    "\n",
    "From the Bonferroni Correction method, only three features are considered significant. Let’s try the Holm-Bonferroni method to see if there is any difference in the result."
   ]
  },
  {
   "cell_type": "code",
   "execution_count": 14,
   "id": "3c2fc8e3",
   "metadata": {
    "ExecuteTime": {
     "end_time": "2021-11-13T08:54:34.577679Z",
     "start_time": "2021-11-13T08:54:34.571265Z"
    }
   },
   "outputs": [
    {
     "data": {
      "text/html": [
       "<div>\n",
       "<style scoped>\n",
       "    .dataframe tbody tr th:only-of-type {\n",
       "        vertical-align: middle;\n",
       "    }\n",
       "\n",
       "    .dataframe tbody tr th {\n",
       "        vertical-align: top;\n",
       "    }\n",
       "\n",
       "    .dataframe thead th {\n",
       "        text-align: right;\n",
       "    }\n",
       "</style>\n",
       "<table border=\"1\" class=\"dataframe\">\n",
       "  <thead>\n",
       "    <tr style=\"text-align: right;\">\n",
       "      <th></th>\n",
       "      <th>Features</th>\n",
       "      <th>P-value</th>\n",
       "      <th>Hypothesis Correction Result</th>\n",
       "    </tr>\n",
       "  </thead>\n",
       "  <tbody>\n",
       "    <tr>\n",
       "      <th>0</th>\n",
       "      <td>Feature 1</td>\n",
       "      <td>0.0001</td>\n",
       "      <td>True</td>\n",
       "    </tr>\n",
       "    <tr>\n",
       "      <th>1</th>\n",
       "      <td>Feature 2</td>\n",
       "      <td>0.0004</td>\n",
       "      <td>True</td>\n",
       "    </tr>\n",
       "    <tr>\n",
       "      <th>2</th>\n",
       "      <td>Feature 3</td>\n",
       "      <td>0.0019</td>\n",
       "      <td>True</td>\n",
       "    </tr>\n",
       "    <tr>\n",
       "      <th>3</th>\n",
       "      <td>Feature 4</td>\n",
       "      <td>0.0095</td>\n",
       "      <td>False</td>\n",
       "    </tr>\n",
       "    <tr>\n",
       "      <th>4</th>\n",
       "      <td>Feature 5</td>\n",
       "      <td>0.0201</td>\n",
       "      <td>False</td>\n",
       "    </tr>\n",
       "    <tr>\n",
       "      <th>5</th>\n",
       "      <td>Feature 6</td>\n",
       "      <td>0.0278</td>\n",
       "      <td>False</td>\n",
       "    </tr>\n",
       "    <tr>\n",
       "      <th>6</th>\n",
       "      <td>Feature 7</td>\n",
       "      <td>0.0298</td>\n",
       "      <td>False</td>\n",
       "    </tr>\n",
       "    <tr>\n",
       "      <th>7</th>\n",
       "      <td>Feature 8</td>\n",
       "      <td>0.0344</td>\n",
       "      <td>False</td>\n",
       "    </tr>\n",
       "    <tr>\n",
       "      <th>8</th>\n",
       "      <td>Feature 9</td>\n",
       "      <td>0.0459</td>\n",
       "      <td>False</td>\n",
       "    </tr>\n",
       "    <tr>\n",
       "      <th>9</th>\n",
       "      <td>Feature 10</td>\n",
       "      <td>0.3240</td>\n",
       "      <td>False</td>\n",
       "    </tr>\n",
       "    <tr>\n",
       "      <th>10</th>\n",
       "      <td>Feature 11</td>\n",
       "      <td>0.4262</td>\n",
       "      <td>False</td>\n",
       "    </tr>\n",
       "    <tr>\n",
       "      <th>11</th>\n",
       "      <td>Feature 12</td>\n",
       "      <td>0.5719</td>\n",
       "      <td>False</td>\n",
       "    </tr>\n",
       "    <tr>\n",
       "      <th>12</th>\n",
       "      <td>Feature 13</td>\n",
       "      <td>0.6528</td>\n",
       "      <td>False</td>\n",
       "    </tr>\n",
       "    <tr>\n",
       "      <th>13</th>\n",
       "      <td>Feature 14</td>\n",
       "      <td>0.7590</td>\n",
       "      <td>False</td>\n",
       "    </tr>\n",
       "    <tr>\n",
       "      <th>14</th>\n",
       "      <td>Feature 15</td>\n",
       "      <td>1.0000</td>\n",
       "      <td>False</td>\n",
       "    </tr>\n",
       "  </tbody>\n",
       "</table>\n",
       "</div>"
      ],
      "text/plain": [
       "      Features  P-value  Hypothesis Correction Result\n",
       "0    Feature 1   0.0001                          True\n",
       "1    Feature 2   0.0004                          True\n",
       "2    Feature 3   0.0019                          True\n",
       "3    Feature 4   0.0095                         False\n",
       "4    Feature 5   0.0201                         False\n",
       "5    Feature 6   0.0278                         False\n",
       "6    Feature 7   0.0298                         False\n",
       "7    Feature 8   0.0344                         False\n",
       "8    Feature 9   0.0459                         False\n",
       "9   Feature 10   0.3240                         False\n",
       "10  Feature 11   0.4262                         False\n",
       "11  Feature 12   0.5719                         False\n",
       "12  Feature 13   0.6528                         False\n",
       "13  Feature 14   0.7590                         False\n",
       "14  Feature 15   1.0000                         False"
      ]
     },
     "execution_count": 14,
     "metadata": {},
     "output_type": "execute_result"
    }
   ],
   "source": [
    "df['Hypothesis Correction Result'] = holm_bonferroni(pvals, alpha = 0.05)\n",
    "df"
   ]
  },
  {
   "cell_type": "markdown",
   "id": "d4ccd1be",
   "metadata": {},
   "source": [
    "No change at all in the result. It seems the conservative method FWER has restricted the significant result we could get. Let’s see if there is any difference if we use the BH method."
   ]
  },
  {
   "cell_type": "code",
   "execution_count": 16,
   "id": "dde65028",
   "metadata": {
    "ExecuteTime": {
     "end_time": "2021-11-13T08:56:00.998417Z",
     "start_time": "2021-11-13T08:56:00.989218Z"
    }
   },
   "outputs": [
    {
     "data": {
      "text/html": [
       "<div>\n",
       "<style scoped>\n",
       "    .dataframe tbody tr th:only-of-type {\n",
       "        vertical-align: middle;\n",
       "    }\n",
       "\n",
       "    .dataframe tbody tr th {\n",
       "        vertical-align: top;\n",
       "    }\n",
       "\n",
       "    .dataframe thead th {\n",
       "        text-align: right;\n",
       "    }\n",
       "</style>\n",
       "<table border=\"1\" class=\"dataframe\">\n",
       "  <thead>\n",
       "    <tr style=\"text-align: right;\">\n",
       "      <th></th>\n",
       "      <th>Features</th>\n",
       "      <th>P-value</th>\n",
       "      <th>Hypothesis Correction Result</th>\n",
       "    </tr>\n",
       "  </thead>\n",
       "  <tbody>\n",
       "    <tr>\n",
       "      <th>0</th>\n",
       "      <td>Feature 1</td>\n",
       "      <td>0.0001</td>\n",
       "      <td>True</td>\n",
       "    </tr>\n",
       "    <tr>\n",
       "      <th>1</th>\n",
       "      <td>Feature 2</td>\n",
       "      <td>0.0004</td>\n",
       "      <td>True</td>\n",
       "    </tr>\n",
       "    <tr>\n",
       "      <th>2</th>\n",
       "      <td>Feature 3</td>\n",
       "      <td>0.0019</td>\n",
       "      <td>True</td>\n",
       "    </tr>\n",
       "    <tr>\n",
       "      <th>3</th>\n",
       "      <td>Feature 4</td>\n",
       "      <td>0.0095</td>\n",
       "      <td>True</td>\n",
       "    </tr>\n",
       "    <tr>\n",
       "      <th>4</th>\n",
       "      <td>Feature 5</td>\n",
       "      <td>0.0201</td>\n",
       "      <td>False</td>\n",
       "    </tr>\n",
       "    <tr>\n",
       "      <th>5</th>\n",
       "      <td>Feature 6</td>\n",
       "      <td>0.0278</td>\n",
       "      <td>False</td>\n",
       "    </tr>\n",
       "    <tr>\n",
       "      <th>6</th>\n",
       "      <td>Feature 7</td>\n",
       "      <td>0.0298</td>\n",
       "      <td>False</td>\n",
       "    </tr>\n",
       "    <tr>\n",
       "      <th>7</th>\n",
       "      <td>Feature 8</td>\n",
       "      <td>0.0344</td>\n",
       "      <td>False</td>\n",
       "    </tr>\n",
       "    <tr>\n",
       "      <th>8</th>\n",
       "      <td>Feature 9</td>\n",
       "      <td>0.0459</td>\n",
       "      <td>False</td>\n",
       "    </tr>\n",
       "    <tr>\n",
       "      <th>9</th>\n",
       "      <td>Feature 10</td>\n",
       "      <td>0.3240</td>\n",
       "      <td>False</td>\n",
       "    </tr>\n",
       "    <tr>\n",
       "      <th>10</th>\n",
       "      <td>Feature 11</td>\n",
       "      <td>0.4262</td>\n",
       "      <td>False</td>\n",
       "    </tr>\n",
       "    <tr>\n",
       "      <th>11</th>\n",
       "      <td>Feature 12</td>\n",
       "      <td>0.5719</td>\n",
       "      <td>False</td>\n",
       "    </tr>\n",
       "    <tr>\n",
       "      <th>12</th>\n",
       "      <td>Feature 13</td>\n",
       "      <td>0.6528</td>\n",
       "      <td>False</td>\n",
       "    </tr>\n",
       "    <tr>\n",
       "      <th>13</th>\n",
       "      <td>Feature 14</td>\n",
       "      <td>0.7590</td>\n",
       "      <td>False</td>\n",
       "    </tr>\n",
       "    <tr>\n",
       "      <th>14</th>\n",
       "      <td>Feature 15</td>\n",
       "      <td>1.0000</td>\n",
       "      <td>False</td>\n",
       "    </tr>\n",
       "  </tbody>\n",
       "</table>\n",
       "</div>"
      ],
      "text/plain": [
       "      Features  P-value  Hypothesis Correction Result\n",
       "0    Feature 1   0.0001                          True\n",
       "1    Feature 2   0.0004                          True\n",
       "2    Feature 3   0.0019                          True\n",
       "3    Feature 4   0.0095                          True\n",
       "4    Feature 5   0.0201                         False\n",
       "5    Feature 6   0.0278                         False\n",
       "6    Feature 7   0.0298                         False\n",
       "7    Feature 8   0.0344                         False\n",
       "8    Feature 9   0.0459                         False\n",
       "9   Feature 10   0.3240                         False\n",
       "10  Feature 11   0.4262                         False\n",
       "11  Feature 12   0.5719                         False\n",
       "12  Feature 13   0.6528                         False\n",
       "13  Feature 14   0.7590                         False\n",
       "14  Feature 15   1.0000                         False"
      ]
     },
     "execution_count": 16,
     "metadata": {},
     "output_type": "execute_result"
    }
   ],
   "source": [
    "#set the q parameter to the FDR rate you want\n",
    "df['Hypothesis Correction Result'] = lsu(pvals, q = 0.05)\n",
    "df"
   ]
  },
  {
   "cell_type": "markdown",
   "id": "65427db2",
   "metadata": {},
   "source": [
    "The less strict method FDR resulted in a different result compared to the FWER method. In this case, we have four significant features. The FDR is proven to laxer to find the features, after all.\n",
    "\n",
    "If you want to learn more about the methods available for Multiple Hypothesis Correction, you might want to visit the MultiPy homepage."
   ]
  },
  {
   "cell_type": "code",
   "execution_count": null,
   "id": "bba9c618",
   "metadata": {},
   "outputs": [],
   "source": [
    "from statsmodels.stats.multitest import multipletests"
   ]
  },
  {
   "cell_type": "code",
   "execution_count": 20,
   "id": "9bb446aa",
   "metadata": {
    "ExecuteTime": {
     "end_time": "2021-11-13T09:22:15.230737Z",
     "start_time": "2021-11-13T09:22:15.225233Z"
    }
   },
   "outputs": [],
   "source": [
    "reject, p_value_corrected, sidak_corr, bonf_corr = multipletests(pvals, alpha=0.05, method='fdr_bh')"
   ]
  },
  {
   "cell_type": "markdown",
   "id": "853a89d1",
   "metadata": {},
   "source": [
    "\n",
    "    reject — булевский массив длины 𝑚, в котором True — нулевую гипотезу можно отвергнуть и False — если нельзя\n",
    "    pvals_corrected — массив длины 𝑚 со скорректированными p-value\n",
    "    alphacSidak — поправка Шидака\n",
    "    alphacBonf — поправка Бонферонни\n"
   ]
  },
  {
   "cell_type": "markdown",
   "id": "c0695d95",
   "metadata": {},
   "source": [
    "\n",
    "Поправка Шидака\n",
    "\n",
    "\n",
    "Как и в поправке Бонферонни, поправка Шидака корректирует $\\alpha$ (уровни значимости для проверки единичных гипотез). Она также сохраняет $F W E R \\leq \\alpha$\n",
    "Посчитаем, чему равна поправка Шидака. $P(V \\leq 1)=1-P(V=0) \\leq 1-\\left(1-\\alpha_{1}\\right)^{m}=\\alpha$, где $\\alpha-$ заданный нами уровень значимости для семейства гипотез и $\\alpha_{1}-$ искомый уровень значимости для проверки каждой единичной гипотезы.\n",
    "Выразим $\\alpha_{1}$ через $\\alpha$ и получим $\\alpha_{1}=1-(1-\\alpha)^{1 / m} \\mid$"
   ]
  },
  {
   "cell_type": "markdown",
   "id": "f5814b4b",
   "metadata": {},
   "source": [
    "Метод Шидака-Холма\n",
    "\n",
    "\n",
    "Как и в предыдущем методе, где отметился Холм, используется итерационная корректировка р-value. Аналогично сортируем наши р-value по возрастанию и корректируем их согласно поправке Шидака: $\\alpha_{1}=1-(1-\\alpha)^{\\frac{\\pi}{m}}$\n",
    "$$\n",
    "\\begin{array}{l}\n",
    "\\alpha_{i}=1-(1-\\alpha)^{\\frac{\\alpha}{m-l+1}} \\\\\n",
    "\\ldots \\\\\n",
    "\\alpha_{m}=\\alpha\n",
    "\\end{array}\n",
    "$$\n",
    "Обладает несколькими свойствами:\n",
    "1. Контролирует FWER на уровне значимости $\\alpha$, если статистики независимы в совокупности.\n",
    "2. Если статистики независимы в совокупности, нельзя построить контролирующую FWER на уровне $\\alpha$ процедуру мощнее, чем метод Шидака-Холма.\n",
    "3. При больших $m$ мало отличается от метода Холма"
   ]
  }
 ],
 "metadata": {
  "hide_input": false,
  "kernelspec": {
   "display_name": "Python 3 (ipykernel)",
   "language": "python",
   "name": "python3"
  },
  "language_info": {
   "codemirror_mode": {
    "name": "ipython",
    "version": 3
   },
   "file_extension": ".py",
   "mimetype": "text/x-python",
   "name": "python",
   "nbconvert_exporter": "python",
   "pygments_lexer": "ipython3",
   "version": "3.10.6"
  },
  "latex_envs": {
   "LaTeX_envs_menu_present": true,
   "autoclose": true,
   "autocomplete": true,
   "bibliofile": "biblio.bib",
   "cite_by": "apalike",
   "current_citInitial": 1,
   "eqLabelWithNumbers": true,
   "eqNumInitial": 1,
   "hotkeys": {
    "equation": "Ctrl-E",
    "itemize": "Ctrl-I"
   },
   "labels_anchors": false,
   "latex_user_defs": false,
   "report_style_numbering": false,
   "user_envs_cfg": false
  },
  "toc": {
   "base_numbering": 1,
   "nav_menu": {},
   "number_sections": true,
   "sideBar": true,
   "skip_h1_title": false,
   "title_cell": "Table of Contents",
   "title_sidebar": "Contents",
   "toc_cell": false,
   "toc_position": {},
   "toc_section_display": true,
   "toc_window_display": false
  },
  "varInspector": {
   "cols": {
    "lenName": 16,
    "lenType": 16,
    "lenVar": 40
   },
   "kernels_config": {
    "python": {
     "delete_cmd_postfix": "",
     "delete_cmd_prefix": "del ",
     "library": "var_list.py",
     "varRefreshCmd": "print(var_dic_list())"
    },
    "r": {
     "delete_cmd_postfix": ") ",
     "delete_cmd_prefix": "rm(",
     "library": "var_list.r",
     "varRefreshCmd": "cat(var_dic_list()) "
    }
   },
   "types_to_exclude": [
    "module",
    "function",
    "builtin_function_or_method",
    "instance",
    "_Feature"
   ],
   "window_display": false
  }
 },
 "nbformat": 4,
 "nbformat_minor": 5
}

{
 "cells": [
  {
   "cell_type": "code",
   "execution_count": null,
   "metadata": {
    "ExecuteTime": {
     "end_time": "2022-11-14T10:38:30.911149Z",
     "start_time": "2022-11-14T10:38:30.848Z"
    }
   },
   "outputs": [],
   "source": [
    "df = read.csv('df_matching.csv') \n",
    "df_green = df[df['green'] == 1,]\n",
    "df_not_green = df[df['green'] != 1,]"
   ]
  },
  {
   "cell_type": "code",
   "execution_count": null,
   "metadata": {
    "ExecuteTime": {
     "end_time": "2022-11-14T10:38:31.268623Z",
     "start_time": "2022-11-14T10:38:31.240Z"
    }
   },
   "outputs": [],
   "source": [
    "dim(df_green)\n",
    "dim(df_not_green)"
   ]
  },
  {
   "cell_type": "markdown",
   "metadata": {},
   "source": [
    "### Mod 2"
   ]
  },
  {
   "cell_type": "code",
   "execution_count": null,
   "metadata": {
    "ExecuteTime": {
     "end_time": "2022-11-14T10:38:32.105893Z",
     "start_time": "2022-11-14T10:38:32.098Z"
    }
   },
   "outputs": [],
   "source": [
    "# MATCHING:\n",
    "# Issue size\n",
    "# Credit Rating\n",
    "# Maturity\n",
    "# Coupons"
   ]
  },
  {
   "cell_type": "code",
   "execution_count": null,
   "metadata": {
    "ExecuteTime": {
     "end_time": "2022-11-14T10:38:32.387776Z",
     "start_time": "2022-11-14T10:38:32.359Z"
    }
   },
   "outputs": [],
   "source": [
    "df_matching = read.csv('df_matching.csv')"
   ]
  },
  {
   "cell_type": "code",
   "execution_count": null,
   "metadata": {
    "ExecuteTime": {
     "end_time": "2022-11-14T10:38:32.893317Z",
     "start_time": "2022-11-14T10:38:32.634Z"
    }
   },
   "outputs": [],
   "source": [
    "library(MatchIt)"
   ]
  },
  {
   "cell_type": "code",
   "execution_count": null,
   "metadata": {
    "ExecuteTime": {
     "end_time": "2022-11-14T10:38:33.292440Z",
     "start_time": "2022-11-14T10:38:32.851Z"
    }
   },
   "outputs": [],
   "source": [
    "mat <- matchit(green ~ Amt_Issued + mty_years_frm + \n",
    "               years_to_maturity + YAS_Yield_Spread +\n",
    "               X260D_volatility +  Cpn + \n",
    "               comp_return + roe + roe_bit  + \n",
    "               roc + number_of_former_directors + \n",
    "               number_of_executors, data = df_matching,\n",
    "                 method = \"nearest\", distance = \"glm\")\n",
    "summary(mat, un = FALSE)"
   ]
  },
  {
   "cell_type": "code",
   "execution_count": null,
   "metadata": {
    "ExecuteTime": {
     "end_time": "2022-11-14T10:38:34.357965Z",
     "start_time": "2022-11-14T10:38:33.107Z"
    }
   },
   "outputs": [],
   "source": [
    "plot(mat, type = \"jitter\", interactive = FALSE)"
   ]
  },
  {
   "cell_type": "code",
   "execution_count": null,
   "metadata": {
    "ExecuteTime": {
     "end_time": "2022-11-14T10:38:35.275992Z",
     "start_time": "2022-11-14T10:38:34.098Z"
    }
   },
   "outputs": [],
   "source": [
    "plot(summary(mat))"
   ]
  },
  {
   "cell_type": "code",
   "execution_count": null,
   "metadata": {
    "ExecuteTime": {
     "end_time": "2022-11-14T10:38:36.184422Z",
     "start_time": "2022-11-14T10:38:34.548Z"
    }
   },
   "outputs": [],
   "source": [
    "mch <- match.data(mat)"
   ]
  },
  {
   "cell_type": "code",
   "execution_count": null,
   "metadata": {
    "ExecuteTime": {
     "end_time": "2022-11-14T10:38:37.897817Z",
     "start_time": "2022-11-14T10:38:36.472Z"
    }
   },
   "outputs": [],
   "source": [
    "df_diff = data.frame(matrix(NA, nrow=0,ncol=30))\n",
    "for (i in 1:177){\n",
    "    df_1 = mch[mch['subclass']==i,]\n",
    "    df_diff =  rbind(df_diff, df_1[df_1['green']==1,]  -  df_1[df_1['green']==0,] )\n",
    "}"
   ]
  },
  {
   "cell_type": "code",
   "execution_count": null,
   "metadata": {
    "ExecuteTime": {
     "end_time": "2022-11-14T10:38:44.047684Z",
     "start_time": "2022-11-14T10:38:43.319Z"
    },
    "scrolled": false
   },
   "outputs": [],
   "source": [
    "mod_mat <- lm(BVALMidYTM ~ Amt_Issued + mty_years_frm + years_to_maturity + YAS_Yield_Spread +  X260D_volatility +  Cpn + comp_return + \n",
    "              roe + roe_bit  + roc +  number_of_former_directors + number_of_executors + \n",
    "              ecological_index + women_on_board + independent_directors + independence_num  + \n",
    "              + solvency + country_risk_num + rep_risk_num + crs_rating + crif_rating + crif_peer_rating + \n",
    "              + ecological_risk + stability, data = df_diff )\n",
    "\n",
    "summary(mod_mat)"
   ]
  },
  {
   "cell_type": "code",
   "execution_count": null,
   "metadata": {
    "ExecuteTime": {
     "end_time": "2022-11-14T10:38:45.065679Z",
     "start_time": "2022-11-14T10:38:43.577Z"
    }
   },
   "outputs": [],
   "source": [
    "mod_mat <- lm(BVALMidYTM ~ ecological_index + women_on_board + independent_directors + independence_num  + \n",
    "              + solvency + country_risk_num + rep_risk_num + crs_rating + crif_rating + crif_peer_rating + \n",
    "              + ecological_risk + stability, data = df_diff )\n",
    "\n",
    "summary(mod_mat)"
   ]
  },
  {
   "cell_type": "code",
   "execution_count": null,
   "metadata": {},
   "outputs": [],
   "source": []
  }
 ],
 "metadata": {
  "hide_input": false,
  "kernelspec": {
   "display_name": "R 4.1",
   "language": "R",
   "name": "ir41"
  },
  "language_info": {
   "codemirror_mode": "r",
   "file_extension": ".r",
   "mimetype": "text/x-r-source",
   "name": "R",
   "pygments_lexer": "r",
   "version": "4.1.2"
  },
  "latex_envs": {
   "LaTeX_envs_menu_present": true,
   "autoclose": true,
   "autocomplete": true,
   "bibliofile": "biblio.bib",
   "cite_by": "apalike",
   "current_citInitial": 1,
   "eqLabelWithNumbers": true,
   "eqNumInitial": 1,
   "hotkeys": {
    "equation": "Ctrl-E",
    "itemize": "Ctrl-I"
   },
   "labels_anchors": false,
   "latex_user_defs": false,
   "report_style_numbering": false,
   "user_envs_cfg": false
  },
  "toc": {
   "base_numbering": 1,
   "nav_menu": {},
   "number_sections": true,
   "sideBar": true,
   "skip_h1_title": false,
   "title_cell": "Table of Contents",
   "title_sidebar": "Contents",
   "toc_cell": false,
   "toc_position": {},
   "toc_section_display": true,
   "toc_window_display": false
  },
  "varInspector": {
   "cols": {
    "lenName": 16,
    "lenType": 16,
    "lenVar": 40
   },
   "kernels_config": {
    "python": {
     "delete_cmd_postfix": "",
     "delete_cmd_prefix": "del ",
     "library": "var_list.py",
     "varRefreshCmd": "print(var_dic_list())"
    },
    "r": {
     "delete_cmd_postfix": ") ",
     "delete_cmd_prefix": "rm(",
     "library": "var_list.r",
     "varRefreshCmd": "cat(var_dic_list()) "
    }
   },
   "types_to_exclude": [
    "module",
    "function",
    "builtin_function_or_method",
    "instance",
    "_Feature"
   ],
   "window_display": false
  }
 },
 "nbformat": 4,
 "nbformat_minor": 4
}

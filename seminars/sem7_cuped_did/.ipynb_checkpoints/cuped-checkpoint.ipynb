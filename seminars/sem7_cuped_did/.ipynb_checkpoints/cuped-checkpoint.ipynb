{
 "cells": [
  {
   "cell_type": "code",
   "execution_count": 3,
   "id": "cd0e34c0",
   "metadata": {
    "ExecuteTime": {
     "end_time": "2021-10-09T12:10:33.902222Z",
     "start_time": "2021-10-09T12:10:33.679493Z"
    }
   },
   "outputs": [],
   "source": [
    "import numpy.random as npr \n",
    "import numpy as np\n",
    "import pandas as pd"
   ]
  },
  {
   "cell_type": "code",
   "execution_count": 167,
   "id": "f1867cd0",
   "metadata": {
    "ExecuteTime": {
     "end_time": "2021-10-09T12:47:41.157573Z",
     "start_time": "2021-10-09T12:47:41.154708Z"
    }
   },
   "outputs": [],
   "source": [
    "nusers = 100\n",
    "treeatment = npr.choice([0,1], nusers)\n",
    "group = npr.choice(np.arange(7),nusers)+1\n",
    "covariate = npr.normal(0,1,nusers)\n",
    "metric = 1 * covariate + npr.normal(0,0.1*group,nusers) +  0.1*treeatment                      \n"
   ]
  },
  {
   "cell_type": "code",
   "execution_count": 168,
   "id": "d301cef7",
   "metadata": {
    "ExecuteTime": {
     "end_time": "2021-10-09T12:47:41.360042Z",
     "start_time": "2021-10-09T12:47:41.352492Z"
    }
   },
   "outputs": [],
   "source": [
    "df1 = pd.DataFrame([treeatment, group, covariate, metric], index=['treeatment', 'group', 'covariate', 'metric']).T\n",
    "# df1"
   ]
  },
  {
   "cell_type": "code",
   "execution_count": 169,
   "id": "cf197e4d",
   "metadata": {
    "ExecuteTime": {
     "end_time": "2021-10-09T12:47:41.628451Z",
     "start_time": "2021-10-09T12:47:41.622866Z"
    }
   },
   "outputs": [],
   "source": [
    "df1['metric_cuped'] = metric - np.cov(metric, covariate)[0,1]/np.var(covariate) *  covariate"
   ]
  },
  {
   "cell_type": "code",
   "execution_count": 170,
   "id": "4da34a96",
   "metadata": {
    "ExecuteTime": {
     "end_time": "2021-10-09T12:47:41.956206Z",
     "start_time": "2021-10-09T12:47:41.941474Z"
    }
   },
   "outputs": [
    {
     "data": {
      "text/html": [
       "<div>\n",
       "<style scoped>\n",
       "    .dataframe tbody tr th:only-of-type {\n",
       "        vertical-align: middle;\n",
       "    }\n",
       "\n",
       "    .dataframe tbody tr th {\n",
       "        vertical-align: top;\n",
       "    }\n",
       "\n",
       "    .dataframe thead th {\n",
       "        text-align: right;\n",
       "    }\n",
       "</style>\n",
       "<table border=\"1\" class=\"dataframe\">\n",
       "  <thead>\n",
       "    <tr style=\"text-align: right;\">\n",
       "      <th></th>\n",
       "      <th>treeatment</th>\n",
       "      <th>group</th>\n",
       "      <th>covariate</th>\n",
       "      <th>metric</th>\n",
       "      <th>metric_cuped</th>\n",
       "    </tr>\n",
       "  </thead>\n",
       "  <tbody>\n",
       "    <tr>\n",
       "      <th>0</th>\n",
       "      <td>0.0</td>\n",
       "      <td>6.0</td>\n",
       "      <td>-0.040672</td>\n",
       "      <td>-0.504975</td>\n",
       "      <td>-0.463131</td>\n",
       "    </tr>\n",
       "    <tr>\n",
       "      <th>1</th>\n",
       "      <td>1.0</td>\n",
       "      <td>6.0</td>\n",
       "      <td>0.697429</td>\n",
       "      <td>0.797729</td>\n",
       "      <td>0.080215</td>\n",
       "    </tr>\n",
       "    <tr>\n",
       "      <th>2</th>\n",
       "      <td>1.0</td>\n",
       "      <td>2.0</td>\n",
       "      <td>-1.117829</td>\n",
       "      <td>-1.190340</td>\n",
       "      <td>-0.040318</td>\n",
       "    </tr>\n",
       "    <tr>\n",
       "      <th>3</th>\n",
       "      <td>1.0</td>\n",
       "      <td>3.0</td>\n",
       "      <td>-0.595994</td>\n",
       "      <td>-0.251862</td>\n",
       "      <td>0.361297</td>\n",
       "    </tr>\n",
       "    <tr>\n",
       "      <th>4</th>\n",
       "      <td>1.0</td>\n",
       "      <td>3.0</td>\n",
       "      <td>-0.232208</td>\n",
       "      <td>0.199431</td>\n",
       "      <td>0.438326</td>\n",
       "    </tr>\n",
       "    <tr>\n",
       "      <th>...</th>\n",
       "      <td>...</td>\n",
       "      <td>...</td>\n",
       "      <td>...</td>\n",
       "      <td>...</td>\n",
       "      <td>...</td>\n",
       "    </tr>\n",
       "    <tr>\n",
       "      <th>95</th>\n",
       "      <td>1.0</td>\n",
       "      <td>5.0</td>\n",
       "      <td>-1.454938</td>\n",
       "      <td>-0.704111</td>\n",
       "      <td>0.792728</td>\n",
       "    </tr>\n",
       "    <tr>\n",
       "      <th>96</th>\n",
       "      <td>1.0</td>\n",
       "      <td>3.0</td>\n",
       "      <td>-2.030283</td>\n",
       "      <td>-2.007129</td>\n",
       "      <td>0.081625</td>\n",
       "    </tr>\n",
       "    <tr>\n",
       "      <th>97</th>\n",
       "      <td>0.0</td>\n",
       "      <td>6.0</td>\n",
       "      <td>1.136361</td>\n",
       "      <td>1.628019</td>\n",
       "      <td>0.458932</td>\n",
       "    </tr>\n",
       "    <tr>\n",
       "      <th>98</th>\n",
       "      <td>1.0</td>\n",
       "      <td>5.0</td>\n",
       "      <td>1.456999</td>\n",
       "      <td>1.942959</td>\n",
       "      <td>0.443999</td>\n",
       "    </tr>\n",
       "    <tr>\n",
       "      <th>99</th>\n",
       "      <td>0.0</td>\n",
       "      <td>3.0</td>\n",
       "      <td>1.790863</td>\n",
       "      <td>2.080240</td>\n",
       "      <td>0.237802</td>\n",
       "    </tr>\n",
       "  </tbody>\n",
       "</table>\n",
       "<p>100 rows × 5 columns</p>\n",
       "</div>"
      ],
      "text/plain": [
       "    treeatment  group  covariate    metric  metric_cuped\n",
       "0          0.0    6.0  -0.040672 -0.504975     -0.463131\n",
       "1          1.0    6.0   0.697429  0.797729      0.080215\n",
       "2          1.0    2.0  -1.117829 -1.190340     -0.040318\n",
       "3          1.0    3.0  -0.595994 -0.251862      0.361297\n",
       "4          1.0    3.0  -0.232208  0.199431      0.438326\n",
       "..         ...    ...        ...       ...           ...\n",
       "95         1.0    5.0  -1.454938 -0.704111      0.792728\n",
       "96         1.0    3.0  -2.030283 -2.007129      0.081625\n",
       "97         0.0    6.0   1.136361  1.628019      0.458932\n",
       "98         1.0    5.0   1.456999  1.942959      0.443999\n",
       "99         0.0    3.0   1.790863  2.080240      0.237802\n",
       "\n",
       "[100 rows x 5 columns]"
      ]
     },
     "execution_count": 170,
     "metadata": {},
     "output_type": "execute_result"
    }
   ],
   "source": [
    "df1"
   ]
  },
  {
   "cell_type": "code",
   "execution_count": 171,
   "id": "efd851d5",
   "metadata": {
    "ExecuteTime": {
     "end_time": "2021-10-09T12:47:42.302540Z",
     "start_time": "2021-10-09T12:47:42.298214Z"
    }
   },
   "outputs": [],
   "source": [
    "import statsmodels.stats.weightstats as swm"
   ]
  },
  {
   "cell_type": "code",
   "execution_count": 172,
   "id": "baca3083",
   "metadata": {
    "ExecuteTime": {
     "end_time": "2021-10-09T12:47:42.712619Z",
     "start_time": "2021-10-09T12:47:42.709208Z"
    }
   },
   "outputs": [],
   "source": [
    "x = df1['metric'][df1['treeatment']==0]\n",
    "y = df1['metric'][df1['treeatment']!=0]"
   ]
  },
  {
   "cell_type": "code",
   "execution_count": 173,
   "id": "8d193c0f",
   "metadata": {
    "ExecuteTime": {
     "end_time": "2021-10-09T12:47:43.131245Z",
     "start_time": "2021-10-09T12:47:43.125646Z"
    }
   },
   "outputs": [
    {
     "data": {
      "text/plain": [
       "(-0.8282586095447961, 0.40956883886890094, 96.4529375876847)"
      ]
     },
     "execution_count": 173,
     "metadata": {},
     "output_type": "execute_result"
    }
   ],
   "source": [
    "swm.ttest_ind(x,y,usevar='unequal')"
   ]
  },
  {
   "cell_type": "code",
   "execution_count": 174,
   "id": "de497ce1",
   "metadata": {
    "ExecuteTime": {
     "end_time": "2021-10-09T12:47:43.506370Z",
     "start_time": "2021-10-09T12:47:43.495148Z"
    }
   },
   "outputs": [
    {
     "data": {
      "text/plain": [
       "(-2.156703555632967, 0.033676103917903044, 90.6173923145556)"
      ]
     },
     "execution_count": 174,
     "metadata": {},
     "output_type": "execute_result"
    }
   ],
   "source": [
    "x = df1['metric_cuped'][df1['treeatment']==0]\n",
    "y = df1['metric_cuped'][df1['treeatment']!=0]\n",
    "swm.ttest_ind(x,y,usevar='unequal')"
   ]
  },
  {
   "cell_type": "code",
   "execution_count": null,
   "id": "53e29099",
   "metadata": {},
   "outputs": [],
   "source": []
  },
  {
   "cell_type": "code",
   "execution_count": 175,
   "id": "2838b152",
   "metadata": {
    "ExecuteTime": {
     "end_time": "2021-10-09T12:47:44.549948Z",
     "start_time": "2021-10-09T12:47:44.547614Z"
    }
   },
   "outputs": [],
   "source": [
    "import statsmodels.api as sm"
   ]
  },
  {
   "cell_type": "code",
   "execution_count": 176,
   "id": "e9a2714b",
   "metadata": {
    "ExecuteTime": {
     "end_time": "2021-10-09T12:47:44.858149Z",
     "start_time": "2021-10-09T12:47:44.848171Z"
    }
   },
   "outputs": [],
   "source": [
    "x = df1['covariate']\n",
    "x = sm.add_constant(x)\n",
    "model = sm.OLS(df1['metric'], x)"
   ]
  },
  {
   "cell_type": "code",
   "execution_count": 177,
   "id": "50d233b3",
   "metadata": {
    "ExecuteTime": {
     "end_time": "2021-10-09T12:47:45.236082Z",
     "start_time": "2021-10-09T12:47:45.230214Z"
    }
   },
   "outputs": [],
   "source": [
    "result = model.fit()"
   ]
  },
  {
   "cell_type": "code",
   "execution_count": 178,
   "id": "c67e4458",
   "metadata": {
    "ExecuteTime": {
     "end_time": "2021-10-09T12:47:45.553630Z",
     "start_time": "2021-10-09T12:47:45.542814Z"
    }
   },
   "outputs": [
    {
     "name": "stdout",
     "output_type": "stream",
     "text": [
      "                            OLS Regression Results                            \n",
      "==============================================================================\n",
      "Dep. Variable:                 metric   R-squared:                       0.860\n",
      "Model:                            OLS   Adj. R-squared:                  0.858\n",
      "Method:                 Least Squares   F-statistic:                     601.0\n",
      "Date:                Sat, 09 Oct 2021   Prob (F-statistic):           1.34e-43\n",
      "Time:                        15:47:45   Log-Likelihood:                -51.760\n",
      "No. Observations:                 100   AIC:                             107.5\n",
      "Df Residuals:                      98   BIC:                             112.7\n",
      "Df Model:                           1                                         \n",
      "Covariance Type:            nonrobust                                         \n",
      "==============================================================================\n",
      "                 coef    std err          t      P>|t|      [0.025      0.975]\n",
      "------------------------------------------------------------------------------\n",
      "const          0.0310      0.041      0.755      0.452      -0.050       0.112\n",
      "covariate      1.0185      0.042     24.516      0.000       0.936       1.101\n",
      "==============================================================================\n",
      "Omnibus:                        5.280   Durbin-Watson:                   1.565\n",
      "Prob(Omnibus):                  0.071   Jarque-Bera (JB):                7.204\n",
      "Skew:                          -0.139   Prob(JB):                       0.0273\n",
      "Kurtosis:                       4.285   Cond. No.                         1.03\n",
      "==============================================================================\n",
      "\n",
      "Notes:\n",
      "[1] Standard Errors assume that the covariance matrix of the errors is correctly specified.\n"
     ]
    }
   ],
   "source": [
    "print(result.summary())"
   ]
  },
  {
   "cell_type": "code",
   "execution_count": 179,
   "id": "bbec5b2a",
   "metadata": {
    "ExecuteTime": {
     "end_time": "2021-10-09T12:47:46.063233Z",
     "start_time": "2021-10-09T12:47:46.038326Z"
    }
   },
   "outputs": [
    {
     "name": "stdout",
     "output_type": "stream",
     "text": [
      "                            OLS Regression Results                            \n",
      "==============================================================================\n",
      "Dep. Variable:                      y   R-squared:                       0.046\n",
      "Model:                            OLS   Adj. R-squared:                  0.037\n",
      "Method:                 Least Squares   F-statistic:                     4.751\n",
      "Date:                Sat, 09 Oct 2021   Prob (F-statistic):             0.0317\n",
      "Time:                        15:47:46   Log-Likelihood:                -49.393\n",
      "No. Observations:                 100   AIC:                             102.8\n",
      "Df Residuals:                      98   BIC:                             108.0\n",
      "Df Model:                           1                                         \n",
      "Covariance Type:            nonrobust                                         \n",
      "==============================================================================\n",
      "                 coef    std err          t      P>|t|      [0.025      0.975]\n",
      "------------------------------------------------------------------------------\n",
      "const         -0.0927      0.058     -1.587      0.116      -0.209       0.023\n",
      "treeatment     0.1749      0.080      2.180      0.032       0.016       0.334\n",
      "==============================================================================\n",
      "Omnibus:                        6.749   Durbin-Watson:                   1.677\n",
      "Prob(Omnibus):                  0.034   Jarque-Bera (JB):               11.918\n",
      "Skew:                          -0.041   Prob(JB):                      0.00258\n",
      "Kurtosis:                       4.689   Cond. No.                         2.69\n",
      "==============================================================================\n",
      "\n",
      "Notes:\n",
      "[1] Standard Errors assume that the covariance matrix of the errors is correctly specified.\n"
     ]
    }
   ],
   "source": [
    "x = df1['treeatment']\n",
    "x = sm.add_constant(x)\n",
    "model = sm.OLS(result.resid, x)\n",
    "result = model.fit()\n",
    "print(result.summary())"
   ]
  },
  {
   "cell_type": "code",
   "execution_count": 180,
   "id": "d561b005",
   "metadata": {
    "ExecuteTime": {
     "end_time": "2021-10-09T12:47:46.716656Z",
     "start_time": "2021-10-09T12:47:46.686855Z"
    }
   },
   "outputs": [
    {
     "name": "stdout",
     "output_type": "stream",
     "text": [
      "                            OLS Regression Results                            \n",
      "==============================================================================\n",
      "Dep. Variable:                 metric   R-squared:                       0.866\n",
      "Model:                            OLS   Adj. R-squared:                  0.864\n",
      "Method:                 Least Squares   F-statistic:                     314.2\n",
      "Date:                Sat, 09 Oct 2021   Prob (F-statistic):           4.16e-43\n",
      "Time:                        15:47:46   Log-Likelihood:                -49.393\n",
      "No. Observations:                 100   AIC:                             104.8\n",
      "Df Residuals:                      97   BIC:                             112.6\n",
      "Df Model:                           2                                         \n",
      "Covariance Type:            nonrobust                                         \n",
      "==============================================================================\n",
      "                 coef    std err          t      P>|t|      [0.025      0.975]\n",
      "------------------------------------------------------------------------------\n",
      "const         -0.0618      0.059     -1.051      0.296      -0.178       0.055\n",
      "covariate      1.0184      0.041     24.971      0.000       0.937       1.099\n",
      "treeatment     0.1749      0.081      2.169      0.033       0.015       0.335\n",
      "==============================================================================\n",
      "Omnibus:                        6.745   Durbin-Watson:                   1.677\n",
      "Prob(Omnibus):                  0.034   Jarque-Bera (JB):               11.904\n",
      "Skew:                          -0.040   Prob(JB):                      0.00260\n",
      "Kurtosis:                       4.688   Cond. No.                         2.70\n",
      "==============================================================================\n",
      "\n",
      "Notes:\n",
      "[1] Standard Errors assume that the covariance matrix of the errors is correctly specified.\n"
     ]
    }
   ],
   "source": [
    "x = df1.loc[:,['covariate', 'treeatment']]\n",
    "x = sm.add_constant(x)\n",
    "model = sm.OLS(df1['metric'], x)\n",
    "result = model.fit()\n",
    "print(result.summary())"
   ]
  },
  {
   "cell_type": "code",
   "execution_count": 183,
   "id": "16589df3",
   "metadata": {
    "ExecuteTime": {
     "end_time": "2021-10-09T12:48:26.009673Z",
     "start_time": "2021-10-09T12:48:25.987035Z"
    }
   },
   "outputs": [
    {
     "name": "stdout",
     "output_type": "stream",
     "text": [
      "                            OLS Regression Results                            \n",
      "==============================================================================\n",
      "Dep. Variable:                 metric   R-squared:                       0.007\n",
      "Model:                            OLS   Adj. R-squared:                 -0.014\n",
      "Method:                 Least Squares   F-statistic:                    0.3296\n",
      "Date:                Sat, 09 Oct 2021   Prob (F-statistic):              0.720\n",
      "Time:                        15:48:26   Log-Likelihood:                -149.66\n",
      "No. Observations:                 100   AIC:                             305.3\n",
      "Df Residuals:                      97   BIC:                             313.1\n",
      "Df Model:                           2                                         \n",
      "Covariance Type:            nonrobust                                         \n",
      "==============================================================================\n",
      "                 coef    std err          t      P>|t|      [0.025      0.975]\n",
      "------------------------------------------------------------------------------\n",
      "const         -0.0915      0.300     -0.304      0.761      -0.688       0.505\n",
      "group       3.692e-05      0.063      0.001      1.000      -0.124       0.124\n",
      "treeatment     0.1785      0.222      0.805      0.423      -0.262       0.619\n",
      "==============================================================================\n",
      "Omnibus:                        2.450   Durbin-Watson:                   2.038\n",
      "Prob(Omnibus):                  0.294   Jarque-Bera (JB):                2.026\n",
      "Skew:                           0.216   Prob(JB):                        0.363\n",
      "Kurtosis:                       2.453   Cond. No.                         13.1\n",
      "==============================================================================\n",
      "\n",
      "Notes:\n",
      "[1] Standard Errors assume that the covariance matrix of the errors is correctly specified.\n"
     ]
    }
   ],
   "source": [
    "x = df1.loc[:,['group', 'treeatment']]\n",
    "x = sm.add_constant(x)\n",
    "model = sm.OLS(df1['metric'], x)\n",
    "result = model.fit()\n",
    "print(result.summary())"
   ]
  },
  {
   "cell_type": "code",
   "execution_count": 184,
   "id": "2d6fb25c",
   "metadata": {
    "ExecuteTime": {
     "end_time": "2021-10-09T12:48:55.655266Z",
     "start_time": "2021-10-09T12:48:55.634366Z"
    }
   },
   "outputs": [
    {
     "name": "stdout",
     "output_type": "stream",
     "text": [
      "                            OLS Regression Results                            \n",
      "==============================================================================\n",
      "Dep. Variable:                 metric   R-squared:                       0.868\n",
      "Model:                            OLS   Adj. R-squared:                  0.864\n",
      "Method:                 Least Squares   F-statistic:                     210.7\n",
      "Date:                Sat, 09 Oct 2021   Prob (F-statistic):           4.24e-42\n",
      "Time:                        15:48:55   Log-Likelihood:                -48.684\n",
      "No. Observations:                 100   AIC:                             105.4\n",
      "Df Residuals:                      96   BIC:                             115.8\n",
      "Df Model:                           3                                         \n",
      "Covariance Type:            nonrobust                                         \n",
      "==============================================================================\n",
      "                 coef    std err          t      P>|t|      [0.025      0.975]\n",
      "------------------------------------------------------------------------------\n",
      "const          0.0474      0.110      0.431      0.668      -0.171       0.266\n",
      "group         -0.0269      0.023     -1.171      0.244      -0.072       0.019\n",
      "covariate      1.0206      0.041     25.046      0.000       0.940       1.101\n",
      "treeatment     0.1621      0.081      1.994      0.049       0.001       0.323\n",
      "==============================================================================\n",
      "Omnibus:                        9.689   Durbin-Watson:                   1.689\n",
      "Prob(Omnibus):                  0.008   Jarque-Bera (JB):               18.707\n",
      "Skew:                           0.280   Prob(JB):                     8.67e-05\n",
      "Kurtosis:                       5.044   Cond. No.                         13.1\n",
      "==============================================================================\n",
      "\n",
      "Notes:\n",
      "[1] Standard Errors assume that the covariance matrix of the errors is correctly specified.\n"
     ]
    }
   ],
   "source": [
    "x = df1.loc[:,['group', 'covariate', 'treeatment']]\n",
    "x = sm.add_constant(x)\n",
    "model = sm.OLS(df1['metric'], x)\n",
    "result = model.fit()\n",
    "print(result.summary())"
   ]
  }
 ],
 "metadata": {
  "hide_input": false,
  "kernelspec": {
   "display_name": "Python 3 (ipykernel)",
   "language": "python",
   "name": "python3"
  },
  "language_info": {
   "codemirror_mode": {
    "name": "ipython",
    "version": 3
   },
   "file_extension": ".py",
   "mimetype": "text/x-python",
   "name": "python",
   "nbconvert_exporter": "python",
   "pygments_lexer": "ipython3",
   "version": "3.10.6"
  },
  "latex_envs": {
   "LaTeX_envs_menu_present": true,
   "autoclose": true,
   "autocomplete": true,
   "bibliofile": "biblio.bib",
   "cite_by": "apalike",
   "current_citInitial": 1,
   "eqLabelWithNumbers": true,
   "eqNumInitial": 1,
   "hotkeys": {
    "equation": "Ctrl-E",
    "itemize": "Ctrl-I"
   },
   "labels_anchors": false,
   "latex_user_defs": false,
   "report_style_numbering": false,
   "user_envs_cfg": false
  },
  "toc": {
   "base_numbering": 1,
   "nav_menu": {},
   "number_sections": true,
   "sideBar": true,
   "skip_h1_title": false,
   "title_cell": "Table of Contents",
   "title_sidebar": "Contents",
   "toc_cell": false,
   "toc_position": {},
   "toc_section_display": true,
   "toc_window_display": false
  },
  "varInspector": {
   "cols": {
    "lenName": 16,
    "lenType": 16,
    "lenVar": 40
   },
   "kernels_config": {
    "python": {
     "delete_cmd_postfix": "",
     "delete_cmd_prefix": "del ",
     "library": "var_list.py",
     "varRefreshCmd": "print(var_dic_list())"
    },
    "r": {
     "delete_cmd_postfix": ") ",
     "delete_cmd_prefix": "rm(",
     "library": "var_list.r",
     "varRefreshCmd": "cat(var_dic_list()) "
    }
   },
   "types_to_exclude": [
    "module",
    "function",
    "builtin_function_or_method",
    "instance",
    "_Feature"
   ],
   "window_display": false
  }
 },
 "nbformat": 4,
 "nbformat_minor": 5
}

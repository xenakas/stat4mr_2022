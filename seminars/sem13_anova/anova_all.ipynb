{
 "cells": [
  {
   "cell_type": "markdown",
   "id": "55536a13",
   "metadata": {},
   "source": [
    "### ANOVA"
   ]
  },
  {
   "cell_type": "code",
   "execution_count": 1,
   "id": "1a99d400",
   "metadata": {
    "ExecuteTime": {
     "end_time": "2023-01-16T16:01:41.729856Z",
     "start_time": "2023-01-16T16:01:41.105632Z"
    }
   },
   "outputs": [
    {
     "data": {
      "text/html": [
       "<div>\n",
       "<style scoped>\n",
       "    .dataframe tbody tr th:only-of-type {\n",
       "        vertical-align: middle;\n",
       "    }\n",
       "\n",
       "    .dataframe tbody tr th {\n",
       "        vertical-align: top;\n",
       "    }\n",
       "\n",
       "    .dataframe thead th {\n",
       "        text-align: right;\n",
       "    }\n",
       "</style>\n",
       "<table border=\"1\" class=\"dataframe\">\n",
       "  <thead>\n",
       "    <tr style=\"text-align: right;\">\n",
       "      <th></th>\n",
       "      <th>A</th>\n",
       "      <th>B</th>\n",
       "      <th>C</th>\n",
       "      <th>D</th>\n",
       "    </tr>\n",
       "  </thead>\n",
       "  <tbody>\n",
       "    <tr>\n",
       "      <th>0</th>\n",
       "      <td>25</td>\n",
       "      <td>45</td>\n",
       "      <td>30</td>\n",
       "      <td>54</td>\n",
       "    </tr>\n",
       "    <tr>\n",
       "      <th>1</th>\n",
       "      <td>30</td>\n",
       "      <td>55</td>\n",
       "      <td>29</td>\n",
       "      <td>60</td>\n",
       "    </tr>\n",
       "    <tr>\n",
       "      <th>2</th>\n",
       "      <td>28</td>\n",
       "      <td>29</td>\n",
       "      <td>33</td>\n",
       "      <td>51</td>\n",
       "    </tr>\n",
       "    <tr>\n",
       "      <th>3</th>\n",
       "      <td>36</td>\n",
       "      <td>56</td>\n",
       "      <td>37</td>\n",
       "      <td>62</td>\n",
       "    </tr>\n",
       "    <tr>\n",
       "      <th>4</th>\n",
       "      <td>29</td>\n",
       "      <td>40</td>\n",
       "      <td>27</td>\n",
       "      <td>73</td>\n",
       "    </tr>\n",
       "  </tbody>\n",
       "</table>\n",
       "</div>"
      ],
      "text/plain": [
       "    A   B   C   D\n",
       "0  25  45  30  54\n",
       "1  30  55  29  60\n",
       "2  28  29  33  51\n",
       "3  36  56  37  62\n",
       "4  29  40  27  73"
      ]
     },
     "execution_count": 1,
     "metadata": {},
     "output_type": "execute_result"
    }
   ],
   "source": [
    "import pandas as pd\n",
    "# load data file\n",
    "df = pd.read_csv(\"https://reneshbedre.github.io/assets/posts/anova/onewayanova.txt\", sep=\"\\t\")\n",
    "df"
   ]
  },
  {
   "cell_type": "code",
   "execution_count": 2,
   "id": "5f0c6139",
   "metadata": {
    "ExecuteTime": {
     "end_time": "2023-01-16T16:02:15.253262Z",
     "start_time": "2023-01-16T16:02:15.230502Z"
    }
   },
   "outputs": [],
   "source": [
    "# reshape the d dataframe suitable for statsmodels package \n",
    "df_melt = pd.melt(df.reset_index(), id_vars=['index'], value_vars=['A', 'B', 'C', 'D'])\n",
    "# replace column names\n",
    "df_melt.columns = ['index', 'treatments', 'value']"
   ]
  },
  {
   "cell_type": "code",
   "execution_count": 4,
   "id": "61ffa295",
   "metadata": {
    "ExecuteTime": {
     "end_time": "2023-01-16T16:02:49.479372Z",
     "start_time": "2023-01-16T16:02:49.463150Z"
    }
   },
   "outputs": [
    {
     "data": {
      "text/html": [
       "<div>\n",
       "<style scoped>\n",
       "    .dataframe tbody tr th:only-of-type {\n",
       "        vertical-align: middle;\n",
       "    }\n",
       "\n",
       "    .dataframe tbody tr th {\n",
       "        vertical-align: top;\n",
       "    }\n",
       "\n",
       "    .dataframe thead th {\n",
       "        text-align: right;\n",
       "    }\n",
       "</style>\n",
       "<table border=\"1\" class=\"dataframe\">\n",
       "  <thead>\n",
       "    <tr style=\"text-align: right;\">\n",
       "      <th></th>\n",
       "      <th>index</th>\n",
       "      <th>treatments</th>\n",
       "      <th>value</th>\n",
       "    </tr>\n",
       "  </thead>\n",
       "  <tbody>\n",
       "    <tr>\n",
       "      <th>0</th>\n",
       "      <td>0</td>\n",
       "      <td>A</td>\n",
       "      <td>25</td>\n",
       "    </tr>\n",
       "    <tr>\n",
       "      <th>1</th>\n",
       "      <td>1</td>\n",
       "      <td>A</td>\n",
       "      <td>30</td>\n",
       "    </tr>\n",
       "    <tr>\n",
       "      <th>2</th>\n",
       "      <td>2</td>\n",
       "      <td>A</td>\n",
       "      <td>28</td>\n",
       "    </tr>\n",
       "    <tr>\n",
       "      <th>3</th>\n",
       "      <td>3</td>\n",
       "      <td>A</td>\n",
       "      <td>36</td>\n",
       "    </tr>\n",
       "    <tr>\n",
       "      <th>4</th>\n",
       "      <td>4</td>\n",
       "      <td>A</td>\n",
       "      <td>29</td>\n",
       "    </tr>\n",
       "  </tbody>\n",
       "</table>\n",
       "</div>"
      ],
      "text/plain": [
       "   index treatments  value\n",
       "0      0          A     25\n",
       "1      1          A     30\n",
       "2      2          A     28\n",
       "3      3          A     36\n",
       "4      4          A     29"
      ]
     },
     "execution_count": 4,
     "metadata": {},
     "output_type": "execute_result"
    }
   ],
   "source": [
    "df_melt.head(5)"
   ]
  },
  {
   "cell_type": "code",
   "execution_count": 5,
   "id": "0fa0027f",
   "metadata": {
    "ExecuteTime": {
     "end_time": "2023-01-16T16:02:54.044952Z",
     "start_time": "2023-01-16T16:02:52.319226Z"
    }
   },
   "outputs": [
    {
     "data": {
      "image/png": "[encoded data removed]",
      "text/plain": [
       "<Figure size 432x288 with 1 Axes>"
      ]
     },
     "metadata": {
      "needs_background": "light"
     },
     "output_type": "display_data"
    }
   ],
   "source": [
    "# generate a boxplot to see the data distribution by treatments. Using boxplot, we can \n",
    "# easily detect the differences between different treatments\n",
    "import matplotlib.pyplot as plt\n",
    "import seaborn as sns\n",
    "ax = sns.boxplot(x='treatments', y='value', data=df_melt, color='#99c2a2')\n",
    "ax = sns.swarmplot(x=\"treatments\", y=\"value\", data=df_melt, color='#7d0013')\n",
    "plt.show()"
   ]
  },
  {
   "cell_type": "code",
   "execution_count": 6,
   "id": "d0cb0f2b",
   "metadata": {
    "ExecuteTime": {
     "end_time": "2023-01-16T16:03:45.332321Z",
     "start_time": "2023-01-16T16:03:45.321956Z"
    }
   },
   "outputs": [
    {
     "name": "stdout",
     "output_type": "stream",
     "text": [
      "17.492810457516338 2.639241146210922e-05\n"
     ]
    }
   ],
   "source": [
    "import scipy.stats as stats\n",
    "# stats f_oneway functions takes the groups as input and returns ANOVA F and p value\n",
    "fvalue, pvalue = stats.f_oneway(df['A'], df['B'], df['C'], df['D'])\n",
    "print(fvalue, pvalue)"
   ]
  },
  {
   "cell_type": "code",
   "execution_count": 7,
   "id": "f99f97b5",
   "metadata": {
    "ExecuteTime": {
     "end_time": "2023-01-16T16:04:32.511226Z",
     "start_time": "2023-01-16T16:04:32.048196Z"
    }
   },
   "outputs": [
    {
     "data": {
      "text/html": [
       "<div>\n",
       "<style scoped>\n",
       "    .dataframe tbody tr th:only-of-type {\n",
       "        vertical-align: middle;\n",
       "    }\n",
       "\n",
       "    .dataframe tbody tr th {\n",
       "        vertical-align: top;\n",
       "    }\n",
       "\n",
       "    .dataframe thead th {\n",
       "        text-align: right;\n",
       "    }\n",
       "</style>\n",
       "<table border=\"1\" class=\"dataframe\">\n",
       "  <thead>\n",
       "    <tr style=\"text-align: right;\">\n",
       "      <th></th>\n",
       "      <th>sum_sq</th>\n",
       "      <th>df</th>\n",
       "      <th>F</th>\n",
       "      <th>PR(&gt;F)</th>\n",
       "    </tr>\n",
       "  </thead>\n",
       "  <tbody>\n",
       "    <tr>\n",
       "      <th>C(treatments)</th>\n",
       "      <td>3010.95</td>\n",
       "      <td>3.0</td>\n",
       "      <td>17.49281</td>\n",
       "      <td>0.000026</td>\n",
       "    </tr>\n",
       "    <tr>\n",
       "      <th>Residual</th>\n",
       "      <td>918.00</td>\n",
       "      <td>16.0</td>\n",
       "      <td>NaN</td>\n",
       "      <td>NaN</td>\n",
       "    </tr>\n",
       "  </tbody>\n",
       "</table>\n",
       "</div>"
      ],
      "text/plain": [
       "                sum_sq    df         F    PR(>F)\n",
       "C(treatments)  3010.95   3.0  17.49281  0.000026\n",
       "Residual        918.00  16.0       NaN       NaN"
      ]
     },
     "execution_count": 7,
     "metadata": {},
     "output_type": "execute_result"
    }
   ],
   "source": [
    "# get ANOVA table as R like output\n",
    "import statsmodels.api as sm\n",
    "from statsmodels.formula.api import ols\n",
    "\n",
    "# Ordinary Least Squares (OLS) model\n",
    "model = ols('value ~ C(treatments)', data=df_melt).fit()\n",
    "anova_table = sm.stats.anova_lm(model, typ=2)\n",
    "anova_table"
   ]
  },
  {
   "cell_type": "code",
   "execution_count": 8,
   "id": "2116f71e",
   "metadata": {
    "ExecuteTime": {
     "end_time": "2023-01-16T16:05:20.069485Z",
     "start_time": "2023-01-16T16:05:19.960894Z"
    }
   },
   "outputs": [
    {
     "data": {
      "text/html": [
       "<div>\n",
       "<style scoped>\n",
       "    .dataframe tbody tr th:only-of-type {\n",
       "        vertical-align: middle;\n",
       "    }\n",
       "\n",
       "    .dataframe tbody tr th {\n",
       "        vertical-align: top;\n",
       "    }\n",
       "\n",
       "    .dataframe thead th {\n",
       "        text-align: right;\n",
       "    }\n",
       "</style>\n",
       "<table border=\"1\" class=\"dataframe\">\n",
       "  <thead>\n",
       "    <tr style=\"text-align: right;\">\n",
       "      <th></th>\n",
       "      <th>df</th>\n",
       "      <th>sum_sq</th>\n",
       "      <th>mean_sq</th>\n",
       "      <th>F</th>\n",
       "      <th>PR(&gt;F)</th>\n",
       "    </tr>\n",
       "  </thead>\n",
       "  <tbody>\n",
       "    <tr>\n",
       "      <th>C(treatments)</th>\n",
       "      <td>3.0</td>\n",
       "      <td>3010.95</td>\n",
       "      <td>1003.650</td>\n",
       "      <td>17.49281</td>\n",
       "      <td>0.000026</td>\n",
       "    </tr>\n",
       "    <tr>\n",
       "      <th>Residual</th>\n",
       "      <td>16.0</td>\n",
       "      <td>918.00</td>\n",
       "      <td>57.375</td>\n",
       "      <td>NaN</td>\n",
       "      <td>NaN</td>\n",
       "    </tr>\n",
       "  </tbody>\n",
       "</table>\n",
       "</div>"
      ],
      "text/plain": [
       "                 df   sum_sq   mean_sq         F    PR(>F)\n",
       "C(treatments)   3.0  3010.95  1003.650  17.49281  0.000026\n",
       "Residual       16.0   918.00    57.375       NaN       NaN"
      ]
     },
     "execution_count": 8,
     "metadata": {},
     "output_type": "execute_result"
    }
   ],
   "source": [
    "# ANOVA table using bioinfokit v1.0.3 or later (it uses wrapper script for anova_lm)\n",
    "from bioinfokit.analys import stat\n",
    "res = stat()\n",
    "res.anova_stat(df=df_melt, res_var='value', anova_model='value ~ C(treatments)')\n",
    "res.anova_summary\n",
    "# output (ANOVA F and p value)\n",
    "\n",
    "# note: if the data is balanced (equal sample size for each group), Type 1, 2, and 3 sums of squares\n",
    "# (typ parameter) will produce similar results."
   ]
  },
  {
   "cell_type": "code",
   "execution_count": 9,
   "id": "4e7f904a",
   "metadata": {
    "ExecuteTime": {
     "end_time": "2023-01-16T16:06:14.491792Z",
     "start_time": "2023-01-16T16:06:14.157840Z"
    }
   },
   "outputs": [
    {
     "name": "stderr",
     "output_type": "stream",
     "text": [
      "/home/xenakas/.local/lib/python3.10/site-packages/bioinfokit/analys.py:402: FutureWarning: Dropping of nuisance columns in DataFrame reductions (with 'numeric_only=None') is deprecated; in a future version this will raise TypeError.  Select only valid columns before calling the reduction.\n",
      "  mult_group[ele] = df[df[xfac_var] == ele].mean().loc[res_var]\n"
     ]
    },
    {
     "data": {
      "text/html": [
       "<div>\n",
       "<style scoped>\n",
       "    .dataframe tbody tr th:only-of-type {\n",
       "        vertical-align: middle;\n",
       "    }\n",
       "\n",
       "    .dataframe tbody tr th {\n",
       "        vertical-align: top;\n",
       "    }\n",
       "\n",
       "    .dataframe thead th {\n",
       "        text-align: right;\n",
       "    }\n",
       "</style>\n",
       "<table border=\"1\" class=\"dataframe\">\n",
       "  <thead>\n",
       "    <tr style=\"text-align: right;\">\n",
       "      <th></th>\n",
       "      <th>group1</th>\n",
       "      <th>group2</th>\n",
       "      <th>Diff</th>\n",
       "      <th>Lower</th>\n",
       "      <th>Upper</th>\n",
       "      <th>q-value</th>\n",
       "      <th>p-value</th>\n",
       "    </tr>\n",
       "  </thead>\n",
       "  <tbody>\n",
       "    <tr>\n",
       "      <th>0</th>\n",
       "      <td>A</td>\n",
       "      <td>B</td>\n",
       "      <td>15.4</td>\n",
       "      <td>1.692871</td>\n",
       "      <td>29.107129</td>\n",
       "      <td>4.546156</td>\n",
       "      <td>0.025070</td>\n",
       "    </tr>\n",
       "    <tr>\n",
       "      <th>1</th>\n",
       "      <td>A</td>\n",
       "      <td>C</td>\n",
       "      <td>1.6</td>\n",
       "      <td>-12.107129</td>\n",
       "      <td>15.307129</td>\n",
       "      <td>0.472328</td>\n",
       "      <td>0.900000</td>\n",
       "    </tr>\n",
       "    <tr>\n",
       "      <th>2</th>\n",
       "      <td>A</td>\n",
       "      <td>D</td>\n",
       "      <td>30.4</td>\n",
       "      <td>16.692871</td>\n",
       "      <td>44.107129</td>\n",
       "      <td>8.974231</td>\n",
       "      <td>0.001000</td>\n",
       "    </tr>\n",
       "    <tr>\n",
       "      <th>3</th>\n",
       "      <td>B</td>\n",
       "      <td>C</td>\n",
       "      <td>13.8</td>\n",
       "      <td>0.092871</td>\n",
       "      <td>27.507129</td>\n",
       "      <td>4.073828</td>\n",
       "      <td>0.048178</td>\n",
       "    </tr>\n",
       "    <tr>\n",
       "      <th>4</th>\n",
       "      <td>B</td>\n",
       "      <td>D</td>\n",
       "      <td>15.0</td>\n",
       "      <td>1.292871</td>\n",
       "      <td>28.707129</td>\n",
       "      <td>4.428074</td>\n",
       "      <td>0.029578</td>\n",
       "    </tr>\n",
       "    <tr>\n",
       "      <th>5</th>\n",
       "      <td>C</td>\n",
       "      <td>D</td>\n",
       "      <td>28.8</td>\n",
       "      <td>15.092871</td>\n",
       "      <td>42.507129</td>\n",
       "      <td>8.501903</td>\n",
       "      <td>0.001000</td>\n",
       "    </tr>\n",
       "  </tbody>\n",
       "</table>\n",
       "</div>"
      ],
      "text/plain": [
       "  group1 group2  Diff      Lower      Upper   q-value   p-value\n",
       "0      A      B  15.4   1.692871  29.107129  4.546156  0.025070\n",
       "1      A      C   1.6 -12.107129  15.307129  0.472328  0.900000\n",
       "2      A      D  30.4  16.692871  44.107129  8.974231  0.001000\n",
       "3      B      C  13.8   0.092871  27.507129  4.073828  0.048178\n",
       "4      B      D  15.0   1.292871  28.707129  4.428074  0.029578\n",
       "5      C      D  28.8  15.092871  42.507129  8.501903  0.001000"
      ]
     },
     "execution_count": 9,
     "metadata": {},
     "output_type": "execute_result"
    }
   ],
   "source": [
    "# we will use bioinfokit (v1.0.3 or later) for performing tukey HSD test\n",
    "# check documentation here https://github.com/reneshbedre/bioinfokit\n",
    "from bioinfokit.analys import stat\n",
    "# perform multiple pairwise comparison (Tukey's HSD)\n",
    "# unequal sample size data, tukey_hsd uses Tukey-Kramer test\n",
    "res = stat()\n",
    "res.tukey_hsd(df=df_melt, res_var='value', xfac_var='treatments', anova_model='value ~ C(treatments)')\n",
    "res.tukey_summary\n",
    "# output\n",
    "# Note: p-value 0.001 from tukey_hsd output should be interpreted as <=0.001"
   ]
  },
  {
   "cell_type": "code",
   "execution_count": 10,
   "id": "0bc4c5ba",
   "metadata": {
    "ExecuteTime": {
     "end_time": "2023-01-16T16:07:40.657309Z",
     "start_time": "2023-01-16T16:07:40.452996Z"
    }
   },
   "outputs": [
    {
     "data": {
      "image/png": "[encoded data removed]",
      "text/plain": [
       "<Figure size 432x288 with 1 Axes>"
      ]
     },
     "metadata": {
      "needs_background": "light"
     },
     "output_type": "display_data"
    }
   ],
   "source": [
    "# QQ-plot\n",
    "import statsmodels.api as sm\n",
    "import matplotlib.pyplot as plt\n",
    "# res.anova_std_residuals are standardized residuals obtained from ANOVA (check above)\n",
    "sm.qqplot(res.anova_std_residuals, line='45')\n",
    "plt.xlabel(\"Theoretical Quantiles\")\n",
    "plt.ylabel(\"Standardized Residuals\")\n",
    "plt.show()"
   ]
  },
  {
   "cell_type": "code",
   "execution_count": 11,
   "id": "85255edf",
   "metadata": {
    "ExecuteTime": {
     "end_time": "2023-01-16T16:08:17.625441Z",
     "start_time": "2023-01-16T16:08:17.402595Z"
    }
   },
   "outputs": [
    {
     "data": {
      "image/png": "[encoded data removed]",
      "text/plain": [
       "<Figure size 432x288 with 1 Axes>"
      ]
     },
     "metadata": {
      "needs_background": "light"
     },
     "output_type": "display_data"
    }
   ],
   "source": [
    "# histogram\n",
    "plt.hist(res.anova_model_out.resid, bins=10, histtype='bar', ec='k') \n",
    "plt.xlabel(\"Residuals\")\n",
    "plt.ylabel('Frequency')\n",
    "plt.show()"
   ]
  },
  {
   "cell_type": "code",
   "execution_count": 12,
   "id": "6713a54c",
   "metadata": {
    "ExecuteTime": {
     "end_time": "2023-01-16T16:08:25.979281Z",
     "start_time": "2023-01-16T16:08:25.973183Z"
    }
   },
   "outputs": [
    {
     "name": "stdout",
     "output_type": "stream",
     "text": [
      "0.9685019850730896 0.7229772806167603\n"
     ]
    }
   ],
   "source": [
    "import scipy.stats as stats\n",
    "w, pvalue = stats.shapiro(model.resid)\n",
    "print(w, pvalue)"
   ]
  },
  {
   "cell_type": "code",
   "execution_count": 13,
   "id": "0446ea72",
   "metadata": {
    "ExecuteTime": {
     "end_time": "2023-01-16T16:10:04.742269Z",
     "start_time": "2023-01-16T16:10:04.734738Z"
    }
   },
   "outputs": [
    {
     "name": "stdout",
     "output_type": "stream",
     "text": [
      "5.687843565012841 0.1278253399753447\n"
     ]
    }
   ],
   "source": [
    "import scipy.stats as stats\n",
    "w, pvalue = stats.bartlett(df['A'], df['B'], df['C'], df['D'])\n",
    "print(w, pvalue)"
   ]
  },
  {
   "cell_type": "code",
   "execution_count": 14,
   "id": "095c8856",
   "metadata": {
    "ExecuteTime": {
     "end_time": "2023-01-16T16:11:07.987015Z",
     "start_time": "2023-01-16T16:11:07.954580Z"
    }
   },
   "outputs": [
    {
     "data": {
      "text/html": [
       "<div>\n",
       "<style scoped>\n",
       "    .dataframe tbody tr th:only-of-type {\n",
       "        vertical-align: middle;\n",
       "    }\n",
       "\n",
       "    .dataframe tbody tr th {\n",
       "        vertical-align: top;\n",
       "    }\n",
       "\n",
       "    .dataframe thead th {\n",
       "        text-align: right;\n",
       "    }\n",
       "</style>\n",
       "<table border=\"1\" class=\"dataframe\">\n",
       "  <thead>\n",
       "    <tr style=\"text-align: right;\">\n",
       "      <th></th>\n",
       "      <th>Parameter</th>\n",
       "      <th>Value</th>\n",
       "    </tr>\n",
       "  </thead>\n",
       "  <tbody>\n",
       "    <tr>\n",
       "      <th>0</th>\n",
       "      <td>Test statistics (T)</td>\n",
       "      <td>5.6878</td>\n",
       "    </tr>\n",
       "    <tr>\n",
       "      <th>1</th>\n",
       "      <td>Degrees of freedom (Df)</td>\n",
       "      <td>3.0000</td>\n",
       "    </tr>\n",
       "    <tr>\n",
       "      <th>2</th>\n",
       "      <td>p value</td>\n",
       "      <td>0.1278</td>\n",
       "    </tr>\n",
       "  </tbody>\n",
       "</table>\n",
       "</div>"
      ],
      "text/plain": [
       "                 Parameter   Value\n",
       "0      Test statistics (T)  5.6878\n",
       "1  Degrees of freedom (Df)  3.0000\n",
       "2                  p value  0.1278"
      ]
     },
     "execution_count": 14,
     "metadata": {},
     "output_type": "execute_result"
    }
   ],
   "source": [
    "# if you have a stacked table, you can use bioinfokit v1.0.3 or later for the bartlett's test\n",
    "from bioinfokit.analys import stat \n",
    "res = stat()\n",
    "res.bartlett(df=df_melt, res_var='value', xfac_var='treatments')\n",
    "res.bartlett_summary\n",
    "# output"
   ]
  },
  {
   "cell_type": "code",
   "execution_count": 15,
   "id": "966d173c",
   "metadata": {
    "ExecuteTime": {
     "end_time": "2023-01-16T16:11:15.466763Z",
     "start_time": "2023-01-16T16:11:15.438193Z"
    }
   },
   "outputs": [
    {
     "data": {
      "text/html": [
       "<div>\n",
       "<style scoped>\n",
       "    .dataframe tbody tr th:only-of-type {\n",
       "        vertical-align: middle;\n",
       "    }\n",
       "\n",
       "    .dataframe tbody tr th {\n",
       "        vertical-align: top;\n",
       "    }\n",
       "\n",
       "    .dataframe thead th {\n",
       "        text-align: right;\n",
       "    }\n",
       "</style>\n",
       "<table border=\"1\" class=\"dataframe\">\n",
       "  <thead>\n",
       "    <tr style=\"text-align: right;\">\n",
       "      <th></th>\n",
       "      <th>Parameter</th>\n",
       "      <th>Value</th>\n",
       "    </tr>\n",
       "  </thead>\n",
       "  <tbody>\n",
       "    <tr>\n",
       "      <th>0</th>\n",
       "      <td>Test statistics (W)</td>\n",
       "      <td>1.9220</td>\n",
       "    </tr>\n",
       "    <tr>\n",
       "      <th>1</th>\n",
       "      <td>Degrees of freedom (Df)</td>\n",
       "      <td>3.0000</td>\n",
       "    </tr>\n",
       "    <tr>\n",
       "      <th>2</th>\n",
       "      <td>p value</td>\n",
       "      <td>0.1667</td>\n",
       "    </tr>\n",
       "  </tbody>\n",
       "</table>\n",
       "</div>"
      ],
      "text/plain": [
       "                 Parameter   Value\n",
       "0      Test statistics (W)  1.9220\n",
       "1  Degrees of freedom (Df)  3.0000\n",
       "2                  p value  0.1667"
      ]
     },
     "execution_count": 15,
     "metadata": {},
     "output_type": "execute_result"
    }
   ],
   "source": [
    "# if you have a stacked table, you can use bioinfokit v1.0.3 or later for the Levene's test\n",
    "from bioinfokit.analys import stat \n",
    "res = stat()\n",
    "res.levene(df=df_melt, res_var='value', xfac_var='treatments')\n",
    "res.levene_summary\n",
    "# output"
   ]
  },
  {
   "cell_type": "markdown",
   "id": "e116b4f8",
   "metadata": {},
   "source": [
    "### Two-way ANOVA"
   ]
  },
  {
   "cell_type": "code",
   "execution_count": 16,
   "id": "40739801",
   "metadata": {
    "ExecuteTime": {
     "end_time": "2023-01-16T16:11:40.415619Z",
     "start_time": "2023-01-16T16:11:40.181662Z"
    }
   },
   "outputs": [
    {
     "data": {
      "text/html": [
       "<div>\n",
       "<style scoped>\n",
       "    .dataframe tbody tr th:only-of-type {\n",
       "        vertical-align: middle;\n",
       "    }\n",
       "\n",
       "    .dataframe tbody tr th {\n",
       "        vertical-align: top;\n",
       "    }\n",
       "\n",
       "    .dataframe thead th {\n",
       "        text-align: right;\n",
       "    }\n",
       "</style>\n",
       "<table border=\"1\" class=\"dataframe\">\n",
       "  <thead>\n",
       "    <tr style=\"text-align: right;\">\n",
       "      <th></th>\n",
       "      <th>Genotype</th>\n",
       "      <th>years</th>\n",
       "      <th>value</th>\n",
       "    </tr>\n",
       "  </thead>\n",
       "  <tbody>\n",
       "    <tr>\n",
       "      <th>0</th>\n",
       "      <td>A</td>\n",
       "      <td>1_year</td>\n",
       "      <td>1.53</td>\n",
       "    </tr>\n",
       "    <tr>\n",
       "      <th>1</th>\n",
       "      <td>A</td>\n",
       "      <td>1_year</td>\n",
       "      <td>1.83</td>\n",
       "    </tr>\n",
       "    <tr>\n",
       "      <th>2</th>\n",
       "      <td>A</td>\n",
       "      <td>1_year</td>\n",
       "      <td>1.38</td>\n",
       "    </tr>\n",
       "    <tr>\n",
       "      <th>3</th>\n",
       "      <td>B</td>\n",
       "      <td>1_year</td>\n",
       "      <td>3.60</td>\n",
       "    </tr>\n",
       "    <tr>\n",
       "      <th>4</th>\n",
       "      <td>B</td>\n",
       "      <td>1_year</td>\n",
       "      <td>2.94</td>\n",
       "    </tr>\n",
       "  </tbody>\n",
       "</table>\n",
       "</div>"
      ],
      "text/plain": [
       "  Genotype   years  value\n",
       "0        A  1_year   1.53\n",
       "1        A  1_year   1.83\n",
       "2        A  1_year   1.38\n",
       "3        B  1_year   3.60\n",
       "4        B  1_year   2.94"
      ]
     },
     "execution_count": 16,
     "metadata": {},
     "output_type": "execute_result"
    }
   ],
   "source": [
    "import pandas as pd\n",
    "import seaborn as sns\n",
    "# load data file\n",
    "d = pd.read_csv(\"https://reneshbedre.github.io/assets/posts/anova/twowayanova.txt\", sep=\"\\t\")\n",
    "# reshape the d dataframe suitable for statsmodels package \n",
    "# you do not need to reshape if your data is already in stacked format. Compare d and d_melt tables for detail \n",
    "# understanding \n",
    "d_melt = pd.melt(d, id_vars=['Genotype'], value_vars=['1_year', '2_year', '3_year'])\n",
    "# replace column names\n",
    "d_melt.columns = ['Genotype', 'years', 'value']\n",
    "d_melt.head()"
   ]
  },
  {
   "cell_type": "code",
   "execution_count": 17,
   "id": "ac154450",
   "metadata": {
    "ExecuteTime": {
     "end_time": "2023-01-16T16:11:44.536866Z",
     "start_time": "2023-01-16T16:11:44.529202Z"
    }
   },
   "outputs": [
    {
     "data": {
      "text/plain": [
       "(54, 3)"
      ]
     },
     "execution_count": 17,
     "metadata": {},
     "output_type": "execute_result"
    }
   ],
   "source": [
    "d_melt.shape"
   ]
  },
  {
   "cell_type": "code",
   "execution_count": 18,
   "id": "8382e75c",
   "metadata": {
    "ExecuteTime": {
     "end_time": "2023-01-16T16:12:30.551828Z",
     "start_time": "2023-01-16T16:12:29.833549Z"
    }
   },
   "outputs": [
    {
     "data": {
      "text/plain": [
       "<AxesSubplot:xlabel='Genotype', ylabel='value'>"
      ]
     },
     "execution_count": 18,
     "metadata": {},
     "output_type": "execute_result"
    },
    {
     "data": {
      "image/png": "[encoded data removed]",
      "text/plain": [
       "<Figure size 432x288 with 1 Axes>"
      ]
     },
     "metadata": {
      "needs_background": "light"
     },
     "output_type": "display_data"
    }
   ],
   "source": [
    "# generate a boxplot to see the data distribution by genotypes and years. Using boxplot, we can easily detect the \n",
    "# differences between different groups\n",
    "sns.boxplot(x=\"Genotype\", y=\"value\", hue=\"years\", data=d_melt, palette=\"Set3\") "
   ]
  },
  {
   "cell_type": "code",
   "execution_count": 19,
   "id": "7c06e547",
   "metadata": {
    "ExecuteTime": {
     "end_time": "2023-01-16T16:13:55.352583Z",
     "start_time": "2023-01-16T16:13:55.310108Z"
    }
   },
   "outputs": [
    {
     "data": {
      "text/html": [
       "<div>\n",
       "<style scoped>\n",
       "    .dataframe tbody tr th:only-of-type {\n",
       "        vertical-align: middle;\n",
       "    }\n",
       "\n",
       "    .dataframe tbody tr th {\n",
       "        vertical-align: top;\n",
       "    }\n",
       "\n",
       "    .dataframe thead th {\n",
       "        text-align: right;\n",
       "    }\n",
       "</style>\n",
       "<table border=\"1\" class=\"dataframe\">\n",
       "  <thead>\n",
       "    <tr style=\"text-align: right;\">\n",
       "      <th></th>\n",
       "      <th>sum_sq</th>\n",
       "      <th>df</th>\n",
       "      <th>F</th>\n",
       "      <th>PR(&gt;F)</th>\n",
       "    </tr>\n",
       "  </thead>\n",
       "  <tbody>\n",
       "    <tr>\n",
       "      <th>C(Genotype)</th>\n",
       "      <td>58.551733</td>\n",
       "      <td>5.0</td>\n",
       "      <td>32.748581</td>\n",
       "      <td>1.931655e-12</td>\n",
       "    </tr>\n",
       "    <tr>\n",
       "      <th>C(years)</th>\n",
       "      <td>278.925633</td>\n",
       "      <td>2.0</td>\n",
       "      <td>390.014868</td>\n",
       "      <td>4.006243e-25</td>\n",
       "    </tr>\n",
       "    <tr>\n",
       "      <th>C(Genotype):C(years)</th>\n",
       "      <td>17.122967</td>\n",
       "      <td>10.0</td>\n",
       "      <td>4.788525</td>\n",
       "      <td>2.230094e-04</td>\n",
       "    </tr>\n",
       "    <tr>\n",
       "      <th>Residual</th>\n",
       "      <td>12.873000</td>\n",
       "      <td>36.0</td>\n",
       "      <td>NaN</td>\n",
       "      <td>NaN</td>\n",
       "    </tr>\n",
       "  </tbody>\n",
       "</table>\n",
       "</div>"
      ],
      "text/plain": [
       "                          sum_sq    df           F        PR(>F)\n",
       "C(Genotype)            58.551733   5.0   32.748581  1.931655e-12\n",
       "C(years)              278.925633   2.0  390.014868  4.006243e-25\n",
       "C(Genotype):C(years)   17.122967  10.0    4.788525  2.230094e-04\n",
       "Residual               12.873000  36.0         NaN           NaN"
      ]
     },
     "execution_count": 19,
     "metadata": {},
     "output_type": "execute_result"
    }
   ],
   "source": [
    "import statsmodels.api as sm\n",
    "from statsmodels.formula.api import ols\n",
    "model = ols('value ~ C(Genotype) + C(years) + C(Genotype):C(years)', data=d_melt).fit()\n",
    "anova_table = sm.stats.anova_lm(model, typ=2)\n",
    "anova_table"
   ]
  },
  {
   "cell_type": "code",
   "execution_count": 20,
   "id": "9da68de7",
   "metadata": {
    "ExecuteTime": {
     "end_time": "2023-01-16T16:14:29.476215Z",
     "start_time": "2023-01-16T16:14:29.426877Z"
    }
   },
   "outputs": [
    {
     "data": {
      "text/html": [
       "<div>\n",
       "<style scoped>\n",
       "    .dataframe tbody tr th:only-of-type {\n",
       "        vertical-align: middle;\n",
       "    }\n",
       "\n",
       "    .dataframe tbody tr th {\n",
       "        vertical-align: top;\n",
       "    }\n",
       "\n",
       "    .dataframe thead th {\n",
       "        text-align: right;\n",
       "    }\n",
       "</style>\n",
       "<table border=\"1\" class=\"dataframe\">\n",
       "  <thead>\n",
       "    <tr style=\"text-align: right;\">\n",
       "      <th></th>\n",
       "      <th>df</th>\n",
       "      <th>sum_sq</th>\n",
       "      <th>mean_sq</th>\n",
       "      <th>F</th>\n",
       "      <th>PR(&gt;F)</th>\n",
       "    </tr>\n",
       "  </thead>\n",
       "  <tbody>\n",
       "    <tr>\n",
       "      <th>C(Genotype)</th>\n",
       "      <td>5.0</td>\n",
       "      <td>58.551733</td>\n",
       "      <td>11.710347</td>\n",
       "      <td>32.748581</td>\n",
       "      <td>1.931655e-12</td>\n",
       "    </tr>\n",
       "    <tr>\n",
       "      <th>C(years)</th>\n",
       "      <td>2.0</td>\n",
       "      <td>278.925633</td>\n",
       "      <td>139.462817</td>\n",
       "      <td>390.014868</td>\n",
       "      <td>4.006243e-25</td>\n",
       "    </tr>\n",
       "    <tr>\n",
       "      <th>C(Genotype):C(years)</th>\n",
       "      <td>10.0</td>\n",
       "      <td>17.122967</td>\n",
       "      <td>1.712297</td>\n",
       "      <td>4.788525</td>\n",
       "      <td>2.230094e-04</td>\n",
       "    </tr>\n",
       "    <tr>\n",
       "      <th>Residual</th>\n",
       "      <td>36.0</td>\n",
       "      <td>12.873000</td>\n",
       "      <td>0.357583</td>\n",
       "      <td>NaN</td>\n",
       "      <td>NaN</td>\n",
       "    </tr>\n",
       "  </tbody>\n",
       "</table>\n",
       "</div>"
      ],
      "text/plain": [
       "                        df      sum_sq     mean_sq           F        PR(>F)\n",
       "C(Genotype)            5.0   58.551733   11.710347   32.748581  1.931655e-12\n",
       "C(years)               2.0  278.925633  139.462817  390.014868  4.006243e-25\n",
       "C(Genotype):C(years)  10.0   17.122967    1.712297    4.788525  2.230094e-04\n",
       "Residual              36.0   12.873000    0.357583         NaN           NaN"
      ]
     },
     "execution_count": 20,
     "metadata": {},
     "output_type": "execute_result"
    }
   ],
   "source": [
    "# ANOVA table using bioinfokit v1.0.3 or later (it uses wrapper script for anova_lm)\n",
    "from bioinfokit.analys import stat\n",
    "res = stat()\n",
    "res.anova_stat(df=d_melt, res_var='value', anova_model='value~C(Genotype)+C(years)+C(Genotype):C(years)')\n",
    "res.anova_summary\n",
    "# output"
   ]
  },
  {
   "cell_type": "code",
   "execution_count": 21,
   "id": "e96d9148",
   "metadata": {
    "ExecuteTime": {
     "end_time": "2023-01-16T16:14:48.982088Z",
     "start_time": "2023-01-16T16:14:48.717816Z"
    }
   },
   "outputs": [
    {
     "data": {
      "image/png": "[encoded data removed]",
      "text/plain": [
       "<Figure size 432x288 with 1 Axes>"
      ]
     },
     "metadata": {
      "needs_background": "light"
     },
     "output_type": "display_data"
    }
   ],
   "source": [
    "from statsmodels.graphics.factorplots import interaction_plot\n",
    "import matplotlib.pyplot as plt\n",
    "fig = interaction_plot(x=d_melt['Genotype'], trace=d_melt['years'], response=d_melt['value'], \n",
    "    colors=['#4c061d','#d17a22', '#b4c292'])\n",
    "plt.show()\n"
   ]
  },
  {
   "cell_type": "code",
   "execution_count": 22,
   "id": "0bb61b05",
   "metadata": {
    "ExecuteTime": {
     "end_time": "2023-01-16T16:16:21.233357Z",
     "start_time": "2023-01-16T16:16:20.922718Z"
    }
   },
   "outputs": [
    {
     "name": "stderr",
     "output_type": "stream",
     "text": [
      "/home/xenakas/.local/lib/python3.10/site-packages/bioinfokit/analys.py:402: FutureWarning: Dropping of nuisance columns in DataFrame reductions (with 'numeric_only=None') is deprecated; in a future version this will raise TypeError.  Select only valid columns before calling the reduction.\n",
      "  mult_group[ele] = df[df[xfac_var] == ele].mean().loc[res_var]\n"
     ]
    },
    {
     "data": {
      "text/html": [
       "<div>\n",
       "<style scoped>\n",
       "    .dataframe tbody tr th:only-of-type {\n",
       "        vertical-align: middle;\n",
       "    }\n",
       "\n",
       "    .dataframe tbody tr th {\n",
       "        vertical-align: top;\n",
       "    }\n",
       "\n",
       "    .dataframe thead th {\n",
       "        text-align: right;\n",
       "    }\n",
       "</style>\n",
       "<table border=\"1\" class=\"dataframe\">\n",
       "  <thead>\n",
       "    <tr style=\"text-align: right;\">\n",
       "      <th></th>\n",
       "      <th>group1</th>\n",
       "      <th>group2</th>\n",
       "      <th>Diff</th>\n",
       "      <th>Lower</th>\n",
       "      <th>Upper</th>\n",
       "      <th>q-value</th>\n",
       "      <th>p-value</th>\n",
       "    </tr>\n",
       "  </thead>\n",
       "  <tbody>\n",
       "    <tr>\n",
       "      <th>0</th>\n",
       "      <td>A</td>\n",
       "      <td>B</td>\n",
       "      <td>2.040000</td>\n",
       "      <td>1.191912</td>\n",
       "      <td>2.888088</td>\n",
       "      <td>10.234409</td>\n",
       "      <td>0.001000</td>\n",
       "    </tr>\n",
       "    <tr>\n",
       "      <th>1</th>\n",
       "      <td>A</td>\n",
       "      <td>C</td>\n",
       "      <td>2.733333</td>\n",
       "      <td>1.885245</td>\n",
       "      <td>3.581421</td>\n",
       "      <td>13.712771</td>\n",
       "      <td>0.001000</td>\n",
       "    </tr>\n",
       "    <tr>\n",
       "      <th>2</th>\n",
       "      <td>A</td>\n",
       "      <td>D</td>\n",
       "      <td>2.560000</td>\n",
       "      <td>1.711912</td>\n",
       "      <td>3.408088</td>\n",
       "      <td>12.843180</td>\n",
       "      <td>0.001000</td>\n",
       "    </tr>\n",
       "    <tr>\n",
       "      <th>3</th>\n",
       "      <td>A</td>\n",
       "      <td>E</td>\n",
       "      <td>0.720000</td>\n",
       "      <td>-0.128088</td>\n",
       "      <td>1.568088</td>\n",
       "      <td>3.612145</td>\n",
       "      <td>0.135306</td>\n",
       "    </tr>\n",
       "    <tr>\n",
       "      <th>4</th>\n",
       "      <td>A</td>\n",
       "      <td>F</td>\n",
       "      <td>2.573333</td>\n",
       "      <td>1.725245</td>\n",
       "      <td>3.421421</td>\n",
       "      <td>12.910072</td>\n",
       "      <td>0.001000</td>\n",
       "    </tr>\n",
       "    <tr>\n",
       "      <th>5</th>\n",
       "      <td>B</td>\n",
       "      <td>C</td>\n",
       "      <td>0.693333</td>\n",
       "      <td>-0.154755</td>\n",
       "      <td>1.541421</td>\n",
       "      <td>3.478361</td>\n",
       "      <td>0.163609</td>\n",
       "    </tr>\n",
       "    <tr>\n",
       "      <th>6</th>\n",
       "      <td>B</td>\n",
       "      <td>D</td>\n",
       "      <td>0.520000</td>\n",
       "      <td>-0.328088</td>\n",
       "      <td>1.368088</td>\n",
       "      <td>2.608771</td>\n",
       "      <td>0.453066</td>\n",
       "    </tr>\n",
       "    <tr>\n",
       "      <th>7</th>\n",
       "      <td>B</td>\n",
       "      <td>E</td>\n",
       "      <td>1.320000</td>\n",
       "      <td>0.471912</td>\n",
       "      <td>2.168088</td>\n",
       "      <td>6.622265</td>\n",
       "      <td>0.001000</td>\n",
       "    </tr>\n",
       "    <tr>\n",
       "      <th>8</th>\n",
       "      <td>B</td>\n",
       "      <td>F</td>\n",
       "      <td>0.533333</td>\n",
       "      <td>-0.314755</td>\n",
       "      <td>1.381421</td>\n",
       "      <td>2.675663</td>\n",
       "      <td>0.425189</td>\n",
       "    </tr>\n",
       "    <tr>\n",
       "      <th>9</th>\n",
       "      <td>C</td>\n",
       "      <td>D</td>\n",
       "      <td>0.173333</td>\n",
       "      <td>-0.674755</td>\n",
       "      <td>1.021421</td>\n",
       "      <td>0.869590</td>\n",
       "      <td>0.900000</td>\n",
       "    </tr>\n",
       "    <tr>\n",
       "      <th>10</th>\n",
       "      <td>C</td>\n",
       "      <td>E</td>\n",
       "      <td>2.013333</td>\n",
       "      <td>1.165245</td>\n",
       "      <td>2.861421</td>\n",
       "      <td>10.100626</td>\n",
       "      <td>0.001000</td>\n",
       "    </tr>\n",
       "    <tr>\n",
       "      <th>11</th>\n",
       "      <td>C</td>\n",
       "      <td>F</td>\n",
       "      <td>0.160000</td>\n",
       "      <td>-0.688088</td>\n",
       "      <td>1.008088</td>\n",
       "      <td>0.802699</td>\n",
       "      <td>0.900000</td>\n",
       "    </tr>\n",
       "    <tr>\n",
       "      <th>12</th>\n",
       "      <td>D</td>\n",
       "      <td>E</td>\n",
       "      <td>1.840000</td>\n",
       "      <td>0.991912</td>\n",
       "      <td>2.688088</td>\n",
       "      <td>9.231036</td>\n",
       "      <td>0.001000</td>\n",
       "    </tr>\n",
       "    <tr>\n",
       "      <th>13</th>\n",
       "      <td>D</td>\n",
       "      <td>F</td>\n",
       "      <td>0.013333</td>\n",
       "      <td>-0.834755</td>\n",
       "      <td>0.861421</td>\n",
       "      <td>0.066892</td>\n",
       "      <td>0.900000</td>\n",
       "    </tr>\n",
       "    <tr>\n",
       "      <th>14</th>\n",
       "      <td>E</td>\n",
       "      <td>F</td>\n",
       "      <td>1.853333</td>\n",
       "      <td>1.005245</td>\n",
       "      <td>2.701421</td>\n",
       "      <td>9.297928</td>\n",
       "      <td>0.001000</td>\n",
       "    </tr>\n",
       "  </tbody>\n",
       "</table>\n",
       "</div>"
      ],
      "text/plain": [
       "   group1 group2      Diff     Lower     Upper    q-value   p-value\n",
       "0       A      B  2.040000  1.191912  2.888088  10.234409  0.001000\n",
       "1       A      C  2.733333  1.885245  3.581421  13.712771  0.001000\n",
       "2       A      D  2.560000  1.711912  3.408088  12.843180  0.001000\n",
       "3       A      E  0.720000 -0.128088  1.568088   3.612145  0.135306\n",
       "4       A      F  2.573333  1.725245  3.421421  12.910072  0.001000\n",
       "5       B      C  0.693333 -0.154755  1.541421   3.478361  0.163609\n",
       "6       B      D  0.520000 -0.328088  1.368088   2.608771  0.453066\n",
       "7       B      E  1.320000  0.471912  2.168088   6.622265  0.001000\n",
       "8       B      F  0.533333 -0.314755  1.381421   2.675663  0.425189\n",
       "9       C      D  0.173333 -0.674755  1.021421   0.869590  0.900000\n",
       "10      C      E  2.013333  1.165245  2.861421  10.100626  0.001000\n",
       "11      C      F  0.160000 -0.688088  1.008088   0.802699  0.900000\n",
       "12      D      E  1.840000  0.991912  2.688088   9.231036  0.001000\n",
       "13      D      F  0.013333 -0.834755  0.861421   0.066892  0.900000\n",
       "14      E      F  1.853333  1.005245  2.701421   9.297928  0.001000"
      ]
     },
     "execution_count": 22,
     "metadata": {},
     "output_type": "execute_result"
    }
   ],
   "source": [
    "# we will use bioinfokit (v1.0.3 or later) for performing tukey HSD test\n",
    "# check documentation here https://github.com/reneshbedre/bioinfokit\n",
    "from bioinfokit.analys import stat\n",
    "# perform multiple pairwise comparison (Tukey HSD)\n",
    "# unequal sample size data, tukey_hsd uses Tukey-Kramer test\n",
    "res = stat()\n",
    "# for main effect Genotype\n",
    "res.tukey_hsd(df=d_melt, res_var='value', xfac_var='Genotype', anova_model='value~C(Genotype)+C(years)+C(Genotype):C(years)')\n",
    "res.tukey_summary\n",
    "\n",
    "\n",
    "# Note: p-value 0.001 from tukey_hsd output should be interpreted as <=0.001"
   ]
  },
  {
   "cell_type": "code",
   "execution_count": 23,
   "id": "0c190b6a",
   "metadata": {
    "ExecuteTime": {
     "end_time": "2023-01-16T16:16:59.823279Z",
     "start_time": "2023-01-16T16:16:59.697342Z"
    },
    "scrolled": true
   },
   "outputs": [
    {
     "name": "stderr",
     "output_type": "stream",
     "text": [
      "/home/xenakas/.local/lib/python3.10/site-packages/bioinfokit/analys.py:402: FutureWarning: Dropping of nuisance columns in DataFrame reductions (with 'numeric_only=None') is deprecated; in a future version this will raise TypeError.  Select only valid columns before calling the reduction.\n",
      "  mult_group[ele] = df[df[xfac_var] == ele].mean().loc[res_var]\n"
     ]
    },
    {
     "data": {
      "text/html": [
       "<div>\n",
       "<style scoped>\n",
       "    .dataframe tbody tr th:only-of-type {\n",
       "        vertical-align: middle;\n",
       "    }\n",
       "\n",
       "    .dataframe tbody tr th {\n",
       "        vertical-align: top;\n",
       "    }\n",
       "\n",
       "    .dataframe thead th {\n",
       "        text-align: right;\n",
       "    }\n",
       "</style>\n",
       "<table border=\"1\" class=\"dataframe\">\n",
       "  <thead>\n",
       "    <tr style=\"text-align: right;\">\n",
       "      <th></th>\n",
       "      <th>group1</th>\n",
       "      <th>group2</th>\n",
       "      <th>Diff</th>\n",
       "      <th>Lower</th>\n",
       "      <th>Upper</th>\n",
       "      <th>q-value</th>\n",
       "      <th>p-value</th>\n",
       "    </tr>\n",
       "  </thead>\n",
       "  <tbody>\n",
       "    <tr>\n",
       "      <th>0</th>\n",
       "      <td>1_year</td>\n",
       "      <td>2_year</td>\n",
       "      <td>2.146667</td>\n",
       "      <td>1.659513</td>\n",
       "      <td>2.633821</td>\n",
       "      <td>15.230432</td>\n",
       "      <td>0.001</td>\n",
       "    </tr>\n",
       "    <tr>\n",
       "      <th>1</th>\n",
       "      <td>1_year</td>\n",
       "      <td>3_year</td>\n",
       "      <td>5.521667</td>\n",
       "      <td>5.034513</td>\n",
       "      <td>6.008821</td>\n",
       "      <td>39.175794</td>\n",
       "      <td>0.001</td>\n",
       "    </tr>\n",
       "    <tr>\n",
       "      <th>2</th>\n",
       "      <td>2_year</td>\n",
       "      <td>3_year</td>\n",
       "      <td>3.375000</td>\n",
       "      <td>2.887846</td>\n",
       "      <td>3.862154</td>\n",
       "      <td>23.945361</td>\n",
       "      <td>0.001</td>\n",
       "    </tr>\n",
       "  </tbody>\n",
       "</table>\n",
       "</div>"
      ],
      "text/plain": [
       "   group1  group2      Diff     Lower     Upper    q-value  p-value\n",
       "0  1_year  2_year  2.146667  1.659513  2.633821  15.230432    0.001\n",
       "1  1_year  3_year  5.521667  5.034513  6.008821  39.175794    0.001\n",
       "2  2_year  3_year  3.375000  2.887846  3.862154  23.945361    0.001"
      ]
     },
     "execution_count": 23,
     "metadata": {},
     "output_type": "execute_result"
    }
   ],
   "source": [
    "# for main effect years\n",
    "res.tukey_hsd(df=d_melt, res_var='value', xfac_var='years', anova_model='value ~ C(Genotype) + C(years) + C(Genotype):C(years)')\n",
    "res.tukey_summary"
   ]
  },
  {
   "cell_type": "code",
   "execution_count": 24,
   "id": "6d27c209",
   "metadata": {
    "ExecuteTime": {
     "end_time": "2023-01-16T16:17:43.555877Z",
     "start_time": "2023-01-16T16:17:40.788240Z"
    }
   },
   "outputs": [
    {
     "name": "stderr",
     "output_type": "stream",
     "text": [
      "/home/xenakas/.local/lib/python3.10/site-packages/bioinfokit/analys.py:369: FutureWarning: Dropping of nuisance columns in DataFrame reductions (with 'numeric_only=None') is deprecated; in a future version this will raise TypeError.  Select only valid columns before calling the reduction.\n",
      "  (df[xfac_var[1]] == ele2)].mean().loc[res_var]\n"
     ]
    },
    {
     "data": {
      "text/html": [
       "<div>\n",
       "<style scoped>\n",
       "    .dataframe tbody tr th:only-of-type {\n",
       "        vertical-align: middle;\n",
       "    }\n",
       "\n",
       "    .dataframe tbody tr th {\n",
       "        vertical-align: top;\n",
       "    }\n",
       "\n",
       "    .dataframe thead th {\n",
       "        text-align: right;\n",
       "    }\n",
       "</style>\n",
       "<table border=\"1\" class=\"dataframe\">\n",
       "  <thead>\n",
       "    <tr style=\"text-align: right;\">\n",
       "      <th></th>\n",
       "      <th>group1</th>\n",
       "      <th>group2</th>\n",
       "      <th>Diff</th>\n",
       "      <th>Lower</th>\n",
       "      <th>Upper</th>\n",
       "      <th>q-value</th>\n",
       "      <th>p-value</th>\n",
       "    </tr>\n",
       "  </thead>\n",
       "  <tbody>\n",
       "    <tr>\n",
       "      <th>0</th>\n",
       "      <td>(A, 1_year)</td>\n",
       "      <td>(A, 2_year)</td>\n",
       "      <td>2.38</td>\n",
       "      <td>0.548861</td>\n",
       "      <td>4.211139</td>\n",
       "      <td>6.893646</td>\n",
       "      <td>0.002439</td>\n",
       "    </tr>\n",
       "    <tr>\n",
       "      <th>1</th>\n",
       "      <td>(A, 1_year)</td>\n",
       "      <td>(A, 3_year)</td>\n",
       "      <td>4.75</td>\n",
       "      <td>2.918861</td>\n",
       "      <td>6.581139</td>\n",
       "      <td>13.758326</td>\n",
       "      <td>0.001000</td>\n",
       "    </tr>\n",
       "    <tr>\n",
       "      <th>2</th>\n",
       "      <td>(A, 1_year)</td>\n",
       "      <td>(B, 1_year)</td>\n",
       "      <td>1.94</td>\n",
       "      <td>0.108861</td>\n",
       "      <td>3.771139</td>\n",
       "      <td>5.619190</td>\n",
       "      <td>0.028673</td>\n",
       "    </tr>\n",
       "    <tr>\n",
       "      <th>3</th>\n",
       "      <td>(A, 1_year)</td>\n",
       "      <td>(B, 2_year)</td>\n",
       "      <td>4.41</td>\n",
       "      <td>2.578861</td>\n",
       "      <td>6.241139</td>\n",
       "      <td>12.773520</td>\n",
       "      <td>0.001000</td>\n",
       "    </tr>\n",
       "    <tr>\n",
       "      <th>4</th>\n",
       "      <td>(A, 1_year)</td>\n",
       "      <td>(B, 3_year)</td>\n",
       "      <td>6.90</td>\n",
       "      <td>5.068861</td>\n",
       "      <td>8.731139</td>\n",
       "      <td>19.985779</td>\n",
       "      <td>0.001000</td>\n",
       "    </tr>\n",
       "  </tbody>\n",
       "</table>\n",
       "</div>"
      ],
      "text/plain": [
       "        group1       group2  Diff     Lower     Upper    q-value   p-value\n",
       "0  (A, 1_year)  (A, 2_year)  2.38  0.548861  4.211139   6.893646  0.002439\n",
       "1  (A, 1_year)  (A, 3_year)  4.75  2.918861  6.581139  13.758326  0.001000\n",
       "2  (A, 1_year)  (B, 1_year)  1.94  0.108861  3.771139   5.619190  0.028673\n",
       "3  (A, 1_year)  (B, 2_year)  4.41  2.578861  6.241139  12.773520  0.001000\n",
       "4  (A, 1_year)  (B, 3_year)  6.90  5.068861  8.731139  19.985779  0.001000"
      ]
     },
     "execution_count": 24,
     "metadata": {},
     "output_type": "execute_result"
    }
   ],
   "source": [
    "# for interaction effect between genotype and years\n",
    "res.tukey_hsd(df=d_melt, res_var='value', xfac_var=['Genotype','years'], anova_model='value ~ C(Genotype) + C(years) + C(Genotype):C(years)')\n",
    "res.tukey_summary.head()"
   ]
  },
  {
   "cell_type": "code",
   "execution_count": 25,
   "id": "893ff0a9",
   "metadata": {
    "ExecuteTime": {
     "end_time": "2023-01-16T16:18:01.186799Z",
     "start_time": "2023-01-16T16:18:00.989744Z"
    }
   },
   "outputs": [
    {
     "data": {
      "image/png": "[encoded data removed]",
      "text/plain": [
       "<Figure size 432x288 with 1 Axes>"
      ]
     },
     "metadata": {
      "needs_background": "light"
     },
     "output_type": "display_data"
    }
   ],
   "source": [
    "# QQ-plot\n",
    "import statsmodels.api as sm\n",
    "import matplotlib.pyplot as plt\n",
    "# res.anova_std_residuals are standardized residuals obtained from two-way ANOVA (check above)\n",
    "sm.qqplot(res.anova_std_residuals, line='45')\n",
    "plt.xlabel(\"Theoretical Quantiles\")\n",
    "plt.ylabel(\"Standardized Residuals\")\n",
    "plt.show()"
   ]
  },
  {
   "cell_type": "code",
   "execution_count": 26,
   "id": "6f69c7f2",
   "metadata": {
    "ExecuteTime": {
     "end_time": "2023-01-16T16:18:19.395033Z",
     "start_time": "2023-01-16T16:18:19.144832Z"
    }
   },
   "outputs": [
    {
     "data": {
      "image/png": "[encoded data removed]",
      "text/plain": [
       "<Figure size 432x288 with 1 Axes>"
      ]
     },
     "metadata": {
      "needs_background": "light"
     },
     "output_type": "display_data"
    }
   ],
   "source": [
    "# histogram\n",
    "plt.hist(res.anova_model_out.resid, bins='auto', histtype='bar', ec='k') \n",
    "plt.xlabel(\"Residuals\")\n",
    "plt.ylabel('Frequency')\n",
    "plt.show()"
   ]
  },
  {
   "cell_type": "code",
   "execution_count": 27,
   "id": "d0aab865",
   "metadata": {
    "ExecuteTime": {
     "end_time": "2023-01-16T16:18:53.492389Z",
     "start_time": "2023-01-16T16:18:53.486132Z"
    }
   },
   "outputs": [
    {
     "name": "stdout",
     "output_type": "stream",
     "text": [
      "0.8978845477104187 0.00023986827000044286\n"
     ]
    }
   ],
   "source": [
    "# Shapiro-Wilk test\n",
    "import scipy.stats as stats\n",
    "w, pvalue = stats.shapiro(res.anova_model_out.resid)\n",
    "print(w, pvalue)"
   ]
  },
  {
   "cell_type": "code",
   "execution_count": 28,
   "id": "be26333a",
   "metadata": {
    "ExecuteTime": {
     "end_time": "2023-01-16T16:19:40.441513Z",
     "start_time": "2023-01-16T16:19:40.392423Z"
    },
    "scrolled": false
   },
   "outputs": [
    {
     "data": {
      "text/html": [
       "<div>\n",
       "<style scoped>\n",
       "    .dataframe tbody tr th:only-of-type {\n",
       "        vertical-align: middle;\n",
       "    }\n",
       "\n",
       "    .dataframe tbody tr th {\n",
       "        vertical-align: top;\n",
       "    }\n",
       "\n",
       "    .dataframe thead th {\n",
       "        text-align: right;\n",
       "    }\n",
       "</style>\n",
       "<table border=\"1\" class=\"dataframe\">\n",
       "  <thead>\n",
       "    <tr style=\"text-align: right;\">\n",
       "      <th></th>\n",
       "      <th>Parameter</th>\n",
       "      <th>Value</th>\n",
       "    </tr>\n",
       "  </thead>\n",
       "  <tbody>\n",
       "    <tr>\n",
       "      <th>0</th>\n",
       "      <td>Test statistics (W)</td>\n",
       "      <td>1.6849</td>\n",
       "    </tr>\n",
       "    <tr>\n",
       "      <th>1</th>\n",
       "      <td>Degrees of freedom (Df)</td>\n",
       "      <td>17.0000</td>\n",
       "    </tr>\n",
       "    <tr>\n",
       "      <th>2</th>\n",
       "      <td>p value</td>\n",
       "      <td>0.0927</td>\n",
       "    </tr>\n",
       "  </tbody>\n",
       "</table>\n",
       "</div>"
      ],
      "text/plain": [
       "                 Parameter    Value\n",
       "0      Test statistics (W)   1.6849\n",
       "1  Degrees of freedom (Df)  17.0000\n",
       "2                  p value   0.0927"
      ]
     },
     "execution_count": 28,
     "metadata": {},
     "output_type": "execute_result"
    }
   ],
   "source": [
    "# if you have  a stacked table, you can use bioinfokit v1.0.3 or later for the Levene's test\n",
    "from bioinfokit.analys import stat \n",
    "res = stat()\n",
    "res.levene(df=d_melt, res_var='value', xfac_var=['Genotype', 'years'])\n",
    "res.levene_summary"
   ]
  },
  {
   "cell_type": "markdown",
   "id": "930fddeb",
   "metadata": {
    "id": "4H4IHxINgffP"
   },
   "source": [
    "### One-way repeated measure ANOVA\n",
    "\n"
   ]
  },
  {
   "cell_type": "code",
   "execution_count": null,
   "id": "0ab13128",
   "metadata": {
    "ExecuteTime": {
     "end_time": "2023-01-16T11:09:00.742316Z",
     "start_time": "2023-01-16T11:09:00.735109Z"
    },
    "id": "Su3Ac1e6uBSG"
   },
   "outputs": [],
   "source": [
    "## Load and visualize the dataset"
   ]
  },
  {
   "cell_type": "code",
   "execution_count": 29,
   "id": "f798c47e",
   "metadata": {
    "ExecuteTime": {
     "end_time": "2023-01-16T16:20:07.131425Z",
     "start_time": "2023-01-16T16:20:06.902652Z"
    },
    "colab": {
     "base_uri": "https://localhost:8080/",
     "height": 111
    },
    "id": "o1vlQ3vhrzhn",
    "outputId": "86a7a5e8-c690-4a0f-f7a7-476afee794f4"
   },
   "outputs": [
    {
     "data": {
      "text/html": [
       "<div>\n",
       "<style scoped>\n",
       "    .dataframe tbody tr th:only-of-type {\n",
       "        vertical-align: middle;\n",
       "    }\n",
       "\n",
       "    .dataframe tbody tr th {\n",
       "        vertical-align: top;\n",
       "    }\n",
       "\n",
       "    .dataframe thead th {\n",
       "        text-align: right;\n",
       "    }\n",
       "</style>\n",
       "<table border=\"1\" class=\"dataframe\">\n",
       "  <thead>\n",
       "    <tr style=\"text-align: right;\">\n",
       "      <th></th>\n",
       "      <th>Id</th>\n",
       "      <th>W1</th>\n",
       "      <th>W2</th>\n",
       "      <th>W3</th>\n",
       "      <th>W4</th>\n",
       "      <th>W5</th>\n",
       "    </tr>\n",
       "  </thead>\n",
       "  <tbody>\n",
       "    <tr>\n",
       "      <th>0</th>\n",
       "      <td>P1</td>\n",
       "      <td>4</td>\n",
       "      <td>5</td>\n",
       "      <td>6</td>\n",
       "      <td>8</td>\n",
       "      <td>10</td>\n",
       "    </tr>\n",
       "    <tr>\n",
       "      <th>1</th>\n",
       "      <td>P2</td>\n",
       "      <td>3</td>\n",
       "      <td>4</td>\n",
       "      <td>6</td>\n",
       "      <td>6</td>\n",
       "      <td>9</td>\n",
       "    </tr>\n",
       "    <tr>\n",
       "      <th>2</th>\n",
       "      <td>P3</td>\n",
       "      <td>6</td>\n",
       "      <td>7</td>\n",
       "      <td>9</td>\n",
       "      <td>10</td>\n",
       "      <td>12</td>\n",
       "    </tr>\n",
       "    <tr>\n",
       "      <th>3</th>\n",
       "      <td>P4</td>\n",
       "      <td>5</td>\n",
       "      <td>7</td>\n",
       "      <td>8</td>\n",
       "      <td>10</td>\n",
       "      <td>12</td>\n",
       "    </tr>\n",
       "    <tr>\n",
       "      <th>4</th>\n",
       "      <td>P5</td>\n",
       "      <td>5</td>\n",
       "      <td>6</td>\n",
       "      <td>7</td>\n",
       "      <td>8</td>\n",
       "      <td>10</td>\n",
       "    </tr>\n",
       "  </tbody>\n",
       "</table>\n",
       "</div>"
      ],
      "text/plain": [
       "   Id  W1  W2  W3  W4  W5\n",
       "0  P1   4   5   6   8  10\n",
       "1  P2   3   4   6   6   9\n",
       "2  P3   6   7   9  10  12\n",
       "3  P4   5   7   8  10  12\n",
       "4  P5   5   6   7   8  10"
      ]
     },
     "execution_count": 29,
     "metadata": {},
     "output_type": "execute_result"
    }
   ],
   "source": [
    "import pandas as pd\n",
    "# load data file\n",
    "df=pd.read_csv(\"https://reneshbedre.github.io/assets/posts/anova/plants_leaves.csv\")\n",
    "df"
   ]
  },
  {
   "cell_type": "code",
   "execution_count": 30,
   "id": "64348703",
   "metadata": {
    "ExecuteTime": {
     "end_time": "2023-01-16T16:20:37.940513Z",
     "start_time": "2023-01-16T16:20:37.921602Z"
    },
    "colab": {
     "base_uri": "https://localhost:8080/",
     "height": 111
    },
    "id": "o1vlQ3vhrzhn",
    "outputId": "86a7a5e8-c690-4a0f-f7a7-476afee794f4"
   },
   "outputs": [
    {
     "data": {
      "text/html": [
       "<div>\n",
       "<style scoped>\n",
       "    .dataframe tbody tr th:only-of-type {\n",
       "        vertical-align: middle;\n",
       "    }\n",
       "\n",
       "    .dataframe tbody tr th {\n",
       "        vertical-align: top;\n",
       "    }\n",
       "\n",
       "    .dataframe thead th {\n",
       "        text-align: right;\n",
       "    }\n",
       "</style>\n",
       "<table border=\"1\" class=\"dataframe\">\n",
       "  <thead>\n",
       "    <tr style=\"text-align: right;\">\n",
       "      <th></th>\n",
       "      <th>Id</th>\n",
       "      <th>time_points</th>\n",
       "      <th>leaves</th>\n",
       "    </tr>\n",
       "  </thead>\n",
       "  <tbody>\n",
       "    <tr>\n",
       "      <th>0</th>\n",
       "      <td>P1</td>\n",
       "      <td>W1</td>\n",
       "      <td>4</td>\n",
       "    </tr>\n",
       "    <tr>\n",
       "      <th>1</th>\n",
       "      <td>P2</td>\n",
       "      <td>W1</td>\n",
       "      <td>3</td>\n",
       "    </tr>\n",
       "  </tbody>\n",
       "</table>\n",
       "</div>"
      ],
      "text/plain": [
       "   Id time_points  leaves\n",
       "0  P1          W1       4\n",
       "1  P2          W1       3"
      ]
     },
     "execution_count": 30,
     "metadata": {},
     "output_type": "execute_result"
    }
   ],
   "source": [
    "# reshape the dataframe in long-format dataframe\n",
    "df_melt = pd.melt(df.reset_index(), id_vars=['Id'], value_vars=['W1', 'W2', 'W3', 'W4', 'W5'])\n",
    "# replace column names\n",
    "df_melt.columns = ['Id', 'time_points', 'leaves']\n",
    "df_melt.head(2)"
   ]
  },
  {
   "cell_type": "code",
   "execution_count": 31,
   "id": "9db985ad",
   "metadata": {
    "ExecuteTime": {
     "end_time": "2023-01-16T16:20:49.308765Z",
     "start_time": "2023-01-16T16:20:49.063161Z"
    },
    "colab": {
     "base_uri": "https://localhost:8080/",
     "height": 280
    },
    "id": "uSQY_WYcsDPM",
    "outputId": "0dc0895d-4d5d-4faa-9d9b-e1cfd06cfb6d"
   },
   "outputs": [
    {
     "data": {
      "image/png": "[encoded data removed]",
      "text/plain": [
       "<Figure size 432x288 with 1 Axes>"
      ]
     },
     "metadata": {
      "needs_background": "light"
     },
     "output_type": "display_data"
    }
   ],
   "source": [
    "# generate a boxplot to see the data distribution by time points. Using boxplot, we can \n",
    "# boxplot helps detect the differences between different time points and find any outliers\n",
    "import matplotlib.pyplot as plt\n",
    "import seaborn as sns\n",
    "ax = sns.boxplot(x='time_points', y='leaves', data=df_melt, color='#99c2a2')\n",
    "ax = sns.swarmplot(x=\"time_points\", y=\"leaves\", data=df_melt, color='#7d0013')\n",
    "plt.show()"
   ]
  },
  {
   "cell_type": "code",
   "execution_count": null,
   "id": "7099efe3",
   "metadata": {
    "ExecuteTime": {
     "end_time": "2023-01-16T11:09:02.556603Z",
     "start_time": "2023-01-16T11:09:02.552343Z"
    },
    "id": "pyKG2cXuuXim"
   },
   "outputs": [],
   "source": [
    "# Perform one-way repeated measure ANOVA"
   ]
  },
  {
   "cell_type": "code",
   "execution_count": 32,
   "id": "e84c5e47",
   "metadata": {
    "ExecuteTime": {
     "end_time": "2023-01-16T16:21:20.947868Z",
     "start_time": "2023-01-16T16:21:20.764507Z"
    },
    "colab": {
     "base_uri": "https://localhost:8080/",
     "height": 845
    },
    "id": "PFsihnUVt9C3",
    "outputId": "1896de6b-529b-49f1-fc8a-ac63d4000c21"
   },
   "outputs": [
    {
     "data": {
      "text/html": [
       "<div>\n",
       "<style scoped>\n",
       "    .dataframe tbody tr th:only-of-type {\n",
       "        vertical-align: middle;\n",
       "    }\n",
       "\n",
       "    .dataframe tbody tr th {\n",
       "        vertical-align: top;\n",
       "    }\n",
       "\n",
       "    .dataframe thead th {\n",
       "        text-align: right;\n",
       "    }\n",
       "</style>\n",
       "<table border=\"1\" class=\"dataframe\">\n",
       "  <thead>\n",
       "    <tr style=\"text-align: right;\">\n",
       "      <th></th>\n",
       "      <th>Source</th>\n",
       "      <th>SS</th>\n",
       "      <th>DF</th>\n",
       "      <th>MS</th>\n",
       "      <th>F</th>\n",
       "      <th>p-unc</th>\n",
       "      <th>ng2</th>\n",
       "      <th>eps</th>\n",
       "    </tr>\n",
       "  </thead>\n",
       "  <tbody>\n",
       "    <tr>\n",
       "      <th>0</th>\n",
       "      <td>time_points</td>\n",
       "      <td>108.24</td>\n",
       "      <td>4</td>\n",
       "      <td>27.060</td>\n",
       "      <td>146.27027</td>\n",
       "      <td>2.214820e-12</td>\n",
       "      <td>0.744224</td>\n",
       "      <td>0.541964</td>\n",
       "    </tr>\n",
       "    <tr>\n",
       "      <th>1</th>\n",
       "      <td>Error</td>\n",
       "      <td>2.96</td>\n",
       "      <td>16</td>\n",
       "      <td>0.185</td>\n",
       "      <td>NaN</td>\n",
       "      <td>NaN</td>\n",
       "      <td>NaN</td>\n",
       "      <td>NaN</td>\n",
       "    </tr>\n",
       "  </tbody>\n",
       "</table>\n",
       "</div>"
      ],
      "text/plain": [
       "        Source      SS  DF      MS          F         p-unc       ng2  \\\n",
       "0  time_points  108.24   4  27.060  146.27027  2.214820e-12  0.744224   \n",
       "1        Error    2.96  16   0.185        NaN           NaN       NaN   \n",
       "\n",
       "        eps  \n",
       "0  0.541964  \n",
       "1       NaN  "
      ]
     },
     "execution_count": 32,
     "metadata": {},
     "output_type": "execute_result"
    },
    {
     "name": "stderr",
     "output_type": "stream",
     "text": [
      "/home/xenakas/.local/lib/python3.10/site-packages/outdated/utils.py:14: OutdatedPackageWarning: The package outdated is out of date. Your version is 0.2.1, the latest is 0.2.2.\n",
      "Set the environment variable OUTDATED_IGNORE=1 to disable these warnings.\n",
      "  return warn(\n",
      "/home/xenakas/.local/lib/python3.10/site-packages/outdated/utils.py:14: OutdatedPackageWarning: The package pingouin is out of date. Your version is 0.5.2, the latest is 0.5.3.\n",
      "Set the environment variable OUTDATED_IGNORE=1 to disable these warnings.\n",
      "  return warn(\n"
     ]
    }
   ],
   "source": [
    "import pingouin as pg\n",
    "res = pg.rm_anova(dv='leaves', within='time_points', subject='Id', data=df_melt, detailed=True)\n",
    "res"
   ]
  },
  {
   "cell_type": "code",
   "execution_count": null,
   "id": "6700c9b5",
   "metadata": {
    "ExecuteTime": {
     "end_time": "2023-01-16T11:09:03.731965Z",
     "start_time": "2023-01-16T11:09:03.726590Z"
    },
    "id": "srRY2yxMvH3_"
   },
   "outputs": [],
   "source": [
    "### Post-hoc tests"
   ]
  },
  {
   "cell_type": "code",
   "execution_count": 33,
   "id": "7d3f5dd5",
   "metadata": {
    "ExecuteTime": {
     "end_time": "2023-01-16T16:22:12.383134Z",
     "start_time": "2023-01-16T16:22:12.229760Z"
    },
    "colab": {
     "base_uri": "https://localhost:8080/",
     "height": 359
    },
    "id": "WZq9wUTTvK_Z",
    "outputId": "5f1be91b-4c9c-42c8-8a14-ebd908c0f565"
   },
   "outputs": [
    {
     "name": "stderr",
     "output_type": "stream",
     "text": [
      "/home/xenakas/.local/lib/python3.10/site-packages/pingouin/pairwise.py:27: UserWarning: pairwise_ttests is deprecated, use pairwise_tests instead.\n",
      "  warnings.warn(\"pairwise_ttests is deprecated, use pairwise_tests instead.\", UserWarning)\n"
     ]
    },
    {
     "data": {
      "text/html": [
       "<div>\n",
       "<style scoped>\n",
       "    .dataframe tbody tr th:only-of-type {\n",
       "        vertical-align: middle;\n",
       "    }\n",
       "\n",
       "    .dataframe tbody tr th {\n",
       "        vertical-align: top;\n",
       "    }\n",
       "\n",
       "    .dataframe thead th {\n",
       "        text-align: right;\n",
       "    }\n",
       "</style>\n",
       "<table border=\"1\" class=\"dataframe\">\n",
       "  <thead>\n",
       "    <tr style=\"text-align: right;\">\n",
       "      <th></th>\n",
       "      <th>Contrast</th>\n",
       "      <th>A</th>\n",
       "      <th>B</th>\n",
       "      <th>Paired</th>\n",
       "      <th>Parametric</th>\n",
       "      <th>T</th>\n",
       "      <th>dof</th>\n",
       "      <th>alternative</th>\n",
       "      <th>p-unc</th>\n",
       "      <th>p-corr</th>\n",
       "      <th>p-adjust</th>\n",
       "      <th>BF10</th>\n",
       "      <th>hedges</th>\n",
       "    </tr>\n",
       "  </thead>\n",
       "  <tbody>\n",
       "    <tr>\n",
       "      <th>0</th>\n",
       "      <td>time_points</td>\n",
       "      <td>W1</td>\n",
       "      <td>W2</td>\n",
       "      <td>True</td>\n",
       "      <td>True</td>\n",
       "      <td>-6.000000</td>\n",
       "      <td>4.0</td>\n",
       "      <td>two-sided</td>\n",
       "      <td>0.003883</td>\n",
       "      <td>0.004853</td>\n",
       "      <td>fdr_bh</td>\n",
       "      <td>13.991</td>\n",
       "      <td>-0.884977</td>\n",
       "    </tr>\n",
       "    <tr>\n",
       "      <th>1</th>\n",
       "      <td>time_points</td>\n",
       "      <td>W1</td>\n",
       "      <td>W3</td>\n",
       "      <td>True</td>\n",
       "      <td>True</td>\n",
       "      <td>-10.614456</td>\n",
       "      <td>4.0</td>\n",
       "      <td>two-sided</td>\n",
       "      <td>0.000446</td>\n",
       "      <td>0.000743</td>\n",
       "      <td>fdr_bh</td>\n",
       "      <td>68.116</td>\n",
       "      <td>-1.917450</td>\n",
       "    </tr>\n",
       "    <tr>\n",
       "      <th>2</th>\n",
       "      <td>time_points</td>\n",
       "      <td>W1</td>\n",
       "      <td>W4</td>\n",
       "      <td>True</td>\n",
       "      <td>True</td>\n",
       "      <td>-10.155927</td>\n",
       "      <td>4.0</td>\n",
       "      <td>two-sided</td>\n",
       "      <td>0.000529</td>\n",
       "      <td>0.000756</td>\n",
       "      <td>fdr_bh</td>\n",
       "      <td>60.047</td>\n",
       "      <td>-2.397193</td>\n",
       "    </tr>\n",
       "    <tr>\n",
       "      <th>3</th>\n",
       "      <td>time_points</td>\n",
       "      <td>W1</td>\n",
       "      <td>W5</td>\n",
       "      <td>True</td>\n",
       "      <td>True</td>\n",
       "      <td>-18.973666</td>\n",
       "      <td>4.0</td>\n",
       "      <td>two-sided</td>\n",
       "      <td>0.000045</td>\n",
       "      <td>0.000227</td>\n",
       "      <td>fdr_bh</td>\n",
       "      <td>369.333</td>\n",
       "      <td>-4.352931</td>\n",
       "    </tr>\n",
       "    <tr>\n",
       "      <th>4</th>\n",
       "      <td>time_points</td>\n",
       "      <td>W2</td>\n",
       "      <td>W3</td>\n",
       "      <td>True</td>\n",
       "      <td>True</td>\n",
       "      <td>-5.715476</td>\n",
       "      <td>4.0</td>\n",
       "      <td>two-sided</td>\n",
       "      <td>0.004636</td>\n",
       "      <td>0.005151</td>\n",
       "      <td>fdr_bh</td>\n",
       "      <td>12.3</td>\n",
       "      <td>-0.969840</td>\n",
       "    </tr>\n",
       "    <tr>\n",
       "      <th>5</th>\n",
       "      <td>time_points</td>\n",
       "      <td>W2</td>\n",
       "      <td>W4</td>\n",
       "      <td>True</td>\n",
       "      <td>True</td>\n",
       "      <td>-10.614456</td>\n",
       "      <td>4.0</td>\n",
       "      <td>two-sided</td>\n",
       "      <td>0.000446</td>\n",
       "      <td>0.000743</td>\n",
       "      <td>fdr_bh</td>\n",
       "      <td>68.116</td>\n",
       "      <td>-1.565591</td>\n",
       "    </tr>\n",
       "    <tr>\n",
       "      <th>6</th>\n",
       "      <td>time_points</td>\n",
       "      <td>W2</td>\n",
       "      <td>W5</td>\n",
       "      <td>True</td>\n",
       "      <td>True</td>\n",
       "      <td>-24.000000</td>\n",
       "      <td>4.0</td>\n",
       "      <td>two-sided</td>\n",
       "      <td>0.000018</td>\n",
       "      <td>0.000179</td>\n",
       "      <td>fdr_bh</td>\n",
       "      <td>740.006</td>\n",
       "      <td>-3.277318</td>\n",
       "    </tr>\n",
       "    <tr>\n",
       "      <th>7</th>\n",
       "      <td>time_points</td>\n",
       "      <td>W3</td>\n",
       "      <td>W4</td>\n",
       "      <td>True</td>\n",
       "      <td>True</td>\n",
       "      <td>-3.207135</td>\n",
       "      <td>4.0</td>\n",
       "      <td>two-sided</td>\n",
       "      <td>0.032678</td>\n",
       "      <td>0.032678</td>\n",
       "      <td>fdr_bh</td>\n",
       "      <td>3.006</td>\n",
       "      <td>-0.722581</td>\n",
       "    </tr>\n",
       "    <tr>\n",
       "      <th>8</th>\n",
       "      <td>time_points</td>\n",
       "      <td>W3</td>\n",
       "      <td>W5</td>\n",
       "      <td>True</td>\n",
       "      <td>True</td>\n",
       "      <td>-13.880442</td>\n",
       "      <td>4.0</td>\n",
       "      <td>two-sided</td>\n",
       "      <td>0.000156</td>\n",
       "      <td>0.000521</td>\n",
       "      <td>fdr_bh</td>\n",
       "      <td>147.775</td>\n",
       "      <td>-2.321433</td>\n",
       "    </tr>\n",
       "    <tr>\n",
       "      <th>9</th>\n",
       "      <td>time_points</td>\n",
       "      <td>W4</td>\n",
       "      <td>W5</td>\n",
       "      <td>True</td>\n",
       "      <td>True</td>\n",
       "      <td>-11.000000</td>\n",
       "      <td>4.0</td>\n",
       "      <td>two-sided</td>\n",
       "      <td>0.000388</td>\n",
       "      <td>0.000743</td>\n",
       "      <td>fdr_bh</td>\n",
       "      <td>75.445</td>\n",
       "      <td>-1.310253</td>\n",
       "    </tr>\n",
       "  </tbody>\n",
       "</table>\n",
       "</div>"
      ],
      "text/plain": [
       "      Contrast   A   B  Paired  Parametric          T  dof alternative  \\\n",
       "0  time_points  W1  W2    True        True  -6.000000  4.0   two-sided   \n",
       "1  time_points  W1  W3    True        True -10.614456  4.0   two-sided   \n",
       "2  time_points  W1  W4    True        True -10.155927  4.0   two-sided   \n",
       "3  time_points  W1  W5    True        True -18.973666  4.0   two-sided   \n",
       "4  time_points  W2  W3    True        True  -5.715476  4.0   two-sided   \n",
       "5  time_points  W2  W4    True        True -10.614456  4.0   two-sided   \n",
       "6  time_points  W2  W5    True        True -24.000000  4.0   two-sided   \n",
       "7  time_points  W3  W4    True        True  -3.207135  4.0   two-sided   \n",
       "8  time_points  W3  W5    True        True -13.880442  4.0   two-sided   \n",
       "9  time_points  W4  W5    True        True -11.000000  4.0   two-sided   \n",
       "\n",
       "      p-unc    p-corr p-adjust     BF10    hedges  \n",
       "0  0.003883  0.004853   fdr_bh   13.991 -0.884977  \n",
       "1  0.000446  0.000743   fdr_bh   68.116 -1.917450  \n",
       "2  0.000529  0.000756   fdr_bh   60.047 -2.397193  \n",
       "3  0.000045  0.000227   fdr_bh  369.333 -4.352931  \n",
       "4  0.004636  0.005151   fdr_bh     12.3 -0.969840  \n",
       "5  0.000446  0.000743   fdr_bh   68.116 -1.565591  \n",
       "6  0.000018  0.000179   fdr_bh  740.006 -3.277318  \n",
       "7  0.032678  0.032678   fdr_bh    3.006 -0.722581  \n",
       "8  0.000156  0.000521   fdr_bh  147.775 -2.321433  \n",
       "9  0.000388  0.000743   fdr_bh   75.445 -1.310253  "
      ]
     },
     "execution_count": 33,
     "metadata": {},
     "output_type": "execute_result"
    }
   ],
   "source": [
    "# install pingouin as !pip install pingouin\n",
    "# make sure you have installed the pingouin package (pip install pingouin)\n",
    "post_hocs = pg.pairwise_ttests(dv='leaves', within='time_points', subject='Id', padjust='fdr_bh', data=df_melt)\n",
    "post_hocs"
   ]
  },
  {
   "cell_type": "code",
   "execution_count": null,
   "id": "6fc1d31a",
   "metadata": {
    "ExecuteTime": {
     "end_time": "2023-01-16T11:09:05.107528Z",
     "start_time": "2023-01-16T11:09:05.103213Z"
    },
    "id": "r26ETApTvX_1"
   },
   "outputs": [],
   "source": [
    "# Check repeated measure ANOVA assumptions\n",
    "## Assumption of sphericity"
   ]
  },
  {
   "cell_type": "code",
   "execution_count": 34,
   "id": "d1f7513c",
   "metadata": {
    "ExecuteTime": {
     "end_time": "2023-01-16T16:23:22.009311Z",
     "start_time": "2023-01-16T16:23:21.979091Z"
    },
    "colab": {
     "base_uri": "https://localhost:8080/"
    },
    "id": "aJBFOef2vcuk",
    "outputId": "00ecc2b6-c743-4426-bc69-942d84dfeaa7"
   },
   "outputs": [
    {
     "data": {
      "text/plain": [
       "SpherResults(spher=True, W=0.1333930222643612, chi2=4.868267346520268, dof=9, pval=0.8883022484983495)"
      ]
     },
     "execution_count": 34,
     "metadata": {},
     "output_type": "execute_result"
    }
   ],
   "source": [
    "# install pingouin as !pip install pingouin\n",
    "# Mauchly’s test of sphericity\n",
    "import pingouin as pg\n",
    "pg.sphericity(data=df_melt, dv='leaves', subject='Id', within='time_points')"
   ]
  },
  {
   "cell_type": "code",
   "execution_count": null,
   "id": "c1b87157",
   "metadata": {
    "ExecuteTime": {
     "end_time": "2023-01-16T11:09:06.331462Z",
     "start_time": "2023-01-16T11:09:06.327152Z"
    },
    "id": "FbYR2T_ovp38"
   },
   "outputs": [],
   "source": [
    "## Assumption of normality"
   ]
  },
  {
   "cell_type": "code",
   "execution_count": 35,
   "id": "5e455b67",
   "metadata": {
    "ExecuteTime": {
     "end_time": "2023-01-16T16:23:34.504627Z",
     "start_time": "2023-01-16T16:23:34.466756Z"
    }
   },
   "outputs": [
    {
     "data": {
      "text/html": [
       "<div>\n",
       "<style scoped>\n",
       "    .dataframe tbody tr th:only-of-type {\n",
       "        vertical-align: middle;\n",
       "    }\n",
       "\n",
       "    .dataframe tbody tr th {\n",
       "        vertical-align: top;\n",
       "    }\n",
       "\n",
       "    .dataframe thead th {\n",
       "        text-align: right;\n",
       "    }\n",
       "</style>\n",
       "<table border=\"1\" class=\"dataframe\">\n",
       "  <thead>\n",
       "    <tr style=\"text-align: right;\">\n",
       "      <th></th>\n",
       "      <th>W</th>\n",
       "      <th>pval</th>\n",
       "      <th>normal</th>\n",
       "    </tr>\n",
       "  </thead>\n",
       "  <tbody>\n",
       "    <tr>\n",
       "      <th>W1</th>\n",
       "      <td>0.960859</td>\n",
       "      <td>0.813953</td>\n",
       "      <td>True</td>\n",
       "    </tr>\n",
       "    <tr>\n",
       "      <th>W2</th>\n",
       "      <td>0.902020</td>\n",
       "      <td>0.421149</td>\n",
       "      <td>True</td>\n",
       "    </tr>\n",
       "    <tr>\n",
       "      <th>W3</th>\n",
       "      <td>0.902020</td>\n",
       "      <td>0.421149</td>\n",
       "      <td>True</td>\n",
       "    </tr>\n",
       "    <tr>\n",
       "      <th>W4</th>\n",
       "      <td>0.881038</td>\n",
       "      <td>0.314040</td>\n",
       "      <td>True</td>\n",
       "    </tr>\n",
       "    <tr>\n",
       "      <th>W5</th>\n",
       "      <td>0.851907</td>\n",
       "      <td>0.200623</td>\n",
       "      <td>True</td>\n",
       "    </tr>\n",
       "  </tbody>\n",
       "</table>\n",
       "</div>"
      ],
      "text/plain": [
       "           W      pval  normal\n",
       "W1  0.960859  0.813953    True\n",
       "W2  0.902020  0.421149    True\n",
       "W3  0.902020  0.421149    True\n",
       "W4  0.881038  0.314040    True\n",
       "W5  0.851907  0.200623    True"
      ]
     },
     "execution_count": 35,
     "metadata": {},
     "output_type": "execute_result"
    }
   ],
   "source": [
    "pg.normality(data=df_melt, dv='leaves', group='time_points')"
   ]
  },
  {
   "cell_type": "markdown",
   "id": "ffffb47b",
   "metadata": {
    "id": "nmoKB4wUg9aK"
   },
   "source": [
    "### Two-way repeated measure ANOVA (Within-within-subjects ANOVA)\n"
   ]
  },
  {
   "cell_type": "code",
   "execution_count": null,
   "id": "ba12846a",
   "metadata": {
    "ExecuteTime": {
     "end_time": "2023-01-16T11:09:07.687555Z",
     "start_time": "2023-01-16T11:09:07.683357Z"
    },
    "id": "TPJia3mUhLcM"
   },
   "outputs": [],
   "source": [
    "## Load and visualize the dataset"
   ]
  },
  {
   "cell_type": "code",
   "execution_count": 37,
   "id": "36a8242c",
   "metadata": {
    "ExecuteTime": {
     "end_time": "2023-01-16T16:24:33.169705Z",
     "start_time": "2023-01-16T16:24:33.020982Z"
    },
    "colab": {
     "base_uri": "https://localhost:8080/",
     "height": 111
    },
    "id": "UBR7uXPbhN1I",
    "outputId": "f546930b-1cd1-4c24-e09f-ec7585ccf2d2"
   },
   "outputs": [
    {
     "data": {
      "text/html": [
       "<div>\n",
       "<style scoped>\n",
       "    .dataframe tbody tr th:only-of-type {\n",
       "        vertical-align: middle;\n",
       "    }\n",
       "\n",
       "    .dataframe tbody tr th {\n",
       "        vertical-align: top;\n",
       "    }\n",
       "\n",
       "    .dataframe thead th {\n",
       "        text-align: right;\n",
       "    }\n",
       "</style>\n",
       "<table border=\"1\" class=\"dataframe\">\n",
       "  <thead>\n",
       "    <tr style=\"text-align: right;\">\n",
       "      <th></th>\n",
       "      <th>plants</th>\n",
       "      <th>nutrient_level</th>\n",
       "      <th>year</th>\n",
       "      <th>time</th>\n",
       "      <th>num_leaves</th>\n",
       "    </tr>\n",
       "  </thead>\n",
       "  <tbody>\n",
       "    <tr>\n",
       "      <th>0</th>\n",
       "      <td>P1</td>\n",
       "      <td>Low</td>\n",
       "      <td>Year1</td>\n",
       "      <td>Week1</td>\n",
       "      <td>4</td>\n",
       "    </tr>\n",
       "    <tr>\n",
       "      <th>1</th>\n",
       "      <td>P2</td>\n",
       "      <td>Low</td>\n",
       "      <td>Year1</td>\n",
       "      <td>Week1</td>\n",
       "      <td>3</td>\n",
       "    </tr>\n",
       "    <tr>\n",
       "      <th>2</th>\n",
       "      <td>P3</td>\n",
       "      <td>Low</td>\n",
       "      <td>Year1</td>\n",
       "      <td>Week1</td>\n",
       "      <td>6</td>\n",
       "    </tr>\n",
       "    <tr>\n",
       "      <th>3</th>\n",
       "      <td>P4</td>\n",
       "      <td>Low</td>\n",
       "      <td>Year1</td>\n",
       "      <td>Week1</td>\n",
       "      <td>5</td>\n",
       "    </tr>\n",
       "    <tr>\n",
       "      <th>4</th>\n",
       "      <td>P5</td>\n",
       "      <td>Low</td>\n",
       "      <td>Year1</td>\n",
       "      <td>Week1</td>\n",
       "      <td>5</td>\n",
       "    </tr>\n",
       "    <tr>\n",
       "      <th>5</th>\n",
       "      <td>P1</td>\n",
       "      <td>Low</td>\n",
       "      <td>Year1</td>\n",
       "      <td>Week2</td>\n",
       "      <td>5</td>\n",
       "    </tr>\n",
       "    <tr>\n",
       "      <th>6</th>\n",
       "      <td>P2</td>\n",
       "      <td>Low</td>\n",
       "      <td>Year1</td>\n",
       "      <td>Week2</td>\n",
       "      <td>4</td>\n",
       "    </tr>\n",
       "    <tr>\n",
       "      <th>7</th>\n",
       "      <td>P3</td>\n",
       "      <td>Low</td>\n",
       "      <td>Year1</td>\n",
       "      <td>Week2</td>\n",
       "      <td>7</td>\n",
       "    </tr>\n",
       "    <tr>\n",
       "      <th>8</th>\n",
       "      <td>P4</td>\n",
       "      <td>Low</td>\n",
       "      <td>Year1</td>\n",
       "      <td>Week2</td>\n",
       "      <td>7</td>\n",
       "    </tr>\n",
       "    <tr>\n",
       "      <th>9</th>\n",
       "      <td>P5</td>\n",
       "      <td>Low</td>\n",
       "      <td>Year1</td>\n",
       "      <td>Week2</td>\n",
       "      <td>6</td>\n",
       "    </tr>\n",
       "    <tr>\n",
       "      <th>10</th>\n",
       "      <td>P1</td>\n",
       "      <td>Low</td>\n",
       "      <td>Year1</td>\n",
       "      <td>Week3</td>\n",
       "      <td>6</td>\n",
       "    </tr>\n",
       "    <tr>\n",
       "      <th>11</th>\n",
       "      <td>P2</td>\n",
       "      <td>Low</td>\n",
       "      <td>Year1</td>\n",
       "      <td>Week3</td>\n",
       "      <td>6</td>\n",
       "    </tr>\n",
       "    <tr>\n",
       "      <th>12</th>\n",
       "      <td>P3</td>\n",
       "      <td>Low</td>\n",
       "      <td>Year1</td>\n",
       "      <td>Week3</td>\n",
       "      <td>9</td>\n",
       "    </tr>\n",
       "    <tr>\n",
       "      <th>13</th>\n",
       "      <td>P4</td>\n",
       "      <td>Low</td>\n",
       "      <td>Year1</td>\n",
       "      <td>Week3</td>\n",
       "      <td>8</td>\n",
       "    </tr>\n",
       "    <tr>\n",
       "      <th>14</th>\n",
       "      <td>P5</td>\n",
       "      <td>Low</td>\n",
       "      <td>Year1</td>\n",
       "      <td>Week3</td>\n",
       "      <td>7</td>\n",
       "    </tr>\n",
       "    <tr>\n",
       "      <th>15</th>\n",
       "      <td>P1</td>\n",
       "      <td>Low</td>\n",
       "      <td>Year1</td>\n",
       "      <td>Week4</td>\n",
       "      <td>8</td>\n",
       "    </tr>\n",
       "    <tr>\n",
       "      <th>16</th>\n",
       "      <td>P2</td>\n",
       "      <td>Low</td>\n",
       "      <td>Year1</td>\n",
       "      <td>Week4</td>\n",
       "      <td>6</td>\n",
       "    </tr>\n",
       "    <tr>\n",
       "      <th>17</th>\n",
       "      <td>P3</td>\n",
       "      <td>Low</td>\n",
       "      <td>Year1</td>\n",
       "      <td>Week4</td>\n",
       "      <td>10</td>\n",
       "    </tr>\n",
       "    <tr>\n",
       "      <th>18</th>\n",
       "      <td>P4</td>\n",
       "      <td>Low</td>\n",
       "      <td>Year1</td>\n",
       "      <td>Week4</td>\n",
       "      <td>10</td>\n",
       "    </tr>\n",
       "    <tr>\n",
       "      <th>19</th>\n",
       "      <td>P5</td>\n",
       "      <td>Low</td>\n",
       "      <td>Year1</td>\n",
       "      <td>Week4</td>\n",
       "      <td>8</td>\n",
       "    </tr>\n",
       "    <tr>\n",
       "      <th>20</th>\n",
       "      <td>P1</td>\n",
       "      <td>Low</td>\n",
       "      <td>Year1</td>\n",
       "      <td>Week5</td>\n",
       "      <td>10</td>\n",
       "    </tr>\n",
       "    <tr>\n",
       "      <th>21</th>\n",
       "      <td>P2</td>\n",
       "      <td>Low</td>\n",
       "      <td>Year1</td>\n",
       "      <td>Week5</td>\n",
       "      <td>9</td>\n",
       "    </tr>\n",
       "    <tr>\n",
       "      <th>22</th>\n",
       "      <td>P3</td>\n",
       "      <td>Low</td>\n",
       "      <td>Year1</td>\n",
       "      <td>Week5</td>\n",
       "      <td>12</td>\n",
       "    </tr>\n",
       "    <tr>\n",
       "      <th>23</th>\n",
       "      <td>P4</td>\n",
       "      <td>Low</td>\n",
       "      <td>Year1</td>\n",
       "      <td>Week5</td>\n",
       "      <td>12</td>\n",
       "    </tr>\n",
       "    <tr>\n",
       "      <th>24</th>\n",
       "      <td>P5</td>\n",
       "      <td>Low</td>\n",
       "      <td>Year1</td>\n",
       "      <td>Week5</td>\n",
       "      <td>10</td>\n",
       "    </tr>\n",
       "    <tr>\n",
       "      <th>25</th>\n",
       "      <td>P1</td>\n",
       "      <td>Low</td>\n",
       "      <td>Year2</td>\n",
       "      <td>Week1</td>\n",
       "      <td>4</td>\n",
       "    </tr>\n",
       "    <tr>\n",
       "      <th>26</th>\n",
       "      <td>P2</td>\n",
       "      <td>Low</td>\n",
       "      <td>Year2</td>\n",
       "      <td>Week1</td>\n",
       "      <td>3</td>\n",
       "    </tr>\n",
       "    <tr>\n",
       "      <th>27</th>\n",
       "      <td>P3</td>\n",
       "      <td>Low</td>\n",
       "      <td>Year2</td>\n",
       "      <td>Week1</td>\n",
       "      <td>3</td>\n",
       "    </tr>\n",
       "    <tr>\n",
       "      <th>28</th>\n",
       "      <td>P4</td>\n",
       "      <td>Low</td>\n",
       "      <td>Year2</td>\n",
       "      <td>Week1</td>\n",
       "      <td>3</td>\n",
       "    </tr>\n",
       "    <tr>\n",
       "      <th>29</th>\n",
       "      <td>P5</td>\n",
       "      <td>Low</td>\n",
       "      <td>Year2</td>\n",
       "      <td>Week1</td>\n",
       "      <td>5</td>\n",
       "    </tr>\n",
       "    <tr>\n",
       "      <th>30</th>\n",
       "      <td>P1</td>\n",
       "      <td>Low</td>\n",
       "      <td>Year2</td>\n",
       "      <td>Week2</td>\n",
       "      <td>4</td>\n",
       "    </tr>\n",
       "    <tr>\n",
       "      <th>31</th>\n",
       "      <td>P2</td>\n",
       "      <td>Low</td>\n",
       "      <td>Year2</td>\n",
       "      <td>Week2</td>\n",
       "      <td>4</td>\n",
       "    </tr>\n",
       "    <tr>\n",
       "      <th>32</th>\n",
       "      <td>P3</td>\n",
       "      <td>Low</td>\n",
       "      <td>Year2</td>\n",
       "      <td>Week2</td>\n",
       "      <td>4</td>\n",
       "    </tr>\n",
       "    <tr>\n",
       "      <th>33</th>\n",
       "      <td>P4</td>\n",
       "      <td>Low</td>\n",
       "      <td>Year2</td>\n",
       "      <td>Week2</td>\n",
       "      <td>4</td>\n",
       "    </tr>\n",
       "    <tr>\n",
       "      <th>34</th>\n",
       "      <td>P5</td>\n",
       "      <td>Low</td>\n",
       "      <td>Year2</td>\n",
       "      <td>Week2</td>\n",
       "      <td>5</td>\n",
       "    </tr>\n",
       "    <tr>\n",
       "      <th>35</th>\n",
       "      <td>P1</td>\n",
       "      <td>Low</td>\n",
       "      <td>Year2</td>\n",
       "      <td>Week3</td>\n",
       "      <td>5</td>\n",
       "    </tr>\n",
       "    <tr>\n",
       "      <th>36</th>\n",
       "      <td>P2</td>\n",
       "      <td>Low</td>\n",
       "      <td>Year2</td>\n",
       "      <td>Week3</td>\n",
       "      <td>6</td>\n",
       "    </tr>\n",
       "    <tr>\n",
       "      <th>37</th>\n",
       "      <td>P3</td>\n",
       "      <td>Low</td>\n",
       "      <td>Year2</td>\n",
       "      <td>Week3</td>\n",
       "      <td>6</td>\n",
       "    </tr>\n",
       "    <tr>\n",
       "      <th>38</th>\n",
       "      <td>P4</td>\n",
       "      <td>Low</td>\n",
       "      <td>Year2</td>\n",
       "      <td>Week3</td>\n",
       "      <td>6</td>\n",
       "    </tr>\n",
       "    <tr>\n",
       "      <th>39</th>\n",
       "      <td>P5</td>\n",
       "      <td>Low</td>\n",
       "      <td>Year2</td>\n",
       "      <td>Week3</td>\n",
       "      <td>6</td>\n",
       "    </tr>\n",
       "    <tr>\n",
       "      <th>40</th>\n",
       "      <td>P1</td>\n",
       "      <td>Low</td>\n",
       "      <td>Year2</td>\n",
       "      <td>Week4</td>\n",
       "      <td>7</td>\n",
       "    </tr>\n",
       "    <tr>\n",
       "      <th>41</th>\n",
       "      <td>P2</td>\n",
       "      <td>Low</td>\n",
       "      <td>Year2</td>\n",
       "      <td>Week4</td>\n",
       "      <td>8</td>\n",
       "    </tr>\n",
       "    <tr>\n",
       "      <th>42</th>\n",
       "      <td>P3</td>\n",
       "      <td>Low</td>\n",
       "      <td>Year2</td>\n",
       "      <td>Week4</td>\n",
       "      <td>7</td>\n",
       "    </tr>\n",
       "    <tr>\n",
       "      <th>43</th>\n",
       "      <td>P4</td>\n",
       "      <td>Low</td>\n",
       "      <td>Year2</td>\n",
       "      <td>Week4</td>\n",
       "      <td>8</td>\n",
       "    </tr>\n",
       "    <tr>\n",
       "      <th>44</th>\n",
       "      <td>P5</td>\n",
       "      <td>Low</td>\n",
       "      <td>Year2</td>\n",
       "      <td>Week4</td>\n",
       "      <td>7</td>\n",
       "    </tr>\n",
       "    <tr>\n",
       "      <th>45</th>\n",
       "      <td>P1</td>\n",
       "      <td>Low</td>\n",
       "      <td>Year2</td>\n",
       "      <td>Week5</td>\n",
       "      <td>9</td>\n",
       "    </tr>\n",
       "    <tr>\n",
       "      <th>46</th>\n",
       "      <td>P2</td>\n",
       "      <td>Low</td>\n",
       "      <td>Year2</td>\n",
       "      <td>Week5</td>\n",
       "      <td>10</td>\n",
       "    </tr>\n",
       "    <tr>\n",
       "      <th>47</th>\n",
       "      <td>P3</td>\n",
       "      <td>Low</td>\n",
       "      <td>Year2</td>\n",
       "      <td>Week5</td>\n",
       "      <td>9</td>\n",
       "    </tr>\n",
       "    <tr>\n",
       "      <th>48</th>\n",
       "      <td>P4</td>\n",
       "      <td>Low</td>\n",
       "      <td>Year2</td>\n",
       "      <td>Week5</td>\n",
       "      <td>10</td>\n",
       "    </tr>\n",
       "    <tr>\n",
       "      <th>49</th>\n",
       "      <td>P5</td>\n",
       "      <td>Low</td>\n",
       "      <td>Year2</td>\n",
       "      <td>Week5</td>\n",
       "      <td>10</td>\n",
       "    </tr>\n",
       "  </tbody>\n",
       "</table>\n",
       "</div>"
      ],
      "text/plain": [
       "   plants nutrient_level   year   time  num_leaves\n",
       "0      P1            Low  Year1  Week1           4\n",
       "1      P2            Low  Year1  Week1           3\n",
       "2      P3            Low  Year1  Week1           6\n",
       "3      P4            Low  Year1  Week1           5\n",
       "4      P5            Low  Year1  Week1           5\n",
       "5      P1            Low  Year1  Week2           5\n",
       "6      P2            Low  Year1  Week2           4\n",
       "7      P3            Low  Year1  Week2           7\n",
       "8      P4            Low  Year1  Week2           7\n",
       "9      P5            Low  Year1  Week2           6\n",
       "10     P1            Low  Year1  Week3           6\n",
       "11     P2            Low  Year1  Week3           6\n",
       "12     P3            Low  Year1  Week3           9\n",
       "13     P4            Low  Year1  Week3           8\n",
       "14     P5            Low  Year1  Week3           7\n",
       "15     P1            Low  Year1  Week4           8\n",
       "16     P2            Low  Year1  Week4           6\n",
       "17     P3            Low  Year1  Week4          10\n",
       "18     P4            Low  Year1  Week4          10\n",
       "19     P5            Low  Year1  Week4           8\n",
       "20     P1            Low  Year1  Week5          10\n",
       "21     P2            Low  Year1  Week5           9\n",
       "22     P3            Low  Year1  Week5          12\n",
       "23     P4            Low  Year1  Week5          12\n",
       "24     P5            Low  Year1  Week5          10\n",
       "25     P1            Low  Year2  Week1           4\n",
       "26     P2            Low  Year2  Week1           3\n",
       "27     P3            Low  Year2  Week1           3\n",
       "28     P4            Low  Year2  Week1           3\n",
       "29     P5            Low  Year2  Week1           5\n",
       "30     P1            Low  Year2  Week2           4\n",
       "31     P2            Low  Year2  Week2           4\n",
       "32     P3            Low  Year2  Week2           4\n",
       "33     P4            Low  Year2  Week2           4\n",
       "34     P5            Low  Year2  Week2           5\n",
       "35     P1            Low  Year2  Week3           5\n",
       "36     P2            Low  Year2  Week3           6\n",
       "37     P3            Low  Year2  Week3           6\n",
       "38     P4            Low  Year2  Week3           6\n",
       "39     P5            Low  Year2  Week3           6\n",
       "40     P1            Low  Year2  Week4           7\n",
       "41     P2            Low  Year2  Week4           8\n",
       "42     P3            Low  Year2  Week4           7\n",
       "43     P4            Low  Year2  Week4           8\n",
       "44     P5            Low  Year2  Week4           7\n",
       "45     P1            Low  Year2  Week5           9\n",
       "46     P2            Low  Year2  Week5          10\n",
       "47     P3            Low  Year2  Week5           9\n",
       "48     P4            Low  Year2  Week5          10\n",
       "49     P5            Low  Year2  Week5          10"
      ]
     },
     "execution_count": 37,
     "metadata": {},
     "output_type": "execute_result"
    }
   ],
   "source": [
    "import pandas as pd\n",
    "# load data file\n",
    "df=pd.read_csv(\"https://reneshbedre.github.io/assets/posts/anova/plants_leaves_two_within.csv\")\n",
    "df\n"
   ]
  },
  {
   "cell_type": "code",
   "execution_count": 38,
   "id": "16fecf9d",
   "metadata": {
    "ExecuteTime": {
     "end_time": "2023-01-16T16:24:59.236178Z",
     "start_time": "2023-01-16T16:24:58.834871Z"
    },
    "colab": {
     "base_uri": "https://localhost:8080/",
     "height": 279
    },
    "id": "WDrhEEZ3hcN5",
    "outputId": "0405f612-3175-4edb-c7ed-dc1c6c033c7f"
   },
   "outputs": [
    {
     "data": {
      "image/png": "[encoded data removed]",
      "text/plain": [
       "<Figure size 432x288 with 1 Axes>"
      ]
     },
     "metadata": {
      "needs_background": "light"
     },
     "output_type": "display_data"
    }
   ],
   "source": [
    "# In this dataset, there are two independent variables (time and year) and number of leaves (num_leaves)\n",
    "# is a dependent variable\n",
    "\n",
    "# generate a boxplot to see the data distribution by time points. Using boxplot, we can \n",
    "# boxplot helps detect the differences between different time points and find any outliers\n",
    "import matplotlib.pyplot as plt\n",
    "import seaborn as sns\n",
    "sns.boxplot(x=\"time\", y=\"num_leaves\", hue=\"year\", data=df, palette=\"Set3\")\n",
    "plt.show()"
   ]
  },
  {
   "cell_type": "code",
   "execution_count": null,
   "id": "a29d2ce7",
   "metadata": {
    "ExecuteTime": {
     "end_time": "2023-01-16T11:09:09.454661Z",
     "start_time": "2023-01-16T11:09:09.449084Z"
    },
    "id": "SlGy7X453v9a"
   },
   "outputs": [],
   "source": [
    "## Perform two-way repeated measure ANOVA"
   ]
  },
  {
   "cell_type": "code",
   "execution_count": 39,
   "id": "f310079a",
   "metadata": {
    "ExecuteTime": {
     "end_time": "2023-01-16T16:25:17.472214Z",
     "start_time": "2023-01-16T16:25:17.339453Z"
    },
    "colab": {
     "base_uri": "https://localhost:8080/",
     "height": 142
    },
    "id": "jnChze4T3eTq",
    "outputId": "2d4bc215-bd9e-4d6b-aeab-fc42d60ec82d",
    "scrolled": false
   },
   "outputs": [
    {
     "data": {
      "text/html": [
       "<div>\n",
       "<style scoped>\n",
       "    .dataframe tbody tr th:only-of-type {\n",
       "        vertical-align: middle;\n",
       "    }\n",
       "\n",
       "    .dataframe tbody tr th {\n",
       "        vertical-align: top;\n",
       "    }\n",
       "\n",
       "    .dataframe thead th {\n",
       "        text-align: right;\n",
       "    }\n",
       "</style>\n",
       "<table border=\"1\" class=\"dataframe\">\n",
       "  <thead>\n",
       "    <tr style=\"text-align: right;\">\n",
       "      <th></th>\n",
       "      <th>Source</th>\n",
       "      <th>SS</th>\n",
       "      <th>ddof1</th>\n",
       "      <th>ddof2</th>\n",
       "      <th>MS</th>\n",
       "      <th>F</th>\n",
       "      <th>p-unc</th>\n",
       "      <th>p-GG-corr</th>\n",
       "      <th>ng2</th>\n",
       "      <th>eps</th>\n",
       "    </tr>\n",
       "  </thead>\n",
       "  <tbody>\n",
       "    <tr>\n",
       "      <th>0</th>\n",
       "      <td>time</td>\n",
       "      <td>226.88</td>\n",
       "      <td>4</td>\n",
       "      <td>16</td>\n",
       "      <td>56.72</td>\n",
       "      <td>158.657343</td>\n",
       "      <td>1.177428e-12</td>\n",
       "      <td>0.000003</td>\n",
       "      <td>0.836331</td>\n",
       "      <td>0.421229</td>\n",
       "    </tr>\n",
       "    <tr>\n",
       "      <th>1</th>\n",
       "      <td>year</td>\n",
       "      <td>18.00</td>\n",
       "      <td>1</td>\n",
       "      <td>4</td>\n",
       "      <td>18.00</td>\n",
       "      <td>3.600000</td>\n",
       "      <td>1.306351e-01</td>\n",
       "      <td>0.130635</td>\n",
       "      <td>0.288462</td>\n",
       "      <td>1.000000</td>\n",
       "    </tr>\n",
       "    <tr>\n",
       "      <th>2</th>\n",
       "      <td>time * year</td>\n",
       "      <td>0.80</td>\n",
       "      <td>4</td>\n",
       "      <td>16</td>\n",
       "      <td>0.20</td>\n",
       "      <td>1.454545</td>\n",
       "      <td>2.620704e-01</td>\n",
       "      <td>0.291675</td>\n",
       "      <td>0.017699</td>\n",
       "      <td>0.441606</td>\n",
       "    </tr>\n",
       "  </tbody>\n",
       "</table>\n",
       "</div>"
      ],
      "text/plain": [
       "        Source      SS  ddof1  ddof2     MS           F         p-unc  \\\n",
       "0         time  226.88      4     16  56.72  158.657343  1.177428e-12   \n",
       "1         year   18.00      1      4  18.00    3.600000  1.306351e-01   \n",
       "2  time * year    0.80      4     16   0.20    1.454545  2.620704e-01   \n",
       "\n",
       "   p-GG-corr       ng2       eps  \n",
       "0   0.000003  0.836331  0.421229  \n",
       "1   0.130635  0.288462  1.000000  \n",
       "2   0.291675  0.017699  0.441606  "
      ]
     },
     "execution_count": 39,
     "metadata": {},
     "output_type": "execute_result"
    }
   ],
   "source": [
    "# install pingouin as !pip install pingouin\n",
    "import pingouin as pg\n",
    "res = pg.rm_anova(dv='num_leaves', within=['time', 'year'], subject='plants', \n",
    "                  data=df, detailed=True)\n",
    "res"
   ]
  },
  {
   "cell_type": "markdown",
   "id": "a777df73",
   "metadata": {
    "ExecuteTime": {
     "end_time": "2022-01-15T12:28:59.585806Z",
     "start_time": "2022-01-15T12:28:59.583817Z"
    },
    "cell_style": "center"
   },
   "source": [
    "### Mixed"
   ]
  },
  {
   "cell_type": "code",
   "execution_count": 40,
   "id": "a501bbfd",
   "metadata": {
    "ExecuteTime": {
     "end_time": "2023-01-16T16:25:41.631298Z",
     "start_time": "2023-01-16T16:25:41.622669Z"
    }
   },
   "outputs": [],
   "source": [
    "import pandas as pd\n",
    "df=pd.read_csv(\"mixedanova.csv\")"
   ]
  },
  {
   "cell_type": "code",
   "execution_count": 41,
   "id": "ad069bc7",
   "metadata": {
    "ExecuteTime": {
     "end_time": "2023-01-16T16:25:44.326353Z",
     "start_time": "2023-01-16T16:25:44.304862Z"
    }
   },
   "outputs": [
    {
     "data": {
      "text/html": [
       "<div>\n",
       "<style scoped>\n",
       "    .dataframe tbody tr th:only-of-type {\n",
       "        vertical-align: middle;\n",
       "    }\n",
       "\n",
       "    .dataframe tbody tr th {\n",
       "        vertical-align: top;\n",
       "    }\n",
       "\n",
       "    .dataframe thead th {\n",
       "        text-align: right;\n",
       "    }\n",
       "</style>\n",
       "<table border=\"1\" class=\"dataframe\">\n",
       "  <thead>\n",
       "    <tr style=\"text-align: right;\">\n",
       "      <th></th>\n",
       "      <th>id</th>\n",
       "      <th>genotype</th>\n",
       "      <th>before</th>\n",
       "      <th>after</th>\n",
       "    </tr>\n",
       "  </thead>\n",
       "  <tbody>\n",
       "    <tr>\n",
       "      <th>0</th>\n",
       "      <td>1</td>\n",
       "      <td>A</td>\n",
       "      <td>1.53</td>\n",
       "      <td>4.08</td>\n",
       "    </tr>\n",
       "    <tr>\n",
       "      <th>1</th>\n",
       "      <td>2</td>\n",
       "      <td>A</td>\n",
       "      <td>1.83</td>\n",
       "      <td>4.84</td>\n",
       "    </tr>\n",
       "    <tr>\n",
       "      <th>2</th>\n",
       "      <td>3</td>\n",
       "      <td>A</td>\n",
       "      <td>1.38</td>\n",
       "      <td>4.26</td>\n",
       "    </tr>\n",
       "    <tr>\n",
       "      <th>3</th>\n",
       "      <td>4</td>\n",
       "      <td>A</td>\n",
       "      <td>1.92</td>\n",
       "      <td>4.35</td>\n",
       "    </tr>\n",
       "    <tr>\n",
       "      <th>4</th>\n",
       "      <td>5</td>\n",
       "      <td>A</td>\n",
       "      <td>1.30</td>\n",
       "      <td>4.79</td>\n",
       "    </tr>\n",
       "    <tr>\n",
       "      <th>5</th>\n",
       "      <td>6</td>\n",
       "      <td>B</td>\n",
       "      <td>3.60</td>\n",
       "      <td>5.70</td>\n",
       "    </tr>\n",
       "    <tr>\n",
       "      <th>6</th>\n",
       "      <td>7</td>\n",
       "      <td>B</td>\n",
       "      <td>2.94</td>\n",
       "      <td>5.07</td>\n",
       "    </tr>\n",
       "    <tr>\n",
       "      <th>7</th>\n",
       "      <td>8</td>\n",
       "      <td>B</td>\n",
       "      <td>3.00</td>\n",
       "      <td>6.00</td>\n",
       "    </tr>\n",
       "    <tr>\n",
       "      <th>8</th>\n",
       "      <td>9</td>\n",
       "      <td>B</td>\n",
       "      <td>2.95</td>\n",
       "      <td>5.00</td>\n",
       "    </tr>\n",
       "    <tr>\n",
       "      <th>9</th>\n",
       "      <td>10</td>\n",
       "      <td>B</td>\n",
       "      <td>2.12</td>\n",
       "      <td>3.98</td>\n",
       "    </tr>\n",
       "    <tr>\n",
       "      <th>10</th>\n",
       "      <td>11</td>\n",
       "      <td>C</td>\n",
       "      <td>2.25</td>\n",
       "      <td>3.18</td>\n",
       "    </tr>\n",
       "    <tr>\n",
       "      <th>11</th>\n",
       "      <td>12</td>\n",
       "      <td>C</td>\n",
       "      <td>2.15</td>\n",
       "      <td>3.08</td>\n",
       "    </tr>\n",
       "    <tr>\n",
       "      <th>12</th>\n",
       "      <td>13</td>\n",
       "      <td>C</td>\n",
       "      <td>2.03</td>\n",
       "      <td>3.78</td>\n",
       "    </tr>\n",
       "    <tr>\n",
       "      <th>13</th>\n",
       "      <td>14</td>\n",
       "      <td>C</td>\n",
       "      <td>2.12</td>\n",
       "      <td>2.98</td>\n",
       "    </tr>\n",
       "    <tr>\n",
       "      <th>14</th>\n",
       "      <td>15</td>\n",
       "      <td>C</td>\n",
       "      <td>2.00</td>\n",
       "      <td>2.95</td>\n",
       "    </tr>\n",
       "  </tbody>\n",
       "</table>\n",
       "</div>"
      ],
      "text/plain": [
       "    id genotype  before  after\n",
       "0    1        A    1.53   4.08\n",
       "1    2        A    1.83   4.84\n",
       "2    3        A    1.38   4.26\n",
       "3    4        A    1.92   4.35\n",
       "4    5        A    1.30   4.79\n",
       "5    6        B    3.60   5.70\n",
       "6    7        B    2.94   5.07\n",
       "7    8        B    3.00   6.00\n",
       "8    9        B    2.95   5.00\n",
       "9   10        B    2.12   3.98\n",
       "10  11        C    2.25   3.18\n",
       "11  12        C    2.15   3.08\n",
       "12  13        C    2.03   3.78\n",
       "13  14        C    2.12   2.98\n",
       "14  15        C    2.00   2.95"
      ]
     },
     "execution_count": 41,
     "metadata": {},
     "output_type": "execute_result"
    }
   ],
   "source": [
    "df"
   ]
  },
  {
   "cell_type": "code",
   "execution_count": 42,
   "id": "9f4738d8",
   "metadata": {
    "ExecuteTime": {
     "end_time": "2023-01-16T16:26:29.126363Z",
     "start_time": "2023-01-16T16:26:29.113228Z"
    }
   },
   "outputs": [],
   "source": [
    "# reshape the dataframe in long-format dataframe\n",
    "df_melt = pd.melt(df.reset_index(), id_vars=['id', 'genotype'], value_vars=['before', 'after'])"
   ]
  },
  {
   "cell_type": "code",
   "execution_count": 43,
   "id": "1be017f9",
   "metadata": {
    "ExecuteTime": {
     "end_time": "2023-01-16T16:26:33.330102Z",
     "start_time": "2023-01-16T16:26:33.318315Z"
    }
   },
   "outputs": [
    {
     "data": {
      "text/html": [
       "<div>\n",
       "<style scoped>\n",
       "    .dataframe tbody tr th:only-of-type {\n",
       "        vertical-align: middle;\n",
       "    }\n",
       "\n",
       "    .dataframe tbody tr th {\n",
       "        vertical-align: top;\n",
       "    }\n",
       "\n",
       "    .dataframe thead th {\n",
       "        text-align: right;\n",
       "    }\n",
       "</style>\n",
       "<table border=\"1\" class=\"dataframe\">\n",
       "  <thead>\n",
       "    <tr style=\"text-align: right;\">\n",
       "      <th></th>\n",
       "      <th>id</th>\n",
       "      <th>genotype</th>\n",
       "      <th>fertilizer</th>\n",
       "      <th>yield</th>\n",
       "    </tr>\n",
       "  </thead>\n",
       "  <tbody>\n",
       "    <tr>\n",
       "      <th>0</th>\n",
       "      <td>1</td>\n",
       "      <td>A</td>\n",
       "      <td>before</td>\n",
       "      <td>1.53</td>\n",
       "    </tr>\n",
       "    <tr>\n",
       "      <th>1</th>\n",
       "      <td>2</td>\n",
       "      <td>A</td>\n",
       "      <td>before</td>\n",
       "      <td>1.83</td>\n",
       "    </tr>\n",
       "  </tbody>\n",
       "</table>\n",
       "</div>"
      ],
      "text/plain": [
       "   id genotype fertilizer  yield\n",
       "0   1        A     before   1.53\n",
       "1   2        A     before   1.83"
      ]
     },
     "execution_count": 43,
     "metadata": {},
     "output_type": "execute_result"
    }
   ],
   "source": [
    "#rename column; read more https://www.reneshbedre.com/blog/rename-column-names-pandas.html\n",
    "df_melt.rename(columns={\"variable\": \"fertilizer\", \"value\": \"yield\"}, inplace=True)\n",
    "df_melt.head(2)"
   ]
  },
  {
   "cell_type": "code",
   "execution_count": 44,
   "id": "e1456bb3",
   "metadata": {
    "ExecuteTime": {
     "end_time": "2023-01-16T16:26:38.242207Z",
     "start_time": "2023-01-16T16:26:38.008077Z"
    }
   },
   "outputs": [
    {
     "data": {
      "text/html": [
       "<div>\n",
       "<style scoped>\n",
       "    .dataframe tbody tr th:only-of-type {\n",
       "        vertical-align: middle;\n",
       "    }\n",
       "\n",
       "    .dataframe tbody tr th {\n",
       "        vertical-align: top;\n",
       "    }\n",
       "\n",
       "    .dataframe thead th {\n",
       "        text-align: right;\n",
       "    }\n",
       "</style>\n",
       "<table border=\"1\" class=\"dataframe\">\n",
       "  <thead>\n",
       "    <tr style=\"text-align: right;\">\n",
       "      <th></th>\n",
       "      <th>fertilizer</th>\n",
       "      <th>genotype</th>\n",
       "      <th>n</th>\n",
       "      <th>mean</th>\n",
       "      <th>std</th>\n",
       "    </tr>\n",
       "  </thead>\n",
       "  <tbody>\n",
       "    <tr>\n",
       "      <th>0</th>\n",
       "      <td>after</td>\n",
       "      <td>A</td>\n",
       "      <td>5</td>\n",
       "      <td>4.464</td>\n",
       "      <td>0.335306</td>\n",
       "    </tr>\n",
       "    <tr>\n",
       "      <th>1</th>\n",
       "      <td>before</td>\n",
       "      <td>A</td>\n",
       "      <td>5</td>\n",
       "      <td>1.592</td>\n",
       "      <td>0.273075</td>\n",
       "    </tr>\n",
       "    <tr>\n",
       "      <th>2</th>\n",
       "      <td>after</td>\n",
       "      <td>B</td>\n",
       "      <td>5</td>\n",
       "      <td>5.150</td>\n",
       "      <td>0.778267</td>\n",
       "    </tr>\n",
       "    <tr>\n",
       "      <th>3</th>\n",
       "      <td>before</td>\n",
       "      <td>B</td>\n",
       "      <td>5</td>\n",
       "      <td>2.922</td>\n",
       "      <td>0.526802</td>\n",
       "    </tr>\n",
       "    <tr>\n",
       "      <th>4</th>\n",
       "      <td>after</td>\n",
       "      <td>C</td>\n",
       "      <td>5</td>\n",
       "      <td>3.194</td>\n",
       "      <td>0.339823</td>\n",
       "    </tr>\n",
       "    <tr>\n",
       "      <th>5</th>\n",
       "      <td>before</td>\n",
       "      <td>C</td>\n",
       "      <td>5</td>\n",
       "      <td>2.110</td>\n",
       "      <td>0.099750</td>\n",
       "    </tr>\n",
       "  </tbody>\n",
       "</table>\n",
       "</div>"
      ],
      "text/plain": [
       "  fertilizer genotype  n   mean       std\n",
       "0      after        A  5  4.464  0.335306\n",
       "1     before        A  5  1.592  0.273075\n",
       "2      after        B  5  5.150  0.778267\n",
       "3     before        B  5  2.922  0.526802\n",
       "4      after        C  5  3.194  0.339823\n",
       "5     before        C  5  2.110  0.099750"
      ]
     },
     "execution_count": 44,
     "metadata": {},
     "output_type": "execute_result"
    }
   ],
   "source": [
    "from dfply import *\n",
    "df_melt >> group_by(X.genotype, X.fertilizer) >> summarize(n=X['yield'].count(), mean=X['yield'].mean(), std=X['yield'].std())"
   ]
  },
  {
   "cell_type": "code",
   "execution_count": 46,
   "id": "34703a64",
   "metadata": {
    "ExecuteTime": {
     "end_time": "2023-01-16T16:26:46.632023Z",
     "start_time": "2023-01-16T16:26:46.278784Z"
    }
   },
   "outputs": [
    {
     "data": {
      "image/png": "[encoded data removed]",
      "text/plain": [
       "<Figure size 432x288 with 1 Axes>"
      ]
     },
     "metadata": {
      "needs_background": "light"
     },
     "output_type": "display_data"
    }
   ],
   "source": [
    "import matplotlib.pyplot as plt\n",
    "import seaborn as sns\n",
    "ax = sns.boxplot(x='genotype', y='yield', hue='fertilizer', data=df_melt)\n",
    "# ax = sns.swarmplot(x=\"genotype\", y=\"yield\", data=df_melt, color='#7d0013')\n",
    "\n",
    "plt.show()\n"
   ]
  },
  {
   "cell_type": "code",
   "execution_count": 47,
   "id": "8ec45021",
   "metadata": {
    "ExecuteTime": {
     "end_time": "2023-01-16T16:27:45.706821Z",
     "start_time": "2023-01-16T16:27:45.592743Z"
    }
   },
   "outputs": [
    {
     "data": {
      "text/html": [
       "<div>\n",
       "<style scoped>\n",
       "    .dataframe tbody tr th:only-of-type {\n",
       "        vertical-align: middle;\n",
       "    }\n",
       "\n",
       "    .dataframe tbody tr th {\n",
       "        vertical-align: top;\n",
       "    }\n",
       "\n",
       "    .dataframe thead th {\n",
       "        text-align: right;\n",
       "    }\n",
       "</style>\n",
       "<table border=\"1\" class=\"dataframe\">\n",
       "  <thead>\n",
       "    <tr style=\"text-align: right;\">\n",
       "      <th></th>\n",
       "      <th>Source</th>\n",
       "      <th>SS</th>\n",
       "      <th>DF1</th>\n",
       "      <th>DF2</th>\n",
       "      <th>MS</th>\n",
       "      <th>F</th>\n",
       "      <th>p-unc</th>\n",
       "      <th>np2</th>\n",
       "      <th>eps</th>\n",
       "    </tr>\n",
       "  </thead>\n",
       "  <tbody>\n",
       "    <tr>\n",
       "      <th>0</th>\n",
       "      <td>genotype</td>\n",
       "      <td>10.242987</td>\n",
       "      <td>2</td>\n",
       "      <td>12</td>\n",
       "      <td>5.121493</td>\n",
       "      <td>16.351889</td>\n",
       "      <td>3.741297e-04</td>\n",
       "      <td>0.731566</td>\n",
       "      <td>NaN</td>\n",
       "    </tr>\n",
       "    <tr>\n",
       "      <th>1</th>\n",
       "      <td>fertilizer</td>\n",
       "      <td>31.868213</td>\n",
       "      <td>1</td>\n",
       "      <td>12</td>\n",
       "      <td>31.868213</td>\n",
       "      <td>373.404574</td>\n",
       "      <td>2.083410e-10</td>\n",
       "      <td>0.968864</td>\n",
       "      <td>1.0</td>\n",
       "    </tr>\n",
       "    <tr>\n",
       "      <th>2</th>\n",
       "      <td>Interaction</td>\n",
       "      <td>4.100347</td>\n",
       "      <td>2</td>\n",
       "      <td>12</td>\n",
       "      <td>2.050173</td>\n",
       "      <td>24.022184</td>\n",
       "      <td>6.371677e-05</td>\n",
       "      <td>0.800148</td>\n",
       "      <td>NaN</td>\n",
       "    </tr>\n",
       "  </tbody>\n",
       "</table>\n",
       "</div>"
      ],
      "text/plain": [
       "        Source         SS  DF1  DF2         MS           F         p-unc  \\\n",
       "0     genotype  10.242987    2   12   5.121493   16.351889  3.741297e-04   \n",
       "1   fertilizer  31.868213    1   12  31.868213  373.404574  2.083410e-10   \n",
       "2  Interaction   4.100347    2   12   2.050173   24.022184  6.371677e-05   \n",
       "\n",
       "        np2  eps  \n",
       "0  0.731566  NaN  \n",
       "1  0.968864  1.0  \n",
       "2  0.800148  NaN  "
      ]
     },
     "execution_count": 47,
     "metadata": {},
     "output_type": "execute_result"
    }
   ],
   "source": [
    "import pingouin as pg\n",
    "pg.mixed_anova(dv='yield', between='genotype', within='fertilizer', subject='id', data=df_melt)"
   ]
  },
  {
   "cell_type": "code",
   "execution_count": 48,
   "id": "f4c7acaf",
   "metadata": {
    "ExecuteTime": {
     "end_time": "2023-01-16T16:28:16.724776Z",
     "start_time": "2023-01-16T16:28:16.468593Z"
    }
   },
   "outputs": [
    {
     "data": {
      "image/png": "[encoded data removed]",
      "text/plain": [
       "<Figure size 432x288 with 1 Axes>"
      ]
     },
     "metadata": {
      "needs_background": "light"
     },
     "output_type": "display_data"
    }
   ],
   "source": [
    "from statsmodels.graphics.factorplots import interaction_plot\n",
    "import matplotlib.pyplot as plt\n",
    "fig = interaction_plot(x=df_melt['genotype'], trace=df_melt['fertilizer'], response=df_melt['yield'], \n",
    "    colors=['#4c061d','#d17a22'])\n",
    "plt.show()\n"
   ]
  },
  {
   "cell_type": "code",
   "execution_count": 49,
   "id": "080ea897",
   "metadata": {
    "ExecuteTime": {
     "end_time": "2023-01-16T16:29:07.401729Z",
     "start_time": "2023-01-16T16:29:07.379276Z"
    }
   },
   "outputs": [
    {
     "data": {
      "text/plain": [
       "(True, nan, nan, 1, 1.0)"
      ]
     },
     "execution_count": 49,
     "metadata": {},
     "output_type": "execute_result"
    }
   ],
   "source": [
    "import pingouin as pg\n",
    "pg.sphericity(data=df_melt, dv='yield', subject='id', within='fertilizer')"
   ]
  },
  {
   "cell_type": "code",
   "execution_count": 50,
   "id": "f8d6fd83",
   "metadata": {
    "ExecuteTime": {
     "end_time": "2023-01-16T16:29:40.714558Z",
     "start_time": "2023-01-16T16:29:40.678194Z"
    }
   },
   "outputs": [
    {
     "data": {
      "text/html": [
       "<div>\n",
       "<style scoped>\n",
       "    .dataframe tbody tr th:only-of-type {\n",
       "        vertical-align: middle;\n",
       "    }\n",
       "\n",
       "    .dataframe tbody tr th {\n",
       "        vertical-align: top;\n",
       "    }\n",
       "\n",
       "    .dataframe thead th {\n",
       "        text-align: right;\n",
       "    }\n",
       "</style>\n",
       "<table border=\"1\" class=\"dataframe\">\n",
       "  <thead>\n",
       "    <tr style=\"text-align: right;\">\n",
       "      <th></th>\n",
       "      <th>W</th>\n",
       "      <th>pval</th>\n",
       "      <th>normal</th>\n",
       "    </tr>\n",
       "  </thead>\n",
       "  <tbody>\n",
       "    <tr>\n",
       "      <th>A-before</th>\n",
       "      <td>0.908932</td>\n",
       "      <td>0.461202</td>\n",
       "      <td>True</td>\n",
       "    </tr>\n",
       "    <tr>\n",
       "      <th>B-before</th>\n",
       "      <td>0.897502</td>\n",
       "      <td>0.396232</td>\n",
       "      <td>True</td>\n",
       "    </tr>\n",
       "    <tr>\n",
       "      <th>C-before</th>\n",
       "      <td>0.956608</td>\n",
       "      <td>0.784188</td>\n",
       "      <td>True</td>\n",
       "    </tr>\n",
       "    <tr>\n",
       "      <th>A-after</th>\n",
       "      <td>0.891106</td>\n",
       "      <td>0.362694</td>\n",
       "      <td>True</td>\n",
       "    </tr>\n",
       "    <tr>\n",
       "      <th>B-after</th>\n",
       "      <td>0.943001</td>\n",
       "      <td>0.687227</td>\n",
       "      <td>True</td>\n",
       "    </tr>\n",
       "    <tr>\n",
       "      <th>C-after</th>\n",
       "      <td>0.779155</td>\n",
       "      <td>0.054206</td>\n",
       "      <td>True</td>\n",
       "    </tr>\n",
       "  </tbody>\n",
       "</table>\n",
       "</div>"
      ],
      "text/plain": [
       "                 W      pval  normal\n",
       "A-before  0.908932  0.461202    True\n",
       "B-before  0.897502  0.396232    True\n",
       "C-before  0.956608  0.784188    True\n",
       "A-after   0.891106  0.362694    True\n",
       "B-after   0.943001  0.687227    True\n",
       "C-after   0.779155  0.054206    True"
      ]
     },
     "execution_count": 50,
     "metadata": {},
     "output_type": "execute_result"
    }
   ],
   "source": [
    "df_melt['factor_comb']=df_melt[\"genotype\"] + '-'+df_melt[\"fertilizer\"]\n",
    "pg.normality(df_melt, dv='yield', group='factor_comb')"
   ]
  },
  {
   "cell_type": "code",
   "execution_count": 51,
   "id": "2c021cef",
   "metadata": {
    "ExecuteTime": {
     "end_time": "2023-01-16T16:29:58.141293Z",
     "start_time": "2023-01-16T16:29:58.120902Z"
    }
   },
   "outputs": [],
   "source": [
    "df_melt_before = pd.melt(df.reset_index(), id_vars=['id', 'genotype'], value_vars=['before'])\n",
    "df_melt_after = pd.melt(df.reset_index(), id_vars=['id', 'genotype'], value_vars=['after'])"
   ]
  },
  {
   "cell_type": "code",
   "execution_count": 52,
   "id": "b00c371e",
   "metadata": {
    "ExecuteTime": {
     "end_time": "2023-01-16T16:30:01.800451Z",
     "start_time": "2023-01-16T16:30:01.781149Z"
    }
   },
   "outputs": [
    {
     "data": {
      "text/html": [
       "<div>\n",
       "<style scoped>\n",
       "    .dataframe tbody tr th:only-of-type {\n",
       "        vertical-align: middle;\n",
       "    }\n",
       "\n",
       "    .dataframe tbody tr th {\n",
       "        vertical-align: top;\n",
       "    }\n",
       "\n",
       "    .dataframe thead th {\n",
       "        text-align: right;\n",
       "    }\n",
       "</style>\n",
       "<table border=\"1\" class=\"dataframe\">\n",
       "  <thead>\n",
       "    <tr style=\"text-align: right;\">\n",
       "      <th></th>\n",
       "      <th>W</th>\n",
       "      <th>pval</th>\n",
       "      <th>equal_var</th>\n",
       "    </tr>\n",
       "  </thead>\n",
       "  <tbody>\n",
       "    <tr>\n",
       "      <th>levene</th>\n",
       "      <td>1.122517</td>\n",
       "      <td>0.35736</td>\n",
       "      <td>True</td>\n",
       "    </tr>\n",
       "  </tbody>\n",
       "</table>\n",
       "</div>"
      ],
      "text/plain": [
       "               W     pval  equal_var\n",
       "levene  1.122517  0.35736       True"
      ]
     },
     "execution_count": 52,
     "metadata": {},
     "output_type": "execute_result"
    }
   ],
   "source": [
    "pg.homoscedasticity(df_melt_before, dv='value', group='genotype')"
   ]
  },
  {
   "cell_type": "code",
   "execution_count": 53,
   "id": "8ca1b7f0",
   "metadata": {
    "ExecuteTime": {
     "end_time": "2023-01-16T16:30:04.119375Z",
     "start_time": "2023-01-16T16:30:04.102609Z"
    }
   },
   "outputs": [
    {
     "data": {
      "text/html": [
       "<div>\n",
       "<style scoped>\n",
       "    .dataframe tbody tr th:only-of-type {\n",
       "        vertical-align: middle;\n",
       "    }\n",
       "\n",
       "    .dataframe tbody tr th {\n",
       "        vertical-align: top;\n",
       "    }\n",
       "\n",
       "    .dataframe thead th {\n",
       "        text-align: right;\n",
       "    }\n",
       "</style>\n",
       "<table border=\"1\" class=\"dataframe\">\n",
       "  <thead>\n",
       "    <tr style=\"text-align: right;\">\n",
       "      <th></th>\n",
       "      <th>W</th>\n",
       "      <th>pval</th>\n",
       "      <th>equal_var</th>\n",
       "    </tr>\n",
       "  </thead>\n",
       "  <tbody>\n",
       "    <tr>\n",
       "      <th>levene</th>\n",
       "      <td>1.35042</td>\n",
       "      <td>0.295825</td>\n",
       "      <td>True</td>\n",
       "    </tr>\n",
       "  </tbody>\n",
       "</table>\n",
       "</div>"
      ],
      "text/plain": [
       "              W      pval  equal_var\n",
       "levene  1.35042  0.295825       True"
      ]
     },
     "execution_count": 53,
     "metadata": {},
     "output_type": "execute_result"
    }
   ],
   "source": [
    "pg.homoscedasticity(df_melt_after, dv='value', group='genotype')"
   ]
  },
  {
   "cell_type": "code",
   "execution_count": null,
   "id": "5d49d165",
   "metadata": {
    "ExecuteTime": {
     "end_time": "2023-01-16T11:09:18.268514Z",
     "start_time": "2023-01-16T11:09:18.263856Z"
    }
   },
   "outputs": [],
   "source": [
    "# df"
   ]
  },
  {
   "cell_type": "code",
   "execution_count": null,
   "id": "54282bae",
   "metadata": {
    "ExecuteTime": {
     "end_time": "2023-01-16T11:09:18.767832Z",
     "start_time": "2023-01-16T11:09:18.762492Z"
    }
   },
   "outputs": [],
   "source": [
    "# pg.box_m()"
   ]
  },
  {
   "cell_type": "markdown",
   "id": "728e9d2e",
   "metadata": {},
   "source": [
    "### ANCOVA"
   ]
  },
  {
   "cell_type": "code",
   "execution_count": 54,
   "id": "f6053ea5",
   "metadata": {
    "ExecuteTime": {
     "end_time": "2023-01-16T16:30:30.744089Z",
     "start_time": "2023-01-16T16:30:30.720954Z"
    }
   },
   "outputs": [
    {
     "data": {
      "text/html": [
       "<div>\n",
       "<style scoped>\n",
       "    .dataframe tbody tr th:only-of-type {\n",
       "        vertical-align: middle;\n",
       "    }\n",
       "\n",
       "    .dataframe tbody tr th {\n",
       "        vertical-align: top;\n",
       "    }\n",
       "\n",
       "    .dataframe thead th {\n",
       "        text-align: right;\n",
       "    }\n",
       "</style>\n",
       "<table border=\"1\" class=\"dataframe\">\n",
       "  <thead>\n",
       "    <tr style=\"text-align: right;\">\n",
       "      <th></th>\n",
       "      <th>genotype</th>\n",
       "      <th>height</th>\n",
       "      <th>yield</th>\n",
       "    </tr>\n",
       "  </thead>\n",
       "  <tbody>\n",
       "    <tr>\n",
       "      <th>0</th>\n",
       "      <td>A</td>\n",
       "      <td>10.0</td>\n",
       "      <td>20.0</td>\n",
       "    </tr>\n",
       "    <tr>\n",
       "      <th>1</th>\n",
       "      <td>A</td>\n",
       "      <td>11.5</td>\n",
       "      <td>22.0</td>\n",
       "    </tr>\n",
       "    <tr>\n",
       "      <th>2</th>\n",
       "      <td>A</td>\n",
       "      <td>12.0</td>\n",
       "      <td>24.0</td>\n",
       "    </tr>\n",
       "    <tr>\n",
       "      <th>3</th>\n",
       "      <td>A</td>\n",
       "      <td>12.9</td>\n",
       "      <td>24.0</td>\n",
       "    </tr>\n",
       "    <tr>\n",
       "      <th>4</th>\n",
       "      <td>A</td>\n",
       "      <td>13.4</td>\n",
       "      <td>26.0</td>\n",
       "    </tr>\n",
       "    <tr>\n",
       "      <th>5</th>\n",
       "      <td>A</td>\n",
       "      <td>14.2</td>\n",
       "      <td>27.0</td>\n",
       "    </tr>\n",
       "    <tr>\n",
       "      <th>6</th>\n",
       "      <td>A</td>\n",
       "      <td>15.0</td>\n",
       "      <td>27.0</td>\n",
       "    </tr>\n",
       "    <tr>\n",
       "      <th>7</th>\n",
       "      <td>A</td>\n",
       "      <td>15.9</td>\n",
       "      <td>27.2</td>\n",
       "    </tr>\n",
       "    <tr>\n",
       "      <th>8</th>\n",
       "      <td>A</td>\n",
       "      <td>16.6</td>\n",
       "      <td>27.0</td>\n",
       "    </tr>\n",
       "    <tr>\n",
       "      <th>9</th>\n",
       "      <td>A</td>\n",
       "      <td>16.4</td>\n",
       "      <td>27.5</td>\n",
       "    </tr>\n",
       "  </tbody>\n",
       "</table>\n",
       "</div>"
      ],
      "text/plain": [
       "  genotype  height  yield\n",
       "0        A    10.0   20.0\n",
       "1        A    11.5   22.0\n",
       "2        A    12.0   24.0\n",
       "3        A    12.9   24.0\n",
       "4        A    13.4   26.0\n",
       "5        A    14.2   27.0\n",
       "6        A    15.0   27.0\n",
       "7        A    15.9   27.2\n",
       "8        A    16.6   27.0\n",
       "9        A    16.4   27.5"
      ]
     },
     "execution_count": 54,
     "metadata": {},
     "output_type": "execute_result"
    }
   ],
   "source": [
    "import pandas as pd\n",
    "df=pd.read_csv(\"ancova_data.csv\")\n",
    "df.head(10)"
   ]
  },
  {
   "cell_type": "code",
   "execution_count": 55,
   "id": "771033f9",
   "metadata": {
    "ExecuteTime": {
     "end_time": "2023-01-16T16:30:57.257100Z",
     "start_time": "2023-01-16T16:30:56.410373Z"
    }
   },
   "outputs": [
    {
     "data": {
      "image/png": "[encoded data removed]",
      "text/plain": [
       "<Figure size 432x288 with 3 Axes>"
      ]
     },
     "metadata": {
      "needs_background": "light"
     },
     "output_type": "display_data"
    }
   ],
   "source": [
    "import seaborn as sns\n",
    "import matplotlib.pyplot as plt\n",
    "fig, axs = plt.subplots(ncols=3)\n",
    "sns.scatterplot(data=df, x=\"height\", y=\"yield\", hue=df.genotype.tolist(), ax=axs[0])\n",
    "sns.boxplot(data=df, x=\"genotype\", y=\"yield\", hue=df.genotype.tolist(), ax=axs[1])\n",
    "sns.boxplot(data=df, x=\"genotype\", y=\"height\", hue=df.genotype.tolist(), ax=axs[2])\n",
    "plt.show()"
   ]
  },
  {
   "cell_type": "code",
   "execution_count": 56,
   "id": "16122e4a",
   "metadata": {
    "ExecuteTime": {
     "end_time": "2023-01-16T16:31:55.286742Z",
     "start_time": "2023-01-16T16:31:55.237765Z"
    }
   },
   "outputs": [
    {
     "data": {
      "text/html": [
       "<div>\n",
       "<style scoped>\n",
       "    .dataframe tbody tr th:only-of-type {\n",
       "        vertical-align: middle;\n",
       "    }\n",
       "\n",
       "    .dataframe tbody tr th {\n",
       "        vertical-align: top;\n",
       "    }\n",
       "\n",
       "    .dataframe thead th {\n",
       "        text-align: right;\n",
       "    }\n",
       "</style>\n",
       "<table border=\"1\" class=\"dataframe\">\n",
       "  <thead>\n",
       "    <tr style=\"text-align: right;\">\n",
       "      <th></th>\n",
       "      <th>Source</th>\n",
       "      <th>SS</th>\n",
       "      <th>DF</th>\n",
       "      <th>F</th>\n",
       "      <th>p-unc</th>\n",
       "      <th>np2</th>\n",
       "    </tr>\n",
       "  </thead>\n",
       "  <tbody>\n",
       "    <tr>\n",
       "      <th>0</th>\n",
       "      <td>genotype</td>\n",
       "      <td>193.232458</td>\n",
       "      <td>2</td>\n",
       "      <td>141.352709</td>\n",
       "      <td>1.072947e-14</td>\n",
       "      <td>0.915777</td>\n",
       "    </tr>\n",
       "    <tr>\n",
       "      <th>1</th>\n",
       "      <td>height</td>\n",
       "      <td>132.695696</td>\n",
       "      <td>1</td>\n",
       "      <td>194.138152</td>\n",
       "      <td>1.429323e-13</td>\n",
       "      <td>0.881892</td>\n",
       "    </tr>\n",
       "    <tr>\n",
       "      <th>2</th>\n",
       "      <td>Residual</td>\n",
       "      <td>17.771304</td>\n",
       "      <td>26</td>\n",
       "      <td>NaN</td>\n",
       "      <td>NaN</td>\n",
       "      <td>NaN</td>\n",
       "    </tr>\n",
       "  </tbody>\n",
       "</table>\n",
       "</div>"
      ],
      "text/plain": [
       "     Source          SS  DF           F         p-unc       np2\n",
       "0  genotype  193.232458   2  141.352709  1.072947e-14  0.915777\n",
       "1    height  132.695696   1  194.138152  1.429323e-13  0.881892\n",
       "2  Residual   17.771304  26         NaN           NaN       NaN"
      ]
     },
     "execution_count": 56,
     "metadata": {},
     "output_type": "execute_result"
    }
   ],
   "source": [
    "from pingouin import ancova\n",
    "ancova(data=df, dv='yield', covar='height', between='genotype')\n",
    "# output"
   ]
  },
  {
   "cell_type": "code",
   "execution_count": null,
   "id": "864af99a",
   "metadata": {},
   "outputs": [],
   "source": []
  },
  {
   "cell_type": "code",
   "execution_count": null,
   "id": "da8b27d3",
   "metadata": {},
   "outputs": [],
   "source": []
  },
  {
   "cell_type": "code",
   "execution_count": null,
   "id": "1d6d6868",
   "metadata": {},
   "outputs": [],
   "source": []
  },
  {
   "cell_type": "code",
   "execution_count": null,
   "id": "3ce7f255",
   "metadata": {},
   "outputs": [],
   "source": []
  },
  {
   "cell_type": "code",
   "execution_count": null,
   "id": "bd1b9a67",
   "metadata": {},
   "outputs": [],
   "source": []
  },
  {
   "cell_type": "code",
   "execution_count": null,
   "id": "201e4b79",
   "metadata": {},
   "outputs": [],
   "source": []
  }
 ],
 "metadata": {
  "hide_input": false,
  "kernelspec": {
   "display_name": "Python 3 (ipykernel)",
   "language": "python",
   "name": "python3"
  },
  "language_info": {
   "codemirror_mode": {
    "name": "ipython",
    "version": 3
   },
   "file_extension": ".py",
   "mimetype": "text/x-python",
   "name": "python",
   "nbconvert_exporter": "python",
   "pygments_lexer": "ipython3",
   "version": "3.10.7"
  },
  "latex_envs": {
   "LaTeX_envs_menu_present": true,
   "autoclose": true,
   "autocomplete": true,
   "bibliofile": "biblio.bib",
   "cite_by": "apalike",
   "current_citInitial": 1,
   "eqLabelWithNumbers": true,
   "eqNumInitial": 1,
   "hotkeys": {
    "equation": "Ctrl-E",
    "itemize": "Ctrl-I"
   },
   "labels_anchors": false,
   "latex_user_defs": false,
   "report_style_numbering": false,
   "user_envs_cfg": false
  },
  "toc": {
   "base_numbering": 1,
   "nav_menu": {},
   "number_sections": true,
   "sideBar": true,
   "skip_h1_title": false,
   "title_cell": "Table of Contents",
   "title_sidebar": "Contents",
   "toc_cell": false,
   "toc_position": {},
   "toc_section_display": true,
   "toc_window_display": false
  },
  "varInspector": {
   "cols": {
    "lenName": 16,
    "lenType": 16,
    "lenVar": 40
   },
   "kernels_config": {
    "python": {
     "delete_cmd_postfix": "",
     "delete_cmd_prefix": "del ",
     "library": "var_list.py",
     "varRefreshCmd": "print(var_dic_list())"
    },
    "r": {
     "delete_cmd_postfix": ") ",
     "delete_cmd_prefix": "rm(",
     "library": "var_list.r",
     "varRefreshCmd": "cat(var_dic_list()) "
    }
   },
   "types_to_exclude": [
    "module",
    "function",
    "builtin_function_or_method",
    "instance",
    "_Feature"
   ],
   "window_display": false
  }
 },
 "nbformat": 4,
 "nbformat_minor": 5
}

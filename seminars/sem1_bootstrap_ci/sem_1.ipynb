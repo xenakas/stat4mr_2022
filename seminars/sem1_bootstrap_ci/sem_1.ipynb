{
 "cells": [
  {
   "cell_type": "code",
   "execution_count": 1,
   "id": "749dfcec",
   "metadata": {
    "ExecuteTime": {
     "end_time": "2022-09-12T13:56:57.915361Z",
     "start_time": "2022-09-12T13:56:57.397609Z"
    }
   },
   "outputs": [],
   "source": [
    "import numpy as np\n",
    "import numpy.random as npr \n",
    "import matplotlib.pyplot as plt"
   ]
  },
  {
   "cell_type": "markdown",
   "id": "7f1b67cc",
   "metadata": {},
   "source": [
    "## Different methods for bootstrap-CI"
   ]
  },
  {
   "cell_type": "code",
   "execution_count": 39,
   "id": "495692c7",
   "metadata": {
    "ExecuteTime": {
     "end_time": "2022-09-12T14:10:29.477040Z",
     "start_time": "2022-09-12T14:10:29.473156Z"
    }
   },
   "outputs": [
    {
     "data": {
      "text/plain": [
       "34.0"
      ]
     },
     "execution_count": 39,
     "metadata": {},
     "output_type": "execute_result"
    }
   ],
   "source": [
    "X = npr.randint(30,40,10)\n",
    "np.mean(X)"
   ]
  },
  {
   "cell_type": "code",
   "execution_count": 40,
   "id": "90d057a6",
   "metadata": {
    "ExecuteTime": {
     "end_time": "2022-09-12T14:10:30.135540Z",
     "start_time": "2022-09-12T14:10:30.131949Z"
    }
   },
   "outputs": [],
   "source": [
    "boot_samples = npr.choice(X, size = (100, len(X)), replace = True)"
   ]
  },
  {
   "cell_type": "code",
   "execution_count": 41,
   "id": "a2487789",
   "metadata": {
    "ExecuteTime": {
     "end_time": "2022-09-12T14:10:30.732717Z",
     "start_time": "2022-09-12T14:10:30.726912Z"
    }
   },
   "outputs": [
    {
     "data": {
      "text/plain": [
       "array([31.9099, 32.0881])"
      ]
     },
     "execution_count": 41,
     "metadata": {},
     "output_type": "execute_result"
    }
   ],
   "source": [
    "# 1. Percentile bootstrap\n",
    "\n",
    "boot_mean = np.mean(boot_samples, axis = 1)\n",
    "np.percentile(boot_mean, (0.05,0.95))"
   ]
  },
  {
   "cell_type": "code",
   "execution_count": 42,
   "id": "f063a06c",
   "metadata": {
    "ExecuteTime": {
     "end_time": "2022-09-12T14:10:31.715162Z",
     "start_time": "2022-09-12T14:10:31.704202Z"
    }
   },
   "outputs": [
    {
     "data": {
      "text/plain": [
       "array([31.32475, 31.77025])"
      ]
     },
     "execution_count": 42,
     "metadata": {},
     "output_type": "execute_result"
    }
   ],
   "source": [
    "# 2. Basic Bootstrap \n",
    "\n",
    "boot_d = npr.choice(X-np.mean(X), size = (100, len(X)), replace = True)\n",
    "\n",
    "boot_meand = np.mean(boot_d, axis = 1)\n",
    "np.mean(X) + np.percentile(boot_meand, (0.05,0.95))"
   ]
  },
  {
   "cell_type": "code",
   "execution_count": 43,
   "id": "bc4bdf0d",
   "metadata": {
    "ExecuteTime": {
     "end_time": "2022-09-12T14:10:32.700667Z",
     "start_time": "2022-09-12T14:10:32.697182Z"
    }
   },
   "outputs": [],
   "source": [
    "# 3. t-bootstrap\n",
    "\n",
    "boot_mean = np.mean(boot_samples, axis = 1)\n",
    "boot_std = np.std(boot_samples, axis = 1)\n",
    "\n",
    "t = (boot_mean - np.mean(X))/boot_std"
   ]
  },
  {
   "cell_type": "code",
   "execution_count": 44,
   "id": "2387edd9",
   "metadata": {
    "ExecuteTime": {
     "end_time": "2022-09-12T14:10:33.314236Z",
     "start_time": "2022-09-12T14:10:33.279439Z"
    }
   },
   "outputs": [
    {
     "data": {
      "text/plain": [
       "array([32.6612615, 33.0392622])"
      ]
     },
     "execution_count": 44,
     "metadata": {},
     "output_type": "execute_result"
    }
   ],
   "source": [
    "np.mean(X) + np.percentile(t, (0.05,0.95))*np.std(X)/np.sqrt(len(X))"
   ]
  },
  {
   "cell_type": "markdown",
   "id": "137d06a8",
   "metadata": {},
   "source": [
    "## Sharp Ratio"
   ]
  },
  {
   "cell_type": "code",
   "execution_count": 46,
   "id": "557a2923",
   "metadata": {
    "ExecuteTime": {
     "end_time": "2022-09-12T14:15:14.076059Z",
     "start_time": "2022-09-12T14:15:13.979268Z"
    }
   },
   "outputs": [],
   "source": [
    "import datetime as dt\n",
    "import pandas as pd\n",
    "import pandas_datareader.data as web\n",
    "from arch.bootstrap import IIDBootstrap"
   ]
  },
  {
   "cell_type": "code",
   "execution_count": 47,
   "id": "014178ad",
   "metadata": {
    "ExecuteTime": {
     "end_time": "2022-09-12T14:16:35.257190Z",
     "start_time": "2022-09-12T14:16:33.308126Z"
    }
   },
   "outputs": [],
   "source": [
    "start = dt.datetime(1951,1,1)\n",
    "end = dt.datetime(2022,1,1)\n",
    "sp500 = web.DataReader('^GSPC', 'yahoo', start=start, end=end)"
   ]
  },
  {
   "cell_type": "code",
   "execution_count": 50,
   "id": "93a9c9ed",
   "metadata": {
    "ExecuteTime": {
     "end_time": "2022-09-12T14:18:23.221296Z",
     "start_time": "2022-09-12T14:18:23.194747Z"
    }
   },
   "outputs": [],
   "source": [
    "montly_dates = pd.date_range(sp500.index.min(),sp500.index.max(),freq='M')\n",
    "mothly_data = sp500.reindex(montly_dates, method='ffill')"
   ]
  },
  {
   "cell_type": "code",
   "execution_count": 52,
   "id": "8c9306ff",
   "metadata": {
    "ExecuteTime": {
     "end_time": "2022-09-12T14:19:22.271982Z",
     "start_time": "2022-09-12T14:19:22.268662Z"
    }
   },
   "outputs": [],
   "source": [
    "returns = 100*mothly_data['Adj Close'].pct_change().dropna()"
   ]
  },
  {
   "cell_type": "code",
   "execution_count": 60,
   "id": "f3eed43b",
   "metadata": {
    "ExecuteTime": {
     "end_time": "2022-09-12T14:23:05.953407Z",
     "start_time": "2022-09-12T14:23:05.949895Z"
    }
   },
   "outputs": [],
   "source": [
    "# plt.hist(returns)\n"
   ]
  },
  {
   "cell_type": "code",
   "execution_count": 53,
   "id": "6ad6d761",
   "metadata": {
    "ExecuteTime": {
     "end_time": "2022-09-12T14:20:36.647702Z",
     "start_time": "2022-09-12T14:20:36.644477Z"
    }
   },
   "outputs": [],
   "source": [
    "def sharp(x):\n",
    "    mu, sigma = 12*x.mean(), np.sqrt(12*x.var())\n",
    "    return mu/sigma"
   ]
  },
  {
   "cell_type": "code",
   "execution_count": 54,
   "id": "a4db5c2d",
   "metadata": {
    "ExecuteTime": {
     "end_time": "2022-09-12T14:20:57.463863Z",
     "start_time": "2022-09-12T14:20:57.461254Z"
    }
   },
   "outputs": [],
   "source": [
    "bs = IIDBootstrap(returns)"
   ]
  },
  {
   "cell_type": "code",
   "execution_count": 55,
   "id": "d18d7364",
   "metadata": {
    "ExecuteTime": {
     "end_time": "2022-09-12T14:22:11.239964Z",
     "start_time": "2022-09-12T14:22:11.000586Z"
    }
   },
   "outputs": [
    {
     "data": {
      "text/plain": [
       "array([[0.36569355],\n",
       "       [0.84575357]])"
      ]
     },
     "execution_count": 55,
     "metadata": {},
     "output_type": "execute_result"
    }
   ],
   "source": [
    "bs.conf_int(sharp, 1000, method='percentile')"
   ]
  },
  {
   "cell_type": "code",
   "execution_count": 56,
   "id": "d4ee24a2",
   "metadata": {
    "ExecuteTime": {
     "end_time": "2022-09-12T14:22:19.879572Z",
     "start_time": "2022-09-12T14:22:19.632498Z"
    }
   },
   "outputs": [
    {
     "data": {
      "text/plain": [
       "array([[0.3524351 ],\n",
       "       [0.83373683]])"
      ]
     },
     "execution_count": 56,
     "metadata": {},
     "output_type": "execute_result"
    }
   ],
   "source": [
    "bs.conf_int(sharp, 1000, method='basic')"
   ]
  },
  {
   "cell_type": "code",
   "execution_count": 57,
   "id": "e2847ec5",
   "metadata": {
    "ExecuteTime": {
     "end_time": "2022-09-12T14:22:28.701740Z",
     "start_time": "2022-09-12T14:22:28.464832Z"
    }
   },
   "outputs": [
    {
     "data": {
      "text/plain": [
       "array([[0.36128213],\n",
       "       [0.84150901]])"
      ]
     },
     "execution_count": 57,
     "metadata": {},
     "output_type": "execute_result"
    }
   ],
   "source": [
    "bs.conf_int(sharp, 1000, method='norm')"
   ]
  },
  {
   "cell_type": "code",
   "execution_count": 62,
   "id": "16b354c8",
   "metadata": {
    "ExecuteTime": {
     "end_time": "2022-09-12T14:24:08.779967Z",
     "start_time": "2022-09-12T14:24:07.998539Z"
    }
   },
   "outputs": [
    {
     "data": {
      "image/png": "[encoded data removed]",
      "text/plain": [
       "<Figure size 432x288 with 1 Axes>"
      ]
     },
     "metadata": {
      "needs_background": "light"
     },
     "output_type": "display_data"
    }
   ],
   "source": [
    "plt.hist(bs.apply(sharp,2500));\n"
   ]
  }
 ],
 "metadata": {
  "hide_input": false,
  "kernelspec": {
   "display_name": "Python 3 (ipykernel)",
   "language": "python",
   "name": "python3"
  },
  "language_info": {
   "codemirror_mode": {
    "name": "ipython",
    "version": 3
   },
   "file_extension": ".py",
   "mimetype": "text/x-python",
   "name": "python",
   "nbconvert_exporter": "python",
   "pygments_lexer": "ipython3",
   "version": "3.10.4"
  },
  "latex_envs": {
   "LaTeX_envs_menu_present": true,
   "autoclose": true,
   "autocomplete": true,
   "bibliofile": "biblio.bib",
   "cite_by": "apalike",
   "current_citInitial": 1,
   "eqLabelWithNumbers": true,
   "eqNumInitial": 1,
   "hotkeys": {
    "equation": "Ctrl-E",
    "itemize": "Ctrl-I"
   },
   "labels_anchors": false,
   "latex_user_defs": false,
   "report_style_numbering": false,
   "user_envs_cfg": false
  },
  "toc": {
   "base_numbering": 1,
   "nav_menu": {},
   "number_sections": true,
   "sideBar": true,
   "skip_h1_title": false,
   "title_cell": "Table of Contents",
   "title_sidebar": "Contents",
   "toc_cell": false,
   "toc_position": {},
   "toc_section_display": true,
   "toc_window_display": false
  },
  "varInspector": {
   "cols": {
    "lenName": 16,
    "lenType": 16,
    "lenVar": 40
   },
   "kernels_config": {
    "python": {
     "delete_cmd_postfix": "",
     "delete_cmd_prefix": "del ",
     "library": "var_list.py",
     "varRefreshCmd": "print(var_dic_list())"
    },
    "r": {
     "delete_cmd_postfix": ") ",
     "delete_cmd_prefix": "rm(",
     "library": "var_list.r",
     "varRefreshCmd": "cat(var_dic_list()) "
    }
   },
   "types_to_exclude": [
    "module",
    "function",
    "builtin_function_or_method",
    "instance",
    "_Feature"
   ],
   "window_display": false
  }
 },
 "nbformat": 4,
 "nbformat_minor": 5
}

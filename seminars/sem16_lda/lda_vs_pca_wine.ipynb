{
 "cells": [
  {
   "cell_type": "code",
   "execution_count": null,
   "id": "6df5427c",
   "metadata": {
    "ExecuteTime": {
     "end_time": "2023-02-06T12:42:36.356340Z",
     "start_time": "2023-02-06T12:42:35.277963Z"
    }
   },
   "outputs": [],
   "source": [
    "from sklearn.datasets import load_wine\n",
    "import pandas as pd\n",
    "import numpy as np\n",
    "np.set_printoptions(precision=4)\n",
    "from matplotlib import pyplot as plt\n",
    "import seaborn as sns\n",
    "sns.set()\n",
    "from sklearn.preprocessing import LabelEncoder\n",
    "from sklearn.tree import DecisionTreeClassifier\n",
    "from sklearn.model_selection import train_test_split\n",
    "from sklearn.metrics import confusion_matrix"
   ]
  },
  {
   "cell_type": "code",
   "execution_count": null,
   "id": "84cf3ab6",
   "metadata": {
    "ExecuteTime": {
     "end_time": "2023-02-06T12:42:40.188754Z",
     "start_time": "2023-02-06T12:42:40.168664Z"
    }
   },
   "outputs": [],
   "source": [
    "wine = load_wine()\n",
    "X = pd.DataFrame(wine.data, columns=wine.feature_names)\n",
    "y = pd.Categorical.from_codes(wine.target, wine.target_names)"
   ]
  },
  {
   "cell_type": "code",
   "execution_count": null,
   "id": "bfb85181",
   "metadata": {
    "ExecuteTime": {
     "end_time": "2023-02-06T12:42:42.828341Z",
     "start_time": "2023-02-06T12:42:42.795397Z"
    }
   },
   "outputs": [],
   "source": [
    "X.shape"
   ]
  },
  {
   "cell_type": "code",
   "execution_count": null,
   "id": "3f0c06db",
   "metadata": {
    "ExecuteTime": {
     "end_time": "2023-02-06T12:42:45.690418Z",
     "start_time": "2023-02-06T12:42:45.673670Z"
    }
   },
   "outputs": [],
   "source": [
    "X.head()"
   ]
  },
  {
   "cell_type": "code",
   "execution_count": null,
   "id": "cf84cb43",
   "metadata": {
    "ExecuteTime": {
     "end_time": "2023-02-06T12:42:50.284992Z",
     "start_time": "2023-02-06T12:42:50.271258Z"
    }
   },
   "outputs": [],
   "source": [
    "wine.target_names"
   ]
  },
  {
   "cell_type": "code",
   "execution_count": null,
   "id": "1183a46c",
   "metadata": {
    "ExecuteTime": {
     "end_time": "2023-02-06T12:43:13.974512Z",
     "start_time": "2023-02-06T12:43:13.969914Z"
    }
   },
   "outputs": [],
   "source": [
    "df = X.join(pd.Series(y, name='class'))"
   ]
  },
  {
   "cell_type": "code",
   "execution_count": null,
   "id": "72658843",
   "metadata": {
    "ExecuteTime": {
     "end_time": "2023-02-06T12:43:17.013811Z",
     "start_time": "2023-02-06T12:43:16.886178Z"
    }
   },
   "outputs": [],
   "source": [
    "class_feature_means = pd.DataFrame(columns=wine.target_names)\n",
    "for c, rows in df.groupby('class'):\n",
    "    class_feature_means[c] = rows.mean()\n",
    "    class_feature_means"
   ]
  },
  {
   "cell_type": "code",
   "execution_count": null,
   "id": "a09da422",
   "metadata": {
    "ExecuteTime": {
     "end_time": "2023-02-06T12:43:27.335536Z",
     "start_time": "2023-02-06T12:43:27.302942Z"
    }
   },
   "outputs": [],
   "source": [
    "within_class_scatter_matrix = np.zeros((13,13))\n",
    "\n",
    "for c, rows in df.groupby('class'):\n",
    "    rows = rows.drop(['class'], axis=1)\n",
    "    \n",
    "    s = np.zeros((13,13))\n",
    "    for index, row in rows.iterrows():\n",
    "        x, mc = row.values.reshape(13,1), class_feature_means[c].values.reshape(13,1)\n",
    "        \n",
    "        s += (x - mc).dot((x - mc).T)\n",
    "    \n",
    "    within_class_scatter_matrix += s"
   ]
  },
  {
   "cell_type": "code",
   "execution_count": null,
   "id": "b004bb3b",
   "metadata": {
    "ExecuteTime": {
     "end_time": "2023-02-06T12:43:55.973495Z",
     "start_time": "2023-02-06T12:43:55.939802Z"
    }
   },
   "outputs": [],
   "source": [
    "feature_means = df.mean()\n",
    "\n",
    "between_class_scatter_matrix = np.zeros((13,13))\n",
    "\n",
    "for c in class_feature_means:    \n",
    "    n = len(df.loc[df['class'] == c].index)\n",
    "    \n",
    "    mc, m = class_feature_means[c].values.reshape(13,1), feature_means.values.reshape(13,1)\n",
    "    \n",
    "    between_class_scatter_matrix += n * (mc - m).dot((mc - m).T)"
   ]
  },
  {
   "cell_type": "code",
   "execution_count": null,
   "id": "a5ca51ee",
   "metadata": {
    "ExecuteTime": {
     "end_time": "2023-02-06T12:43:58.225881Z",
     "start_time": "2023-02-06T12:43:58.220367Z"
    }
   },
   "outputs": [],
   "source": [
    "eigen_values, eigen_vectors = np.linalg.eig(np.linalg.inv(within_class_scatter_matrix).dot(between_class_scatter_matrix))"
   ]
  },
  {
   "cell_type": "code",
   "execution_count": null,
   "id": "2ca0ecbf",
   "metadata": {
    "ExecuteTime": {
     "end_time": "2023-02-06T12:44:00.161058Z",
     "start_time": "2023-02-06T12:44:00.157494Z"
    }
   },
   "outputs": [],
   "source": [
    "pairs = [(np.abs(eigen_values[i]), eigen_vectors[:,i]) for i in range(len(eigen_values))]\n",
    "pairs = sorted(pairs, key=lambda x: x[0], reverse=True)\n",
    "for pair in pairs:\n",
    "    print(pair[0])"
   ]
  },
  {
   "cell_type": "code",
   "execution_count": null,
   "id": "5b5c4bf3",
   "metadata": {
    "ExecuteTime": {
     "end_time": "2023-02-06T12:44:05.630511Z",
     "start_time": "2023-02-06T12:44:05.626874Z"
    }
   },
   "outputs": [],
   "source": [
    "eigen_value_sums = sum(eigen_values)\n",
    "print('Explained Variance')\n",
    "for i, pair in enumerate(pairs):\n",
    "    print('Eigenvector {}: {}'.format(i, (pair[0]/eigen_value_sums).real))"
   ]
  },
  {
   "cell_type": "code",
   "execution_count": null,
   "id": "b1387fc8",
   "metadata": {
    "ExecuteTime": {
     "end_time": "2023-02-06T12:44:17.389311Z",
     "start_time": "2023-02-06T12:44:17.382456Z"
    }
   },
   "outputs": [],
   "source": [
    "w_matrix = np.hstack((pairs[0][1].reshape(13,1), pairs[1][1].reshape(13,1))).real"
   ]
  },
  {
   "cell_type": "code",
   "execution_count": null,
   "id": "adcb20ec",
   "metadata": {
    "ExecuteTime": {
     "end_time": "2023-02-06T12:44:18.420073Z",
     "start_time": "2023-02-06T12:44:18.411829Z"
    }
   },
   "outputs": [],
   "source": [
    "X_lda = np.array(X.dot(w_matrix))"
   ]
  },
  {
   "cell_type": "code",
   "execution_count": null,
   "id": "0e88f165",
   "metadata": {
    "ExecuteTime": {
     "end_time": "2023-02-06T12:44:19.027549Z",
     "start_time": "2023-02-06T12:44:19.018429Z"
    }
   },
   "outputs": [],
   "source": [
    "le = LabelEncoder()\n",
    "y = le.fit_transform(df['class'])"
   ]
  },
  {
   "cell_type": "code",
   "execution_count": null,
   "id": "4c2612d8",
   "metadata": {
    "ExecuteTime": {
     "end_time": "2023-02-06T12:44:22.976220Z",
     "start_time": "2023-02-06T12:44:22.767835Z"
    }
   },
   "outputs": [],
   "source": [
    "plt.xlabel('LD1')\n",
    "plt.ylabel('LD2')\n",
    "plt.scatter(\n",
    "    X_lda[:,0],\n",
    "    X_lda[:,1],\n",
    "    c=y,\n",
    "    cmap='rainbow',\n",
    "    alpha=0.7,\n",
    "    edgecolors='b'\n",
    ")"
   ]
  },
  {
   "cell_type": "code",
   "execution_count": null,
   "id": "0bdb6167",
   "metadata": {
    "ExecuteTime": {
     "end_time": "2023-02-06T12:44:45.979306Z",
     "start_time": "2023-02-06T12:44:45.943857Z"
    }
   },
   "outputs": [],
   "source": [
    "from sklearn.discriminant_analysis import LinearDiscriminantAnalysis\n",
    "lda = LinearDiscriminantAnalysis()\n",
    "X_lda = lda.fit_transform(X, y)"
   ]
  },
  {
   "cell_type": "code",
   "execution_count": null,
   "id": "95c85e65",
   "metadata": {
    "ExecuteTime": {
     "end_time": "2023-02-06T12:44:53.887296Z",
     "start_time": "2023-02-06T12:44:53.881893Z"
    }
   },
   "outputs": [],
   "source": [
    "lda.explained_variance_ratio_"
   ]
  },
  {
   "cell_type": "code",
   "execution_count": null,
   "id": "27d11678",
   "metadata": {
    "ExecuteTime": {
     "end_time": "2023-02-06T12:45:07.636332Z",
     "start_time": "2023-02-06T12:45:07.487129Z"
    }
   },
   "outputs": [],
   "source": [
    "plt.xlabel('LD1')\n",
    "plt.ylabel('LD2')\n",
    "plt.scatter(\n",
    "    X_lda[:,0],\n",
    "    X_lda[:,1],\n",
    "    c=y,\n",
    "    cmap='rainbow',\n",
    "    alpha=0.7,\n",
    "    edgecolors='b'\n",
    ")"
   ]
  },
  {
   "cell_type": "code",
   "execution_count": null,
   "id": "fbb3794e",
   "metadata": {
    "ExecuteTime": {
     "end_time": "2023-02-06T12:45:24.454341Z",
     "start_time": "2023-02-06T12:45:24.438672Z"
    }
   },
   "outputs": [],
   "source": [
    "from sklearn.decomposition import PCA\n",
    "pca = PCA(n_components=2)\n",
    "X_pca = pca.fit_transform(X, y)"
   ]
  },
  {
   "cell_type": "code",
   "execution_count": null,
   "id": "9b8599b5",
   "metadata": {
    "ExecuteTime": {
     "end_time": "2023-02-06T12:45:31.835607Z",
     "start_time": "2023-02-06T12:45:31.822986Z"
    }
   },
   "outputs": [],
   "source": [
    "pca.explained_variance_ratio_"
   ]
  },
  {
   "cell_type": "code",
   "execution_count": null,
   "id": "8d7dc9f8",
   "metadata": {
    "ExecuteTime": {
     "end_time": "2023-02-06T12:45:50.089085Z",
     "start_time": "2023-02-06T12:45:49.943603Z"
    }
   },
   "outputs": [],
   "source": [
    "plt.xlabel('PC1')\n",
    "plt.ylabel('PC2')\n",
    "plt.scatter(\n",
    "    X_pca[:,0],\n",
    "    X_pca[:,1],\n",
    "    c=y,\n",
    "    cmap='rainbow',\n",
    "    alpha=0.7,\n",
    "    edgecolors='b'\n",
    ")"
   ]
  },
  {
   "cell_type": "code",
   "execution_count": null,
   "id": "00650e21",
   "metadata": {
    "ExecuteTime": {
     "end_time": "2023-02-06T12:46:33.809396Z",
     "start_time": "2023-02-06T12:46:33.800560Z"
    }
   },
   "outputs": [],
   "source": [
    "X_train, X_test, y_train, y_test = train_test_split(X_lda, y, random_state=1)"
   ]
  },
  {
   "cell_type": "code",
   "execution_count": null,
   "id": "c922580e",
   "metadata": {
    "ExecuteTime": {
     "end_time": "2023-02-06T12:46:40.941970Z",
     "start_time": "2023-02-06T12:46:40.923085Z"
    }
   },
   "outputs": [],
   "source": [
    "dt = DecisionTreeClassifier()\n",
    "dt.fit(X_train, y_train)\n",
    "y_pred = dt.predict(X_test)\n",
    "confusion_matrix(y_test, y_pred)"
   ]
  },
  {
   "cell_type": "code",
   "execution_count": null,
   "id": "ca5fdda8",
   "metadata": {
    "ExecuteTime": {
     "end_time": "2023-02-06T12:47:38.513840Z",
     "start_time": "2023-02-06T12:47:38.503288Z"
    }
   },
   "outputs": [],
   "source": [
    "X_train, X_test, y_train, y_test = train_test_split(X_pca, y, random_state=1)"
   ]
  },
  {
   "cell_type": "code",
   "execution_count": null,
   "id": "3f936942",
   "metadata": {
    "ExecuteTime": {
     "end_time": "2023-02-06T12:47:39.993469Z",
     "start_time": "2023-02-06T12:47:39.974454Z"
    }
   },
   "outputs": [],
   "source": [
    "dt = DecisionTreeClassifier()\n",
    "dt.fit(X_train, y_train)\n",
    "y_pred = dt.predict(X_test)\n",
    "confusion_matrix(y_test, y_pred)"
   ]
  }
 ],
 "metadata": {
  "hide_input": false,
  "kernelspec": {
   "display_name": "Python 3 (ipykernel)",
   "language": "python",
   "name": "python3"
  },
  "language_info": {
   "codemirror_mode": {
    "name": "ipython",
    "version": 3
   },
   "file_extension": ".py",
   "mimetype": "text/x-python",
   "name": "python",
   "nbconvert_exporter": "python",
   "pygments_lexer": "ipython3",
   "version": "3.10.7"
  },
  "latex_envs": {
   "LaTeX_envs_menu_present": true,
   "autoclose": true,
   "autocomplete": true,
   "bibliofile": "biblio.bib",
   "cite_by": "apalike",
   "current_citInitial": 1,
   "eqLabelWithNumbers": true,
   "eqNumInitial": 1,
   "hotkeys": {
    "equation": "Ctrl-E",
    "itemize": "Ctrl-I"
   },
   "labels_anchors": false,
   "latex_user_defs": false,
   "report_style_numbering": false,
   "user_envs_cfg": false
  },
  "toc": {
   "base_numbering": 1,
   "nav_menu": {},
   "number_sections": true,
   "sideBar": true,
   "skip_h1_title": false,
   "title_cell": "Table of Contents",
   "title_sidebar": "Contents",
   "toc_cell": false,
   "toc_position": {},
   "toc_section_display": true,
   "toc_window_display": false
  },
  "varInspector": {
   "cols": {
    "lenName": 16,
    "lenType": 16,
    "lenVar": 40
   },
   "kernels_config": {
    "python": {
     "delete_cmd_postfix": "",
     "delete_cmd_prefix": "del ",
     "library": "var_list.py",
     "varRefreshCmd": "print(var_dic_list())"
    },
    "r": {
     "delete_cmd_postfix": ") ",
     "delete_cmd_prefix": "rm(",
     "library": "var_list.r",
     "varRefreshCmd": "cat(var_dic_list()) "
    }
   },
   "types_to_exclude": [
    "module",
    "function",
    "builtin_function_or_method",
    "instance",
    "_Feature"
   ],
   "window_display": false
  }
 },
 "nbformat": 4,
 "nbformat_minor": 5
}

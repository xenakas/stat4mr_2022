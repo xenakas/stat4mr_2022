{
 "cells": [
  {
   "cell_type": "code",
   "execution_count": null,
   "id": "ee265ea7",
   "metadata": {
    "ExecuteTime": {
     "end_time": "2022-10-10T10:40:35.509444Z",
     "start_time": "2022-10-10T10:40:35.268471Z"
    }
   },
   "outputs": [],
   "source": [
    "import numpy as np\n",
    "import numpy.random as npr\n",
    "\n",
    "import pandas as pd\n",
    "import scipy\n",
    "\n",
    "# To estimate sample size via power analysis\n",
    "from statsmodels.stats.power import TTestIndPower\n",
    "\n",
    "import scipy\n",
    "import scipy.stats as sp\n",
    "import statsmodels.stats.weightstats as smw\n",
    "from scipy.stats import ttest_ind\n",
    "\n",
    "import seaborn as sns\n",
    "import matplotlib.pyplot as plt\n",
    "from plotly.offline import download_plotlyjs, init_notebook_mode, iplot\n",
    "from plotly.graph_objs import *\n",
    "\n",
    "import pingouin as pg\n",
    "\n",
    "\n",
    "import warnings\n",
    "warnings.filterwarnings('ignore')\n",
    "from ipywidgets import widgets\n",
    "from ipywidgets import interact, interactive, fixed, interact_manual\n",
    "init_notebook_mode()"
   ]
  },
  {
   "cell_type": "markdown",
   "id": "eb85fefc",
   "metadata": {},
   "source": [
    "# Power analysis (mean)"
   ]
  },
  {
   "cell_type": "code",
   "execution_count": null,
   "id": "485cbea8",
   "metadata": {
    "ExecuteTime": {
     "end_time": "2022-10-10T10:36:05.020465Z",
     "start_time": "2022-10-10T10:36:05.008073Z"
    }
   },
   "outputs": [],
   "source": [
    "x = np.random.uniform(low=0, high=1, size=40)\n",
    "y = np.random.uniform(low=0.1, high=1.1, size=40)\n",
    "pg.mwu(x, y, alternative='two-sided')"
   ]
  },
  {
   "cell_type": "code",
   "execution_count": null,
   "id": "25f4b21d",
   "metadata": {
    "ExecuteTime": {
     "end_time": "2022-10-10T10:36:05.681725Z",
     "start_time": "2022-10-10T10:36:05.041870Z"
    }
   },
   "outputs": [],
   "source": [
    "pg.mwu(x, y, alternative='two-sided', method='exact')"
   ]
  },
  {
   "cell_type": "code",
   "execution_count": null,
   "id": "b683f6f8",
   "metadata": {
    "ExecuteTime": {
     "end_time": "2022-10-10T10:36:05.707390Z",
     "start_time": "2022-10-10T10:36:05.703198Z"
    }
   },
   "outputs": [],
   "source": [
    "# size condition x\n",
    "# size condition y\n",
    "# sd condition x\n",
    "# sd condition y\n",
    "\n",
    "n1 = 38 \n",
    "n2 = 22 \n",
    "sd1 = 1.11 # true\n",
    "sd2 = 1.84 # true\n",
    "m1 = 0 # true\n",
    "m2 = 0 # true\n",
    "\n",
    "trueD = (m2 - m1) / (np.sqrt((((n1 - 1) * ((sd1 ** 2))) + \n",
    "                           (n2 - 1) * ((sd2 ** 2))) / ((n1 + n2) - 2)))\n",
    "trueD"
   ]
  },
  {
   "cell_type": "code",
   "execution_count": null,
   "id": "d45c15f5",
   "metadata": {
    "ExecuteTime": {
     "end_time": "2022-10-10T10:36:05.715801Z",
     "start_time": "2022-10-10T10:36:05.708657Z"
    }
   },
   "outputs": [],
   "source": [
    "sim_x = npr.normal(m1, sd1, n1)  # simulate participants condition x\n",
    "sim_y = npr.normal(m2, sd2, n2)  # simulate participants condition y"
   ]
  },
  {
   "cell_type": "code",
   "execution_count": null,
   "id": "925c7a20",
   "metadata": {
    "ExecuteTime": {
     "end_time": "2022-10-10T10:36:07.188814Z",
     "start_time": "2022-10-10T10:36:05.765379Z"
    }
   },
   "outputs": [],
   "source": [
    "# catx = rep(\"x\", n1)\n",
    "# caty = rep(\"y\", n2)\n",
    "# condition = make_tuple(catx, caty)\n",
    "# number of simulated experiments (large numbers might take a while)\n",
    "\n",
    "# create variables for dataframe\n",
    "nSims = 1000 \n",
    "# set up empty container for all simulated Student's t-test p-values\n",
    "p1 = [] \n",
    "# set up empty container for all simulated Welch's t-test p-values\n",
    "p2 = [] \n",
    "# set up empty container for all Levene's t-test p-values\n",
    "p3 = [] \n",
    "for i in range(1, nSims):\n",
    "    # for each simulated experiment\n",
    "    sim_x = npr.normal(m1, sd1, n1)  # simulate participants condition x\n",
    "    sim_y = npr.normal(m2, sd2, n2)  # simulate participants condition y\n",
    "    # perform Student and Welch t-test\n",
    "    # perform the t-test and store p-value\n",
    "    p1.append(smw.ttest_ind(sim_x,sim_y, usevar='pooled')[1])\n",
    "    # perform the t-test and store p-value\n",
    "    p2.append(smw.ttest_ind(sim_x,sim_y, usevar='unequal')[1])\n",
    "    # perform Levene's test\n",
    "    p3.append(pg.mwu(sim_x, sim_y, alternative='two-sided').iloc[0,2])"
   ]
  },
  {
   "cell_type": "code",
   "execution_count": null,
   "id": "fe2ed9fb",
   "metadata": {
    "ExecuteTime": {
     "end_time": "2022-10-10T10:36:07.192456Z",
     "start_time": "2022-10-10T10:36:07.190188Z"
    }
   },
   "outputs": [],
   "source": [
    "import matplotlib.pyplot as plt\n",
    "from matplotlib.ticker import PercentFormatter"
   ]
  },
  {
   "cell_type": "code",
   "execution_count": null,
   "id": "1b30ff1c",
   "metadata": {
    "ExecuteTime": {
     "end_time": "2022-10-10T10:29:38.138884Z",
     "start_time": "2022-10-10T10:29:37.954393Z"
    }
   },
   "outputs": [],
   "source": [
    "plt.hist(p1,density=True,bins=10)"
   ]
  },
  {
   "cell_type": "code",
   "execution_count": null,
   "id": "45c68795",
   "metadata": {
    "ExecuteTime": {
     "end_time": "2022-10-10T10:29:38.268230Z",
     "start_time": "2022-10-10T10:29:38.165285Z"
    }
   },
   "outputs": [],
   "source": [
    "plt.hist(p2,density=True,bins=10)"
   ]
  },
  {
   "cell_type": "code",
   "execution_count": null,
   "id": "df4f1b06",
   "metadata": {
    "ExecuteTime": {
     "end_time": "2022-10-10T10:29:38.437395Z",
     "start_time": "2022-10-10T10:29:38.297235Z"
    }
   },
   "outputs": [],
   "source": [
    "plt.hist(p3,density=True)"
   ]
  },
  {
   "cell_type": "code",
   "execution_count": null,
   "id": "b3cecb15",
   "metadata": {
    "ExecuteTime": {
     "end_time": "2022-10-10T10:29:38.467551Z",
     "start_time": "2022-10-10T10:29:38.462166Z"
    }
   },
   "outputs": [],
   "source": [
    "errorrate = sum(np.array(p1) < 0.05) / nSims * 100\n",
    "errorrate"
   ]
  },
  {
   "cell_type": "code",
   "execution_count": null,
   "id": "7e16f694",
   "metadata": {
    "ExecuteTime": {
     "end_time": "2022-10-10T10:29:38.499425Z",
     "start_time": "2022-10-10T10:29:38.494163Z"
    }
   },
   "outputs": [],
   "source": [
    "errorrate = sum(np.array(p2) < 0.05) / nSims * 100\n",
    "errorrate"
   ]
  },
  {
   "cell_type": "code",
   "execution_count": null,
   "id": "7c5fa309",
   "metadata": {
    "ExecuteTime": {
     "end_time": "2022-10-10T10:29:38.528395Z",
     "start_time": "2022-10-10T10:29:38.523849Z"
    }
   },
   "outputs": [],
   "source": [
    "errorrate = sum(np.array(p3) < 0.05) / nSims * 100\n",
    "errorrate"
   ]
  },
  {
   "cell_type": "code",
   "execution_count": null,
   "id": "84b15384",
   "metadata": {
    "ExecuteTime": {
     "end_time": "2022-10-10T10:29:38.557731Z",
     "start_time": "2022-10-10T10:29:38.553700Z"
    }
   },
   "outputs": [],
   "source": [
    "# size condition x\n",
    "# size condition y\n",
    "# sd condition x\n",
    "# sd condition y\n",
    "\n",
    "n1 = 38 \n",
    "n2 = 22 \n",
    "sd1 = 1.11 # true\n",
    "sd2 = 1.84 # true\n",
    "m1 = 0 # true\n",
    "m2 = 1 # true\n",
    "\n",
    "trueD = (m2 - m1) / (np.sqrt((((n1 - 1) * ((sd1 ** 2))) +\n",
    "                           (n2 - 1) * ((sd2 ** 2))) / ((n1 + n2) - 2)))\n",
    "trueD"
   ]
  },
  {
   "cell_type": "code",
   "execution_count": null,
   "id": "4a6200b1",
   "metadata": {
    "ExecuteTime": {
     "end_time": "2022-10-10T10:29:38.585547Z",
     "start_time": "2022-10-10T10:29:38.582671Z"
    }
   },
   "outputs": [],
   "source": [
    "sim_x = npr.normal(m1, sd1, n1)  # simulate participants condition x\n",
    "sim_y = npr.normal(m2, sd2, n2)  # simulate participants condition y\n",
    "\n",
    "x = np.random.uniform(low=0, high=1, size=40)\n",
    "y = np.random.uniform(low=0.1, high=1.1, size=40)"
   ]
  },
  {
   "cell_type": "code",
   "execution_count": null,
   "id": "f5b847e9",
   "metadata": {
    "ExecuteTime": {
     "end_time": "2022-10-10T10:29:46.654920Z",
     "start_time": "2022-10-10T10:29:38.613027Z"
    }
   },
   "outputs": [],
   "source": [
    "# create variables for dataframe\n",
    "nSims = 1000 \n",
    "# set up empty container for all simulated Student's t-test p-values\n",
    "p1 = [] \n",
    "# set up empty container for all simulated Welch's t-test p-values\n",
    "p2 = [] \n",
    "# set up empty container for all Levene's t-test p-values\n",
    "p3 = [] \n",
    "\n",
    "pow1 = []\n",
    "pow2 = []\n",
    "pow3 = []\n",
    "\n",
    "for j in [0.1,0.5,1,1.5,2,2.5]:\n",
    "    m1 =0 \n",
    "    m2 = 0 + j\n",
    "    p1 = [] \n",
    "    p2 = [] \n",
    "    p3 = [] \n",
    "    for i in range(1, nSims):\n",
    "        # for each simulated experiment\n",
    "        sim_x = npr.normal(m1, sd1, n1)  # simulate participants condition x\n",
    "        sim_y = npr.normal(m2, sd2, n2)  # simulate participants condition y\n",
    "        # perform the t-test and store p-value\n",
    "        p1.append(smw.ttest_ind(sim_x,sim_y, usevar='pooled')[1])\n",
    "        # perform the MW-test and store p-value\n",
    "        p2.append(smw.ttest_ind(sim_x,sim_y, usevar='unequal')[1])\n",
    "        # perform Levene's test\n",
    "        p3.append(pg.mwu(sim_x, sim_y, alternative='two-sided').iloc[0,2])\n",
    "    pow1.append(sum(np.array(p1) < 0.05) / nSims * 100)\n",
    "    pow2.append(sum(np.array(p2) < 0.05) / nSims * 100)\n",
    "    pow3.append(sum(np.array(p3) < 0.05) / nSims * 100)\n",
    "#     powerrate"
   ]
  },
  {
   "cell_type": "code",
   "execution_count": null,
   "id": "2f2a2ec4",
   "metadata": {
    "ExecuteTime": {
     "end_time": "2022-10-10T10:29:46.688606Z",
     "start_time": "2022-10-10T10:29:46.685777Z"
    }
   },
   "outputs": [],
   "source": [
    "import pandas as pd"
   ]
  },
  {
   "cell_type": "code",
   "execution_count": null,
   "id": "738c280e",
   "metadata": {
    "ExecuteTime": {
     "end_time": "2022-10-10T10:29:46.815388Z",
     "start_time": "2022-10-10T10:29:46.718507Z"
    }
   },
   "outputs": [],
   "source": [
    "plt.plot(pd.DataFrame([pow1, pow2, pow3]).T);\n",
    "plt.legend(['t','w','mw'])"
   ]
  },
  {
   "cell_type": "markdown",
   "id": "dc880b76",
   "metadata": {},
   "source": [
    "## Power curves"
   ]
  },
  {
   "cell_type": "code",
   "execution_count": null,
   "id": "16441142",
   "metadata": {
    "ExecuteTime": {
     "end_time": "2022-10-10T10:40:21.434038Z",
     "start_time": "2022-10-10T10:40:21.431576Z"
    }
   },
   "outputs": [],
   "source": [
    "from scipy.stats import norm"
   ]
  },
  {
   "cell_type": "code",
   "execution_count": null,
   "id": "780f6280",
   "metadata": {
    "ExecuteTime": {
     "end_time": "2022-10-10T10:40:21.471273Z",
     "start_time": "2022-10-10T10:40:21.468736Z"
    }
   },
   "outputs": [],
   "source": [
    "import scipy.stats as stats\n",
    "\n",
    "def sample_size_calculation(mu, sigma, MDE, alpha=0.05, beta=0.2):\n",
    "    return 2 * (sigma**2) * ((stats.norm.ppf(1-alpha/2) + stats.norm.ppf(1-beta))**2) / ((mu * MDE)**2)"
   ]
  },
  {
   "cell_type": "code",
   "execution_count": null,
   "id": "fc402db5",
   "metadata": {
    "ExecuteTime": {
     "end_time": "2022-10-10T10:40:21.670651Z",
     "start_time": "2022-10-10T10:40:21.655525Z"
    }
   },
   "outputs": [],
   "source": [
    "sample_size_calculation(0.1,0.01,0.01)"
   ]
  },
  {
   "cell_type": "code",
   "execution_count": null,
   "id": "4393716b",
   "metadata": {
    "ExecuteTime": {
     "end_time": "2022-10-10T10:40:22.186595Z",
     "start_time": "2022-10-10T10:40:21.834373Z"
    }
   },
   "outputs": [],
   "source": [
    "from scipy.stats import norm\n",
    "\n",
    "y = npr.normal(1,1,100)\n",
    "sample_size = 1000\n",
    "alpha = 0.05\n",
    "z = norm.isf(alpha / 2)\n",
    "estimated_variance = y.var()\n",
    "detectable_effect_size = z * np.sqrt(2 * estimated_variance / sample_size)\n",
    "detectable_effect_size"
   ]
  },
  {
   "cell_type": "code",
   "execution_count": null,
   "id": "70eb13ba",
   "metadata": {
    "ExecuteTime": {
     "end_time": "2022-10-10T10:40:22.194029Z",
     "start_time": "2022-10-10T10:40:22.194011Z"
    }
   },
   "outputs": [],
   "source": [
    "from statsmodels.stats.power import TTestIndPower\n",
    "from scipy import optimize\n",
    "\n",
    "sample_size = 100\n",
    "alpha = 0.05\n",
    "power = 0.3\n",
    "power_analysis = TTestIndPower()\n",
    "\n",
    "def f(effect_size):\n",
    "    return power_analysis.solve_power(effect_size=effect_size, power=power, alpha = alpha) - sample_size\n",
    "\n",
    "print('Maximum detectable effect size: {0:.2f}'.format(optimize.root_scalar(f, bracket=[0.01, 1.0]).root))"
   ]
  },
  {
   "cell_type": "code",
   "execution_count": null,
   "id": "a997164c",
   "metadata": {
    "ExecuteTime": {
     "end_time": "2022-10-10T10:29:47.046466Z",
     "start_time": "2022-10-10T10:29:47.037814Z"
    }
   },
   "outputs": [],
   "source": [
    "power_analysis = TTestIndPower()\n",
    "sol = power_analysis.solve_power(effect_size = None, \n",
    "                                         power = 0.8, \n",
    "                                         alpha = 0.05,\n",
    "                                         nobs1 = 100)\n",
    "sol"
   ]
  },
  {
   "cell_type": "code",
   "execution_count": null,
   "id": "2e545914",
   "metadata": {
    "ExecuteTime": {
     "end_time": "2022-10-10T10:29:47.081370Z",
     "start_time": "2022-10-10T10:29:47.073957Z"
    }
   },
   "outputs": [],
   "source": [
    "power_analysis = TTestIndPower()\n",
    "sol = power_analysis.solve_power(effect_size = 0.2, \n",
    "                                         power = 0.8, \n",
    "                                         alpha = 0.05,\n",
    "                                         nobs1 = None)\n",
    "sol"
   ]
  },
  {
   "cell_type": "code",
   "execution_count": null,
   "id": "ef4f78d4",
   "metadata": {
    "ExecuteTime": {
     "end_time": "2022-10-10T10:29:47.117902Z",
     "start_time": "2022-10-10T10:29:47.110045Z"
    }
   },
   "outputs": [],
   "source": [
    "# perform power analysis\n",
    "# parameters for power analysis\n",
    "effect = 0.8\n",
    "alpha = 0.05\n",
    "power = 0.8\n",
    "# perform power analysis\n",
    "analysis = TTestIndPower()\n",
    "result = analysis.solve_power(effect, power=power, nobs1=None, ratio=1.0, alpha=alpha)\n",
    "print('Sample Size: %.3f' % result)"
   ]
  },
  {
   "cell_type": "code",
   "execution_count": null,
   "id": "d6c791cc",
   "metadata": {
    "ExecuteTime": {
     "end_time": "2022-10-10T10:29:47.249521Z",
     "start_time": "2022-10-10T10:29:47.146133Z"
    }
   },
   "outputs": [],
   "source": [
    "# calculate power curves for varying sample and effect size\n",
    "from numpy import array\n",
    "from matplotlib import pyplot\n",
    "from statsmodels.stats.power import TTestIndPower\n",
    "# parameters for power analysis\n",
    "effect_sizes = array([0.2, 0.5, 0.8])\n",
    "sample_sizes = array(range(5, 100))\n",
    "# calculate power curves from multiple power analyses\n",
    "analysis = TTestIndPower()\n",
    "analysis.plot_power(dep_var='nobs', nobs=sample_sizes, effect_size=effect_sizes)\n",
    "pyplot.show()"
   ]
  },
  {
   "cell_type": "code",
   "execution_count": null,
   "id": "df7b1053",
   "metadata": {
    "ExecuteTime": {
     "end_time": "2022-10-10T10:29:47.283886Z",
     "start_time": "2022-10-10T10:29:47.278320Z"
    }
   },
   "outputs": [],
   "source": [
    "from statsmodels.stats.power import  tt_ind_solve_power\n",
    "from scipy.interpolate import interp1d\n",
    "import matplotlib.pyplot as plt\n",
    "\n",
    "def test_ttest_power_diff(mean, std, sample1_size=None, alpha=0.05, \n",
    "                          desired_power=0.8, mean_diff_percentages=[0.1, 0.05]):\n",
    "    fig, ax = plt.subplots()\n",
    "    for mean_diff_percent in mean_diff_percentages:\n",
    "        mean_diff = mean_diff_percent * mean\n",
    "        effect_size = mean_diff / std\n",
    "\n",
    "        print('Mean diff: ', np.round(mean_diff,5), '; Effect size: ', np.round(effect_size,3))\n",
    "\n",
    "        powers = []\n",
    "\n",
    "        max_size  = sample1_size\n",
    "        if sample1_size is None:\n",
    "            max_size = 100\n",
    "\n",
    "        sizes = np.arange(1, max_size, 2)\n",
    "        for sample2_size in sizes:\n",
    "            if(sample1_size is None):\n",
    "                n = tt_ind_solve_power(effect_size=effect_size, nobs1=sample2_size, alpha=alpha, ratio=1.0, alternative='two-sided')\n",
    "#                 print('tt_ind_solve_power(alpha=', alpha, 'sample2_size=', sample2_size, '): sample size in *second* group: {:.5f}'.format(n))\n",
    "            else:\n",
    "                n = tt_ind_solve_power(effect_size=effect_size, nobs1=sample1_size, alpha=alpha, ratio=(1.0*sample2_size/sample1_size), alternative='two-sided')\n",
    "#                 print('tt_ind_solve_power(alpha=', alpha, 'sample2_size=', sample2_size, '): sample size *each* group: {:.5f}'.format(n))\n",
    "\n",
    "            powers.append(n)\n",
    "\n",
    "        try: # mark the desired power on the graph\n",
    "            z1 = interp1d(powers, sizes)\n",
    "            results = z1(desired_power)\n",
    "\n",
    "            plt.plot([results], [desired_power], 'gD')\n",
    "        except Exception as e:\n",
    "            print(\"Error: \", e)\n",
    "            #ignore\n",
    "\n",
    "        plt.title('Power vs. Sample Size')\n",
    "        plt.xlabel('Sample Size')\n",
    "        plt.ylabel('Power')\n",
    "\n",
    "        plt.plot(sizes, powers, label='diff={:2.0f}%'.format(100*mean_diff_percent)) #, '-gD')\n",
    "\n",
    "    plt.legend()\n",
    "    plt.show()"
   ]
  },
  {
   "cell_type": "code",
   "execution_count": null,
   "id": "b85666b6",
   "metadata": {
    "ExecuteTime": {
     "end_time": "2022-10-10T10:29:47.473799Z",
     "start_time": "2022-10-10T10:29:47.315163Z"
    },
    "scrolled": false
   },
   "outputs": [],
   "source": [
    "test_ttest_power_diff(0.1,0.01,200);"
   ]
  },
  {
   "cell_type": "markdown",
   "id": "203a3029",
   "metadata": {},
   "source": [
    "# Proportion"
   ]
  },
  {
   "cell_type": "code",
   "execution_count": null,
   "id": "451906be",
   "metadata": {
    "ExecuteTime": {
     "end_time": "2022-10-10T10:40:39.533793Z",
     "start_time": "2022-10-10T10:40:39.530937Z"
    }
   },
   "outputs": [],
   "source": [
    "import random\n",
    "import numpy as np\n",
    "from scipy.stats import binom \n",
    "import seaborn as sns\n",
    "\n",
    "from helper import *"
   ]
  },
  {
   "cell_type": "code",
   "execution_count": null,
   "id": "c3ad2d9d",
   "metadata": {
    "ExecuteTime": {
     "end_time": "2022-10-10T10:40:39.665966Z",
     "start_time": "2022-10-10T10:40:39.661443Z"
    }
   },
   "outputs": [],
   "source": [
    "bcr = 0.1 # Baseline conversion rate\n",
    "lift = 0.02 # Difference between the 2 groups\n",
    "size = 4000 # Total size of data, each group will have 2000"
   ]
  },
  {
   "cell_type": "code",
   "execution_count": null,
   "id": "e0b99188",
   "metadata": {
    "ExecuteTime": {
     "end_time": "2022-10-10T10:40:39.822747Z",
     "start_time": "2022-10-10T10:40:39.819151Z"
    }
   },
   "outputs": [],
   "source": [
    "group_A = npr.binomial(size/2,bcr)\n",
    "group_B = npr.binomial(size/2,bcr+lift)"
   ]
  },
  {
   "cell_type": "code",
   "execution_count": null,
   "id": "e422352b",
   "metadata": {
    "ExecuteTime": {
     "end_time": "2022-10-10T10:40:40.735247Z",
     "start_time": "2022-10-10T10:40:39.983172Z"
    }
   },
   "outputs": [],
   "source": [
    "fig, ax = plt.subplots(figsize=(8,5))\n",
    "xx = np.linspace(1,300, 300)\n",
    "data_a = binom(size/2,bcr).pmf(xx)\n",
    "data_b = binom(size/2,bcr+lift).pmf(xx)\n",
    "\n",
    "ax.bar(xx, data_a, alpha=0.5)\n",
    "ax.bar(xx, data_b, alpha=0.5)\n",
    "\n",
    "plt.xlim(left=50) \n",
    "\n",
    "plt.xlabel('converted')\n",
    "plt.ylabel('probability')"
   ]
  },
  {
   "cell_type": "code",
   "execution_count": null,
   "id": "9332ca1b",
   "metadata": {
    "ExecuteTime": {
     "end_time": "2022-10-10T10:40:40.882727Z",
     "start_time": "2022-10-10T10:40:40.794280Z"
    }
   },
   "outputs": [],
   "source": [
    "outcomes = []\n",
    "for i in range(10000):\n",
    "    p = 0.1\n",
    "    outcome = npr.binomial(1, p)\n",
    "    outcomes.append(outcome)\n",
    "sns.countplot(outcomes);"
   ]
  },
  {
   "cell_type": "code",
   "execution_count": null,
   "id": "e346f265",
   "metadata": {
    "ExecuteTime": {
     "end_time": "2022-10-10T10:40:41.371953Z",
     "start_time": "2022-10-10T10:40:40.937604Z"
    }
   },
   "outputs": [],
   "source": [
    "sample_means = []# Simulating 1000 samples\n",
    "for i in range(1000):\n",
    "    # For each sample, we simulate 2000 users\n",
    "    sample = random.choices(outcomes, k=2000)\n",
    "    mean = np.mean(sample)\n",
    "    sample_means.append(mean)\n",
    "sns.distplot(sample_means)"
   ]
  },
  {
   "cell_type": "code",
   "execution_count": null,
   "id": "f19d7d02",
   "metadata": {
    "ExecuteTime": {
     "end_time": "2022-10-10T10:40:41.427703Z",
     "start_time": "2022-10-10T10:40:41.424721Z"
    }
   },
   "outputs": [],
   "source": [
    "from scipy.stats import shapiro\n",
    "stat, p = shapiro(sample_means)\n",
    "print('Statistics={}, p={}'.format(stat, p))\n",
    "alpha = 0.05\n",
    "if p > alpha:\n",
    "    print('Sample looks Normal (do not reject H0)')\n",
    "else:\n",
    "    print('Sample does not look Normal (reject H0)')"
   ]
  },
  {
   "cell_type": "code",
   "execution_count": null,
   "id": "fe17e7a7",
   "metadata": {
    "ExecuteTime": {
     "end_time": "2022-10-10T10:40:41.612974Z",
     "start_time": "2022-10-10T10:40:41.485648Z"
    }
   },
   "outputs": [],
   "source": [
    "fig, ax = plt.subplots()\n",
    "xx = np.linspace(0.07, 0.17, 1000)\n",
    "    \n",
    "p_A = bcr\n",
    "p_B = bcr+lift \n",
    "n_A = 2000    \n",
    "n_B = 2000    \n",
    "\n",
    "data_a_norm = norm.pdf(xx, p_A, np.sqrt(p_A*(1-p_A) / n_A))\n",
    "data_b_norm = norm.pdf(xx, p_B, np.sqrt(p_B*(1-p_B) / n_B))\n",
    "sns.lineplot(xx, data_a_norm, color='blue', ax=ax)\n",
    "sns.lineplot(xx, data_b_norm, color='red', ax=ax)\n",
    "ax.axvline(p_A, color='cyan', linestyle='--')\n",
    "ax.axvline(p_B, color='orange', linestyle='--')\n",
    "plt.xlabel('converted')\n",
    "plt.ylabel('probability')"
   ]
  },
  {
   "cell_type": "markdown",
   "id": "292c95d4",
   "metadata": {},
   "source": [
    "$$H_0: d = \\mu_b - \\mu_a = 0$$<br/>\n",
    "$$H_1: d = \\mu_b - \\mu_a <> 0$$"
   ]
  },
  {
   "cell_type": "code",
   "execution_count": null,
   "id": "78280a2a",
   "metadata": {
    "ExecuteTime": {
     "end_time": "2022-10-10T10:40:42.078238Z",
     "start_time": "2022-10-10T10:40:41.790706Z"
    }
   },
   "outputs": [],
   "source": [
    "### Since we draw the graph for 3, \n",
    "# let's just assume pooled SE is calculated with bcr=0.1 and lift=0.02\n",
    "SE_0 = SE_1 = SE_2 = calculate_SE(0.1, 0.12, 2000, 2000)\n",
    "plot_multiple_alt(0, 0.01, 0.02, SE_0, SE_1, SE_2)"
   ]
  },
  {
   "cell_type": "code",
   "execution_count": null,
   "id": "f16025bc",
   "metadata": {
    "ExecuteTime": {
     "end_time": "2022-10-10T10:40:42.516389Z",
     "start_time": "2022-10-10T10:40:42.261492Z"
    }
   },
   "outputs": [],
   "source": [
    "SE_0 = calculate_SE(0.1, 0.12, 4000, 4000)\n",
    "SE_1 = calculate_SE(0.1, 0.12, 4000, 4000)\n",
    "SE_2 = calculate_SE(0.1, 0.12, 4000, 4000)\n",
    "plot_multiple_alt(0, 0.01, 0.02, SE_0, SE_1, SE_2)"
   ]
  },
  {
   "cell_type": "code",
   "execution_count": null,
   "id": "e5312703",
   "metadata": {
    "ExecuteTime": {
     "end_time": "2022-10-10T10:40:42.814045Z",
     "start_time": "2022-10-10T10:40:42.641321Z"
    }
   },
   "outputs": [],
   "source": [
    "im = interact(explore_ab, bcr=(0.01, 0.2, 0.01), lift=(0.01, 0.05, 0.01), size=(2000, 10000, 100), split=fixed(0.5))"
   ]
  },
  {
   "cell_type": "markdown",
   "id": "082f49f9",
   "metadata": {},
   "source": [
    "## Sample size calculator"
   ]
  },
  {
   "cell_type": "code",
   "execution_count": null,
   "id": "3a654a5d",
   "metadata": {
    "ExecuteTime": {
     "end_time": "2022-10-10T10:40:43.060301Z",
     "start_time": "2022-10-10T10:40:43.055411Z"
    }
   },
   "outputs": [],
   "source": [
    "calc_sample_size(alpha=0.05, beta=0.2, p=0.1, delta=0.02, method='pooled_se') # 3843"
   ]
  },
  {
   "cell_type": "code",
   "execution_count": null,
   "id": "6309d567",
   "metadata": {
    "ExecuteTime": {
     "end_time": "2022-10-10T10:40:44.412198Z",
     "start_time": "2022-10-10T10:40:44.398396Z"
    }
   },
   "outputs": [],
   "source": [
    "calc_sample_size(alpha=0.05, beta=0.2, p=0.1, delta=0.02, method='evanmiller') #3623"
   ]
  },
  {
   "cell_type": "code",
   "execution_count": null,
   "id": "e283d754",
   "metadata": {
    "ExecuteTime": {
     "end_time": "2022-10-10T10:40:45.111692Z",
     "start_time": "2022-10-10T10:40:44.939193Z"
    }
   },
   "outputs": [],
   "source": [
    "plot_ab(p_A=0.1, p_B=0.12, n_A= 3843, n_B= 3843)"
   ]
  },
  {
   "cell_type": "code",
   "execution_count": null,
   "id": "c465cd04",
   "metadata": {
    "ExecuteTime": {
     "end_time": "2022-10-10T10:40:45.849098Z",
     "start_time": "2022-10-10T10:40:45.843635Z"
    }
   },
   "outputs": [],
   "source": [
    "def get_ci(p_pool, p_A, p_B, N_A, N_B, alpha=0.05, plot=True):\n",
    "    SE = np.sqrt((p_pool * (1 - p_pool))*(1/N_A + 1/N_B))\n",
    "    z_score = norm.ppf(1-alpha/2)\n",
    "    margin = z_score * SE\n",
    "    \n",
    "    diff = p_B - p_A\n",
    "    ci_lower = diff - margin\n",
    "    ci_upper = diff + margin\n",
    "    \n",
    "    xx = np.arange(diff-3*SE, diff+3*SE, 0.0001)\n",
    "    \n",
    "    if plot == True:\n",
    "        \n",
    "        fig, ax = plt.subplots()\n",
    "        data = norm.pdf(xx, loc=diff, scale=SE)\n",
    "        \n",
    "        aaa = 0.15\n",
    "\n",
    "        sns.lineplot(xx, data, ax=ax)\n",
    "        line = ax.get_lines()[-1]\n",
    "        x,y = line.get_data()\n",
    "        mask = np.logical_and(x < norm.ppf(1-0.05/2, loc=diff, scale=SE), x > norm.ppf(0.05/2, loc=diff, scale=SE))\n",
    "        x, y = x[mask], y[mask]\n",
    "        ax.fill_between(x, y1=y, alpha=0.5, facecolor='blue')\n",
    "        ax.axvline(diff, ls='--')\n",
    "        ax.annotate(f\"Lower CI is: {norm.ppf(0.05/2, loc=diff, scale=SE):.5f}\", xy=(0.09,0.89-aaa), xycoords='figure fraction')\n",
    "        ax.annotate(f\"Upper CI is: {norm.ppf(1-0.05/2, loc=diff, scale=SE):.5f}\", xy=(0.09,0.84-aaa), xycoords='figure fraction')\n",
    "        ax.annotate(f\"CI range for: {(1-alpha)*100}% confidence\", xy=(0.09,0.8-aaa), xycoords='figure fraction')\n",
    "\n",
    "    return ci_lower, ci_upper"
   ]
  },
  {
   "cell_type": "code",
   "execution_count": null,
   "id": "8f3fbee5",
   "metadata": {
    "ExecuteTime": {
     "end_time": "2022-10-10T10:40:46.439008Z",
     "start_time": "2022-10-10T10:40:46.317697Z"
    }
   },
   "outputs": [],
   "source": [
    "get_ci(0.5, p_A=0.1, p_B=0.12, N_A= 3843, N_B= 3843)"
   ]
  },
  {
   "cell_type": "code",
   "execution_count": null,
   "id": "3a1cd367",
   "metadata": {
    "ExecuteTime": {
     "end_time": "2022-10-10T10:41:14.155954Z",
     "start_time": "2022-10-10T10:41:14.106389Z"
    }
   },
   "outputs": [],
   "source": [
    "generate_data_equal_size(size, bcr, lift)"
   ]
  },
  {
   "cell_type": "code",
   "execution_count": null,
   "id": "ba8ad58b",
   "metadata": {
    "ExecuteTime": {
     "end_time": "2022-10-10T10:44:08.021946Z",
     "start_time": "2022-10-10T10:43:59.768696Z"
    }
   },
   "outputs": [],
   "source": [
    "test_results = []\n",
    "for i in range(1000):\n",
    "    df, summary = generate_data_equal_size(size, bcr, lift, summary_sh=False)\n",
    "    \n",
    "    p_A = summary.loc['A', 'ctr']\n",
    "    p_B = summary.loc['B', 'ctr']\n",
    "    n_A = summary.loc['A', 'count']\n",
    "    n_B = summary.loc['B', 'count']\n",
    "    \n",
    "    p_pool = (p_A*n_A + p_B*n_B)/(n_A+n_B)    \n",
    "    \n",
    "    low_ci, up_ci = get_ci(p_pool, p_A, p_B, n_A, n_B, alpha=0.05, plot=False)\n",
    "    test_results.append((low_ci, up_ci))"
   ]
  },
  {
   "cell_type": "code",
   "execution_count": null,
   "id": "25363a5b",
   "metadata": {
    "ExecuteTime": {
     "end_time": "2022-10-10T10:41:27.604044Z",
     "start_time": "2022-10-10T10:41:27.599534Z"
    }
   },
   "outputs": [],
   "source": [
    "# test_results"
   ]
  },
  {
   "cell_type": "code",
   "execution_count": null,
   "id": "7295206e",
   "metadata": {
    "ExecuteTime": {
     "end_time": "2022-10-10T10:44:08.255305Z",
     "start_time": "2022-10-10T10:44:08.251110Z"
    }
   },
   "outputs": [],
   "source": [
    "lower_cis = np.array([i[0] for i in test_results])\n",
    "pow_rate = len(lower_cis[lower_cis > 0])/1000 \n",
    "pow_rate"
   ]
  },
  {
   "cell_type": "code",
   "execution_count": null,
   "id": "a921d1e6",
   "metadata": {},
   "outputs": [],
   "source": []
  }
 ],
 "metadata": {
  "hide_input": false,
  "kernelspec": {
   "display_name": "Python 3 (ipykernel)",
   "language": "python",
   "name": "python3"
  },
  "language_info": {
   "codemirror_mode": {
    "name": "ipython",
    "version": 3
   },
   "file_extension": ".py",
   "mimetype": "text/x-python",
   "name": "python",
   "nbconvert_exporter": "python",
   "pygments_lexer": "ipython3",
   "version": "3.10.6"
  },
  "latex_envs": {
   "LaTeX_envs_menu_present": true,
   "autoclose": true,
   "autocomplete": true,
   "bibliofile": "biblio.bib",
   "cite_by": "apalike",
   "current_citInitial": 1,
   "eqLabelWithNumbers": true,
   "eqNumInitial": 1,
   "hotkeys": {
    "equation": "Ctrl-E",
    "itemize": "Ctrl-I"
   },
   "labels_anchors": false,
   "latex_user_defs": false,
   "report_style_numbering": false,
   "user_envs_cfg": false
  },
  "toc": {
   "base_numbering": 1,
   "nav_menu": {},
   "number_sections": true,
   "sideBar": true,
   "skip_h1_title": false,
   "title_cell": "Table of Contents",
   "title_sidebar": "Contents",
   "toc_cell": false,
   "toc_position": {},
   "toc_section_display": true,
   "toc_window_display": false
  },
  "varInspector": {
   "cols": {
    "lenName": 16,
    "lenType": 16,
    "lenVar": 40
   },
   "kernels_config": {
    "python": {
     "delete_cmd_postfix": "",
     "delete_cmd_prefix": "del ",
     "library": "var_list.py",
     "varRefreshCmd": "print(var_dic_list())"
    },
    "r": {
     "delete_cmd_postfix": ") ",
     "delete_cmd_prefix": "rm(",
     "library": "var_list.r",
     "varRefreshCmd": "cat(var_dic_list()) "
    }
   },
   "types_to_exclude": [
    "module",
    "function",
    "builtin_function_or_method",
    "instance",
    "_Feature"
   ],
   "window_display": false
  }
 },
 "nbformat": 4,
 "nbformat_minor": 5
}

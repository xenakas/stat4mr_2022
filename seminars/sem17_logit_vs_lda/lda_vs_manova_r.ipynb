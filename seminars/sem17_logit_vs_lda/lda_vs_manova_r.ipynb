{
 "cells": [
  {
   "cell_type": "markdown",
   "id": "efaf6688",
   "metadata": {},
   "source": [
    "It is worth noting that while LDA has a theoretical parametric basis (one can think of it as a tool for visualizing the space within which the hypothesis tests in a MANOVA occur) it does not have to be used for hypothesis testing; it can be used for exploratory analyses, just like the other techniques we have already discussed. However, you can get into some philosophically troubled waters if you use LDA in an exploratory, non-test based way and then use MANOVA to test for differences among groups having already seen that the differences exist. Multivariate fishing expeditions suffer from all the same dangers (and probably more) as their univariate cousins. So, to play it safe here are suggested sequences of analysis that avoid the dangers of fishing for significant results:\n",
    "\n",
    "1.    Use LDA for exploratory analyses and collect new data for hypothesis testing perhaps using the results of your LDA to form the priors for a Bayesian analysis,\n",
    "2.    State your null and experimental hypotheses in advance of the analysis and then use LDA and MANOVA to test them\n",
    "3.    Use LDA in the situation where you have stated your hypotheses in advance and tested with MANOVA, to visualize the results and add explanatory detail.\n",
    "\n"
   ]
  },
  {
   "cell_type": "code",
   "execution_count": 2,
   "id": "4e90bdbb",
   "metadata": {
    "ExecuteTime": {
     "end_time": "2023-02-13T11:25:47.094152Z",
     "start_time": "2023-02-13T11:25:47.069Z"
    }
   },
   "outputs": [],
   "source": [
    "library(MASS)"
   ]
  },
  {
   "cell_type": "markdown",
   "id": "36c08c8d",
   "metadata": {},
   "source": [
    "Ignoring our own advice, we will demonstrate the combination of LDA and MANOVA on the field survey data by reanalyzing it to determine if there is a significant difference among the regions with respect to diseases."
   ]
  },
  {
   "cell_type": "code",
   "execution_count": 3,
   "id": "9e7a2ee3",
   "metadata": {
    "ExecuteTime": {
     "end_time": "2023-02-13T11:25:48.261087Z",
     "start_time": "2023-02-13T11:25:47.371Z"
    }
   },
   "outputs": [],
   "source": [
    "data <- read.csv(\"https://raw.githubusercontent.com/openplantpathology/OPP_Workshop_Multivariate/master/data/PCA1_Survey.csv\", head = TRUE)\n",
    "cordata <- data[c(-7, -8, -9)]\n",
    "lda_expl <- cordata[, 3:14]"
   ]
  },
  {
   "cell_type": "code",
   "execution_count": 4,
   "id": "03a62694",
   "metadata": {
    "ExecuteTime": {
     "end_time": "2023-02-06T11:09:30.174083Z",
     "start_time": "2023-02-06T11:09:29.892Z"
    }
   },
   "outputs": [
    {
     "data": {
      "text/plain": [
       "Call:\n",
       "lda(lda_expl, grouping = cordata$region)\n",
       "\n",
       "Prior probabilities of groups:\n",
       "        E         N         W \n",
       "0.3414634 0.4146341 0.2439024 \n",
       "\n",
       "Group means:\n",
       "      ST_L      St_G      Sn_L      Sn_G      Pm_L      Pm_G      Fu_L\n",
       "E 2.071429 0.0000000 1.1428571 0.2857143 0.3571429 0.1428571 0.7142857\n",
       "N 1.805882 0.8352941 0.2529412 0.0000000 0.6000000 0.7176471 1.2117647\n",
       "W 5.000000 2.2000000 0.1000000 0.1000000 0.0000000 0.0000000 0.9000000\n",
       "       Bo_L      SM_E       ES      SES       TA\n",
       "E 0.6428571 0.9285714 11.84643 8.800714 0.000000\n",
       "N 0.3176471 0.0000000  0.00000 5.049412 1.864706\n",
       "W 0.9000000 1.5000000  7.86600 6.931000 2.640000\n",
       "\n",
       "Coefficients of linear discriminants:\n",
       "             LD1         LD2\n",
       "ST_L  0.24561018  0.04340412\n",
       "St_G  1.77682294 -0.34217993\n",
       "Sn_L -1.12748453  0.30222420\n",
       "Sn_G  1.41477636  0.59130386\n",
       "Pm_L  1.17698492  0.35323668\n",
       "Pm_G -0.68126225 -0.69007369\n",
       "Fu_L -1.42770688 -0.39274438\n",
       "Bo_L  0.66179996  0.44118265\n",
       "SM_E  1.16312030  0.56955987\n",
       "ES   -0.07924553  0.07603390\n",
       "SES   0.05175887 -0.01021430\n",
       "TA    0.33463741  0.02697694\n",
       "\n",
       "Proportion of trace:\n",
       "   LD1    LD2 \n",
       "0.8355 0.1645 "
      ]
     },
     "metadata": {},
     "output_type": "display_data"
    }
   ],
   "source": [
    "region_lda <- lda(lda_expl, grouping = cordata$region)\n",
    "region_lda"
   ]
  },
  {
   "cell_type": "markdown",
   "id": "6ad6c371",
   "metadata": {},
   "source": [
    "1. The first section is a summary of the proportion of objects in each of the categories of the grouping factor. These are labeled prior probabilities because lda has a predictive capacity and if one has “unknown” objects it can be used to predict their identity. \n",
    "\n",
    "2. The second section of output shows the mean values for each of the variables for each of the levels of the grouping factor. Inspection of this information will start to reveal the nature of any differences there might be among class of the grouping factor. \n",
    "\n",
    "3. The third section of output shows us the coefficients (or loadings) applied to each of the data variables in the construction of the discriminant axes. In the case of the disease data, the first LDA accounts for 83.5% of the variance ratio, while the second axis accounts for the remaining 16.5%.\n",
    "\n",
    "Conceptually LDA has a lot in common with PCA, but in the case of LDA the new “components” or discriminant functions are formed with the constraint that they maximize the ratio of between group to within group variance. This contrasts PCA, where the new variables are formed simply to maximize the amount of variance captured overall. \n",
    "\n",
    "Unlike the situation with PCA where the maximum number of non-zero components is one less than the number of original data variables, with LDA the number of possible axes is one less than the number of groups. \n",
    "\n"
   ]
  },
  {
   "cell_type": "code",
   "execution_count": 5,
   "id": "80a0fd07",
   "metadata": {
    "ExecuteTime": {
     "end_time": "2023-02-06T11:09:31.845315Z",
     "start_time": "2023-02-06T11:09:31.659Z"
    }
   },
   "outputs": [
    {
     "data": {
      "image/png": "[encoded data removed]",
      "text/plain": [
       "plot without title"
      ]
     },
     "metadata": {
      "image/png": {
       "height": 420,
       "width": 420
      }
     },
     "output_type": "display_data"
    }
   ],
   "source": [
    "region_ldaplt <- plot(region_lda)"
   ]
  },
  {
   "cell_type": "code",
   "execution_count": 6,
   "id": "49e5a50e",
   "metadata": {
    "ExecuteTime": {
     "end_time": "2023-02-06T11:09:33.213896Z",
     "start_time": "2023-02-06T11:09:33.190Z"
    }
   },
   "outputs": [],
   "source": [
    "lda.arrows <- function(x, myscale = 1, tex = 0.75, choices = c(1, 2), ...) {\n",
    "  ## adds `biplot` arrows to an lda using the discriminant function values\n",
    "  heads <- coef(x)\n",
    "  arrows(\n",
    "    x0 = 0, y0 = 0,\n",
    "    x1 = myscale * heads[, choices[1]],\n",
    "    y1 = myscale * heads[, choices[2]], ...\n",
    "  )\n",
    "  text(myscale * heads[, choices],\n",
    "    labels = row.names(heads),\n",
    "    cex = tex, pos = 1, offset = 0.5\n",
    "  )\n",
    "}"
   ]
  },
  {
   "cell_type": "code",
   "execution_count": 7,
   "id": "a22e3a6d",
   "metadata": {
    "ExecuteTime": {
     "end_time": "2023-02-06T11:09:37.513839Z",
     "start_time": "2023-02-06T11:09:37.349Z"
    }
   },
   "outputs": [
    {
     "data": {
      "image/png": "[encoded data removed]",
      "text/plain": [
       "plot without title"
      ]
     },
     "metadata": {
      "image/png": {
       "height": 420,
       "width": 420
      }
     },
     "output_type": "display_data"
    }
   ],
   "source": [
    "NHCA_data1 <- data.frame(cordata[, 1:2], scale(cordata[, 3:14]))\n",
    "NHCA_fields2 <- kmeans(NHCA_data1[, 3:14], 7)\n",
    "plot(region_lda, asp = 1, col = NHCA_fields2$cluster, cex = 1.25)\n",
    "lda.arrows(region_lda, col = 1, lwd = 1, myscale = 2.5)"
   ]
  },
  {
   "cell_type": "markdown",
   "id": "92f3cc65",
   "metadata": {},
   "source": [
    "Overall, the LDA suggests that there are differences among all three regions. The major difference is between the West and the other two, with fields in the West being associated with diseases typical of wet late season conditions (glume and ear diseases are more intense). The difference between the North and East regions is smaller in absolute terms but nonetheless appears to be a real difference."
   ]
  },
  {
   "cell_type": "code",
   "execution_count": 8,
   "id": "107ff92b",
   "metadata": {
    "ExecuteTime": {
     "end_time": "2023-02-06T11:09:39.240618Z",
     "start_time": "2023-02-06T11:09:39.231Z"
    }
   },
   "outputs": [
    {
     "name": "stdout",
     "output_type": "stream",
     "text": [
      "Ref, region, ST_L, St_G, Sn_L, Sn_G, Pm_L, Pm_G, Fu_L, Bo_L, SM_E, ES, SES, TA"
     ]
    }
   ],
   "source": [
    "cat(colnames(cordata), sep=', ')"
   ]
  },
  {
   "cell_type": "code",
   "execution_count": 9,
   "id": "932c4b57",
   "metadata": {
    "ExecuteTime": {
     "end_time": "2023-02-06T11:09:39.642985Z",
     "start_time": "2023-02-06T11:09:39.605Z"
    }
   },
   "outputs": [
    {
     "data": {
      "text/plain": [
       "               Df Pillai approx F num Df den Df    Pr(>F)    \n",
       "cordata$region  2 1.4986   6.9741     24     56 1.201e-09 ***\n",
       "Residuals      38                                            \n",
       "---\n",
       "Signif. codes:  0 ‘***’ 0.001 ‘**’ 0.01 ‘*’ 0.05 ‘.’ 0.1 ‘ ’ 1"
      ]
     },
     "metadata": {},
     "output_type": "display_data"
    }
   ],
   "source": [
    "lda_expl <- data.frame(lda_expl)\n",
    "region_MAN <- manova(\n",
    "  cbind(ST_L, St_G, Sn_L, Sn_G, Pm_L, Pm_G, Fu_L, Bo_L, \n",
    "        SM_E, ES, SES, TA) ~ cordata$region,\n",
    "  data = lda_expl\n",
    ")\n",
    "summary(region_MAN, test = \"Pillai\")"
   ]
  },
  {
   "cell_type": "code",
   "execution_count": 10,
   "id": "692b76da",
   "metadata": {
    "ExecuteTime": {
     "end_time": "2023-02-06T11:09:41.846335Z",
     "start_time": "2023-02-06T11:09:41.807Z"
    }
   },
   "outputs": [
    {
     "data": {
      "text/plain": [
       "               Df    Wilks approx F num Df den Df    Pr(>F)    \n",
       "cordata$region  2 0.043523   8.5351     24     54 4.286e-11 ***\n",
       "Residuals      38                                              \n",
       "---\n",
       "Signif. codes:  0 ‘***’ 0.001 ‘**’ 0.01 ‘*’ 0.05 ‘.’ 0.1 ‘ ’ 1"
      ]
     },
     "metadata": {},
     "output_type": "display_data"
    }
   ],
   "source": [
    "summary(region_MAN, test = \"Wilks\")"
   ]
  },
  {
   "cell_type": "code",
   "execution_count": 11,
   "id": "a665c5ae",
   "metadata": {
    "ExecuteTime": {
     "end_time": "2023-02-06T11:09:42.160399Z",
     "start_time": "2023-02-06T11:09:42.137Z"
    }
   },
   "outputs": [
    {
     "data": {
      "text/plain": [
       "               Df Hotelling-Lawley approx F num Df den Df    Pr(>F)    \n",
       "cordata$region  2           9.5202   10.313     24     52 1.942e-12 ***\n",
       "Residuals      38                                                      \n",
       "---\n",
       "Signif. codes:  0 ‘***’ 0.001 ‘**’ 0.01 ‘*’ 0.05 ‘.’ 0.1 ‘ ’ 1"
      ]
     },
     "metadata": {},
     "output_type": "display_data"
    }
   ],
   "source": [
    "summary(region_MAN, test = \"Hotelling-Lawley\")"
   ]
  },
  {
   "cell_type": "markdown",
   "id": "7c678be0",
   "metadata": {},
   "source": [
    "There are several such tests for MANOVA which differ in their tendency to type 1 and type 2 errors. Wilks test tends to be conservative while the Hotelling-Lawley test tends to be lax. It’s a good idea to look at all of the options and come to a consensus. In this case, there’s no conflict. All of the tests point to a clear case for rejecting the null hypothesis of no difference among the different regions."
   ]
  }
 ],
 "metadata": {
  "hide_input": false,
  "kernelspec": {
   "display_name": "R 4.2",
   "language": "R",
   "name": "ir42"
  },
  "language_info": {
   "codemirror_mode": "r",
   "file_extension": ".r",
   "mimetype": "text/x-r-source",
   "name": "R",
   "pygments_lexer": "r",
   "version": "4.2.1"
  },
  "latex_envs": {
   "LaTeX_envs_menu_present": true,
   "autoclose": true,
   "autocomplete": true,
   "bibliofile": "biblio.bib",
   "cite_by": "apalike",
   "current_citInitial": 1,
   "eqLabelWithNumbers": true,
   "eqNumInitial": 1,
   "hotkeys": {
    "equation": "Ctrl-E",
    "itemize": "Ctrl-I"
   },
   "labels_anchors": false,
   "latex_user_defs": false,
   "report_style_numbering": false,
   "user_envs_cfg": false
  },
  "toc": {
   "base_numbering": 1,
   "nav_menu": {},
   "number_sections": true,
   "sideBar": true,
   "skip_h1_title": false,
   "title_cell": "Table of Contents",
   "title_sidebar": "Contents",
   "toc_cell": false,
   "toc_position": {},
   "toc_section_display": true,
   "toc_window_display": false
  },
  "varInspector": {
   "cols": {
    "lenName": 16,
    "lenType": 16,
    "lenVar": 40
   },
   "kernels_config": {
    "python": {
     "delete_cmd_postfix": "",
     "delete_cmd_prefix": "del ",
     "library": "var_list.py",
     "varRefreshCmd": "print(var_dic_list())"
    },
    "r": {
     "delete_cmd_postfix": ") ",
     "delete_cmd_prefix": "rm(",
     "library": "var_list.r",
     "varRefreshCmd": "cat(var_dic_list()) "
    }
   },
   "types_to_exclude": [
    "module",
    "function",
    "builtin_function_or_method",
    "instance",
    "_Feature"
   ],
   "window_display": false
  }
 },
 "nbformat": 4,
 "nbformat_minor": 5
}

{
 "cells": [
  {
   "cell_type": "markdown",
   "metadata": {
    "id": "4aBqz0ReIoQE"
   },
   "source": [
    "### Dataset description\n",
    "\n",
    "Let's explore the data to determine who is most likely to click on the ad!"
   ]
  },
  {
   "cell_type": "code",
   "execution_count": 1,
   "metadata": {
    "ExecuteTime": {
     "end_time": "2023-02-13T12:49:34.359967Z",
     "start_time": "2023-02-13T12:49:33.341508Z"
    },
    "id": "dihP31ptFMr8",
    "outputId": "187cd93b-5fe2-4548-86d1-5e5e89cdf0d3"
   },
   "outputs": [],
   "source": [
    "import numpy as np\n",
    "import pandas as pd\n",
    "import seaborn as sns\n",
    "import matplotlib.pyplot as plt\n",
    "\n",
    "from sklearn.preprocessing import LabelEncoder\n",
    "from sklearn.model_selection import train_test_split\n",
    "\n",
    "from sklearn.linear_model import LogisticRegression\n",
    "from sklearn.discriminant_analysis import LinearDiscriminantAnalysis\n",
    "from sklearn.discriminant_analysis import QuadraticDiscriminantAnalysis\n",
    "from sklearn.model_selection import GridSearchCV\n",
    "from sklearn.model_selection import cross_val_score\n",
    "from sklearn.metrics import classification_report, accuracy_score\n",
    "from sklearn.metrics import confusion_matrix, roc_curve, auc\n",
    "%matplotlib inline"
   ]
  },
  {
   "cell_type": "code",
   "execution_count": 2,
   "metadata": {
    "ExecuteTime": {
     "end_time": "2023-02-13T12:49:34.395234Z",
     "start_time": "2023-02-13T12:49:34.374074Z"
    },
    "id": "9aqnLGOMK-mG"
   },
   "outputs": [],
   "source": [
    "data = pd.read_csv('data_lr.csv')"
   ]
  },
  {
   "cell_type": "code",
   "execution_count": 3,
   "metadata": {
    "ExecuteTime": {
     "end_time": "2023-02-13T12:49:34.544288Z",
     "start_time": "2023-02-13T12:49:34.528061Z"
    }
   },
   "outputs": [
    {
     "data": {
      "text/html": [
       "<div>\n",
       "<style scoped>\n",
       "    .dataframe tbody tr th:only-of-type {\n",
       "        vertical-align: middle;\n",
       "    }\n",
       "\n",
       "    .dataframe tbody tr th {\n",
       "        vertical-align: top;\n",
       "    }\n",
       "\n",
       "    .dataframe thead th {\n",
       "        text-align: right;\n",
       "    }\n",
       "</style>\n",
       "<table border=\"1\" class=\"dataframe\">\n",
       "  <thead>\n",
       "    <tr style=\"text-align: right;\">\n",
       "      <th></th>\n",
       "      <th>Unnamed: 0</th>\n",
       "      <th>Daily Time Spent on Site</th>\n",
       "      <th>Age</th>\n",
       "      <th>Area Income</th>\n",
       "      <th>Daily Internet Usage</th>\n",
       "      <th>Male</th>\n",
       "      <th>Clicked on Ad</th>\n",
       "      <th>Hour</th>\n",
       "      <th>DayofWeek</th>\n",
       "      <th>Month</th>\n",
       "      <th>...</th>\n",
       "      <th>Uruguay</th>\n",
       "      <th>Uzbekistan</th>\n",
       "      <th>Vanuatu</th>\n",
       "      <th>Venezuela</th>\n",
       "      <th>Vietnam</th>\n",
       "      <th>Wallis and Futuna</th>\n",
       "      <th>Western Sahara</th>\n",
       "      <th>Yemen</th>\n",
       "      <th>Zambia</th>\n",
       "      <th>Zimbabwe</th>\n",
       "    </tr>\n",
       "  </thead>\n",
       "  <tbody>\n",
       "    <tr>\n",
       "      <th>0</th>\n",
       "      <td>0</td>\n",
       "      <td>68.95</td>\n",
       "      <td>35</td>\n",
       "      <td>61833.90</td>\n",
       "      <td>256.09</td>\n",
       "      <td>0</td>\n",
       "      <td>0</td>\n",
       "      <td>0</td>\n",
       "      <td>6</td>\n",
       "      <td>3</td>\n",
       "      <td>...</td>\n",
       "      <td>0</td>\n",
       "      <td>0</td>\n",
       "      <td>0</td>\n",
       "      <td>0</td>\n",
       "      <td>0</td>\n",
       "      <td>0</td>\n",
       "      <td>0</td>\n",
       "      <td>0</td>\n",
       "      <td>0</td>\n",
       "      <td>0</td>\n",
       "    </tr>\n",
       "    <tr>\n",
       "      <th>1</th>\n",
       "      <td>1</td>\n",
       "      <td>80.23</td>\n",
       "      <td>31</td>\n",
       "      <td>68441.85</td>\n",
       "      <td>193.77</td>\n",
       "      <td>1</td>\n",
       "      <td>0</td>\n",
       "      <td>1</td>\n",
       "      <td>0</td>\n",
       "      <td>4</td>\n",
       "      <td>...</td>\n",
       "      <td>0</td>\n",
       "      <td>0</td>\n",
       "      <td>0</td>\n",
       "      <td>0</td>\n",
       "      <td>0</td>\n",
       "      <td>0</td>\n",
       "      <td>0</td>\n",
       "      <td>0</td>\n",
       "      <td>0</td>\n",
       "      <td>0</td>\n",
       "    </tr>\n",
       "    <tr>\n",
       "      <th>2</th>\n",
       "      <td>2</td>\n",
       "      <td>69.47</td>\n",
       "      <td>26</td>\n",
       "      <td>59785.94</td>\n",
       "      <td>236.50</td>\n",
       "      <td>0</td>\n",
       "      <td>0</td>\n",
       "      <td>20</td>\n",
       "      <td>6</td>\n",
       "      <td>3</td>\n",
       "      <td>...</td>\n",
       "      <td>0</td>\n",
       "      <td>0</td>\n",
       "      <td>0</td>\n",
       "      <td>0</td>\n",
       "      <td>0</td>\n",
       "      <td>0</td>\n",
       "      <td>0</td>\n",
       "      <td>0</td>\n",
       "      <td>0</td>\n",
       "      <td>0</td>\n",
       "    </tr>\n",
       "    <tr>\n",
       "      <th>3</th>\n",
       "      <td>3</td>\n",
       "      <td>74.15</td>\n",
       "      <td>29</td>\n",
       "      <td>54806.18</td>\n",
       "      <td>245.89</td>\n",
       "      <td>1</td>\n",
       "      <td>0</td>\n",
       "      <td>2</td>\n",
       "      <td>6</td>\n",
       "      <td>1</td>\n",
       "      <td>...</td>\n",
       "      <td>0</td>\n",
       "      <td>0</td>\n",
       "      <td>0</td>\n",
       "      <td>0</td>\n",
       "      <td>0</td>\n",
       "      <td>0</td>\n",
       "      <td>0</td>\n",
       "      <td>0</td>\n",
       "      <td>0</td>\n",
       "      <td>0</td>\n",
       "    </tr>\n",
       "    <tr>\n",
       "      <th>4</th>\n",
       "      <td>4</td>\n",
       "      <td>68.37</td>\n",
       "      <td>35</td>\n",
       "      <td>73889.99</td>\n",
       "      <td>225.58</td>\n",
       "      <td>0</td>\n",
       "      <td>0</td>\n",
       "      <td>3</td>\n",
       "      <td>4</td>\n",
       "      <td>6</td>\n",
       "      <td>...</td>\n",
       "      <td>0</td>\n",
       "      <td>0</td>\n",
       "      <td>0</td>\n",
       "      <td>0</td>\n",
       "      <td>0</td>\n",
       "      <td>0</td>\n",
       "      <td>0</td>\n",
       "      <td>0</td>\n",
       "      <td>0</td>\n",
       "      <td>0</td>\n",
       "    </tr>\n",
       "    <tr>\n",
       "      <th>...</th>\n",
       "      <td>...</td>\n",
       "      <td>...</td>\n",
       "      <td>...</td>\n",
       "      <td>...</td>\n",
       "      <td>...</td>\n",
       "      <td>...</td>\n",
       "      <td>...</td>\n",
       "      <td>...</td>\n",
       "      <td>...</td>\n",
       "      <td>...</td>\n",
       "      <td>...</td>\n",
       "      <td>...</td>\n",
       "      <td>...</td>\n",
       "      <td>...</td>\n",
       "      <td>...</td>\n",
       "      <td>...</td>\n",
       "      <td>...</td>\n",
       "      <td>...</td>\n",
       "      <td>...</td>\n",
       "      <td>...</td>\n",
       "      <td>...</td>\n",
       "    </tr>\n",
       "    <tr>\n",
       "      <th>995</th>\n",
       "      <td>995</td>\n",
       "      <td>72.97</td>\n",
       "      <td>30</td>\n",
       "      <td>71384.57</td>\n",
       "      <td>208.58</td>\n",
       "      <td>1</td>\n",
       "      <td>1</td>\n",
       "      <td>21</td>\n",
       "      <td>3</td>\n",
       "      <td>2</td>\n",
       "      <td>...</td>\n",
       "      <td>0</td>\n",
       "      <td>0</td>\n",
       "      <td>0</td>\n",
       "      <td>0</td>\n",
       "      <td>0</td>\n",
       "      <td>0</td>\n",
       "      <td>0</td>\n",
       "      <td>0</td>\n",
       "      <td>0</td>\n",
       "      <td>0</td>\n",
       "    </tr>\n",
       "    <tr>\n",
       "      <th>996</th>\n",
       "      <td>996</td>\n",
       "      <td>51.30</td>\n",
       "      <td>45</td>\n",
       "      <td>67782.17</td>\n",
       "      <td>134.42</td>\n",
       "      <td>1</td>\n",
       "      <td>1</td>\n",
       "      <td>2</td>\n",
       "      <td>4</td>\n",
       "      <td>4</td>\n",
       "      <td>...</td>\n",
       "      <td>0</td>\n",
       "      <td>0</td>\n",
       "      <td>0</td>\n",
       "      <td>0</td>\n",
       "      <td>0</td>\n",
       "      <td>0</td>\n",
       "      <td>0</td>\n",
       "      <td>0</td>\n",
       "      <td>0</td>\n",
       "      <td>0</td>\n",
       "    </tr>\n",
       "    <tr>\n",
       "      <th>997</th>\n",
       "      <td>997</td>\n",
       "      <td>51.63</td>\n",
       "      <td>51</td>\n",
       "      <td>42415.72</td>\n",
       "      <td>120.37</td>\n",
       "      <td>1</td>\n",
       "      <td>1</td>\n",
       "      <td>17</td>\n",
       "      <td>0</td>\n",
       "      <td>2</td>\n",
       "      <td>...</td>\n",
       "      <td>0</td>\n",
       "      <td>0</td>\n",
       "      <td>0</td>\n",
       "      <td>0</td>\n",
       "      <td>0</td>\n",
       "      <td>0</td>\n",
       "      <td>0</td>\n",
       "      <td>0</td>\n",
       "      <td>0</td>\n",
       "      <td>0</td>\n",
       "    </tr>\n",
       "    <tr>\n",
       "      <th>998</th>\n",
       "      <td>998</td>\n",
       "      <td>55.55</td>\n",
       "      <td>19</td>\n",
       "      <td>41920.79</td>\n",
       "      <td>187.95</td>\n",
       "      <td>0</td>\n",
       "      <td>0</td>\n",
       "      <td>2</td>\n",
       "      <td>3</td>\n",
       "      <td>3</td>\n",
       "      <td>...</td>\n",
       "      <td>0</td>\n",
       "      <td>0</td>\n",
       "      <td>0</td>\n",
       "      <td>0</td>\n",
       "      <td>0</td>\n",
       "      <td>0</td>\n",
       "      <td>0</td>\n",
       "      <td>0</td>\n",
       "      <td>0</td>\n",
       "      <td>0</td>\n",
       "    </tr>\n",
       "    <tr>\n",
       "      <th>999</th>\n",
       "      <td>999</td>\n",
       "      <td>45.01</td>\n",
       "      <td>26</td>\n",
       "      <td>29875.80</td>\n",
       "      <td>178.35</td>\n",
       "      <td>0</td>\n",
       "      <td>1</td>\n",
       "      <td>21</td>\n",
       "      <td>4</td>\n",
       "      <td>6</td>\n",
       "      <td>...</td>\n",
       "      <td>0</td>\n",
       "      <td>0</td>\n",
       "      <td>0</td>\n",
       "      <td>0</td>\n",
       "      <td>0</td>\n",
       "      <td>0</td>\n",
       "      <td>0</td>\n",
       "      <td>0</td>\n",
       "      <td>0</td>\n",
       "      <td>0</td>\n",
       "    </tr>\n",
       "  </tbody>\n",
       "</table>\n",
       "<p>1000 rows × 247 columns</p>\n",
       "</div>"
      ],
      "text/plain": [
       "     Unnamed: 0  Daily Time Spent on Site  Age  Area Income  \\\n",
       "0             0                     68.95   35     61833.90   \n",
       "1             1                     80.23   31     68441.85   \n",
       "2             2                     69.47   26     59785.94   \n",
       "3             3                     74.15   29     54806.18   \n",
       "4             4                     68.37   35     73889.99   \n",
       "..          ...                       ...  ...          ...   \n",
       "995         995                     72.97   30     71384.57   \n",
       "996         996                     51.30   45     67782.17   \n",
       "997         997                     51.63   51     42415.72   \n",
       "998         998                     55.55   19     41920.79   \n",
       "999         999                     45.01   26     29875.80   \n",
       "\n",
       "     Daily Internet Usage  Male  Clicked on Ad  Hour  DayofWeek  Month  ...  \\\n",
       "0                  256.09     0              0     0          6      3  ...   \n",
       "1                  193.77     1              0     1          0      4  ...   \n",
       "2                  236.50     0              0    20          6      3  ...   \n",
       "3                  245.89     1              0     2          6      1  ...   \n",
       "4                  225.58     0              0     3          4      6  ...   \n",
       "..                    ...   ...            ...   ...        ...    ...  ...   \n",
       "995                208.58     1              1    21          3      2  ...   \n",
       "996                134.42     1              1     2          4      4  ...   \n",
       "997                120.37     1              1    17          0      2  ...   \n",
       "998                187.95     0              0     2          3      3  ...   \n",
       "999                178.35     0              1    21          4      6  ...   \n",
       "\n",
       "     Uruguay  Uzbekistan  Vanuatu  Venezuela  Vietnam  Wallis and Futuna  \\\n",
       "0          0           0        0          0        0                  0   \n",
       "1          0           0        0          0        0                  0   \n",
       "2          0           0        0          0        0                  0   \n",
       "3          0           0        0          0        0                  0   \n",
       "4          0           0        0          0        0                  0   \n",
       "..       ...         ...      ...        ...      ...                ...   \n",
       "995        0           0        0          0        0                  0   \n",
       "996        0           0        0          0        0                  0   \n",
       "997        0           0        0          0        0                  0   \n",
       "998        0           0        0          0        0                  0   \n",
       "999        0           0        0          0        0                  0   \n",
       "\n",
       "     Western Sahara  Yemen  Zambia  Zimbabwe  \n",
       "0                 0      0       0         0  \n",
       "1                 0      0       0         0  \n",
       "2                 0      0       0         0  \n",
       "3                 0      0       0         0  \n",
       "4                 0      0       0         0  \n",
       "..              ...    ...     ...       ...  \n",
       "995               0      0       0         0  \n",
       "996               0      0       0         0  \n",
       "997               0      0       0         0  \n",
       "998               0      0       0         0  \n",
       "999               0      0       0         0  \n",
       "\n",
       "[1000 rows x 247 columns]"
      ]
     },
     "execution_count": 3,
     "metadata": {},
     "output_type": "execute_result"
    }
   ],
   "source": [
    "data"
   ]
  },
  {
   "cell_type": "code",
   "execution_count": 4,
   "metadata": {
    "ExecuteTime": {
     "end_time": "2023-02-13T12:49:58.154682Z",
     "start_time": "2023-02-13T12:49:58.143684Z"
    },
    "id": "FkPRUPgzL54b",
    "outputId": "472fcc7b-de0a-44b0-c034-bea9b742884d"
   },
   "outputs": [
    {
     "name": "stdout",
     "output_type": "stream",
     "text": [
      "<class 'pandas.core.frame.DataFrame'>\n",
      "RangeIndex: 1000 entries, 0 to 999\n",
      "Columns: 247 entries, Unnamed: 0 to Zimbabwe\n",
      "dtypes: float64(3), int64(244)\n",
      "memory usage: 1.9 MB\n"
     ]
    }
   ],
   "source": [
    "data.info()"
   ]
  },
  {
   "cell_type": "markdown",
   "metadata": {
    "id": "2ZkFitoVMAPF"
   },
   "source": [
    "Then the dataset contains 1000 samples and 9 predictores. **Clicked on Ad** attribute is the output that must be predicted."
   ]
  },
  {
   "cell_type": "code",
   "execution_count": 5,
   "metadata": {
    "ExecuteTime": {
     "end_time": "2023-02-13T12:50:03.463164Z",
     "start_time": "2023-02-13T12:50:03.428471Z"
    },
    "id": "B2ziMzrfL_uR"
   },
   "outputs": [
    {
     "data": {
      "text/html": [
       "<div>\n",
       "<style scoped>\n",
       "    .dataframe tbody tr th:only-of-type {\n",
       "        vertical-align: middle;\n",
       "    }\n",
       "\n",
       "    .dataframe tbody tr th {\n",
       "        vertical-align: top;\n",
       "    }\n",
       "\n",
       "    .dataframe thead th {\n",
       "        text-align: right;\n",
       "    }\n",
       "</style>\n",
       "<table border=\"1\" class=\"dataframe\">\n",
       "  <thead>\n",
       "    <tr style=\"text-align: right;\">\n",
       "      <th></th>\n",
       "      <th>Unnamed: 0</th>\n",
       "      <th>Daily Time Spent on Site</th>\n",
       "      <th>Age</th>\n",
       "      <th>Area Income</th>\n",
       "      <th>Daily Internet Usage</th>\n",
       "      <th>Male</th>\n",
       "      <th>Clicked on Ad</th>\n",
       "      <th>Hour</th>\n",
       "      <th>DayofWeek</th>\n",
       "      <th>Month</th>\n",
       "      <th>...</th>\n",
       "      <th>Uruguay</th>\n",
       "      <th>Uzbekistan</th>\n",
       "      <th>Vanuatu</th>\n",
       "      <th>Venezuela</th>\n",
       "      <th>Vietnam</th>\n",
       "      <th>Wallis and Futuna</th>\n",
       "      <th>Western Sahara</th>\n",
       "      <th>Yemen</th>\n",
       "      <th>Zambia</th>\n",
       "      <th>Zimbabwe</th>\n",
       "    </tr>\n",
       "  </thead>\n",
       "  <tbody>\n",
       "    <tr>\n",
       "      <th>0</th>\n",
       "      <td>0</td>\n",
       "      <td>68.95</td>\n",
       "      <td>35</td>\n",
       "      <td>61833.90</td>\n",
       "      <td>256.09</td>\n",
       "      <td>0</td>\n",
       "      <td>0</td>\n",
       "      <td>0</td>\n",
       "      <td>6</td>\n",
       "      <td>3</td>\n",
       "      <td>...</td>\n",
       "      <td>0</td>\n",
       "      <td>0</td>\n",
       "      <td>0</td>\n",
       "      <td>0</td>\n",
       "      <td>0</td>\n",
       "      <td>0</td>\n",
       "      <td>0</td>\n",
       "      <td>0</td>\n",
       "      <td>0</td>\n",
       "      <td>0</td>\n",
       "    </tr>\n",
       "    <tr>\n",
       "      <th>1</th>\n",
       "      <td>1</td>\n",
       "      <td>80.23</td>\n",
       "      <td>31</td>\n",
       "      <td>68441.85</td>\n",
       "      <td>193.77</td>\n",
       "      <td>1</td>\n",
       "      <td>0</td>\n",
       "      <td>1</td>\n",
       "      <td>0</td>\n",
       "      <td>4</td>\n",
       "      <td>...</td>\n",
       "      <td>0</td>\n",
       "      <td>0</td>\n",
       "      <td>0</td>\n",
       "      <td>0</td>\n",
       "      <td>0</td>\n",
       "      <td>0</td>\n",
       "      <td>0</td>\n",
       "      <td>0</td>\n",
       "      <td>0</td>\n",
       "      <td>0</td>\n",
       "    </tr>\n",
       "    <tr>\n",
       "      <th>2</th>\n",
       "      <td>2</td>\n",
       "      <td>69.47</td>\n",
       "      <td>26</td>\n",
       "      <td>59785.94</td>\n",
       "      <td>236.50</td>\n",
       "      <td>0</td>\n",
       "      <td>0</td>\n",
       "      <td>20</td>\n",
       "      <td>6</td>\n",
       "      <td>3</td>\n",
       "      <td>...</td>\n",
       "      <td>0</td>\n",
       "      <td>0</td>\n",
       "      <td>0</td>\n",
       "      <td>0</td>\n",
       "      <td>0</td>\n",
       "      <td>0</td>\n",
       "      <td>0</td>\n",
       "      <td>0</td>\n",
       "      <td>0</td>\n",
       "      <td>0</td>\n",
       "    </tr>\n",
       "    <tr>\n",
       "      <th>3</th>\n",
       "      <td>3</td>\n",
       "      <td>74.15</td>\n",
       "      <td>29</td>\n",
       "      <td>54806.18</td>\n",
       "      <td>245.89</td>\n",
       "      <td>1</td>\n",
       "      <td>0</td>\n",
       "      <td>2</td>\n",
       "      <td>6</td>\n",
       "      <td>1</td>\n",
       "      <td>...</td>\n",
       "      <td>0</td>\n",
       "      <td>0</td>\n",
       "      <td>0</td>\n",
       "      <td>0</td>\n",
       "      <td>0</td>\n",
       "      <td>0</td>\n",
       "      <td>0</td>\n",
       "      <td>0</td>\n",
       "      <td>0</td>\n",
       "      <td>0</td>\n",
       "    </tr>\n",
       "    <tr>\n",
       "      <th>4</th>\n",
       "      <td>4</td>\n",
       "      <td>68.37</td>\n",
       "      <td>35</td>\n",
       "      <td>73889.99</td>\n",
       "      <td>225.58</td>\n",
       "      <td>0</td>\n",
       "      <td>0</td>\n",
       "      <td>3</td>\n",
       "      <td>4</td>\n",
       "      <td>6</td>\n",
       "      <td>...</td>\n",
       "      <td>0</td>\n",
       "      <td>0</td>\n",
       "      <td>0</td>\n",
       "      <td>0</td>\n",
       "      <td>0</td>\n",
       "      <td>0</td>\n",
       "      <td>0</td>\n",
       "      <td>0</td>\n",
       "      <td>0</td>\n",
       "      <td>0</td>\n",
       "    </tr>\n",
       "  </tbody>\n",
       "</table>\n",
       "<p>5 rows × 247 columns</p>\n",
       "</div>"
      ],
      "text/plain": [
       "   Unnamed: 0  Daily Time Spent on Site  Age  Area Income  \\\n",
       "0           0                     68.95   35     61833.90   \n",
       "1           1                     80.23   31     68441.85   \n",
       "2           2                     69.47   26     59785.94   \n",
       "3           3                     74.15   29     54806.18   \n",
       "4           4                     68.37   35     73889.99   \n",
       "\n",
       "   Daily Internet Usage  Male  Clicked on Ad  Hour  DayofWeek  Month  ...  \\\n",
       "0                256.09     0              0     0          6      3  ...   \n",
       "1                193.77     1              0     1          0      4  ...   \n",
       "2                236.50     0              0    20          6      3  ...   \n",
       "3                245.89     1              0     2          6      1  ...   \n",
       "4                225.58     0              0     3          4      6  ...   \n",
       "\n",
       "   Uruguay  Uzbekistan  Vanuatu  Venezuela  Vietnam  Wallis and Futuna  \\\n",
       "0        0           0        0          0        0                  0   \n",
       "1        0           0        0          0        0                  0   \n",
       "2        0           0        0          0        0                  0   \n",
       "3        0           0        0          0        0                  0   \n",
       "4        0           0        0          0        0                  0   \n",
       "\n",
       "   Western Sahara  Yemen  Zambia  Zimbabwe  \n",
       "0               0      0       0         0  \n",
       "1               0      0       0         0  \n",
       "2               0      0       0         0  \n",
       "3               0      0       0         0  \n",
       "4               0      0       0         0  \n",
       "\n",
       "[5 rows x 247 columns]"
      ]
     },
     "execution_count": 5,
     "metadata": {},
     "output_type": "execute_result"
    }
   ],
   "source": [
    "data.head()"
   ]
  },
  {
   "cell_type": "code",
   "execution_count": 6,
   "metadata": {
    "ExecuteTime": {
     "end_time": "2023-02-13T12:50:07.744957Z",
     "start_time": "2023-02-13T12:50:07.633821Z"
    },
    "id": "4BjQvBHpOgsn",
    "outputId": "1ebbec95-4b7e-4085-dd8a-35552fffc7f7"
   },
   "outputs": [
    {
     "data": {
      "image/png": "[encoded data removed]",
      "text/plain": [
       "<Figure size 432x288 with 1 Axes>"
      ]
     },
     "metadata": {
      "needs_background": "light"
     },
     "output_type": "display_data"
    }
   ],
   "source": [
    "classes = data['Clicked on Ad']\n",
    "ax = sns.countplot(x=classes, data=data)"
   ]
  },
  {
   "cell_type": "markdown",
   "metadata": {
    "id": "Od-eBqsyO7VH"
   },
   "source": [
    "From the figure above, the dataset is equilibrated, which will make the study more trusted."
   ]
  },
  {
   "cell_type": "markdown",
   "metadata": {
    "id": "Tp-MyUjLSNmf"
   },
   "source": [
    "### Dataset visualization"
   ]
  },
  {
   "cell_type": "code",
   "execution_count": 7,
   "metadata": {
    "ExecuteTime": {
     "end_time": "2023-02-13T12:50:48.680238Z",
     "start_time": "2023-02-13T12:50:48.579333Z"
    },
    "id": "wTHR4oMCT_Hf",
    "outputId": "90c84eb1-c6f7-47ad-edda-b1c7fc63b82d"
   },
   "outputs": [
    {
     "data": {
      "text/plain": [
       "<AxesSubplot:xlabel='Clicked on Ad', ylabel='count'>"
      ]
     },
     "execution_count": 7,
     "metadata": {},
     "output_type": "execute_result"
    },
    {
     "data": {
      "image/png": "[encoded data removed]",
      "text/plain": [
       "<Figure size 504x360 with 1 Axes>"
      ]
     },
     "metadata": {
      "needs_background": "light"
     },
     "output_type": "display_data"
    }
   ],
   "source": [
    "# Click on Ad according to gender\n",
    "plt.figure(figsize=(7, 5))\n",
    "sns.countplot(x='Clicked on Ad', data=data, hue='Male', palette='coolwarm')"
   ]
  },
  {
   "cell_type": "markdown",
   "metadata": {
    "id": "lqcmX0EhUmDn"
   },
   "source": [
    "Women tend to click more on ads!"
   ]
  },
  {
   "cell_type": "code",
   "execution_count": 8,
   "metadata": {
    "ExecuteTime": {
     "end_time": "2023-02-13T12:51:01.209010Z",
     "start_time": "2023-02-13T12:51:01.203100Z"
    },
    "id": "xZw7XeejaILo",
    "outputId": "3c690a24-c805-42f0-979f-40b1080a4de8"
   },
   "outputs": [
    {
     "data": {
      "text/plain": [
       "2    83\n",
       "5    79\n",
       "3    74\n",
       "4    74\n",
       "6    71\n",
       "Name: Month, dtype: int64"
      ]
     },
     "execution_count": 8,
     "metadata": {},
     "output_type": "execute_result"
    }
   ],
   "source": [
    "data[data['Clicked on Ad']==1]['Month'].value_counts().head(5)"
   ]
  },
  {
   "cell_type": "markdown",
   "metadata": {
    "id": "a4jzJT1Yaxg-"
   },
   "source": [
    "Valentine's Day (February 14) is the best-selling day for the company's announcement."
   ]
  },
  {
   "cell_type": "code",
   "execution_count": 9,
   "metadata": {
    "ExecuteTime": {
     "end_time": "2023-02-13T12:51:08.045227Z",
     "start_time": "2023-02-13T12:51:07.648827Z"
    },
    "id": "nMu1JX0ubUlA",
    "outputId": "83f31d8a-3d5f-47f5-a54a-715c50dae885"
   },
   "outputs": [
    {
     "data": {
      "text/plain": [
       "Text(0.5, 1.0, 'Age wise distribution of Ad clicks')"
      ]
     },
     "execution_count": 9,
     "metadata": {},
     "output_type": "execute_result"
    },
    {
     "data": {
      "image/png": "[encoded data removed]",
      "text/plain": [
       "<Figure size 720x432 with 1 Axes>"
      ]
     },
     "metadata": {
      "needs_background": "light"
     },
     "output_type": "display_data"
    }
   ],
   "source": [
    "# Age wise distribution of Ad clicks\n",
    "plt.figure(figsize=(10,6))\n",
    "sns.swarmplot(x=data['Clicked on Ad'],y= data['Age'],data=data,palette='coolwarm')\n",
    "plt.title('Age wise distribution of Ad clicks')"
   ]
  },
  {
   "cell_type": "markdown",
   "metadata": {
    "id": "Q1s2W7TvbeSY"
   },
   "source": [
    "The population of around 40 is the largest contributor to ad clicks.\n",
    "\n"
   ]
  },
  {
   "cell_type": "code",
   "execution_count": 10,
   "metadata": {
    "ExecuteTime": {
     "end_time": "2023-02-13T12:51:19.690938Z",
     "start_time": "2023-02-13T12:51:18.684405Z"
    },
    "id": "p9-Vgvw6bd4W",
    "outputId": "e06f1e8d-b7d5-45d2-9562-3548368f6b97"
   },
   "outputs": [
    {
     "name": "stderr",
     "output_type": "stream",
     "text": [
      "/home/xenakas/.local/lib/python3.10/site-packages/seaborn/_decorators.py:36: FutureWarning: Pass the following variable as a keyword arg: y. From version 0.12, the only valid positional argument will be `data`, and passing other arguments without an explicit keyword will result in an error or misinterpretation.\n",
      "  warnings.warn(\n",
      "/home/xenakas/.local/lib/python3.10/site-packages/seaborn/distributions.py:1718: UserWarning: `shade_lowest` is now deprecated in favor of `thresh`. Setting `thresh=0.05`, but please update your code.\n",
      "  warnings.warn(msg, UserWarning)\n",
      "/home/xenakas/.local/lib/python3.10/site-packages/seaborn/_decorators.py:36: FutureWarning: Pass the following variable as a keyword arg: y. From version 0.12, the only valid positional argument will be `data`, and passing other arguments without an explicit keyword will result in an error or misinterpretation.\n",
      "  warnings.warn(\n",
      "/home/xenakas/.local/lib/python3.10/site-packages/seaborn/distributions.py:1718: UserWarning: `shade_lowest` is now deprecated in favor of `thresh`. Setting `thresh=0.05`, but please update your code.\n",
      "  warnings.warn(msg, UserWarning)\n"
     ]
    },
    {
     "data": {
      "text/plain": [
       "Text(200, 60, 'Daily Internet Usage')"
      ]
     },
     "execution_count": 10,
     "metadata": {},
     "output_type": "execute_result"
    },
    {
     "data": {
      "image/png": "[encoded data removed]",
      "text/plain": [
       "<Figure size 720x432 with 1 Axes>"
      ]
     },
     "metadata": {
      "needs_background": "light"
     },
     "output_type": "display_data"
    }
   ],
   "source": [
    "#Let's see Daily internet usage and daily time spent on site based on age\n",
    "fig, axes = plt.subplots(figsize=(10, 6))\n",
    "ax = sns.kdeplot(\n",
    "    data['Daily Time Spent on Site'], data['Age'], cmap=\"Reds\",\n",
    "    shade=True, shade_lowest=False\n",
    "    )\n",
    "ax = sns.kdeplot(\n",
    "    data['Daily Internet Usage'],data['Age'] ,cmap=\"Blues\",\n",
    "    shade=True, shade_lowest=False\n",
    "    )\n",
    "ax.set_xlabel('Time')\n",
    "ax.text(20, 20, \"Daily Time Spent on Site\", size=16, color='r')\n",
    "ax.text(200, 60, \"Daily Internet Usage\", size=16, color='b')"
   ]
  },
  {
   "cell_type": "markdown",
   "metadata": {
    "id": "_ghX_RHxdW3J"
   },
   "source": [
    "As can be seen, people around 30 spend a lot of time on the internet and on the site, but they don't click on the ads that are so frequent (the previous figure). Compared to them, the around 40-year-old population spends a little less time but clicks more on ads."
   ]
  },
  {
   "cell_type": "markdown",
   "metadata": {
    "id": "rzZ3RDKflBpy"
   },
   "source": [
    "### Dataset splitting Train/Test"
   ]
  },
  {
   "cell_type": "code",
   "execution_count": 30,
   "metadata": {
    "ExecuteTime": {
     "end_time": "2023-02-13T12:59:37.836702Z",
     "start_time": "2023-02-13T12:59:37.831018Z"
    },
    "id": "ep51emcSlJWu"
   },
   "outputs": [],
   "source": [
    "y = data['Clicked on Ad'].values.reshape(-1, 1)\n",
    "X = data.drop(['Clicked on Ad'], axis=1)\n",
    "X = X.iloc[:,:9]\n",
    "X_train, X_test, y_train, y_test = train_test_split(\n",
    "    X, y, test_size=0.2, random_state=42\n",
    "    )"
   ]
  },
  {
   "cell_type": "markdown",
   "metadata": {
    "id": "ZOOgB3lIl0Pc"
   },
   "source": [
    "### Logistic regression"
   ]
  },
  {
   "cell_type": "code",
   "execution_count": 25,
   "metadata": {
    "ExecuteTime": {
     "end_time": "2023-02-13T12:56:54.703960Z",
     "start_time": "2023-02-13T12:56:54.696748Z"
    },
    "id": "N15u4i5om-WE"
   },
   "outputs": [],
   "source": [
    "def plot_roc(roc_auc, false_positive_rate, true_positive_rate):\n",
    "    plt.figure(figsize=(6, 6))\n",
    "    plt.title('Receiver Operating Characteristics')\n",
    "    plt.plot(false_positive_rate, true_positive_rate, color='red', label='AUC = {:.2f}'.format( roc_auc))\n",
    "    plt.legend(loc = 'lower right')\n",
    "    plt.plot([0, 1], [0, 1], linestyle='--')\n",
    "    plt.axis('tight')\n",
    "    plt.ylabel('True Positive Rtae')\n",
    "    plt.xlabel('False Positive Rtae')"
   ]
  },
  {
   "cell_type": "code",
   "execution_count": 32,
   "metadata": {
    "ExecuteTime": {
     "end_time": "2023-02-13T12:59:43.609918Z",
     "start_time": "2023-02-13T12:59:43.555548Z"
    },
    "id": "Q5641h5kl2TO"
   },
   "outputs": [
    {
     "name": "stderr",
     "output_type": "stream",
     "text": [
      "/home/xenakas/.local/lib/python3.10/site-packages/sklearn/linear_model/_logistic.py:814: ConvergenceWarning: lbfgs failed to converge (status=1):\n",
      "STOP: TOTAL NO. of ITERATIONS REACHED LIMIT.\n",
      "\n",
      "Increase the number of iterations (max_iter) or scale the data as shown in:\n",
      "    https://scikit-learn.org/stable/modules/preprocessing.html\n",
      "Please also refer to the documentation for alternative solver options:\n",
      "    https://scikit-learn.org/stable/modules/linear_model.html#logistic-regression\n",
      "  n_iter_i = _check_optimize_result(\n"
     ]
    }
   ],
   "source": [
    "# Create a model\n",
    "log_reg = LogisticRegression()\n",
    "# Training\n",
    "log_reg.fit(X_train, y_train.ravel())\n",
    "# Prediction\n",
    "y_prob_log_reg = log_reg.predict_proba(X_test)[:, 1]\n",
    "y_pred_log_reg = np.where(y_prob_log_reg > 0.5, 1, 0)"
   ]
  },
  {
   "cell_type": "code",
   "execution_count": 33,
   "metadata": {
    "ExecuteTime": {
     "end_time": "2023-02-13T12:59:43.870352Z",
     "start_time": "2023-02-13T12:59:43.862359Z"
    },
    "id": "HrX1YTPQmkXU",
    "outputId": "b2b6e6f0-376c-41c9-81ea-2c8078d2f1f1"
   },
   "outputs": [
    {
     "data": {
      "text/plain": [
       "array([[85,  4],\n",
       "       [16, 95]])"
      ]
     },
     "execution_count": 33,
     "metadata": {},
     "output_type": "execute_result"
    }
   ],
   "source": [
    "# Confusion matrix\n",
    "confusion_matrix_log_reg = confusion_matrix(y_test, y_pred_log_reg)\n",
    "confusion_matrix_log_reg"
   ]
  },
  {
   "cell_type": "code",
   "execution_count": 34,
   "metadata": {
    "ExecuteTime": {
     "end_time": "2023-02-13T12:59:44.811815Z",
     "start_time": "2023-02-13T12:59:44.807521Z"
    },
    "id": "a54YWWROnF2Q",
    "outputId": "a5507084-9c9b-433b-cd72-af97bc8f9d9a"
   },
   "outputs": [
    {
     "data": {
      "text/plain": [
       "0.958396598846037"
      ]
     },
     "execution_count": 34,
     "metadata": {},
     "output_type": "execute_result"
    }
   ],
   "source": [
    "false_positive_rate_reg, true_positive_rate_reg, thresholds = roc_curve(\n",
    "    y_test, y_prob_log_reg\n",
    "    )\n",
    "roc_auc_log_reg = auc(false_positive_rate_reg, true_positive_rate_reg)\n",
    "roc_auc_log_reg"
   ]
  },
  {
   "cell_type": "code",
   "execution_count": 35,
   "metadata": {
    "ExecuteTime": {
     "end_time": "2023-02-13T12:59:45.133070Z",
     "start_time": "2023-02-13T12:59:45.023853Z"
    },
    "id": "v_rUHEgBzraW",
    "outputId": "c7ecd1cf-5707-44d0-a9e4-fcdcf8d64251"
   },
   "outputs": [
    {
     "data": {
      "image/png": "[encoded data removed]",
      "text/plain": [
       "<Figure size 432x432 with 1 Axes>"
      ]
     },
     "metadata": {
      "needs_background": "light"
     },
     "output_type": "display_data"
    }
   ],
   "source": [
    "# Draw the ROC curve and get the area under the curve\n",
    "plot_roc(roc_auc_log_reg, false_positive_rate_reg, true_positive_rate_reg)"
   ]
  },
  {
   "cell_type": "markdown",
   "metadata": {
    "id": "jADggCK2yacU"
   },
   "source": [
    "### Linear discriminant analysis"
   ]
  },
  {
   "cell_type": "code",
   "execution_count": 36,
   "metadata": {
    "ExecuteTime": {
     "end_time": "2023-02-13T12:59:45.409535Z",
     "start_time": "2023-02-13T12:59:45.401962Z"
    },
    "id": "s4tlfCEDzRnl"
   },
   "outputs": [],
   "source": [
    "# Create a model\n",
    "lda = LinearDiscriminantAnalysis()\n",
    "# Training\n",
    "lda.fit(X_train, y_train.ravel())\n",
    "# Prediction\n",
    "y_prob_lda = lda.predict_proba(X_test)[:, 1]\n",
    "y_pred_lda = np.where(y_prob_lda > 0.5, 1, 0)"
   ]
  },
  {
   "cell_type": "code",
   "execution_count": 37,
   "metadata": {
    "ExecuteTime": {
     "end_time": "2023-02-13T12:59:45.733975Z",
     "start_time": "2023-02-13T12:59:45.729723Z"
    },
    "id": "IIpusqcjzVS8",
    "outputId": "df35c1fd-ac94-49c0-aece-90bfcbf64c3a"
   },
   "outputs": [
    {
     "data": {
      "text/plain": [
       "array([[ 87,   2],\n",
       "       [ 11, 100]])"
      ]
     },
     "execution_count": 37,
     "metadata": {},
     "output_type": "execute_result"
    }
   ],
   "source": [
    "# Confusion matrix\n",
    "confusion_matrix_lda = confusion_matrix(y_test, y_pred_lda)\n",
    "confusion_matrix_lda"
   ]
  },
  {
   "cell_type": "code",
   "execution_count": 38,
   "metadata": {
    "ExecuteTime": {
     "end_time": "2023-02-13T12:59:45.774357Z",
     "start_time": "2023-02-13T12:59:45.769451Z"
    },
    "id": "Nuxb9cClyl-R",
    "outputId": "3c189536-3f10-45af-a337-e5954507ea6c"
   },
   "outputs": [
    {
     "data": {
      "text/plain": [
       "0.9770219657860109"
      ]
     },
     "execution_count": 38,
     "metadata": {},
     "output_type": "execute_result"
    }
   ],
   "source": [
    "false_positive_rate_lda, true_positive_rate_lda, thresholds = roc_curve(\n",
    "    y_test, y_prob_lda\n",
    "    )\n",
    "roc_auc_lda = auc(false_positive_rate_lda, true_positive_rate_lda)\n",
    "roc_auc_lda"
   ]
  },
  {
   "cell_type": "code",
   "execution_count": 39,
   "metadata": {
    "ExecuteTime": {
     "end_time": "2023-02-13T12:59:46.407340Z",
     "start_time": "2023-02-13T12:59:46.234687Z"
    },
    "id": "tRnvFzqfzxvv",
    "outputId": "57ea84bc-636c-4ff6-e49b-16615b86cdf0"
   },
   "outputs": [
    {
     "data": {
      "image/png": "[encoded data removed]",
      "text/plain": [
       "<Figure size 432x432 with 1 Axes>"
      ]
     },
     "metadata": {
      "needs_background": "light"
     },
     "output_type": "display_data"
    }
   ],
   "source": [
    "# Draw the ROC curve and get the area under the curve\n",
    "plot_roc(roc_auc_lda, false_positive_rate_lda, true_positive_rate_lda)"
   ]
  },
  {
   "cell_type": "markdown",
   "metadata": {
    "id": "2CtCb66g0h90"
   },
   "source": [
    "### Quadratic discriminant analysis"
   ]
  },
  {
   "cell_type": "code",
   "execution_count": 40,
   "metadata": {
    "ExecuteTime": {
     "end_time": "2023-02-13T12:59:46.644704Z",
     "start_time": "2023-02-13T12:59:46.637737Z"
    },
    "id": "7jtmJYrBzzRB",
    "outputId": "41b57efb-3498-4585-de30-462fd9c8687e"
   },
   "outputs": [],
   "source": [
    "# Create a model\n",
    "qda = QuadraticDiscriminantAnalysis()\n",
    "# Training\n",
    "qda.fit(X_train, y_train.ravel())\n",
    "# Prediction\n",
    "y_prob_qda = qda.predict_proba(X_test)[:, 1]\n",
    "y_pred_qda = np.where(y_prob_qda > 0.5, 1, 0)\n",
    "# Confusion matrix\n",
    "confusion_matrix_qda = confusion_matrix(y_test, y_pred_qda)\n",
    "false_positive_rate_qda, true_positive_rate_qda, thresholds = roc_curve(\n",
    "    y_test, y_prob_qda\n",
    "    )\n",
    "roc_auc_qda = auc(false_positive_rate_qda, true_positive_rate_qda)"
   ]
  },
  {
   "cell_type": "markdown",
   "metadata": {
    "id": "CouCFXSC2Ud_"
   },
   "source": [
    "As noted, there is a large covariance between the variables. In particular after the conversion of the “country” variable into dummy variables, the QDA model gives poor results."
   ]
  },
  {
   "cell_type": "code",
   "execution_count": 41,
   "metadata": {
    "ExecuteTime": {
     "end_time": "2023-02-13T12:59:47.986444Z",
     "start_time": "2023-02-13T12:59:47.982940Z"
    },
    "id": "aLCbZ-I40wTE",
    "outputId": "879292a4-aa6e-4355-80fa-0f854d34ad95"
   },
   "outputs": [
    {
     "data": {
      "text/plain": [
       "0.9818807571616561"
      ]
     },
     "execution_count": 41,
     "metadata": {},
     "output_type": "execute_result"
    }
   ],
   "source": [
    "roc_auc_qda"
   ]
  },
  {
   "cell_type": "code",
   "execution_count": 42,
   "metadata": {
    "ExecuteTime": {
     "end_time": "2023-02-13T12:59:48.643904Z",
     "start_time": "2023-02-13T12:59:48.553347Z"
    },
    "id": "P8uPkG2e0z8n",
    "outputId": "ac280dfd-3770-4b6a-9f6d-10d3e6c12116"
   },
   "outputs": [
    {
     "data": {
      "image/png": "[encoded data removed]",
      "text/plain": [
       "<Figure size 432x432 with 1 Axes>"
      ]
     },
     "metadata": {
      "needs_background": "light"
     },
     "output_type": "display_data"
    }
   ],
   "source": [
    "# Draw the ROC curve and get the area under the curve\n",
    "plot_roc(roc_auc_qda, false_positive_rate_qda, true_positive_rate_qda)"
   ]
  },
  {
   "cell_type": "markdown",
   "metadata": {
    "id": "Gim-DCXH_Ypf"
   },
   "source": [
    "### Conclusion & Comparaison"
   ]
  },
  {
   "cell_type": "code",
   "execution_count": 43,
   "metadata": {
    "ExecuteTime": {
     "end_time": "2023-02-13T12:59:50.662283Z",
     "start_time": "2023-02-13T12:59:50.561059Z"
    },
    "id": "DZ_KjcO61h6S",
    "outputId": "d78ada73-9b7f-4e87-ebc9-ee6d4f8943a9"
   },
   "outputs": [
    {
     "data": {
      "text/plain": [
       "Text(0.5, 0, 'False Positive Rtae')"
      ]
     },
     "execution_count": 43,
     "metadata": {},
     "output_type": "execute_result"
    },
    {
     "data": {
      "image/png": "[encoded data removed]",
      "text/plain": [
       "<Figure size 432x432 with 1 Axes>"
      ]
     },
     "metadata": {
      "needs_background": "light"
     },
     "output_type": "display_data"
    }
   ],
   "source": [
    "plt.figure(figsize=(6, 6))\n",
    "plt.title('Receiver Operating Characteristics')\n",
    "plt.plot(false_positive_rate_reg, true_positive_rate_reg, color='blue', label=\"Log reg AUC = {:.2f}\".format(roc_auc_log_reg))\n",
    "plt.plot(false_positive_rate_lda, true_positive_rate_lda, color='green', label='LDA AUC = {:.2f}'.format(roc_auc_lda))\n",
    "plt.plot(false_positive_rate_qda, true_positive_rate_qda, color='red', label='QDA AUC = {:.2f}'.format(roc_auc_qda))\n",
    "plt.legend(loc = 'lower right')\n",
    "plt.plot([0, 1], [0, 1], linestyle='--')\n",
    "plt.axis('tight')\n",
    "plt.ylabel('True Positive Rtae')\n",
    "plt.xlabel('False Positive Rtae')"
   ]
  },
  {
   "cell_type": "markdown",
   "metadata": {
    "id": "yPEDtHHgA5vE"
   },
   "source": [
    "Thus, for this problem, the linear discriminant analysis model gives better results than the logistic regression model and the quadratic discriminant analysis model. The quadratic discriminant analysis model to avoid."
   ]
  }
 ],
 "metadata": {
  "hide_input": false,
  "kernelspec": {
   "display_name": "Python 3 (ipykernel)",
   "language": "python",
   "name": "python3"
  },
  "language_info": {
   "codemirror_mode": {
    "name": "ipython",
    "version": 3
   },
   "file_extension": ".py",
   "mimetype": "text/x-python",
   "name": "python",
   "nbconvert_exporter": "python",
   "pygments_lexer": "ipython3",
   "version": "3.10.7"
  },
  "latex_envs": {
   "LaTeX_envs_menu_present": true,
   "autoclose": true,
   "autocomplete": true,
   "bibliofile": "biblio.bib",
   "cite_by": "apalike",
   "current_citInitial": 1,
   "eqLabelWithNumbers": true,
   "eqNumInitial": 1,
   "hotkeys": {
    "equation": "Ctrl-E",
    "itemize": "Ctrl-I"
   },
   "labels_anchors": false,
   "latex_user_defs": false,
   "report_style_numbering": false,
   "user_envs_cfg": false
  },
  "toc": {
   "base_numbering": 1,
   "nav_menu": {},
   "number_sections": true,
   "sideBar": true,
   "skip_h1_title": false,
   "title_cell": "Table of Contents",
   "title_sidebar": "Contents",
   "toc_cell": false,
   "toc_position": {},
   "toc_section_display": true,
   "toc_window_display": false
  },
  "varInspector": {
   "cols": {
    "lenName": 16,
    "lenType": 16,
    "lenVar": 40
   },
   "kernels_config": {
    "python": {
     "delete_cmd_postfix": "",
     "delete_cmd_prefix": "del ",
     "library": "var_list.py",
     "varRefreshCmd": "print(var_dic_list())"
    },
    "r": {
     "delete_cmd_postfix": ") ",
     "delete_cmd_prefix": "rm(",
     "library": "var_list.r",
     "varRefreshCmd": "cat(var_dic_list()) "
    }
   },
   "types_to_exclude": [
    "module",
    "function",
    "builtin_function_or_method",
    "instance",
    "_Feature"
   ],
   "window_display": false
  }
 },
 "nbformat": 4,
 "nbformat_minor": 4
}

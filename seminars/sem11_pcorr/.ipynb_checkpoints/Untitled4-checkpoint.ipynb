{
 "cells": [
  {
   "cell_type": "markdown",
   "id": "7bb07df1",
   "metadata": {},
   "source": [
    "### One-Way ANOVA"
   ]
  },
  {
   "cell_type": "code",
   "execution_count": 1,
   "id": "0825b292",
   "metadata": {
    "ExecuteTime": {
     "end_time": "2021-12-11T12:07:50.326093Z",
     "start_time": "2021-12-11T12:07:50.137883Z"
    }
   },
   "outputs": [],
   "source": [
    "import pandas as pd"
   ]
  },
  {
   "cell_type": "code",
   "execution_count": 3,
   "id": "5e5c30aa",
   "metadata": {
    "ExecuteTime": {
     "end_time": "2021-12-11T12:08:15.932326Z",
     "start_time": "2021-12-11T12:08:15.677090Z"
    }
   },
   "outputs": [],
   "source": [
    "df = pd.read_csv('https://reneshbedre.github.io/assets/posts/anova/onewayanova.txt',sep='\\t')"
   ]
  },
  {
   "cell_type": "code",
   "execution_count": 5,
   "id": "71e0a7d6",
   "metadata": {
    "ExecuteTime": {
     "end_time": "2021-12-11T12:09:51.146110Z",
     "start_time": "2021-12-11T12:09:51.135128Z"
    }
   },
   "outputs": [
    {
     "data": {
      "text/plain": [
       "Index(['A', 'B', 'C', 'D'], dtype='object')"
      ]
     },
     "execution_count": 5,
     "metadata": {},
     "output_type": "execute_result"
    }
   ],
   "source": [
    "df.columns"
   ]
  },
  {
   "cell_type": "code",
   "execution_count": 6,
   "id": "641b0b2c",
   "metadata": {
    "ExecuteTime": {
     "end_time": "2021-12-11T12:09:58.243369Z",
     "start_time": "2021-12-11T12:09:58.232922Z"
    }
   },
   "outputs": [],
   "source": [
    "df_melt = pd.melt(df.reset_index(), id_vars=['index'], value_vars=['A', 'B', 'C', 'D'])"
   ]
  },
  {
   "cell_type": "code",
   "execution_count": 9,
   "id": "ddd2dcb5",
   "metadata": {
    "ExecuteTime": {
     "end_time": "2021-12-11T12:10:29.215273Z",
     "start_time": "2021-12-11T12:10:29.212860Z"
    }
   },
   "outputs": [],
   "source": [
    "df_melt.columns = ['index', 'treatment', 'value']"
   ]
  },
  {
   "cell_type": "code",
   "execution_count": 11,
   "id": "b0269999",
   "metadata": {
    "ExecuteTime": {
     "end_time": "2021-12-11T12:11:05.937238Z",
     "start_time": "2021-12-11T12:11:05.312908Z"
    }
   },
   "outputs": [],
   "source": [
    "import matplotlib.pyplot as plt\n",
    "import seaborn as sns"
   ]
  },
  {
   "cell_type": "code",
   "execution_count": 14,
   "id": "11ea92e2",
   "metadata": {
    "ExecuteTime": {
     "end_time": "2021-12-11T12:12:31.030202Z",
     "start_time": "2021-12-11T12:12:30.877722Z"
    }
   },
   "outputs": [
    {
     "data": {
      "image/png": "[encoded data removed]",
      "text/plain": [
       "<Figure size 432x288 with 1 Axes>"
      ]
     },
     "metadata": {
      "needs_background": "light"
     },
     "output_type": "display_data"
    }
   ],
   "source": [
    "ax = sns.boxplot(x='treatment', y='value', data=df_melt, color='blue')\n",
    "ax = sns.swarmplot(x='treatment', y='value', data=df_melt, color='red')"
   ]
  },
  {
   "cell_type": "code",
   "execution_count": 15,
   "id": "aca65449",
   "metadata": {
    "ExecuteTime": {
     "end_time": "2021-12-11T12:13:21.867291Z",
     "start_time": "2021-12-11T12:13:21.863331Z"
    }
   },
   "outputs": [],
   "source": [
    "import scipy.stats as stats"
   ]
  },
  {
   "cell_type": "code",
   "execution_count": 16,
   "id": "563f9ea1",
   "metadata": {
    "ExecuteTime": {
     "end_time": "2021-12-11T12:13:55.375599Z",
     "start_time": "2021-12-11T12:13:55.368792Z"
    }
   },
   "outputs": [
    {
     "data": {
      "text/plain": [
       "F_onewayResult(statistic=17.492810457516338, pvalue=2.639241146210922e-05)"
      ]
     },
     "execution_count": 16,
     "metadata": {},
     "output_type": "execute_result"
    }
   ],
   "source": [
    "stats.f_oneway(df['A'], df['B'],df['C'],df['D'])"
   ]
  },
  {
   "cell_type": "code",
   "execution_count": 17,
   "id": "6d8c113e",
   "metadata": {
    "ExecuteTime": {
     "end_time": "2021-12-11T12:15:18.361839Z",
     "start_time": "2021-12-11T12:15:18.195542Z"
    }
   },
   "outputs": [],
   "source": [
    "import statsmodels.api as sm\n",
    "from statsmodels.formula.api import ols"
   ]
  },
  {
   "cell_type": "code",
   "execution_count": 19,
   "id": "b1fcbe3e",
   "metadata": {
    "ExecuteTime": {
     "end_time": "2021-12-11T12:16:08.597577Z",
     "start_time": "2021-12-11T12:16:08.588727Z"
    }
   },
   "outputs": [],
   "source": [
    "model = ols('value~C(treatment)', data=df_melt).fit()"
   ]
  },
  {
   "cell_type": "code",
   "execution_count": 22,
   "id": "90133768",
   "metadata": {
    "ExecuteTime": {
     "end_time": "2021-12-11T12:16:17.067877Z",
     "start_time": "2021-12-11T12:16:17.042551Z"
    }
   },
   "outputs": [
    {
     "data": {
      "text/html": [
       "<table class=\"simpletable\">\n",
       "<caption>OLS Regression Results</caption>\n",
       "<tr>\n",
       "  <th>Dep. Variable:</th>          <td>value</td>      <th>  R-squared:         </th> <td>   0.766</td>\n",
       "</tr>\n",
       "<tr>\n",
       "  <th>Model:</th>                   <td>OLS</td>       <th>  Adj. R-squared:    </th> <td>   0.723</td>\n",
       "</tr>\n",
       "<tr>\n",
       "  <th>Method:</th>             <td>Least Squares</td>  <th>  F-statistic:       </th> <td>   17.49</td>\n",
       "</tr>\n",
       "<tr>\n",
       "  <th>Date:</th>             <td>Sat, 11 Dec 2021</td> <th>  Prob (F-statistic):</th> <td>2.64e-05</td>\n",
       "</tr>\n",
       "<tr>\n",
       "  <th>Time:</th>                 <td>15:16:17</td>     <th>  Log-Likelihood:    </th> <td> -66.643</td>\n",
       "</tr>\n",
       "<tr>\n",
       "  <th>No. Observations:</th>      <td>    20</td>      <th>  AIC:               </th> <td>   141.3</td>\n",
       "</tr>\n",
       "<tr>\n",
       "  <th>Df Residuals:</th>          <td>    16</td>      <th>  BIC:               </th> <td>   145.3</td>\n",
       "</tr>\n",
       "<tr>\n",
       "  <th>Df Model:</th>              <td>     3</td>      <th>                     </th>     <td> </td>   \n",
       "</tr>\n",
       "<tr>\n",
       "  <th>Covariance Type:</th>      <td>nonrobust</td>    <th>                     </th>     <td> </td>   \n",
       "</tr>\n",
       "</table>\n",
       "<table class=\"simpletable\">\n",
       "<tr>\n",
       "          <td></td>             <th>coef</th>     <th>std err</th>      <th>t</th>      <th>P>|t|</th>  <th>[0.025</th>    <th>0.975]</th>  \n",
       "</tr>\n",
       "<tr>\n",
       "  <th>Intercept</th>         <td>   29.6000</td> <td>    3.387</td> <td>    8.738</td> <td> 0.000</td> <td>   22.419</td> <td>   36.781</td>\n",
       "</tr>\n",
       "<tr>\n",
       "  <th>C(treatment)[T.B]</th> <td>   15.4000</td> <td>    4.791</td> <td>    3.215</td> <td> 0.005</td> <td>    5.244</td> <td>   25.556</td>\n",
       "</tr>\n",
       "<tr>\n",
       "  <th>C(treatment)[T.C]</th> <td>    1.6000</td> <td>    4.791</td> <td>    0.334</td> <td> 0.743</td> <td>   -8.556</td> <td>   11.756</td>\n",
       "</tr>\n",
       "<tr>\n",
       "  <th>C(treatment)[T.D]</th> <td>   30.4000</td> <td>    4.791</td> <td>    6.346</td> <td> 0.000</td> <td>   20.244</td> <td>   40.556</td>\n",
       "</tr>\n",
       "</table>\n",
       "<table class=\"simpletable\">\n",
       "<tr>\n",
       "  <th>Omnibus:</th>       <td> 0.549</td> <th>  Durbin-Watson:     </th> <td>   2.629</td>\n",
       "</tr>\n",
       "<tr>\n",
       "  <th>Prob(Omnibus):</th> <td> 0.760</td> <th>  Jarque-Bera (JB):  </th> <td>   0.020</td>\n",
       "</tr>\n",
       "<tr>\n",
       "  <th>Skew:</th>          <td>-0.057</td> <th>  Prob(JB):          </th> <td>   0.990</td>\n",
       "</tr>\n",
       "<tr>\n",
       "  <th>Kurtosis:</th>      <td> 3.105</td> <th>  Cond. No.          </th> <td>    4.79</td>\n",
       "</tr>\n",
       "</table><br/><br/>Notes:<br/>[1] Standard Errors assume that the covariance matrix of the errors is correctly specified."
      ],
      "text/plain": [
       "<class 'statsmodels.iolib.summary.Summary'>\n",
       "\"\"\"\n",
       "                            OLS Regression Results                            \n",
       "==============================================================================\n",
       "Dep. Variable:                  value   R-squared:                       0.766\n",
       "Model:                            OLS   Adj. R-squared:                  0.723\n",
       "Method:                 Least Squares   F-statistic:                     17.49\n",
       "Date:                Sat, 11 Dec 2021   Prob (F-statistic):           2.64e-05\n",
       "Time:                        15:16:17   Log-Likelihood:                -66.643\n",
       "No. Observations:                  20   AIC:                             141.3\n",
       "Df Residuals:                      16   BIC:                             145.3\n",
       "Df Model:                           3                                         \n",
       "Covariance Type:            nonrobust                                         \n",
       "=====================================================================================\n",
       "                        coef    std err          t      P>|t|      [0.025      0.975]\n",
       "-------------------------------------------------------------------------------------\n",
       "Intercept            29.6000      3.387      8.738      0.000      22.419      36.781\n",
       "C(treatment)[T.B]    15.4000      4.791      3.215      0.005       5.244      25.556\n",
       "C(treatment)[T.C]     1.6000      4.791      0.334      0.743      -8.556      11.756\n",
       "C(treatment)[T.D]    30.4000      4.791      6.346      0.000      20.244      40.556\n",
       "==============================================================================\n",
       "Omnibus:                        0.549   Durbin-Watson:                   2.629\n",
       "Prob(Omnibus):                  0.760   Jarque-Bera (JB):                0.020\n",
       "Skew:                          -0.057   Prob(JB):                        0.990\n",
       "Kurtosis:                       3.105   Cond. No.                         4.79\n",
       "==============================================================================\n",
       "\n",
       "Notes:\n",
       "[1] Standard Errors assume that the covariance matrix of the errors is correctly specified.\n",
       "\"\"\""
      ]
     },
     "execution_count": 22,
     "metadata": {},
     "output_type": "execute_result"
    }
   ],
   "source": [
    "model.summary()"
   ]
  },
  {
   "cell_type": "code",
   "execution_count": 23,
   "id": "1be24c06",
   "metadata": {
    "ExecuteTime": {
     "end_time": "2021-12-11T12:17:24.910122Z",
     "start_time": "2021-12-11T12:17:24.891774Z"
    }
   },
   "outputs": [
    {
     "data": {
      "text/html": [
       "<div>\n",
       "<style scoped>\n",
       "    .dataframe tbody tr th:only-of-type {\n",
       "        vertical-align: middle;\n",
       "    }\n",
       "\n",
       "    .dataframe tbody tr th {\n",
       "        vertical-align: top;\n",
       "    }\n",
       "\n",
       "    .dataframe thead th {\n",
       "        text-align: right;\n",
       "    }\n",
       "</style>\n",
       "<table border=\"1\" class=\"dataframe\">\n",
       "  <thead>\n",
       "    <tr style=\"text-align: right;\">\n",
       "      <th></th>\n",
       "      <th>sum_sq</th>\n",
       "      <th>df</th>\n",
       "      <th>F</th>\n",
       "      <th>PR(&gt;F)</th>\n",
       "    </tr>\n",
       "  </thead>\n",
       "  <tbody>\n",
       "    <tr>\n",
       "      <th>C(treatment)</th>\n",
       "      <td>3010.95</td>\n",
       "      <td>3.0</td>\n",
       "      <td>17.49281</td>\n",
       "      <td>0.000026</td>\n",
       "    </tr>\n",
       "    <tr>\n",
       "      <th>Residual</th>\n",
       "      <td>918.00</td>\n",
       "      <td>16.0</td>\n",
       "      <td>NaN</td>\n",
       "      <td>NaN</td>\n",
       "    </tr>\n",
       "  </tbody>\n",
       "</table>\n",
       "</div>"
      ],
      "text/plain": [
       "               sum_sq    df         F    PR(>F)\n",
       "C(treatment)  3010.95   3.0  17.49281  0.000026\n",
       "Residual       918.00  16.0       NaN       NaN"
      ]
     },
     "execution_count": 23,
     "metadata": {},
     "output_type": "execute_result"
    }
   ],
   "source": [
    "sm.stats.anova_lm(model, typ=2)"
   ]
  },
  {
   "cell_type": "code",
   "execution_count": 24,
   "id": "3dc696d2",
   "metadata": {
    "ExecuteTime": {
     "end_time": "2021-12-11T12:18:51.931723Z",
     "start_time": "2021-12-11T12:18:51.925656Z"
    }
   },
   "outputs": [],
   "source": [
    "from bioinfokit.analys import stat"
   ]
  },
  {
   "cell_type": "code",
   "execution_count": 26,
   "id": "7fe7e6e5",
   "metadata": {
    "ExecuteTime": {
     "end_time": "2021-12-11T12:20:01.119434Z",
     "start_time": "2021-12-11T12:20:01.101301Z"
    }
   },
   "outputs": [
    {
     "data": {
      "text/html": [
       "<div>\n",
       "<style scoped>\n",
       "    .dataframe tbody tr th:only-of-type {\n",
       "        vertical-align: middle;\n",
       "    }\n",
       "\n",
       "    .dataframe tbody tr th {\n",
       "        vertical-align: top;\n",
       "    }\n",
       "\n",
       "    .dataframe thead th {\n",
       "        text-align: right;\n",
       "    }\n",
       "</style>\n",
       "<table border=\"1\" class=\"dataframe\">\n",
       "  <thead>\n",
       "    <tr style=\"text-align: right;\">\n",
       "      <th></th>\n",
       "      <th>df</th>\n",
       "      <th>sum_sq</th>\n",
       "      <th>mean_sq</th>\n",
       "      <th>F</th>\n",
       "      <th>PR(&gt;F)</th>\n",
       "    </tr>\n",
       "  </thead>\n",
       "  <tbody>\n",
       "    <tr>\n",
       "      <th>C(treatment)</th>\n",
       "      <td>3.0</td>\n",
       "      <td>3010.95</td>\n",
       "      <td>1003.650</td>\n",
       "      <td>17.49281</td>\n",
       "      <td>0.000026</td>\n",
       "    </tr>\n",
       "    <tr>\n",
       "      <th>Residual</th>\n",
       "      <td>16.0</td>\n",
       "      <td>918.00</td>\n",
       "      <td>57.375</td>\n",
       "      <td>NaN</td>\n",
       "      <td>NaN</td>\n",
       "    </tr>\n",
       "  </tbody>\n",
       "</table>\n",
       "</div>"
      ],
      "text/plain": [
       "                df   sum_sq   mean_sq         F    PR(>F)\n",
       "C(treatment)   3.0  3010.95  1003.650  17.49281  0.000026\n",
       "Residual      16.0   918.00    57.375       NaN       NaN"
      ]
     },
     "execution_count": 26,
     "metadata": {},
     "output_type": "execute_result"
    }
   ],
   "source": [
    "res = stat()\n",
    "res.anova_stat(df=df_melt, res_var='value', anova_model='value~C(treatment)')\n",
    "res.anova_summary"
   ]
  },
  {
   "cell_type": "markdown",
   "id": "0f32af31",
   "metadata": {},
   "source": [
    "#### Tukey's test"
   ]
  },
  {
   "cell_type": "code",
   "execution_count": 27,
   "id": "82b8d537",
   "metadata": {
    "ExecuteTime": {
     "end_time": "2021-12-11T12:25:51.204518Z",
     "start_time": "2021-12-11T12:25:51.199291Z"
    }
   },
   "outputs": [],
   "source": [
    "res = stat()"
   ]
  },
  {
   "cell_type": "code",
   "execution_count": 29,
   "id": "038e45dc",
   "metadata": {
    "ExecuteTime": {
     "end_time": "2021-12-11T12:27:05.498420Z",
     "start_time": "2021-12-11T12:27:05.431071Z"
    }
   },
   "outputs": [
    {
     "data": {
      "text/html": [
       "<div>\n",
       "<style scoped>\n",
       "    .dataframe tbody tr th:only-of-type {\n",
       "        vertical-align: middle;\n",
       "    }\n",
       "\n",
       "    .dataframe tbody tr th {\n",
       "        vertical-align: top;\n",
       "    }\n",
       "\n",
       "    .dataframe thead th {\n",
       "        text-align: right;\n",
       "    }\n",
       "</style>\n",
       "<table border=\"1\" class=\"dataframe\">\n",
       "  <thead>\n",
       "    <tr style=\"text-align: right;\">\n",
       "      <th></th>\n",
       "      <th>group1</th>\n",
       "      <th>group2</th>\n",
       "      <th>Diff</th>\n",
       "      <th>Lower</th>\n",
       "      <th>Upper</th>\n",
       "      <th>q-value</th>\n",
       "      <th>p-value</th>\n",
       "    </tr>\n",
       "  </thead>\n",
       "  <tbody>\n",
       "    <tr>\n",
       "      <th>0</th>\n",
       "      <td>A</td>\n",
       "      <td>B</td>\n",
       "      <td>15.4</td>\n",
       "      <td>1.692871</td>\n",
       "      <td>29.107129</td>\n",
       "      <td>4.546156</td>\n",
       "      <td>0.025070</td>\n",
       "    </tr>\n",
       "    <tr>\n",
       "      <th>1</th>\n",
       "      <td>A</td>\n",
       "      <td>C</td>\n",
       "      <td>1.6</td>\n",
       "      <td>-12.107129</td>\n",
       "      <td>15.307129</td>\n",
       "      <td>0.472328</td>\n",
       "      <td>0.900000</td>\n",
       "    </tr>\n",
       "    <tr>\n",
       "      <th>2</th>\n",
       "      <td>A</td>\n",
       "      <td>D</td>\n",
       "      <td>30.4</td>\n",
       "      <td>16.692871</td>\n",
       "      <td>44.107129</td>\n",
       "      <td>8.974231</td>\n",
       "      <td>0.001000</td>\n",
       "    </tr>\n",
       "    <tr>\n",
       "      <th>3</th>\n",
       "      <td>B</td>\n",
       "      <td>C</td>\n",
       "      <td>13.8</td>\n",
       "      <td>0.092871</td>\n",
       "      <td>27.507129</td>\n",
       "      <td>4.073828</td>\n",
       "      <td>0.048178</td>\n",
       "    </tr>\n",
       "    <tr>\n",
       "      <th>4</th>\n",
       "      <td>B</td>\n",
       "      <td>D</td>\n",
       "      <td>15.0</td>\n",
       "      <td>1.292871</td>\n",
       "      <td>28.707129</td>\n",
       "      <td>4.428074</td>\n",
       "      <td>0.029578</td>\n",
       "    </tr>\n",
       "    <tr>\n",
       "      <th>5</th>\n",
       "      <td>C</td>\n",
       "      <td>D</td>\n",
       "      <td>28.8</td>\n",
       "      <td>15.092871</td>\n",
       "      <td>42.507129</td>\n",
       "      <td>8.501903</td>\n",
       "      <td>0.001000</td>\n",
       "    </tr>\n",
       "  </tbody>\n",
       "</table>\n",
       "</div>"
      ],
      "text/plain": [
       "  group1 group2  Diff      Lower      Upper   q-value   p-value\n",
       "0      A      B  15.4   1.692871  29.107129  4.546156  0.025070\n",
       "1      A      C   1.6 -12.107129  15.307129  0.472328  0.900000\n",
       "2      A      D  30.4  16.692871  44.107129  8.974231  0.001000\n",
       "3      B      C  13.8   0.092871  27.507129  4.073828  0.048178\n",
       "4      B      D  15.0   1.292871  28.707129  4.428074  0.029578\n",
       "5      C      D  28.8  15.092871  42.507129  8.501903  0.001000"
      ]
     },
     "execution_count": 29,
     "metadata": {},
     "output_type": "execute_result"
    }
   ],
   "source": [
    "res.tukey_hsd(df=df_melt, res_var='value', xfac_var='treatment', anova_model='value~C(treatment)')\n",
    "res.tukey_summary"
   ]
  },
  {
   "cell_type": "markdown",
   "id": "706b89ee",
   "metadata": {},
   "source": [
    "#### Testing assumptions"
   ]
  },
  {
   "cell_type": "code",
   "execution_count": 31,
   "id": "b89fc5a3",
   "metadata": {
    "ExecuteTime": {
     "end_time": "2021-12-11T12:29:10.563691Z",
     "start_time": "2021-12-11T12:29:10.380093Z"
    }
   },
   "outputs": [
    {
     "name": "stderr",
     "output_type": "stream",
     "text": [
      "/home/xenakas/.local/lib/python3.9/site-packages/statsmodels/graphics/gofplots.py:993: UserWarning: marker is redundantly defined by the 'marker' keyword argument and the fmt string \"bo\" (-> marker='o'). The keyword argument will take precedence.\n",
      "  ax.plot(x, y, fmt, **plot_style)\n"
     ]
    },
    {
     "data": {
      "image/png": "[encoded data removed]",
      "text/plain": [
       "<Figure size 432x288 with 1 Axes>"
      ]
     },
     "execution_count": 31,
     "metadata": {},
     "output_type": "execute_result"
    },
    {
     "data": {
      "image/png": "[encoded data removed]",
      "text/plain": [
       "<Figure size 432x288 with 1 Axes>"
      ]
     },
     "metadata": {
      "needs_background": "light"
     },
     "output_type": "display_data"
    }
   ],
   "source": [
    "sm.qqplot(res.anova_std_residuals, line='45')"
   ]
  },
  {
   "cell_type": "code",
   "execution_count": 32,
   "id": "1d6999d7",
   "metadata": {
    "ExecuteTime": {
     "end_time": "2021-12-11T12:30:16.435355Z",
     "start_time": "2021-12-11T12:30:16.431544Z"
    }
   },
   "outputs": [
    {
     "data": {
      "text/plain": [
       "ShapiroResult(statistic=0.9685019850730896, pvalue=0.7229772806167603)"
      ]
     },
     "execution_count": 32,
     "metadata": {},
     "output_type": "execute_result"
    }
   ],
   "source": [
    "stats.shapiro(model.resid)"
   ]
  },
  {
   "cell_type": "code",
   "execution_count": 33,
   "id": "adda6055",
   "metadata": {
    "ExecuteTime": {
     "end_time": "2021-12-11T12:31:21.586882Z",
     "start_time": "2021-12-11T12:31:21.582487Z"
    }
   },
   "outputs": [
    {
     "data": {
      "text/plain": [
       "BartlettResult(statistic=5.687843565012841, pvalue=0.1278253399753447)"
      ]
     },
     "execution_count": 33,
     "metadata": {},
     "output_type": "execute_result"
    }
   ],
   "source": [
    "stats.bartlett(df['A'],df['B'],df['C'],df['D'])"
   ]
  },
  {
   "cell_type": "code",
   "execution_count": 35,
   "id": "f5bb0391",
   "metadata": {
    "ExecuteTime": {
     "end_time": "2021-12-11T12:32:46.594667Z",
     "start_time": "2021-12-11T12:32:46.565827Z"
    }
   },
   "outputs": [
    {
     "data": {
      "text/html": [
       "<div>\n",
       "<style scoped>\n",
       "    .dataframe tbody tr th:only-of-type {\n",
       "        vertical-align: middle;\n",
       "    }\n",
       "\n",
       "    .dataframe tbody tr th {\n",
       "        vertical-align: top;\n",
       "    }\n",
       "\n",
       "    .dataframe thead th {\n",
       "        text-align: right;\n",
       "    }\n",
       "</style>\n",
       "<table border=\"1\" class=\"dataframe\">\n",
       "  <thead>\n",
       "    <tr style=\"text-align: right;\">\n",
       "      <th></th>\n",
       "      <th>Parameter</th>\n",
       "      <th>Value</th>\n",
       "    </tr>\n",
       "  </thead>\n",
       "  <tbody>\n",
       "    <tr>\n",
       "      <th>0</th>\n",
       "      <td>Test statistics (W)</td>\n",
       "      <td>1.9220</td>\n",
       "    </tr>\n",
       "    <tr>\n",
       "      <th>1</th>\n",
       "      <td>Degrees of freedom (Df)</td>\n",
       "      <td>3.0000</td>\n",
       "    </tr>\n",
       "    <tr>\n",
       "      <th>2</th>\n",
       "      <td>p value</td>\n",
       "      <td>0.1667</td>\n",
       "    </tr>\n",
       "  </tbody>\n",
       "</table>\n",
       "</div>"
      ],
      "text/plain": [
       "                 Parameter   Value\n",
       "0      Test statistics (W)  1.9220\n",
       "1  Degrees of freedom (Df)  3.0000\n",
       "2                  p value  0.1667"
      ]
     },
     "execution_count": 35,
     "metadata": {},
     "output_type": "execute_result"
    }
   ],
   "source": [
    "res = stat()\n",
    "res.levene(df=df_melt, res_var='value', xfac_var='treatment')\n",
    "res.levene_summary"
   ]
  },
  {
   "cell_type": "markdown",
   "id": "9d6ad010",
   "metadata": {},
   "source": [
    "### Two-way ANOVA"
   ]
  },
  {
   "cell_type": "code",
   "execution_count": 37,
   "id": "5a375fa6",
   "metadata": {
    "ExecuteTime": {
     "end_time": "2021-12-11T12:41:50.086824Z",
     "start_time": "2021-12-11T12:41:49.798523Z"
    }
   },
   "outputs": [
    {
     "data": {
      "text/html": [
       "<div>\n",
       "<style scoped>\n",
       "    .dataframe tbody tr th:only-of-type {\n",
       "        vertical-align: middle;\n",
       "    }\n",
       "\n",
       "    .dataframe tbody tr th {\n",
       "        vertical-align: top;\n",
       "    }\n",
       "\n",
       "    .dataframe thead th {\n",
       "        text-align: right;\n",
       "    }\n",
       "</style>\n",
       "<table border=\"1\" class=\"dataframe\">\n",
       "  <thead>\n",
       "    <tr style=\"text-align: right;\">\n",
       "      <th></th>\n",
       "      <th>Genotype</th>\n",
       "      <th>1_year</th>\n",
       "      <th>2_year</th>\n",
       "      <th>3_year</th>\n",
       "    </tr>\n",
       "  </thead>\n",
       "  <tbody>\n",
       "    <tr>\n",
       "      <th>0</th>\n",
       "      <td>A</td>\n",
       "      <td>1.53</td>\n",
       "      <td>4.08</td>\n",
       "      <td>6.69</td>\n",
       "    </tr>\n",
       "    <tr>\n",
       "      <th>1</th>\n",
       "      <td>A</td>\n",
       "      <td>1.83</td>\n",
       "      <td>3.84</td>\n",
       "      <td>5.97</td>\n",
       "    </tr>\n",
       "    <tr>\n",
       "      <th>2</th>\n",
       "      <td>A</td>\n",
       "      <td>1.38</td>\n",
       "      <td>3.96</td>\n",
       "      <td>6.33</td>\n",
       "    </tr>\n",
       "    <tr>\n",
       "      <th>3</th>\n",
       "      <td>B</td>\n",
       "      <td>3.60</td>\n",
       "      <td>5.70</td>\n",
       "      <td>8.55</td>\n",
       "    </tr>\n",
       "    <tr>\n",
       "      <th>4</th>\n",
       "      <td>B</td>\n",
       "      <td>2.94</td>\n",
       "      <td>5.07</td>\n",
       "      <td>7.95</td>\n",
       "    </tr>\n",
       "    <tr>\n",
       "      <th>5</th>\n",
       "      <td>B</td>\n",
       "      <td>4.02</td>\n",
       "      <td>7.20</td>\n",
       "      <td>8.94</td>\n",
       "    </tr>\n",
       "    <tr>\n",
       "      <th>6</th>\n",
       "      <td>C</td>\n",
       "      <td>3.99</td>\n",
       "      <td>6.09</td>\n",
       "      <td>10.02</td>\n",
       "    </tr>\n",
       "    <tr>\n",
       "      <th>7</th>\n",
       "      <td>C</td>\n",
       "      <td>3.30</td>\n",
       "      <td>5.88</td>\n",
       "      <td>9.63</td>\n",
       "    </tr>\n",
       "    <tr>\n",
       "      <th>8</th>\n",
       "      <td>C</td>\n",
       "      <td>4.41</td>\n",
       "      <td>6.51</td>\n",
       "      <td>10.38</td>\n",
       "    </tr>\n",
       "    <tr>\n",
       "      <th>9</th>\n",
       "      <td>D</td>\n",
       "      <td>3.75</td>\n",
       "      <td>5.19</td>\n",
       "      <td>11.40</td>\n",
       "    </tr>\n",
       "    <tr>\n",
       "      <th>10</th>\n",
       "      <td>D</td>\n",
       "      <td>3.63</td>\n",
       "      <td>5.37</td>\n",
       "      <td>9.66</td>\n",
       "    </tr>\n",
       "    <tr>\n",
       "      <th>11</th>\n",
       "      <td>D</td>\n",
       "      <td>3.57</td>\n",
       "      <td>5.55</td>\n",
       "      <td>10.53</td>\n",
       "    </tr>\n",
       "    <tr>\n",
       "      <th>12</th>\n",
       "      <td>E</td>\n",
       "      <td>1.71</td>\n",
       "      <td>3.60</td>\n",
       "      <td>6.87</td>\n",
       "    </tr>\n",
       "    <tr>\n",
       "      <th>13</th>\n",
       "      <td>E</td>\n",
       "      <td>2.01</td>\n",
       "      <td>5.10</td>\n",
       "      <td>6.93</td>\n",
       "    </tr>\n",
       "    <tr>\n",
       "      <th>14</th>\n",
       "      <td>E</td>\n",
       "      <td>2.04</td>\n",
       "      <td>6.99</td>\n",
       "      <td>6.84</td>\n",
       "    </tr>\n",
       "    <tr>\n",
       "      <th>15</th>\n",
       "      <td>F</td>\n",
       "      <td>3.96</td>\n",
       "      <td>5.25</td>\n",
       "      <td>9.84</td>\n",
       "    </tr>\n",
       "    <tr>\n",
       "      <th>16</th>\n",
       "      <td>F</td>\n",
       "      <td>4.77</td>\n",
       "      <td>5.28</td>\n",
       "      <td>9.87</td>\n",
       "    </tr>\n",
       "    <tr>\n",
       "      <th>17</th>\n",
       "      <td>F</td>\n",
       "      <td>4.65</td>\n",
       "      <td>5.07</td>\n",
       "      <td>10.08</td>\n",
       "    </tr>\n",
       "  </tbody>\n",
       "</table>\n",
       "</div>"
      ],
      "text/plain": [
       "   Genotype  1_year  2_year  3_year\n",
       "0         A    1.53    4.08    6.69\n",
       "1         A    1.83    3.84    5.97\n",
       "2         A    1.38    3.96    6.33\n",
       "3         B    3.60    5.70    8.55\n",
       "4         B    2.94    5.07    7.95\n",
       "5         B    4.02    7.20    8.94\n",
       "6         C    3.99    6.09   10.02\n",
       "7         C    3.30    5.88    9.63\n",
       "8         C    4.41    6.51   10.38\n",
       "9         D    3.75    5.19   11.40\n",
       "10        D    3.63    5.37    9.66\n",
       "11        D    3.57    5.55   10.53\n",
       "12        E    1.71    3.60    6.87\n",
       "13        E    2.01    5.10    6.93\n",
       "14        E    2.04    6.99    6.84\n",
       "15        F    3.96    5.25    9.84\n",
       "16        F    4.77    5.28    9.87\n",
       "17        F    4.65    5.07   10.08"
      ]
     },
     "execution_count": 37,
     "metadata": {},
     "output_type": "execute_result"
    }
   ],
   "source": [
    "import pandas as pd\n",
    "\n",
    "df = pd.read_csv('https://reneshbedre.github.io/assets/posts/anova/twowayanova.txt',sep='\\t')\n",
    "df"
   ]
  },
  {
   "cell_type": "code",
   "execution_count": 36,
   "id": "01585187",
   "metadata": {
    "ExecuteTime": {
     "end_time": "2021-12-11T12:41:44.199113Z",
     "start_time": "2021-12-11T12:41:43.890350Z"
    }
   },
   "outputs": [
    {
     "data": {
      "text/plain": [
       "Index(['Genotype', '1_year', '2_year', '3_year'], dtype='object')"
      ]
     },
     "execution_count": 36,
     "metadata": {},
     "output_type": "execute_result"
    }
   ],
   "source": [
    "df.columns"
   ]
  },
  {
   "cell_type": "code",
   "execution_count": 38,
   "id": "75dcbd25",
   "metadata": {
    "ExecuteTime": {
     "end_time": "2021-12-11T12:42:58.924945Z",
     "start_time": "2021-12-11T12:42:58.915907Z"
    }
   },
   "outputs": [],
   "source": [
    "df_melt = pd.melt(df, id_vars=['Genotype'], value_vars=['1_year', '2_year', '3_year'])\n",
    "\n",
    "df_melt.columns = ['Genotype', 'years', 'value']"
   ]
  },
  {
   "cell_type": "code",
   "execution_count": 40,
   "id": "b8121c62",
   "metadata": {
    "ExecuteTime": {
     "end_time": "2021-12-11T12:44:11.731088Z",
     "start_time": "2021-12-11T12:44:11.404041Z"
    }
   },
   "outputs": [
    {
     "data": {
      "text/plain": [
       "<AxesSubplot:xlabel='Genotype', ylabel='value'>"
      ]
     },
     "execution_count": 40,
     "metadata": {},
     "output_type": "execute_result"
    },
    {
     "data": {
      "image/png": "[encoded data removed]",
      "text/plain": [
       "<Figure size 432x288 with 1 Axes>"
      ]
     },
     "metadata": {
      "needs_background": "light"
     },
     "output_type": "display_data"
    }
   ],
   "source": [
    "sns.boxplot(x='Genotype', y='value', hue='years', data=df_melt)"
   ]
  },
  {
   "cell_type": "code",
   "execution_count": 41,
   "id": "5a1185ec",
   "metadata": {
    "ExecuteTime": {
     "end_time": "2021-12-11T12:46:07.215159Z",
     "start_time": "2021-12-11T12:46:07.183071Z"
    }
   },
   "outputs": [
    {
     "data": {
      "text/html": [
       "<table class=\"simpletable\">\n",
       "<caption>OLS Regression Results</caption>\n",
       "<tr>\n",
       "  <th>Dep. Variable:</th>          <td>value</td>      <th>  R-squared:         </th> <td>   0.965</td>\n",
       "</tr>\n",
       "<tr>\n",
       "  <th>Model:</th>                   <td>OLS</td>       <th>  Adj. R-squared:    </th> <td>   0.948</td>\n",
       "</tr>\n",
       "<tr>\n",
       "  <th>Method:</th>             <td>Least Squares</td>  <th>  F-statistic:       </th> <td>   58.33</td>\n",
       "</tr>\n",
       "<tr>\n",
       "  <th>Date:</th>             <td>Sat, 11 Dec 2021</td> <th>  Prob (F-statistic):</th> <td>4.29e-21</td>\n",
       "</tr>\n",
       "<tr>\n",
       "  <th>Time:</th>                 <td>15:46:07</td>     <th>  Log-Likelihood:    </th> <td> -37.909</td>\n",
       "</tr>\n",
       "<tr>\n",
       "  <th>No. Observations:</th>      <td>    54</td>      <th>  AIC:               </th> <td>   111.8</td>\n",
       "</tr>\n",
       "<tr>\n",
       "  <th>Df Residuals:</th>          <td>    36</td>      <th>  BIC:               </th> <td>   147.6</td>\n",
       "</tr>\n",
       "<tr>\n",
       "  <th>Df Model:</th>              <td>    17</td>      <th>                     </th>     <td> </td>   \n",
       "</tr>\n",
       "<tr>\n",
       "  <th>Covariance Type:</th>      <td>nonrobust</td>    <th>                     </th>     <td> </td>   \n",
       "</tr>\n",
       "</table>\n",
       "<table class=\"simpletable\">\n",
       "<tr>\n",
       "                   <td></td>                      <th>coef</th>     <th>std err</th>      <th>t</th>      <th>P>|t|</th>  <th>[0.025</th>    <th>0.975]</th>  \n",
       "</tr>\n",
       "<tr>\n",
       "  <th>Intercept</th>                           <td>    1.5800</td> <td>    0.345</td> <td>    4.576</td> <td> 0.000</td> <td>    0.880</td> <td>    2.280</td>\n",
       "</tr>\n",
       "<tr>\n",
       "  <th>C(Genotype)[T.B]</th>                    <td>    1.9400</td> <td>    0.488</td> <td>    3.973</td> <td> 0.000</td> <td>    0.950</td> <td>    2.930</td>\n",
       "</tr>\n",
       "<tr>\n",
       "  <th>C(Genotype)[T.C]</th>                    <td>    2.3200</td> <td>    0.488</td> <td>    4.752</td> <td> 0.000</td> <td>    1.330</td> <td>    3.310</td>\n",
       "</tr>\n",
       "<tr>\n",
       "  <th>C(Genotype)[T.D]</th>                    <td>    2.0700</td> <td>    0.488</td> <td>    4.240</td> <td> 0.000</td> <td>    1.080</td> <td>    3.060</td>\n",
       "</tr>\n",
       "<tr>\n",
       "  <th>C(Genotype)[T.E]</th>                    <td>    0.3400</td> <td>    0.488</td> <td>    0.696</td> <td> 0.491</td> <td>   -0.650</td> <td>    1.330</td>\n",
       "</tr>\n",
       "<tr>\n",
       "  <th>C(Genotype)[T.F]</th>                    <td>    2.8800</td> <td>    0.488</td> <td>    5.899</td> <td> 0.000</td> <td>    1.890</td> <td>    3.870</td>\n",
       "</tr>\n",
       "<tr>\n",
       "  <th>C(years)[T.2_year]</th>                  <td>    2.3800</td> <td>    0.488</td> <td>    4.875</td> <td> 0.000</td> <td>    1.390</td> <td>    3.370</td>\n",
       "</tr>\n",
       "<tr>\n",
       "  <th>C(years)[T.3_year]</th>                  <td>    4.7500</td> <td>    0.488</td> <td>    9.729</td> <td> 0.000</td> <td>    3.760</td> <td>    5.740</td>\n",
       "</tr>\n",
       "<tr>\n",
       "  <th>C(Genotype)[T.B]:C(years)[T.2_year]</th> <td>    0.0900</td> <td>    0.690</td> <td>    0.130</td> <td> 0.897</td> <td>   -1.310</td> <td>    1.490</td>\n",
       "</tr>\n",
       "<tr>\n",
       "  <th>C(Genotype)[T.C]:C(years)[T.2_year]</th> <td>   -0.1200</td> <td>    0.690</td> <td>   -0.174</td> <td> 0.863</td> <td>   -1.520</td> <td>    1.280</td>\n",
       "</tr>\n",
       "<tr>\n",
       "  <th>C(Genotype)[T.D]:C(years)[T.2_year]</th> <td>   -0.6600</td> <td>    0.690</td> <td>   -0.956</td> <td> 0.346</td> <td>   -2.060</td> <td>    0.740</td>\n",
       "</tr>\n",
       "<tr>\n",
       "  <th>C(Genotype)[T.E]:C(years)[T.2_year]</th> <td>    0.9300</td> <td>    0.690</td> <td>    1.347</td> <td> 0.186</td> <td>   -0.470</td> <td>    2.330</td>\n",
       "</tr>\n",
       "<tr>\n",
       "  <th>C(Genotype)[T.F]:C(years)[T.2_year]</th> <td>   -1.6400</td> <td>    0.690</td> <td>   -2.375</td> <td> 0.023</td> <td>   -3.040</td> <td>   -0.240</td>\n",
       "</tr>\n",
       "<tr>\n",
       "  <th>C(Genotype)[T.B]:C(years)[T.3_year]</th> <td>    0.2100</td> <td>    0.690</td> <td>    0.304</td> <td> 0.763</td> <td>   -1.190</td> <td>    1.610</td>\n",
       "</tr>\n",
       "<tr>\n",
       "  <th>C(Genotype)[T.C]:C(years)[T.3_year]</th> <td>    1.3600</td> <td>    0.690</td> <td>    1.970</td> <td> 0.057</td> <td>   -0.040</td> <td>    2.760</td>\n",
       "</tr>\n",
       "<tr>\n",
       "  <th>C(Genotype)[T.D]:C(years)[T.3_year]</th> <td>    2.1300</td> <td>    0.690</td> <td>    3.085</td> <td> 0.004</td> <td>    0.730</td> <td>    3.530</td>\n",
       "</tr>\n",
       "<tr>\n",
       "  <th>C(Genotype)[T.E]:C(years)[T.3_year]</th> <td>    0.2100</td> <td>    0.690</td> <td>    0.304</td> <td> 0.763</td> <td>   -1.190</td> <td>    1.610</td>\n",
       "</tr>\n",
       "<tr>\n",
       "  <th>C(Genotype)[T.F]:C(years)[T.3_year]</th> <td>    0.7200</td> <td>    0.690</td> <td>    1.043</td> <td> 0.304</td> <td>   -0.680</td> <td>    2.120</td>\n",
       "</tr>\n",
       "</table>\n",
       "<table class=\"simpletable\">\n",
       "<tr>\n",
       "  <th>Omnibus:</th>       <td>12.225</td> <th>  Durbin-Watson:     </th> <td>   2.488</td>\n",
       "</tr>\n",
       "<tr>\n",
       "  <th>Prob(Omnibus):</th> <td> 0.002</td> <th>  Jarque-Bera (JB):  </th> <td>  35.941</td>\n",
       "</tr>\n",
       "<tr>\n",
       "  <th>Skew:</th>          <td> 0.289</td> <th>  Prob(JB):          </th> <td>1.57e-08</td>\n",
       "</tr>\n",
       "<tr>\n",
       "  <th>Kurtosis:</th>      <td> 6.955</td> <th>  Cond. No.          </th> <td>    25.6</td>\n",
       "</tr>\n",
       "</table><br/><br/>Notes:<br/>[1] Standard Errors assume that the covariance matrix of the errors is correctly specified."
      ],
      "text/plain": [
       "<class 'statsmodels.iolib.summary.Summary'>\n",
       "\"\"\"\n",
       "                            OLS Regression Results                            \n",
       "==============================================================================\n",
       "Dep. Variable:                  value   R-squared:                       0.965\n",
       "Model:                            OLS   Adj. R-squared:                  0.948\n",
       "Method:                 Least Squares   F-statistic:                     58.33\n",
       "Date:                Sat, 11 Dec 2021   Prob (F-statistic):           4.29e-21\n",
       "Time:                        15:46:07   Log-Likelihood:                -37.909\n",
       "No. Observations:                  54   AIC:                             111.8\n",
       "Df Residuals:                      36   BIC:                             147.6\n",
       "Df Model:                          17                                         \n",
       "Covariance Type:            nonrobust                                         \n",
       "=======================================================================================================\n",
       "                                          coef    std err          t      P>|t|      [0.025      0.975]\n",
       "-------------------------------------------------------------------------------------------------------\n",
       "Intercept                               1.5800      0.345      4.576      0.000       0.880       2.280\n",
       "C(Genotype)[T.B]                        1.9400      0.488      3.973      0.000       0.950       2.930\n",
       "C(Genotype)[T.C]                        2.3200      0.488      4.752      0.000       1.330       3.310\n",
       "C(Genotype)[T.D]                        2.0700      0.488      4.240      0.000       1.080       3.060\n",
       "C(Genotype)[T.E]                        0.3400      0.488      0.696      0.491      -0.650       1.330\n",
       "C(Genotype)[T.F]                        2.8800      0.488      5.899      0.000       1.890       3.870\n",
       "C(years)[T.2_year]                      2.3800      0.488      4.875      0.000       1.390       3.370\n",
       "C(years)[T.3_year]                      4.7500      0.488      9.729      0.000       3.760       5.740\n",
       "C(Genotype)[T.B]:C(years)[T.2_year]     0.0900      0.690      0.130      0.897      -1.310       1.490\n",
       "C(Genotype)[T.C]:C(years)[T.2_year]    -0.1200      0.690     -0.174      0.863      -1.520       1.280\n",
       "C(Genotype)[T.D]:C(years)[T.2_year]    -0.6600      0.690     -0.956      0.346      -2.060       0.740\n",
       "C(Genotype)[T.E]:C(years)[T.2_year]     0.9300      0.690      1.347      0.186      -0.470       2.330\n",
       "C(Genotype)[T.F]:C(years)[T.2_year]    -1.6400      0.690     -2.375      0.023      -3.040      -0.240\n",
       "C(Genotype)[T.B]:C(years)[T.3_year]     0.2100      0.690      0.304      0.763      -1.190       1.610\n",
       "C(Genotype)[T.C]:C(years)[T.3_year]     1.3600      0.690      1.970      0.057      -0.040       2.760\n",
       "C(Genotype)[T.D]:C(years)[T.3_year]     2.1300      0.690      3.085      0.004       0.730       3.530\n",
       "C(Genotype)[T.E]:C(years)[T.3_year]     0.2100      0.690      0.304      0.763      -1.190       1.610\n",
       "C(Genotype)[T.F]:C(years)[T.3_year]     0.7200      0.690      1.043      0.304      -0.680       2.120\n",
       "==============================================================================\n",
       "Omnibus:                       12.225   Durbin-Watson:                   2.488\n",
       "Prob(Omnibus):                  0.002   Jarque-Bera (JB):               35.941\n",
       "Skew:                           0.289   Prob(JB):                     1.57e-08\n",
       "Kurtosis:                       6.955   Cond. No.                         25.6\n",
       "==============================================================================\n",
       "\n",
       "Notes:\n",
       "[1] Standard Errors assume that the covariance matrix of the errors is correctly specified.\n",
       "\"\"\""
      ]
     },
     "execution_count": 41,
     "metadata": {},
     "output_type": "execute_result"
    }
   ],
   "source": [
    "model = ols('value~C(Genotype)+C(years)+C(Genotype):C(years)', data=df_melt).fit()\n",
    "\n",
    "model.summary()"
   ]
  },
  {
   "cell_type": "code",
   "execution_count": 42,
   "id": "d331ea29",
   "metadata": {
    "ExecuteTime": {
     "end_time": "2021-12-11T12:46:23.443689Z",
     "start_time": "2021-12-11T12:46:23.431698Z"
    }
   },
   "outputs": [
    {
     "data": {
      "text/html": [
       "<div>\n",
       "<style scoped>\n",
       "    .dataframe tbody tr th:only-of-type {\n",
       "        vertical-align: middle;\n",
       "    }\n",
       "\n",
       "    .dataframe tbody tr th {\n",
       "        vertical-align: top;\n",
       "    }\n",
       "\n",
       "    .dataframe thead th {\n",
       "        text-align: right;\n",
       "    }\n",
       "</style>\n",
       "<table border=\"1\" class=\"dataframe\">\n",
       "  <thead>\n",
       "    <tr style=\"text-align: right;\">\n",
       "      <th></th>\n",
       "      <th>sum_sq</th>\n",
       "      <th>df</th>\n",
       "      <th>F</th>\n",
       "      <th>PR(&gt;F)</th>\n",
       "    </tr>\n",
       "  </thead>\n",
       "  <tbody>\n",
       "    <tr>\n",
       "      <th>C(Genotype)</th>\n",
       "      <td>58.551733</td>\n",
       "      <td>5.0</td>\n",
       "      <td>32.748581</td>\n",
       "      <td>1.931655e-12</td>\n",
       "    </tr>\n",
       "    <tr>\n",
       "      <th>C(years)</th>\n",
       "      <td>278.925633</td>\n",
       "      <td>2.0</td>\n",
       "      <td>390.014868</td>\n",
       "      <td>4.006243e-25</td>\n",
       "    </tr>\n",
       "    <tr>\n",
       "      <th>C(Genotype):C(years)</th>\n",
       "      <td>17.122967</td>\n",
       "      <td>10.0</td>\n",
       "      <td>4.788525</td>\n",
       "      <td>2.230094e-04</td>\n",
       "    </tr>\n",
       "    <tr>\n",
       "      <th>Residual</th>\n",
       "      <td>12.873000</td>\n",
       "      <td>36.0</td>\n",
       "      <td>NaN</td>\n",
       "      <td>NaN</td>\n",
       "    </tr>\n",
       "  </tbody>\n",
       "</table>\n",
       "</div>"
      ],
      "text/plain": [
       "                          sum_sq    df           F        PR(>F)\n",
       "C(Genotype)            58.551733   5.0   32.748581  1.931655e-12\n",
       "C(years)              278.925633   2.0  390.014868  4.006243e-25\n",
       "C(Genotype):C(years)   17.122967  10.0    4.788525  2.230094e-04\n",
       "Residual               12.873000  36.0         NaN           NaN"
      ]
     },
     "execution_count": 42,
     "metadata": {},
     "output_type": "execute_result"
    }
   ],
   "source": [
    "sm.stats.anova_lm(model, typ=2)"
   ]
  },
  {
   "cell_type": "code",
   "execution_count": 43,
   "id": "fee31bb6",
   "metadata": {
    "ExecuteTime": {
     "end_time": "2021-12-11T12:48:49.275204Z",
     "start_time": "2021-12-11T12:48:49.250795Z"
    }
   },
   "outputs": [
    {
     "data": {
      "text/html": [
       "<div>\n",
       "<style scoped>\n",
       "    .dataframe tbody tr th:only-of-type {\n",
       "        vertical-align: middle;\n",
       "    }\n",
       "\n",
       "    .dataframe tbody tr th {\n",
       "        vertical-align: top;\n",
       "    }\n",
       "\n",
       "    .dataframe thead th {\n",
       "        text-align: right;\n",
       "    }\n",
       "</style>\n",
       "<table border=\"1\" class=\"dataframe\">\n",
       "  <thead>\n",
       "    <tr style=\"text-align: right;\">\n",
       "      <th></th>\n",
       "      <th>df</th>\n",
       "      <th>sum_sq</th>\n",
       "      <th>mean_sq</th>\n",
       "      <th>F</th>\n",
       "      <th>PR(&gt;F)</th>\n",
       "    </tr>\n",
       "  </thead>\n",
       "  <tbody>\n",
       "    <tr>\n",
       "      <th>C(Genotype)</th>\n",
       "      <td>5.0</td>\n",
       "      <td>58.551733</td>\n",
       "      <td>11.710347</td>\n",
       "      <td>32.748581</td>\n",
       "      <td>1.931655e-12</td>\n",
       "    </tr>\n",
       "    <tr>\n",
       "      <th>C(years)</th>\n",
       "      <td>2.0</td>\n",
       "      <td>278.925633</td>\n",
       "      <td>139.462817</td>\n",
       "      <td>390.014868</td>\n",
       "      <td>4.006243e-25</td>\n",
       "    </tr>\n",
       "    <tr>\n",
       "      <th>C(Genotype):C(years)</th>\n",
       "      <td>10.0</td>\n",
       "      <td>17.122967</td>\n",
       "      <td>1.712297</td>\n",
       "      <td>4.788525</td>\n",
       "      <td>2.230094e-04</td>\n",
       "    </tr>\n",
       "    <tr>\n",
       "      <th>Residual</th>\n",
       "      <td>36.0</td>\n",
       "      <td>12.873000</td>\n",
       "      <td>0.357583</td>\n",
       "      <td>NaN</td>\n",
       "      <td>NaN</td>\n",
       "    </tr>\n",
       "  </tbody>\n",
       "</table>\n",
       "</div>"
      ],
      "text/plain": [
       "                        df      sum_sq     mean_sq           F        PR(>F)\n",
       "C(Genotype)            5.0   58.551733   11.710347   32.748581  1.931655e-12\n",
       "C(years)               2.0  278.925633  139.462817  390.014868  4.006243e-25\n",
       "C(Genotype):C(years)  10.0   17.122967    1.712297    4.788525  2.230094e-04\n",
       "Residual              36.0   12.873000    0.357583         NaN           NaN"
      ]
     },
     "execution_count": 43,
     "metadata": {},
     "output_type": "execute_result"
    }
   ],
   "source": [
    "res = stat()\n",
    "res.anova_stat(df=df_melt, res_var='value', anova_model='value~C(Genotype)+C(years)+C(Genotype):C(years)')\n",
    "res.anova_summary"
   ]
  },
  {
   "cell_type": "code",
   "execution_count": 44,
   "id": "e2199cdf",
   "metadata": {
    "ExecuteTime": {
     "end_time": "2021-12-11T12:50:23.205979Z",
     "start_time": "2021-12-11T12:50:23.203669Z"
    }
   },
   "outputs": [],
   "source": [
    "from statsmodels.graphics.factorplots import interaction_plot"
   ]
  },
  {
   "cell_type": "code",
   "execution_count": 45,
   "id": "7cb56664",
   "metadata": {
    "ExecuteTime": {
     "end_time": "2021-12-11T12:51:41.504910Z",
     "start_time": "2021-12-11T12:51:41.295407Z"
    }
   },
   "outputs": [
    {
     "data": {
      "image/png": "[encoded data removed]",
      "text/plain": [
       "<Figure size 432x288 with 1 Axes>"
      ]
     },
     "execution_count": 45,
     "metadata": {},
     "output_type": "execute_result"
    },
    {
     "data": {
      "image/png": "[encoded data removed]",
      "text/plain": [
       "<Figure size 432x288 with 1 Axes>"
      ]
     },
     "metadata": {
      "needs_background": "light"
     },
     "output_type": "display_data"
    }
   ],
   "source": [
    "interaction_plot(x=df_melt['Genotype'], trace=df_melt['years'], response=df_melt['value'])"
   ]
  },
  {
   "cell_type": "code",
   "execution_count": 46,
   "id": "4e0abbf6",
   "metadata": {
    "ExecuteTime": {
     "end_time": "2021-12-11T12:53:56.865156Z",
     "start_time": "2021-12-11T12:53:56.563329Z"
    }
   },
   "outputs": [
    {
     "data": {
      "text/html": [
       "<div>\n",
       "<style scoped>\n",
       "    .dataframe tbody tr th:only-of-type {\n",
       "        vertical-align: middle;\n",
       "    }\n",
       "\n",
       "    .dataframe tbody tr th {\n",
       "        vertical-align: top;\n",
       "    }\n",
       "\n",
       "    .dataframe thead th {\n",
       "        text-align: right;\n",
       "    }\n",
       "</style>\n",
       "<table border=\"1\" class=\"dataframe\">\n",
       "  <thead>\n",
       "    <tr style=\"text-align: right;\">\n",
       "      <th></th>\n",
       "      <th>group1</th>\n",
       "      <th>group2</th>\n",
       "      <th>Diff</th>\n",
       "      <th>Lower</th>\n",
       "      <th>Upper</th>\n",
       "      <th>q-value</th>\n",
       "      <th>p-value</th>\n",
       "    </tr>\n",
       "  </thead>\n",
       "  <tbody>\n",
       "    <tr>\n",
       "      <th>0</th>\n",
       "      <td>A</td>\n",
       "      <td>B</td>\n",
       "      <td>2.040000</td>\n",
       "      <td>1.191912</td>\n",
       "      <td>2.888088</td>\n",
       "      <td>10.234409</td>\n",
       "      <td>0.001000</td>\n",
       "    </tr>\n",
       "    <tr>\n",
       "      <th>1</th>\n",
       "      <td>A</td>\n",
       "      <td>C</td>\n",
       "      <td>2.733333</td>\n",
       "      <td>1.885245</td>\n",
       "      <td>3.581421</td>\n",
       "      <td>13.712771</td>\n",
       "      <td>0.001000</td>\n",
       "    </tr>\n",
       "    <tr>\n",
       "      <th>2</th>\n",
       "      <td>A</td>\n",
       "      <td>D</td>\n",
       "      <td>2.560000</td>\n",
       "      <td>1.711912</td>\n",
       "      <td>3.408088</td>\n",
       "      <td>12.843180</td>\n",
       "      <td>0.001000</td>\n",
       "    </tr>\n",
       "    <tr>\n",
       "      <th>3</th>\n",
       "      <td>A</td>\n",
       "      <td>E</td>\n",
       "      <td>0.720000</td>\n",
       "      <td>-0.128088</td>\n",
       "      <td>1.568088</td>\n",
       "      <td>3.612145</td>\n",
       "      <td>0.135306</td>\n",
       "    </tr>\n",
       "    <tr>\n",
       "      <th>4</th>\n",
       "      <td>A</td>\n",
       "      <td>F</td>\n",
       "      <td>2.573333</td>\n",
       "      <td>1.725245</td>\n",
       "      <td>3.421421</td>\n",
       "      <td>12.910072</td>\n",
       "      <td>0.001000</td>\n",
       "    </tr>\n",
       "    <tr>\n",
       "      <th>5</th>\n",
       "      <td>B</td>\n",
       "      <td>C</td>\n",
       "      <td>0.693333</td>\n",
       "      <td>-0.154755</td>\n",
       "      <td>1.541421</td>\n",
       "      <td>3.478361</td>\n",
       "      <td>0.163609</td>\n",
       "    </tr>\n",
       "    <tr>\n",
       "      <th>6</th>\n",
       "      <td>B</td>\n",
       "      <td>D</td>\n",
       "      <td>0.520000</td>\n",
       "      <td>-0.328088</td>\n",
       "      <td>1.368088</td>\n",
       "      <td>2.608771</td>\n",
       "      <td>0.453066</td>\n",
       "    </tr>\n",
       "    <tr>\n",
       "      <th>7</th>\n",
       "      <td>B</td>\n",
       "      <td>E</td>\n",
       "      <td>1.320000</td>\n",
       "      <td>0.471912</td>\n",
       "      <td>2.168088</td>\n",
       "      <td>6.622265</td>\n",
       "      <td>0.001000</td>\n",
       "    </tr>\n",
       "    <tr>\n",
       "      <th>8</th>\n",
       "      <td>B</td>\n",
       "      <td>F</td>\n",
       "      <td>0.533333</td>\n",
       "      <td>-0.314755</td>\n",
       "      <td>1.381421</td>\n",
       "      <td>2.675663</td>\n",
       "      <td>0.425189</td>\n",
       "    </tr>\n",
       "    <tr>\n",
       "      <th>9</th>\n",
       "      <td>C</td>\n",
       "      <td>D</td>\n",
       "      <td>0.173333</td>\n",
       "      <td>-0.674755</td>\n",
       "      <td>1.021421</td>\n",
       "      <td>0.869590</td>\n",
       "      <td>0.900000</td>\n",
       "    </tr>\n",
       "    <tr>\n",
       "      <th>10</th>\n",
       "      <td>C</td>\n",
       "      <td>E</td>\n",
       "      <td>2.013333</td>\n",
       "      <td>1.165245</td>\n",
       "      <td>2.861421</td>\n",
       "      <td>10.100626</td>\n",
       "      <td>0.001000</td>\n",
       "    </tr>\n",
       "    <tr>\n",
       "      <th>11</th>\n",
       "      <td>C</td>\n",
       "      <td>F</td>\n",
       "      <td>0.160000</td>\n",
       "      <td>-0.688088</td>\n",
       "      <td>1.008088</td>\n",
       "      <td>0.802699</td>\n",
       "      <td>0.900000</td>\n",
       "    </tr>\n",
       "    <tr>\n",
       "      <th>12</th>\n",
       "      <td>D</td>\n",
       "      <td>E</td>\n",
       "      <td>1.840000</td>\n",
       "      <td>0.991912</td>\n",
       "      <td>2.688088</td>\n",
       "      <td>9.231036</td>\n",
       "      <td>0.001000</td>\n",
       "    </tr>\n",
       "    <tr>\n",
       "      <th>13</th>\n",
       "      <td>D</td>\n",
       "      <td>F</td>\n",
       "      <td>0.013333</td>\n",
       "      <td>-0.834755</td>\n",
       "      <td>0.861421</td>\n",
       "      <td>0.066892</td>\n",
       "      <td>0.900000</td>\n",
       "    </tr>\n",
       "    <tr>\n",
       "      <th>14</th>\n",
       "      <td>E</td>\n",
       "      <td>F</td>\n",
       "      <td>1.853333</td>\n",
       "      <td>1.005245</td>\n",
       "      <td>2.701421</td>\n",
       "      <td>9.297928</td>\n",
       "      <td>0.001000</td>\n",
       "    </tr>\n",
       "  </tbody>\n",
       "</table>\n",
       "</div>"
      ],
      "text/plain": [
       "   group1 group2      Diff     Lower     Upper    q-value   p-value\n",
       "0       A      B  2.040000  1.191912  2.888088  10.234409  0.001000\n",
       "1       A      C  2.733333  1.885245  3.581421  13.712771  0.001000\n",
       "2       A      D  2.560000  1.711912  3.408088  12.843180  0.001000\n",
       "3       A      E  0.720000 -0.128088  1.568088   3.612145  0.135306\n",
       "4       A      F  2.573333  1.725245  3.421421  12.910072  0.001000\n",
       "5       B      C  0.693333 -0.154755  1.541421   3.478361  0.163609\n",
       "6       B      D  0.520000 -0.328088  1.368088   2.608771  0.453066\n",
       "7       B      E  1.320000  0.471912  2.168088   6.622265  0.001000\n",
       "8       B      F  0.533333 -0.314755  1.381421   2.675663  0.425189\n",
       "9       C      D  0.173333 -0.674755  1.021421   0.869590  0.900000\n",
       "10      C      E  2.013333  1.165245  2.861421  10.100626  0.001000\n",
       "11      C      F  0.160000 -0.688088  1.008088   0.802699  0.900000\n",
       "12      D      E  1.840000  0.991912  2.688088   9.231036  0.001000\n",
       "13      D      F  0.013333 -0.834755  0.861421   0.066892  0.900000\n",
       "14      E      F  1.853333  1.005245  2.701421   9.297928  0.001000"
      ]
     },
     "execution_count": 46,
     "metadata": {},
     "output_type": "execute_result"
    }
   ],
   "source": [
    "res = stat()\n",
    "\n",
    "res.tukey_hsd(df=df_melt, res_var='value', xfac_var='Genotype', anova_model='value~C(Genotype)+C(years)+C(Genotype):C(years)')\n",
    "res.tukey_summary"
   ]
  },
  {
   "cell_type": "code",
   "execution_count": 47,
   "id": "939b6aa2",
   "metadata": {
    "ExecuteTime": {
     "end_time": "2021-12-11T12:54:43.940637Z",
     "start_time": "2021-12-11T12:54:43.877917Z"
    }
   },
   "outputs": [
    {
     "data": {
      "text/html": [
       "<div>\n",
       "<style scoped>\n",
       "    .dataframe tbody tr th:only-of-type {\n",
       "        vertical-align: middle;\n",
       "    }\n",
       "\n",
       "    .dataframe tbody tr th {\n",
       "        vertical-align: top;\n",
       "    }\n",
       "\n",
       "    .dataframe thead th {\n",
       "        text-align: right;\n",
       "    }\n",
       "</style>\n",
       "<table border=\"1\" class=\"dataframe\">\n",
       "  <thead>\n",
       "    <tr style=\"text-align: right;\">\n",
       "      <th></th>\n",
       "      <th>group1</th>\n",
       "      <th>group2</th>\n",
       "      <th>Diff</th>\n",
       "      <th>Lower</th>\n",
       "      <th>Upper</th>\n",
       "      <th>q-value</th>\n",
       "      <th>p-value</th>\n",
       "    </tr>\n",
       "  </thead>\n",
       "  <tbody>\n",
       "    <tr>\n",
       "      <th>0</th>\n",
       "      <td>1_year</td>\n",
       "      <td>2_year</td>\n",
       "      <td>2.146667</td>\n",
       "      <td>1.659513</td>\n",
       "      <td>2.633821</td>\n",
       "      <td>15.230432</td>\n",
       "      <td>0.001</td>\n",
       "    </tr>\n",
       "    <tr>\n",
       "      <th>1</th>\n",
       "      <td>1_year</td>\n",
       "      <td>3_year</td>\n",
       "      <td>5.521667</td>\n",
       "      <td>5.034513</td>\n",
       "      <td>6.008821</td>\n",
       "      <td>39.175794</td>\n",
       "      <td>0.001</td>\n",
       "    </tr>\n",
       "    <tr>\n",
       "      <th>2</th>\n",
       "      <td>2_year</td>\n",
       "      <td>3_year</td>\n",
       "      <td>3.375000</td>\n",
       "      <td>2.887846</td>\n",
       "      <td>3.862154</td>\n",
       "      <td>23.945361</td>\n",
       "      <td>0.001</td>\n",
       "    </tr>\n",
       "  </tbody>\n",
       "</table>\n",
       "</div>"
      ],
      "text/plain": [
       "   group1  group2      Diff     Lower     Upper    q-value  p-value\n",
       "0  1_year  2_year  2.146667  1.659513  2.633821  15.230432    0.001\n",
       "1  1_year  3_year  5.521667  5.034513  6.008821  39.175794    0.001\n",
       "2  2_year  3_year  3.375000  2.887846  3.862154  23.945361    0.001"
      ]
     },
     "execution_count": 47,
     "metadata": {},
     "output_type": "execute_result"
    }
   ],
   "source": [
    "res.tukey_hsd(df=df_melt, res_var='value', xfac_var='years', anova_model='value~C(Genotype)+C(years)+C(Genotype):C(years)')\n",
    "res.tukey_summary"
   ]
  },
  {
   "cell_type": "code",
   "execution_count": 48,
   "id": "411ebbb3",
   "metadata": {
    "ExecuteTime": {
     "end_time": "2021-12-11T12:55:43.522129Z",
     "start_time": "2021-12-11T12:55:42.668976Z"
    }
   },
   "outputs": [
    {
     "data": {
      "text/html": [
       "<div>\n",
       "<style scoped>\n",
       "    .dataframe tbody tr th:only-of-type {\n",
       "        vertical-align: middle;\n",
       "    }\n",
       "\n",
       "    .dataframe tbody tr th {\n",
       "        vertical-align: top;\n",
       "    }\n",
       "\n",
       "    .dataframe thead th {\n",
       "        text-align: right;\n",
       "    }\n",
       "</style>\n",
       "<table border=\"1\" class=\"dataframe\">\n",
       "  <thead>\n",
       "    <tr style=\"text-align: right;\">\n",
       "      <th></th>\n",
       "      <th>group1</th>\n",
       "      <th>group2</th>\n",
       "      <th>Diff</th>\n",
       "      <th>Lower</th>\n",
       "      <th>Upper</th>\n",
       "      <th>q-value</th>\n",
       "      <th>p-value</th>\n",
       "    </tr>\n",
       "  </thead>\n",
       "  <tbody>\n",
       "    <tr>\n",
       "      <th>0</th>\n",
       "      <td>(A, 1_year)</td>\n",
       "      <td>(A, 2_year)</td>\n",
       "      <td>2.38</td>\n",
       "      <td>0.548861</td>\n",
       "      <td>4.211139</td>\n",
       "      <td>6.893646</td>\n",
       "      <td>0.002439</td>\n",
       "    </tr>\n",
       "    <tr>\n",
       "      <th>1</th>\n",
       "      <td>(A, 1_year)</td>\n",
       "      <td>(A, 3_year)</td>\n",
       "      <td>4.75</td>\n",
       "      <td>2.918861</td>\n",
       "      <td>6.581139</td>\n",
       "      <td>13.758326</td>\n",
       "      <td>0.001000</td>\n",
       "    </tr>\n",
       "    <tr>\n",
       "      <th>2</th>\n",
       "      <td>(A, 1_year)</td>\n",
       "      <td>(B, 1_year)</td>\n",
       "      <td>1.94</td>\n",
       "      <td>0.108861</td>\n",
       "      <td>3.771139</td>\n",
       "      <td>5.619190</td>\n",
       "      <td>0.028673</td>\n",
       "    </tr>\n",
       "    <tr>\n",
       "      <th>3</th>\n",
       "      <td>(A, 1_year)</td>\n",
       "      <td>(B, 2_year)</td>\n",
       "      <td>4.41</td>\n",
       "      <td>2.578861</td>\n",
       "      <td>6.241139</td>\n",
       "      <td>12.773520</td>\n",
       "      <td>0.001000</td>\n",
       "    </tr>\n",
       "    <tr>\n",
       "      <th>4</th>\n",
       "      <td>(A, 1_year)</td>\n",
       "      <td>(B, 3_year)</td>\n",
       "      <td>6.90</td>\n",
       "      <td>5.068861</td>\n",
       "      <td>8.731139</td>\n",
       "      <td>19.985779</td>\n",
       "      <td>0.001000</td>\n",
       "    </tr>\n",
       "    <tr>\n",
       "      <th>...</th>\n",
       "      <td>...</td>\n",
       "      <td>...</td>\n",
       "      <td>...</td>\n",
       "      <td>...</td>\n",
       "      <td>...</td>\n",
       "      <td>...</td>\n",
       "      <td>...</td>\n",
       "    </tr>\n",
       "    <tr>\n",
       "      <th>148</th>\n",
       "      <td>(E, 3_year)</td>\n",
       "      <td>(F, 2_year)</td>\n",
       "      <td>1.68</td>\n",
       "      <td>-0.151139</td>\n",
       "      <td>3.511139</td>\n",
       "      <td>4.866103</td>\n",
       "      <td>0.102966</td>\n",
       "    </tr>\n",
       "    <tr>\n",
       "      <th>149</th>\n",
       "      <td>(E, 3_year)</td>\n",
       "      <td>(F, 3_year)</td>\n",
       "      <td>3.05</td>\n",
       "      <td>1.218861</td>\n",
       "      <td>4.881139</td>\n",
       "      <td>8.834294</td>\n",
       "      <td>0.001000</td>\n",
       "    </tr>\n",
       "    <tr>\n",
       "      <th>150</th>\n",
       "      <td>(F, 1_year)</td>\n",
       "      <td>(F, 2_year)</td>\n",
       "      <td>0.74</td>\n",
       "      <td>-1.091139</td>\n",
       "      <td>2.571139</td>\n",
       "      <td>2.143402</td>\n",
       "      <td>0.900000</td>\n",
       "    </tr>\n",
       "    <tr>\n",
       "      <th>151</th>\n",
       "      <td>(F, 1_year)</td>\n",
       "      <td>(F, 3_year)</td>\n",
       "      <td>5.47</td>\n",
       "      <td>3.638861</td>\n",
       "      <td>7.301139</td>\n",
       "      <td>15.843799</td>\n",
       "      <td>0.001000</td>\n",
       "    </tr>\n",
       "    <tr>\n",
       "      <th>152</th>\n",
       "      <td>(F, 2_year)</td>\n",
       "      <td>(F, 3_year)</td>\n",
       "      <td>4.73</td>\n",
       "      <td>2.898861</td>\n",
       "      <td>6.561139</td>\n",
       "      <td>13.700396</td>\n",
       "      <td>0.001000</td>\n",
       "    </tr>\n",
       "  </tbody>\n",
       "</table>\n",
       "<p>153 rows × 7 columns</p>\n",
       "</div>"
      ],
      "text/plain": [
       "          group1       group2  Diff     Lower     Upper    q-value   p-value\n",
       "0    (A, 1_year)  (A, 2_year)  2.38  0.548861  4.211139   6.893646  0.002439\n",
       "1    (A, 1_year)  (A, 3_year)  4.75  2.918861  6.581139  13.758326  0.001000\n",
       "2    (A, 1_year)  (B, 1_year)  1.94  0.108861  3.771139   5.619190  0.028673\n",
       "3    (A, 1_year)  (B, 2_year)  4.41  2.578861  6.241139  12.773520  0.001000\n",
       "4    (A, 1_year)  (B, 3_year)  6.90  5.068861  8.731139  19.985779  0.001000\n",
       "..           ...          ...   ...       ...       ...        ...       ...\n",
       "148  (E, 3_year)  (F, 2_year)  1.68 -0.151139  3.511139   4.866103  0.102966\n",
       "149  (E, 3_year)  (F, 3_year)  3.05  1.218861  4.881139   8.834294  0.001000\n",
       "150  (F, 1_year)  (F, 2_year)  0.74 -1.091139  2.571139   2.143402  0.900000\n",
       "151  (F, 1_year)  (F, 3_year)  5.47  3.638861  7.301139  15.843799  0.001000\n",
       "152  (F, 2_year)  (F, 3_year)  4.73  2.898861  6.561139  13.700396  0.001000\n",
       "\n",
       "[153 rows x 7 columns]"
      ]
     },
     "execution_count": 48,
     "metadata": {},
     "output_type": "execute_result"
    }
   ],
   "source": [
    "res.tukey_hsd(df=df_melt, res_var='value', xfac_var=['Genotype', 'years'], anova_model='value~C(Genotype)+C(years)+C(Genotype):C(years)')\n",
    "res.tukey_summary"
   ]
  },
  {
   "cell_type": "code",
   "execution_count": 49,
   "id": "12dc3b88",
   "metadata": {
    "ExecuteTime": {
     "end_time": "2021-12-11T12:56:39.578598Z",
     "start_time": "2021-12-11T12:56:39.410844Z"
    }
   },
   "outputs": [
    {
     "name": "stderr",
     "output_type": "stream",
     "text": [
      "/home/xenakas/.local/lib/python3.9/site-packages/statsmodels/graphics/gofplots.py:993: UserWarning: marker is redundantly defined by the 'marker' keyword argument and the fmt string \"bo\" (-> marker='o'). The keyword argument will take precedence.\n",
      "  ax.plot(x, y, fmt, **plot_style)\n"
     ]
    },
    {
     "data": {
      "image/png": "[encoded data removed]",
      "text/plain": [
       "<Figure size 432x288 with 1 Axes>"
      ]
     },
     "execution_count": 49,
     "metadata": {},
     "output_type": "execute_result"
    },
    {
     "data": {
      "image/png": "[encoded data removed]",
      "text/plain": [
       "<Figure size 432x288 with 1 Axes>"
      ]
     },
     "metadata": {
      "needs_background": "light"
     },
     "output_type": "display_data"
    }
   ],
   "source": [
    "sm.qqplot(res.anova_std_residuals, line='45')"
   ]
  },
  {
   "cell_type": "code",
   "execution_count": 50,
   "id": "7c1ed0f2",
   "metadata": {
    "ExecuteTime": {
     "end_time": "2021-12-11T12:56:57.276152Z",
     "start_time": "2021-12-11T12:56:57.270721Z"
    }
   },
   "outputs": [
    {
     "data": {
      "text/plain": [
       "ShapiroResult(statistic=0.8978845477104187, pvalue=0.00023986827000044286)"
      ]
     },
     "execution_count": 50,
     "metadata": {},
     "output_type": "execute_result"
    }
   ],
   "source": [
    "stats.shapiro(model.resid)"
   ]
  },
  {
   "cell_type": "code",
   "execution_count": 51,
   "id": "67147478",
   "metadata": {
    "ExecuteTime": {
     "end_time": "2021-12-11T12:58:07.277860Z",
     "start_time": "2021-12-11T12:58:07.159539Z"
    }
   },
   "outputs": [
    {
     "data": {
      "text/plain": [
       "(array([ 1.,  0.,  2.,  8., 21., 16.,  3.,  1.,  1.,  1.]),\n",
       " array([-2.72583128, -2.15892526, -1.59201925, -1.02511323, -0.45820722,\n",
       "         0.10869879,  0.67560481,  1.24251082,  1.80941683,  2.37632285,\n",
       "         2.94322886]),\n",
       " <BarContainer object of 10 artists>)"
      ]
     },
     "execution_count": 51,
     "metadata": {},
     "output_type": "execute_result"
    },
    {
     "data": {
      "image/png": "[encoded data removed]",
      "text/plain": [
       "<Figure size 432x288 with 1 Axes>"
      ]
     },
     "metadata": {
      "needs_background": "light"
     },
     "output_type": "display_data"
    }
   ],
   "source": [
    "plt.hist(res.anova_std_residuals)"
   ]
  },
  {
   "cell_type": "code",
   "execution_count": 52,
   "id": "94355edb",
   "metadata": {
    "ExecuteTime": {
     "end_time": "2021-12-11T12:59:15.618580Z",
     "start_time": "2021-12-11T12:59:15.585874Z"
    }
   },
   "outputs": [
    {
     "data": {
      "text/html": [
       "<div>\n",
       "<style scoped>\n",
       "    .dataframe tbody tr th:only-of-type {\n",
       "        vertical-align: middle;\n",
       "    }\n",
       "\n",
       "    .dataframe tbody tr th {\n",
       "        vertical-align: top;\n",
       "    }\n",
       "\n",
       "    .dataframe thead th {\n",
       "        text-align: right;\n",
       "    }\n",
       "</style>\n",
       "<table border=\"1\" class=\"dataframe\">\n",
       "  <thead>\n",
       "    <tr style=\"text-align: right;\">\n",
       "      <th></th>\n",
       "      <th>Parameter</th>\n",
       "      <th>Value</th>\n",
       "    </tr>\n",
       "  </thead>\n",
       "  <tbody>\n",
       "    <tr>\n",
       "      <th>0</th>\n",
       "      <td>Test statistics (W)</td>\n",
       "      <td>1.6849</td>\n",
       "    </tr>\n",
       "    <tr>\n",
       "      <th>1</th>\n",
       "      <td>Degrees of freedom (Df)</td>\n",
       "      <td>17.0000</td>\n",
       "    </tr>\n",
       "    <tr>\n",
       "      <th>2</th>\n",
       "      <td>p value</td>\n",
       "      <td>0.0927</td>\n",
       "    </tr>\n",
       "  </tbody>\n",
       "</table>\n",
       "</div>"
      ],
      "text/plain": [
       "                 Parameter    Value\n",
       "0      Test statistics (W)   1.6849\n",
       "1  Degrees of freedom (Df)  17.0000\n",
       "2                  p value   0.0927"
      ]
     },
     "execution_count": 52,
     "metadata": {},
     "output_type": "execute_result"
    }
   ],
   "source": [
    "res = stat()\n",
    "res.levene(df=df_melt, res_var='value', xfac_var=['Genotype', 'years'])\n",
    "res.levene_summary"
   ]
  }
 ],
 "metadata": {
  "hide_input": false,
  "kernelspec": {
   "display_name": "Python 3 (ipykernel)",
   "language": "python",
   "name": "python3"
  },
  "language_info": {
   "codemirror_mode": {
    "name": "ipython",
    "version": 3
   },
   "file_extension": ".py",
   "mimetype": "text/x-python",
   "name": "python",
   "nbconvert_exporter": "python",
   "pygments_lexer": "ipython3",
   "version": "3.10.7"
  },
  "latex_envs": {
   "LaTeX_envs_menu_present": true,
   "autoclose": true,
   "autocomplete": true,
   "bibliofile": "biblio.bib",
   "cite_by": "apalike",
   "current_citInitial": 1,
   "eqLabelWithNumbers": true,
   "eqNumInitial": 1,
   "hotkeys": {
    "equation": "Ctrl-E",
    "itemize": "Ctrl-I"
   },
   "labels_anchors": false,
   "latex_user_defs": false,
   "report_style_numbering": false,
   "user_envs_cfg": false
  },
  "toc": {
   "base_numbering": 1,
   "nav_menu": {},
   "number_sections": true,
   "sideBar": true,
   "skip_h1_title": false,
   "title_cell": "Table of Contents",
   "title_sidebar": "Contents",
   "toc_cell": false,
   "toc_position": {},
   "toc_section_display": true,
   "toc_window_display": false
  },
  "varInspector": {
   "cols": {
    "lenName": 16,
    "lenType": 16,
    "lenVar": 40
   },
   "kernels_config": {
    "python": {
     "delete_cmd_postfix": "",
     "delete_cmd_prefix": "del ",
     "library": "var_list.py",
     "varRefreshCmd": "print(var_dic_list())"
    },
    "r": {
     "delete_cmd_postfix": ") ",
     "delete_cmd_prefix": "rm(",
     "library": "var_list.r",
     "varRefreshCmd": "cat(var_dic_list()) "
    }
   },
   "types_to_exclude": [
    "module",
    "function",
    "builtin_function_or_method",
    "instance",
    "_Feature"
   ],
   "window_display": false
  }
 },
 "nbformat": 4,
 "nbformat_minor": 5
}

{
 "cells": [
  {
   "cell_type": "markdown",
   "id": "4f746dba",
   "metadata": {},
   "source": [
    "### Sampling"
   ]
  },
  {
   "cell_type": "code",
   "execution_count": 1,
   "id": "2506f79a",
   "metadata": {
    "ExecuteTime": {
     "end_time": "2022-10-17T15:46:06.629884Z",
     "start_time": "2022-10-17T15:46:06.343037Z"
    }
   },
   "outputs": [],
   "source": [
    "import pandas as pd\n",
    "df = pd.read_csv(\"sample\")"
   ]
  },
  {
   "cell_type": "code",
   "execution_count": 4,
   "id": "3cf039f0",
   "metadata": {
    "ExecuteTime": {
     "end_time": "2022-10-17T15:47:25.890445Z",
     "start_time": "2022-10-17T15:47:25.878470Z"
    }
   },
   "outputs": [
    {
     "data": {
      "text/html": [
       "<div>\n",
       "<style scoped>\n",
       "    .dataframe tbody tr th:only-of-type {\n",
       "        vertical-align: middle;\n",
       "    }\n",
       "\n",
       "    .dataframe tbody tr th {\n",
       "        vertical-align: top;\n",
       "    }\n",
       "\n",
       "    .dataframe thead th {\n",
       "        text-align: right;\n",
       "    }\n",
       "</style>\n",
       "<table border=\"1\" class=\"dataframe\">\n",
       "  <thead>\n",
       "    <tr style=\"text-align: right;\">\n",
       "      <th></th>\n",
       "      <th>smoker</th>\n",
       "      <th>treatment</th>\n",
       "      <th>dead</th>\n",
       "    </tr>\n",
       "  </thead>\n",
       "  <tbody>\n",
       "    <tr>\n",
       "      <th>0</th>\n",
       "      <td>0</td>\n",
       "      <td>0</td>\n",
       "      <td>0</td>\n",
       "    </tr>\n",
       "    <tr>\n",
       "      <th>1</th>\n",
       "      <td>1</td>\n",
       "      <td>1</td>\n",
       "      <td>0</td>\n",
       "    </tr>\n",
       "    <tr>\n",
       "      <th>2</th>\n",
       "      <td>1</td>\n",
       "      <td>1</td>\n",
       "      <td>0</td>\n",
       "    </tr>\n",
       "    <tr>\n",
       "      <th>3</th>\n",
       "      <td>0</td>\n",
       "      <td>1</td>\n",
       "      <td>0</td>\n",
       "    </tr>\n",
       "    <tr>\n",
       "      <th>4</th>\n",
       "      <td>0</td>\n",
       "      <td>0</td>\n",
       "      <td>0</td>\n",
       "    </tr>\n",
       "    <tr>\n",
       "      <th>...</th>\n",
       "      <td>...</td>\n",
       "      <td>...</td>\n",
       "      <td>...</td>\n",
       "    </tr>\n",
       "    <tr>\n",
       "      <th>999995</th>\n",
       "      <td>0</td>\n",
       "      <td>0</td>\n",
       "      <td>0</td>\n",
       "    </tr>\n",
       "    <tr>\n",
       "      <th>999996</th>\n",
       "      <td>1</td>\n",
       "      <td>1</td>\n",
       "      <td>0</td>\n",
       "    </tr>\n",
       "    <tr>\n",
       "      <th>999997</th>\n",
       "      <td>0</td>\n",
       "      <td>0</td>\n",
       "      <td>0</td>\n",
       "    </tr>\n",
       "    <tr>\n",
       "      <th>999998</th>\n",
       "      <td>0</td>\n",
       "      <td>0</td>\n",
       "      <td>0</td>\n",
       "    </tr>\n",
       "    <tr>\n",
       "      <th>999999</th>\n",
       "      <td>0</td>\n",
       "      <td>0</td>\n",
       "      <td>0</td>\n",
       "    </tr>\n",
       "  </tbody>\n",
       "</table>\n",
       "<p>1000000 rows × 3 columns</p>\n",
       "</div>"
      ],
      "text/plain": [
       "        smoker  treatment  dead\n",
       "0            0          0     0\n",
       "1            1          1     0\n",
       "2            1          1     0\n",
       "3            0          1     0\n",
       "4            0          0     0\n",
       "...        ...        ...   ...\n",
       "999995       0          0     0\n",
       "999996       1          1     0\n",
       "999997       0          0     0\n",
       "999998       0          0     0\n",
       "999999       0          0     0\n",
       "\n",
       "[1000000 rows x 3 columns]"
      ]
     },
     "execution_count": 4,
     "metadata": {},
     "output_type": "execute_result"
    }
   ],
   "source": [
    "df"
   ]
  },
  {
   "cell_type": "code",
   "execution_count": 5,
   "id": "6caba073",
   "metadata": {
    "ExecuteTime": {
     "end_time": "2022-10-17T15:47:28.747634Z",
     "start_time": "2022-10-17T15:47:28.478989Z"
    },
    "scrolled": true
   },
   "outputs": [
    {
     "data": {
      "text/plain": [
       "array([[<AxesSubplot:title={'center':'smoker'}>,\n",
       "        <AxesSubplot:title={'center':'treatment'}>]], dtype=object)"
      ]
     },
     "execution_count": 5,
     "metadata": {},
     "output_type": "execute_result"
    },
    {
     "data": {
      "image/png": "[encoded data removed]",
      "text/plain": [
       "<Figure size 432x288 with 2 Axes>"
      ]
     },
     "metadata": {
      "needs_background": "light"
     },
     "output_type": "display_data"
    }
   ],
   "source": [
    "df.iloc[:,:2].hist()"
   ]
  },
  {
   "cell_type": "markdown",
   "id": "4a8da7ff",
   "metadata": {},
   "source": [
    "#### Simple Random Sampling"
   ]
  },
  {
   "cell_type": "code",
   "execution_count": 6,
   "id": "7e6b129c",
   "metadata": {
    "ExecuteTime": {
     "end_time": "2022-10-17T15:47:53.515287Z",
     "start_time": "2022-10-17T15:47:53.466186Z"
    }
   },
   "outputs": [],
   "source": [
    "sample_df = df.sample(5000)"
   ]
  },
  {
   "cell_type": "code",
   "execution_count": 7,
   "id": "0e169fa7",
   "metadata": {
    "ExecuteTime": {
     "end_time": "2022-10-17T15:47:56.220580Z",
     "start_time": "2022-10-17T15:47:56.049487Z"
    }
   },
   "outputs": [
    {
     "data": {
      "text/plain": [
       "array([[<AxesSubplot:title={'center':'smoker'}>,\n",
       "        <AxesSubplot:title={'center':'treatment'}>]], dtype=object)"
      ]
     },
     "execution_count": 7,
     "metadata": {},
     "output_type": "execute_result"
    },
    {
     "data": {
      "image/png": "[encoded data removed]",
      "text/plain": [
       "<Figure size 432x288 with 2 Axes>"
      ]
     },
     "metadata": {
      "needs_background": "light"
     },
     "output_type": "display_data"
    }
   ],
   "source": [
    "sample_df.iloc[:,:2].hist()"
   ]
  },
  {
   "cell_type": "markdown",
   "id": "6c92d79c",
   "metadata": {},
   "source": [
    "#### Stratified Sampling"
   ]
  },
  {
   "cell_type": "code",
   "execution_count": 8,
   "id": "cdbe1237",
   "metadata": {
    "ExecuteTime": {
     "end_time": "2022-10-17T15:49:14.619231Z",
     "start_time": "2022-10-17T15:49:14.616003Z"
    }
   },
   "outputs": [],
   "source": [
    "X = df.iloc[:,:2]\n",
    "y = df.iloc[:,2]"
   ]
  },
  {
   "cell_type": "code",
   "execution_count": 9,
   "id": "8a8c3f43",
   "metadata": {
    "ExecuteTime": {
     "end_time": "2022-10-17T15:49:55.848219Z",
     "start_time": "2022-10-17T15:49:54.993977Z"
    }
   },
   "outputs": [],
   "source": [
    "from sklearn.model_selection import train_test_split\n",
    "\n",
    "X_train, X_test, y_train, y_test = train_test_split(X, y,\n",
    "                                                    stratify=y, \n",
    "                                                    test_size=0.25)"
   ]
  },
  {
   "cell_type": "code",
   "execution_count": 10,
   "id": "733a9735",
   "metadata": {
    "ExecuteTime": {
     "end_time": "2022-10-17T15:50:01.281204Z",
     "start_time": "2022-10-17T15:50:01.278293Z"
    }
   },
   "outputs": [],
   "source": [
    "import matplotlib.pyplot as plt"
   ]
  },
  {
   "cell_type": "code",
   "execution_count": 11,
   "id": "40c26d63",
   "metadata": {
    "ExecuteTime": {
     "end_time": "2022-10-17T15:50:03.066368Z",
     "start_time": "2022-10-17T15:50:02.923557Z"
    }
   },
   "outputs": [
    {
     "data": {
      "text/plain": [
       "(array([[699177.,      0.,      0.,      0.,      0.,      0.,      0.,\n",
       "              0.,      0., 300823.],\n",
       "        [694225.,      0.,      0.,      0.,      0.,      0.,      0.,\n",
       "              0.,      0., 305775.]]),\n",
       " array([0. , 0.1, 0.2, 0.3, 0.4, 0.5, 0.6, 0.7, 0.8, 0.9, 1. ]),\n",
       " <a list of 2 BarContainer objects>)"
      ]
     },
     "execution_count": 11,
     "metadata": {},
     "output_type": "execute_result"
    },
    {
     "data": {
      "image/png": "[encoded data removed]",
      "text/plain": [
       "<Figure size 432x288 with 1 Axes>"
      ]
     },
     "metadata": {
      "needs_background": "light"
     },
     "output_type": "display_data"
    }
   ],
   "source": [
    "plt.hist(X)"
   ]
  },
  {
   "cell_type": "code",
   "execution_count": 12,
   "id": "daa27c6a",
   "metadata": {
    "ExecuteTime": {
     "end_time": "2022-10-17T15:50:11.890749Z",
     "start_time": "2022-10-17T15:50:11.756652Z"
    }
   },
   "outputs": [
    {
     "data": {
      "text/plain": [
       "(array([[524409.,      0.,      0.,      0.,      0.,      0.,      0.,\n",
       "              0.,      0., 225591.],\n",
       "        [520605.,      0.,      0.,      0.,      0.,      0.,      0.,\n",
       "              0.,      0., 229395.]]),\n",
       " array([0. , 0.1, 0.2, 0.3, 0.4, 0.5, 0.6, 0.7, 0.8, 0.9, 1. ]),\n",
       " <a list of 2 BarContainer objects>)"
      ]
     },
     "execution_count": 12,
     "metadata": {},
     "output_type": "execute_result"
    },
    {
     "data": {
      "image/png": "[encoded data removed]",
      "text/plain": [
       "<Figure size 432x288 with 1 Axes>"
      ]
     },
     "metadata": {
      "needs_background": "light"
     },
     "output_type": "display_data"
    }
   ],
   "source": [
    "plt.hist(X_train)"
   ]
  },
  {
   "cell_type": "code",
   "execution_count": 13,
   "id": "b3104740",
   "metadata": {
    "ExecuteTime": {
     "end_time": "2022-10-17T15:50:13.963989Z",
     "start_time": "2022-10-17T15:50:13.825298Z"
    }
   },
   "outputs": [
    {
     "data": {
      "text/plain": [
       "(array([553574.,      0.,      0.,      0.,      0.,      0.,      0.,\n",
       "             0.,      0., 196426.]),\n",
       " array([0. , 0.1, 0.2, 0.3, 0.4, 0.5, 0.6, 0.7, 0.8, 0.9, 1. ]),\n",
       " <BarContainer object of 10 artists>)"
      ]
     },
     "execution_count": 13,
     "metadata": {},
     "output_type": "execute_result"
    },
    {
     "data": {
      "image/png": "[encoded data removed]",
      "text/plain": [
       "<Figure size 432x288 with 1 Axes>"
      ]
     },
     "metadata": {
      "needs_background": "light"
     },
     "output_type": "display_data"
    }
   ],
   "source": [
    "plt.hist(y_train)"
   ]
  },
  {
   "cell_type": "code",
   "execution_count": 14,
   "id": "81e2732e",
   "metadata": {
    "ExecuteTime": {
     "end_time": "2022-10-17T15:50:16.736069Z",
     "start_time": "2022-10-17T15:50:16.606861Z"
    }
   },
   "outputs": [
    {
     "data": {
      "text/plain": [
       "(array([184525.,      0.,      0.,      0.,      0.,      0.,      0.,\n",
       "             0.,      0.,  65475.]),\n",
       " array([0. , 0.1, 0.2, 0.3, 0.4, 0.5, 0.6, 0.7, 0.8, 0.9, 1. ]),\n",
       " <BarContainer object of 10 artists>)"
      ]
     },
     "execution_count": 14,
     "metadata": {},
     "output_type": "execute_result"
    },
    {
     "data": {
      "image/png": "[encoded data removed]",
      "text/plain": [
       "<Figure size 432x288 with 1 Axes>"
      ]
     },
     "metadata": {
      "needs_background": "light"
     },
     "output_type": "display_data"
    }
   ],
   "source": [
    "plt.hist(y_test)"
   ]
  },
  {
   "cell_type": "markdown",
   "id": "9d659808",
   "metadata": {},
   "source": [
    "#### Reservoir Sampling'\n",
    "\n",
    "Let us assume we have to sample 5 objects out of an infinite stream such that each element has an equal probability of getting selected."
   ]
  },
  {
   "cell_type": "code",
   "execution_count": 15,
   "id": "dc0936bd",
   "metadata": {
    "ExecuteTime": {
     "end_time": "2022-10-17T15:51:18.925445Z",
     "start_time": "2022-10-17T15:51:18.918491Z"
    }
   },
   "outputs": [],
   "source": [
    "import random\n",
    "\n",
    "def generator(max):\n",
    "    number = 1\n",
    "    while number < max:\n",
    "        number += 1\n",
    "        yield number"
   ]
  },
  {
   "cell_type": "code",
   "execution_count": 16,
   "id": "02a7d22b",
   "metadata": {
    "ExecuteTime": {
     "end_time": "2022-10-17T15:51:27.698124Z",
     "start_time": "2022-10-17T15:51:27.690989Z"
    }
   },
   "outputs": [
    {
     "data": {
      "text/plain": [
       "<generator object generator at 0x7f72d15490e0>"
      ]
     },
     "execution_count": 16,
     "metadata": {},
     "output_type": "execute_result"
    }
   ],
   "source": [
    "# Create as stream generator\n",
    "stream = generator(10000)\n",
    "stream"
   ]
  },
  {
   "cell_type": "code",
   "execution_count": 17,
   "id": "b0199a74",
   "metadata": {
    "ExecuteTime": {
     "end_time": "2022-10-17T15:52:33.723064Z",
     "start_time": "2022-10-17T15:52:33.706023Z"
    }
   },
   "outputs": [],
   "source": [
    "# Doing Reservoir Sampling from the stream\n",
    "k=5\n",
    "reservoir = []\n",
    "for i, element in enumerate(stream):\n",
    "    if i+1<= k:\n",
    "        reservoir.append(element)\n",
    "    else:\n",
    "        probability = k/(i+1)\n",
    "        if random.random() < probability:\n",
    "            # Select item in stream and remove one of the k items already selected\n",
    "            reservoir[random.choice(range(0,k))] = element\n",
    "                       "
   ]
  },
  {
   "cell_type": "code",
   "execution_count": 19,
   "id": "e1ba4097",
   "metadata": {
    "ExecuteTime": {
     "end_time": "2022-10-17T15:52:47.736737Z",
     "start_time": "2022-10-17T15:52:47.732085Z"
    }
   },
   "outputs": [
    {
     "name": "stdout",
     "output_type": "stream",
     "text": [
      "[7128, 1441, 6312, 3294, 8106]\n"
     ]
    }
   ],
   "source": [
    "print(reservoir)"
   ]
  },
  {
   "cell_type": "markdown",
   "id": "ccdbab9b",
   "metadata": {},
   "source": [
    "#### Random Undersampling and Oversampling"
   ]
  },
  {
   "cell_type": "code",
   "execution_count": 20,
   "id": "d30216ee",
   "metadata": {
    "ExecuteTime": {
     "end_time": "2022-10-17T15:53:20.015312Z",
     "start_time": "2022-10-17T15:53:19.977857Z"
    }
   },
   "outputs": [],
   "source": [
    "from sklearn.datasets import make_classification\n",
    "\n",
    "X, y = make_classification(\n",
    "    n_classes=2, class_sep=1.5, weights=[0.9, 0.1],\n",
    "    n_informative=3, n_redundant=1, flip_y=0,\n",
    "    n_features=20, n_clusters_per_class=1,\n",
    "    n_samples=100, random_state=10\n",
    ")\n",
    "X = pd.DataFrame(X)\n",
    "X['target'] = y"
   ]
  },
  {
   "cell_type": "code",
   "execution_count": 22,
   "id": "fdde06cc",
   "metadata": {
    "ExecuteTime": {
     "end_time": "2022-10-17T15:53:47.187907Z",
     "start_time": "2022-10-17T15:53:47.182102Z"
    }
   },
   "outputs": [],
   "source": [
    "# X"
   ]
  },
  {
   "cell_type": "code",
   "execution_count": 23,
   "id": "11fd7be6",
   "metadata": {
    "ExecuteTime": {
     "end_time": "2022-10-17T15:53:48.538694Z",
     "start_time": "2022-10-17T15:53:48.437211Z"
    }
   },
   "outputs": [
    {
     "data": {
      "text/plain": [
       "<AxesSubplot:>"
      ]
     },
     "execution_count": 23,
     "metadata": {},
     "output_type": "execute_result"
    },
    {
     "data": {
      "image/png": "[encoded data removed]",
      "text/plain": [
       "<Figure size 432x288 with 1 Axes>"
      ]
     },
     "metadata": {
      "needs_background": "light"
     },
     "output_type": "display_data"
    }
   ],
   "source": [
    "X['target'].hist()"
   ]
  },
  {
   "cell_type": "code",
   "execution_count": 24,
   "id": "3142b4e5",
   "metadata": {
    "ExecuteTime": {
     "end_time": "2022-10-17T15:54:03.701188Z",
     "start_time": "2022-10-17T15:54:03.696055Z"
    }
   },
   "outputs": [
    {
     "name": "stdout",
     "output_type": "stream",
     "text": [
      "90 10\n"
     ]
    }
   ],
   "source": [
    "num_0 = len(X[X['target']==0])\n",
    "num_1 = len(X[X['target']==1])\n",
    "\n",
    "print(num_0,num_1)"
   ]
  },
  {
   "cell_type": "code",
   "execution_count": 25,
   "id": "f8f8f503",
   "metadata": {
    "ExecuteTime": {
     "end_time": "2022-10-17T15:54:34.371950Z",
     "start_time": "2022-10-17T15:54:34.362197Z"
    }
   },
   "outputs": [
    {
     "name": "stdout",
     "output_type": "stream",
     "text": [
      "20\n"
     ]
    }
   ],
   "source": [
    "# random undersample\n",
    "undersampled_data = pd.concat([X[X['target']==0].sample(num_1), \n",
    "                               X[X['target']==1]])\n",
    "print(len(undersampled_data))"
   ]
  },
  {
   "cell_type": "code",
   "execution_count": 26,
   "id": "8dde32e1",
   "metadata": {
    "ExecuteTime": {
     "end_time": "2022-10-17T15:54:43.381945Z",
     "start_time": "2022-10-17T15:54:43.269484Z"
    }
   },
   "outputs": [
    {
     "data": {
      "text/plain": [
       "<AxesSubplot:>"
      ]
     },
     "execution_count": 26,
     "metadata": {},
     "output_type": "execute_result"
    },
    {
     "data": {
      "image/png": "[encoded data removed]",
      "text/plain": [
       "<Figure size 432x288 with 1 Axes>"
      ]
     },
     "metadata": {
      "needs_background": "light"
     },
     "output_type": "display_data"
    }
   ],
   "source": [
    "undersampled_data['target'].hist()"
   ]
  },
  {
   "cell_type": "code",
   "execution_count": 28,
   "id": "33f5a02f",
   "metadata": {
    "ExecuteTime": {
     "end_time": "2022-10-17T15:55:16.380075Z",
     "start_time": "2022-10-17T15:55:16.374217Z"
    }
   },
   "outputs": [
    {
     "name": "stdout",
     "output_type": "stream",
     "text": [
      "180\n"
     ]
    }
   ],
   "source": [
    "# random oversample\n",
    "oversampled_data = pd.concat([X[X['target']==0], \n",
    "                    X[X['target']==1].sample(num_0, replace=True) ])\n",
    "print(len(oversampled_data))"
   ]
  },
  {
   "cell_type": "code",
   "execution_count": 30,
   "id": "1f21a49d",
   "metadata": {
    "ExecuteTime": {
     "end_time": "2022-10-17T15:55:52.977840Z",
     "start_time": "2022-10-17T15:55:52.859014Z"
    }
   },
   "outputs": [
    {
     "data": {
      "text/plain": [
       "<AxesSubplot:>"
      ]
     },
     "execution_count": 30,
     "metadata": {},
     "output_type": "execute_result"
    },
    {
     "data": {
      "image/png": "[encoded data removed]",
      "text/plain": [
       "<Figure size 432x288 with 1 Axes>"
      ]
     },
     "metadata": {
      "needs_background": "light"
     },
     "output_type": "display_data"
    }
   ],
   "source": [
    "oversampled_data['target'].hist()"
   ]
  },
  {
   "cell_type": "code",
   "execution_count": 31,
   "id": "894cb0b2",
   "metadata": {
    "ExecuteTime": {
     "end_time": "2022-10-17T15:56:20.105288Z",
     "start_time": "2022-10-17T15:56:20.066947Z"
    }
   },
   "outputs": [
    {
     "data": {
      "text/plain": [
       "(1442, 558)"
      ]
     },
     "execution_count": 31,
     "metadata": {},
     "output_type": "execute_result"
    }
   ],
   "source": [
    "df = df.sample(2000)\n",
    "X = df.iloc[:,:2]\n",
    "y = df.iloc[:,2]\n",
    "n_0 = df.loc[df['smoker']==0,].shape[0]\n",
    "n_1 = df.loc[df['smoker']==1,].shape[0]\n",
    "n_0, n_1"
   ]
  },
  {
   "cell_type": "code",
   "execution_count": 32,
   "id": "962a67a9",
   "metadata": {
    "ExecuteTime": {
     "end_time": "2022-10-17T15:56:23.389437Z",
     "start_time": "2022-10-17T15:56:23.379983Z"
    }
   },
   "outputs": [
    {
     "data": {
      "text/plain": [
       "(1116, 3)"
      ]
     },
     "execution_count": 32,
     "metadata": {},
     "output_type": "execute_result"
    }
   ],
   "source": [
    "df_under = pd.concat([df.loc[df['smoker']==0,].sample(n_1), \n",
    "                      df.loc[df['smoker']==1,]])\n",
    "df_under.shape"
   ]
  },
  {
   "cell_type": "code",
   "execution_count": 33,
   "id": "c55706b0",
   "metadata": {
    "ExecuteTime": {
     "end_time": "2022-10-17T15:56:26.124765Z",
     "start_time": "2022-10-17T15:56:26.113602Z"
    }
   },
   "outputs": [
    {
     "data": {
      "text/plain": [
       "(2884, 3)"
      ]
     },
     "execution_count": 33,
     "metadata": {},
     "output_type": "execute_result"
    }
   ],
   "source": [
    "df_over = pd.concat([df.loc[df['smoker']==0,], \n",
    "                     df.loc[df['smoker']==1,].sample(n_0, replace=True)])\n",
    "df_over.shape"
   ]
  },
  {
   "cell_type": "code",
   "execution_count": 34,
   "id": "6b408475",
   "metadata": {
    "ExecuteTime": {
     "end_time": "2022-10-17T15:56:33.352412Z",
     "start_time": "2022-10-17T15:56:33.204005Z"
    }
   },
   "outputs": [
    {
     "data": {
      "image/png": "[encoded data removed]",
      "text/plain": [
       "<Figure size 432x288 with 1 Axes>"
      ]
     },
     "metadata": {
      "needs_background": "light"
     },
     "output_type": "display_data"
    }
   ],
   "source": [
    "plt.hist(df);"
   ]
  },
  {
   "cell_type": "code",
   "execution_count": 35,
   "id": "e4f07b6c",
   "metadata": {
    "ExecuteTime": {
     "end_time": "2022-10-17T15:56:57.725647Z",
     "start_time": "2022-10-17T15:56:57.592798Z"
    }
   },
   "outputs": [
    {
     "data": {
      "image/png": "[encoded data removed]",
      "text/plain": [
       "<Figure size 432x288 with 1 Axes>"
      ]
     },
     "metadata": {
      "needs_background": "light"
     },
     "output_type": "display_data"
    }
   ],
   "source": [
    "plt.hist(df_under);"
   ]
  },
  {
   "cell_type": "code",
   "execution_count": 36,
   "id": "faf2421d",
   "metadata": {
    "ExecuteTime": {
     "end_time": "2022-10-17T15:57:04.892212Z",
     "start_time": "2022-10-17T15:57:04.752149Z"
    }
   },
   "outputs": [
    {
     "data": {
      "image/png": "[encoded data removed]",
      "text/plain": [
       "<Figure size 432x288 with 1 Axes>"
      ]
     },
     "metadata": {
      "needs_background": "light"
     },
     "output_type": "display_data"
    }
   ],
   "source": [
    "plt.hist(df_over);"
   ]
  },
  {
   "cell_type": "markdown",
   "id": "aacaa67b",
   "metadata": {},
   "source": [
    "#### Undersampling and Oversampling using imbalanced-learn\n",
    "\n",
    "Undersampling using Tomek Links:"
   ]
  },
  {
   "cell_type": "code",
   "execution_count": 37,
   "id": "2e7fd115",
   "metadata": {
    "ExecuteTime": {
     "end_time": "2022-10-17T15:57:42.491397Z",
     "start_time": "2022-10-17T15:57:42.429960Z"
    }
   },
   "outputs": [],
   "source": [
    "from imblearn.under_sampling import TomekLinks"
   ]
  },
  {
   "cell_type": "code",
   "execution_count": 38,
   "id": "e7c9c0d8",
   "metadata": {
    "ExecuteTime": {
     "end_time": "2022-10-17T15:57:50.125110Z",
     "start_time": "2022-10-17T15:57:50.121564Z"
    }
   },
   "outputs": [],
   "source": [
    "df = df.sample(1000)\n",
    "X = df.iloc[:,:2]\n",
    "y = df.iloc[:,2]"
   ]
  },
  {
   "cell_type": "code",
   "execution_count": 44,
   "id": "b0836797",
   "metadata": {
    "ExecuteTime": {
     "end_time": "2022-10-17T15:58:40.376773Z",
     "start_time": "2022-10-17T15:58:40.354909Z"
    }
   },
   "outputs": [],
   "source": [
    "tl = TomekLinks(sampling_strategy='all')\n",
    "X_tl, y_tl = tl.fit_resample(X, y)"
   ]
  },
  {
   "cell_type": "code",
   "execution_count": 45,
   "id": "3976b645",
   "metadata": {
    "ExecuteTime": {
     "end_time": "2022-10-17T15:58:41.028846Z",
     "start_time": "2022-10-17T15:58:41.024916Z"
    }
   },
   "outputs": [
    {
     "data": {
      "text/plain": [
       "(1000, 2)"
      ]
     },
     "execution_count": 45,
     "metadata": {},
     "output_type": "execute_result"
    }
   ],
   "source": [
    "X.shape"
   ]
  },
  {
   "cell_type": "code",
   "execution_count": 46,
   "id": "c307c644",
   "metadata": {
    "ExecuteTime": {
     "end_time": "2022-10-17T15:58:42.094546Z",
     "start_time": "2022-10-17T15:58:42.089958Z"
    }
   },
   "outputs": [
    {
     "data": {
      "text/plain": [
       "(1000, 2)"
      ]
     },
     "execution_count": 46,
     "metadata": {},
     "output_type": "execute_result"
    }
   ],
   "source": [
    "X_tl.shape"
   ]
  },
  {
   "cell_type": "code",
   "execution_count": 51,
   "id": "0a8ce6b9",
   "metadata": {
    "ExecuteTime": {
     "end_time": "2022-10-17T16:02:17.686163Z",
     "start_time": "2022-10-17T16:02:17.675703Z"
    }
   },
   "outputs": [],
   "source": [
    "from sklearn.datasets import make_classification\n",
    "\n",
    "X, y = make_classification(\n",
    "    n_classes=2, class_sep=1, weights=[0.9, 0.1],\n",
    "    n_informative=3, n_redundant=1, flip_y=0,\n",
    "    n_features=5, n_clusters_per_class=1,\n",
    "    n_samples=2000, random_state=10\n",
    ")\n",
    "X = pd.DataFrame(X)\n",
    "# X['target'] = y"
   ]
  },
  {
   "cell_type": "code",
   "execution_count": 52,
   "id": "18494551",
   "metadata": {
    "ExecuteTime": {
     "end_time": "2022-10-17T16:02:19.148308Z",
     "start_time": "2022-10-17T16:02:19.121744Z"
    }
   },
   "outputs": [],
   "source": [
    "tl = TomekLinks(sampling_strategy='all')\n",
    "X_tl, y_tl = tl.fit_resample(X, y)"
   ]
  },
  {
   "cell_type": "code",
   "execution_count": 53,
   "id": "f70fa112",
   "metadata": {
    "ExecuteTime": {
     "end_time": "2022-10-17T16:02:22.285977Z",
     "start_time": "2022-10-17T16:02:22.268148Z"
    }
   },
   "outputs": [
    {
     "data": {
      "text/html": [
       "<div>\n",
       "<style scoped>\n",
       "    .dataframe tbody tr th:only-of-type {\n",
       "        vertical-align: middle;\n",
       "    }\n",
       "\n",
       "    .dataframe tbody tr th {\n",
       "        vertical-align: top;\n",
       "    }\n",
       "\n",
       "    .dataframe thead th {\n",
       "        text-align: right;\n",
       "    }\n",
       "</style>\n",
       "<table border=\"1\" class=\"dataframe\">\n",
       "  <thead>\n",
       "    <tr style=\"text-align: right;\">\n",
       "      <th></th>\n",
       "      <th>0</th>\n",
       "      <th>1</th>\n",
       "      <th>2</th>\n",
       "      <th>3</th>\n",
       "      <th>4</th>\n",
       "    </tr>\n",
       "  </thead>\n",
       "  <tbody>\n",
       "    <tr>\n",
       "      <th>0</th>\n",
       "      <td>-0.300431</td>\n",
       "      <td>2.743623</td>\n",
       "      <td>-1.668624</td>\n",
       "      <td>-0.158884</td>\n",
       "      <td>-2.028424</td>\n",
       "    </tr>\n",
       "    <tr>\n",
       "      <th>1</th>\n",
       "      <td>-1.416955</td>\n",
       "      <td>0.444884</td>\n",
       "      <td>-0.083284</td>\n",
       "      <td>0.056711</td>\n",
       "      <td>-0.428537</td>\n",
       "    </tr>\n",
       "    <tr>\n",
       "      <th>2</th>\n",
       "      <td>-0.656180</td>\n",
       "      <td>-0.559487</td>\n",
       "      <td>-0.442037</td>\n",
       "      <td>1.050268</td>\n",
       "      <td>-1.504402</td>\n",
       "    </tr>\n",
       "    <tr>\n",
       "      <th>3</th>\n",
       "      <td>-0.674820</td>\n",
       "      <td>-0.589581</td>\n",
       "      <td>-0.564160</td>\n",
       "      <td>0.824297</td>\n",
       "      <td>-1.484781</td>\n",
       "    </tr>\n",
       "    <tr>\n",
       "      <th>4</th>\n",
       "      <td>-0.932148</td>\n",
       "      <td>0.072430</td>\n",
       "      <td>-1.087150</td>\n",
       "      <td>-0.576109</td>\n",
       "      <td>-1.097841</td>\n",
       "    </tr>\n",
       "    <tr>\n",
       "      <th>...</th>\n",
       "      <td>...</td>\n",
       "      <td>...</td>\n",
       "      <td>...</td>\n",
       "      <td>...</td>\n",
       "      <td>...</td>\n",
       "    </tr>\n",
       "    <tr>\n",
       "      <th>1995</th>\n",
       "      <td>-1.169177</td>\n",
       "      <td>1.826104</td>\n",
       "      <td>0.337431</td>\n",
       "      <td>1.185924</td>\n",
       "      <td>-0.733842</td>\n",
       "    </tr>\n",
       "    <tr>\n",
       "      <th>1996</th>\n",
       "      <td>-1.821701</td>\n",
       "      <td>-1.318251</td>\n",
       "      <td>0.462608</td>\n",
       "      <td>0.063047</td>\n",
       "      <td>0.171394</td>\n",
       "    </tr>\n",
       "    <tr>\n",
       "      <th>1997</th>\n",
       "      <td>-0.590174</td>\n",
       "      <td>2.550448</td>\n",
       "      <td>-0.482356</td>\n",
       "      <td>0.477820</td>\n",
       "      <td>-1.094828</td>\n",
       "    </tr>\n",
       "    <tr>\n",
       "      <th>1998</th>\n",
       "      <td>-1.879125</td>\n",
       "      <td>-0.124437</td>\n",
       "      <td>1.260463</td>\n",
       "      <td>1.231785</td>\n",
       "      <td>0.248062</td>\n",
       "    </tr>\n",
       "    <tr>\n",
       "      <th>1999</th>\n",
       "      <td>-2.612008</td>\n",
       "      <td>-0.536224</td>\n",
       "      <td>1.747008</td>\n",
       "      <td>0.526077</td>\n",
       "      <td>1.264913</td>\n",
       "    </tr>\n",
       "  </tbody>\n",
       "</table>\n",
       "<p>2000 rows × 5 columns</p>\n",
       "</div>"
      ],
      "text/plain": [
       "             0         1         2         3         4\n",
       "0    -0.300431  2.743623 -1.668624 -0.158884 -2.028424\n",
       "1    -1.416955  0.444884 -0.083284  0.056711 -0.428537\n",
       "2    -0.656180 -0.559487 -0.442037  1.050268 -1.504402\n",
       "3    -0.674820 -0.589581 -0.564160  0.824297 -1.484781\n",
       "4    -0.932148  0.072430 -1.087150 -0.576109 -1.097841\n",
       "...        ...       ...       ...       ...       ...\n",
       "1995 -1.169177  1.826104  0.337431  1.185924 -0.733842\n",
       "1996 -1.821701 -1.318251  0.462608  0.063047  0.171394\n",
       "1997 -0.590174  2.550448 -0.482356  0.477820 -1.094828\n",
       "1998 -1.879125 -0.124437  1.260463  1.231785  0.248062\n",
       "1999 -2.612008 -0.536224  1.747008  0.526077  1.264913\n",
       "\n",
       "[2000 rows x 5 columns]"
      ]
     },
     "execution_count": 53,
     "metadata": {},
     "output_type": "execute_result"
    }
   ],
   "source": [
    "X"
   ]
  },
  {
   "cell_type": "code",
   "execution_count": 54,
   "id": "7ab328dc",
   "metadata": {
    "ExecuteTime": {
     "end_time": "2022-10-17T16:02:25.628236Z",
     "start_time": "2022-10-17T16:02:25.610906Z"
    }
   },
   "outputs": [
    {
     "data": {
      "text/html": [
       "<div>\n",
       "<style scoped>\n",
       "    .dataframe tbody tr th:only-of-type {\n",
       "        vertical-align: middle;\n",
       "    }\n",
       "\n",
       "    .dataframe tbody tr th {\n",
       "        vertical-align: top;\n",
       "    }\n",
       "\n",
       "    .dataframe thead th {\n",
       "        text-align: right;\n",
       "    }\n",
       "</style>\n",
       "<table border=\"1\" class=\"dataframe\">\n",
       "  <thead>\n",
       "    <tr style=\"text-align: right;\">\n",
       "      <th></th>\n",
       "      <th>0</th>\n",
       "      <th>1</th>\n",
       "      <th>2</th>\n",
       "      <th>3</th>\n",
       "      <th>4</th>\n",
       "    </tr>\n",
       "  </thead>\n",
       "  <tbody>\n",
       "    <tr>\n",
       "      <th>0</th>\n",
       "      <td>-0.300431</td>\n",
       "      <td>2.743623</td>\n",
       "      <td>-1.668624</td>\n",
       "      <td>-0.158884</td>\n",
       "      <td>-2.028424</td>\n",
       "    </tr>\n",
       "    <tr>\n",
       "      <th>1</th>\n",
       "      <td>-1.416955</td>\n",
       "      <td>0.444884</td>\n",
       "      <td>-0.083284</td>\n",
       "      <td>0.056711</td>\n",
       "      <td>-0.428537</td>\n",
       "    </tr>\n",
       "    <tr>\n",
       "      <th>2</th>\n",
       "      <td>-0.656180</td>\n",
       "      <td>-0.559487</td>\n",
       "      <td>-0.442037</td>\n",
       "      <td>1.050268</td>\n",
       "      <td>-1.504402</td>\n",
       "    </tr>\n",
       "    <tr>\n",
       "      <th>3</th>\n",
       "      <td>-0.674820</td>\n",
       "      <td>-0.589581</td>\n",
       "      <td>-0.564160</td>\n",
       "      <td>0.824297</td>\n",
       "      <td>-1.484781</td>\n",
       "    </tr>\n",
       "    <tr>\n",
       "      <th>4</th>\n",
       "      <td>-0.932148</td>\n",
       "      <td>0.072430</td>\n",
       "      <td>-1.087150</td>\n",
       "      <td>-0.576109</td>\n",
       "      <td>-1.097841</td>\n",
       "    </tr>\n",
       "    <tr>\n",
       "      <th>...</th>\n",
       "      <td>...</td>\n",
       "      <td>...</td>\n",
       "      <td>...</td>\n",
       "      <td>...</td>\n",
       "      <td>...</td>\n",
       "    </tr>\n",
       "    <tr>\n",
       "      <th>1987</th>\n",
       "      <td>-1.169177</td>\n",
       "      <td>1.826104</td>\n",
       "      <td>0.337431</td>\n",
       "      <td>1.185924</td>\n",
       "      <td>-0.733842</td>\n",
       "    </tr>\n",
       "    <tr>\n",
       "      <th>1988</th>\n",
       "      <td>-1.821701</td>\n",
       "      <td>-1.318251</td>\n",
       "      <td>0.462608</td>\n",
       "      <td>0.063047</td>\n",
       "      <td>0.171394</td>\n",
       "    </tr>\n",
       "    <tr>\n",
       "      <th>1989</th>\n",
       "      <td>-0.590174</td>\n",
       "      <td>2.550448</td>\n",
       "      <td>-0.482356</td>\n",
       "      <td>0.477820</td>\n",
       "      <td>-1.094828</td>\n",
       "    </tr>\n",
       "    <tr>\n",
       "      <th>1990</th>\n",
       "      <td>-1.879125</td>\n",
       "      <td>-0.124437</td>\n",
       "      <td>1.260463</td>\n",
       "      <td>1.231785</td>\n",
       "      <td>0.248062</td>\n",
       "    </tr>\n",
       "    <tr>\n",
       "      <th>1991</th>\n",
       "      <td>-2.612008</td>\n",
       "      <td>-0.536224</td>\n",
       "      <td>1.747008</td>\n",
       "      <td>0.526077</td>\n",
       "      <td>1.264913</td>\n",
       "    </tr>\n",
       "  </tbody>\n",
       "</table>\n",
       "<p>1992 rows × 5 columns</p>\n",
       "</div>"
      ],
      "text/plain": [
       "             0         1         2         3         4\n",
       "0    -0.300431  2.743623 -1.668624 -0.158884 -2.028424\n",
       "1    -1.416955  0.444884 -0.083284  0.056711 -0.428537\n",
       "2    -0.656180 -0.559487 -0.442037  1.050268 -1.504402\n",
       "3    -0.674820 -0.589581 -0.564160  0.824297 -1.484781\n",
       "4    -0.932148  0.072430 -1.087150 -0.576109 -1.097841\n",
       "...        ...       ...       ...       ...       ...\n",
       "1987 -1.169177  1.826104  0.337431  1.185924 -0.733842\n",
       "1988 -1.821701 -1.318251  0.462608  0.063047  0.171394\n",
       "1989 -0.590174  2.550448 -0.482356  0.477820 -1.094828\n",
       "1990 -1.879125 -0.124437  1.260463  1.231785  0.248062\n",
       "1991 -2.612008 -0.536224  1.747008  0.526077  1.264913\n",
       "\n",
       "[1992 rows x 5 columns]"
      ]
     },
     "execution_count": 54,
     "metadata": {},
     "output_type": "execute_result"
    }
   ],
   "source": [
    "X_tl"
   ]
  },
  {
   "cell_type": "code",
   "execution_count": null,
   "id": "59b18b9e",
   "metadata": {
    "ExecuteTime": {
     "end_time": "2022-10-17T13:13:56.546244Z",
     "start_time": "2022-10-17T13:13:56.541863Z"
    }
   },
   "outputs": [],
   "source": [
    "# X_tl"
   ]
  },
  {
   "cell_type": "markdown",
   "id": "f6833c44",
   "metadata": {},
   "source": [
    "Oversampling using SMOTE:"
   ]
  },
  {
   "cell_type": "code",
   "execution_count": 56,
   "id": "9b76c943",
   "metadata": {
    "ExecuteTime": {
     "end_time": "2022-10-17T16:03:21.714139Z",
     "start_time": "2022-10-17T16:03:21.520300Z"
    }
   },
   "outputs": [],
   "source": [
    "df = pd.read_csv(\"sample\")\n",
    "df = df.sample(1000)\n",
    "X = df.iloc[:,:2]\n",
    "y = df.iloc[:,2]"
   ]
  },
  {
   "cell_type": "code",
   "execution_count": 57,
   "id": "40dccb69",
   "metadata": {
    "ExecuteTime": {
     "end_time": "2022-10-17T16:03:22.238193Z",
     "start_time": "2022-10-17T16:03:22.108495Z"
    }
   },
   "outputs": [
    {
     "data": {
      "text/plain": [
       "(array([[728.,   0.,   0.,   0.,   0.,   0.,   0.,   0.,   0., 272.],\n",
       "        [690.,   0.,   0.,   0.,   0.,   0.,   0.,   0.,   0., 310.]]),\n",
       " array([0. , 0.1, 0.2, 0.3, 0.4, 0.5, 0.6, 0.7, 0.8, 0.9, 1. ]),\n",
       " <a list of 2 BarContainer objects>)"
      ]
     },
     "execution_count": 57,
     "metadata": {},
     "output_type": "execute_result"
    },
    {
     "data": {
      "image/png": "[encoded data removed]",
      "text/plain": [
       "<Figure size 432x288 with 1 Axes>"
      ]
     },
     "metadata": {
      "needs_background": "light"
     },
     "output_type": "display_data"
    }
   ],
   "source": [
    "plt.hist(X)\n",
    "# plt.hist(y)"
   ]
  },
  {
   "cell_type": "code",
   "execution_count": 58,
   "id": "c7c3614b",
   "metadata": {
    "ExecuteTime": {
     "end_time": "2022-10-17T16:03:28.609075Z",
     "start_time": "2022-10-17T16:03:28.602105Z"
    }
   },
   "outputs": [
    {
     "data": {
      "text/plain": [
       "(728, 272)"
      ]
     },
     "execution_count": 58,
     "metadata": {},
     "output_type": "execute_result"
    }
   ],
   "source": [
    "n_0 = df.loc[df['smoker']==0,].shape[0]\n",
    "n_1 = df.loc[df['smoker']==1,].shape[0]\n",
    "n_0, n_1"
   ]
  },
  {
   "cell_type": "code",
   "execution_count": 59,
   "id": "773f232d",
   "metadata": {
    "ExecuteTime": {
     "end_time": "2022-10-17T16:03:35.241957Z",
     "start_time": "2022-10-17T16:03:35.233239Z"
    }
   },
   "outputs": [],
   "source": [
    "from imblearn.over_sampling import SMOTE\n",
    "\n",
    "smote = SMOTE(sampling_strategy='minority')\n",
    "X_sm, y_sm = smote.fit_resample(X, y)"
   ]
  },
  {
   "cell_type": "code",
   "execution_count": 60,
   "id": "dfb279ce",
   "metadata": {
    "ExecuteTime": {
     "end_time": "2022-10-17T16:03:49.541171Z",
     "start_time": "2022-10-17T16:03:49.406329Z"
    }
   },
   "outputs": [
    {
     "data": {
      "text/plain": [
       "(array([[ 896.,    0.,    0.,    0.,    0.,    0.,    0.,    0.,    0.,\n",
       "          630.],\n",
       "        [1012.,    0.,    0.,    0.,    0.,    0.,    0.,    0.,    0.,\n",
       "          514.]]),\n",
       " array([0. , 0.1, 0.2, 0.3, 0.4, 0.5, 0.6, 0.7, 0.8, 0.9, 1. ]),\n",
       " <a list of 2 BarContainer objects>)"
      ]
     },
     "execution_count": 60,
     "metadata": {},
     "output_type": "execute_result"
    },
    {
     "data": {
      "image/png": "[encoded data removed]",
      "text/plain": [
       "<Figure size 432x288 with 1 Axes>"
      ]
     },
     "metadata": {
      "needs_background": "light"
     },
     "output_type": "display_data"
    }
   ],
   "source": [
    "plt.hist(X_sm)\n",
    "# plt.hist(y_sm)"
   ]
  },
  {
   "cell_type": "markdown",
   "id": "b38b5361",
   "metadata": {},
   "source": [
    "There are a variety of other methods in the imblearn package for both undersampling(Cluster Centroids, NearMiss, etc.) and oversampling(ADASYN and bSMOTE) that you can check out."
   ]
  },
  {
   "cell_type": "markdown",
   "id": "e85528b6",
   "metadata": {
    "ExecuteTime": {
     "end_time": "2022-10-17T10:28:29.044705Z",
     "start_time": "2022-10-17T10:28:29.041683Z"
    }
   },
   "source": [
    "### Multiple hypothesis testing"
   ]
  },
  {
   "cell_type": "code",
   "execution_count": 61,
   "id": "9dac2aa3",
   "metadata": {
    "ExecuteTime": {
     "end_time": "2022-10-17T16:23:47.036761Z",
     "start_time": "2022-10-17T16:23:47.030581Z"
    }
   },
   "outputs": [],
   "source": [
    "import pandas as pd#Import the data samples\n",
    "from multipy.data import neuhaus#Import the FWER methods \n",
    "from multipy.fwer import bonferroni, holm_bonferroni#Import the FDR methods (LSU is the other name for BH method)\n",
    "from multipy.fdr import lsu"
   ]
  },
  {
   "cell_type": "markdown",
   "id": "d604d324",
   "metadata": {},
   "source": [
    "Let’s assume we have 15 features, and we already did our hypothesis testing for each feature."
   ]
  },
  {
   "cell_type": "code",
   "execution_count": 62,
   "id": "14da47e6",
   "metadata": {
    "ExecuteTime": {
     "end_time": "2022-10-17T16:24:06.221618Z",
     "start_time": "2022-10-17T16:24:06.213881Z"
    }
   },
   "outputs": [
    {
     "data": {
      "text/html": [
       "<div>\n",
       "<style scoped>\n",
       "    .dataframe tbody tr th:only-of-type {\n",
       "        vertical-align: middle;\n",
       "    }\n",
       "\n",
       "    .dataframe tbody tr th {\n",
       "        vertical-align: top;\n",
       "    }\n",
       "\n",
       "    .dataframe thead th {\n",
       "        text-align: right;\n",
       "    }\n",
       "</style>\n",
       "<table border=\"1\" class=\"dataframe\">\n",
       "  <thead>\n",
       "    <tr style=\"text-align: right;\">\n",
       "      <th></th>\n",
       "      <th>Features</th>\n",
       "      <th>P-value</th>\n",
       "    </tr>\n",
       "  </thead>\n",
       "  <tbody>\n",
       "    <tr>\n",
       "      <th>0</th>\n",
       "      <td>Feature 1</td>\n",
       "      <td>0.0001</td>\n",
       "    </tr>\n",
       "    <tr>\n",
       "      <th>1</th>\n",
       "      <td>Feature 2</td>\n",
       "      <td>0.0004</td>\n",
       "    </tr>\n",
       "    <tr>\n",
       "      <th>2</th>\n",
       "      <td>Feature 3</td>\n",
       "      <td>0.0019</td>\n",
       "    </tr>\n",
       "    <tr>\n",
       "      <th>3</th>\n",
       "      <td>Feature 4</td>\n",
       "      <td>0.0095</td>\n",
       "    </tr>\n",
       "    <tr>\n",
       "      <th>4</th>\n",
       "      <td>Feature 5</td>\n",
       "      <td>0.0201</td>\n",
       "    </tr>\n",
       "    <tr>\n",
       "      <th>5</th>\n",
       "      <td>Feature 6</td>\n",
       "      <td>0.0278</td>\n",
       "    </tr>\n",
       "    <tr>\n",
       "      <th>6</th>\n",
       "      <td>Feature 7</td>\n",
       "      <td>0.0298</td>\n",
       "    </tr>\n",
       "    <tr>\n",
       "      <th>7</th>\n",
       "      <td>Feature 8</td>\n",
       "      <td>0.0344</td>\n",
       "    </tr>\n",
       "    <tr>\n",
       "      <th>8</th>\n",
       "      <td>Feature 9</td>\n",
       "      <td>0.0459</td>\n",
       "    </tr>\n",
       "    <tr>\n",
       "      <th>9</th>\n",
       "      <td>Feature 10</td>\n",
       "      <td>0.3240</td>\n",
       "    </tr>\n",
       "    <tr>\n",
       "      <th>10</th>\n",
       "      <td>Feature 11</td>\n",
       "      <td>0.4262</td>\n",
       "    </tr>\n",
       "    <tr>\n",
       "      <th>11</th>\n",
       "      <td>Feature 12</td>\n",
       "      <td>0.5719</td>\n",
       "    </tr>\n",
       "    <tr>\n",
       "      <th>12</th>\n",
       "      <td>Feature 13</td>\n",
       "      <td>0.6528</td>\n",
       "    </tr>\n",
       "    <tr>\n",
       "      <th>13</th>\n",
       "      <td>Feature 14</td>\n",
       "      <td>0.7590</td>\n",
       "    </tr>\n",
       "    <tr>\n",
       "      <th>14</th>\n",
       "      <td>Feature 15</td>\n",
       "      <td>1.0000</td>\n",
       "    </tr>\n",
       "  </tbody>\n",
       "</table>\n",
       "</div>"
      ],
      "text/plain": [
       "      Features  P-value\n",
       "0    Feature 1   0.0001\n",
       "1    Feature 2   0.0004\n",
       "2    Feature 3   0.0019\n",
       "3    Feature 4   0.0095\n",
       "4    Feature 5   0.0201\n",
       "5    Feature 6   0.0278\n",
       "6    Feature 7   0.0298\n",
       "7    Feature 8   0.0344\n",
       "8    Feature 9   0.0459\n",
       "9   Feature 10   0.3240\n",
       "10  Feature 11   0.4262\n",
       "11  Feature 12   0.5719\n",
       "12  Feature 13   0.6528\n",
       "13  Feature 14   0.7590\n",
       "14  Feature 15   1.0000"
      ]
     },
     "execution_count": 62,
     "metadata": {},
     "output_type": "execute_result"
    }
   ],
   "source": [
    "pvals = neuhaus()\n",
    "df = pd.DataFrame({'Features': ['Feature {}'.format(i) for i in range(1,len(pvals)+1  )], 'P-value':pvals})\n",
    "df"
   ]
  },
  {
   "cell_type": "code",
   "execution_count": 64,
   "id": "46e540bd",
   "metadata": {
    "ExecuteTime": {
     "end_time": "2022-10-17T16:24:53.018156Z",
     "start_time": "2022-10-17T16:24:53.006939Z"
    }
   },
   "outputs": [
    {
     "data": {
      "text/html": [
       "<div>\n",
       "<style scoped>\n",
       "    .dataframe tbody tr th:only-of-type {\n",
       "        vertical-align: middle;\n",
       "    }\n",
       "\n",
       "    .dataframe tbody tr th {\n",
       "        vertical-align: top;\n",
       "    }\n",
       "\n",
       "    .dataframe thead th {\n",
       "        text-align: right;\n",
       "    }\n",
       "</style>\n",
       "<table border=\"1\" class=\"dataframe\">\n",
       "  <thead>\n",
       "    <tr style=\"text-align: right;\">\n",
       "      <th></th>\n",
       "      <th>Features</th>\n",
       "      <th>P-value</th>\n",
       "      <th>bonferroni</th>\n",
       "    </tr>\n",
       "  </thead>\n",
       "  <tbody>\n",
       "    <tr>\n",
       "      <th>0</th>\n",
       "      <td>Feature 1</td>\n",
       "      <td>0.0001</td>\n",
       "      <td>True</td>\n",
       "    </tr>\n",
       "    <tr>\n",
       "      <th>1</th>\n",
       "      <td>Feature 2</td>\n",
       "      <td>0.0004</td>\n",
       "      <td>True</td>\n",
       "    </tr>\n",
       "    <tr>\n",
       "      <th>2</th>\n",
       "      <td>Feature 3</td>\n",
       "      <td>0.0019</td>\n",
       "      <td>True</td>\n",
       "    </tr>\n",
       "    <tr>\n",
       "      <th>3</th>\n",
       "      <td>Feature 4</td>\n",
       "      <td>0.0095</td>\n",
       "      <td>False</td>\n",
       "    </tr>\n",
       "    <tr>\n",
       "      <th>4</th>\n",
       "      <td>Feature 5</td>\n",
       "      <td>0.0201</td>\n",
       "      <td>False</td>\n",
       "    </tr>\n",
       "    <tr>\n",
       "      <th>5</th>\n",
       "      <td>Feature 6</td>\n",
       "      <td>0.0278</td>\n",
       "      <td>False</td>\n",
       "    </tr>\n",
       "    <tr>\n",
       "      <th>6</th>\n",
       "      <td>Feature 7</td>\n",
       "      <td>0.0298</td>\n",
       "      <td>False</td>\n",
       "    </tr>\n",
       "    <tr>\n",
       "      <th>7</th>\n",
       "      <td>Feature 8</td>\n",
       "      <td>0.0344</td>\n",
       "      <td>False</td>\n",
       "    </tr>\n",
       "    <tr>\n",
       "      <th>8</th>\n",
       "      <td>Feature 9</td>\n",
       "      <td>0.0459</td>\n",
       "      <td>False</td>\n",
       "    </tr>\n",
       "    <tr>\n",
       "      <th>9</th>\n",
       "      <td>Feature 10</td>\n",
       "      <td>0.3240</td>\n",
       "      <td>False</td>\n",
       "    </tr>\n",
       "    <tr>\n",
       "      <th>10</th>\n",
       "      <td>Feature 11</td>\n",
       "      <td>0.4262</td>\n",
       "      <td>False</td>\n",
       "    </tr>\n",
       "    <tr>\n",
       "      <th>11</th>\n",
       "      <td>Feature 12</td>\n",
       "      <td>0.5719</td>\n",
       "      <td>False</td>\n",
       "    </tr>\n",
       "    <tr>\n",
       "      <th>12</th>\n",
       "      <td>Feature 13</td>\n",
       "      <td>0.6528</td>\n",
       "      <td>False</td>\n",
       "    </tr>\n",
       "    <tr>\n",
       "      <th>13</th>\n",
       "      <td>Feature 14</td>\n",
       "      <td>0.7590</td>\n",
       "      <td>False</td>\n",
       "    </tr>\n",
       "    <tr>\n",
       "      <th>14</th>\n",
       "      <td>Feature 15</td>\n",
       "      <td>1.0000</td>\n",
       "      <td>False</td>\n",
       "    </tr>\n",
       "  </tbody>\n",
       "</table>\n",
       "</div>"
      ],
      "text/plain": [
       "      Features  P-value  bonferroni\n",
       "0    Feature 1   0.0001        True\n",
       "1    Feature 2   0.0004        True\n",
       "2    Feature 3   0.0019        True\n",
       "3    Feature 4   0.0095       False\n",
       "4    Feature 5   0.0201       False\n",
       "5    Feature 6   0.0278       False\n",
       "6    Feature 7   0.0298       False\n",
       "7    Feature 8   0.0344       False\n",
       "8    Feature 9   0.0459       False\n",
       "9   Feature 10   0.3240       False\n",
       "10  Feature 11   0.4262       False\n",
       "11  Feature 12   0.5719       False\n",
       "12  Feature 13   0.6528       False\n",
       "13  Feature 14   0.7590       False\n",
       "14  Feature 15   1.0000       False"
      ]
     },
     "execution_count": 64,
     "metadata": {},
     "output_type": "execute_result"
    }
   ],
   "source": [
    "# Now, let’s try the Bonferroni Correction to our data sample\n",
    "#Set the alpha level for your desired significant level\n",
    "df['bonferroni'] = bonferroni(pvals, alpha = 0.05)\n",
    "df"
   ]
  },
  {
   "cell_type": "code",
   "execution_count": null,
   "id": "364a6490",
   "metadata": {
    "ExecuteTime": {
     "end_time": "2022-10-17T13:16:31.659086Z",
     "start_time": "2022-10-17T13:16:31.652097Z"
    }
   },
   "outputs": [],
   "source": [
    "# bonferroni(pvals, alpha = 0.05)"
   ]
  },
  {
   "cell_type": "code",
   "execution_count": 65,
   "id": "3c2fc8e3",
   "metadata": {
    "ExecuteTime": {
     "end_time": "2022-10-17T16:25:30.933698Z",
     "start_time": "2022-10-17T16:25:30.925382Z"
    }
   },
   "outputs": [
    {
     "data": {
      "text/html": [
       "<div>\n",
       "<style scoped>\n",
       "    .dataframe tbody tr th:only-of-type {\n",
       "        vertical-align: middle;\n",
       "    }\n",
       "\n",
       "    .dataframe tbody tr th {\n",
       "        vertical-align: top;\n",
       "    }\n",
       "\n",
       "    .dataframe thead th {\n",
       "        text-align: right;\n",
       "    }\n",
       "</style>\n",
       "<table border=\"1\" class=\"dataframe\">\n",
       "  <thead>\n",
       "    <tr style=\"text-align: right;\">\n",
       "      <th></th>\n",
       "      <th>Features</th>\n",
       "      <th>P-value</th>\n",
       "      <th>bonferroni</th>\n",
       "      <th>holm_bonferroni</th>\n",
       "    </tr>\n",
       "  </thead>\n",
       "  <tbody>\n",
       "    <tr>\n",
       "      <th>0</th>\n",
       "      <td>Feature 1</td>\n",
       "      <td>0.0001</td>\n",
       "      <td>True</td>\n",
       "      <td>True</td>\n",
       "    </tr>\n",
       "    <tr>\n",
       "      <th>1</th>\n",
       "      <td>Feature 2</td>\n",
       "      <td>0.0004</td>\n",
       "      <td>True</td>\n",
       "      <td>True</td>\n",
       "    </tr>\n",
       "    <tr>\n",
       "      <th>2</th>\n",
       "      <td>Feature 3</td>\n",
       "      <td>0.0019</td>\n",
       "      <td>True</td>\n",
       "      <td>True</td>\n",
       "    </tr>\n",
       "    <tr>\n",
       "      <th>3</th>\n",
       "      <td>Feature 4</td>\n",
       "      <td>0.0095</td>\n",
       "      <td>False</td>\n",
       "      <td>False</td>\n",
       "    </tr>\n",
       "    <tr>\n",
       "      <th>4</th>\n",
       "      <td>Feature 5</td>\n",
       "      <td>0.0201</td>\n",
       "      <td>False</td>\n",
       "      <td>False</td>\n",
       "    </tr>\n",
       "    <tr>\n",
       "      <th>5</th>\n",
       "      <td>Feature 6</td>\n",
       "      <td>0.0278</td>\n",
       "      <td>False</td>\n",
       "      <td>False</td>\n",
       "    </tr>\n",
       "    <tr>\n",
       "      <th>6</th>\n",
       "      <td>Feature 7</td>\n",
       "      <td>0.0298</td>\n",
       "      <td>False</td>\n",
       "      <td>False</td>\n",
       "    </tr>\n",
       "    <tr>\n",
       "      <th>7</th>\n",
       "      <td>Feature 8</td>\n",
       "      <td>0.0344</td>\n",
       "      <td>False</td>\n",
       "      <td>False</td>\n",
       "    </tr>\n",
       "    <tr>\n",
       "      <th>8</th>\n",
       "      <td>Feature 9</td>\n",
       "      <td>0.0459</td>\n",
       "      <td>False</td>\n",
       "      <td>False</td>\n",
       "    </tr>\n",
       "    <tr>\n",
       "      <th>9</th>\n",
       "      <td>Feature 10</td>\n",
       "      <td>0.3240</td>\n",
       "      <td>False</td>\n",
       "      <td>False</td>\n",
       "    </tr>\n",
       "    <tr>\n",
       "      <th>10</th>\n",
       "      <td>Feature 11</td>\n",
       "      <td>0.4262</td>\n",
       "      <td>False</td>\n",
       "      <td>False</td>\n",
       "    </tr>\n",
       "    <tr>\n",
       "      <th>11</th>\n",
       "      <td>Feature 12</td>\n",
       "      <td>0.5719</td>\n",
       "      <td>False</td>\n",
       "      <td>False</td>\n",
       "    </tr>\n",
       "    <tr>\n",
       "      <th>12</th>\n",
       "      <td>Feature 13</td>\n",
       "      <td>0.6528</td>\n",
       "      <td>False</td>\n",
       "      <td>False</td>\n",
       "    </tr>\n",
       "    <tr>\n",
       "      <th>13</th>\n",
       "      <td>Feature 14</td>\n",
       "      <td>0.7590</td>\n",
       "      <td>False</td>\n",
       "      <td>False</td>\n",
       "    </tr>\n",
       "    <tr>\n",
       "      <th>14</th>\n",
       "      <td>Feature 15</td>\n",
       "      <td>1.0000</td>\n",
       "      <td>False</td>\n",
       "      <td>False</td>\n",
       "    </tr>\n",
       "  </tbody>\n",
       "</table>\n",
       "</div>"
      ],
      "text/plain": [
       "      Features  P-value  bonferroni  holm_bonferroni\n",
       "0    Feature 1   0.0001        True             True\n",
       "1    Feature 2   0.0004        True             True\n",
       "2    Feature 3   0.0019        True             True\n",
       "3    Feature 4   0.0095       False            False\n",
       "4    Feature 5   0.0201       False            False\n",
       "5    Feature 6   0.0278       False            False\n",
       "6    Feature 7   0.0298       False            False\n",
       "7    Feature 8   0.0344       False            False\n",
       "8    Feature 9   0.0459       False            False\n",
       "9   Feature 10   0.3240       False            False\n",
       "10  Feature 11   0.4262       False            False\n",
       "11  Feature 12   0.5719       False            False\n",
       "12  Feature 13   0.6528       False            False\n",
       "13  Feature 14   0.7590       False            False\n",
       "14  Feature 15   1.0000       False            False"
      ]
     },
     "execution_count": 65,
     "metadata": {},
     "output_type": "execute_result"
    }
   ],
   "source": [
    "df['holm_bonferroni'] = holm_bonferroni(pvals, alpha = 0.05)\n",
    "df"
   ]
  },
  {
   "cell_type": "code",
   "execution_count": 66,
   "id": "4b949ac5",
   "metadata": {
    "ExecuteTime": {
     "end_time": "2022-10-17T16:25:48.469132Z",
     "start_time": "2022-10-17T16:25:48.457630Z"
    }
   },
   "outputs": [
    {
     "name": "stderr",
     "output_type": "stream",
     "text": [
      "/home/xenakas/.local/lib/python3.10/site-packages/statsmodels/stats/multitest.py:155: RuntimeWarning: divide by zero encountered in log1p\n",
      "  pvals_corrected = -np.expm1(ntests * np.log1p(-pvals))\n"
     ]
    }
   ],
   "source": [
    "from statsmodels.stats.multitest import multipletests\n",
    "reject, p_value_corrected, sidak, bonferroni =  multipletests(pvals, alpha = 0.05, method='sidak')\n",
    "df['sidak'] = reject\n",
    "df['sidak_p'] = p_value_corrected"
   ]
  },
  {
   "cell_type": "code",
   "execution_count": 68,
   "id": "41200427",
   "metadata": {
    "ExecuteTime": {
     "end_time": "2022-10-17T16:26:32.668036Z",
     "start_time": "2022-10-17T16:26:32.665192Z"
    }
   },
   "outputs": [],
   "source": [
    "# df"
   ]
  },
  {
   "cell_type": "code",
   "execution_count": 69,
   "id": "b8de5f89",
   "metadata": {
    "ExecuteTime": {
     "end_time": "2022-10-17T16:26:34.491075Z",
     "start_time": "2022-10-17T16:26:34.485669Z"
    }
   },
   "outputs": [
    {
     "name": "stderr",
     "output_type": "stream",
     "text": [
      "/home/xenakas/.local/lib/python3.10/site-packages/statsmodels/stats/multitest.py:177: RuntimeWarning: divide by zero encountered in log1p\n",
      "  np.log1p(-pvals))\n"
     ]
    }
   ],
   "source": [
    "reject, p_value_corrected, sidak, bonferroni =  multipletests(pvals, alpha = 0.05, method='holm-sidak')\n",
    "df['holm-sidak'] = reject\n",
    "df['holm-sidak_p'] = p_value_corrected"
   ]
  },
  {
   "cell_type": "code",
   "execution_count": 70,
   "id": "783f6505",
   "metadata": {
    "ExecuteTime": {
     "end_time": "2022-10-17T16:26:45.656391Z",
     "start_time": "2022-10-17T16:26:45.637719Z"
    }
   },
   "outputs": [
    {
     "data": {
      "text/html": [
       "<div>\n",
       "<style scoped>\n",
       "    .dataframe tbody tr th:only-of-type {\n",
       "        vertical-align: middle;\n",
       "    }\n",
       "\n",
       "    .dataframe tbody tr th {\n",
       "        vertical-align: top;\n",
       "    }\n",
       "\n",
       "    .dataframe thead th {\n",
       "        text-align: right;\n",
       "    }\n",
       "</style>\n",
       "<table border=\"1\" class=\"dataframe\">\n",
       "  <thead>\n",
       "    <tr style=\"text-align: right;\">\n",
       "      <th></th>\n",
       "      <th>Features</th>\n",
       "      <th>P-value</th>\n",
       "      <th>bonferroni</th>\n",
       "      <th>holm_bonferroni</th>\n",
       "      <th>sidak</th>\n",
       "      <th>sidak_p</th>\n",
       "      <th>holm-sidak</th>\n",
       "      <th>holm-sidak_p</th>\n",
       "    </tr>\n",
       "  </thead>\n",
       "  <tbody>\n",
       "    <tr>\n",
       "      <th>0</th>\n",
       "      <td>Feature 1</td>\n",
       "      <td>0.0001</td>\n",
       "      <td>True</td>\n",
       "      <td>True</td>\n",
       "      <td>True</td>\n",
       "      <td>0.001499</td>\n",
       "      <td>True</td>\n",
       "      <td>0.001499</td>\n",
       "    </tr>\n",
       "    <tr>\n",
       "      <th>1</th>\n",
       "      <td>Feature 2</td>\n",
       "      <td>0.0004</td>\n",
       "      <td>True</td>\n",
       "      <td>True</td>\n",
       "      <td>True</td>\n",
       "      <td>0.005983</td>\n",
       "      <td>True</td>\n",
       "      <td>0.005585</td>\n",
       "    </tr>\n",
       "    <tr>\n",
       "      <th>2</th>\n",
       "      <td>Feature 3</td>\n",
       "      <td>0.0019</td>\n",
       "      <td>True</td>\n",
       "      <td>True</td>\n",
       "      <td>True</td>\n",
       "      <td>0.028124</td>\n",
       "      <td>True</td>\n",
       "      <td>0.024420</td>\n",
       "    </tr>\n",
       "    <tr>\n",
       "      <th>3</th>\n",
       "      <td>Feature 4</td>\n",
       "      <td>0.0095</td>\n",
       "      <td>False</td>\n",
       "      <td>False</td>\n",
       "      <td>False</td>\n",
       "      <td>0.133403</td>\n",
       "      <td>False</td>\n",
       "      <td>0.108228</td>\n",
       "    </tr>\n",
       "    <tr>\n",
       "      <th>4</th>\n",
       "      <td>Feature 5</td>\n",
       "      <td>0.0201</td>\n",
       "      <td>False</td>\n",
       "      <td>False</td>\n",
       "      <td>False</td>\n",
       "      <td>0.262561</td>\n",
       "      <td>False</td>\n",
       "      <td>0.200167</td>\n",
       "    </tr>\n",
       "    <tr>\n",
       "      <th>5</th>\n",
       "      <td>Feature 6</td>\n",
       "      <td>0.0278</td>\n",
       "      <td>False</td>\n",
       "      <td>False</td>\n",
       "      <td>False</td>\n",
       "      <td>0.344860</td>\n",
       "      <td>False</td>\n",
       "      <td>0.245679</td>\n",
       "    </tr>\n",
       "    <tr>\n",
       "      <th>6</th>\n",
       "      <td>Feature 7</td>\n",
       "      <td>0.0298</td>\n",
       "      <td>False</td>\n",
       "      <td>False</td>\n",
       "      <td>False</td>\n",
       "      <td>0.364787</td>\n",
       "      <td>False</td>\n",
       "      <td>0.245679</td>\n",
       "    </tr>\n",
       "    <tr>\n",
       "      <th>7</th>\n",
       "      <td>Feature 8</td>\n",
       "      <td>0.0344</td>\n",
       "      <td>False</td>\n",
       "      <td>False</td>\n",
       "      <td>False</td>\n",
       "      <td>0.408494</td>\n",
       "      <td>False</td>\n",
       "      <td>0.245679</td>\n",
       "    </tr>\n",
       "    <tr>\n",
       "      <th>8</th>\n",
       "      <td>Feature 9</td>\n",
       "      <td>0.0459</td>\n",
       "      <td>False</td>\n",
       "      <td>False</td>\n",
       "      <td>False</td>\n",
       "      <td>0.505794</td>\n",
       "      <td>False</td>\n",
       "      <td>0.280290</td>\n",
       "    </tr>\n",
       "    <tr>\n",
       "      <th>9</th>\n",
       "      <td>Feature 10</td>\n",
       "      <td>0.3240</td>\n",
       "      <td>False</td>\n",
       "      <td>False</td>\n",
       "      <td>False</td>\n",
       "      <td>0.997187</td>\n",
       "      <td>False</td>\n",
       "      <td>0.904571</td>\n",
       "    </tr>\n",
       "    <tr>\n",
       "      <th>10</th>\n",
       "      <td>Feature 11</td>\n",
       "      <td>0.4262</td>\n",
       "      <td>False</td>\n",
       "      <td>False</td>\n",
       "      <td>False</td>\n",
       "      <td>0.999759</td>\n",
       "      <td>False</td>\n",
       "      <td>0.937798</td>\n",
       "    </tr>\n",
       "    <tr>\n",
       "      <th>11</th>\n",
       "      <td>Feature 12</td>\n",
       "      <td>0.5719</td>\n",
       "      <td>False</td>\n",
       "      <td>False</td>\n",
       "      <td>False</td>\n",
       "      <td>0.999997</td>\n",
       "      <td>False</td>\n",
       "      <td>0.966412</td>\n",
       "    </tr>\n",
       "    <tr>\n",
       "      <th>12</th>\n",
       "      <td>Feature 13</td>\n",
       "      <td>0.6528</td>\n",
       "      <td>False</td>\n",
       "      <td>False</td>\n",
       "      <td>False</td>\n",
       "      <td>1.000000</td>\n",
       "      <td>False</td>\n",
       "      <td>0.966412</td>\n",
       "    </tr>\n",
       "    <tr>\n",
       "      <th>13</th>\n",
       "      <td>Feature 14</td>\n",
       "      <td>0.7590</td>\n",
       "      <td>False</td>\n",
       "      <td>False</td>\n",
       "      <td>False</td>\n",
       "      <td>1.000000</td>\n",
       "      <td>False</td>\n",
       "      <td>0.966412</td>\n",
       "    </tr>\n",
       "    <tr>\n",
       "      <th>14</th>\n",
       "      <td>Feature 15</td>\n",
       "      <td>1.0000</td>\n",
       "      <td>False</td>\n",
       "      <td>False</td>\n",
       "      <td>False</td>\n",
       "      <td>1.000000</td>\n",
       "      <td>False</td>\n",
       "      <td>1.000000</td>\n",
       "    </tr>\n",
       "  </tbody>\n",
       "</table>\n",
       "</div>"
      ],
      "text/plain": [
       "      Features  P-value  bonferroni  holm_bonferroni  sidak   sidak_p  \\\n",
       "0    Feature 1   0.0001        True             True   True  0.001499   \n",
       "1    Feature 2   0.0004        True             True   True  0.005983   \n",
       "2    Feature 3   0.0019        True             True   True  0.028124   \n",
       "3    Feature 4   0.0095       False            False  False  0.133403   \n",
       "4    Feature 5   0.0201       False            False  False  0.262561   \n",
       "5    Feature 6   0.0278       False            False  False  0.344860   \n",
       "6    Feature 7   0.0298       False            False  False  0.364787   \n",
       "7    Feature 8   0.0344       False            False  False  0.408494   \n",
       "8    Feature 9   0.0459       False            False  False  0.505794   \n",
       "9   Feature 10   0.3240       False            False  False  0.997187   \n",
       "10  Feature 11   0.4262       False            False  False  0.999759   \n",
       "11  Feature 12   0.5719       False            False  False  0.999997   \n",
       "12  Feature 13   0.6528       False            False  False  1.000000   \n",
       "13  Feature 14   0.7590       False            False  False  1.000000   \n",
       "14  Feature 15   1.0000       False            False  False  1.000000   \n",
       "\n",
       "    holm-sidak  holm-sidak_p  \n",
       "0         True      0.001499  \n",
       "1         True      0.005585  \n",
       "2         True      0.024420  \n",
       "3        False      0.108228  \n",
       "4        False      0.200167  \n",
       "5        False      0.245679  \n",
       "6        False      0.245679  \n",
       "7        False      0.245679  \n",
       "8        False      0.280290  \n",
       "9        False      0.904571  \n",
       "10       False      0.937798  \n",
       "11       False      0.966412  \n",
       "12       False      0.966412  \n",
       "13       False      0.966412  \n",
       "14       False      1.000000  "
      ]
     },
     "execution_count": 70,
     "metadata": {},
     "output_type": "execute_result"
    }
   ],
   "source": [
    "df"
   ]
  },
  {
   "cell_type": "code",
   "execution_count": 71,
   "id": "dde65028",
   "metadata": {
    "ExecuteTime": {
     "end_time": "2022-10-17T16:27:44.221666Z",
     "start_time": "2022-10-17T16:27:44.207601Z"
    }
   },
   "outputs": [
    {
     "data": {
      "text/html": [
       "<div>\n",
       "<style scoped>\n",
       "    .dataframe tbody tr th:only-of-type {\n",
       "        vertical-align: middle;\n",
       "    }\n",
       "\n",
       "    .dataframe tbody tr th {\n",
       "        vertical-align: top;\n",
       "    }\n",
       "\n",
       "    .dataframe thead th {\n",
       "        text-align: right;\n",
       "    }\n",
       "</style>\n",
       "<table border=\"1\" class=\"dataframe\">\n",
       "  <thead>\n",
       "    <tr style=\"text-align: right;\">\n",
       "      <th></th>\n",
       "      <th>Features</th>\n",
       "      <th>P-value</th>\n",
       "      <th>bonferroni</th>\n",
       "      <th>holm_bonferroni</th>\n",
       "      <th>sidak</th>\n",
       "      <th>sidak_p</th>\n",
       "      <th>holm-sidak</th>\n",
       "      <th>holm-sidak_p</th>\n",
       "      <th>benjamin_hochberg</th>\n",
       "      <th>benjamin_hochberg_p</th>\n",
       "    </tr>\n",
       "  </thead>\n",
       "  <tbody>\n",
       "    <tr>\n",
       "      <th>0</th>\n",
       "      <td>Feature 1</td>\n",
       "      <td>0.0001</td>\n",
       "      <td>True</td>\n",
       "      <td>True</td>\n",
       "      <td>True</td>\n",
       "      <td>0.001499</td>\n",
       "      <td>True</td>\n",
       "      <td>0.001499</td>\n",
       "      <td>True</td>\n",
       "      <td>0.001500</td>\n",
       "    </tr>\n",
       "    <tr>\n",
       "      <th>1</th>\n",
       "      <td>Feature 2</td>\n",
       "      <td>0.0004</td>\n",
       "      <td>True</td>\n",
       "      <td>True</td>\n",
       "      <td>True</td>\n",
       "      <td>0.005983</td>\n",
       "      <td>True</td>\n",
       "      <td>0.005585</td>\n",
       "      <td>True</td>\n",
       "      <td>0.003000</td>\n",
       "    </tr>\n",
       "    <tr>\n",
       "      <th>2</th>\n",
       "      <td>Feature 3</td>\n",
       "      <td>0.0019</td>\n",
       "      <td>True</td>\n",
       "      <td>True</td>\n",
       "      <td>True</td>\n",
       "      <td>0.028124</td>\n",
       "      <td>True</td>\n",
       "      <td>0.024420</td>\n",
       "      <td>True</td>\n",
       "      <td>0.009500</td>\n",
       "    </tr>\n",
       "    <tr>\n",
       "      <th>3</th>\n",
       "      <td>Feature 4</td>\n",
       "      <td>0.0095</td>\n",
       "      <td>False</td>\n",
       "      <td>False</td>\n",
       "      <td>False</td>\n",
       "      <td>0.133403</td>\n",
       "      <td>False</td>\n",
       "      <td>0.108228</td>\n",
       "      <td>True</td>\n",
       "      <td>0.035625</td>\n",
       "    </tr>\n",
       "    <tr>\n",
       "      <th>4</th>\n",
       "      <td>Feature 5</td>\n",
       "      <td>0.0201</td>\n",
       "      <td>False</td>\n",
       "      <td>False</td>\n",
       "      <td>False</td>\n",
       "      <td>0.262561</td>\n",
       "      <td>False</td>\n",
       "      <td>0.200167</td>\n",
       "      <td>False</td>\n",
       "      <td>0.060300</td>\n",
       "    </tr>\n",
       "    <tr>\n",
       "      <th>5</th>\n",
       "      <td>Feature 6</td>\n",
       "      <td>0.0278</td>\n",
       "      <td>False</td>\n",
       "      <td>False</td>\n",
       "      <td>False</td>\n",
       "      <td>0.344860</td>\n",
       "      <td>False</td>\n",
       "      <td>0.245679</td>\n",
       "      <td>False</td>\n",
       "      <td>0.063857</td>\n",
       "    </tr>\n",
       "    <tr>\n",
       "      <th>6</th>\n",
       "      <td>Feature 7</td>\n",
       "      <td>0.0298</td>\n",
       "      <td>False</td>\n",
       "      <td>False</td>\n",
       "      <td>False</td>\n",
       "      <td>0.364787</td>\n",
       "      <td>False</td>\n",
       "      <td>0.245679</td>\n",
       "      <td>False</td>\n",
       "      <td>0.063857</td>\n",
       "    </tr>\n",
       "    <tr>\n",
       "      <th>7</th>\n",
       "      <td>Feature 8</td>\n",
       "      <td>0.0344</td>\n",
       "      <td>False</td>\n",
       "      <td>False</td>\n",
       "      <td>False</td>\n",
       "      <td>0.408494</td>\n",
       "      <td>False</td>\n",
       "      <td>0.245679</td>\n",
       "      <td>False</td>\n",
       "      <td>0.064500</td>\n",
       "    </tr>\n",
       "    <tr>\n",
       "      <th>8</th>\n",
       "      <td>Feature 9</td>\n",
       "      <td>0.0459</td>\n",
       "      <td>False</td>\n",
       "      <td>False</td>\n",
       "      <td>False</td>\n",
       "      <td>0.505794</td>\n",
       "      <td>False</td>\n",
       "      <td>0.280290</td>\n",
       "      <td>False</td>\n",
       "      <td>0.076500</td>\n",
       "    </tr>\n",
       "    <tr>\n",
       "      <th>9</th>\n",
       "      <td>Feature 10</td>\n",
       "      <td>0.3240</td>\n",
       "      <td>False</td>\n",
       "      <td>False</td>\n",
       "      <td>False</td>\n",
       "      <td>0.997187</td>\n",
       "      <td>False</td>\n",
       "      <td>0.904571</td>\n",
       "      <td>False</td>\n",
       "      <td>0.486000</td>\n",
       "    </tr>\n",
       "    <tr>\n",
       "      <th>10</th>\n",
       "      <td>Feature 11</td>\n",
       "      <td>0.4262</td>\n",
       "      <td>False</td>\n",
       "      <td>False</td>\n",
       "      <td>False</td>\n",
       "      <td>0.999759</td>\n",
       "      <td>False</td>\n",
       "      <td>0.937798</td>\n",
       "      <td>False</td>\n",
       "      <td>0.581182</td>\n",
       "    </tr>\n",
       "    <tr>\n",
       "      <th>11</th>\n",
       "      <td>Feature 12</td>\n",
       "      <td>0.5719</td>\n",
       "      <td>False</td>\n",
       "      <td>False</td>\n",
       "      <td>False</td>\n",
       "      <td>0.999997</td>\n",
       "      <td>False</td>\n",
       "      <td>0.966412</td>\n",
       "      <td>False</td>\n",
       "      <td>0.714875</td>\n",
       "    </tr>\n",
       "    <tr>\n",
       "      <th>12</th>\n",
       "      <td>Feature 13</td>\n",
       "      <td>0.6528</td>\n",
       "      <td>False</td>\n",
       "      <td>False</td>\n",
       "      <td>False</td>\n",
       "      <td>1.000000</td>\n",
       "      <td>False</td>\n",
       "      <td>0.966412</td>\n",
       "      <td>False</td>\n",
       "      <td>0.753231</td>\n",
       "    </tr>\n",
       "    <tr>\n",
       "      <th>13</th>\n",
       "      <td>Feature 14</td>\n",
       "      <td>0.7590</td>\n",
       "      <td>False</td>\n",
       "      <td>False</td>\n",
       "      <td>False</td>\n",
       "      <td>1.000000</td>\n",
       "      <td>False</td>\n",
       "      <td>0.966412</td>\n",
       "      <td>False</td>\n",
       "      <td>0.813214</td>\n",
       "    </tr>\n",
       "    <tr>\n",
       "      <th>14</th>\n",
       "      <td>Feature 15</td>\n",
       "      <td>1.0000</td>\n",
       "      <td>False</td>\n",
       "      <td>False</td>\n",
       "      <td>False</td>\n",
       "      <td>1.000000</td>\n",
       "      <td>False</td>\n",
       "      <td>1.000000</td>\n",
       "      <td>False</td>\n",
       "      <td>1.000000</td>\n",
       "    </tr>\n",
       "  </tbody>\n",
       "</table>\n",
       "</div>"
      ],
      "text/plain": [
       "      Features  P-value  bonferroni  holm_bonferroni  sidak   sidak_p  \\\n",
       "0    Feature 1   0.0001        True             True   True  0.001499   \n",
       "1    Feature 2   0.0004        True             True   True  0.005983   \n",
       "2    Feature 3   0.0019        True             True   True  0.028124   \n",
       "3    Feature 4   0.0095       False            False  False  0.133403   \n",
       "4    Feature 5   0.0201       False            False  False  0.262561   \n",
       "5    Feature 6   0.0278       False            False  False  0.344860   \n",
       "6    Feature 7   0.0298       False            False  False  0.364787   \n",
       "7    Feature 8   0.0344       False            False  False  0.408494   \n",
       "8    Feature 9   0.0459       False            False  False  0.505794   \n",
       "9   Feature 10   0.3240       False            False  False  0.997187   \n",
       "10  Feature 11   0.4262       False            False  False  0.999759   \n",
       "11  Feature 12   0.5719       False            False  False  0.999997   \n",
       "12  Feature 13   0.6528       False            False  False  1.000000   \n",
       "13  Feature 14   0.7590       False            False  False  1.000000   \n",
       "14  Feature 15   1.0000       False            False  False  1.000000   \n",
       "\n",
       "    holm-sidak  holm-sidak_p  benjamin_hochberg  benjamin_hochberg_p  \n",
       "0         True      0.001499               True             0.001500  \n",
       "1         True      0.005585               True             0.003000  \n",
       "2         True      0.024420               True             0.009500  \n",
       "3        False      0.108228               True             0.035625  \n",
       "4        False      0.200167              False             0.060300  \n",
       "5        False      0.245679              False             0.063857  \n",
       "6        False      0.245679              False             0.063857  \n",
       "7        False      0.245679              False             0.064500  \n",
       "8        False      0.280290              False             0.076500  \n",
       "9        False      0.904571              False             0.486000  \n",
       "10       False      0.937798              False             0.581182  \n",
       "11       False      0.966412              False             0.714875  \n",
       "12       False      0.966412              False             0.753231  \n",
       "13       False      0.966412              False             0.813214  \n",
       "14       False      1.000000              False             1.000000  "
      ]
     },
     "execution_count": 71,
     "metadata": {},
     "output_type": "execute_result"
    }
   ],
   "source": [
    "#set the q parameter to the FDR rate you want\n",
    "df['benjamin_hochberg'] = lsu(pvals, q=0.05) # q = desired FDR\n",
    "\n",
    "reject, p_value_corrected, sidak_corr, bonf_corr = multipletests(pvals, alpha=0.05, method='fdr_bh')\n",
    "df['benjamin_hochberg_p'] = p_value_corrected\n",
    "df"
   ]
  }
 ],
 "metadata": {
  "hide_input": false,
  "kernelspec": {
   "display_name": "Python 3 (ipykernel)",
   "language": "python",
   "name": "python3"
  },
  "language_info": {
   "codemirror_mode": {
    "name": "ipython",
    "version": 3
   },
   "file_extension": ".py",
   "mimetype": "text/x-python",
   "name": "python",
   "nbconvert_exporter": "python",
   "pygments_lexer": "ipython3",
   "version": "3.10.6"
  },
  "latex_envs": {
   "LaTeX_envs_menu_present": true,
   "autoclose": true,
   "autocomplete": true,
   "bibliofile": "biblio.bib",
   "cite_by": "apalike",
   "current_citInitial": 1,
   "eqLabelWithNumbers": true,
   "eqNumInitial": 1,
   "hotkeys": {
    "equation": "Ctrl-E",
    "itemize": "Ctrl-I"
   },
   "labels_anchors": false,
   "latex_user_defs": false,
   "report_style_numbering": false,
   "user_envs_cfg": false
  },
  "toc": {
   "base_numbering": 1,
   "nav_menu": {},
   "number_sections": true,
   "sideBar": true,
   "skip_h1_title": false,
   "title_cell": "Table of Contents",
   "title_sidebar": "Contents",
   "toc_cell": false,
   "toc_position": {},
   "toc_section_display": true,
   "toc_window_display": false
  },
  "varInspector": {
   "cols": {
    "lenName": 16,
    "lenType": 16,
    "lenVar": 40
   },
   "kernels_config": {
    "python": {
     "delete_cmd_postfix": "",
     "delete_cmd_prefix": "del ",
     "library": "var_list.py",
     "varRefreshCmd": "print(var_dic_list())"
    },
    "r": {
     "delete_cmd_postfix": ") ",
     "delete_cmd_prefix": "rm(",
     "library": "var_list.r",
     "varRefreshCmd": "cat(var_dic_list()) "
    }
   },
   "types_to_exclude": [
    "module",
    "function",
    "builtin_function_or_method",
    "instance",
    "_Feature"
   ],
   "window_display": false
  }
 },
 "nbformat": 4,
 "nbformat_minor": 5
}

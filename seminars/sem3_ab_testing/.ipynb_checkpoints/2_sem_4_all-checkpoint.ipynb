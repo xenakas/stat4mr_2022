{
 "cells": [
  {
   "cell_type": "code",
   "execution_count": null,
   "id": "ee265ea7",
   "metadata": {
    "ExecuteTime": {
     "end_time": "2022-10-03T06:58:20.619153Z",
     "start_time": "2022-10-03T06:58:20.619144Z"
    }
   },
   "outputs": [],
   "source": [
    "import numpy as np\n",
    "import pandas as pd\n",
    "\n",
    "from statsmodels.stats.power import TTestIndPower\n",
    "from scipy.stats import ttest_ind\n",
    "\n",
    "import seaborn as sns\n",
    "import matplotlib.pyplot as plt\n",
    "from plotly.offline import download_plotlyjs, init_notebook_mode, iplot\n",
    "from plotly.graph_objs import *\n",
    "init_notebook_mode()"
   ]
  },
  {
   "cell_type": "code",
   "execution_count": null,
   "id": "ef4f78d4",
   "metadata": {
    "ExecuteTime": {
     "end_time": "2022-10-03T06:58:20.622700Z",
     "start_time": "2022-10-03T06:58:20.622678Z"
    }
   },
   "outputs": [],
   "source": [
    "# estimate sample size via power analysis\n",
    "from statsmodels.stats.power import TTestIndPower\n",
    "# perform power analysis\n",
    "# parameters for power analysis\n",
    "effect = 0.8\n",
    "alpha = 0.05\n",
    "power = 0.8\n",
    "# perform power analysis\n",
    "analysis = TTestIndPower()\n",
    "result = analysis.solve_power(effect, power=power, nobs1=None, ratio=1.0, alpha=alpha)\n",
    "print('Sample Size: %.3f' % result)"
   ]
  },
  {
   "cell_type": "markdown",
   "id": "9382f53a",
   "metadata": {},
   "source": [
    "The plot_power() function can be used to create power curves. The dependent variable (x-axis) must be specified by name in the ‘dep_var‘ argument. Arrays of values can then be specified for the sample size (nobs), effect size (effect_size), and significance (alpha) parameters. One or multiple curves will then be plotted showing the impact on statistical power."
   ]
  },
  {
   "cell_type": "markdown",
   "id": "6d6d8238",
   "metadata": {},
   "source": [
    "For example, we can assume a significance of 0.05 (the default for the function) and explore the change in sample size between 5 and 100 with low, medium, and high effect sizes."
   ]
  },
  {
   "cell_type": "code",
   "execution_count": 2,
   "id": "d6c791cc",
   "metadata": {
    "ExecuteTime": {
     "end_time": "2022-10-03T06:58:22.743633Z",
     "start_time": "2022-10-03T06:58:22.565374Z"
    }
   },
   "outputs": [
    {
     "data": {
      "image/png": "[encoded data removed]",
      "text/plain": [
       "<Figure size 432x288 with 1 Axes>"
      ]
     },
     "metadata": {
      "needs_background": "light"
     },
     "output_type": "display_data"
    }
   ],
   "source": [
    "# calculate power curves for varying sample and effect size\n",
    "from numpy import array\n",
    "from matplotlib import pyplot\n",
    "from statsmodels.stats.power import TTestIndPower\n",
    "# parameters for power analysis\n",
    "effect_sizes = array([0.2, 0.5, 0.8])\n",
    "sample_sizes = array(range(5, 100))\n",
    "# calculate power curves from multiple power analyses\n",
    "analysis = TTestIndPower()\n",
    "analysis.plot_power(dep_var='nobs', nobs=sample_sizes, effect_size=effect_sizes)\n",
    "pyplot.show()"
   ]
  },
  {
   "cell_type": "markdown",
   "id": "a65c5a02",
   "metadata": {},
   "source": [
    "We can see that if we are interested in a large effect that a point of diminishing returns in terms of statistical power occurs at around 40-to-50 observations."
   ]
  },
  {
   "cell_type": "code",
   "execution_count": 3,
   "id": "591afe0d",
   "metadata": {
    "ExecuteTime": {
     "end_time": "2022-10-03T06:58:24.792217Z",
     "start_time": "2022-10-03T06:58:24.789691Z"
    }
   },
   "outputs": [],
   "source": [
    "import numpy as np\n",
    "import numpy.random as npr"
   ]
  },
  {
   "cell_type": "code",
   "execution_count": null,
   "id": "89f6baed",
   "metadata": {
    "ExecuteTime": {
     "start_time": "2022-10-03T06:58:46.064Z"
    }
   },
   "outputs": [
    {
     "name": "stdout",
     "output_type": "stream",
     "text": [
      "Defaulting to user installation because normal site-packages is not writeable\n",
      "Collecting pingouin\n",
      "  Downloading pingouin-0.5.2.tar.gz (185 kB)\n",
      "\u001b[2K     \u001b[38;2;114;156;31m━━━━━━━━━━━━━━━━━━━━━━━━━━━━━━━━━━━━━\u001b[0m \u001b[32m185.4/185.4 KB\u001b[0m \u001b[31m529.8 kB/s\u001b[0m eta \u001b[36m0:00:00\u001b[0mm eta \u001b[36m0:00:01\u001b[0m[36m0:00:01\u001b[0m\n",
      "\u001b[?25h  Preparing metadata (setup.py) ... \u001b[?25ldone\n",
      "\u001b[?25hRequirement already satisfied: matplotlib>=3.0.2 in /home/xenakas/.local/lib/python3.10/site-packages (from pingouin) (3.5.2)\n",
      "Requirement already satisfied: numpy>=1.19 in /usr/lib/python3/dist-packages (from pingouin) (1.21.5)\n",
      "Collecting outdated\n",
      "  Using cached outdated-0.2.1-py3-none-any.whl (7.5 kB)\n",
      "Requirement already satisfied: pandas>=1.0 in /home/xenakas/.local/lib/python3.10/site-packages (from pingouin) (1.4.2)\n",
      "Collecting pandas_flavor>=0.2.0\n",
      "  Downloading pandas_flavor-0.3.0-py3-none-any.whl (6.3 kB)\n",
      "Collecting scikit-learn<1.1.0\n",
      "  Downloading scikit_learn-1.0.2-cp310-cp310-manylinux_2_17_x86_64.manylinux2014_x86_64.whl (26.5 MB)\n",
      "\u001b[2K     \u001b[38;2;249;38;114m━━━━━━━━━━━━━━━━━━━━━━━━━━━━━━━━━━\u001b[0m\u001b[38;2;249;38;114m╸\u001b[0m\u001b[38;5;237m━━━━\u001b[0m \u001b[32m23.7/26.5 MB\u001b[0m \u001b[31m708.5 kB/s\u001b[0m eta \u001b[36m0:00:05\u001b[0m"
     ]
    }
   ],
   "source": [
    "!pip install pingouin"
   ]
  },
  {
   "cell_type": "code",
   "execution_count": 4,
   "id": "01a28101",
   "metadata": {
    "ExecuteTime": {
     "end_time": "2022-10-03T06:58:25.531369Z",
     "start_time": "2022-10-03T06:58:25.524438Z"
    }
   },
   "outputs": [],
   "source": [
    "# from statsmodels.stats.nonparametric import rank_compare_2indep"
   ]
  },
  {
   "cell_type": "code",
   "execution_count": 5,
   "id": "a9248da1",
   "metadata": {
    "ExecuteTime": {
     "end_time": "2022-10-03T06:58:26.801988Z",
     "start_time": "2022-10-03T06:58:26.791212Z"
    }
   },
   "outputs": [
    {
     "ename": "ModuleNotFoundError",
     "evalue": "No module named 'pingouin'",
     "output_type": "error",
     "traceback": [
      "\u001b[0;31m---------------------------------------------------------------------------\u001b[0m",
      "\u001b[0;31mModuleNotFoundError\u001b[0m                       Traceback (most recent call last)",
      "Input \u001b[0;32mIn [5]\u001b[0m, in \u001b[0;36m<cell line: 1>\u001b[0;34m()\u001b[0m\n\u001b[0;32m----> 1\u001b[0m \u001b[38;5;28;01mimport\u001b[39;00m \u001b[38;5;21;01mpingouin\u001b[39;00m \u001b[38;5;28;01mas\u001b[39;00m \u001b[38;5;21;01mpg\u001b[39;00m\n",
      "\u001b[0;31mModuleNotFoundError\u001b[0m: No module named 'pingouin'"
     ]
    }
   ],
   "source": [
    "import pingouin as pg"
   ]
  },
  {
   "cell_type": "code",
   "execution_count": 21,
   "id": "485cbea8",
   "metadata": {
    "ExecuteTime": {
     "end_time": "2021-10-02T08:56:14.491281Z",
     "start_time": "2021-10-02T08:56:14.481528Z"
    }
   },
   "outputs": [
    {
     "data": {
      "text/html": [
       "<div>\n",
       "<style scoped>\n",
       "    .dataframe tbody tr th:only-of-type {\n",
       "        vertical-align: middle;\n",
       "    }\n",
       "\n",
       "    .dataframe tbody tr th {\n",
       "        vertical-align: top;\n",
       "    }\n",
       "\n",
       "    .dataframe thead th {\n",
       "        text-align: right;\n",
       "    }\n",
       "</style>\n",
       "<table border=\"1\" class=\"dataframe\">\n",
       "  <thead>\n",
       "    <tr style=\"text-align: right;\">\n",
       "      <th></th>\n",
       "      <th>U-val</th>\n",
       "      <th>alternative</th>\n",
       "      <th>p-val</th>\n",
       "      <th>RBC</th>\n",
       "      <th>CLES</th>\n",
       "    </tr>\n",
       "  </thead>\n",
       "  <tbody>\n",
       "    <tr>\n",
       "      <th>MWU</th>\n",
       "      <td>670.0</td>\n",
       "      <td>two-sided</td>\n",
       "      <td>0.212722</td>\n",
       "      <td>0.1625</td>\n",
       "      <td>0.41875</td>\n",
       "    </tr>\n",
       "  </tbody>\n",
       "</table>\n",
       "</div>"
      ],
      "text/plain": [
       "     U-val alternative     p-val     RBC     CLES\n",
       "MWU  670.0   two-sided  0.212722  0.1625  0.41875"
      ]
     },
     "execution_count": 21,
     "metadata": {},
     "output_type": "execute_result"
    }
   ],
   "source": [
    "# import numpy as np\n",
    "# import pingouin as pg\n",
    "# np.random.seed(123)\n",
    "x = np.random.uniform(low=0, high=1, size=40)\n",
    "y = np.random.uniform(low=0.1, high=1.1, size=40)\n",
    "pg.mwu(x, y, alternative='two-sided')"
   ]
  },
  {
   "cell_type": "code",
   "execution_count": 38,
   "id": "1e7aab9e",
   "metadata": {
    "ExecuteTime": {
     "end_time": "2021-10-02T09:26:44.138004Z",
     "start_time": "2021-10-02T09:26:44.115837Z"
    }
   },
   "outputs": [
    {
     "data": {
      "text/plain": [
       "0.2139880438588763"
      ]
     },
     "execution_count": 38,
     "metadata": {},
     "output_type": "execute_result"
    }
   ],
   "source": [
    "pg.mwu(x, y, alternative='two-sided').iloc[0,2]"
   ]
  },
  {
   "cell_type": "code",
   "execution_count": 25,
   "id": "96a01d9c",
   "metadata": {
    "ExecuteTime": {
     "end_time": "2021-10-02T08:58:40.136908Z",
     "start_time": "2021-10-02T08:58:40.129784Z"
    }
   },
   "outputs": [],
   "source": [
    "tab = pg.mwu(x, y, alternative='two-sided', method='exact')"
   ]
  },
  {
   "cell_type": "code",
   "execution_count": 31,
   "id": "cbb5eb5f",
   "metadata": {
    "ExecuteTime": {
     "end_time": "2021-10-02T08:59:24.538720Z",
     "start_time": "2021-10-02T08:59:24.532421Z"
    }
   },
   "outputs": [
    {
     "data": {
      "text/plain": [
       "1.2426738502473702"
      ]
     },
     "execution_count": 31,
     "metadata": {},
     "output_type": "execute_result"
    }
   ],
   "source": [
    "scipy.stats.norm.ppf(1-tab.iloc[0,2]/2)"
   ]
  },
  {
   "cell_type": "code",
   "execution_count": 14,
   "id": "abce2d88",
   "metadata": {
    "ExecuteTime": {
     "end_time": "2021-10-02T08:43:30.949432Z",
     "start_time": "2021-10-02T08:43:30.934943Z"
    }
   },
   "outputs": [
    {
     "data": {
      "text/plain": [
       "MannwhitneyuResult(statistic=199.0, pvalue=0.9892089047911196)"
      ]
     },
     "execution_count": 14,
     "metadata": {},
     "output_type": "execute_result"
    }
   ],
   "source": [
    "import scipy\n",
    "\n",
    "scipy.stats.mannwhitneyu(x, y, use_continuity=True, alternative='two-sided')\n",
    "# MannwhitneyuResult(statistic=97.0, pvalue=0.0055604599321374135)"
   ]
  },
  {
   "cell_type": "code",
   "execution_count": 36,
   "id": "5e4bcae8",
   "metadata": {
    "ExecuteTime": {
     "end_time": "2021-10-02T09:25:58.944310Z",
     "start_time": "2021-10-02T09:25:58.938145Z"
    }
   },
   "outputs": [],
   "source": [
    "import scipy.stats as sp\n",
    "import statsmodels.stats.weightstats as smw"
   ]
  },
  {
   "cell_type": "code",
   "execution_count": 40,
   "id": "d45c15f5",
   "metadata": {
    "ExecuteTime": {
     "end_time": "2021-10-02T09:27:28.056266Z",
     "start_time": "2021-10-02T09:27:28.044655Z"
    }
   },
   "outputs": [],
   "source": [
    "# size condition x\n",
    "# size condition y\n",
    "# sd condition x\n",
    "# sd condition y\n",
    "n1 = 38 \n",
    "n2 = 22 \n",
    "sd1 = 1.11 # true\n",
    "sd2 = 1.84 # true\n",
    "m1 = 0 # true\n",
    "m2 = 0 # true\n",
    "\n",
    "trueD = (m2 - m1) / (np.sqrt((((n1 - 1) * ((sd1 ** 2))) +\n",
    "                           (n2 - 1) * ((sd2 ** 2))) / ((n1 + n2) - 2)))\n",
    "trueD\n",
    "\n",
    "sim_x = npr.normal(m1, sd1, n1)  # simulate participants condition x\n",
    "sim_y = npr.normal(m2, sd2, n2)  # simulate participants condition y"
   ]
  },
  {
   "cell_type": "code",
   "execution_count": 49,
   "id": "925c7a20",
   "metadata": {
    "ExecuteTime": {
     "end_time": "2021-10-02T09:29:51.047897Z",
     "start_time": "2021-10-02T09:29:39.657784Z"
    }
   },
   "outputs": [],
   "source": [
    "# catx = rep(\"x\", n1)\n",
    "# caty = rep(\"y\", n2)\n",
    "# condition = make_tuple(catx, caty)\n",
    "# number of simulated experiments (large numbers might take a while)\n",
    "\n",
    "# create variables for dataframe\n",
    "nSims = 1000 \n",
    "# set up empty container for all simulated Student's t-test p-values\n",
    "p1 = [] \n",
    "# set up empty container for all simulated Welch's t-test p-values\n",
    "p2 = [] \n",
    "# set up empty container for all Levene's t-test p-values\n",
    "p3 = [] \n",
    "for i in range(1, nSims):\n",
    "    # for each simulated experiment\n",
    "    sim_x = npr.normal(m1, sd1, n1)  # simulate participants condition x\n",
    "    sim_y = npr.normal(m2, sd2, n2)  # simulate participants condition y\n",
    "    # perform Student and Welch t-test\n",
    "    # perform the t-test and store p-value\n",
    "    p1.append(smw.ttest_ind(sim_x,sim_y, usevar='pooled')[1])\n",
    "    # perform the t-test and store p-value\n",
    "    p2.append(smw.ttest_ind(sim_x,sim_y, usevar='unequal')[1])\n",
    "    # perform Levene's test\n",
    "    p3.append(pg.mwu(sim_x, sim_y, alternative='two-sided').iloc[0,2])"
   ]
  },
  {
   "cell_type": "code",
   "execution_count": 47,
   "id": "d16fb744",
   "metadata": {
    "ExecuteTime": {
     "end_time": "2021-10-02T09:28:29.390748Z",
     "start_time": "2021-10-02T09:28:29.385081Z"
    }
   },
   "outputs": [],
   "source": [
    "# p3"
   ]
  },
  {
   "cell_type": "code",
   "execution_count": 59,
   "id": "fe2ed9fb",
   "metadata": {
    "ExecuteTime": {
     "end_time": "2021-10-02T09:33:31.657822Z",
     "start_time": "2021-10-02T09:33:31.651197Z"
    }
   },
   "outputs": [],
   "source": [
    "import matplotlib.pyplot as plt\n",
    "from matplotlib.ticker import PercentFormatter"
   ]
  },
  {
   "cell_type": "code",
   "execution_count": 62,
   "id": "1b30ff1c",
   "metadata": {
    "ExecuteTime": {
     "end_time": "2021-10-02T09:33:51.033093Z",
     "start_time": "2021-10-02T09:33:50.772803Z"
    }
   },
   "outputs": [
    {
     "data": {
      "text/plain": [
       "(array([1.56659863, 1.0884159 , 1.02439144, 0.98237538, 0.9363578 ,\n",
       "        0.86633104, 0.89034022, 0.88833945, 0.88033639, 0.87833563]),\n",
       " array([2.57961400e-05, 1.00007581e-01, 1.99989365e-01, 2.99971149e-01,\n",
       "        3.99952934e-01, 4.99934718e-01, 5.99916503e-01, 6.99898287e-01,\n",
       "        7.99880071e-01, 8.99861856e-01, 9.99843640e-01]),\n",
       " <BarContainer object of 10 artists>)"
      ]
     },
     "execution_count": 62,
     "metadata": {},
     "output_type": "execute_result"
    },
    {
     "data": {
      "image/png": "[encoded data removed]",
      "text/plain": [
       "<Figure size 432x288 with 1 Axes>"
      ]
     },
     "metadata": {
      "needs_background": "light"
     },
     "output_type": "display_data"
    }
   ],
   "source": [
    "plt.hist(p1,density=True,bins=10)"
   ]
  },
  {
   "cell_type": "code",
   "execution_count": 63,
   "id": "45c68795",
   "metadata": {
    "ExecuteTime": {
     "end_time": "2021-10-02T09:33:58.751884Z",
     "start_time": "2021-10-02T09:33:58.509265Z"
    }
   },
   "outputs": [
    {
     "data": {
      "text/plain": [
       "(array([1.04445363, 1.02844668, 0.97442321, 1.00843799, 1.02444494,\n",
       "        0.95241365, 0.9884293 , 1.01644146, 0.98042582, 0.98442756]),\n",
       " array([8.39575528e-05, 1.00060521e-01, 2.00037084e-01, 3.00013647e-01,\n",
       "        3.99990211e-01, 4.99966774e-01, 5.99943337e-01, 6.99919900e-01,\n",
       "        7.99896463e-01, 8.99873027e-01, 9.99849590e-01]),\n",
       " <BarContainer object of 10 artists>)"
      ]
     },
     "execution_count": 63,
     "metadata": {},
     "output_type": "execute_result"
    },
    {
     "data": {
      "image/png": "[encoded data removed]",
      "text/plain": [
       "<Figure size 432x288 with 1 Axes>"
      ]
     },
     "metadata": {
      "needs_background": "light"
     },
     "output_type": "display_data"
    }
   ],
   "source": [
    "plt.hist(p2,density=True,bins=10)"
   ]
  },
  {
   "cell_type": "code",
   "execution_count": 66,
   "id": "df4f1b06",
   "metadata": {
    "ExecuteTime": {
     "end_time": "2021-10-02T09:34:17.344608Z",
     "start_time": "2021-10-02T09:34:17.089953Z"
    }
   },
   "outputs": [
    {
     "data": {
      "text/plain": [
       "(array([1.3824158 , 1.0423135 , 1.05231651, 0.9262786 , 0.91427499,\n",
       "        0.86225935, 0.99429906, 0.79623949, 1.09432915, 0.93628161]),\n",
       " array([1.00797136e-04, 1.00090717e-01, 2.00080638e-01, 3.00070558e-01,\n",
       "        4.00060478e-01, 5.00050399e-01, 6.00040319e-01, 7.00030239e-01,\n",
       "        8.00020159e-01, 9.00010080e-01, 1.00000000e+00]),\n",
       " <BarContainer object of 10 artists>)"
      ]
     },
     "execution_count": 66,
     "metadata": {},
     "output_type": "execute_result"
    },
    {
     "data": {
      "image/png": "[encoded data removed]",
      "text/plain": [
       "<Figure size 432x288 with 1 Axes>"
      ]
     },
     "metadata": {
      "needs_background": "light"
     },
     "output_type": "display_data"
    }
   ],
   "source": [
    "plt.hist(p3,density=True)"
   ]
  },
  {
   "cell_type": "code",
   "execution_count": 72,
   "id": "b3cecb15",
   "metadata": {
    "ExecuteTime": {
     "end_time": "2021-10-02T09:35:07.710402Z",
     "start_time": "2021-10-02T09:35:07.660145Z"
    }
   },
   "outputs": [
    {
     "data": {
      "text/plain": [
       "8.68"
      ]
     },
     "execution_count": 72,
     "metadata": {},
     "output_type": "execute_result"
    }
   ],
   "source": [
    "errorrate = sum(np.array(p1) < 0.05) / nSims * 100\n",
    "errorrate"
   ]
  },
  {
   "cell_type": "code",
   "execution_count": 73,
   "id": "7e16f694",
   "metadata": {
    "ExecuteTime": {
     "end_time": "2021-10-02T09:35:10.127015Z",
     "start_time": "2021-10-02T09:35:10.074568Z"
    }
   },
   "outputs": [
    {
     "data": {
      "text/plain": [
       "5.42"
      ]
     },
     "execution_count": 73,
     "metadata": {},
     "output_type": "execute_result"
    }
   ],
   "source": [
    "errorrate = sum(np.array(p2) < 0.05) / nSims * 100\n",
    "errorrate"
   ]
  },
  {
   "cell_type": "code",
   "execution_count": 75,
   "id": "7c5fa309",
   "metadata": {
    "ExecuteTime": {
     "end_time": "2021-10-02T09:35:16.430066Z",
     "start_time": "2021-10-02T09:35:16.379069Z"
    }
   },
   "outputs": [
    {
     "data": {
      "text/plain": [
       "7.64"
      ]
     },
     "execution_count": 75,
     "metadata": {},
     "output_type": "execute_result"
    }
   ],
   "source": [
    "errorrate = sum(np.array(p3) < 0.05) / nSims * 100\n",
    "errorrate"
   ]
  },
  {
   "cell_type": "code",
   "execution_count": 76,
   "id": "4a6200b1",
   "metadata": {
    "ExecuteTime": {
     "end_time": "2021-10-02T09:36:16.777172Z",
     "start_time": "2021-10-02T09:36:16.755869Z"
    }
   },
   "outputs": [],
   "source": [
    "# p3# size condition x\n",
    "# size condition y\n",
    "# sd condition x\n",
    "# sd condition y\n",
    "\n",
    "n1 = 38 \n",
    "n2 = 22 \n",
    "sd1 = 1.11 # true\n",
    "sd2 = 1.84 # true\n",
    "m1 = 0 # true\n",
    "m2 = 1 # true\n",
    "\n",
    "trueD = (m2 - m1) / (np.sqrt((((n1 - 1) * ((sd1 ** 2))) +\n",
    "                           (n2 - 1) * ((sd2 ** 2))) / ((n1 + n2) - 2)))\n",
    "trueD\n",
    "\n",
    "sim_x = npr.normal(m1, sd1, n1)  # simulate participants condition x\n",
    "sim_y = npr.normal(m2, sd2, n2)  # simulate participants condition y\n",
    "\n",
    "x = np.random.uniform(low=0, high=1, size=40)\n",
    "y = np.random.uniform(low=0.1, high=1.1, size=40)\n"
   ]
  },
  {
   "cell_type": "code",
   "execution_count": 82,
   "id": "f5b847e9",
   "metadata": {
    "ExecuteTime": {
     "end_time": "2021-10-02T09:40:19.468978Z",
     "start_time": "2021-10-02T09:40:12.758256Z"
    }
   },
   "outputs": [],
   "source": [
    "# catx = rep(\"x\", n1)\n",
    "# caty = rep(\"y\", n2)\n",
    "# condition = make_tuple(catx, caty)\n",
    "# number of simulated experiments (large numbers might take a while)\n",
    "\n",
    "# create variables for dataframe\n",
    "nSims = 1000 \n",
    "# set up empty container for all simulated Student's t-test p-values\n",
    "p1 = [] \n",
    "# set up empty container for all simulated Welch's t-test p-values\n",
    "p2 = [] \n",
    "# set up empty container for all Levene's t-test p-values\n",
    "p3 = [] \n",
    "\n",
    "pow1 = []\n",
    "pow2 = []\n",
    "pow3 = []\n",
    "\n",
    "for j in [0.1,0.5,1]:\n",
    "    m1 =0 \n",
    "    m2 = 0 + j\n",
    "    p1 = [] \n",
    "    p2 = [] \n",
    "    p3 = [] \n",
    "    for i in range(1, nSims):\n",
    "        # for each simulated experiment\n",
    "        sim_x = npr.normal(m1, sd1, n1)  # simulate participants condition x\n",
    "        sim_y = npr.normal(m2, sd2, n2)  # simulate participants condition y\n",
    "        # perform Student and Welch t-test\n",
    "        # perform the t-test and store p-value\n",
    "        p1.append(smw.ttest_ind(sim_x,sim_y, usevar='pooled')[1])\n",
    "        # perform the t-test and store p-value\n",
    "        p2.append(smw.ttest_ind(sim_x,sim_y, usevar='unequal')[1])\n",
    "        # perform Levene's test\n",
    "        p3.append(pg.mwu(sim_x, sim_y, alternative='two-sided').iloc[0,2])\n",
    "    pow1.append(sum(np.array(p1) < 0.05) / nSims * 100)\n",
    "    pow2.append(sum(np.array(p2) < 0.05) / nSims * 100)\n",
    "    pow3.append(sum(np.array(p3) < 0.05) / nSims * 100)\n",
    "#     powerrate"
   ]
  },
  {
   "cell_type": "code",
   "execution_count": 79,
   "id": "c7f58755",
   "metadata": {
    "ExecuteTime": {
     "end_time": "2021-10-02T09:37:01.900260Z",
     "start_time": "2021-10-02T09:37:01.869738Z"
    }
   },
   "outputs": [
    {
     "data": {
      "text/plain": [
       "62.2"
      ]
     },
     "execution_count": 79,
     "metadata": {},
     "output_type": "execute_result"
    }
   ],
   "source": [
    "powerrate = sum(np.array(p2) < 0.05) / nSims * 100\n",
    "powerrate"
   ]
  },
  {
   "cell_type": "code",
   "execution_count": 80,
   "id": "b02a7cca",
   "metadata": {
    "ExecuteTime": {
     "end_time": "2021-10-02T09:37:12.812043Z",
     "start_time": "2021-10-02T09:37:12.792474Z"
    }
   },
   "outputs": [
    {
     "data": {
      "text/plain": [
       "64.9"
      ]
     },
     "execution_count": 80,
     "metadata": {},
     "output_type": "execute_result"
    }
   ],
   "source": [
    "powerrate = sum(np.array(p3) < 0.05) / nSims * 100\n",
    "powerrate"
   ]
  },
  {
   "cell_type": "code",
   "execution_count": 92,
   "id": "2f2a2ec4",
   "metadata": {
    "ExecuteTime": {
     "end_time": "2021-10-02T09:43:10.419239Z",
     "start_time": "2021-10-02T09:43:10.413194Z"
    }
   },
   "outputs": [],
   "source": [
    "import pandas as pd"
   ]
  },
  {
   "cell_type": "code",
   "execution_count": 96,
   "id": "738c280e",
   "metadata": {
    "ExecuteTime": {
     "end_time": "2021-10-02T09:43:39.662317Z",
     "start_time": "2021-10-02T09:43:39.365388Z"
    }
   },
   "outputs": [
    {
     "data": {
      "text/plain": [
       "<matplotlib.legend.Legend at 0x7f85fea6fac0>"
      ]
     },
     "execution_count": 96,
     "metadata": {},
     "output_type": "execute_result"
    },
    {
     "data": {
      "image/png": "[encoded data removed]",
      "text/plain": [
       "<Figure size 432x288 with 1 Axes>"
      ]
     },
     "metadata": {
      "needs_background": "light"
     },
     "output_type": "display_data"
    }
   ],
   "source": [
    "plt.plot(pd.DataFrame([pow1, pow2, pow3]).T);\n",
    "plt.legend([1,2,3])"
   ]
  }
 ],
 "metadata": {
  "hide_input": false,
  "kernelspec": {
   "display_name": "Python 3 (ipykernel)",
   "language": "python",
   "name": "python3"
  },
  "language_info": {
   "codemirror_mode": {
    "name": "ipython",
    "version": 3
   },
   "file_extension": ".py",
   "mimetype": "text/x-python",
   "name": "python",
   "nbconvert_exporter": "python",
   "pygments_lexer": "ipython3",
   "version": "3.10.6"
  },
  "latex_envs": {
   "LaTeX_envs_menu_present": true,
   "autoclose": true,
   "autocomplete": true,
   "bibliofile": "biblio.bib",
   "cite_by": "apalike",
   "current_citInitial": 1,
   "eqLabelWithNumbers": true,
   "eqNumInitial": 1,
   "hotkeys": {
    "equation": "Ctrl-E",
    "itemize": "Ctrl-I"
   },
   "labels_anchors": false,
   "latex_user_defs": false,
   "report_style_numbering": false,
   "user_envs_cfg": false
  },
  "toc": {
   "base_numbering": 1,
   "nav_menu": {},
   "number_sections": true,
   "sideBar": true,
   "skip_h1_title": false,
   "title_cell": "Table of Contents",
   "title_sidebar": "Contents",
   "toc_cell": false,
   "toc_position": {},
   "toc_section_display": true,
   "toc_window_display": false
  },
  "varInspector": {
   "cols": {
    "lenName": 16,
    "lenType": 16,
    "lenVar": 40
   },
   "kernels_config": {
    "python": {
     "delete_cmd_postfix": "",
     "delete_cmd_prefix": "del ",
     "library": "var_list.py",
     "varRefreshCmd": "print(var_dic_list())"
    },
    "r": {
     "delete_cmd_postfix": ") ",
     "delete_cmd_prefix": "rm(",
     "library": "var_list.r",
     "varRefreshCmd": "cat(var_dic_list()) "
    }
   },
   "types_to_exclude": [
    "module",
    "function",
    "builtin_function_or_method",
    "instance",
    "_Feature"
   ],
   "window_display": false
  }
 },
 "nbformat": 4,
 "nbformat_minor": 5
}

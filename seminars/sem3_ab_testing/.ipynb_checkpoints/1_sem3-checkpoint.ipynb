{
 "cells": [
  {
   "cell_type": "markdown",
   "id": "5d2be1ca",
   "metadata": {},
   "source": [
    "### Ratio-metric\n",
    "\n",
    "$R(U)=\\frac{\\sum_{u\\in U}X(u)}{\\sum_{u\\in U}Y(u)}$\n",
    "\n",
    "- Bootstrap \n",
    "- [Linearization](https://www.stat.cmu.edu/~hseltman/files/ratio.pdf)\n",
    "- [Delta-method](https://arxiv.org/pdf/1803.06336.pdf)"
   ]
  },
  {
   "cell_type": "markdown",
   "id": "aefe50a5",
   "metadata": {},
   "source": [
    "### Comparing Nominal Type I Error rates"
   ]
  },
  {
   "cell_type": "code",
   "execution_count": 2,
   "id": "3bbc9bc0",
   "metadata": {
    "ExecuteTime": {
     "end_time": "2022-10-03T10:58:45.345879Z",
     "start_time": "2022-10-03T10:58:45.342811Z"
    }
   },
   "outputs": [],
   "source": [
    "import numpy as np\n",
    "import numpy.random as npr"
   ]
  },
  {
   "cell_type": "code",
   "execution_count": 3,
   "id": "054b0b57",
   "metadata": {
    "ExecuteTime": {
     "end_time": "2022-10-03T10:58:45.520800Z",
     "start_time": "2022-10-03T10:58:45.511024Z"
    }
   },
   "outputs": [
    {
     "data": {
      "text/plain": [
       "0.0"
      ]
     },
     "execution_count": 3,
     "metadata": {},
     "output_type": "execute_result"
    }
   ],
   "source": [
    "n1=38 #size x\n",
    "n2=22 #size y\n",
    "sd1=1.11 #sd x\n",
    "sd2=1.84 #sd y \n",
    " \n",
    "m1 = 0 # true\n",
    "m2 = 0 # true\n",
    "\n",
    "trueD = (m2 - m1) / (np.sqrt((((n1 - 1) * ((sd1 ** 2))) +\n",
    "                           (n2 - 1) * ((sd2 ** 2))) / ((n1 + n2) - 2)))\n",
    "trueD"
   ]
  },
  {
   "cell_type": "code",
   "execution_count": 4,
   "id": "f0fe7e96",
   "metadata": {
    "ExecuteTime": {
     "end_time": "2022-10-03T10:58:45.736222Z",
     "start_time": "2022-10-03T10:58:45.733684Z"
    }
   },
   "outputs": [],
   "source": [
    "sim_x = npr.normal(m1, sd1, n1)  # simulate participants condition x\n",
    "sim_y = npr.normal(m2, sd2, n2)  # simulate participants condition y"
   ]
  },
  {
   "cell_type": "code",
   "execution_count": 5,
   "id": "dc2c7048",
   "metadata": {
    "ExecuteTime": {
     "end_time": "2022-10-03T10:58:46.194112Z",
     "start_time": "2022-10-03T10:58:45.907542Z"
    }
   },
   "outputs": [],
   "source": [
    "import scipy.stats as sp"
   ]
  },
  {
   "cell_type": "code",
   "execution_count": 6,
   "id": "adc435f1",
   "metadata": {
    "ExecuteTime": {
     "end_time": "2022-10-03T10:58:46.207987Z",
     "start_time": "2022-10-03T10:58:46.204736Z"
    }
   },
   "outputs": [
    {
     "data": {
      "text/plain": [
       "Ttest_indResult(statistic=0.9776297307543099, pvalue=0.3323176969641367)"
      ]
     },
     "execution_count": 6,
     "metadata": {},
     "output_type": "execute_result"
    }
   ],
   "source": [
    "sp.ttest_ind(sim_x,sim_y, equal_var=True)"
   ]
  },
  {
   "cell_type": "code",
   "execution_count": 7,
   "id": "8b8c14e4",
   "metadata": {
    "ExecuteTime": {
     "end_time": "2022-10-03T10:58:46.290051Z",
     "start_time": "2022-10-03T10:58:46.286136Z"
    }
   },
   "outputs": [
    {
     "data": {
      "text/plain": [
       "Ttest_indResult(statistic=0.8348310462421265, pvalue=0.4109619333927321)"
      ]
     },
     "execution_count": 7,
     "metadata": {},
     "output_type": "execute_result"
    }
   ],
   "source": [
    "sp.ttest_ind(sim_x,sim_y, equal_var=False)"
   ]
  },
  {
   "cell_type": "code",
   "execution_count": 8,
   "id": "497de23c",
   "metadata": {
    "ExecuteTime": {
     "end_time": "2022-10-03T10:58:47.209940Z",
     "start_time": "2022-10-03T10:58:46.489829Z"
    }
   },
   "outputs": [],
   "source": [
    "import pingouin as pg"
   ]
  },
  {
   "cell_type": "code",
   "execution_count": 9,
   "id": "6b2aad0e",
   "metadata": {
    "ExecuteTime": {
     "end_time": "2022-10-03T10:58:47.233059Z",
     "start_time": "2022-10-03T10:58:47.221985Z"
    }
   },
   "outputs": [
    {
     "data": {
      "text/html": [
       "<div>\n",
       "<style scoped>\n",
       "    .dataframe tbody tr th:only-of-type {\n",
       "        vertical-align: middle;\n",
       "    }\n",
       "\n",
       "    .dataframe tbody tr th {\n",
       "        vertical-align: top;\n",
       "    }\n",
       "\n",
       "    .dataframe thead th {\n",
       "        text-align: right;\n",
       "    }\n",
       "</style>\n",
       "<table border=\"1\" class=\"dataframe\">\n",
       "  <thead>\n",
       "    <tr style=\"text-align: right;\">\n",
       "      <th></th>\n",
       "      <th>T</th>\n",
       "      <th>dof</th>\n",
       "      <th>alternative</th>\n",
       "      <th>p-val</th>\n",
       "      <th>CI95%</th>\n",
       "      <th>cohen-d</th>\n",
       "      <th>BF10</th>\n",
       "      <th>power</th>\n",
       "    </tr>\n",
       "  </thead>\n",
       "  <tbody>\n",
       "    <tr>\n",
       "      <th>T-test</th>\n",
       "      <td>0.97763</td>\n",
       "      <td>58</td>\n",
       "      <td>two-sided</td>\n",
       "      <td>0.332318</td>\n",
       "      <td>[-0.4, 1.17]</td>\n",
       "      <td>0.261907</td>\n",
       "      <td>0.402</td>\n",
       "      <td>0.160771</td>\n",
       "    </tr>\n",
       "  </tbody>\n",
       "</table>\n",
       "</div>"
      ],
      "text/plain": [
       "              T  dof alternative     p-val         CI95%   cohen-d   BF10  \\\n",
       "T-test  0.97763   58   two-sided  0.332318  [-0.4, 1.17]  0.261907  0.402   \n",
       "\n",
       "           power  \n",
       "T-test  0.160771  "
      ]
     },
     "execution_count": 9,
     "metadata": {},
     "output_type": "execute_result"
    }
   ],
   "source": [
    "pg.ttest(sim_x,sim_y, correction=False)"
   ]
  },
  {
   "cell_type": "code",
   "execution_count": 10,
   "id": "5eb119fe",
   "metadata": {
    "ExecuteTime": {
     "end_time": "2022-10-03T10:58:47.254394Z",
     "start_time": "2022-10-03T10:58:47.242769Z"
    }
   },
   "outputs": [
    {
     "data": {
      "text/html": [
       "<div>\n",
       "<style scoped>\n",
       "    .dataframe tbody tr th:only-of-type {\n",
       "        vertical-align: middle;\n",
       "    }\n",
       "\n",
       "    .dataframe tbody tr th {\n",
       "        vertical-align: top;\n",
       "    }\n",
       "\n",
       "    .dataframe thead th {\n",
       "        text-align: right;\n",
       "    }\n",
       "</style>\n",
       "<table border=\"1\" class=\"dataframe\">\n",
       "  <thead>\n",
       "    <tr style=\"text-align: right;\">\n",
       "      <th></th>\n",
       "      <th>T</th>\n",
       "      <th>dof</th>\n",
       "      <th>alternative</th>\n",
       "      <th>p-val</th>\n",
       "      <th>CI95%</th>\n",
       "      <th>cohen-d</th>\n",
       "      <th>BF10</th>\n",
       "      <th>power</th>\n",
       "    </tr>\n",
       "  </thead>\n",
       "  <tbody>\n",
       "    <tr>\n",
       "      <th>T-test</th>\n",
       "      <td>0.834831</td>\n",
       "      <td>27.674758</td>\n",
       "      <td>two-sided</td>\n",
       "      <td>0.410962</td>\n",
       "      <td>[-0.56, 1.33]</td>\n",
       "      <td>0.261907</td>\n",
       "      <td>0.361</td>\n",
       "      <td>0.160771</td>\n",
       "    </tr>\n",
       "  </tbody>\n",
       "</table>\n",
       "</div>"
      ],
      "text/plain": [
       "               T        dof alternative     p-val          CI95%   cohen-d  \\\n",
       "T-test  0.834831  27.674758   two-sided  0.410962  [-0.56, 1.33]  0.261907   \n",
       "\n",
       "         BF10     power  \n",
       "T-test  0.361  0.160771  "
      ]
     },
     "execution_count": 10,
     "metadata": {},
     "output_type": "execute_result"
    }
   ],
   "source": [
    "pg.ttest(sim_x,sim_y, correction=True)"
   ]
  },
  {
   "cell_type": "code",
   "execution_count": 11,
   "id": "b9cefddc",
   "metadata": {
    "ExecuteTime": {
     "end_time": "2022-10-03T10:58:47.273106Z",
     "start_time": "2022-10-03T10:58:47.267206Z"
    }
   },
   "outputs": [],
   "source": [
    "from statsmodels.stats.weightstats import ttest_ind\n",
    "from scipy.stats import mannwhitneyu"
   ]
  },
  {
   "cell_type": "code",
   "execution_count": 12,
   "id": "a6ddb540",
   "metadata": {
    "ExecuteTime": {
     "end_time": "2022-10-03T10:58:47.290010Z",
     "start_time": "2022-10-03T10:58:47.286007Z"
    }
   },
   "outputs": [
    {
     "data": {
      "text/plain": [
       "(0.9776297307543096, 0.33231769696413693, 58.0)"
      ]
     },
     "execution_count": 12,
     "metadata": {},
     "output_type": "execute_result"
    }
   ],
   "source": [
    "ttest_ind(sim_x, sim_y,usevar='pooled')"
   ]
  },
  {
   "cell_type": "code",
   "execution_count": 13,
   "id": "40ef3786",
   "metadata": {
    "ExecuteTime": {
     "end_time": "2022-10-03T10:58:47.450399Z",
     "start_time": "2022-10-03T10:58:47.446070Z"
    }
   },
   "outputs": [
    {
     "data": {
      "text/plain": [
       "LeveneResult(statistic=11.011867577695408, pvalue=0.0015678046649117135)"
      ]
     },
     "execution_count": 13,
     "metadata": {},
     "output_type": "execute_result"
    }
   ],
   "source": [
    "sp.levene(sim_x, sim_y, center='mean')\n",
    "#     ‘median’: recommended for skewed distributions.\n",
    "#     ‘mean’: recommended for symmetric, moderate-tailed distributions.\n",
    "#     ‘trimmed’: recommended for heavy-tailed distributions."
   ]
  },
  {
   "cell_type": "code",
   "execution_count": 14,
   "id": "185ce4c3",
   "metadata": {
    "ExecuteTime": {
     "end_time": "2022-10-03T10:58:47.636531Z",
     "start_time": "2022-10-03T10:58:47.632914Z"
    }
   },
   "outputs": [
    {
     "data": {
      "text/plain": [
       "(0.8348310462421261, 0.4109619333927321, 27.674758236052757)"
      ]
     },
     "execution_count": 14,
     "metadata": {},
     "output_type": "execute_result"
    }
   ],
   "source": [
    "ttest_ind(sim_x, sim_y,usevar='unequal')"
   ]
  },
  {
   "cell_type": "code",
   "execution_count": 15,
   "id": "7600b5ce",
   "metadata": {
    "ExecuteTime": {
     "end_time": "2022-10-03T10:58:48.009802Z",
     "start_time": "2022-10-03T10:58:47.813642Z"
    }
   },
   "outputs": [
    {
     "data": {
      "text/plain": [
       "MannwhitneyuResult(statistic=456.0, pvalue=0.5680214631117204)"
      ]
     },
     "execution_count": 15,
     "metadata": {},
     "output_type": "execute_result"
    }
   ],
   "source": [
    "mannwhitneyu(sim_x, sim_y, method='exact')"
   ]
  },
  {
   "cell_type": "code",
   "execution_count": 16,
   "id": "40b01bc8",
   "metadata": {
    "ExecuteTime": {
     "end_time": "2022-10-03T10:58:53.768335Z",
     "start_time": "2022-10-03T10:58:48.023367Z"
    }
   },
   "outputs": [],
   "source": [
    "# create variables for dataframe\n",
    "nSims = 5000 \n",
    "# set up empty container for all simulated Student's t-test p-values\n",
    "p1 = [] \n",
    "# set up empty container for all simulated Welch's t-test p-values\n",
    "p2 = [] \n",
    "# set up empty container for all simulated MW's p-values \n",
    "p3 = []\n",
    "# set up empty container for all Levene's t-test p-values\n",
    "pvalueLevene = [] \n",
    "for i in range(1, nSims):\n",
    "    # for each simulated experiment\n",
    "    sim_x = npr.normal(m1, sd1, n1)  # simulate participants condition x\n",
    "    sim_y = npr.normal(m2, sd2, n2)  # simulate participants condition y\n",
    "    # perform Student and Welch t-test and MW\n",
    "    # perform the tests and store p-value\n",
    "    p1.append(ttest_ind(sim_x,sim_y, usevar='pooled')[1])\n",
    "    p2.append(ttest_ind(sim_x,sim_y, usevar='unequal')[1])\n",
    "    p3.append(mannwhitneyu(sim_x, sim_y, method=\"exact\")[1])\n",
    "\n",
    "    # perform Levene's test\n",
    "    pvalueLevene.append(sp.levene(sim_x,sim_y, center='mean')[1])"
   ]
  },
  {
   "cell_type": "code",
   "execution_count": 17,
   "id": "67fa8557",
   "metadata": {
    "ExecuteTime": {
     "end_time": "2022-10-03T10:58:53.805524Z",
     "start_time": "2022-10-03T10:58:53.802156Z"
    }
   },
   "outputs": [
    {
     "data": {
      "text/plain": [
       "0.3639236767485823"
      ]
     },
     "execution_count": 17,
     "metadata": {},
     "output_type": "execute_result"
    }
   ],
   "source": [
    "var_ratio = sd1 ** 2 / sd2 ** 2\n",
    "var_ratio"
   ]
  },
  {
   "cell_type": "code",
   "execution_count": 18,
   "id": "92f428ea",
   "metadata": {
    "ExecuteTime": {
     "end_time": "2022-10-03T10:58:53.843970Z",
     "start_time": "2022-10-03T10:58:53.841802Z"
    }
   },
   "outputs": [],
   "source": [
    "import matplotlib.pyplot as plt"
   ]
  },
  {
   "cell_type": "code",
   "execution_count": 19,
   "id": "46d69bd5",
   "metadata": {
    "ExecuteTime": {
     "end_time": "2022-10-03T10:58:54.023021Z",
     "start_time": "2022-10-03T10:58:53.880050Z"
    }
   },
   "outputs": [
    {
     "data": {
      "image/png": "[encoded data removed]",
      "text/plain": [
       "<Figure size 432x288 with 1 Axes>"
      ]
     },
     "metadata": {
      "needs_background": "light"
     },
     "output_type": "display_data"
    }
   ],
   "source": [
    "plt.hist(p1);"
   ]
  },
  {
   "cell_type": "code",
   "execution_count": 20,
   "id": "5bfe1e2a",
   "metadata": {
    "ExecuteTime": {
     "end_time": "2022-10-03T10:58:54.068410Z",
     "start_time": "2022-10-03T10:58:54.056965Z"
    }
   },
   "outputs": [
    {
     "data": {
      "text/plain": [
       "8.7"
      ]
     },
     "execution_count": 20,
     "metadata": {},
     "output_type": "execute_result"
    }
   ],
   "source": [
    "# Calculate Type 1 error in simulation for Student t-test\n",
    "errorrate = sum(np.array(p1) < 0.05) / nSims * 100\n",
    "errorrate"
   ]
  },
  {
   "cell_type": "code",
   "execution_count": 21,
   "id": "f1cacfd5",
   "metadata": {
    "ExecuteTime": {
     "end_time": "2022-10-03T10:58:54.236069Z",
     "start_time": "2022-10-03T10:58:54.103667Z"
    }
   },
   "outputs": [
    {
     "data": {
      "image/png": "[encoded data removed]",
      "text/plain": [
       "<Figure size 432x288 with 1 Axes>"
      ]
     },
     "metadata": {
      "needs_background": "light"
     },
     "output_type": "display_data"
    }
   ],
   "source": [
    "plt.hist(p2);"
   ]
  },
  {
   "cell_type": "code",
   "execution_count": 22,
   "id": "aaf8f111",
   "metadata": {
    "ExecuteTime": {
     "end_time": "2022-10-03T10:58:54.280216Z",
     "start_time": "2022-10-03T10:58:54.269389Z"
    }
   },
   "outputs": [
    {
     "data": {
      "text/plain": [
       "5.64"
      ]
     },
     "execution_count": 22,
     "metadata": {},
     "output_type": "execute_result"
    }
   ],
   "source": [
    "# Calculate Type 1 error in simulation for Welch t-test\n",
    "errorrate = sum(np.array(p2) < 0.05) / nSims * 100\n",
    "errorrate"
   ]
  },
  {
   "cell_type": "code",
   "execution_count": 23,
   "id": "b9d048e8",
   "metadata": {
    "ExecuteTime": {
     "end_time": "2022-10-03T10:58:54.412612Z",
     "start_time": "2022-10-03T10:58:54.315754Z"
    }
   },
   "outputs": [
    {
     "data": {
      "image/png": "[encoded data removed]",
      "text/plain": [
       "<Figure size 432x288 with 1 Axes>"
      ]
     },
     "metadata": {
      "needs_background": "light"
     },
     "output_type": "display_data"
    }
   ],
   "source": [
    "plt.hist(p3);"
   ]
  },
  {
   "cell_type": "code",
   "execution_count": 24,
   "id": "5ed1cf78",
   "metadata": {
    "ExecuteTime": {
     "end_time": "2022-10-03T10:58:56.681469Z",
     "start_time": "2022-10-03T10:58:56.645491Z"
    }
   },
   "outputs": [
    {
     "data": {
      "text/plain": [
       "7.9399999999999995"
      ]
     },
     "execution_count": 24,
     "metadata": {},
     "output_type": "execute_result"
    }
   ],
   "source": [
    "# Calculate Type 1 error in simulation for MW test\n",
    "errorrate = sum(np.array(p3) < 0.05) / nSims * 100\n",
    "errorrate"
   ]
  },
  {
   "cell_type": "code",
   "execution_count": 26,
   "id": "c2fa8cd4",
   "metadata": {
    "ExecuteTime": {
     "end_time": "2022-10-03T10:59:02.856302Z",
     "start_time": "2022-10-03T10:59:02.748846Z"
    }
   },
   "outputs": [
    {
     "data": {
      "image/png": "[encoded data removed]",
      "text/plain": [
       "<Figure size 432x288 with 1 Axes>"
      ]
     },
     "metadata": {
      "needs_background": "light"
     },
     "output_type": "display_data"
    }
   ],
   "source": [
    "plt.scatter(p1,p2,alpha=0.05)\n",
    "x = np.linspace(0, 1)\n",
    "y = x\n",
    "plt.plot(x, y, color='red');"
   ]
  },
  {
   "cell_type": "code",
   "execution_count": 27,
   "id": "b8380661",
   "metadata": {
    "ExecuteTime": {
     "end_time": "2022-10-03T10:59:08.441492Z",
     "start_time": "2022-10-03T10:59:08.322238Z"
    }
   },
   "outputs": [
    {
     "data": {
      "text/plain": [
       "<matplotlib.lines.Line2D at 0x7fb68b432cb0>"
      ]
     },
     "execution_count": 27,
     "metadata": {},
     "output_type": "execute_result"
    },
    {
     "data": {
      "image/png": "[encoded data removed]",
      "text/plain": [
       "<Figure size 432x288 with 1 Axes>"
      ]
     },
     "metadata": {
      "needs_background": "light"
     },
     "output_type": "display_data"
    }
   ],
   "source": [
    "plt.scatter(p1,p2,alpha=0.05)\n",
    "plt.xlim([0,0.15])\n",
    "plt.ylim([0,0.15])\n",
    "x = np.linspace(0, 1)\n",
    "y = x\n",
    "plt.plot(x, y, color='red')\n",
    "plt.axhline(y=0.05, color='k', linestyle='--')\n",
    "plt.axvline(x=0.05, color='k', linestyle='--')"
   ]
  },
  {
   "cell_type": "code",
   "execution_count": 29,
   "id": "9b0dee23",
   "metadata": {
    "ExecuteTime": {
     "end_time": "2022-10-03T11:08:31.222397Z",
     "start_time": "2022-10-03T11:08:31.202865Z"
    }
   },
   "outputs": [
    {
     "data": {
      "text/plain": [
       "66.64"
      ]
     },
     "execution_count": 29,
     "metadata": {},
     "output_type": "execute_result"
    }
   ],
   "source": [
    "observedpowerLevene = sum(np.array(pvalueLevene) < 0.05) / nSims * 100\n",
    "observedpowerLevene"
   ]
  }
 ],
 "metadata": {
  "hide_input": false,
  "kernelspec": {
   "display_name": "Python 3 (ipykernel)",
   "language": "python",
   "name": "python3"
  },
  "language_info": {
   "codemirror_mode": {
    "name": "ipython",
    "version": 3
   },
   "file_extension": ".py",
   "mimetype": "text/x-python",
   "name": "python",
   "nbconvert_exporter": "python",
   "pygments_lexer": "ipython3",
   "version": "3.10.6"
  },
  "latex_envs": {
   "LaTeX_envs_menu_present": true,
   "autoclose": true,
   "autocomplete": true,
   "bibliofile": "biblio.bib",
   "cite_by": "apalike",
   "current_citInitial": 1,
   "eqLabelWithNumbers": true,
   "eqNumInitial": 1,
   "hotkeys": {
    "equation": "Ctrl-E",
    "itemize": "Ctrl-I"
   },
   "labels_anchors": false,
   "latex_user_defs": false,
   "report_style_numbering": false,
   "user_envs_cfg": false
  },
  "toc": {
   "base_numbering": 1,
   "nav_menu": {},
   "number_sections": true,
   "sideBar": true,
   "skip_h1_title": false,
   "title_cell": "Table of Contents",
   "title_sidebar": "Contents",
   "toc_cell": false,
   "toc_position": {},
   "toc_section_display": true,
   "toc_window_display": false
  },
  "varInspector": {
   "cols": {
    "lenName": 16,
    "lenType": 16,
    "lenVar": 40
   },
   "kernels_config": {
    "python": {
     "delete_cmd_postfix": "",
     "delete_cmd_prefix": "del ",
     "library": "var_list.py",
     "varRefreshCmd": "print(var_dic_list())"
    },
    "r": {
     "delete_cmd_postfix": ") ",
     "delete_cmd_prefix": "rm(",
     "library": "var_list.r",
     "varRefreshCmd": "cat(var_dic_list()) "
    }
   },
   "types_to_exclude": [
    "module",
    "function",
    "builtin_function_or_method",
    "instance",
    "_Feature"
   ],
   "window_display": false
  }
 },
 "nbformat": 4,
 "nbformat_minor": 5
}

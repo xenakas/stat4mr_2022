{
 "cells": [
  {
   "cell_type": "code",
   "execution_count": 1,
   "id": "21c31ee0",
   "metadata": {
    "ExecuteTime": {
     "end_time": "2022-03-16T06:49:46.192688Z",
     "start_time": "2022-03-16T06:49:45.546592Z"
    }
   },
   "outputs": [
    {
     "name": "stdout",
     "output_type": "stream",
     "text": [
      "[0.92461872 0.05306648]\n",
      "[25.09996044  6.01314738]\n"
     ]
    }
   ],
   "source": [
    "from sklearn.decomposition import PCA\n",
    "from sklearn import datasets\n",
    "\n",
    "iris = datasets.load_iris()\n",
    "X = iris.data\n",
    "my_pca = PCA(n_components=2)\n",
    "my_pca.fit(X)\n",
    "print(my_pca.explained_variance_ratio_)\n",
    "print(my_pca.singular_values_)"
   ]
  },
  {
   "cell_type": "code",
   "execution_count": 4,
   "id": "886aabdc",
   "metadata": {
    "ExecuteTime": {
     "end_time": "2022-03-16T06:50:26.943798Z",
     "start_time": "2022-03-16T06:50:26.843524Z"
    }
   },
   "outputs": [],
   "source": [
    "from sklearn.decomposition import FactorAnalysis\n",
    "from sklearn import datasets\n",
    "# iris = datasets.load_iris()\n",
    "X = iris.data\n",
    "my_fa = FactorAnalysis(n_components=2)\n",
    "# in new version of sklearn:\n",
    "# my_fa = FactorAnalysis(n_components=2, rotation='varimax') \n",
    "X_transformed = my_fa.fit_transform(X)"
   ]
  },
  {
   "cell_type": "code",
   "execution_count": 12,
   "id": "49884db4",
   "metadata": {
    "ExecuteTime": {
     "end_time": "2022-03-16T07:27:38.468690Z",
     "start_time": "2022-03-16T07:27:38.464341Z"
    }
   },
   "outputs": [],
   "source": [
    "import pandas as pd\n",
    "from sklearn.datasets import load_iris\n",
    "from factor_analyzer import FactorAnalyzer\n",
    "import matplotlib.pyplot as plt\n"
   ]
  },
  {
   "cell_type": "markdown",
   "id": "75ee27b3",
   "metadata": {},
   "source": [
    "Loading Data\n",
    "\n",
    "Let's perform factor analysis on BFI (dataset based on personality assessment project), which were collected using a 6 point response scale: 1 Very Inaccurate, 2 Moderately Inaccurate, 3 Slightly Inaccurate 4 Slightly Accurate, 5 Moderately Accurate, and 6 Very Accurate. You can also download this dataset from the following the link: https://vincentarelbundock.github.io/Rdatasets/datasets.html"
   ]
  },
  {
   "cell_type": "code",
   "execution_count": 13,
   "id": "072e4d51",
   "metadata": {
    "ExecuteTime": {
     "end_time": "2022-03-16T07:27:47.267378Z",
     "start_time": "2022-03-16T07:27:47.257026Z"
    }
   },
   "outputs": [],
   "source": [
    "df= pd.read_csv(\"bfi.csv\")"
   ]
  },
  {
   "cell_type": "code",
   "execution_count": 14,
   "id": "0589cd7f",
   "metadata": {
    "ExecuteTime": {
     "end_time": "2022-03-16T07:27:54.029501Z",
     "start_time": "2022-03-16T07:27:54.017272Z"
    }
   },
   "outputs": [
    {
     "data": {
      "text/plain": [
       "Index(['Unnamed: 0', 'A1', 'A2', 'A3', 'A4', 'A5', 'C1', 'C2', 'C3', 'C4',\n",
       "       'C5', 'E1', 'E2', 'E3', 'E4', 'E5', 'N1', 'N2', 'N3', 'N4', 'N5', 'O1',\n",
       "       'O2', 'O3', 'O4', 'O5', 'gender', 'education', 'age'],\n",
       "      dtype='object')"
      ]
     },
     "execution_count": 14,
     "metadata": {},
     "output_type": "execute_result"
    }
   ],
   "source": [
    "df.columns"
   ]
  },
  {
   "cell_type": "code",
   "execution_count": 15,
   "id": "020d05fc",
   "metadata": {
    "ExecuteTime": {
     "end_time": "2022-03-16T07:28:05.225667Z",
     "start_time": "2022-03-16T07:28:05.208902Z"
    }
   },
   "outputs": [
    {
     "name": "stdout",
     "output_type": "stream",
     "text": [
      "<class 'pandas.core.frame.DataFrame'>\n",
      "Int64Index: 2436 entries, 0 to 2799\n",
      "Data columns (total 26 columns):\n",
      " #   Column      Non-Null Count  Dtype  \n",
      "---  ------      --------------  -----  \n",
      " 0   Unnamed: 0  2436 non-null   int64  \n",
      " 1   A1          2436 non-null   float64\n",
      " 2   A2          2436 non-null   float64\n",
      " 3   A3          2436 non-null   float64\n",
      " 4   A4          2436 non-null   float64\n",
      " 5   A5          2436 non-null   float64\n",
      " 6   C1          2436 non-null   float64\n",
      " 7   C2          2436 non-null   float64\n",
      " 8   C3          2436 non-null   float64\n",
      " 9   C4          2436 non-null   float64\n",
      " 10  C5          2436 non-null   float64\n",
      " 11  E1          2436 non-null   float64\n",
      " 12  E2          2436 non-null   float64\n",
      " 13  E3          2436 non-null   float64\n",
      " 14  E4          2436 non-null   float64\n",
      " 15  E5          2436 non-null   float64\n",
      " 16  N1          2436 non-null   float64\n",
      " 17  N2          2436 non-null   float64\n",
      " 18  N3          2436 non-null   float64\n",
      " 19  N4          2436 non-null   float64\n",
      " 20  N5          2436 non-null   float64\n",
      " 21  O1          2436 non-null   float64\n",
      " 22  O2          2436 non-null   int64  \n",
      " 23  O3          2436 non-null   float64\n",
      " 24  O4          2436 non-null   float64\n",
      " 25  O5          2436 non-null   float64\n",
      "dtypes: float64(24), int64(2)\n",
      "memory usage: 513.8 KB\n"
     ]
    }
   ],
   "source": [
    "# Dropping unnecessary columns\n",
    "df.drop(['gender', 'education', 'age'],axis=1,inplace=True)\n",
    "\n",
    "# Dropping missing values rows\n",
    "df.dropna(inplace=True)\n",
    "\n",
    "df.info()\n"
   ]
  },
  {
   "cell_type": "code",
   "execution_count": 16,
   "id": "3a9f91ff",
   "metadata": {
    "ExecuteTime": {
     "end_time": "2022-03-16T07:28:21.337009Z",
     "start_time": "2022-03-16T07:28:21.311763Z"
    }
   },
   "outputs": [
    {
     "data": {
      "text/html": [
       "<div>\n",
       "<style scoped>\n",
       "    .dataframe tbody tr th:only-of-type {\n",
       "        vertical-align: middle;\n",
       "    }\n",
       "\n",
       "    .dataframe tbody tr th {\n",
       "        vertical-align: top;\n",
       "    }\n",
       "\n",
       "    .dataframe thead th {\n",
       "        text-align: right;\n",
       "    }\n",
       "</style>\n",
       "<table border=\"1\" class=\"dataframe\">\n",
       "  <thead>\n",
       "    <tr style=\"text-align: right;\">\n",
       "      <th></th>\n",
       "      <th>Unnamed: 0</th>\n",
       "      <th>A1</th>\n",
       "      <th>A2</th>\n",
       "      <th>A3</th>\n",
       "      <th>A4</th>\n",
       "      <th>A5</th>\n",
       "      <th>C1</th>\n",
       "      <th>C2</th>\n",
       "      <th>C3</th>\n",
       "      <th>C4</th>\n",
       "      <th>...</th>\n",
       "      <th>N1</th>\n",
       "      <th>N2</th>\n",
       "      <th>N3</th>\n",
       "      <th>N4</th>\n",
       "      <th>N5</th>\n",
       "      <th>O1</th>\n",
       "      <th>O2</th>\n",
       "      <th>O3</th>\n",
       "      <th>O4</th>\n",
       "      <th>O5</th>\n",
       "    </tr>\n",
       "  </thead>\n",
       "  <tbody>\n",
       "    <tr>\n",
       "      <th>0</th>\n",
       "      <td>61617</td>\n",
       "      <td>2.0</td>\n",
       "      <td>4.0</td>\n",
       "      <td>3.0</td>\n",
       "      <td>4.0</td>\n",
       "      <td>4.0</td>\n",
       "      <td>2.0</td>\n",
       "      <td>3.0</td>\n",
       "      <td>3.0</td>\n",
       "      <td>4.0</td>\n",
       "      <td>...</td>\n",
       "      <td>3.0</td>\n",
       "      <td>4.0</td>\n",
       "      <td>2.0</td>\n",
       "      <td>2.0</td>\n",
       "      <td>3.0</td>\n",
       "      <td>3.0</td>\n",
       "      <td>6</td>\n",
       "      <td>3.0</td>\n",
       "      <td>4.0</td>\n",
       "      <td>3.0</td>\n",
       "    </tr>\n",
       "    <tr>\n",
       "      <th>1</th>\n",
       "      <td>61618</td>\n",
       "      <td>2.0</td>\n",
       "      <td>4.0</td>\n",
       "      <td>5.0</td>\n",
       "      <td>2.0</td>\n",
       "      <td>5.0</td>\n",
       "      <td>5.0</td>\n",
       "      <td>4.0</td>\n",
       "      <td>4.0</td>\n",
       "      <td>3.0</td>\n",
       "      <td>...</td>\n",
       "      <td>3.0</td>\n",
       "      <td>3.0</td>\n",
       "      <td>3.0</td>\n",
       "      <td>5.0</td>\n",
       "      <td>5.0</td>\n",
       "      <td>4.0</td>\n",
       "      <td>2</td>\n",
       "      <td>4.0</td>\n",
       "      <td>3.0</td>\n",
       "      <td>3.0</td>\n",
       "    </tr>\n",
       "    <tr>\n",
       "      <th>2</th>\n",
       "      <td>61620</td>\n",
       "      <td>5.0</td>\n",
       "      <td>4.0</td>\n",
       "      <td>5.0</td>\n",
       "      <td>4.0</td>\n",
       "      <td>4.0</td>\n",
       "      <td>4.0</td>\n",
       "      <td>5.0</td>\n",
       "      <td>4.0</td>\n",
       "      <td>2.0</td>\n",
       "      <td>...</td>\n",
       "      <td>4.0</td>\n",
       "      <td>5.0</td>\n",
       "      <td>4.0</td>\n",
       "      <td>2.0</td>\n",
       "      <td>3.0</td>\n",
       "      <td>4.0</td>\n",
       "      <td>2</td>\n",
       "      <td>5.0</td>\n",
       "      <td>5.0</td>\n",
       "      <td>2.0</td>\n",
       "    </tr>\n",
       "    <tr>\n",
       "      <th>3</th>\n",
       "      <td>61621</td>\n",
       "      <td>4.0</td>\n",
       "      <td>4.0</td>\n",
       "      <td>6.0</td>\n",
       "      <td>5.0</td>\n",
       "      <td>5.0</td>\n",
       "      <td>4.0</td>\n",
       "      <td>4.0</td>\n",
       "      <td>3.0</td>\n",
       "      <td>5.0</td>\n",
       "      <td>...</td>\n",
       "      <td>2.0</td>\n",
       "      <td>5.0</td>\n",
       "      <td>2.0</td>\n",
       "      <td>4.0</td>\n",
       "      <td>1.0</td>\n",
       "      <td>3.0</td>\n",
       "      <td>3</td>\n",
       "      <td>4.0</td>\n",
       "      <td>3.0</td>\n",
       "      <td>5.0</td>\n",
       "    </tr>\n",
       "    <tr>\n",
       "      <th>4</th>\n",
       "      <td>61622</td>\n",
       "      <td>2.0</td>\n",
       "      <td>3.0</td>\n",
       "      <td>3.0</td>\n",
       "      <td>4.0</td>\n",
       "      <td>5.0</td>\n",
       "      <td>4.0</td>\n",
       "      <td>4.0</td>\n",
       "      <td>5.0</td>\n",
       "      <td>3.0</td>\n",
       "      <td>...</td>\n",
       "      <td>2.0</td>\n",
       "      <td>3.0</td>\n",
       "      <td>4.0</td>\n",
       "      <td>4.0</td>\n",
       "      <td>3.0</td>\n",
       "      <td>3.0</td>\n",
       "      <td>3</td>\n",
       "      <td>4.0</td>\n",
       "      <td>3.0</td>\n",
       "      <td>3.0</td>\n",
       "    </tr>\n",
       "  </tbody>\n",
       "</table>\n",
       "<p>5 rows × 26 columns</p>\n",
       "</div>"
      ],
      "text/plain": [
       "   Unnamed: 0   A1   A2   A3   A4   A5   C1   C2   C3   C4  ...   N1   N2  \\\n",
       "0       61617  2.0  4.0  3.0  4.0  4.0  2.0  3.0  3.0  4.0  ...  3.0  4.0   \n",
       "1       61618  2.0  4.0  5.0  2.0  5.0  5.0  4.0  4.0  3.0  ...  3.0  3.0   \n",
       "2       61620  5.0  4.0  5.0  4.0  4.0  4.0  5.0  4.0  2.0  ...  4.0  5.0   \n",
       "3       61621  4.0  4.0  6.0  5.0  5.0  4.0  4.0  3.0  5.0  ...  2.0  5.0   \n",
       "4       61622  2.0  3.0  3.0  4.0  5.0  4.0  4.0  5.0  3.0  ...  2.0  3.0   \n",
       "\n",
       "    N3   N4   N5   O1  O2   O3   O4   O5  \n",
       "0  2.0  2.0  3.0  3.0   6  3.0  4.0  3.0  \n",
       "1  3.0  5.0  5.0  4.0   2  4.0  3.0  3.0  \n",
       "2  4.0  2.0  3.0  4.0   2  5.0  5.0  2.0  \n",
       "3  2.0  4.0  1.0  3.0   3  4.0  3.0  5.0  \n",
       "4  4.0  4.0  3.0  3.0   3  4.0  3.0  3.0  \n",
       "\n",
       "[5 rows x 26 columns]"
      ]
     },
     "execution_count": 16,
     "metadata": {},
     "output_type": "execute_result"
    }
   ],
   "source": [
    "df.head()"
   ]
  },
  {
   "cell_type": "markdown",
   "id": "9a4cf83e",
   "metadata": {},
   "source": [
    "Adequacy Test\n",
    "\n",
    "Before you perform factor analysis, you need to evaluate the “factorability” of our dataset. Factorability means \"can we found the factors in the dataset?\". There are two methods to check the factorability or sampling adequacy:\n",
    "\n",
    "    Bartlett’s Test\n",
    "    Kaiser-Meyer-Olkin Test\n",
    "\n",
    "Bartlett’s test of sphericity checks whether or not the observed variables intercorrelate at all using the observed correlation matrix against the identity matrix. If the test found statistically insignificant, you should not employ a factor analysis."
   ]
  },
  {
   "cell_type": "code",
   "execution_count": 18,
   "id": "36aa270b",
   "metadata": {
    "ExecuteTime": {
     "end_time": "2022-03-16T07:28:46.729328Z",
     "start_time": "2022-03-16T07:28:46.708793Z"
    }
   },
   "outputs": [
    {
     "data": {
      "text/plain": [
       "(18210.19955392529, 0.0)"
      ]
     },
     "execution_count": 18,
     "metadata": {},
     "output_type": "execute_result"
    }
   ],
   "source": [
    "from factor_analyzer.factor_analyzer import calculate_bartlett_sphericity\n",
    "chi_square_value,p_value=calculate_bartlett_sphericity(df)\n",
    "chi_square_value, p_value\n"
   ]
  },
  {
   "cell_type": "markdown",
   "id": "38addc16",
   "metadata": {},
   "source": [
    "In this Bartlett ’s test, the p-value is 0. The test was statistically significant, indicating that the observed correlation matrix is not an identity matrix.\n",
    "\n",
    "Kaiser-Meyer-Olkin (KMO) Test measures the suitability of data for factor analysis. It determines the adequacy for each observed variable and for the complete model. KMO estimates the proportion of variance among all the observed variable. Lower proportion id more suitable for factor analysis. KMO values range between 0 and 1. Value of KMO less than 0.6 is considered inadequate."
   ]
  },
  {
   "cell_type": "code",
   "execution_count": 19,
   "id": "1856346c",
   "metadata": {
    "ExecuteTime": {
     "end_time": "2022-03-16T07:28:54.952059Z",
     "start_time": "2022-03-16T07:28:54.919893Z"
    }
   },
   "outputs": [
    {
     "data": {
      "text/plain": [
       "0.8482210116350468"
      ]
     },
     "execution_count": 19,
     "metadata": {},
     "output_type": "execute_result"
    }
   ],
   "source": [
    "from factor_analyzer.factor_analyzer import calculate_kmo\n",
    "kmo_all,kmo_model=calculate_kmo(df)\n",
    "\n",
    "kmo_model"
   ]
  },
  {
   "cell_type": "markdown",
   "id": "d5a12afc",
   "metadata": {
    "ExecuteTime": {
     "end_time": "2022-03-16T07:46:59.574256Z",
     "start_time": "2022-03-16T07:46:59.566586Z"
    }
   },
   "source": [
    "The overall KMO for our data is 0.84, which is excellent. This value indicates that you can proceed with your planned factor analysis.\n",
    "Choosing the Number of Factors\n",
    "\n",
    "For choosing the number of factors, you can use the Kaiser criterion and scree plot. Both are based on eigenvalues."
   ]
  },
  {
   "cell_type": "code",
   "execution_count": 48,
   "id": "15dcf8dc",
   "metadata": {
    "ExecuteTime": {
     "end_time": "2022-03-16T07:47:25.523147Z",
     "start_time": "2022-03-16T07:47:25.425596Z"
    }
   },
   "outputs": [
    {
     "data": {
      "text/plain": [
       "FactorAnalyzer(n_factors=25, rotation=None, rotation_kwargs={})"
      ]
     },
     "execution_count": 48,
     "metadata": {},
     "output_type": "execute_result"
    }
   ],
   "source": [
    "# Create factor analysis object and perform factor analysis\n",
    "fa = FactorAnalyzer(n_factors=25,rotation=None)\n",
    "fa.fit(df)"
   ]
  },
  {
   "cell_type": "code",
   "execution_count": 49,
   "id": "f5a37940",
   "metadata": {
    "ExecuteTime": {
     "end_time": "2022-03-16T07:47:26.401708Z",
     "start_time": "2022-03-16T07:47:26.390209Z"
    }
   },
   "outputs": [
    {
     "data": {
      "text/plain": [
       "array([5.13457985, 2.75337527, 2.14814212, 1.85250623, 1.54846254,\n",
       "       1.11066151, 0.98067695, 0.82430872, 0.79516217, 0.71828982,\n",
       "       0.68602566, 0.67614851, 0.65177562, 0.62297416, 0.59623084,\n",
       "       0.56244599, 0.54329886, 0.51434031, 0.49437154, 0.48263949,\n",
       "       0.44865495, 0.42280589, 0.40028481, 0.38773757, 0.38183723,\n",
       "       0.2622634 ])"
      ]
     },
     "execution_count": 49,
     "metadata": {},
     "output_type": "execute_result"
    }
   ],
   "source": [
    "# Check Eigenvalues\n",
    "ev, v = fa.get_eigenvalues()\n",
    "ev"
   ]
  },
  {
   "cell_type": "code",
   "execution_count": 23,
   "id": "1974c0e7",
   "metadata": {
    "ExecuteTime": {
     "end_time": "2022-03-16T07:31:35.238775Z",
     "start_time": "2022-03-16T07:31:35.130187Z"
    }
   },
   "outputs": [
    {
     "data": {
      "image/png": "[encoded data removed]",
      "text/plain": [
       "<Figure size 432x288 with 1 Axes>"
      ]
     },
     "metadata": {
      "needs_background": "light"
     },
     "output_type": "display_data"
    }
   ],
   "source": [
    "# Create scree plot using matplotlib\n",
    "plt.scatter(range(1,df.shape[1]+1),ev)\n",
    "plt.plot(range(1,df.shape[1]+1),ev)\n",
    "plt.title('Scree Plot')\n",
    "plt.xlabel('Factors')\n",
    "plt.ylabel('Eigenvalue')\n",
    "plt.grid()\n",
    "plt.show()"
   ]
  },
  {
   "cell_type": "markdown",
   "id": "010150ec",
   "metadata": {},
   "source": [
    "Here, you can see only for 6-factors eigenvalues are greater than one. It means we need to choose only 6 factors (or unobserved variables).\n",
    "\n",
    "The scree plot method draws a straight line for each factor and its eigenvalues. Number eigenvalues greater than one considered as the number of factors.\n",
    "\n",
    "Here, you can see only for 6-factors eigenvalues are greater than one. It means we need to choose only 6 factors (or unobserved variables)."
   ]
  },
  {
   "cell_type": "code",
   "execution_count": 29,
   "id": "fcb1c823",
   "metadata": {
    "ExecuteTime": {
     "end_time": "2022-03-16T07:32:39.516805Z",
     "start_time": "2022-03-16T07:32:39.440613Z"
    }
   },
   "outputs": [
    {
     "data": {
      "text/plain": [
       "FactorAnalyzer(n_factors=6, rotation='varimax', rotation_kwargs={})"
      ]
     },
     "execution_count": 29,
     "metadata": {},
     "output_type": "execute_result"
    }
   ],
   "source": [
    "# Create factor analysis object and perform factor analysis\n",
    "fa = FactorAnalyzer(n_factors=6, rotation=\"varimax\")\n",
    "fa.fit(df)\n"
   ]
  },
  {
   "cell_type": "code",
   "execution_count": 39,
   "id": "7a5a002d",
   "metadata": {
    "ExecuteTime": {
     "end_time": "2022-03-16T07:35:52.226918Z",
     "start_time": "2022-03-16T07:35:52.190445Z"
    }
   },
   "outputs": [
    {
     "data": {
      "text/html": [
       "<div>\n",
       "<style scoped>\n",
       "    .dataframe tbody tr th:only-of-type {\n",
       "        vertical-align: middle;\n",
       "    }\n",
       "\n",
       "    .dataframe tbody tr th {\n",
       "        vertical-align: top;\n",
       "    }\n",
       "\n",
       "    .dataframe thead th {\n",
       "        text-align: right;\n",
       "    }\n",
       "</style>\n",
       "<table border=\"1\" class=\"dataframe\">\n",
       "  <thead>\n",
       "    <tr style=\"text-align: right;\">\n",
       "      <th></th>\n",
       "      <th>0</th>\n",
       "      <th>1</th>\n",
       "      <th>2</th>\n",
       "      <th>3</th>\n",
       "      <th>4</th>\n",
       "      <th>5</th>\n",
       "    </tr>\n",
       "  </thead>\n",
       "  <tbody>\n",
       "    <tr>\n",
       "      <th>Unnamed: 0</th>\n",
       "      <td>-0.022903</td>\n",
       "      <td>-0.032472</td>\n",
       "      <td>0.033169</td>\n",
       "      <td>-0.038093</td>\n",
       "      <td>0.003795</td>\n",
       "      <td>0.103748</td>\n",
       "    </tr>\n",
       "    <tr>\n",
       "      <th>A1</th>\n",
       "      <td>0.099396</td>\n",
       "      <td>0.060474</td>\n",
       "      <td>0.026694</td>\n",
       "      <td>-0.530785</td>\n",
       "      <td>-0.120309</td>\n",
       "      <td>0.163638</td>\n",
       "    </tr>\n",
       "    <tr>\n",
       "      <th>A2</th>\n",
       "      <td>0.031767</td>\n",
       "      <td>0.259875</td>\n",
       "      <td>0.140226</td>\n",
       "      <td>0.646569</td>\n",
       "      <td>0.055770</td>\n",
       "      <td>-0.097050</td>\n",
       "    </tr>\n",
       "    <tr>\n",
       "      <th>A3</th>\n",
       "      <td>-0.005256</td>\n",
       "      <td>0.408849</td>\n",
       "      <td>0.109534</td>\n",
       "      <td>0.587004</td>\n",
       "      <td>0.016184</td>\n",
       "      <td>0.039149</td>\n",
       "    </tr>\n",
       "    <tr>\n",
       "      <th>A4</th>\n",
       "      <td>-0.079266</td>\n",
       "      <td>0.255342</td>\n",
       "      <td>0.229308</td>\n",
       "      <td>0.391760</td>\n",
       "      <td>-0.136293</td>\n",
       "      <td>0.033401</td>\n",
       "    </tr>\n",
       "    <tr>\n",
       "      <th>A5</th>\n",
       "      <td>-0.143645</td>\n",
       "      <td>0.491049</td>\n",
       "      <td>0.085649</td>\n",
       "      <td>0.451090</td>\n",
       "      <td>0.009111</td>\n",
       "      <td>0.105888</td>\n",
       "    </tr>\n",
       "    <tr>\n",
       "      <th>C1</th>\n",
       "      <td>0.005623</td>\n",
       "      <td>0.123647</td>\n",
       "      <td>0.540150</td>\n",
       "      <td>0.004221</td>\n",
       "      <td>0.183458</td>\n",
       "      <td>0.138798</td>\n",
       "    </tr>\n",
       "    <tr>\n",
       "      <th>C2</th>\n",
       "      <td>0.084358</td>\n",
       "      <td>0.106505</td>\n",
       "      <td>0.652496</td>\n",
       "      <td>0.056538</td>\n",
       "      <td>0.079203</td>\n",
       "      <td>0.208580</td>\n",
       "    </tr>\n",
       "    <tr>\n",
       "      <th>C3</th>\n",
       "      <td>-0.033946</td>\n",
       "      <td>0.049796</td>\n",
       "      <td>0.545877</td>\n",
       "      <td>0.100286</td>\n",
       "      <td>-0.012372</td>\n",
       "      <td>0.054480</td>\n",
       "    </tr>\n",
       "    <tr>\n",
       "      <th>C4</th>\n",
       "      <td>0.231617</td>\n",
       "      <td>0.008989</td>\n",
       "      <td>-0.672785</td>\n",
       "      <td>-0.089980</td>\n",
       "      <td>-0.153451</td>\n",
       "      <td>0.226977</td>\n",
       "    </tr>\n",
       "    <tr>\n",
       "      <th>C5</th>\n",
       "      <td>0.293402</td>\n",
       "      <td>-0.143644</td>\n",
       "      <td>-0.559704</td>\n",
       "      <td>-0.047070</td>\n",
       "      <td>0.025614</td>\n",
       "      <td>0.095779</td>\n",
       "    </tr>\n",
       "    <tr>\n",
       "      <th>E1</th>\n",
       "      <td>0.053102</td>\n",
       "      <td>-0.521477</td>\n",
       "      <td>0.026492</td>\n",
       "      <td>-0.090545</td>\n",
       "      <td>-0.059281</td>\n",
       "      <td>0.332019</td>\n",
       "    </tr>\n",
       "    <tr>\n",
       "      <th>E2</th>\n",
       "      <td>0.263189</td>\n",
       "      <td>-0.622923</td>\n",
       "      <td>-0.110758</td>\n",
       "      <td>-0.074550</td>\n",
       "      <td>-0.030440</td>\n",
       "      <td>0.291204</td>\n",
       "    </tr>\n",
       "    <tr>\n",
       "      <th>E3</th>\n",
       "      <td>0.001190</td>\n",
       "      <td>0.630565</td>\n",
       "      <td>0.077417</td>\n",
       "      <td>0.153883</td>\n",
       "      <td>0.214213</td>\n",
       "      <td>0.092152</td>\n",
       "    </tr>\n",
       "    <tr>\n",
       "      <th>E4</th>\n",
       "      <td>-0.147239</td>\n",
       "      <td>0.682818</td>\n",
       "      <td>0.103904</td>\n",
       "      <td>0.206513</td>\n",
       "      <td>-0.133272</td>\n",
       "      <td>-0.037737</td>\n",
       "    </tr>\n",
       "    <tr>\n",
       "      <th>E5</th>\n",
       "      <td>0.021978</td>\n",
       "      <td>0.504384</td>\n",
       "      <td>0.312383</td>\n",
       "      <td>0.048448</td>\n",
       "      <td>0.185218</td>\n",
       "      <td>-0.113509</td>\n",
       "    </tr>\n",
       "    <tr>\n",
       "      <th>N1</th>\n",
       "      <td>0.790967</td>\n",
       "      <td>0.033469</td>\n",
       "      <td>-0.040014</td>\n",
       "      <td>-0.191516</td>\n",
       "      <td>-0.077378</td>\n",
       "      <td>-0.168159</td>\n",
       "    </tr>\n",
       "    <tr>\n",
       "      <th>N2</th>\n",
       "      <td>0.777085</td>\n",
       "      <td>-0.017659</td>\n",
       "      <td>-0.021737</td>\n",
       "      <td>-0.155586</td>\n",
       "      <td>0.007643</td>\n",
       "      <td>-0.199391</td>\n",
       "    </tr>\n",
       "    <tr>\n",
       "      <th>N3</th>\n",
       "      <td>0.728187</td>\n",
       "      <td>-0.036146</td>\n",
       "      <td>-0.067460</td>\n",
       "      <td>-0.023134</td>\n",
       "      <td>-0.015325</td>\n",
       "      <td>0.021926</td>\n",
       "    </tr>\n",
       "    <tr>\n",
       "      <th>N4</th>\n",
       "      <td>0.597786</td>\n",
       "      <td>-0.277073</td>\n",
       "      <td>-0.183704</td>\n",
       "      <td>0.018615</td>\n",
       "      <td>0.064511</td>\n",
       "      <td>0.182889</td>\n",
       "    </tr>\n",
       "    <tr>\n",
       "      <th>N5</th>\n",
       "      <td>0.534791</td>\n",
       "      <td>-0.112937</td>\n",
       "      <td>-0.040972</td>\n",
       "      <td>0.096450</td>\n",
       "      <td>-0.164581</td>\n",
       "      <td>0.111857</td>\n",
       "    </tr>\n",
       "    <tr>\n",
       "      <th>O1</th>\n",
       "      <td>-0.008919</td>\n",
       "      <td>0.302318</td>\n",
       "      <td>0.107331</td>\n",
       "      <td>-0.001342</td>\n",
       "      <td>0.464345</td>\n",
       "      <td>0.167416</td>\n",
       "    </tr>\n",
       "    <tr>\n",
       "      <th>O2</th>\n",
       "      <td>0.161465</td>\n",
       "      <td>0.020296</td>\n",
       "      <td>-0.100517</td>\n",
       "      <td>0.046919</td>\n",
       "      <td>-0.500643</td>\n",
       "      <td>0.084164</td>\n",
       "    </tr>\n",
       "    <tr>\n",
       "      <th>O3</th>\n",
       "      <td>0.019625</td>\n",
       "      <td>0.402120</td>\n",
       "      <td>0.070429</td>\n",
       "      <td>0.063634</td>\n",
       "      <td>0.547842</td>\n",
       "      <td>0.120816</td>\n",
       "    </tr>\n",
       "    <tr>\n",
       "      <th>O4</th>\n",
       "      <td>0.228721</td>\n",
       "      <td>-0.092648</td>\n",
       "      <td>-0.030003</td>\n",
       "      <td>0.148015</td>\n",
       "      <td>0.346283</td>\n",
       "      <td>0.202286</td>\n",
       "    </tr>\n",
       "    <tr>\n",
       "      <th>O5</th>\n",
       "      <td>0.068020</td>\n",
       "      <td>0.000920</td>\n",
       "      <td>-0.062239</td>\n",
       "      <td>-0.053138</td>\n",
       "      <td>-0.579933</td>\n",
       "      <td>0.106621</td>\n",
       "    </tr>\n",
       "  </tbody>\n",
       "</table>\n",
       "</div>"
      ],
      "text/plain": [
       "                   0         1         2         3         4         5\n",
       "Unnamed: 0 -0.022903 -0.032472  0.033169 -0.038093  0.003795  0.103748\n",
       "A1          0.099396  0.060474  0.026694 -0.530785 -0.120309  0.163638\n",
       "A2          0.031767  0.259875  0.140226  0.646569  0.055770 -0.097050\n",
       "A3         -0.005256  0.408849  0.109534  0.587004  0.016184  0.039149\n",
       "A4         -0.079266  0.255342  0.229308  0.391760 -0.136293  0.033401\n",
       "A5         -0.143645  0.491049  0.085649  0.451090  0.009111  0.105888\n",
       "C1          0.005623  0.123647  0.540150  0.004221  0.183458  0.138798\n",
       "C2          0.084358  0.106505  0.652496  0.056538  0.079203  0.208580\n",
       "C3         -0.033946  0.049796  0.545877  0.100286 -0.012372  0.054480\n",
       "C4          0.231617  0.008989 -0.672785 -0.089980 -0.153451  0.226977\n",
       "C5          0.293402 -0.143644 -0.559704 -0.047070  0.025614  0.095779\n",
       "E1          0.053102 -0.521477  0.026492 -0.090545 -0.059281  0.332019\n",
       "E2          0.263189 -0.622923 -0.110758 -0.074550 -0.030440  0.291204\n",
       "E3          0.001190  0.630565  0.077417  0.153883  0.214213  0.092152\n",
       "E4         -0.147239  0.682818  0.103904  0.206513 -0.133272 -0.037737\n",
       "E5          0.021978  0.504384  0.312383  0.048448  0.185218 -0.113509\n",
       "N1          0.790967  0.033469 -0.040014 -0.191516 -0.077378 -0.168159\n",
       "N2          0.777085 -0.017659 -0.021737 -0.155586  0.007643 -0.199391\n",
       "N3          0.728187 -0.036146 -0.067460 -0.023134 -0.015325  0.021926\n",
       "N4          0.597786 -0.277073 -0.183704  0.018615  0.064511  0.182889\n",
       "N5          0.534791 -0.112937 -0.040972  0.096450 -0.164581  0.111857\n",
       "O1         -0.008919  0.302318  0.107331 -0.001342  0.464345  0.167416\n",
       "O2          0.161465  0.020296 -0.100517  0.046919 -0.500643  0.084164\n",
       "O3          0.019625  0.402120  0.070429  0.063634  0.547842  0.120816\n",
       "O4          0.228721 -0.092648 -0.030003  0.148015  0.346283  0.202286\n",
       "O5          0.068020  0.000920 -0.062239 -0.053138 -0.579933  0.106621"
      ]
     },
     "execution_count": 39,
     "metadata": {},
     "output_type": "execute_result"
    }
   ],
   "source": [
    "df1 = pd.DataFrame(fa.loadings_)\n",
    "df1.index = df.columns\n",
    "df1"
   ]
  },
  {
   "cell_type": "markdown",
   "id": "a0d428b9",
   "metadata": {},
   "source": [
    "\n",
    "    Factor 1 has high factor loadings for E1,E2,E3,E4, and E5 (Extraversion)\n",
    "    Factor 2 has high factor loadings for N1,N2,N3,N4, and N5 (Neuroticism)\n",
    "    Factor 3 has high factor loadings for C1,C2,C3,C4, and C5 (Conscientiousness)\n",
    "    Factor 4 has high factor loadings for O1,O2,O3,O4, and O5 (Opennness)\n",
    "    Factor 5 has high factor loadings for A1,A2,A3,A4, and A5 (Agreeableness)\n",
    "    Factor 6 has none of the high loagings for any variable and is not easily interpretable. Its good if we take only five factors.\n",
    "\n",
    "\n",
    "Let's perform factor analysis for 5 factors."
   ]
  },
  {
   "cell_type": "code",
   "execution_count": 53,
   "id": "3357b417",
   "metadata": {
    "ExecuteTime": {
     "end_time": "2022-03-16T07:50:17.270282Z",
     "start_time": "2022-03-16T07:50:17.148893Z"
    }
   },
   "outputs": [
    {
     "data": {
      "text/html": [
       "<div>\n",
       "<style scoped>\n",
       "    .dataframe tbody tr th:only-of-type {\n",
       "        vertical-align: middle;\n",
       "    }\n",
       "\n",
       "    .dataframe tbody tr th {\n",
       "        vertical-align: top;\n",
       "    }\n",
       "\n",
       "    .dataframe thead th {\n",
       "        text-align: right;\n",
       "    }\n",
       "</style>\n",
       "<table border=\"1\" class=\"dataframe\">\n",
       "  <thead>\n",
       "    <tr style=\"text-align: right;\">\n",
       "      <th></th>\n",
       "      <th>0</th>\n",
       "      <th>1</th>\n",
       "      <th>2</th>\n",
       "      <th>3</th>\n",
       "      <th>4</th>\n",
       "    </tr>\n",
       "  </thead>\n",
       "  <tbody>\n",
       "    <tr>\n",
       "      <th>Unnamed: 0</th>\n",
       "      <td>-0.019246</td>\n",
       "      <td>-0.061703</td>\n",
       "      <td>0.034865</td>\n",
       "      <td>-0.018678</td>\n",
       "      <td>0.014345</td>\n",
       "    </tr>\n",
       "    <tr>\n",
       "      <th>A1</th>\n",
       "      <td>0.106455</td>\n",
       "      <td>0.030705</td>\n",
       "      <td>0.027567</td>\n",
       "      <td>-0.429612</td>\n",
       "      <td>-0.074133</td>\n",
       "    </tr>\n",
       "    <tr>\n",
       "      <th>A2</th>\n",
       "      <td>0.028693</td>\n",
       "      <td>0.227127</td>\n",
       "      <td>0.141159</td>\n",
       "      <td>0.621801</td>\n",
       "      <td>0.064117</td>\n",
       "    </tr>\n",
       "    <tr>\n",
       "      <th>A3</th>\n",
       "      <td>0.005335</td>\n",
       "      <td>0.329927</td>\n",
       "      <td>0.115928</td>\n",
       "      <td>0.642856</td>\n",
       "      <td>0.061647</td>\n",
       "    </tr>\n",
       "    <tr>\n",
       "      <th>A4</th>\n",
       "      <td>-0.069443</td>\n",
       "      <td>0.209217</td>\n",
       "      <td>0.235418</td>\n",
       "      <td>0.431241</td>\n",
       "      <td>-0.108647</td>\n",
       "    </tr>\n",
       "    <tr>\n",
       "      <th>A5</th>\n",
       "      <td>-0.129002</td>\n",
       "      <td>0.397690</td>\n",
       "      <td>0.097901</td>\n",
       "      <td>0.528159</td>\n",
       "      <td>0.075363</td>\n",
       "    </tr>\n",
       "    <tr>\n",
       "      <th>C1</th>\n",
       "      <td>0.009548</td>\n",
       "      <td>0.048297</td>\n",
       "      <td>0.548276</td>\n",
       "      <td>0.041194</td>\n",
       "      <td>0.212169</td>\n",
       "    </tr>\n",
       "    <tr>\n",
       "      <th>C2</th>\n",
       "      <td>0.089975</td>\n",
       "      <td>0.014459</td>\n",
       "      <td>0.650304</td>\n",
       "      <td>0.105693</td>\n",
       "      <td>0.116582</td>\n",
       "    </tr>\n",
       "    <tr>\n",
       "      <th>C3</th>\n",
       "      <td>-0.030243</td>\n",
       "      <td>0.010825</td>\n",
       "      <td>0.555781</td>\n",
       "      <td>0.114165</td>\n",
       "      <td>-0.004812</td>\n",
       "    </tr>\n",
       "    <tr>\n",
       "      <th>C4</th>\n",
       "      <td>0.240794</td>\n",
       "      <td>-0.039326</td>\n",
       "      <td>-0.633576</td>\n",
       "      <td>-0.041462</td>\n",
       "      <td>-0.109695</td>\n",
       "    </tr>\n",
       "    <tr>\n",
       "      <th>C5</th>\n",
       "      <td>0.294330</td>\n",
       "      <td>-0.154179</td>\n",
       "      <td>-0.566991</td>\n",
       "      <td>-0.047858</td>\n",
       "      <td>0.031264</td>\n",
       "    </tr>\n",
       "    <tr>\n",
       "      <th>E1</th>\n",
       "      <td>0.057066</td>\n",
       "      <td>-0.576460</td>\n",
       "      <td>0.017182</td>\n",
       "      <td>-0.089660</td>\n",
       "      <td>-0.073218</td>\n",
       "    </tr>\n",
       "    <tr>\n",
       "      <th>E2</th>\n",
       "      <td>0.261661</td>\n",
       "      <td>-0.671561</td>\n",
       "      <td>-0.121490</td>\n",
       "      <td>-0.096788</td>\n",
       "      <td>-0.059680</td>\n",
       "    </tr>\n",
       "    <tr>\n",
       "      <th>E3</th>\n",
       "      <td>0.012417</td>\n",
       "      <td>0.533056</td>\n",
       "      <td>0.097624</td>\n",
       "      <td>0.245741</td>\n",
       "      <td>0.293883</td>\n",
       "    </tr>\n",
       "    <tr>\n",
       "      <th>E4</th>\n",
       "      <td>-0.131026</td>\n",
       "      <td>0.648750</td>\n",
       "      <td>0.120495</td>\n",
       "      <td>0.290069</td>\n",
       "      <td>-0.056985</td>\n",
       "    </tr>\n",
       "    <tr>\n",
       "      <th>E5</th>\n",
       "      <td>0.024327</td>\n",
       "      <td>0.492534</td>\n",
       "      <td>0.326639</td>\n",
       "      <td>0.079579</td>\n",
       "      <td>0.226538</td>\n",
       "    </tr>\n",
       "    <tr>\n",
       "      <th>N1</th>\n",
       "      <td>0.782726</td>\n",
       "      <td>0.097680</td>\n",
       "      <td>-0.042388</td>\n",
       "      <td>-0.225060</td>\n",
       "      <td>-0.083471</td>\n",
       "    </tr>\n",
       "    <tr>\n",
       "      <th>N2</th>\n",
       "      <td>0.752420</td>\n",
       "      <td>0.044935</td>\n",
       "      <td>-0.029547</td>\n",
       "      <td>-0.200539</td>\n",
       "      <td>-0.010945</td>\n",
       "    </tr>\n",
       "    <tr>\n",
       "      <th>N3</th>\n",
       "      <td>0.732571</td>\n",
       "      <td>-0.041066</td>\n",
       "      <td>-0.068349</td>\n",
       "      <td>-0.031849</td>\n",
       "      <td>-0.007284</td>\n",
       "    </tr>\n",
       "    <tr>\n",
       "      <th>N4</th>\n",
       "      <td>0.599635</td>\n",
       "      <td>-0.326102</td>\n",
       "      <td>-0.188999</td>\n",
       "      <td>0.010191</td>\n",
       "      <td>0.064659</td>\n",
       "    </tr>\n",
       "    <tr>\n",
       "      <th>N5</th>\n",
       "      <td>0.542043</td>\n",
       "      <td>-0.139326</td>\n",
       "      <td>-0.042065</td>\n",
       "      <td>0.100229</td>\n",
       "      <td>-0.155653</td>\n",
       "    </tr>\n",
       "    <tr>\n",
       "      <th>O1</th>\n",
       "      <td>-0.006094</td>\n",
       "      <td>0.196463</td>\n",
       "      <td>0.120863</td>\n",
       "      <td>0.059573</td>\n",
       "      <td>0.510642</td>\n",
       "    </tr>\n",
       "    <tr>\n",
       "      <th>O2</th>\n",
       "      <td>0.174735</td>\n",
       "      <td>0.026762</td>\n",
       "      <td>-0.099129</td>\n",
       "      <td>0.077368</td>\n",
       "      <td>-0.469638</td>\n",
       "    </tr>\n",
       "    <tr>\n",
       "      <th>O3</th>\n",
       "      <td>0.021106</td>\n",
       "      <td>0.296243</td>\n",
       "      <td>0.084710</td>\n",
       "      <td>0.122369</td>\n",
       "      <td>0.603572</td>\n",
       "    </tr>\n",
       "    <tr>\n",
       "      <th>O4</th>\n",
       "      <td>0.227826</td>\n",
       "      <td>-0.189289</td>\n",
       "      <td>-0.029353</td>\n",
       "      <td>0.160787</td>\n",
       "      <td>0.362255</td>\n",
       "    </tr>\n",
       "    <tr>\n",
       "      <th>O5</th>\n",
       "      <td>0.083619</td>\n",
       "      <td>0.011590</td>\n",
       "      <td>-0.061357</td>\n",
       "      <td>-0.013974</td>\n",
       "      <td>-0.533401</td>\n",
       "    </tr>\n",
       "  </tbody>\n",
       "</table>\n",
       "</div>"
      ],
      "text/plain": [
       "                   0         1         2         3         4\n",
       "Unnamed: 0 -0.019246 -0.061703  0.034865 -0.018678  0.014345\n",
       "A1          0.106455  0.030705  0.027567 -0.429612 -0.074133\n",
       "A2          0.028693  0.227127  0.141159  0.621801  0.064117\n",
       "A3          0.005335  0.329927  0.115928  0.642856  0.061647\n",
       "A4         -0.069443  0.209217  0.235418  0.431241 -0.108647\n",
       "A5         -0.129002  0.397690  0.097901  0.528159  0.075363\n",
       "C1          0.009548  0.048297  0.548276  0.041194  0.212169\n",
       "C2          0.089975  0.014459  0.650304  0.105693  0.116582\n",
       "C3         -0.030243  0.010825  0.555781  0.114165 -0.004812\n",
       "C4          0.240794 -0.039326 -0.633576 -0.041462 -0.109695\n",
       "C5          0.294330 -0.154179 -0.566991 -0.047858  0.031264\n",
       "E1          0.057066 -0.576460  0.017182 -0.089660 -0.073218\n",
       "E2          0.261661 -0.671561 -0.121490 -0.096788 -0.059680\n",
       "E3          0.012417  0.533056  0.097624  0.245741  0.293883\n",
       "E4         -0.131026  0.648750  0.120495  0.290069 -0.056985\n",
       "E5          0.024327  0.492534  0.326639  0.079579  0.226538\n",
       "N1          0.782726  0.097680 -0.042388 -0.225060 -0.083471\n",
       "N2          0.752420  0.044935 -0.029547 -0.200539 -0.010945\n",
       "N3          0.732571 -0.041066 -0.068349 -0.031849 -0.007284\n",
       "N4          0.599635 -0.326102 -0.188999  0.010191  0.064659\n",
       "N5          0.542043 -0.139326 -0.042065  0.100229 -0.155653\n",
       "O1         -0.006094  0.196463  0.120863  0.059573  0.510642\n",
       "O2          0.174735  0.026762 -0.099129  0.077368 -0.469638\n",
       "O3          0.021106  0.296243  0.084710  0.122369  0.603572\n",
       "O4          0.227826 -0.189289 -0.029353  0.160787  0.362255\n",
       "O5          0.083619  0.011590 -0.061357 -0.013974 -0.533401"
      ]
     },
     "execution_count": 53,
     "metadata": {},
     "output_type": "execute_result"
    }
   ],
   "source": [
    "# Create factor analysis object and perform factor analysis\n",
    "fa = FactorAnalyzer(n_factors=5, rotation=\"varimax\")\n",
    "fa.fit(df)\n",
    "\n",
    "\n",
    "df1 = pd.DataFrame(fa.loadings_)\n",
    "df1.index = df.columns\n",
    "df1"
   ]
  },
  {
   "cell_type": "code",
   "execution_count": 54,
   "id": "d46a219c",
   "metadata": {
    "ExecuteTime": {
     "end_time": "2022-03-16T07:50:17.902109Z",
     "start_time": "2022-03-16T07:50:17.887285Z"
    }
   },
   "outputs": [
    {
     "data": {
      "text/html": [
       "<div>\n",
       "<style scoped>\n",
       "    .dataframe tbody tr th:only-of-type {\n",
       "        vertical-align: middle;\n",
       "    }\n",
       "\n",
       "    .dataframe tbody tr th {\n",
       "        vertical-align: top;\n",
       "    }\n",
       "\n",
       "    .dataframe thead th {\n",
       "        text-align: right;\n",
       "    }\n",
       "</style>\n",
       "<table border=\"1\" class=\"dataframe\">\n",
       "  <thead>\n",
       "    <tr style=\"text-align: right;\">\n",
       "      <th></th>\n",
       "      <th>0</th>\n",
       "      <th>1</th>\n",
       "      <th>2</th>\n",
       "      <th>3</th>\n",
       "      <th>4</th>\n",
       "    </tr>\n",
       "  </thead>\n",
       "  <tbody>\n",
       "    <tr>\n",
       "      <th>SS Loadings</th>\n",
       "      <td>2.736109</td>\n",
       "      <td>2.428049</td>\n",
       "      <td>2.082504</td>\n",
       "      <td>1.800505</td>\n",
       "      <td>1.549502</td>\n",
       "    </tr>\n",
       "    <tr>\n",
       "      <th>Proportion Var</th>\n",
       "      <td>0.105235</td>\n",
       "      <td>0.093387</td>\n",
       "      <td>0.080096</td>\n",
       "      <td>0.069250</td>\n",
       "      <td>0.059596</td>\n",
       "    </tr>\n",
       "    <tr>\n",
       "      <th>Cumulative Var</th>\n",
       "      <td>0.105235</td>\n",
       "      <td>0.198621</td>\n",
       "      <td>0.278718</td>\n",
       "      <td>0.347968</td>\n",
       "      <td>0.407564</td>\n",
       "    </tr>\n",
       "  </tbody>\n",
       "</table>\n",
       "</div>"
      ],
      "text/plain": [
       "                       0         1         2         3         4\n",
       "SS Loadings     2.736109  2.428049  2.082504  1.800505  1.549502\n",
       "Proportion Var  0.105235  0.093387  0.080096  0.069250  0.059596\n",
       "Cumulative Var  0.105235  0.198621  0.278718  0.347968  0.407564"
      ]
     },
     "execution_count": 54,
     "metadata": {},
     "output_type": "execute_result"
    }
   ],
   "source": [
    "# Get variance of each factors\n",
    "df2 = pd.DataFrame(fa.get_factor_variance())\n",
    "df2.index=['SS Loadings','Proportion Var','Cumulative Var']\n",
    "df2\n",
    "\n",
    "# Calculate the factor variance information,\n",
    "# including variance, proportional variance\n",
    "# and cumulative variance for each factor"
   ]
  },
  {
   "cell_type": "markdown",
   "id": "288cd07d",
   "metadata": {},
   "source": [
    "Total 42% cumulative Variance explained by the 5 factors.\n",
    "Pros and Cons of Factor Analysis\n",
    "\n",
    "Factor analysis explores large dataset and finds interlinked associations. It reduces the observed variables into a few unobserved variables or identifies the groups of inter-related variables, which help the market researchers to compress the market situations and find the hidden relationship among consumer taste, preference, and cultural influence. Also, It helps in improve questionnaire in for future surveys. Factors make for more natural data interpretation.\n",
    "\n",
    "Results of factor analysis are controversial. Its interpretations can be debatable because more than one interpretation can be made of the same data factors. After factor identification and naming of factors requires domain knowledge.\n",
    "Conclusion\n",
    "\n",
    "Congratulations, you have made it to the end of this tutorial!\n",
    "\n",
    "In this tutorial, you have learned what factor analysis is. The different types of factor analysis, how does factor analysis work, basic factor analysis terminology, choosing the number of factors, comparison of principal component analysis and factor analysis, implementation in python using python FactorAnalyzer package, and pros and cons of factor analysis.\n",
    "\n",
    "I look forward to hearing any feedback or questions. you can ask the question by leaving a comment and I will try my best to answer it."
   ]
  },
  {
   "cell_type": "code",
   "execution_count": 57,
   "id": "8f74773d",
   "metadata": {
    "ExecuteTime": {
     "end_time": "2022-03-16T08:01:47.045145Z",
     "start_time": "2022-03-16T08:01:47.039108Z"
    }
   },
   "outputs": [
    {
     "data": {
      "text/plain": [
       "array([0.00594781, 0.20309797, 0.46308345, 0.53938387, 0.30178879,\n",
       "       0.46901562, 0.34974255, 0.45596213, 0.32298143, 0.47469872,\n",
       "       0.43514823, 0.34925788, 0.54714941, 0.44058928, 0.53995056,\n",
       "       0.40752683, 0.6816168 , 0.60936358, 0.54408627, 0.50590962,\n",
       "       0.34926548, 0.31754663, 0.26762027, 0.47465419, 0.24567837,\n",
       "       0.29560356])"
      ]
     },
     "execution_count": 57,
     "metadata": {},
     "output_type": "execute_result"
    }
   ],
   "source": [
    "fa.get_communalities()\n",
    "# pd.DataFrame(fa.get_communalities(), index=df.columns )"
   ]
  },
  {
   "cell_type": "markdown",
   "id": "bf093fab",
   "metadata": {},
   "source": [
    "Communality is the proportion of each variable’s variance that can be explained by the factors. Rotations don’t have any influence over the communality of the variables.\n",
    "\n",
    "The proportion of each variable’s variance that is explained by the factors can be inferred from the above. For example, we could consider the variable ‘talkatv’ about 62.9% of its variance is explained by all the factors together.\n",
    "\n"
   ]
  }
 ],
 "metadata": {
  "hide_input": false,
  "kernelspec": {
   "display_name": "Python 3 (ipykernel)",
   "language": "python",
   "name": "python3"
  },
  "language_info": {
   "codemirror_mode": {
    "name": "ipython",
    "version": 3
   },
   "file_extension": ".py",
   "mimetype": "text/x-python",
   "name": "python",
   "nbconvert_exporter": "python",
   "pygments_lexer": "ipython3",
   "version": "3.10.6"
  },
  "latex_envs": {
   "LaTeX_envs_menu_present": true,
   "autoclose": true,
   "autocomplete": true,
   "bibliofile": "biblio.bib",
   "cite_by": "apalike",
   "current_citInitial": 1,
   "eqLabelWithNumbers": true,
   "eqNumInitial": 1,
   "hotkeys": {
    "equation": "Ctrl-E",
    "itemize": "Ctrl-I"
   },
   "labels_anchors": false,
   "latex_user_defs": false,
   "report_style_numbering": false,
   "user_envs_cfg": false
  },
  "toc": {
   "base_numbering": 1,
   "nav_menu": {},
   "number_sections": true,
   "sideBar": true,
   "skip_h1_title": false,
   "title_cell": "Table of Contents",
   "title_sidebar": "Contents",
   "toc_cell": false,
   "toc_position": {},
   "toc_section_display": true,
   "toc_window_display": false
  },
  "varInspector": {
   "cols": {
    "lenName": 16,
    "lenType": 16,
    "lenVar": 40
   },
   "kernels_config": {
    "python": {
     "delete_cmd_postfix": "",
     "delete_cmd_prefix": "del ",
     "library": "var_list.py",
     "varRefreshCmd": "print(var_dic_list())"
    },
    "r": {
     "delete_cmd_postfix": ") ",
     "delete_cmd_prefix": "rm(",
     "library": "var_list.r",
     "varRefreshCmd": "cat(var_dic_list()) "
    }
   },
   "types_to_exclude": [
    "module",
    "function",
    "builtin_function_or_method",
    "instance",
    "_Feature"
   ],
   "window_display": false
  }
 },
 "nbformat": 4,
 "nbformat_minor": 5
}

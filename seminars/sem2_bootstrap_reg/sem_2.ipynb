{
 "cells": [
  {
   "cell_type": "code",
   "execution_count": 1,
   "id": "59e035f0",
   "metadata": {
    "ExecuteTime": {
     "end_time": "2022-09-19T13:37:19.863725Z",
     "start_time": "2022-09-19T13:37:19.302138Z"
    }
   },
   "outputs": [],
   "source": [
    "import numpy as np \n",
    "import numpy.random as npr\n",
    "import matplotlib.pyplot as plt"
   ]
  },
  {
   "cell_type": "markdown",
   "id": "f37dfa91",
   "metadata": {},
   "source": [
    "### Compare NPB, PB, JK"
   ]
  },
  {
   "cell_type": "code",
   "execution_count": 2,
   "id": "a709d0c6",
   "metadata": {
    "ExecuteTime": {
     "end_time": "2022-09-19T13:38:03.391192Z",
     "start_time": "2022-09-19T13:38:03.133224Z"
    }
   },
   "outputs": [
    {
     "data": {
      "text/plain": [
       "(array([58., 28.,  8.,  3.,  1.,  1.,  0.,  0.,  0.,  1.]),\n",
       " array([6.85170748e-03, 1.92487627e+00, 3.84290084e+00, 5.76092541e+00,\n",
       "        7.67894998e+00, 9.59697454e+00, 1.15149991e+01, 1.34330237e+01,\n",
       "        1.53510482e+01, 1.72690728e+01, 1.91870974e+01]),\n",
       " <BarContainer object of 10 artists>)"
      ]
     },
     "execution_count": 2,
     "metadata": {},
     "output_type": "execute_result"
    },
    {
     "data": {
      "image/png": "[encoded data removed]",
      "text/plain": [
       "<Figure size 432x288 with 1 Axes>"
      ]
     },
     "metadata": {
      "needs_background": "light"
     },
     "output_type": "display_data"
    }
   ],
   "source": [
    "sample = npr.exponential(2, 100)\n",
    "plt.hist(sample)"
   ]
  },
  {
   "cell_type": "code",
   "execution_count": 4,
   "id": "8c912190",
   "metadata": {
    "ExecuteTime": {
     "end_time": "2022-09-19T13:40:07.060018Z",
     "start_time": "2022-09-19T13:40:06.941542Z"
    }
   },
   "outputs": [
    {
     "data": {
      "text/plain": [
       "(array([ 23.,  55.,  62., 380., 151., 133., 164.,  26.,   3.,   3.]),\n",
       " array([1.96681189, 2.20242761, 2.43804334, 2.67365907, 2.90927479,\n",
       "        3.14489052, 3.38050624, 3.61612197, 3.85173769, 4.08735342,\n",
       "        4.32296914]),\n",
       " <BarContainer object of 10 artists>)"
      ]
     },
     "execution_count": 4,
     "metadata": {},
     "output_type": "execute_result"
    },
    {
     "data": {
      "image/png": "[encoded data removed]",
      "text/plain": [
       "<Figure size 432x288 with 1 Axes>"
      ]
     },
     "metadata": {
      "needs_background": "light"
     },
     "output_type": "display_data"
    }
   ],
   "source": [
    "# NPB\n",
    "\n",
    "samples_npb = npr.choice(sample, size=(1000, len(sample)), replace=True)\n",
    "quant_npb = np.quantile(samples_npb, 0.75, axis=1)\n",
    "plt.hist(quant_npb)"
   ]
  },
  {
   "cell_type": "code",
   "execution_count": 5,
   "id": "0a95cd3d",
   "metadata": {
    "ExecuteTime": {
     "end_time": "2022-09-19T13:41:34.818545Z",
     "start_time": "2022-09-19T13:41:34.808565Z"
    }
   },
   "outputs": [
    {
     "data": {
      "text/plain": [
       "array([2.29790536, 3.62694044])"
      ]
     },
     "execution_count": 5,
     "metadata": {},
     "output_type": "execute_result"
    }
   ],
   "source": [
    "np.quantile(quant_npb, (0.025, 0.975))"
   ]
  },
  {
   "cell_type": "code",
   "execution_count": 7,
   "id": "dd3e4ca4",
   "metadata": {
    "ExecuteTime": {
     "end_time": "2022-09-19T13:43:41.950229Z",
     "start_time": "2022-09-19T13:43:41.942900Z"
    }
   },
   "outputs": [
    {
     "data": {
      "text/plain": [
       "2.1918120769556557"
      ]
     },
     "execution_count": 7,
     "metadata": {},
     "output_type": "execute_result"
    }
   ],
   "source": [
    "# PB \n",
    "\n",
    "theta_hat = np.mean(sample)\n",
    "theta_hat "
   ]
  },
  {
   "cell_type": "code",
   "execution_count": 12,
   "id": "68922ebc",
   "metadata": {
    "ExecuteTime": {
     "end_time": "2022-09-19T13:45:39.354928Z",
     "start_time": "2022-09-19T13:45:39.145536Z"
    }
   },
   "outputs": [
    {
     "data": {
      "text/plain": [
       "(array([  2.,   7.,  23.,  30.,  51.,  70.,  98., 117., 130., 114., 101.,\n",
       "         77.,  52.,  46.,  34.,  23.,  11.,   6.,   4.,   4.]),\n",
       " array([2.0382546 , 2.14975974, 2.26126488, 2.37277002, 2.48427515,\n",
       "        2.59578029, 2.70728543, 2.81879057, 2.93029571, 3.04180085,\n",
       "        3.15330599, 3.26481112, 3.37631626, 3.4878214 , 3.59932654,\n",
       "        3.71083168, 3.82233682, 3.93384196, 4.04534709, 4.15685223,\n",
       "        4.26835737]),\n",
       " <BarContainer object of 20 artists>)"
      ]
     },
     "execution_count": 12,
     "metadata": {},
     "output_type": "execute_result"
    },
    {
     "data": {
      "image/png": "[encoded data removed]",
      "text/plain": [
       "<Figure size 432x288 with 1 Axes>"
      ]
     },
     "metadata": {
      "needs_background": "light"
     },
     "output_type": "display_data"
    }
   ],
   "source": [
    "# PB\n",
    "\n",
    "quant_pb = []\n",
    "\n",
    "for i in range(1000):\n",
    "    subsample = npr.exponential(theta_hat, len(sample))\n",
    "    quant_pb.append(np.quantile(subsample, 0.75))\n",
    "\n",
    "plt.hist(quant_pb, bins=20)    \n"
   ]
  },
  {
   "cell_type": "code",
   "execution_count": 13,
   "id": "3047055e",
   "metadata": {
    "ExecuteTime": {
     "end_time": "2022-09-19T13:46:14.456252Z",
     "start_time": "2022-09-19T13:46:14.451924Z"
    }
   },
   "outputs": [
    {
     "data": {
      "text/plain": [
       "array([2.35876298, 3.79518393])"
      ]
     },
     "execution_count": 13,
     "metadata": {},
     "output_type": "execute_result"
    }
   ],
   "source": [
    "np.quantile(quant_pb, (0.025, 0.975))"
   ]
  },
  {
   "cell_type": "code",
   "execution_count": 14,
   "id": "ed96fa0e",
   "metadata": {
    "ExecuteTime": {
     "end_time": "2022-09-19T13:46:33.056949Z",
     "start_time": "2022-09-19T13:46:33.052814Z"
    }
   },
   "outputs": [
    {
     "data": {
      "text/plain": [
       "array([2.29790536, 3.62694044])"
      ]
     },
     "execution_count": 14,
     "metadata": {},
     "output_type": "execute_result"
    }
   ],
   "source": [
    "np.quantile(quant_npb, (0.025, 0.975))"
   ]
  },
  {
   "cell_type": "code",
   "execution_count": 15,
   "id": "656b918b",
   "metadata": {
    "ExecuteTime": {
     "end_time": "2022-09-19T13:49:30.309927Z",
     "start_time": "2022-09-19T13:49:30.165912Z"
    }
   },
   "outputs": [
    {
     "data": {
      "text/plain": [
       "(array([25.,  0.,  0.,  0.,  0.,  0.,  0.,  0.,  0.,  0.,  0.,  0.,  0.,\n",
       "         1.,  0.,  0.,  0.,  0.,  0., 74.]),\n",
       " array([2.85596566, 2.85772233, 2.859479  , 2.86123566, 2.86299233,\n",
       "        2.864749  , 2.86650566, 2.86826233, 2.870019  , 2.87177566,\n",
       "        2.87353233, 2.875289  , 2.87704566, 2.87880233, 2.880559  ,\n",
       "        2.88231566, 2.88407233, 2.885829  , 2.88758566, 2.88934233,\n",
       "        2.891099  ]),\n",
       " <BarContainer object of 20 artists>)"
      ]
     },
     "execution_count": 15,
     "metadata": {},
     "output_type": "execute_result"
    },
    {
     "data": {
      "image/png": "[encoded data removed]",
      "text/plain": [
       "<Figure size 432x288 with 1 Axes>"
      ]
     },
     "metadata": {
      "needs_background": "light"
     },
     "output_type": "display_data"
    }
   ],
   "source": [
    "# JK\n",
    "\n",
    "quant_jk = []\n",
    "\n",
    "for i in range(len(sample)):\n",
    "    subsample = np.delete(sample, i)\n",
    "    quant_jk.append(np.quantile(subsample, 0.75))\n",
    "\n",
    "plt.hist(quant_jk, bins=20)    \n"
   ]
  },
  {
   "cell_type": "code",
   "execution_count": 17,
   "id": "65c509c1",
   "metadata": {
    "ExecuteTime": {
     "end_time": "2022-09-19T13:50:01.406922Z",
     "start_time": "2022-09-19T13:50:01.401609Z"
    }
   },
   "outputs": [
    {
     "data": {
      "text/plain": [
       "array([2.85596566, 2.891099  ])"
      ]
     },
     "execution_count": 17,
     "metadata": {},
     "output_type": "execute_result"
    }
   ],
   "source": [
    "np.quantile(quant_jk, (0.025, 0.975))"
   ]
  },
  {
   "cell_type": "code",
   "execution_count": 21,
   "id": "36a9a84f",
   "metadata": {
    "ExecuteTime": {
     "end_time": "2022-09-19T13:54:12.095881Z",
     "start_time": "2022-09-19T13:54:11.373639Z"
    }
   },
   "outputs": [],
   "source": [
    "import pandas as pd\n",
    "import statsmodels.formula.api as sm"
   ]
  },
  {
   "cell_type": "code",
   "execution_count": 20,
   "id": "65d63fcd",
   "metadata": {
    "ExecuteTime": {
     "end_time": "2022-09-19T13:53:14.615222Z",
     "start_time": "2022-09-19T13:53:14.611700Z"
    }
   },
   "outputs": [],
   "source": [
    "# JK in regression \n",
    "\n",
    "n_point = 25 \n",
    "x = np.linspace(1,10,25)\n",
    "u = npr.normal(0,8, n_point-1)\n",
    "u = np.append(u, 20)\n",
    "b1=2\n",
    "b2=5\n",
    "y = b1 + b2*x+u"
   ]
  },
  {
   "cell_type": "code",
   "execution_count": 23,
   "id": "bd181769",
   "metadata": {
    "ExecuteTime": {
     "end_time": "2022-09-19T13:55:30.467122Z",
     "start_time": "2022-09-19T13:55:30.457135Z"
    }
   },
   "outputs": [],
   "source": [
    "df = pd.DataFrame({'x':x, 'y':y})\n",
    "ols = sm.ols(formula='y~x', data = df)\n",
    "res = ols.fit()"
   ]
  },
  {
   "cell_type": "code",
   "execution_count": 25,
   "id": "ab96d615",
   "metadata": {
    "ExecuteTime": {
     "end_time": "2022-09-19T13:55:35.499051Z",
     "start_time": "2022-09-19T13:55:35.492081Z"
    }
   },
   "outputs": [
    {
     "data": {
      "text/html": [
       "<div>\n",
       "<style scoped>\n",
       "    .dataframe tbody tr th:only-of-type {\n",
       "        vertical-align: middle;\n",
       "    }\n",
       "\n",
       "    .dataframe tbody tr th {\n",
       "        vertical-align: top;\n",
       "    }\n",
       "\n",
       "    .dataframe thead th {\n",
       "        text-align: right;\n",
       "    }\n",
       "</style>\n",
       "<table border=\"1\" class=\"dataframe\">\n",
       "  <thead>\n",
       "    <tr style=\"text-align: right;\">\n",
       "      <th></th>\n",
       "      <th>0</th>\n",
       "      <th>1</th>\n",
       "    </tr>\n",
       "  </thead>\n",
       "  <tbody>\n",
       "    <tr>\n",
       "      <th>Intercept</th>\n",
       "      <td>-17.573355</td>\n",
       "      <td>-0.937992</td>\n",
       "    </tr>\n",
       "    <tr>\n",
       "      <th>x</th>\n",
       "      <td>5.209132</td>\n",
       "      <td>7.923415</td>\n",
       "    </tr>\n",
       "  </tbody>\n",
       "</table>\n",
       "</div>"
      ],
      "text/plain": [
       "                   0         1\n",
       "Intercept -17.573355 -0.937992\n",
       "x           5.209132  7.923415"
      ]
     },
     "execution_count": 25,
     "metadata": {},
     "output_type": "execute_result"
    }
   ],
   "source": [
    "res.conf_int()"
   ]
  },
  {
   "cell_type": "code",
   "execution_count": 27,
   "id": "8e1a3936",
   "metadata": {
    "ExecuteTime": {
     "end_time": "2022-09-19T13:58:22.378844Z",
     "start_time": "2022-09-19T13:58:22.118068Z"
    }
   },
   "outputs": [
    {
     "data": {
      "text/plain": [
       "(array([1., 0., 0., 0., 0., 0., 0., 0., 1., 2., 7., 5., 2., 2., 0., 2., 0.,\n",
       "        1., 1., 1.]),\n",
       " array([6.11430398, 6.15221163, 6.19011928, 6.22802693, 6.26593458,\n",
       "        6.30384223, 6.34174988, 6.37965754, 6.41756519, 6.45547284,\n",
       "        6.49338049, 6.53128814, 6.56919579, 6.60710344, 6.64501109,\n",
       "        6.68291874, 6.72082639, 6.75873404, 6.79664169, 6.83454935,\n",
       "        6.872457  ]),\n",
       " <BarContainer object of 20 artists>)"
      ]
     },
     "execution_count": 27,
     "metadata": {},
     "output_type": "execute_result"
    },
    {
     "data": {
      "image/png": "[encoded data removed]",
      "text/plain": [
       "<Figure size 432x288 with 1 Axes>"
      ]
     },
     "metadata": {
      "needs_background": "light"
     },
     "output_type": "display_data"
    }
   ],
   "source": [
    "b2_jk = []\n",
    "\n",
    "for i in range(len(x)):\n",
    "    \n",
    "    x_sub = np.delete(x, i)\n",
    "    y_sub = np.delete(y, i)\n",
    "    \n",
    "    df_sub = pd.DataFrame({'x':x_sub, 'y':y_sub})\n",
    "    ols_sub = sm.ols(formula='y~x', data = df_sub)\n",
    "    res_sub = ols_sub.fit()\n",
    "    \n",
    "    b2_jk.append(res_sub.params[1])\n",
    "\n",
    "plt.hist(b2_jk, bins=20)    \n"
   ]
  },
  {
   "cell_type": "code",
   "execution_count": 29,
   "id": "abe10311",
   "metadata": {
    "ExecuteTime": {
     "end_time": "2022-09-19T13:59:38.465215Z",
     "start_time": "2022-09-19T13:59:38.457611Z"
    }
   },
   "outputs": [
    {
     "data": {
      "text/html": [
       "<div>\n",
       "<style scoped>\n",
       "    .dataframe tbody tr th:only-of-type {\n",
       "        vertical-align: middle;\n",
       "    }\n",
       "\n",
       "    .dataframe tbody tr th {\n",
       "        vertical-align: top;\n",
       "    }\n",
       "\n",
       "    .dataframe thead th {\n",
       "        text-align: right;\n",
       "    }\n",
       "</style>\n",
       "<table border=\"1\" class=\"dataframe\">\n",
       "  <thead>\n",
       "    <tr style=\"text-align: right;\">\n",
       "      <th></th>\n",
       "      <th>0</th>\n",
       "      <th>1</th>\n",
       "    </tr>\n",
       "  </thead>\n",
       "  <tbody>\n",
       "    <tr>\n",
       "      <th>Intercept</th>\n",
       "      <td>-17.573355</td>\n",
       "      <td>-0.937992</td>\n",
       "    </tr>\n",
       "    <tr>\n",
       "      <th>x</th>\n",
       "      <td>5.209132</td>\n",
       "      <td>7.923415</td>\n",
       "    </tr>\n",
       "  </tbody>\n",
       "</table>\n",
       "</div>"
      ],
      "text/plain": [
       "                   0         1\n",
       "Intercept -17.573355 -0.937992\n",
       "x           5.209132  7.923415"
      ]
     },
     "execution_count": 29,
     "metadata": {},
     "output_type": "execute_result"
    }
   ],
   "source": [
    "res.conf_int()"
   ]
  },
  {
   "cell_type": "code",
   "execution_count": 31,
   "id": "9254021b",
   "metadata": {
    "ExecuteTime": {
     "end_time": "2022-09-19T14:00:01.935951Z",
     "start_time": "2022-09-19T14:00:01.929841Z"
    }
   },
   "outputs": [
    {
     "data": {
      "text/plain": [
       "array([6.31754404, 6.82705127])"
      ]
     },
     "execution_count": 31,
     "metadata": {},
     "output_type": "execute_result"
    }
   ],
   "source": [
    "np.quantile(b2_jk, (0.025, 0.975))"
   ]
  },
  {
   "cell_type": "markdown",
   "id": "600587f0",
   "metadata": {},
   "source": [
    "### Bootstrap in Regression"
   ]
  },
  {
   "cell_type": "code",
   "execution_count": 53,
   "id": "87790945",
   "metadata": {
    "ExecuteTime": {
     "end_time": "2022-09-19T14:24:21.485270Z",
     "start_time": "2022-09-19T14:24:21.480165Z"
    }
   },
   "outputs": [],
   "source": [
    "n_point = 25 \n",
    "x = np.linspace(1,10,25)\n",
    "# u = npr.normal(0,8, n_point)\n",
    "u = npr.exponential(10, n_point)*npr.choice([-1,1],n_point)\n",
    "b1=2\n",
    "b2=5\n",
    "y = b1 + b2*x+u"
   ]
  },
  {
   "cell_type": "code",
   "execution_count": 54,
   "id": "7dd8d698",
   "metadata": {
    "ExecuteTime": {
     "end_time": "2022-09-19T14:24:23.140837Z",
     "start_time": "2022-09-19T14:24:23.043007Z"
    }
   },
   "outputs": [
    {
     "data": {
      "text/plain": [
       "(array([1., 0., 0., 0., 1., 2., 4., 6., 5., 6.]),\n",
       " array([-51.66778171, -45.03857274, -38.40936377, -31.7801548 ,\n",
       "        -25.15094582, -18.52173685, -11.89252788,  -5.26331891,\n",
       "          1.36589006,   7.99509903,  14.62430801]),\n",
       " <BarContainer object of 10 artists>)"
      ]
     },
     "execution_count": 54,
     "metadata": {},
     "output_type": "execute_result"
    },
    {
     "data": {
      "image/png": "[encoded data removed]",
      "text/plain": [
       "<Figure size 432x288 with 1 Axes>"
      ]
     },
     "metadata": {
      "needs_background": "light"
     },
     "output_type": "display_data"
    }
   ],
   "source": [
    "plt.hist(u)"
   ]
  },
  {
   "cell_type": "code",
   "execution_count": null,
   "id": "4a601353",
   "metadata": {},
   "outputs": [],
   "source": []
  },
  {
   "cell_type": "code",
   "execution_count": 55,
   "id": "309acb33",
   "metadata": {
    "ExecuteTime": {
     "end_time": "2022-09-19T14:24:37.262412Z",
     "start_time": "2022-09-19T14:24:37.237069Z"
    }
   },
   "outputs": [
    {
     "data": {
      "text/html": [
       "<div>\n",
       "<style scoped>\n",
       "    .dataframe tbody tr th:only-of-type {\n",
       "        vertical-align: middle;\n",
       "    }\n",
       "\n",
       "    .dataframe tbody tr th {\n",
       "        vertical-align: top;\n",
       "    }\n",
       "\n",
       "    .dataframe thead th {\n",
       "        text-align: right;\n",
       "    }\n",
       "</style>\n",
       "<table border=\"1\" class=\"dataframe\">\n",
       "  <thead>\n",
       "    <tr style=\"text-align: right;\">\n",
       "      <th></th>\n",
       "      <th>0</th>\n",
       "      <th>1</th>\n",
       "    </tr>\n",
       "  </thead>\n",
       "  <tbody>\n",
       "    <tr>\n",
       "      <th>Intercept</th>\n",
       "      <td>-14.813062</td>\n",
       "      <td>11.575516</td>\n",
       "    </tr>\n",
       "    <tr>\n",
       "      <th>x</th>\n",
       "      <td>3.075331</td>\n",
       "      <td>7.380981</td>\n",
       "    </tr>\n",
       "  </tbody>\n",
       "</table>\n",
       "</div>"
      ],
      "text/plain": [
       "                   0          1\n",
       "Intercept -14.813062  11.575516\n",
       "x           3.075331   7.380981"
      ]
     },
     "execution_count": 55,
     "metadata": {},
     "output_type": "execute_result"
    }
   ],
   "source": [
    "df = pd.DataFrame({'x':x, 'y':y})\n",
    "ols = sm.ols(formula='y~x', data = df)\n",
    "res = ols.fit()\n",
    "\n",
    "res.conf_int()"
   ]
  },
  {
   "cell_type": "code",
   "execution_count": null,
   "id": "c76b766b",
   "metadata": {},
   "outputs": [],
   "source": [
    "# Pair bootstrap"
   ]
  },
  {
   "cell_type": "code",
   "execution_count": 56,
   "id": "adf9cf91",
   "metadata": {
    "ExecuteTime": {
     "end_time": "2022-09-19T14:24:44.308196Z",
     "start_time": "2022-09-19T14:24:40.403300Z"
    }
   },
   "outputs": [],
   "source": [
    "b1_pair = []\n",
    "b2_pair = []\n",
    "\n",
    "for i in range(1000):\n",
    "    subsample = df.sample(n=n_point, replace=True)\n",
    "    ols_sub = sm.ols(formula='y~x', data = subsample)\n",
    "    res_sub = ols_sub.fit()\n",
    "    b1_pair.append(res_sub.params[0])\n",
    "    b2_pair.append(res_sub.params[1])\n",
    "    "
   ]
  },
  {
   "cell_type": "code",
   "execution_count": null,
   "id": "d4121a72",
   "metadata": {},
   "outputs": [],
   "source": []
  },
  {
   "cell_type": "code",
   "execution_count": 57,
   "id": "0c9754ec",
   "metadata": {
    "ExecuteTime": {
     "end_time": "2022-09-19T14:24:44.683283Z",
     "start_time": "2022-09-19T14:24:44.571115Z"
    }
   },
   "outputs": [
    {
     "data": {
      "text/plain": [
       "(array([  5.,  19.,  56., 136., 227., 269., 206.,  69.,  11.,   2.]),\n",
       " array([-29.09834477, -23.74015512, -18.38196547, -13.02377583,\n",
       "         -7.66558618,  -2.30739653,   3.05079312,   8.40898277,\n",
       "         13.76717242,  19.12536207,  24.48355171]),\n",
       " <BarContainer object of 10 artists>)"
      ]
     },
     "execution_count": 57,
     "metadata": {},
     "output_type": "execute_result"
    },
    {
     "data": {
      "image/png": "[encoded data removed]",
      "text/plain": [
       "<Figure size 432x288 with 1 Axes>"
      ]
     },
     "metadata": {
      "needs_background": "light"
     },
     "output_type": "display_data"
    }
   ],
   "source": [
    "plt.hist(b1_pair)"
   ]
  },
  {
   "cell_type": "code",
   "execution_count": 58,
   "id": "b5b5a87e",
   "metadata": {
    "ExecuteTime": {
     "end_time": "2022-09-19T14:24:48.017050Z",
     "start_time": "2022-09-19T14:24:47.890336Z"
    }
   },
   "outputs": [
    {
     "data": {
      "text/plain": [
       "(array([  2.,  18.,  67., 184., 271., 233., 139.,  57.,  25.,   4.]),\n",
       " array([1.69395847, 2.41422233, 3.13448619, 3.85475005, 4.57501391,\n",
       "        5.29527777, 6.01554163, 6.73580549, 7.45606935, 8.17633321,\n",
       "        8.89659707]),\n",
       " <BarContainer object of 10 artists>)"
      ]
     },
     "execution_count": 58,
     "metadata": {},
     "output_type": "execute_result"
    },
    {
     "data": {
      "image/png": "[encoded data removed]",
      "text/plain": [
       "<Figure size 432x288 with 1 Axes>"
      ]
     },
     "metadata": {
      "needs_background": "light"
     },
     "output_type": "display_data"
    }
   ],
   "source": [
    "plt.hist(b2_pair)"
   ]
  },
  {
   "cell_type": "code",
   "execution_count": 59,
   "id": "c990cabf",
   "metadata": {
    "ExecuteTime": {
     "end_time": "2022-09-19T14:25:03.362310Z",
     "start_time": "2022-09-19T14:25:03.357654Z"
    }
   },
   "outputs": [
    {
     "data": {
      "text/plain": [
       "array([3.2125164 , 7.57573482])"
      ]
     },
     "execution_count": 59,
     "metadata": {},
     "output_type": "execute_result"
    }
   ],
   "source": [
    "np.quantile(b2_pair, (0.025, 0.975))"
   ]
  },
  {
   "cell_type": "code",
   "execution_count": 60,
   "id": "a86dd79a",
   "metadata": {
    "ExecuteTime": {
     "end_time": "2022-09-19T14:25:05.136307Z",
     "start_time": "2022-09-19T14:25:05.125368Z"
    }
   },
   "outputs": [
    {
     "data": {
      "text/html": [
       "<div>\n",
       "<style scoped>\n",
       "    .dataframe tbody tr th:only-of-type {\n",
       "        vertical-align: middle;\n",
       "    }\n",
       "\n",
       "    .dataframe tbody tr th {\n",
       "        vertical-align: top;\n",
       "    }\n",
       "\n",
       "    .dataframe thead th {\n",
       "        text-align: right;\n",
       "    }\n",
       "</style>\n",
       "<table border=\"1\" class=\"dataframe\">\n",
       "  <thead>\n",
       "    <tr style=\"text-align: right;\">\n",
       "      <th></th>\n",
       "      <th>0</th>\n",
       "      <th>1</th>\n",
       "    </tr>\n",
       "  </thead>\n",
       "  <tbody>\n",
       "    <tr>\n",
       "      <th>Intercept</th>\n",
       "      <td>-14.813062</td>\n",
       "      <td>11.575516</td>\n",
       "    </tr>\n",
       "    <tr>\n",
       "      <th>x</th>\n",
       "      <td>3.075331</td>\n",
       "      <td>7.380981</td>\n",
       "    </tr>\n",
       "  </tbody>\n",
       "</table>\n",
       "</div>"
      ],
      "text/plain": [
       "                   0          1\n",
       "Intercept -14.813062  11.575516\n",
       "x           3.075331   7.380981"
      ]
     },
     "execution_count": 60,
     "metadata": {},
     "output_type": "execute_result"
    }
   ],
   "source": [
    "res.conf_int()"
   ]
  }
 ],
 "metadata": {
  "hide_input": false,
  "kernelspec": {
   "display_name": "Python 3 (ipykernel)",
   "language": "python",
   "name": "python3"
  },
  "language_info": {
   "codemirror_mode": {
    "name": "ipython",
    "version": 3
   },
   "file_extension": ".py",
   "mimetype": "text/x-python",
   "name": "python",
   "nbconvert_exporter": "python",
   "pygments_lexer": "ipython3",
   "version": "3.10.4"
  },
  "latex_envs": {
   "LaTeX_envs_menu_present": true,
   "autoclose": true,
   "autocomplete": true,
   "bibliofile": "biblio.bib",
   "cite_by": "apalike",
   "current_citInitial": 1,
   "eqLabelWithNumbers": true,
   "eqNumInitial": 1,
   "hotkeys": {
    "equation": "Ctrl-E",
    "itemize": "Ctrl-I"
   },
   "labels_anchors": false,
   "latex_user_defs": false,
   "report_style_numbering": false,
   "user_envs_cfg": false
  },
  "toc": {
   "base_numbering": 1,
   "nav_menu": {},
   "number_sections": true,
   "sideBar": true,
   "skip_h1_title": false,
   "title_cell": "Table of Contents",
   "title_sidebar": "Contents",
   "toc_cell": false,
   "toc_position": {},
   "toc_section_display": true,
   "toc_window_display": false
  },
  "varInspector": {
   "cols": {
    "lenName": 16,
    "lenType": 16,
    "lenVar": 40
   },
   "kernels_config": {
    "python": {
     "delete_cmd_postfix": "",
     "delete_cmd_prefix": "del ",
     "library": "var_list.py",
     "varRefreshCmd": "print(var_dic_list())"
    },
    "r": {
     "delete_cmd_postfix": ") ",
     "delete_cmd_prefix": "rm(",
     "library": "var_list.r",
     "varRefreshCmd": "cat(var_dic_list()) "
    }
   },
   "types_to_exclude": [
    "module",
    "function",
    "builtin_function_or_method",
    "instance",
    "_Feature"
   ],
   "window_display": false
  }
 },
 "nbformat": 4,
 "nbformat_minor": 5
}

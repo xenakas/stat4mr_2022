{
 "cells": [
  {
   "cell_type": "markdown",
   "metadata": {
    "id": "94-nTxBafeaO"
   },
   "source": [
    "# Data loading\n",
    "Main source: [eurostat](https://ec.europa.eu/eurostat/web/main/home)\n",
    "\n",
    "*   [Bi-annual gas prices for houssehold consumers from 2007](https://appsso.eurostat.ec.europa.eu/nui/show.do?dataset=nrg_pc_202&lang=en)\n",
    "*   [Bi-annual gas prices for non-household consumers from 2007](https://appsso.eurostat.ec.europa.eu/nui/show.do?dataset=nrg_pc_203&lang=en)\n",
    "*   [Bi-annual data for domestic consumers until 2007](https://appsso.eurostat.ec.europa.eu/nui/show.do?dataset=nrg_pc_202_h&lang=en)\n",
    "*   [Bi-annual data for industrial consumers until 2007](https://appsso.eurostat.ec.europa.eu/nui/show.do?dataset=nrg_pc_203_h&lang=en)\n",
    "\n"
   ]
  },
  {
   "cell_type": "code",
   "execution_count": 1,
   "metadata": {
    "colab": {
     "base_uri": "https://localhost:8080/"
    },
    "id": "bEN5wY_yj5Kv",
    "outputId": "24c2a76b-7c7c-4be3-a4be-e9f0f5f61513"
   },
   "outputs": [
    {
     "name": "stdout",
     "output_type": "stream",
     "text": [
      "/content\n",
      "rm: cannot remove 'eurostat_data': No such file or directory\n",
      "--2023-01-21 20:47:04--  https://ec.europa.eu/eurostat/estat-navtree-portlet-prod/BulkDownloadListing?file=data/nrg_chdd_a.tsv.gz\n",
      "Resolving ec.europa.eu (ec.europa.eu)... 147.67.34.30, 147.67.210.30, 2a01:7080:14:100::666:30, ...\n",
      "Connecting to ec.europa.eu (ec.europa.eu)|147.67.34.30|:443... connected.\n",
      "HTTP request sent, awaiting response... 200 \n",
      "Cookie coming from ec.europa.eu attempted to set domain to europa.eu/eurostat\n",
      "Length: 8464 (8.3K) [application/octet-stream]\n",
      "Saving to: ‘eurostat_data/nrg_chdd_a.tsv.gz’\n",
      "\n",
      "eurostat_data/nrg_c 100%[===================>]   8.27K  --.-KB/s    in 0.001s  \n",
      "\n",
      "2023-01-21 20:47:05 (8.92 MB/s) - ‘eurostat_data/nrg_chdd_a.tsv.gz’ saved [8464/8464]\n",
      "\n",
      "--2023-01-21 20:47:05--  https://ec.europa.eu/eurostat/estat-navtree-portlet-prod/BulkDownloadListing?file=data/nrg_ind_ren.tsv.gz\n",
      "Resolving ec.europa.eu (ec.europa.eu)... 147.67.34.30, 147.67.210.30, 2a01:7080:14:100::666:30, ...\n",
      "Connecting to ec.europa.eu (ec.europa.eu)|147.67.34.30|:443... connected.\n",
      "HTTP request sent, awaiting response... 200 \n",
      "Cookie coming from ec.europa.eu attempted to set domain to europa.eu/eurostat\n",
      "Length: 8755 (8.5K) [application/octet-stream]\n",
      "Saving to: ‘eurostat_data/nrg_ind_ren.tsv.gz’\n",
      "\n",
      "eurostat_data/nrg_i 100%[===================>]   8.55K  --.-KB/s    in 0.001s  \n",
      "\n",
      "2023-01-21 20:47:06 (8.13 MB/s) - ‘eurostat_data/nrg_ind_ren.tsv.gz’ saved [8755/8755]\n",
      "\n",
      "--2023-01-21 20:47:06--  https://ec.europa.eu/eurostat/estat-navtree-portlet-prod/BulkDownloadListing?file=data/prc_ppp_ind.tsv.gz\n",
      "Resolving ec.europa.eu (ec.europa.eu)... 147.67.34.30, 147.67.210.30, 2a01:7080:14:100::666:30, ...\n",
      "Connecting to ec.europa.eu (ec.europa.eu)|147.67.34.30|:443... connected.\n",
      "HTTP request sent, awaiting response... 200 \n",
      "Cookie coming from ec.europa.eu attempted to set domain to europa.eu/eurostat\n",
      "Length: 3184556 (3.0M) [application/octet-stream]\n",
      "Saving to: ‘eurostat_data/prc_ppp_ind.tsv.gz’\n",
      "\n",
      "eurostat_data/prc_p 100%[===================>]   3.04M  1.19MB/s    in 2.6s    \n",
      "\n",
      "2023-01-21 20:47:09 (1.19 MB/s) - ‘eurostat_data/prc_ppp_ind.tsv.gz’ saved [3184556/3184556]\n",
      "\n",
      "--2023-01-21 20:47:10--  https://ec.europa.eu/eurostat/estat-navtree-portlet-prod/BulkDownloadListing?file=data/prc_hicp_aind.tsv.gz\n",
      "Resolving ec.europa.eu (ec.europa.eu)... 147.67.34.30, 147.67.210.30, 2a01:7080:14:100::666:30, ...\n",
      "Connecting to ec.europa.eu (ec.europa.eu)|147.67.34.30|:443... connected.\n",
      "HTTP request sent, awaiting response... 200 \n",
      "Cookie coming from ec.europa.eu attempted to set domain to europa.eu/eurostat\n",
      "Length: 1173950 (1.1M) [application/octet-stream]\n",
      "Saving to: ‘eurostat_data/prc_hicp_aind.tsv.gz’\n",
      "\n",
      "eurostat_data/prc_h 100%[===================>]   1.12M  1007KB/s    in 1.1s    \n",
      "\n",
      "2023-01-21 20:47:11 (1007 KB/s) - ‘eurostat_data/prc_hicp_aind.tsv.gz’ saved [1173950/1173950]\n",
      "\n",
      "--2023-01-21 20:47:12--  https://ec.europa.eu/eurostat/estat-navtree-portlet-prod/BulkDownloadListing?file=data/env_ac_taxener.tsv.gz\n",
      "Resolving ec.europa.eu (ec.europa.eu)... 147.67.34.30, 147.67.210.30, 2a01:7080:14:100::666:30, ...\n",
      "Connecting to ec.europa.eu (ec.europa.eu)|147.67.34.30|:443... connected.\n",
      "HTTP request sent, awaiting response... 200 \n",
      "Cookie coming from ec.europa.eu attempted to set domain to europa.eu/eurostat\n",
      "Length: 10160 (9.9K) [application/octet-stream]\n",
      "Saving to: ‘eurostat_data/env_ac_taxener.tsv.gz’\n",
      "\n",
      "eurostat_data/env_a 100%[===================>]   9.92K  --.-KB/s    in 0.001s  \n",
      "\n",
      "2023-01-21 20:47:12 (8.33 MB/s) - ‘eurostat_data/env_ac_taxener.tsv.gz’ saved [10160/10160]\n",
      "\n",
      "--2023-01-21 20:47:13--  https://ec.europa.eu/eurostat/estat-navtree-portlet-prod/BulkDownloadListing?file=data/nama_10_gdp.tsv.gz\n",
      "Resolving ec.europa.eu (ec.europa.eu)... 147.67.34.30, 147.67.210.30, 2a01:7080:14:100::666:30, ...\n",
      "Connecting to ec.europa.eu (ec.europa.eu)|147.67.34.30|:443... connected.\n",
      "HTTP request sent, awaiting response... 200 \n",
      "Cookie coming from ec.europa.eu attempted to set domain to europa.eu/eurostat\n",
      "Length: 2666033 (2.5M) [application/octet-stream]\n",
      "Saving to: ‘eurostat_data/nama_10_gdp.tsv.gz’\n",
      "\n",
      "eurostat_data/nama_ 100%[===================>]   2.54M  1.38MB/s    in 1.8s    \n",
      "\n",
      "2023-01-21 20:47:15 (1.38 MB/s) - ‘eurostat_data/nama_10_gdp.tsv.gz’ saved [2666033/2666033]\n",
      "\n",
      "--2023-01-21 20:47:15--  https://ec.europa.eu/eurostat/estat-navtree-portlet-prod/BulkDownloadListing?file=data/nrg_bal_peh.tsv.gz\n",
      "Resolving ec.europa.eu (ec.europa.eu)... 147.67.34.30, 147.67.210.30, 2a01:7080:14:100::666:30, ...\n",
      "Connecting to ec.europa.eu (ec.europa.eu)|147.67.34.30|:443... connected.\n",
      "HTTP request sent, awaiting response... 200 \n",
      "Cookie coming from ec.europa.eu attempted to set domain to europa.eu/eurostat\n",
      "Length: 2050101 (2.0M) [application/octet-stream]\n",
      "Saving to: ‘eurostat_data/nrg_bal_peh.tsv.gz’\n",
      "\n",
      "eurostat_data/nrg_b 100%[===================>]   1.96M  1.31MB/s    in 1.5s    \n",
      "\n",
      "2023-01-21 20:47:17 (1.31 MB/s) - ‘eurostat_data/nrg_bal_peh.tsv.gz’ saved [2050101/2050101]\n",
      "\n",
      "--2023-01-21 20:47:18--  https://ec.europa.eu/eurostat/estat-navtree-portlet-prod/BulkDownloadListing?file=data/nrg_bal_c.tsv.gz\n",
      "Resolving ec.europa.eu (ec.europa.eu)... 147.67.34.30, 147.67.210.30, 2a01:7080:14:100::666:30, ...\n",
      "Connecting to ec.europa.eu (ec.europa.eu)|147.67.34.30|:443... connected.\n",
      "HTTP request sent, awaiting response... 200 \n",
      "Cookie coming from ec.europa.eu attempted to set domain to europa.eu/eurostat\n",
      "Length: 22211941 (21M) [application/octet-stream]\n",
      "Saving to: ‘eurostat_data/nrg_bal_c.tsv.gz’\n",
      "\n",
      "eurostat_data/nrg_b 100%[===================>]  21.18M  1.47MB/s    in 15s     \n",
      "\n",
      "2023-01-21 20:47:33 (1.43 MB/s) - ‘eurostat_data/nrg_bal_c.tsv.gz’ saved [22211941/22211941]\n",
      "\n",
      "--2023-01-21 20:47:35--  https://ec.europa.eu/eurostat/estat-navtree-portlet-prod/BulkDownloadListing?file=data/nrg_cb_gas.tsv.gz\n",
      "Resolving ec.europa.eu (ec.europa.eu)... 147.67.210.30, 147.67.34.30, 2a01:7080:14:100::666:30, ...\n",
      "Connecting to ec.europa.eu (ec.europa.eu)|147.67.210.30|:443... connected.\n",
      "HTTP request sent, awaiting response... 200 \n",
      "Cookie coming from ec.europa.eu attempted to set domain to europa.eu/eurostat\n",
      "Length: 422394 (412K) [application/octet-stream]\n",
      "Saving to: ‘eurostat_data/nrg_cb_gas.tsv.gz’\n",
      "\n",
      "eurostat_data/nrg_c 100%[===================>] 412.49K   586KB/s    in 0.7s    \n",
      "\n",
      "2023-01-21 20:47:36 (586 KB/s) - ‘eurostat_data/nrg_cb_gas.tsv.gz’ saved [422394/422394]\n",
      "\n",
      "--2023-01-21 20:47:36--  https://ec.europa.eu/eurostat/estat-navtree-portlet-prod/BulkDownloadListing?file=data/nrg_ind_id.tsv.gz\n",
      "Resolving ec.europa.eu (ec.europa.eu)... 147.67.210.30, 147.67.34.30, 2a01:7080:14:100::666:30, ...\n",
      "Connecting to ec.europa.eu (ec.europa.eu)|147.67.210.30|:443... connected.\n",
      "HTTP request sent, awaiting response... 200 \n",
      "Cookie coming from ec.europa.eu attempted to set domain to europa.eu/eurostat\n",
      "Length: 32686 (32K) [application/octet-stream]\n",
      "Saving to: ‘eurostat_data/nrg_ind_id.tsv.gz’\n",
      "\n",
      "eurostat_data/nrg_i 100%[===================>]  31.92K  --.-KB/s    in 0.006s  \n",
      "\n",
      "2023-01-21 20:47:36 (5.43 MB/s) - ‘eurostat_data/nrg_ind_id.tsv.gz’ saved [32686/32686]\n",
      "\n",
      "--2023-01-21 20:47:37--  https://ec.europa.eu/eurostat/estat-navtree-portlet-prod/BulkDownloadListing?file=data/nrg_ind_eff.tsv.gz\n",
      "Resolving ec.europa.eu (ec.europa.eu)... 147.67.210.30, 147.67.34.30, 2a01:7080:14:100::666:30, ...\n",
      "Connecting to ec.europa.eu (ec.europa.eu)|147.67.210.30|:443... connected.\n",
      "HTTP request sent, awaiting response... 200 \n",
      "Cookie coming from ec.europa.eu attempted to set domain to europa.eu/eurostat\n",
      "Length: 17420 (17K) [application/octet-stream]\n",
      "Saving to: ‘eurostat_data/nrg_ind_eff.tsv.gz’\n",
      "\n",
      "eurostat_data/nrg_i 100%[===================>]  17.01K  --.-KB/s    in 0.001s  \n",
      "\n",
      "2023-01-21 20:47:37 (23.3 MB/s) - ‘eurostat_data/nrg_ind_eff.tsv.gz’ saved [17420/17420]\n",
      "\n",
      "--2023-01-21 20:47:37--  https://ec.europa.eu/eurostat/estat-navtree-portlet-prod/BulkDownloadListing?file=data/nrg_ind_fecf.tsv.gz\n",
      "Resolving ec.europa.eu (ec.europa.eu)... 147.67.210.30, 147.67.34.30, 2a01:7080:14:100::666:30, ...\n",
      "Connecting to ec.europa.eu (ec.europa.eu)|147.67.210.30|:443... connected.\n",
      "HTTP request sent, awaiting response... 200 \n",
      "Cookie coming from ec.europa.eu attempted to set domain to europa.eu/eurostat\n",
      "Length: 80341 (78K) [application/octet-stream]\n",
      "Saving to: ‘eurostat_data/nrg_ind_fecf.tsv.gz’\n",
      "\n",
      "eurostat_data/nrg_i 100%[===================>]  78.46K  --.-KB/s    in 0.1s    \n",
      "\n",
      "2023-01-21 20:47:38 (809 KB/s) - ‘eurostat_data/nrg_ind_fecf.tsv.gz’ saved [80341/80341]\n",
      "\n",
      "--2023-01-21 20:47:38--  https://ec.europa.eu/eurostat/estat-navtree-portlet-prod/BulkDownloadListing?file=data/nrg_inf_lbpc.tsv.gz\n",
      "Resolving ec.europa.eu (ec.europa.eu)... 147.67.210.30, 147.67.34.30, 2a01:7080:14:100::666:30, ...\n",
      "Connecting to ec.europa.eu (ec.europa.eu)|147.67.210.30|:443... connected.\n",
      "HTTP request sent, awaiting response... 200 \n",
      "Cookie coming from ec.europa.eu attempted to set domain to europa.eu/eurostat\n",
      "Length: 3880 (3.8K) [application/octet-stream]\n",
      "Saving to: ‘eurostat_data/nrg_inf_lbpc.tsv.gz’\n",
      "\n",
      "eurostat_data/nrg_i 100%[===================>]   3.79K  --.-KB/s    in 0s      \n",
      "\n",
      "2023-01-21 20:47:38 (283 MB/s) - ‘eurostat_data/nrg_inf_lbpc.tsv.gz’ saved [3880/3880]\n",
      "\n",
      "--2023-01-21 20:47:39--  https://ec.europa.eu/eurostat/estat-navtree-portlet-prod/BulkDownloadListing?file=data/nrg_ind_pehap.tsv.gz\n",
      "Resolving ec.europa.eu (ec.europa.eu)... 147.67.210.30, 147.67.34.30, 2a01:7080:14:100::666:30, ...\n",
      "Connecting to ec.europa.eu (ec.europa.eu)|147.67.210.30|:443... connected.\n",
      "HTTP request sent, awaiting response... 200 \n",
      "Cookie coming from ec.europa.eu attempted to set domain to europa.eu/eurostat\n",
      "Length: 242678 (237K) [application/octet-stream]\n",
      "Saving to: ‘eurostat_data/nrg_ind_pehap.tsv.gz’\n",
      "\n",
      "eurostat_data/nrg_i 100%[===================>] 236.99K   674KB/s    in 0.4s    \n",
      "\n",
      "2023-01-21 20:47:39 (674 KB/s) - ‘eurostat_data/nrg_ind_pehap.tsv.gz’ saved [242678/242678]\n",
      "\n",
      "env_ac_taxener.tsv  nrg_cb_gas.tsv    nrg_ind_id.tsv     prc_hicp_aind.tsv\n",
      "nama_10_gdp.tsv     nrg_chdd_a.tsv    nrg_ind_pehap.tsv  prc_ppp_ind.tsv\n",
      "nrg_bal_c.tsv       nrg_ind_eff.tsv   nrg_ind_ren.tsv\n",
      "nrg_bal_peh.tsv     nrg_ind_fecf.tsv  nrg_inf_lbpc.tsv\n"
     ]
    }
   ],
   "source": [
    "# import libraries\n",
    "import pandas as pd\n",
    "import numpy as np\n",
    "import datetime\n",
    "import matplotlib.pyplot as plt\n",
    "from google.colab import files\n",
    "from scipy.stats import mannwhitneyu\n",
    "from matplotlib.pyplot import figure\n",
    "import seaborn as sns\n",
    "sns.set()\n",
    "%matplotlib inline\n",
    "!pwd\n",
    "\n",
    "# Dataset names in https://ec.europa.eu/eurostat/web/main/data/database\n",
    "\n",
    "HEATING_INDEX_DATA = 'nrg_chdd_a' \n",
    "RENEWABLE_ENERGY_SHARE_DATA = 'nrg_ind_ren'\n",
    "PPP_DATA = \"prc_ppp_ind\" # Purchase Power Parity\n",
    "HICP_DATA = \"prc_hicp_aind\" # Harmonized prices index (inflation)\n",
    "ENERGY_TAXES = \"env_ac_taxener\" # Energy taxes by paying sector\n",
    "GPD_DATA = \"nama_10_gdp\" # GDP\n",
    "ELECTRICITY_PRODUCTION = \"nrg_bal_peh\" # Production of electricity and derived heat by type of fuel\n",
    "GROSS_AVAILABLE_ENERGY = \"nrg_bal_c\"\n",
    "GAS_OPERATIONS = \"nrg_cb_gas\" # Supply, transformation and consumption of gas\n",
    "IMPORTS_DEPENDENCY = \"nrg_ind_id\" # Energy imports dependency\n",
    "ENERGY_EFFICIENCY = \"nrg_ind_eff\" # Energy efficiency\n",
    "SHARE_OF_FUELS = \"nrg_ind_fecf\" # Share of fuels in final energy consumption\n",
    "BIOFUELS_PRODUCTION = \"nrg_inf_lbpc\" # Liquid biofuels production capacities\n",
    "EL_HEAT_PRODUCTION_BY_PLANT = \"nrg_ind_pehap\" # Production of electricity and heat by autoproducers, by type of plant\n",
    "\n",
    "datasets_names = [\n",
    "    HEATING_INDEX_DATA, \n",
    "    RENEWABLE_ENERGY_SHARE_DATA,\n",
    "    PPP_DATA,\n",
    "    HICP_DATA,\n",
    "    ENERGY_TAXES,\n",
    "    GPD_DATA,\n",
    "    ELECTRICITY_PRODUCTION,\n",
    "    GROSS_AVAILABLE_ENERGY,\n",
    "    GAS_OPERATIONS,\n",
    "    IMPORTS_DEPENDENCY,\n",
    "    ENERGY_EFFICIENCY,\n",
    "    SHARE_OF_FUELS,\n",
    "    BIOFUELS_PRODUCTION,\n",
    "    EL_HEAT_PRODUCTION_BY_PLANT\n",
    "    ]\n",
    "\n",
    "\n",
    "# Remove data from previous session\n",
    "!rm -r eurostat_data\n",
    "\n",
    "# Create a directory to store data from eurostat\n",
    "!mkdir eurostat_data\n",
    "\n",
    "# Download data from eurostat\n",
    "for dataset in datasets_names:\n",
    "  output_gz_file = f'eurostat_data/{dataset}.tsv.gz'\n",
    "  !wget -O {output_gz_file} https://ec.europa.eu/eurostat/estat-navtree-portlet-prod/BulkDownloadListing?file=data/{dataset}.tsv.gz\n",
    "\n",
    "  output_tsv_file = f'eurostat_data/{dataset}.tsv'\n",
    "  !gunzip -c {output_gz_file} > {output_tsv_file}\n",
    "  !rm {output_gz_file}\n",
    "\n",
    "%ls eurostat_data"
   ]
  },
  {
   "cell_type": "markdown",
   "metadata": {
    "id": "HDNAaDl6x6ek"
   },
   "source": [
    "# Data preprocessing\n",
    "## Convert eurostat data to data frames"
   ]
  },
  {
   "cell_type": "code",
   "execution_count": 2,
   "metadata": {
    "colab": {
     "base_uri": "https://localhost:8080/"
    },
    "id": "dxnHFm3JyDE5",
    "outputId": "1743c471-fce2-459b-a278-bd95be2c6b3d"
   },
   "outputs": [
    {
     "name": "stderr",
     "output_type": "stream",
     "text": [
      "/usr/local/lib/python3.8/dist-packages/IPython/core/interactiveshell.py:3326: DtypeWarning: Columns (5,6,7,8) have mixed types.Specify dtype option on import or set low_memory=False.\n",
      "  exec(code_obj, self.user_global_ns, self.user_ns)\n",
      "/usr/local/lib/python3.8/dist-packages/IPython/core/interactiveshell.py:3326: DtypeWarning: Columns (3) have mixed types.Specify dtype option on import or set low_memory=False.\n",
      "  exec(code_obj, self.user_global_ns, self.user_ns)\n"
     ]
    }
   ],
   "source": [
    "heating_index_df = pd.read_csv(f'eurostat_data/{HEATING_INDEX_DATA}.tsv', sep='\\t')\n",
    "renewable_energy_share_df = pd.read_csv(f'eurostat_data/{RENEWABLE_ENERGY_SHARE_DATA}.tsv', sep='\\t')\n",
    "ppp_df = pd.read_csv(f'eurostat_data/{PPP_DATA}.tsv', sep='\\t')\n",
    "hicp_df = pd.read_csv(f'eurostat_data/{HICP_DATA}.tsv', sep='\\t')\n",
    "energy_taxes_df = pd.read_csv(f'eurostat_data/{ENERGY_TAXES}.tsv', sep='\\t')\n",
    "gdp_df = pd.read_csv(f'eurostat_data/{GPD_DATA}.tsv', sep='\\t')\n",
    "electricity_production_df = pd.read_csv(f'eurostat_data/{ELECTRICITY_PRODUCTION}.tsv', sep='\\t')\n",
    "available_energy_df = pd.read_csv(f'eurostat_data/{GROSS_AVAILABLE_ENERGY}.tsv', sep='\\t')\n",
    "gas_operations_df = pd.read_csv(f'eurostat_data/{GAS_OPERATIONS}.tsv', sep='\\t')\n",
    "imports_dependency_df = pd.read_csv(f'eurostat_data/{IMPORTS_DEPENDENCY}.tsv', sep='\\t')\n",
    "energy_efficiency_df = pd.read_csv(f'eurostat_data/{ENERGY_EFFICIENCY}.tsv', sep='\\t')\n",
    "share_of_fuels_df = pd.read_csv(f'eurostat_data/{SHARE_OF_FUELS}.tsv', sep='\\t')\n",
    "biofules_production_df = pd.read_csv(f'eurostat_data/{BIOFUELS_PRODUCTION}.tsv', sep='\\t')\n",
    "el_heat_production_by_plant_df = pd.read_csv(f'eurostat_data/{EL_HEAT_PRODUCTION_BY_PLANT}.tsv', sep='\\t')"
   ]
  },
  {
   "cell_type": "markdown",
   "metadata": {
    "id": "Hq3ki0pV9jU3"
   },
   "source": [
    "## Filtering data from redundant values and columns"
   ]
  },
  {
   "cell_type": "code",
   "execution_count": 3,
   "metadata": {
    "id": "6cNUtoYH0lQq"
   },
   "outputs": [],
   "source": [
    "# We need to choose only one value for product, consom, unit, tax, and currency \n",
    "countries_map = {\n",
    "                        \"BE\": \"Belgium\",\n",
    "                    \"BG\": \"Bulgaria\",\n",
    "                    \"CZ\": \"Czechia\",\n",
    "                    \"DK\": \"Denmark\",\n",
    "                    \"DE\": \"Germany\",\n",
    "                    \"EE\": \"Estonia\",\n",
    "                    \"IE\": \"Ireland\",\n",
    "                    \"EL\": \"Greece\",\n",
    "                    \"ES\": \"Spain\",\n",
    "                    \"FR\": \"France\",\n",
    "                    \"HR\": \"Croatia\",\n",
    "                    \"IT\": \"Italy\",\n",
    "                    \"CY\": \"Cyprus\",\n",
    "                    \"LV\": \"Latvia\",\n",
    "                    \"LT\": \"Lithuania\",\n",
    "                    \"LU\": \"Luxembourg\",\n",
    "                    \"HU\": \"Hungary\",\n",
    "                    \"MT\": \"Malta\",\n",
    "                    \"NL\": \"Netherlands\",\n",
    "                    \"AT\": \"Austria\",\n",
    "                    \"PL\": \"Poland\",\n",
    "                    \"PT\": \"Portugal\",\n",
    "                    \"RO\": \"Romania\",\n",
    "                    \"SI\": \"Slovenia\",\n",
    "                    \"SK\": \"Slovakia\",\n",
    "                    \"FI\": \"Finland\",\n",
    "                    \"SE\": \"Sweden\",\n",
    "                    \"IS\": \"Iceland\",\n",
    "                    \"LI\": \"Liechtenstein\",\n",
    "                    \"NO\": \"Norway\",\n",
    "                    \"CH\": \"Switzerland\",\n",
    "                    \"UK\": \"United Kingdom\",\n",
    "                    \"ME\": \"Montenegro\",\n",
    "                    \"MK\": \"North Macedonia\",\n",
    "                    \"AL\": \"Albania\",\n",
    "                    \"RS\": \"Serbia\",\n",
    "                    \"TR\": \"Türkiye\",\n",
    "                    \"AD\": \"Andorra\",\n",
    "                    \"BY\": \"Belarus\",\n",
    "                    \"BA\": \"Bosnia and Herzegovina\",\n",
    "                    \"GI\": \"Gibraltar (UK)\",\n",
    "                    \"XK\": \"Kosovo\",\n",
    "                    \"MD\": \"Moldova\",\n",
    "                    \"RU\": \"Russia\",\n",
    "                    \"UA\": \"Ukraine\",\n",
    "                    \"EX_SU_OTH\": \"Countries of former Soviet Union\",\n",
    "                    \"EUR_OTH\": \"Other European countries\",\n",
    "                    \"AO\": \"Angola\",\n",
    "                    \"CM\": \"Cameroon\",\n",
    "                    \"CG\": \"Congo\",\n",
    "                    \"CD\": \"Democratic Republic of the Congo\",\n",
    "                    \"GQ\": \"Equatorial Guinea\",\n",
    "                    \"GA\": \"Gabon\",\n",
    "                    \"ST\": \"São Tomé and Príncipe\",\n",
    "                    \"DJ\": \"Djibouti\",\n",
    "                    \"ER\": \"Eritrea\",\n",
    "                    \"ET\": \"Ethiopia\",\n",
    "                    \"KE\": \"Kenya\",\n",
    "                    \"MG\": \"Madagascar\",\n",
    "                    \"MU\": \"Mauritius\",\n",
    "                    \"MZ\": \"Mozambique\",\n",
    "                    \"UG\": \"Uganda\",\n",
    "                    \"TZ\": \"Tanzania\",\n",
    "                    \"DZ\": \"Algeria\",\n",
    "                    \"EG\": \"Egypt\",\n",
    "                    \"LY\": \"Libya\",\n",
    "                    \"MA\": \"Morocco\",\n",
    "                    \"SS\": \"South Sudan\",\n",
    "                    \"SD\": \"Sudan\",\n",
    "                    \"TN\": \"Tunisia\",\n",
    "                    \"NA\": \"Namibia\",\n",
    "                    \"ZA\": \"South Africa\",\n",
    "                    \"BJ\": \"Benin\",\n",
    "                    \"CV\": \"Cabo Verde\",\n",
    "                    \"CI\": \"Côte d'Ivoire\",\n",
    "                    \"GH\": \"Ghana\",\n",
    "                    \"GW\": \"Guinea-Bissau\",\n",
    "                    \"LR\": \"Liberia\",\n",
    "                    \"MR\": \"Mauritania\",\n",
    "                    \"NE\": \"Niger\",\n",
    "                    \"NG\": \"Nigeria\",\n",
    "                    \"SN\": \"Senegal\",\n",
    "                    \"SL\": \"Sierra Leone\",\n",
    "                    \"TG\": \"Togo\",\n",
    "                    \"AFR_OTH\": \"Other African countries\",\n",
    "                    \"CA\": \"Canada\",\n",
    "                    \"US\": \"United States\",\n",
    "                    \"AW\": \"Aruba (NL)\",\n",
    "                    \"BS\": \"Bahamas\",\n",
    "                    \"BB\": \"Barbados\",\n",
    "                    \"VG\": \"British Virgin Islands (UK)\",\n",
    "                    \"CU\": \"Cuba\",\n",
    "                    \"CW\": \"Curaçao\",\n",
    "                    \"DO\": \"Dominican Republic\",\n",
    "                    \"JM\": \"Jamaica\",\n",
    "                    \"TT\": \"Trinidad and Tobago\",\n",
    "                    \"BZ\": \"Belize\",\n",
    "                    \"CR\": \"Costa Rica\",\n",
    "                    \"GT\": \"Guatemala\",\n",
    "                    \"HN\": \"Honduras\",\n",
    "                    \"MX\": \"Mexico\",\n",
    "                    \"PA\": \"Panama\",\n",
    "                    \"AR\": \"Argentina\",\n",
    "                    \"BO\": \"Bolivia\",\n",
    "                    \"BR\": \"Brazil\",\n",
    "                    \"CL\": \"Chile\",\n",
    "                    \"CO\": \"Colombia\",\n",
    "                    \"EC\": \"Ecuador\",\n",
    "                    \"PE\": \"Peru\",\n",
    "                    \"UY\": \"Uruguay\",\n",
    "                    \"VE\": \"Venezuela\",\n",
    "                    \"AME_OTH\": \"Other American countries\",\n",
    "                    \"KZ\": \"Kazakhstan\",\n",
    "                    \"KG\": \"Kyrgyzstan\",\n",
    "                    \"TJ\": \"Tajikistan\",\n",
    "                    \"TM\": \"Turkmenistan\",\n",
    "                    \"UZ\": \"Uzbekistan\",\n",
    "                    \"CN\": \"China including Hong Kong\",\n",
    "                    \"HK\": \"Hong Kong\",\n",
    "                    \"JP\": \"Japan\",\n",
    "                    \"MN\": \"Mongolia\",\n",
    "                    \"KP\": \"North Korea\",\n",
    "                    \"KR\": \"South Korea\",\n",
    "                    \"TW\": \"Taiwan\",\n",
    "                    \"BD\": \"Bangladesh\",\n",
    "                    \"IN\": \"India\",\n",
    "                    \"IR\": \"Iran\",\n",
    "                    \"NP\": \"Nepal\",\n",
    "                    \"PK\": \"Pakistan\",\n",
    "                    \"LK\": \"Sri Lanka\",\n",
    "                    \"BN\": \"Brunei Darussalam\",\n",
    "                    \"KH\": \"Cambodia\",\n",
    "                    \"ID\": \"Indonesia\",\n",
    "                    \"LA\": \"Laos\",\n",
    "                    \"MY\": \"Malaysia\",\n",
    "                    \"MM\": \"Myanmar/Burma\",\n",
    "                    \"PH\": \"Philippines\",\n",
    "                    \"SG\": \"Singapore\",\n",
    "                    \"TH\": \"Thailand\",\n",
    "                    \"TL\": \"Timor-Leste\",\n",
    "                    \"VN\": \"Vietnam\",\n",
    "                    \"AM\": \"Armenia\",\n",
    "                    \"AZ\": \"Azerbaijan\",\n",
    "                    \"BH\": \"Bahrain\",\n",
    "                    \"GE\": \"Georgia\",\n",
    "                    \"IQ\": \"Iraq\",\n",
    "                    \"IL\": \"Israel\",\n",
    "                    \"JO\": \"Jordan\",\n",
    "                    \"KW\": \"Kuwait\",\n",
    "                    \"LB\": \"Lebanon\",\n",
    "                    \"OM\": \"Oman\",\n",
    "                    \"QA\": \"Qatar\",\n",
    "                    \"SA\": \"Saudi Arabia\",\n",
    "                    \"SY\": \"Syria\",\n",
    "                    \"AE\": \"United Arab Emirates\",\n",
    "                    \"YE\": \"Yemen\",\n",
    "                    \"ASI_NME_OTH\": \"Other Near and Middle East Asian countries\",\n",
    "                    \"ASI_OTH\": \"Other Asian countries\",\n",
    "                    \"AU\": \"Australia\",\n",
    "                    \"NZ\": \"New Zealand\",\n",
    "                    \"NC\": \"New Caledonia (FR)\",\n",
    "                    \"PG\": \"Papua New Guinea\",\n",
    "                    \"MH\": \"Marshall Islands\",\n",
    "                    \"TOTAL\": \"Total\",\n",
    "                    \"NSP\": \"Not specified\"\n",
    "                }\n",
    "\n",
    "# Imporant columns names\n",
    "GEO = 'geo\\\\time'\n",
    "\n",
    "# HDD - heating days index\n",
    "# REN_HEAT_CL - renewable energy share for heating and cooling\n",
    "# REN - renewable energy share\n",
    "# A01 - ppp for everything\n",
    "# A0104 - ppp for housing electricity, gas and other fuels\n",
    "# CP00 - all items for hicp\n",
    "# CP04 - housing electricity, gas and other fuels for hicp\n",
    "# ELC_GAS - electricity, gas, solid fuels and heat energy for hicp\n",
    "# EP_HH - energy taxes for households\n",
    "# B-E energy taxes for Industry (except construction)\n",
    "# B1GQ - gross domestic product at market prices \n",
    "# GHP - gross heat production\n",
    "# GEP - gross electricity production\n",
    "# GAE - gross available energy\n",
    "# G3000 - natural gas\n",
    "# TJ_GCV - tera joule\n",
    "# IC_CAL - inland consumption\n",
    "# PEC2020-2030 - Primary energy consumption (Europe 2020-2030) energy efficiency\n",
    "# FC_E - final energy consumpltion in share of fuels\n",
    "# FC_IND_E - final energy consumpltion in share of fuels industry sector\n",
    "# FC_OTH_HH_E - final energy consumpltion in share of fuels domestic sector\n",
    "# RA000 - Renewables and biofuels\n",
    "# H8000 - Heat\n",
    "# R5210P - Pure biogasoline\n",
    "# R5220P - Pure biodiesels \n",
    "# PRD - production\n",
    "# FC_IND_E - Final consumption - industry sector - energy use\n",
    "\n",
    "\n",
    "bad_countries = [\n",
    "                    \"EU27_2020\",\n",
    "                    \"EU28\",\n",
    "                    \"EU27_2007\",\n",
    "                    \"EU25\",\n",
    "                    \"EU15\",\n",
    "                    \"EA20\",\n",
    "                    \"EA19\",\n",
    "                    \"EA18\",\n",
    "                    \"EA17\",\n",
    "                    \"EA16\",\n",
    "                    \"EA15\",\n",
    "                    \"EA13\",\n",
    "                    \"EA12\",\n",
    "                    \"EA11\",\n",
    "                    \"CPC1\",\n",
    "                    \"XK\",\n",
    "                    \"EA\",\n",
    "                    \"EEA\",\n",
    "                    \"EU\",\n",
    "                    \"US\",\n",
    "                    \"JP\",\n",
    "                    \"BA\",\n",
    "                    \"MK\",\n",
    "                    \"ME\",\n",
    "                    \"IS\",\n",
    "                    \"CH\",\n",
    "                    \"MT\",\n",
    "                    \"EL\",\n",
    "                    \"CY\",\n",
    "                    \"AL\",\n",
    "                    \"TR\",\n",
    "                    \"RS\",\n",
    "                    \"NO\",\n",
    "                    \"UK\",\n",
    "                 \"GE\",\n",
    "                 \n",
    "]\n",
    "\n",
    "domestic_clusters = [\n",
    "    [\"Belgium\", \"Bulgaria\", \"Czechia\", \"Denmark\", \"Estonia\", \"Netherlands\", \"Romania\", \"Sweden\", \"Luxembourg\"],\n",
    "    [\"Austria\", \"Germany\", \"Spain\", \"France\", \"Croatia\",  \"Hungary\", \"Ireland\", \"Italy\", \"Lithuania\", \"Latvia\", \"Poland\", \"Portugal\", \"Slovenia\", \"Slovakia\", \"United Kingdom\",]\n",
    "]\n",
    "\n",
    "industrial_clusters = [\n",
    "    [\"Belgium\", \"Germany\", \"United Kingdom\", \"Croatia\", \"Hungary\", \"Slovenia\"],\n",
    "    [\"Austria\", \"Bulgaria\", \"Czechia\", \"Denmark\", \"Estonia\", \"Spain\", \"France\", \"Finland\", \"Italy\", \"Lithuania\", \"Latvia\", \"Poland\", \"Portugal\", \"Slovakia\", \"Netherlands\", \"Romania\", \"Sweden\", \"Luxembourg\"]\n",
    "]\n",
    "\n",
    "class Config:\n",
    "  def __init__(self,\n",
    "               non_values_columns,\n",
    "               columns_to_filter,\n",
    "               filtering_values,\n",
    "               should_drop_na,\n",
    "               dates_to_remove = [],\n",
    "               columns_to_drop = [],\n",
    "               ):\n",
    "    self.non_values_columns = non_values_columns\n",
    "    self.columns_to_filter = columns_to_filter\n",
    "    self.filtering_values = filtering_values\n",
    "    self.should_drop_na = should_drop_na\n",
    "    self.dates_to_remove = dates_to_remove\n",
    "    self.columns_to_drop = columns_to_drop\n",
    "\n",
    "\n",
    "heating_index_config = Config(\n",
    "    [GEO, \"unit\", \"indic_nrg\"],\n",
    "    [\"unit\", \"indic_nrg\"],\n",
    "    {\"unit\": 'NR', \"indic_nrg\": 'HDD'},\n",
    "    True,\n",
    "    dates_to_remove=['2002 ', '1979 '],\n",
    ")\n",
    "\n",
    "renewable_energy_share_config = Config(\n",
    "    [GEO, \"nrg_bal\", \"unit\"],\n",
    "    [\"nrg_bal\"],\n",
    "    {\"nrg_bal\": 'REN'},\n",
    "    False,\n",
    ")\n",
    "\n",
    "\n",
    "ppp_config = Config(\n",
    "    [GEO, \"na_item\", \"ppp_cat\"],\n",
    "    [\"na_item\", \"ppp_cat\"],\n",
    "    {\"na_item\": 'PPP_EU27_2020', \"ppp_cat\": 'A01'}, \n",
    "    False,\n",
    "    dates_to_remove=['2002 ', '1995 '],\n",
    "    # columns_to_drop=[\"Hungary\"]\n",
    ")\n",
    "\n",
    "\n",
    "hicp_config = Config(\n",
    "    [GEO, \"unit\", \"coicop\"],\n",
    "    [\"unit\", \"coicop\"],\n",
    "    {\"unit\": 'INX_A_AVG', \"coicop\": 'ELC_GAS'}, \n",
    "    False,\n",
    "    dates_to_remove=['2002 ', '1996 ']\n",
    ")\n",
    "\n",
    "\n",
    "energy_taxes_households_config = Config(\n",
    "    [GEO, \"unit\", \"nace_r2\"],\n",
    "    [\"unit\", \"nace_r2\"],\n",
    "    {\"unit\": 'PC', \"nace_r2\": 'EP_HH'}, \n",
    "    False,\n",
    "    dates_to_remove=['2002 ', '1995 ']\n",
    ")\n",
    "\n",
    "energy_taxes_industry_config = Config(\n",
    "    [GEO, \"unit\", \"nace_r2\"],\n",
    "    [\"unit\", \"nace_r2\"],\n",
    "    {\"unit\": 'PC', \"nace_r2\": 'B-E'}, \n",
    "    False,\n",
    "    dates_to_remove=['2002 ', '1995 ']\n",
    ")\n",
    "\n",
    "gdp_config = Config(\n",
    "    [GEO, \"unit\", \"na_item\"],\n",
    "    [\"unit\", \"na_item\"],\n",
    "    {\"unit\": 'CP_MEUR', \"na_item\": 'B1GQ'}, \n",
    "    False,\n",
    "    dates_to_remove=['2002 ', '1975 ']\n",
    ")\n",
    "\n",
    "electricity_production_config = Config(\n",
    "    [GEO, \"unit\", \"nrg_bal\", \"siec\"],\n",
    "    [\"unit\", \"nrg_bal\", \"siec\"],\n",
    "    {\"unit\": 'GWH', \"nrg_bal\": 'GEP', \"siec\": \"G3000\"}, \n",
    "    False,\n",
    "    dates_to_remove=['2002 ', '1990 ']\n",
    ")\n",
    "\n",
    "available_energy_config = Config(\n",
    "    [GEO, \"unit\", \"nrg_bal\", \"siec\"],\n",
    "    [\"unit\", \"nrg_bal\", \"siec\"],\n",
    "    {\"unit\": 'GWH', \"nrg_bal\": 'GAE', \"siec\": \"G3000\"}, \n",
    "    False,\n",
    "    dates_to_remove=['2002 ', '1990 ']\n",
    ")\n",
    "\n",
    "gas_operations_config = Config(\n",
    "    [GEO, \"unit\", \"nrg_bal\", \"siec\"],\n",
    "    [\"unit\", \"nrg_bal\", \"siec\"],\n",
    "    {\"unit\": 'TJ_GCV', \"nrg_bal\": 'IC_CAL', \"siec\": \"G3000\"}, \n",
    "    False,\n",
    "    dates_to_remove=['2002 ', '1990 ']\n",
    ")\n",
    "\n",
    "imports_dependency_config = Config(\n",
    "    [GEO, \"unit\", \"siec\"],\n",
    "    [\"siec\"],\n",
    "    {\"siec\": \"TOTAL\"}, \n",
    "    False,\n",
    "    dates_to_remove=['2002 ', '1990 ']\n",
    ")\n",
    "\n",
    "energy_efficiency_config = Config(\n",
    "    [GEO, \"unit\", \"nrg_bal\"],\n",
    "    [\"unit\", \"nrg_bal\"],\n",
    "    {\"unit\": 'MTOE', \"nrg_bal\": \"PEC2020-2030\"}, \n",
    "    False,\n",
    "    dates_to_remove=['2002 ', '1990 ']\n",
    ")\n",
    "\n",
    "share_of_fuels_renewables_config = Config(\n",
    "    [GEO, \"unit\", \"nrg_bal\", \"siec\"],\n",
    "    [\"nrg_bal\", \"siec\"],\n",
    "    {\"nrg_bal\": \"FC_IND_E\",  \"siec\": \"RA000\"}, \n",
    "    False,\n",
    "    dates_to_remove=['2004 ', '1990 ']\n",
    ")\n",
    "\n",
    "share_of_fuels_heat_config = Config(\n",
    "    [GEO, \"unit\", \"nrg_bal\", \"siec\"],\n",
    "    [\"nrg_bal\", \"siec\"],\n",
    "    {\"nrg_bal\": \"FC_OTH_HH_E\",  \"siec\": \"H8000\"}, \n",
    "    False,\n",
    "    dates_to_remove=['2002 ', '1990 ']\n",
    ")\n",
    "\n",
    "biofules_production_config = Config(\n",
    "    [GEO, \"unit\", \"siec\", \"plant_tec\"],\n",
    "    [\"siec\"],\n",
    "    {\"siec\": \"R5220P\"}, \n",
    "    False,\n",
    "    dates_to_remove=['1994 ', '1990 ']\n",
    ")\n",
    "\n",
    "el_heat_production_by_plant_config = Config(\n",
    "    [GEO, \"unit\", \"plants\", \"siec\", \"operator\", \"nrg_bal\"],\n",
    "    [\"unit\", \"plants\", \"siec\", \"nrg_bal\"],\n",
    "    {\"plants\": \"TOTAL\", \"siec\": \"H8000\", \"unit\": 'TJ', \"nrg_bal\": \"FC_IND_E\",}, \n",
    "    False,\n",
    "    dates_to_remove=['2002 ', '1990 ']\n",
    ")\n"
   ]
  },
  {
   "cell_type": "markdown",
   "metadata": {
    "id": "9HYDb3z_flzm"
   },
   "source": [
    "## Preprocessing"
   ]
  },
  {
   "cell_type": "code",
   "execution_count": 4,
   "metadata": {
    "id": "6UK5yK3szr9D"
   },
   "outputs": [],
   "source": [
    "def split_column(df, column_to_split):\n",
    "  new_columns_names = column_to_split.split(',')\n",
    "\n",
    "  first_cols = df.iloc[:, 0].str.split(',', expand = True)\n",
    "\n",
    "  old_new_names_map = dict(zip(first_cols.columns, new_columns_names))\n",
    "  first_cols.rename(columns=old_new_names_map, inplace=True)\n",
    "\n",
    "  df = pd.concat([df, first_cols], axis=1)\n",
    "  df.drop(columns = df.columns[0], axis = 1, inplace= True)\n",
    "  return df\n",
    "\n",
    "\n",
    "def identify_na(df, replacements):\n",
    "  for key, value in replacements.items():\n",
    "    for column in df.columns:\n",
    "      df[column] = df[column].replace(key, value)\n",
    "  return df\n",
    "\n",
    "# Filter values (choosing one tax category, one consumption category etc)\n",
    "def filter_columns(df, columns, filtering_values):\n",
    "  for column in columns:\n",
    "    value = filtering_values[column]\n",
    "    if type(value) == np.ndarray or type(value) == list:\n",
    "      df = df[df[column].isin(value)]\n",
    "    else:\n",
    "      df = df[df[column] == value]\n",
    "  return df\n",
    "\n",
    "\n",
    "\n",
    "def preprocess_data(df, config: Config):\n",
    "  df = split_column(df, df.iloc[:, 0].name)\n",
    "  df = identify_na(df, {': ': np.nan})\n",
    "  df = identify_na(df, {': c': np.nan})\n",
    "\n",
    "  # print(df.columns)\n",
    "  # print(df.value_counts())\n",
    "\n",
    "  df = filter_columns(df, config.columns_to_filter, config.filtering_values)\n",
    "\n",
    "  # remove bad countries\n",
    "  df = df[~df[GEO].isin(bad_countries)]\n",
    "\n",
    "  # Add column \"country\", which contains full country name\n",
    "  COUNTRY = 'country'\n",
    "  df[COUNTRY] = df[GEO].apply(lambda x: countries_map[x])\n",
    "\n",
    "  # remove extra columns\n",
    "  reduced_df = df.drop(config.non_values_columns, axis=1)\n",
    "\n",
    "\n",
    "  # drop few columns\n",
    "  if (len(config.dates_to_remove) != 0):\n",
    "    reduced_df.drop(df.loc[:, config.dates_to_remove[0] : config.dates_to_remove[1]].columns, axis=1, inplace=True)\n",
    "\n",
    "  # drop na\n",
    "  if (config.should_drop_na):\n",
    "    cleaned_df = reduced_df.dropna(axis=1)\n",
    "  else:\n",
    "    cleaned_df = reduced_df.fillna(method='bfill', axis=0)\n",
    "    # drop row if it has 70% of na\n",
    "    threshhold = len(cleaned_df.columns) * 0.7\n",
    "    cleaned_df.dropna(axis=1, thresh=threshhold, inplace=True)\n",
    "\n",
    "    # fill the rest\n",
    "    cleaned_df.fillna(method ='ffill', inplace=True)\n",
    "    # cleaned_df = reduced_df.fillna(method='bfill', axis=1)\n",
    "\n",
    "\n",
    "  # print(cleaned_df)\n",
    "\n",
    "  # set index as countries\n",
    "  cleaned_df = cleaned_df.set_index(cleaned_df.country)\n",
    "  cleaned_df = cleaned_df.drop(\"country\", axis=1)\n",
    "\n",
    "  # convert to float\n",
    "  cleaned_df = cleaned_df.apply(lambda x: x.apply(lambda x: x.split(' ')[0] if not isinstance(x, float) else x).astype(float))\n",
    "\n",
    "  # drop some countires\n",
    "  if (len(config.columns_to_drop) != 0):\n",
    "    for c in config.columns_to_drop:\n",
    "      cleaned_df = cleaned_df.drop(index=(c))\n",
    "\n",
    "  return cleaned_df"
   ]
  },
  {
   "cell_type": "markdown",
   "metadata": {
    "id": "pAtu57OpmGv_"
   },
   "source": [
    "## Mann Whitney U-test"
   ]
  },
  {
   "cell_type": "code",
   "execution_count": 5,
   "metadata": {
    "id": "N8UxDwL1_2cN"
   },
   "outputs": [],
   "source": [
    "def calculate_mw_test(regressor, regressor_name, source):\n",
    "  cluster_1 = regressor.filter(items=source[0])\n",
    "  cluster_2 = regressor.filter(items=source[1])\n",
    "  \n",
    "  U1, p = mannwhitneyu(cluster_1, cluster_2, method=\"exact\")\n",
    "  return U1, p\n",
    "\n",
    "\n",
    "def get_u_test_results(df, config):\n",
    "  df_to_mutate = df.copy()\n",
    "  proceed_df = preprocess_data(\n",
    "      df_to_mutate,\n",
    "      config\n",
    "  )\n",
    "\n",
    "  transposed_df = proceed_df.transpose()\n",
    "  median = transposed_df.median()\n",
    "  std = transposed_df.std()\n",
    "  mean = transposed_df.mean()\n",
    "\n",
    "  figure(figsize=(20, 10), dpi=80)\n",
    "\n",
    "  U1_median, p_median = calculate_mw_test(median, \"median\", domestic_clusters)\n",
    "  U1_mean, p_mean = calculate_mw_test(mean, \"mean\", domestic_clusters)\n",
    "  U1_std, p_std = calculate_mw_test(std, \"std\", domestic_clusters)\n",
    "\n",
    "  d_domestic = {'value': ['median', 'mean', 'std'],\n",
    "      'U1': [U1_median, U1_mean, U1_std],\n",
    "      'p': [p_median, p_mean, p_std]}\n",
    "\n",
    "  U1_median, p_median = calculate_mw_test(median, \"median\", industrial_clusters)\n",
    "  U1_mean, p_mean = calculate_mw_test(mean, \"mean\", industrial_clusters)\n",
    "  U1_std, p_std = calculate_mw_test(std, \"std\", industrial_clusters)\n",
    "\n",
    "  d_industrial = {'value': ['median', 'mean', 'std'],\n",
    "  'U1': [U1_median, U1_mean, U1_std],\n",
    "  'p': [p_median, p_mean, p_std]}\n",
    "\n",
    "  df_domestic = pd.DataFrame(data=d_domestic)\n",
    "  df_domestic.name = \"Domestic\"\n",
    "  df_industrial = pd.DataFrame(data=d_industrial)\n",
    "  df_industrial.name = \"Industrial\"\n",
    "\n",
    "  return df_domestic, df_industrial"
   ]
  },
  {
   "cell_type": "markdown",
   "metadata": {
    "id": "MMkyKHhXfe2x"
   },
   "source": [
    "## Results"
   ]
  },
  {
   "cell_type": "code",
   "execution_count": 6,
   "metadata": {
    "colab": {
     "base_uri": "https://localhost:8080/",
     "height": 285
    },
    "id": "G1YO6lm9AvjD",
    "outputId": "30f9c2da-593c-4b3a-b359-702a149e2403"
   },
   "outputs": [
    {
     "name": "stdout",
     "output_type": "stream",
     "text": [
      "Domestic\n",
      "    value    U1         p\n",
      "0  median  78.0  0.368580\n",
      "1    mean  78.0  0.368580\n",
      "2     std  89.0  0.109301\n",
      "\n",
      "\n",
      "Industrial\n",
      "    value    U1         p\n",
      "0  median  29.0  0.257066\n",
      "1    mean  28.0  0.226812\n",
      "2     std  33.0  0.403281\n",
      "\n",
      "\n"
     ]
    },
    {
     "data": {
      "text/plain": [
       "<Figure size 1600x800 with 0 Axes>"
      ]
     },
     "metadata": {},
     "output_type": "display_data"
    }
   ],
   "source": [
    "# heating index\n",
    "\n",
    "df1, df2 = get_u_test_results(heating_index_df, heating_index_config)\n",
    "print(df1.name)\n",
    "print(df1)\n",
    "print(\"\\n\")\n",
    "\n",
    "print(df2.name)\n",
    "print(df2)\n",
    "print(\"\\n\")"
   ]
  },
  {
   "cell_type": "code",
   "execution_count": 7,
   "metadata": {
    "colab": {
     "base_uri": "https://localhost:8080/",
     "height": 285
    },
    "id": "P0MUIjSpB1oH",
    "outputId": "44020653-68b5-4b5f-8f0e-c77d60070c5d"
   },
   "outputs": [
    {
     "name": "stdout",
     "output_type": "stream",
     "text": [
      "Domestic\n",
      "    value    U1         p\n",
      "0  median  59.0  0.829075\n",
      "1    mean  56.0  0.688251\n",
      "2     std  73.0  0.557077\n",
      "\n",
      "\n",
      "Industrial\n",
      "    value    U1         p\n",
      "0  median  35.0  0.490951\n",
      "1    mean  33.0  0.403281\n",
      "2     std  18.0  0.045707\n",
      "\n",
      "\n"
     ]
    },
    {
     "data": {
      "text/plain": [
       "<Figure size 1600x800 with 0 Axes>"
      ]
     },
     "metadata": {},
     "output_type": "display_data"
    }
   ],
   "source": [
    "# renewable energy share (all sectors)\n",
    "\n",
    "df1, df2 = get_u_test_results(renewable_energy_share_df, renewable_energy_share_config)\n",
    "print(df1.name)\n",
    "print(df1)\n",
    "print(\"\\n\")\n",
    "\n",
    "print(df2.name)\n",
    "print(df2)\n",
    "print(\"\\n\")"
   ]
  },
  {
   "cell_type": "code",
   "execution_count": 8,
   "metadata": {
    "colab": {
     "base_uri": "https://localhost:8080/",
     "height": 285
    },
    "id": "aaNEoUAbB-Re",
    "outputId": "97da6192-3517-4a69-980c-c4213850b067"
   },
   "outputs": [
    {
     "name": "stdout",
     "output_type": "stream",
     "text": [
      "Domestic\n",
      "    value     U1         p\n",
      "0  median   95.0  0.045585\n",
      "1    mean   95.0  0.045585\n",
      "2     std  100.0  0.019131\n",
      "\n",
      "\n",
      "Industrial\n",
      "    value    U1         p\n",
      "0  median  41.0  0.800618\n",
      "1    mean  43.0  0.913846\n",
      "2     std  30.0  0.289934\n",
      "\n",
      "\n"
     ]
    },
    {
     "data": {
      "text/plain": [
       "<Figure size 1600x800 with 0 Axes>"
      ]
     },
     "metadata": {},
     "output_type": "display_data"
    }
   ],
   "source": [
    "# purchasing power parity (housing electricity, gas and other fuels)\n",
    "\n",
    "df1, df2 = get_u_test_results(ppp_df, ppp_config)\n",
    "print(df1.name)\n",
    "print(df1)\n",
    "print(\"\\n\")\n",
    "\n",
    "print(df2.name)\n",
    "print(df2)\n",
    "print(\"\\n\")"
   ]
  },
  {
   "cell_type": "code",
   "execution_count": 9,
   "metadata": {
    "colab": {
     "base_uri": "https://localhost:8080/",
     "height": 285
    },
    "id": "neY88xHLCE4-",
    "outputId": "47f8b5da-0d40-411b-b997-2cb0d029d39c"
   },
   "outputs": [
    {
     "name": "stdout",
     "output_type": "stream",
     "text": [
      "Domestic\n",
      "    value    U1         p\n",
      "0  median  92.5  0.072093\n",
      "1    mean  99.0  0.023015\n",
      "2     std  75.0  0.476707\n",
      "\n",
      "\n",
      "Industrial\n",
      "    value    U1         p\n",
      "0  median  59.0  0.325181\n",
      "1    mean  43.0  0.913846\n",
      "2     std  41.0  0.800618\n",
      "\n",
      "\n"
     ]
    },
    {
     "data": {
      "text/plain": [
       "<Figure size 1600x800 with 0 Axes>"
      ]
     },
     "metadata": {},
     "output_type": "display_data"
    }
   ],
   "source": [
    "# harmonized index of counsumer prices (electricity, gas, solid fuels and heat energy)\n",
    "\n",
    "df1, df2 = get_u_test_results(hicp_df, hicp_config)\n",
    "print(df1.name)\n",
    "print(df1)\n",
    "print(\"\\n\")\n",
    "\n",
    "print(df2.name)\n",
    "print(df2)\n",
    "print(\"\\n\")"
   ]
  },
  {
   "cell_type": "code",
   "execution_count": 10,
   "metadata": {
    "colab": {
     "base_uri": "https://localhost:8080/",
     "height": 303
    },
    "id": "_JotYkpXCcZB",
    "outputId": "b8472126-70c8-4bf8-b131-31c175ca36c1"
   },
   "outputs": [
    {
     "name": "stdout",
     "output_type": "stream",
     "text": [
      "Domestic\n",
      "    value    U1         p\n",
      "0  median  41.0  0.179361\n",
      "1    mean  45.0  0.276560\n",
      "2     std  57.0  0.734304\n",
      "\n",
      "\n",
      "Industrial\n",
      "    value    U1         p\n",
      "0  median  44.0  0.971262\n",
      "1    mean  44.0  0.971262\n",
      "2     std  46.0  0.971262\n",
      "\n",
      "\n"
     ]
    },
    {
     "data": {
      "text/plain": [
       "<Figure size 1600x800 with 0 Axes>"
      ]
     },
     "metadata": {},
     "output_type": "display_data"
    },
    {
     "data": {
      "text/plain": [
       "<Figure size 1600x800 with 0 Axes>"
      ]
     },
     "metadata": {},
     "output_type": "display_data"
    }
   ],
   "source": [
    "# energy taxes (domestic, industry)\n",
    "\n",
    "df1, _ = get_u_test_results(energy_taxes_df, energy_taxes_households_config)\n",
    "_, df2 = get_u_test_results(energy_taxes_df, energy_taxes_industry_config)\n",
    "print(df1.name)\n",
    "print(df1)\n",
    "print(\"\\n\")\n",
    "\n",
    "print(df2.name)\n",
    "print(df2)\n",
    "print(\"\\n\")"
   ]
  },
  {
   "cell_type": "code",
   "execution_count": 11,
   "metadata": {
    "colab": {
     "base_uri": "https://localhost:8080/",
     "height": 285
    },
    "id": "MbFevtiHcZ3g",
    "outputId": "fac187c7-3a24-4124-ad18-347999624220"
   },
   "outputs": [
    {
     "name": "stdout",
     "output_type": "stream",
     "text": [
      "Domestic\n",
      "    value    U1         p\n",
      "0  median  57.0  0.734304\n",
      "1    mean  57.0  0.734304\n",
      "2     std  55.0  0.643258\n",
      "\n",
      "\n",
      "Industrial\n",
      "    value    U1         p\n",
      "0  median  44.0  0.971262\n",
      "1    mean  44.0  0.971262\n",
      "2     std  41.0  0.800618\n",
      "\n",
      "\n"
     ]
    },
    {
     "data": {
      "text/plain": [
       "<Figure size 1600x800 with 0 Axes>"
      ]
     },
     "metadata": {},
     "output_type": "display_data"
    }
   ],
   "source": [
    "# gross domestic product at market prices (all sectros)\n",
    "\n",
    "df1, df2 = get_u_test_results(gdp_df, gdp_config)\n",
    "print(df1.name)\n",
    "print(df1)\n",
    "print(\"\\n\")\n",
    "\n",
    "print(df2.name)\n",
    "print(df2)\n",
    "print(\"\\n\")"
   ]
  },
  {
   "cell_type": "code",
   "execution_count": 12,
   "metadata": {
    "colab": {
     "base_uri": "https://localhost:8080/",
     "height": 285
    },
    "id": "7jW063JyhjCM",
    "outputId": "a6a25f8d-f890-4e42-8ef3-b999a5f567b6"
   },
   "outputs": [
    {
     "name": "stdout",
     "output_type": "stream",
     "text": [
      "Domestic\n",
      "    value    U1         p\n",
      "0  median  40.0  0.159446\n",
      "1    mean  41.0  0.179361\n",
      "2     std  46.0  0.305405\n",
      "\n",
      "\n",
      "Industrial\n",
      "    value    U1         p\n",
      "0  median  53.0  0.587358\n",
      "1    mean  51.0  0.691135\n",
      "2     std  40.0  0.745342\n",
      "\n",
      "\n"
     ]
    },
    {
     "data": {
      "text/plain": [
       "<Figure size 1600x800 with 0 Axes>"
      ]
     },
     "metadata": {},
     "output_type": "display_data"
    }
   ],
   "source": [
    "# Production of electricity and derived heat by type of fuel (natural gas)\n",
    "\n",
    "df1, df2 = get_u_test_results(electricity_production_df, electricity_production_config)\n",
    "print(df1.name)\n",
    "print(df1)\n",
    "print(\"\\n\")\n",
    "\n",
    "print(df2.name)\n",
    "print(df2)\n",
    "print(\"\\n\")"
   ]
  },
  {
   "cell_type": "code",
   "execution_count": 13,
   "metadata": {
    "colab": {
     "base_uri": "https://localhost:8080/",
     "height": 285
    },
    "id": "S1vxJNcDlA0-",
    "outputId": "d4a229d0-d119-47df-a318-76b5e5f32b15"
   },
   "outputs": [
    {
     "name": "stdout",
     "output_type": "stream",
     "text": [
      "Domestic\n",
      "    value    U1         p\n",
      "0  median  47.0  0.336066\n",
      "1    mean  47.0  0.336066\n",
      "2     std  53.0  0.557077\n",
      "\n",
      "\n",
      "Industrial\n",
      "    value    U1         p\n",
      "0  median  50.0  0.745342\n",
      "1    mean  50.0  0.745342\n",
      "2     std  41.0  0.800618\n",
      "\n",
      "\n"
     ]
    },
    {
     "data": {
      "text/plain": [
       "<Figure size 1600x800 with 0 Axes>"
      ]
     },
     "metadata": {},
     "output_type": "display_data"
    }
   ],
   "source": [
    "# Gross available energy (natural gas)\n",
    "\n",
    "df1, df2 = get_u_test_results(available_energy_df, available_energy_config)\n",
    "print(df1.name)\n",
    "print(df1)\n",
    "print(\"\\n\")\n",
    "\n",
    "print(df2.name)\n",
    "print(df2)\n",
    "print(\"\\n\")"
   ]
  },
  {
   "cell_type": "code",
   "execution_count": 14,
   "metadata": {
    "colab": {
     "base_uri": "https://localhost:8080/",
     "height": 285
    },
    "id": "2FQdgzf-nbe-",
    "outputId": "d29eefa1-2b25-4aa8-c764-c8c076536fc5"
   },
   "outputs": [
    {
     "name": "stdout",
     "output_type": "stream",
     "text": [
      "Domestic\n",
      "    value    U1         p\n",
      "0  median  47.0  0.336066\n",
      "1    mean  50.0  0.438946\n",
      "2     std  72.0  0.599511\n",
      "\n",
      "\n",
      "Industrial\n",
      "    value    U1         p\n",
      "0  median  50.0  0.745342\n",
      "1    mean  47.0  0.913846\n",
      "2     std  35.0  0.490951\n",
      "\n",
      "\n"
     ]
    },
    {
     "data": {
      "text/plain": [
       "<Figure size 1600x800 with 0 Axes>"
      ]
     },
     "metadata": {},
     "output_type": "display_data"
    }
   ],
   "source": [
    "# Supply, transformation and consumption of gas (natural gas)\n",
    "\n",
    "df1, df2 = get_u_test_results(gas_operations_df, gas_operations_config)\n",
    "print(df1.name)\n",
    "print(df1)\n",
    "print(\"\\n\")\n",
    "\n",
    "print(df2.name)\n",
    "print(df2)\n",
    "print(\"\\n\")"
   ]
  },
  {
   "cell_type": "code",
   "execution_count": 15,
   "metadata": {
    "colab": {
     "base_uri": "https://localhost:8080/",
     "height": 285
    },
    "id": "ZPGeEB7M_gQK",
    "outputId": "f81ec1a3-8344-418f-943c-1d51af8b38e2"
   },
   "outputs": [
    {
     "name": "stdout",
     "output_type": "stream",
     "text": [
      "Domestic\n",
      "    value    U1         p\n",
      "0  median  29.0  0.032746\n",
      "1    mean  30.0  0.038745\n",
      "2     std  77.0  0.402871\n",
      "\n",
      "\n",
      "Industrial\n",
      "    value    U1         p\n",
      "0  median  58.0  0.363042\n",
      "1    mean  57.0  0.403281\n",
      "2     std  16.0  0.030253\n",
      "\n",
      "\n"
     ]
    },
    {
     "data": {
      "text/plain": [
       "<Figure size 1600x800 with 0 Axes>"
      ]
     },
     "metadata": {},
     "output_type": "display_data"
    }
   ],
   "source": [
    "# Energy imports dependency (all energy sources)\n",
    "\n",
    "df1, df2 = get_u_test_results(imports_dependency_df, imports_dependency_config)\n",
    "print(df1.name)\n",
    "print(df1)\n",
    "print(\"\\n\")\n",
    "\n",
    "print(df2.name)\n",
    "print(df2)\n",
    "print(\"\\n\")"
   ]
  },
  {
   "cell_type": "code",
   "execution_count": 16,
   "metadata": {
    "colab": {
     "base_uri": "https://localhost:8080/",
     "height": 285
    },
    "id": "AKGRON4MC1xV",
    "outputId": "6060ebbe-3583-423d-a3bd-63284e572ca7"
   },
   "outputs": [
    {
     "name": "stdout",
     "output_type": "stream",
     "text": [
      "Domestic\n",
      "    value    U1         p\n",
      "0  median  58.0  0.781314\n",
      "1    mean  58.0  0.781314\n",
      "2     std  64.0  0.975411\n",
      "\n",
      "\n",
      "Industrial\n",
      "    value    U1         p\n",
      "0  median  47.0  0.913846\n",
      "1    mean  46.0  0.971262\n",
      "2     std  41.0  0.800618\n",
      "\n",
      "\n"
     ]
    },
    {
     "data": {
      "text/plain": [
       "<Figure size 1600x800 with 0 Axes>"
      ]
     },
     "metadata": {},
     "output_type": "display_data"
    }
   ],
   "source": [
    "# Energy efficiency (Primary energy consumption (Europe 2020-2030) energy efficiency)\n",
    "\n",
    "df1, df2 = get_u_test_results(energy_efficiency_df, energy_efficiency_config)\n",
    "print(df1.name)\n",
    "print(df1)\n",
    "print(\"\\n\")\n",
    "\n",
    "print(df2.name)\n",
    "print(df2)\n",
    "print(\"\\n\")"
   ]
  },
  {
   "cell_type": "code",
   "execution_count": 17,
   "metadata": {
    "colab": {
     "base_uri": "https://localhost:8080/",
     "height": 285
    },
    "id": "t4e4ecx5EyiO",
    "outputId": "a4782411-0b46-493c-8f8a-42a21a1fb9ef"
   },
   "outputs": [
    {
     "name": "stdout",
     "output_type": "stream",
     "text": [
      "Domestic\n",
      "    value    U1         p\n",
      "0  median  57.0  0.734304\n",
      "1    mean  54.0  0.599511\n",
      "2     std  72.0  0.599511\n",
      "\n",
      "\n",
      "Industrial\n",
      "    value    U1         p\n",
      "0  median  18.0  0.045707\n",
      "1    mean  20.0  0.066688\n",
      "2     std  25.0  0.150435\n",
      "\n",
      "\n"
     ]
    },
    {
     "data": {
      "text/plain": [
       "<Figure size 1600x800 with 0 Axes>"
      ]
     },
     "metadata": {},
     "output_type": "display_data"
    }
   ],
   "source": [
    "# Share of fuels in final energy consumption (renewables and biofuels in industry sector)\n",
    " \n",
    "df1, df2 = get_u_test_results(share_of_fuels_df, share_of_fuels_renewables_config)\n",
    "print(df1.name)\n",
    "print(df1)\n",
    "print(\"\\n\")\n",
    "\n",
    "print(df2.name)\n",
    "print(df2)\n",
    "print(\"\\n\")"
   ]
  },
  {
   "cell_type": "code",
   "execution_count": 18,
   "metadata": {
    "colab": {
     "base_uri": "https://localhost:8080/",
     "height": 285
    },
    "id": "ieiHBAKrWHkS",
    "outputId": "5b567762-c5db-4302-afbe-566a182e8002"
   },
   "outputs": [
    {
     "name": "stdout",
     "output_type": "stream",
     "text": [
      "Domestic\n",
      "    value    U1         p\n",
      "0  median  80.0  0.305405\n",
      "1    mean  81.0  0.276560\n",
      "2     std  77.0  0.402871\n",
      "\n",
      "\n",
      "Industrial\n",
      "    value    U1         p\n",
      "0  median  27.0  0.198936\n",
      "1    mean  27.0  0.198936\n",
      "2     std  17.0  0.037327\n",
      "\n",
      "\n"
     ]
    },
    {
     "data": {
      "text/plain": [
       "<Figure size 1600x800 with 0 Axes>"
      ]
     },
     "metadata": {},
     "output_type": "display_data"
    }
   ],
   "source": [
    "# Share of fuels in final energy consumption (heat for households sector)\n",
    " \n",
    "df1, df2 = get_u_test_results(share_of_fuels_df, share_of_fuels_heat_config)\n",
    "print(df1.name)\n",
    "print(df1)\n",
    "print(\"\\n\")\n",
    "\n",
    "print(df2.name)\n",
    "print(df2)\n",
    "print(\"\\n\")"
   ]
  },
  {
   "cell_type": "code",
   "execution_count": 19,
   "metadata": {
    "colab": {
     "base_uri": "https://localhost:8080/",
     "height": 285
    },
    "id": "0sMKkLOCYSO9",
    "outputId": "a58b8232-8d47-4efb-9179-787103ff7eee"
   },
   "outputs": [
    {
     "name": "stdout",
     "output_type": "stream",
     "text": [
      "Domestic\n",
      "    value    U1         p\n",
      "0  median  31.0  0.045585\n",
      "1    mean  37.0  0.109301\n",
      "2     std  46.0  0.305405\n",
      "\n",
      "\n",
      "Industrial\n",
      "    value    U1         p\n",
      "0  median  44.0  0.971262\n",
      "1    mean  40.0  0.745342\n",
      "2     std  40.0  0.745342\n",
      "\n",
      "\n"
     ]
    },
    {
     "data": {
      "text/plain": [
       "<Figure size 1600x800 with 0 Axes>"
      ]
     },
     "metadata": {},
     "output_type": "display_data"
    }
   ],
   "source": [
    "# Liquid biofuels production capacities (Pure biodiesels)\n",
    " \n",
    "df1, df2 = get_u_test_results(biofules_production_df, biofules_production_config)\n",
    "print(df1.name)\n",
    "print(df1)\n",
    "print(\"\\n\")\n",
    "\n",
    "print(df2.name)\n",
    "print(df2)\n",
    "print(\"\\n\")"
   ]
  },
  {
   "cell_type": "code",
   "execution_count": 20,
   "metadata": {
    "colab": {
     "base_uri": "https://localhost:8080/",
     "height": 285
    },
    "id": "c4U_K2xkbbVu",
    "outputId": "636a40de-3fbf-427d-f25c-df1311ff59c4"
   },
   "outputs": [
    {
     "name": "stdout",
     "output_type": "stream",
     "text": [
      "Domestic\n",
      "    value    U1         p\n",
      "0  median  75.0  0.476707\n",
      "1    mean  74.0  0.516127\n",
      "2     std  79.0  0.336066\n",
      "\n",
      "\n",
      "Industrial\n",
      "    value    U1         p\n",
      "0  median  19.0  0.055395\n",
      "1    mean  18.0  0.045707\n",
      "2     std  23.0  0.110910\n",
      "\n",
      "\n"
     ]
    },
    {
     "data": {
      "text/plain": [
       "<Figure size 1600x800 with 0 Axes>"
      ]
     },
     "metadata": {},
     "output_type": "display_data"
    }
   ],
   "source": [
    "# Production of electricity and heat by autoproducers (heat, all kinds of plants, for industry sector)\n",
    "\n",
    "df1, df2 = get_u_test_results(el_heat_production_by_plant_df, el_heat_production_by_plant_config)\n",
    "print(df1.name)\n",
    "print(df1)\n",
    "print(\"\\n\")\n",
    "\n",
    "print(df2.name)\n",
    "print(df2)\n",
    "print(\"\\n\")"
   ]
  },
  {
   "cell_type": "markdown",
   "metadata": {
    "id": "9FXTPrjr1OSk"
   },
   "source": [
    "## Logistic regression"
   ]
  },
  {
   "cell_type": "code",
   "execution_count": 21,
   "metadata": {
    "id": "47rqDVrN1Q09"
   },
   "outputs": [],
   "source": [
    "import statsmodels.api as sm\n",
    "\n",
    "def get_metrics(df, config):\n",
    "  df_to_mutate = df.copy()\n",
    "  proceed_df = preprocess_data(\n",
    "      df_to_mutate,\n",
    "      config\n",
    "  )\n",
    "\n",
    "  transposed_df = proceed_df.transpose()\n",
    "  median = transposed_df.median()\n",
    "  std = transposed_df.std()\n",
    "  mean = transposed_df.mean()\n",
    "  return median, mean, std\n",
    "\n",
    "def get_logit_summary(metrics, clusters):\n",
    "  log_reg = sm.Logit(clusters, metrics).fit()\n",
    "  return log_reg.summary()\n",
    "\n",
    "def get_metrics_and_labels(clusters, indicators):\n",
    "  metrics = []\n",
    "  clusters_labels = []\n",
    "  for i, _ in enumerate(clusters):\n",
    "    m = []\n",
    "    l = []\n",
    "    for index, country in enumerate(clusters[i]):\n",
    "      l.append(i)\n",
    "      m.append([])\n",
    "      for j, indicator in enumerate(indicators):\n",
    "        m[index].append(indicator[country])\n",
    "    metrics += m\n",
    "    clusters_labels += l\n",
    "  return metrics, clusters_labels\n"
   ]
  },
  {
   "cell_type": "code",
   "execution_count": 22,
   "metadata": {
    "id": "0ctkTa5Q1vVl"
   },
   "outputs": [],
   "source": [
    "_, _, renewable_share_std = get_metrics(renewable_energy_share_df, renewable_energy_share_config)\n",
    "ppp_median, ppp_mean, ppp_std = get_metrics(ppp_df, ppp_config)\n",
    "imports_dependency_median, imports_dependency_mean, imports_dependency_std = get_metrics(imports_dependency_df, imports_dependency_config)\n",
    "_, _, share_of_fuels_renewables_std = get_metrics(share_of_fuels_df, share_of_fuels_renewables_config)\n",
    "_, el_heat_production_by_plant_mean, _ = get_metrics(el_heat_production_by_plant_df, el_heat_production_by_plant_config)\n",
    "biofuels_production_median, _, _ = get_metrics(biofules_production_df, biofules_production_config)\n",
    "_, hicp_mean, _ = get_metrics(hicp_df, hicp_config)"
   ]
  },
  {
   "cell_type": "code",
   "execution_count": 23,
   "metadata": {
    "colab": {
     "base_uri": "https://localhost:8080/",
     "height": 348
    },
    "id": "Jf-uXBPhAFwa",
    "outputId": "deb4b4ed-3ba2-4667-b9bb-dd9fc4758051"
   },
   "outputs": [
    {
     "name": "stdout",
     "output_type": "stream",
     "text": [
      "Optimization terminated successfully.\n",
      "         Current function value: 0.322142\n",
      "         Iterations 9\n"
     ]
    },
    {
     "data": {
      "text/html": [
       "<table class=\"simpletable\">\n",
       "<caption>Logit Regression Results</caption>\n",
       "<tr>\n",
       "  <th>Dep. Variable:</th>           <td>y</td>        <th>  No. Observations:  </th>  <td>    23</td> \n",
       "</tr>\n",
       "<tr>\n",
       "  <th>Model:</th>                 <td>Logit</td>      <th>  Df Residuals:      </th>  <td>    19</td> \n",
       "</tr>\n",
       "<tr>\n",
       "  <th>Method:</th>                 <td>MLE</td>       <th>  Df Model:          </th>  <td>     3</td> \n",
       "</tr>\n",
       "<tr>\n",
       "  <th>Date:</th>            <td>Sat, 21 Jan 2023</td> <th>  Pseudo R-squ.:     </th>  <td>0.3847</td> \n",
       "</tr>\n",
       "<tr>\n",
       "  <th>Time:</th>                <td>20:48:03</td>     <th>  Log-Likelihood:    </th> <td> -7.4093</td>\n",
       "</tr>\n",
       "<tr>\n",
       "  <th>converged:</th>             <td>True</td>       <th>  LL-Null:           </th> <td> -12.042</td>\n",
       "</tr>\n",
       "<tr>\n",
       "  <th>Covariance Type:</th>     <td>nonrobust</td>    <th>  LLR p-value:       </th>  <td>0.02595</td>\n",
       "</tr>\n",
       "</table>\n",
       "<table class=\"simpletable\">\n",
       "<tr>\n",
       "                <td></td>                   <th>coef</th>     <th>std err</th>      <th>z</th>      <th>P>|z|</th>  <th>[0.025</th>    <th>0.975]</th>  \n",
       "</tr>\n",
       "<tr>\n",
       "  <th>renewable_share_std</th>           <td>   -0.6415</td> <td>    0.554</td> <td>   -1.158</td> <td> 0.247</td> <td>   -1.727</td> <td>    0.444</td>\n",
       "</tr>\n",
       "<tr>\n",
       "  <th>imports_dependency_std</th>        <td>    0.1979</td> <td>    0.259</td> <td>    0.765</td> <td> 0.444</td> <td>   -0.309</td> <td>    0.705</td>\n",
       "</tr>\n",
       "<tr>\n",
       "  <th>share_of_fuels_renewables_std</th> <td>    1.5037</td> <td>    1.372</td> <td>    1.096</td> <td> 0.273</td> <td>   -1.185</td> <td>    4.193</td>\n",
       "</tr>\n",
       "<tr>\n",
       "  <th>heat_production_by_plant_mean</th> <td>    0.0002</td> <td>    0.000</td> <td>    1.185</td> <td> 0.236</td> <td>   -0.000</td> <td>    0.001</td>\n",
       "</tr>\n",
       "</table>"
      ],
      "text/plain": [
       "<class 'statsmodels.iolib.summary.Summary'>\n",
       "\"\"\"\n",
       "                           Logit Regression Results                           \n",
       "==============================================================================\n",
       "Dep. Variable:                      y   No. Observations:                   23\n",
       "Model:                          Logit   Df Residuals:                       19\n",
       "Method:                           MLE   Df Model:                            3\n",
       "Date:                Sat, 21 Jan 2023   Pseudo R-squ.:                  0.3847\n",
       "Time:                        20:48:03   Log-Likelihood:                -7.4093\n",
       "converged:                       True   LL-Null:                       -12.042\n",
       "Covariance Type:            nonrobust   LLR p-value:                   0.02595\n",
       "=================================================================================================\n",
       "                                    coef    std err          z      P>|z|      [0.025      0.975]\n",
       "-------------------------------------------------------------------------------------------------\n",
       "renewable_share_std              -0.6415      0.554     -1.158      0.247      -1.727       0.444\n",
       "imports_dependency_std            0.1979      0.259      0.765      0.444      -0.309       0.705\n",
       "share_of_fuels_renewables_std     1.5037      1.372      1.096      0.273      -1.185       4.193\n",
       "heat_production_by_plant_mean     0.0002      0.000      1.185      0.236      -0.000       0.001\n",
       "=================================================================================================\n",
       "\"\"\""
      ]
     },
     "execution_count": 23,
     "metadata": {},
     "output_type": "execute_result"
    }
   ],
   "source": [
    "# Industrial\n",
    "industrial_good_indicators = [\n",
    "    renewable_share_std,\n",
    "    imports_dependency_std,\n",
    "    share_of_fuels_renewables_std,\n",
    "    el_heat_production_by_plant_mean,\n",
    "]\n",
    "\n",
    "cl1 = np.copy(industrial_clusters[0])\n",
    "cl2 = np.copy(industrial_clusters[1])\n",
    "industrials_clusters_no_uk = [cl1.tolist(), cl2.tolist()]\n",
    "\n",
    "# some indicators do not have UK\n",
    "industrials_clusters_no_uk[0].remove('United Kingdom')\n",
    "industrial_metrics_by_country, industrial_clusters_labels = get_metrics_and_labels(industrials_clusters_no_uk, industrial_good_indicators)\n",
    "df = pd.DataFrame(industrial_metrics_by_country, columns=['renewable_share_std', \"imports_dependency_std\", \"share_of_fuels_renewables_std\", \"heat_production_by_plant_mean\"])\n",
    "\n",
    "summary = get_logit_summary(df, industrial_clusters_labels)\n",
    "summary"
   ]
  },
  {
   "cell_type": "code",
   "execution_count": 24,
   "metadata": {
    "colab": {
     "base_uri": "https://localhost:8080/",
     "height": 370
    },
    "id": "szGxkq_nAJB7",
    "outputId": "ce4ac6b0-0f26-4c66-e271-822b9442c13a"
   },
   "outputs": [
    {
     "name": "stdout",
     "output_type": "stream",
     "text": [
      "Optimization terminated successfully.\n",
      "         Current function value: 0.391082\n",
      "         Iterations 10\n"
     ]
    },
    {
     "data": {
      "text/html": [
       "<table class=\"simpletable\">\n",
       "<caption>Logit Regression Results</caption>\n",
       "<tr>\n",
       "  <th>Dep. Variable:</th>           <td>y</td>        <th>  No. Observations:  </th>  <td>    23</td> \n",
       "</tr>\n",
       "<tr>\n",
       "  <th>Model:</th>                 <td>Logit</td>      <th>  Df Residuals:      </th>  <td>    18</td> \n",
       "</tr>\n",
       "<tr>\n",
       "  <th>Method:</th>                 <td>MLE</td>       <th>  Df Model:          </th>  <td>     4</td> \n",
       "</tr>\n",
       "<tr>\n",
       "  <th>Date:</th>            <td>Sat, 21 Jan 2023</td> <th>  Pseudo R-squ.:     </th>  <td>0.4157</td> \n",
       "</tr>\n",
       "<tr>\n",
       "  <th>Time:</th>                <td>20:48:03</td>     <th>  Log-Likelihood:    </th> <td> -8.9949</td>\n",
       "</tr>\n",
       "<tr>\n",
       "  <th>converged:</th>             <td>True</td>       <th>  LL-Null:           </th> <td> -15.395</td>\n",
       "</tr>\n",
       "<tr>\n",
       "  <th>Covariance Type:</th>     <td>nonrobust</td>    <th>  LLR p-value:       </th>  <td>0.01230</td>\n",
       "</tr>\n",
       "</table>\n",
       "<table class=\"simpletable\">\n",
       "<tr>\n",
       "               <td></td>                 <th>coef</th>     <th>std err</th>      <th>z</th>      <th>P>|z|</th>  <th>[0.025</th>    <th>0.975]</th>  \n",
       "</tr>\n",
       "<tr>\n",
       "  <th>ppp_median</th>                 <td>   -0.4981</td> <td>    0.854</td> <td>   -0.583</td> <td> 0.560</td> <td>   -2.172</td> <td>    1.176</td>\n",
       "</tr>\n",
       "<tr>\n",
       "  <th>ppp_std</th>                    <td>    3.8804</td> <td>    6.338</td> <td>    0.612</td> <td> 0.540</td> <td>   -8.541</td> <td>   16.302</td>\n",
       "</tr>\n",
       "<tr>\n",
       "  <th>hicp_mean</th>                  <td>   -0.0235</td> <td>    0.019</td> <td>   -1.264</td> <td> 0.206</td> <td>   -0.060</td> <td>    0.013</td>\n",
       "</tr>\n",
       "<tr>\n",
       "  <th>biofuels_production_median</th> <td>    0.0026</td> <td>    0.002</td> <td>    1.111</td> <td> 0.267</td> <td>   -0.002</td> <td>    0.007</td>\n",
       "</tr>\n",
       "<tr>\n",
       "  <th>imports_dependency_median</th>  <td>    0.0400</td> <td>    0.026</td> <td>    1.522</td> <td> 0.128</td> <td>   -0.011</td> <td>    0.091</td>\n",
       "</tr>\n",
       "</table>"
      ],
      "text/plain": [
       "<class 'statsmodels.iolib.summary.Summary'>\n",
       "\"\"\"\n",
       "                           Logit Regression Results                           \n",
       "==============================================================================\n",
       "Dep. Variable:                      y   No. Observations:                   23\n",
       "Model:                          Logit   Df Residuals:                       18\n",
       "Method:                           MLE   Df Model:                            4\n",
       "Date:                Sat, 21 Jan 2023   Pseudo R-squ.:                  0.4157\n",
       "Time:                        20:48:03   Log-Likelihood:                -8.9949\n",
       "converged:                       True   LL-Null:                       -15.395\n",
       "Covariance Type:            nonrobust   LLR p-value:                   0.01230\n",
       "==============================================================================================\n",
       "                                 coef    std err          z      P>|z|      [0.025      0.975]\n",
       "----------------------------------------------------------------------------------------------\n",
       "ppp_median                    -0.4981      0.854     -0.583      0.560      -2.172       1.176\n",
       "ppp_std                        3.8804      6.338      0.612      0.540      -8.541      16.302\n",
       "hicp_mean                     -0.0235      0.019     -1.264      0.206      -0.060       0.013\n",
       "biofuels_production_median     0.0026      0.002      1.111      0.267      -0.002       0.007\n",
       "imports_dependency_median      0.0400      0.026      1.522      0.128      -0.011       0.091\n",
       "==============================================================================================\n",
       "\"\"\""
      ]
     },
     "execution_count": 24,
     "metadata": {},
     "output_type": "execute_result"
    }
   ],
   "source": [
    "# Domestic\n",
    "domestic_good_indicators = [\n",
    "    ppp_median,\n",
    "    ppp_std,\n",
    "    hicp_mean,\n",
    "    biofuels_production_median,\n",
    "    imports_dependency_median,\n",
    "]\n",
    "\n",
    "cl1 = np.copy(domestic_clusters[0])\n",
    "cl2 = np.copy(domestic_clusters[1])\n",
    "domestic_clusters_no_uk = [cl1.tolist(), cl2.tolist()]\n",
    "\n",
    "# some indicators do not have UK\n",
    "domestic_clusters_no_uk[1].remove('United Kingdom')\n",
    "\n",
    "domestic_metrics_by_country, domestic_clusters_labels = get_metrics_and_labels(domestic_clusters_no_uk, domestic_good_indicators)\n",
    "df = pd.DataFrame(domestic_metrics_by_country, columns=['ppp_median', \"ppp_std\", \"hicp_mean\", \"biofuels_production_median\", \"imports_dependency_median\"])\n",
    "\n",
    "summary = get_logit_summary(df, domestic_clusters_labels)\n",
    "summary"
   ]
  }
 ],
 "metadata": {
  "colab": {
   "provenance": []
  },
  "hide_input": false,
  "kernelspec": {
   "display_name": "Python 3 (ipykernel)",
   "language": "python",
   "name": "python3"
  },
  "language_info": {
   "codemirror_mode": {
    "name": "ipython",
    "version": 3
   },
   "file_extension": ".py",
   "mimetype": "text/x-python",
   "name": "python",
   "nbconvert_exporter": "python",
   "pygments_lexer": "ipython3",
   "version": "3.10.7"
  },
  "latex_envs": {
   "LaTeX_envs_menu_present": true,
   "autoclose": true,
   "autocomplete": true,
   "bibliofile": "biblio.bib",
   "cite_by": "apalike",
   "current_citInitial": 1,
   "eqLabelWithNumbers": true,
   "eqNumInitial": 1,
   "hotkeys": {
    "equation": "Ctrl-E",
    "itemize": "Ctrl-I"
   },
   "labels_anchors": false,
   "latex_user_defs": false,
   "report_style_numbering": false,
   "user_envs_cfg": false
  },
  "toc": {
   "base_numbering": 1,
   "nav_menu": {},
   "number_sections": true,
   "sideBar": true,
   "skip_h1_title": false,
   "title_cell": "Table of Contents",
   "title_sidebar": "Contents",
   "toc_cell": false,
   "toc_position": {},
   "toc_section_display": true,
   "toc_window_display": false
  },
  "varInspector": {
   "cols": {
    "lenName": 16,
    "lenType": 16,
    "lenVar": 40
   },
   "kernels_config": {
    "python": {
     "delete_cmd_postfix": "",
     "delete_cmd_prefix": "del ",
     "library": "var_list.py",
     "varRefreshCmd": "print(var_dic_list())"
    },
    "r": {
     "delete_cmd_postfix": ") ",
     "delete_cmd_prefix": "rm(",
     "library": "var_list.r",
     "varRefreshCmd": "cat(var_dic_list()) "
    }
   },
   "types_to_exclude": [
    "module",
    "function",
    "builtin_function_or_method",
    "instance",
    "_Feature"
   ],
   "window_display": false
  }
 },
 "nbformat": 4,
 "nbformat_minor": 1
}

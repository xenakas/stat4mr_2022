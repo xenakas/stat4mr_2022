{
 "cells": [
  {
   "cell_type": "code",
   "execution_count": 1,
   "id": "759f9e0a",
   "metadata": {
    "ExecuteTime": {
     "end_time": "2021-09-08T10:02:24.080654Z",
     "start_time": "2021-09-08T10:02:23.822435Z"
    }
   },
   "outputs": [],
   "source": [
    "import numpy as np\n",
    "import numpy.random as npr\n",
    "import matplotlib.pyplot as plt"
   ]
  },
  {
   "cell_type": "code",
   "execution_count": 2,
   "id": "9010f169",
   "metadata": {
    "ExecuteTime": {
     "end_time": "2021-09-08T10:03:02.643297Z",
     "start_time": "2021-09-08T10:03:02.637139Z"
    }
   },
   "outputs": [],
   "source": [
    "X = npr.randint(30,40,10)"
   ]
  },
  {
   "cell_type": "code",
   "execution_count": 5,
   "id": "1064a2a2",
   "metadata": {
    "ExecuteTime": {
     "end_time": "2021-09-08T10:03:20.559648Z",
     "start_time": "2021-09-08T10:03:20.549778Z"
    }
   },
   "outputs": [
    {
     "data": {
      "text/plain": [
       "34.8"
      ]
     },
     "execution_count": 5,
     "metadata": {},
     "output_type": "execute_result"
    }
   ],
   "source": [
    "np.mean(X)"
   ]
  },
  {
   "cell_type": "code",
   "execution_count": 8,
   "id": "d3567724",
   "metadata": {
    "ExecuteTime": {
     "end_time": "2021-09-08T10:05:26.271545Z",
     "start_time": "2021-09-08T10:05:26.265595Z"
    }
   },
   "outputs": [],
   "source": [
    "npr.seed(666)"
   ]
  },
  {
   "cell_type": "code",
   "execution_count": 9,
   "id": "bf8bed48",
   "metadata": {
    "ExecuteTime": {
     "end_time": "2021-09-08T10:05:28.488248Z",
     "start_time": "2021-09-08T10:05:28.481646Z"
    }
   },
   "outputs": [],
   "source": [
    "bootstrap_samples = npr.choice(X, size = (20, len(X)), replace = True )"
   ]
  },
  {
   "cell_type": "code",
   "execution_count": 14,
   "id": "4055b6ea",
   "metadata": {
    "ExecuteTime": {
     "end_time": "2021-09-08T10:07:18.962843Z",
     "start_time": "2021-09-08T10:07:18.956676Z"
    }
   },
   "outputs": [],
   "source": [
    "bootstrap_means = np.mean(bootstrap_samples, axis=1)"
   ]
  },
  {
   "cell_type": "markdown",
   "id": "f5bd9480",
   "metadata": {},
   "source": [
    "### Empirical Bootstrap"
   ]
  },
  {
   "cell_type": "code",
   "execution_count": 15,
   "id": "46bad588",
   "metadata": {
    "ExecuteTime": {
     "end_time": "2021-09-08T10:07:20.881424Z",
     "start_time": "2021-09-08T10:07:20.873528Z"
    }
   },
   "outputs": [],
   "source": [
    "d_star = bootstrap_means - np.mean(X)"
   ]
  },
  {
   "cell_type": "code",
   "execution_count": 17,
   "id": "5d6821f8",
   "metadata": {
    "ExecuteTime": {
     "end_time": "2021-09-08T10:07:35.799138Z",
     "start_time": "2021-09-08T10:07:35.670373Z"
    }
   },
   "outputs": [
    {
     "data": {
      "image/png": "[encoded data removed]",
      "text/plain": [
       "<Figure size 432x288 with 1 Axes>"
      ]
     },
     "metadata": {
      "needs_background": "light"
     },
     "output_type": "display_data"
    }
   ],
   "source": [
    "plt.hist(d_star);"
   ]
  },
  {
   "cell_type": "code",
   "execution_count": 19,
   "id": "e3d6aa62",
   "metadata": {
    "ExecuteTime": {
     "end_time": "2021-09-08T10:08:47.225350Z",
     "start_time": "2021-09-08T10:08:47.211956Z"
    }
   },
   "outputs": [
    {
     "data": {
      "text/plain": [
       "array([33.73, 35.9 ])"
      ]
     },
     "execution_count": 19,
     "metadata": {},
     "output_type": "execute_result"
    }
   ],
   "source": [
    "np.mean(X) + np.quantile(d_star, (0.1,0.9))"
   ]
  },
  {
   "cell_type": "markdown",
   "id": "0eff4433",
   "metadata": {},
   "source": [
    "### Percentile Bootstrap"
   ]
  },
  {
   "cell_type": "code",
   "execution_count": 21,
   "id": "8d39f216",
   "metadata": {
    "ExecuteTime": {
     "end_time": "2021-09-08T10:10:27.442990Z",
     "start_time": "2021-09-08T10:10:27.431207Z"
    }
   },
   "outputs": [
    {
     "data": {
      "text/plain": [
       "array([33.73, 35.9 ])"
      ]
     },
     "execution_count": 21,
     "metadata": {},
     "output_type": "execute_result"
    }
   ],
   "source": [
    "np.quantile(bootstrap_means, (0.1,0.9))"
   ]
  },
  {
   "cell_type": "markdown",
   "id": "ccc71e3d",
   "metadata": {},
   "source": [
    "### t-bootstrap"
   ]
  },
  {
   "cell_type": "code",
   "execution_count": 22,
   "id": "586826dd",
   "metadata": {
    "ExecuteTime": {
     "end_time": "2021-09-08T10:12:24.765314Z",
     "start_time": "2021-09-08T10:12:24.762247Z"
    }
   },
   "outputs": [
    {
     "data": {
      "text/plain": [
       "34.8"
      ]
     },
     "execution_count": 22,
     "metadata": {},
     "output_type": "execute_result"
    }
   ],
   "source": [
    "np.mean(X)"
   ]
  },
  {
   "cell_type": "code",
   "execution_count": 23,
   "id": "57a2000c",
   "metadata": {
    "ExecuteTime": {
     "end_time": "2021-09-08T10:12:42.528267Z",
     "start_time": "2021-09-08T10:12:42.524064Z"
    }
   },
   "outputs": [
    {
     "data": {
      "text/plain": [
       "array([34.8, 33.9, 33.9, 32.8, 34.8, 35.4, 34.8, 34.2, 35.9, 34.5, 34.2,\n",
       "       33.1, 33.8, 36.3, 34.3, 35.9, 35.5, 34.9, 34.5, 35.5])"
      ]
     },
     "execution_count": 23,
     "metadata": {},
     "output_type": "execute_result"
    }
   ],
   "source": [
    "bootstrap_means"
   ]
  },
  {
   "cell_type": "code",
   "execution_count": 25,
   "id": "09c93c78",
   "metadata": {
    "ExecuteTime": {
     "end_time": "2021-09-08T10:13:27.665161Z",
     "start_time": "2021-09-08T10:13:27.659170Z"
    }
   },
   "outputs": [],
   "source": [
    "bootstrap_std = np.std(bootstrap_samples, axis=1)"
   ]
  },
  {
   "cell_type": "code",
   "execution_count": 26,
   "id": "a82e832a",
   "metadata": {
    "ExecuteTime": {
     "end_time": "2021-09-08T10:14:13.037636Z",
     "start_time": "2021-09-08T10:14:13.035217Z"
    }
   },
   "outputs": [],
   "source": [
    "tt = (bootstrap_means-np.mean(X))/bootstrap_std"
   ]
  },
  {
   "cell_type": "code",
   "execution_count": 29,
   "id": "541b2aa8",
   "metadata": {
    "ExecuteTime": {
     "end_time": "2021-09-08T10:15:46.637376Z",
     "start_time": "2021-09-08T10:15:46.635526Z"
    }
   },
   "outputs": [],
   "source": [
    "# plt.hist(tt);"
   ]
  },
  {
   "cell_type": "code",
   "execution_count": 28,
   "id": "96105580",
   "metadata": {
    "ExecuteTime": {
     "end_time": "2021-09-08T10:15:19.017690Z",
     "start_time": "2021-09-08T10:15:19.013987Z"
    }
   },
   "outputs": [
    {
     "data": {
      "text/plain": [
       "array([-0.42166377,  0.69709668])"
      ]
     },
     "execution_count": 28,
     "metadata": {},
     "output_type": "execute_result"
    }
   ],
   "source": [
    "np.quantile(tt, (0.1,0.9))"
   ]
  },
  {
   "cell_type": "code",
   "execution_count": 30,
   "id": "62b1a4ef",
   "metadata": {
    "ExecuteTime": {
     "end_time": "2021-09-08T10:17:34.801928Z",
     "start_time": "2021-09-08T10:17:34.790520Z"
    }
   },
   "outputs": [
    {
     "data": {
      "text/plain": [
       "array([34.44822019, 35.38156416])"
      ]
     },
     "execution_count": 30,
     "metadata": {},
     "output_type": "execute_result"
    }
   ],
   "source": [
    "np.mean(X)+np.quantile(tt, (0.1,0.9))*np.std(X)/np.sqrt(len(X))"
   ]
  },
  {
   "cell_type": "code",
   "execution_count": 31,
   "id": "d053dd1c",
   "metadata": {
    "ExecuteTime": {
     "end_time": "2021-09-08T10:17:54.748547Z",
     "start_time": "2021-09-08T10:17:54.736770Z"
    }
   },
   "outputs": [
    {
     "data": {
      "text/plain": [
       "array([33.73, 35.9 ])"
      ]
     },
     "execution_count": 31,
     "metadata": {},
     "output_type": "execute_result"
    }
   ],
   "source": [
    "np.quantile(bootstrap_means, (0.1,0.9))"
   ]
  },
  {
   "cell_type": "markdown",
   "id": "4fed476f",
   "metadata": {},
   "source": [
    "### Sharpe Ratio"
   ]
  },
  {
   "cell_type": "code",
   "execution_count": 33,
   "id": "9cf73d99",
   "metadata": {
    "ExecuteTime": {
     "end_time": "2021-09-08T10:20:50.879628Z",
     "start_time": "2021-09-08T10:20:50.704005Z"
    }
   },
   "outputs": [],
   "source": [
    "import datetime as dt \n",
    "import pandas as pd\n",
    "import pandas_datareader.data as web"
   ]
  },
  {
   "cell_type": "code",
   "execution_count": 39,
   "id": "8f81f4b3",
   "metadata": {
    "ExecuteTime": {
     "end_time": "2021-09-08T10:23:24.500156Z",
     "start_time": "2021-09-08T10:23:22.200862Z"
    }
   },
   "outputs": [],
   "source": [
    "start = dt.datetime(1951,1,1)\n",
    "end = dt.datetime(2022,1,1)\n",
    "sp500 = web.DataReader('^GSPC', 'yahoo', start=start, end=end)"
   ]
  },
  {
   "cell_type": "code",
   "execution_count": 43,
   "id": "74eaf79a",
   "metadata": {
    "ExecuteTime": {
     "end_time": "2021-09-08T10:24:57.662530Z",
     "start_time": "2021-09-08T10:24:57.648691Z"
    }
   },
   "outputs": [],
   "source": [
    "monthly_dates = pd.date_range(sp500.index.min(), sp500.index.max(), freq='M')"
   ]
  },
  {
   "cell_type": "code",
   "execution_count": 47,
   "id": "cd0b237d",
   "metadata": {
    "ExecuteTime": {
     "end_time": "2021-09-08T10:26:21.643621Z",
     "start_time": "2021-09-08T10:26:21.641160Z"
    }
   },
   "outputs": [],
   "source": [
    "monthly_data = sp500.reindex(monthly_dates, method='ffill')"
   ]
  },
  {
   "cell_type": "code",
   "execution_count": 51,
   "id": "a1b0172e",
   "metadata": {
    "ExecuteTime": {
     "end_time": "2021-09-08T10:27:24.177224Z",
     "start_time": "2021-09-08T10:27:24.168928Z"
    }
   },
   "outputs": [],
   "source": [
    "returns = 100*monthly_data['Adj Close'].pct_change().dropna()"
   ]
  },
  {
   "cell_type": "code",
   "execution_count": 53,
   "id": "49edce55",
   "metadata": {
    "ExecuteTime": {
     "end_time": "2021-09-08T10:27:34.426544Z",
     "start_time": "2021-09-08T10:27:34.420774Z"
    }
   },
   "outputs": [],
   "source": [
    "# returns"
   ]
  },
  {
   "cell_type": "code",
   "execution_count": 54,
   "id": "7bcbdeeb",
   "metadata": {
    "ExecuteTime": {
     "end_time": "2021-09-08T10:28:58.240890Z",
     "start_time": "2021-09-08T10:28:58.234102Z"
    }
   },
   "outputs": [],
   "source": [
    "def sharpe_ratio(x):\n",
    "    mu, sigma = 12*x.mean(), np.sqrt(12*x.var())\n",
    "    return mu/sigma"
   ]
  },
  {
   "cell_type": "code",
   "execution_count": 55,
   "id": "7ca229e7",
   "metadata": {
    "ExecuteTime": {
     "end_time": "2021-09-08T10:29:43.296218Z",
     "start_time": "2021-09-08T10:29:43.290784Z"
    }
   },
   "outputs": [],
   "source": [
    "from arch.bootstrap import IIDBootstrap"
   ]
  },
  {
   "cell_type": "code",
   "execution_count": 56,
   "id": "71a8e5fe",
   "metadata": {
    "ExecuteTime": {
     "end_time": "2021-09-08T10:30:05.246983Z",
     "start_time": "2021-09-08T10:30:05.245002Z"
    }
   },
   "outputs": [],
   "source": [
    "bs = IIDBootstrap(returns)"
   ]
  },
  {
   "cell_type": "code",
   "execution_count": 58,
   "id": "0245db58",
   "metadata": {
    "ExecuteTime": {
     "end_time": "2021-09-08T10:31:03.192862Z",
     "start_time": "2021-09-08T10:31:02.957186Z"
    }
   },
   "outputs": [
    {
     "data": {
      "text/plain": [
       "array([[0.34943751],\n",
       "       [0.85975813]])"
      ]
     },
     "execution_count": 58,
     "metadata": {},
     "output_type": "execute_result"
    }
   ],
   "source": [
    "bs.conf_int(sharpe_ratio, 1000, method='basic')"
   ]
  },
  {
   "cell_type": "code",
   "execution_count": 59,
   "id": "1b52adad",
   "metadata": {
    "ExecuteTime": {
     "end_time": "2021-09-08T10:33:06.385931Z",
     "start_time": "2021-09-08T10:33:06.129464Z"
    }
   },
   "outputs": [
    {
     "data": {
      "text/plain": [
       "array([[0.35957149],\n",
       "       [0.86019939]])"
      ]
     },
     "execution_count": 59,
     "metadata": {},
     "output_type": "execute_result"
    }
   ],
   "source": [
    "bs.conf_int(sharpe_ratio, 1000, method='percentile')"
   ]
  },
  {
   "cell_type": "code",
   "execution_count": 60,
   "id": "a2f88521",
   "metadata": {
    "ExecuteTime": {
     "end_time": "2021-09-08T10:35:34.505222Z",
     "start_time": "2021-09-08T10:35:34.248375Z"
    }
   },
   "outputs": [
    {
     "data": {
      "text/plain": [
       "array([[0.34597326],\n",
       "       [0.85193099]])"
      ]
     },
     "execution_count": 60,
     "metadata": {},
     "output_type": "execute_result"
    }
   ],
   "source": [
    "bs.conf_int(sharpe_ratio, 1000, method='norm')"
   ]
  },
  {
   "cell_type": "code",
   "execution_count": 62,
   "id": "4b995ebf",
   "metadata": {
    "ExecuteTime": {
     "end_time": "2021-09-08T10:36:31.421557Z",
     "start_time": "2021-09-08T10:36:08.128252Z"
    }
   },
   "outputs": [
    {
     "data": {
      "text/plain": [
       "array([[0.34209351],\n",
       "       [0.81581137]])"
      ]
     },
     "execution_count": 62,
     "metadata": {},
     "output_type": "execute_result"
    }
   ],
   "source": [
    "bs.conf_int(sharpe_ratio, 100, method='studentized', std_err_func = ...)"
   ]
  },
  {
   "cell_type": "code",
   "execution_count": 64,
   "id": "fe23d4d9",
   "metadata": {
    "ExecuteTime": {
     "end_time": "2021-09-08T10:38:49.492054Z",
     "start_time": "2021-09-08T10:38:48.870609Z"
    }
   },
   "outputs": [],
   "source": [
    "res = bs.apply(sharpe_ratio, 2500)"
   ]
  },
  {
   "cell_type": "code",
   "execution_count": 66,
   "id": "b447ac97",
   "metadata": {
    "ExecuteTime": {
     "end_time": "2021-09-08T10:39:08.003132Z",
     "start_time": "2021-09-08T10:39:07.890046Z"
    }
   },
   "outputs": [
    {
     "data": {
      "image/png": "[encoded data removed]",
      "text/plain": [
       "<Figure size 432x288 with 1 Axes>"
      ]
     },
     "metadata": {
      "needs_background": "light"
     },
     "output_type": "display_data"
    }
   ],
   "source": [
    "plt.hist(res);"
   ]
  },
  {
   "cell_type": "code",
   "execution_count": 68,
   "id": "c162f498",
   "metadata": {
    "ExecuteTime": {
     "end_time": "2021-09-08T10:39:53.459428Z",
     "start_time": "2021-09-08T10:39:53.449228Z"
    }
   },
   "outputs": [
    {
     "data": {
      "text/plain": [
       "0.5989521249745213"
      ]
     },
     "execution_count": 68,
     "metadata": {},
     "output_type": "execute_result"
    }
   ],
   "source": [
    "sharpe_ratio(returns)"
   ]
  },
  {
   "cell_type": "markdown",
   "id": "5a1b7cfb",
   "metadata": {},
   "source": [
    "#### CI for maximum "
   ]
  },
  {
   "cell_type": "code",
   "execution_count": 74,
   "id": "33f32597",
   "metadata": {
    "ExecuteTime": {
     "end_time": "2021-09-08T10:42:47.320126Z",
     "start_time": "2021-09-08T10:42:47.314264Z"
    }
   },
   "outputs": [],
   "source": [
    "u = npr.normal(0,100,40)\n",
    "x = np.arange(40)\n",
    "y = 2+40*x-x**2+u"
   ]
  },
  {
   "cell_type": "code",
   "execution_count": 75,
   "id": "6eb767b2",
   "metadata": {
    "ExecuteTime": {
     "end_time": "2021-09-08T10:42:48.299873Z",
     "start_time": "2021-09-08T10:42:48.184771Z"
    }
   },
   "outputs": [
    {
     "data": {
      "text/plain": [
       "<matplotlib.collections.PathCollection at 0x7fe1673b2280>"
      ]
     },
     "execution_count": 75,
     "metadata": {},
     "output_type": "execute_result"
    },
    {
     "data": {
      "image/png": "[encoded data removed]",
      "text/plain": [
       "<Figure size 432x288 with 1 Axes>"
      ]
     },
     "metadata": {
      "needs_background": "light"
     },
     "output_type": "display_data"
    }
   ],
   "source": [
    "plt.scatter(x, y)"
   ]
  },
  {
   "cell_type": "code",
   "execution_count": 76,
   "id": "1e1ceeb2",
   "metadata": {
    "ExecuteTime": {
     "end_time": "2021-09-08T10:43:32.695379Z",
     "start_time": "2021-09-08T10:43:32.689022Z"
    }
   },
   "outputs": [],
   "source": [
    "bs = IIDBootstrap(y)"
   ]
  },
  {
   "cell_type": "code",
   "execution_count": 85,
   "id": "7d870396",
   "metadata": {
    "ExecuteTime": {
     "end_time": "2021-09-08T10:44:54.534738Z",
     "start_time": "2021-09-08T10:44:54.531503Z"
    }
   },
   "outputs": [
    {
     "data": {
      "text/plain": [
       "601.4193035334082"
      ]
     },
     "execution_count": 85,
     "metadata": {},
     "output_type": "execute_result"
    }
   ],
   "source": [
    "np.max(y)"
   ]
  },
  {
   "cell_type": "code",
   "execution_count": 87,
   "id": "bcf89a44",
   "metadata": {
    "ExecuteTime": {
     "end_time": "2021-09-08T10:46:14.374281Z",
     "start_time": "2021-09-08T10:46:14.213555Z"
    }
   },
   "outputs": [
    {
     "data": {
      "image/png": "[encoded data removed]",
      "text/plain": [
       "<Figure size 432x288 with 1 Axes>"
      ]
     },
     "metadata": {
      "needs_background": "light"
     },
     "output_type": "display_data"
    }
   ],
   "source": [
    "res = bs.apply(np.max, 2500)\n",
    "plt.hist(res);"
   ]
  },
  {
   "cell_type": "code",
   "execution_count": 88,
   "id": "a6b944f0",
   "metadata": {
    "ExecuteTime": {
     "end_time": "2021-09-08T10:47:09.714215Z",
     "start_time": "2021-09-08T10:47:09.686587Z"
    }
   },
   "outputs": [
    {
     "data": {
      "text/plain": [
       "array([[601.41930353],\n",
       "       [683.06659382]])"
      ]
     },
     "execution_count": 88,
     "metadata": {},
     "output_type": "execute_result"
    }
   ],
   "source": [
    "bs.conf_int(np.max, 1000, method='basic')"
   ]
  },
  {
   "cell_type": "code",
   "execution_count": 82,
   "id": "62ddb6ba",
   "metadata": {
    "ExecuteTime": {
     "end_time": "2021-09-08T10:44:27.554051Z",
     "start_time": "2021-09-08T10:44:27.529208Z"
    }
   },
   "outputs": [
    {
     "data": {
      "text/plain": [
       "array([[519.77201324],\n",
       "       [601.41930353]])"
      ]
     },
     "execution_count": 82,
     "metadata": {},
     "output_type": "execute_result"
    }
   ],
   "source": [
    "bs.conf_int(np.max, 1000, method='percentile')"
   ]
  },
  {
   "cell_type": "code",
   "execution_count": 92,
   "id": "afe79d16",
   "metadata": {
    "ExecuteTime": {
     "end_time": "2021-09-08T10:50:39.159063Z",
     "start_time": "2021-09-08T10:50:39.127305Z"
    }
   },
   "outputs": [
    {
     "data": {
      "text/plain": [
       "array([[-58.84610781],\n",
       "       [ 58.84610781]])"
      ]
     },
     "execution_count": 92,
     "metadata": {},
     "output_type": "execute_result"
    }
   ],
   "source": [
    "bs.conf_int(np.max, 500, method='norm')-np.max(y)"
   ]
  },
  {
   "cell_type": "code",
   "execution_count": 93,
   "id": "d193fe97",
   "metadata": {
    "ExecuteTime": {
     "end_time": "2021-09-08T10:51:00.880141Z",
     "start_time": "2021-09-08T10:50:52.903786Z"
    }
   },
   "outputs": [
    {
     "data": {
      "text/plain": [
       "array([[  0.        ],\n",
       "       [315.25500507]])"
      ]
     },
     "execution_count": 93,
     "metadata": {},
     "output_type": "execute_result"
    }
   ],
   "source": [
    "bs.conf_int(np.max, 500, method='studentized')-np.max(y)"
   ]
  }
 ],
 "metadata": {
  "hide_input": false,
  "kernelspec": {
   "display_name": "Python 3 (ipykernel)",
   "language": "python",
   "name": "python3"
  },
  "language_info": {
   "codemirror_mode": {
    "name": "ipython",
    "version": 3
   },
   "file_extension": ".py",
   "mimetype": "text/x-python",
   "name": "python",
   "nbconvert_exporter": "python",
   "pygments_lexer": "ipython3",
   "version": "3.10.4"
  },
  "latex_envs": {
   "LaTeX_envs_menu_present": true,
   "autoclose": true,
   "autocomplete": true,
   "bibliofile": "biblio.bib",
   "cite_by": "apalike",
   "current_citInitial": 1,
   "eqLabelWithNumbers": true,
   "eqNumInitial": 1,
   "hotkeys": {
    "equation": "Ctrl-E",
    "itemize": "Ctrl-I"
   },
   "labels_anchors": false,
   "latex_user_defs": false,
   "report_style_numbering": false,
   "user_envs_cfg": false
  },
  "toc": {
   "base_numbering": 1,
   "nav_menu": {},
   "number_sections": true,
   "sideBar": true,
   "skip_h1_title": false,
   "title_cell": "Table of Contents",
   "title_sidebar": "Contents",
   "toc_cell": false,
   "toc_position": {},
   "toc_section_display": true,
   "toc_window_display": false
  },
  "varInspector": {
   "cols": {
    "lenName": 16,
    "lenType": 16,
    "lenVar": 40
   },
   "kernels_config": {
    "python": {
     "delete_cmd_postfix": "",
     "delete_cmd_prefix": "del ",
     "library": "var_list.py",
     "varRefreshCmd": "print(var_dic_list())"
    },
    "r": {
     "delete_cmd_postfix": ") ",
     "delete_cmd_prefix": "rm(",
     "library": "var_list.r",
     "varRefreshCmd": "cat(var_dic_list()) "
    }
   },
   "types_to_exclude": [
    "module",
    "function",
    "builtin_function_or_method",
    "instance",
    "_Feature"
   ],
   "window_display": false
  }
 },
 "nbformat": 4,
 "nbformat_minor": 5
}

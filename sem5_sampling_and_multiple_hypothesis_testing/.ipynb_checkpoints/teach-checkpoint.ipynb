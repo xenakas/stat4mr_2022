{
 "cells": [
  {
   "cell_type": "code",
   "execution_count": 2,
   "id": "2506f79a",
   "metadata": {
    "ExecuteTime": {
     "end_time": "2021-11-20T09:48:55.656771Z",
     "start_time": "2021-11-20T09:48:55.529135Z"
    }
   },
   "outputs": [
    {
     "data": {
      "text/html": [
       "<div>\n",
       "<style scoped>\n",
       "    .dataframe tbody tr th:only-of-type {\n",
       "        vertical-align: middle;\n",
       "    }\n",
       "\n",
       "    .dataframe tbody tr th {\n",
       "        vertical-align: top;\n",
       "    }\n",
       "\n",
       "    .dataframe thead th {\n",
       "        text-align: right;\n",
       "    }\n",
       "</style>\n",
       "<table border=\"1\" class=\"dataframe\">\n",
       "  <thead>\n",
       "    <tr style=\"text-align: right;\">\n",
       "      <th></th>\n",
       "      <th>smoker</th>\n",
       "      <th>treatment</th>\n",
       "      <th>dead</th>\n",
       "    </tr>\n",
       "  </thead>\n",
       "  <tbody>\n",
       "    <tr>\n",
       "      <th>0</th>\n",
       "      <td>0</td>\n",
       "      <td>0</td>\n",
       "      <td>0</td>\n",
       "    </tr>\n",
       "    <tr>\n",
       "      <th>1</th>\n",
       "      <td>1</td>\n",
       "      <td>1</td>\n",
       "      <td>0</td>\n",
       "    </tr>\n",
       "    <tr>\n",
       "      <th>2</th>\n",
       "      <td>1</td>\n",
       "      <td>1</td>\n",
       "      <td>0</td>\n",
       "    </tr>\n",
       "    <tr>\n",
       "      <th>3</th>\n",
       "      <td>0</td>\n",
       "      <td>1</td>\n",
       "      <td>0</td>\n",
       "    </tr>\n",
       "    <tr>\n",
       "      <th>4</th>\n",
       "      <td>0</td>\n",
       "      <td>0</td>\n",
       "      <td>0</td>\n",
       "    </tr>\n",
       "    <tr>\n",
       "      <th>...</th>\n",
       "      <td>...</td>\n",
       "      <td>...</td>\n",
       "      <td>...</td>\n",
       "    </tr>\n",
       "    <tr>\n",
       "      <th>999995</th>\n",
       "      <td>0</td>\n",
       "      <td>0</td>\n",
       "      <td>0</td>\n",
       "    </tr>\n",
       "    <tr>\n",
       "      <th>999996</th>\n",
       "      <td>1</td>\n",
       "      <td>1</td>\n",
       "      <td>0</td>\n",
       "    </tr>\n",
       "    <tr>\n",
       "      <th>999997</th>\n",
       "      <td>0</td>\n",
       "      <td>0</td>\n",
       "      <td>0</td>\n",
       "    </tr>\n",
       "    <tr>\n",
       "      <th>999998</th>\n",
       "      <td>0</td>\n",
       "      <td>0</td>\n",
       "      <td>0</td>\n",
       "    </tr>\n",
       "    <tr>\n",
       "      <th>999999</th>\n",
       "      <td>0</td>\n",
       "      <td>0</td>\n",
       "      <td>0</td>\n",
       "    </tr>\n",
       "  </tbody>\n",
       "</table>\n",
       "<p>1000000 rows × 3 columns</p>\n",
       "</div>"
      ],
      "text/plain": [
       "        smoker  treatment  dead\n",
       "0            0          0     0\n",
       "1            1          1     0\n",
       "2            1          1     0\n",
       "3            0          1     0\n",
       "4            0          0     0\n",
       "...        ...        ...   ...\n",
       "999995       0          0     0\n",
       "999996       1          1     0\n",
       "999997       0          0     0\n",
       "999998       0          0     0\n",
       "999999       0          0     0\n",
       "\n",
       "[1000000 rows x 3 columns]"
      ]
     },
     "execution_count": 2,
     "metadata": {},
     "output_type": "execute_result"
    }
   ],
   "source": [
    "import pandas as pd\n",
    "df = pd.read_csv(\"sample\")\n",
    "df"
   ]
  },
  {
   "cell_type": "markdown",
   "id": "4a8da7ff",
   "metadata": {},
   "source": [
    "#### Simple Random Sampling\n",
    "\n",
    "Say you want to select a subset of a population in which each member of the subset has an equal probability of being chosen.\n",
    "\n",
    "Below we select 100 sample points from a dataset."
   ]
  },
  {
   "cell_type": "code",
   "execution_count": 4,
   "id": "7e6b129c",
   "metadata": {
    "ExecuteTime": {
     "end_time": "2021-11-20T09:30:07.348162Z",
     "start_time": "2021-11-20T09:30:07.316460Z"
    }
   },
   "outputs": [],
   "source": [
    "sample_df = df.sample(100)"
   ]
  },
  {
   "cell_type": "code",
   "execution_count": 6,
   "id": "02ee2080",
   "metadata": {
    "ExecuteTime": {
     "end_time": "2021-11-20T09:30:15.342120Z",
     "start_time": "2021-11-20T09:30:15.337290Z"
    }
   },
   "outputs": [],
   "source": [
    "# sample_df"
   ]
  },
  {
   "cell_type": "markdown",
   "id": "6c92d79c",
   "metadata": {},
   "source": [
    "#### Stratified Sampling\n",
    "\n",
    "Assume that we need to estimate the average number of votes for each candidate in an election. Assume that the country has 3 towns:\n",
    "\n",
    "Town A has 1 million factory workers,\n",
    "\n",
    "Town B has 2 million workers, and\n",
    "\n",
    "Town C has 3 million retirees.\n",
    "\n",
    "We can choose to get a random sample of size 60 over the entire population but there is some chance that the random sample turns out to be not well balanced across these towns and hence is biased causing a significant error in estimation.\n",
    "\n",
    "Instead, if we choose to take a random sample of 10, 20 and 30 from Town A, B and C respectively then we can produce a smaller error in estimation for the same total size of the sample.\n",
    "\n",
    "You can do something like this pretty easily with Python:"
   ]
  },
  {
   "cell_type": "code",
   "execution_count": 42,
   "id": "cdbe1237",
   "metadata": {
    "ExecuteTime": {
     "end_time": "2021-11-20T09:47:55.788568Z",
     "start_time": "2021-11-20T09:47:55.781774Z"
    }
   },
   "outputs": [],
   "source": [
    "sample_df = df.sample(100)\n",
    "X = df.iloc[:,:2]\n",
    "y = df.iloc[:,2]"
   ]
  },
  {
   "cell_type": "code",
   "execution_count": 19,
   "id": "8a8c3f43",
   "metadata": {
    "ExecuteTime": {
     "end_time": "2021-11-20T09:34:02.272733Z",
     "start_time": "2021-11-20T09:34:01.953500Z"
    }
   },
   "outputs": [],
   "source": [
    "from sklearn.model_selection import train_test_split\n",
    "\n",
    "X_train, X_test, y_train, y_test = train_test_split(X, y,\n",
    "                                                    stratify=y, \n",
    "                                                    test_size=0.25)"
   ]
  },
  {
   "cell_type": "code",
   "execution_count": 12,
   "id": "733a9735",
   "metadata": {
    "ExecuteTime": {
     "end_time": "2021-11-20T09:50:20.888856Z",
     "start_time": "2021-11-20T09:50:20.694624Z"
    }
   },
   "outputs": [],
   "source": [
    "import matplotlib.pyplot as plt"
   ]
  },
  {
   "cell_type": "code",
   "execution_count": 21,
   "id": "40c26d63",
   "metadata": {
    "ExecuteTime": {
     "end_time": "2021-11-20T09:34:19.116528Z",
     "start_time": "2021-11-20T09:34:19.004830Z"
    }
   },
   "outputs": [
    {
     "data": {
      "text/plain": [
       "(array([738099.,      0.,      0.,      0.,      0.,      0.,      0.,\n",
       "             0.,      0., 261901.]),\n",
       " array([0. , 0.1, 0.2, 0.3, 0.4, 0.5, 0.6, 0.7, 0.8, 0.9, 1. ]),\n",
       " <BarContainer object of 10 artists>)"
      ]
     },
     "execution_count": 21,
     "metadata": {},
     "output_type": "execute_result"
    },
    {
     "data": {
      "image/png": "[encoded data removed]",
      "text/plain": [
       "<Figure size 432x288 with 1 Axes>"
      ]
     },
     "metadata": {
      "needs_background": "light"
     },
     "output_type": "display_data"
    }
   ],
   "source": [
    "plt.hist(y)"
   ]
  },
  {
   "cell_type": "code",
   "execution_count": 20,
   "id": "daa27c6a",
   "metadata": {
    "ExecuteTime": {
     "end_time": "2021-11-20T09:34:04.912254Z",
     "start_time": "2021-11-20T09:34:04.803625Z"
    }
   },
   "outputs": [
    {
     "data": {
      "text/plain": [
       "(array([553574.,      0.,      0.,      0.,      0.,      0.,      0.,\n",
       "             0.,      0., 196426.]),\n",
       " array([0. , 0.1, 0.2, 0.3, 0.4, 0.5, 0.6, 0.7, 0.8, 0.9, 1. ]),\n",
       " <BarContainer object of 10 artists>)"
      ]
     },
     "execution_count": 20,
     "metadata": {},
     "output_type": "execute_result"
    },
    {
     "data": {
      "image/png": "[encoded data removed]",
      "text/plain": [
       "<Figure size 432x288 with 1 Axes>"
      ]
     },
     "metadata": {
      "needs_background": "light"
     },
     "output_type": "display_data"
    }
   ],
   "source": [
    "plt.hist(y_train)"
   ]
  },
  {
   "cell_type": "markdown",
   "id": "9d659808",
   "metadata": {},
   "source": [
    "#### Reservoir Sampling'\n",
    "\n",
    "I love this problem statement:\n",
    "\n",
    "Say you have a stream of items of large and unknown length that we can only iterate over once.\n",
    "\n",
    "Create an algorithm that randomly chooses an item from this stream such that each item is equally likely to be selected.\n",
    "\n",
    "How can we do that?\n",
    "\n",
    "Let us assume we have to sample 5 objects out of an infinite stream such that each element has an equal probability of getting selected."
   ]
  },
  {
   "cell_type": "code",
   "execution_count": 27,
   "id": "b0199a74",
   "metadata": {
    "ExecuteTime": {
     "end_time": "2021-11-20T09:37:40.769521Z",
     "start_time": "2021-11-20T09:37:40.759485Z"
    }
   },
   "outputs": [],
   "source": [
    "import random\n",
    "\n",
    "def generator(max):\n",
    "    number = 1\n",
    "    while number < max:\n",
    "        number += 1\n",
    "        yield number\n",
    "# Create as stream generator\n",
    "stream = generator(10000)\n",
    "\n",
    "# Doing Reservoir Sampling from the stream\n",
    "k=5\n",
    "reservoir = []\n",
    "for i, element in enumerate(stream):\n",
    "    if i+1<= k:\n",
    "        reservoir.append(element)\n",
    "    else:\n",
    "        probability = k/(i+1)\n",
    "        if random.random() < probability:\n",
    "            # Select item in stream and remove one of the k items already selected\n",
    "            reservoir[random.choice(range(0,k))] = element\n",
    "                \n",
    "                "
   ]
  },
  {
   "cell_type": "code",
   "execution_count": 28,
   "id": "e1ba4097",
   "metadata": {
    "ExecuteTime": {
     "end_time": "2021-11-20T09:37:51.533963Z",
     "start_time": "2021-11-20T09:37:51.527732Z"
    }
   },
   "outputs": [
    {
     "name": "stdout",
     "output_type": "stream",
     "text": [
      "[3434, 9614, 5768, 5301, 5673]\n"
     ]
    }
   ],
   "source": [
    "print(reservoir)"
   ]
  },
  {
   "cell_type": "markdown",
   "id": "548b34c9",
   "metadata": {
    "ExecuteTime": {
     "end_time": "2021-11-20T09:38:27.630023Z",
     "start_time": "2021-11-20T09:38:27.620632Z"
    }
   },
   "source": [
    "It can be mathematically proved that in the sample each element has the same probability of getting selected from the stream.\n",
    "\n",
    "How?\n",
    "\n",
    "It always helps to think of a smaller problem when it comes to mathematics.\n",
    "\n",
    "So, let us think of a stream of only 3 items and we have to keep 2 of them.\n",
    "\n",
    "We see the first item, we hold it in the list as our reservoir has space. We see the second item, we hold it in the list as our reservoir has space.\n",
    "\n",
    "We see the third item. Here is where things get interesting. We choose the third item to be in the list with probability 2/3.\n",
    "\n",
    "Let us now see the probability of first item getting selected:\n",
    "\n",
    "The probability of removing the first item is the probability of element 3 getting selected multiplied by the probability of Element 1 getting randomly chosen as the replacement candidate from the 2 elements in the reservoir. That probability is:\n",
    "\n",
    "2/3*1/2 = 1/3\n",
    "\n",
    "Thus the probability of 1 getting selected is:\n",
    "\n",
    "1–1/3 = 2/3\n",
    "\n",
    "We can have the exact same argument for the Second Element and we can extend it for many elements.\n",
    "\n",
    "Thus each item has the same probability of getting selected: 2/3 or in general k/n\n"
   ]
  },
  {
   "cell_type": "markdown",
   "id": "ccdbab9b",
   "metadata": {},
   "source": [
    "#### Random Undersampling and Oversampling"
   ]
  },
  {
   "cell_type": "markdown",
   "id": "162d6b3e",
   "metadata": {},
   "source": [
    "It is too often that we encounter an imbalanced dataset.\n",
    "\n",
    "A widely adopted technique for dealing with highly imbalanced datasets is called resampling. It consists of removing samples from the majority class (under-sampling) and/or adding more examples from the minority class (over-sampling).\n",
    "\n",
    "Let us first create some example imbalanced data."
   ]
  },
  {
   "cell_type": "code",
   "execution_count": 32,
   "id": "d30216ee",
   "metadata": {
    "ExecuteTime": {
     "end_time": "2021-11-20T09:39:58.630468Z",
     "start_time": "2021-11-20T09:39:58.588653Z"
    }
   },
   "outputs": [],
   "source": [
    "from sklearn.datasets import make_classification\n",
    "\n",
    "X, y = make_classification(\n",
    "    n_classes=2, class_sep=1.5, weights=[0.9, 0.1],\n",
    "    n_informative=3, n_redundant=1, flip_y=0,\n",
    "    n_features=20, n_clusters_per_class=1,\n",
    "    n_samples=100, random_state=10\n",
    ")\n",
    "X = pd.DataFrame(X)\n",
    "X['target'] = y"
   ]
  },
  {
   "cell_type": "markdown",
   "id": "23673acd",
   "metadata": {
    "ExecuteTime": {
     "end_time": "2021-11-20T09:40:11.866459Z",
     "start_time": "2021-11-20T09:40:11.861648Z"
    }
   },
   "source": [
    "We can now do random oversampling and undersampling using:"
   ]
  },
  {
   "cell_type": "code",
   "execution_count": 35,
   "id": "33f5a02f",
   "metadata": {
    "ExecuteTime": {
     "end_time": "2021-11-20T09:41:57.504141Z",
     "start_time": "2021-11-20T09:41:57.490026Z"
    }
   },
   "outputs": [
    {
     "name": "stdout",
     "output_type": "stream",
     "text": [
      "90 10\n",
      "20\n",
      "180\n"
     ]
    }
   ],
   "source": [
    "num_0 = len(X[X['target']==0])\n",
    "num_1 = len(X[X['target']==1])\n",
    "\n",
    "print(num_0,num_1)\n",
    "\n",
    "# random undersample\n",
    "undersampled_data = pd.concat([ X[X['target']==0].sample(num_1) , X[X['target']==1] ])\n",
    "\n",
    "print(len(undersampled_data))\n",
    "\n",
    "# random oversample\n",
    "\n",
    "oversampled_data = pd.concat([ X[X['target']==0] , X[X['target']==1].sample(num_0, replace=True) ])\n",
    "print(len(oversampled_data))"
   ]
  },
  {
   "cell_type": "markdown",
   "id": "aacaa67b",
   "metadata": {},
   "source": [
    "#### Undersampling and Oversampling using imbalanced-learn\n",
    "\n",
    "imbalanced-learn(imblearn) is a Python Package to tackle the curse of imbalanced datasets.\n",
    "\n",
    "It provides a variety of methods to undersample and oversample.\n",
    "\n",
    "a. Undersampling using Tomek Links:\n",
    "\n",
    "One of such methods it provides is called Tomek Links. Tomek links are pairs of examples of opposite classes in close vicinity.\n",
    "\n",
    "In this algorithm, we end up removing the majority element from the Tomek link which provides a better decision boundary for a classifier."
   ]
  },
  {
   "cell_type": "code",
   "execution_count": 3,
   "id": "2e7fd115",
   "metadata": {
    "ExecuteTime": {
     "end_time": "2021-11-20T09:48:58.710491Z",
     "start_time": "2021-11-20T09:48:58.375653Z"
    }
   },
   "outputs": [],
   "source": [
    "from imblearn.under_sampling import TomekLinks"
   ]
  },
  {
   "cell_type": "code",
   "execution_count": 4,
   "id": "e7c9c0d8",
   "metadata": {
    "ExecuteTime": {
     "end_time": "2021-11-20T09:49:08.179391Z",
     "start_time": "2021-11-20T09:49:08.138377Z"
    }
   },
   "outputs": [],
   "source": [
    "df = df.sample(1000)\n",
    "X = df.iloc[:,:2]\n",
    "y = df.iloc[:,2]"
   ]
  },
  {
   "cell_type": "code",
   "execution_count": 17,
   "id": "b0836797",
   "metadata": {
    "ExecuteTime": {
     "end_time": "2021-11-20T09:51:16.390501Z",
     "start_time": "2021-11-20T09:51:16.378569Z"
    }
   },
   "outputs": [],
   "source": [
    "tl = TomekLinks(sampling_strategy='majority')\n",
    "X_tl, y_tl = tl.fit_resample(X, y)"
   ]
  },
  {
   "cell_type": "markdown",
   "id": "f6833c44",
   "metadata": {},
   "source": [
    "Oversampling using SMOTE:\n",
    "\n",
    "In SMOTE (Synthetic Minority Oversampling Technique) we synthesize elements for the minority class, in the vicinity of already existing elements."
   ]
  },
  {
   "cell_type": "code",
   "execution_count": 24,
   "id": "773f232d",
   "metadata": {
    "ExecuteTime": {
     "end_time": "2021-11-20T09:52:35.136531Z",
     "start_time": "2021-11-20T09:52:35.128592Z"
    }
   },
   "outputs": [],
   "source": [
    "from imblearn.over_sampling import SMOTE\n",
    "\n",
    "smote = SMOTE(sampling_strategy='minority')\n",
    "X_sm, y_sm = smote.fit_resample(X, y)"
   ]
  },
  {
   "cell_type": "code",
   "execution_count": 33,
   "id": "40dccb69",
   "metadata": {
    "ExecuteTime": {
     "end_time": "2021-11-20T09:53:53.606755Z",
     "start_time": "2021-11-20T09:53:53.497320Z"
    }
   },
   "outputs": [
    {
     "data": {
      "text/plain": [
       "(array([735.,   0.,   0.,   0.,   0.,   0.,   0.,   0.,   0., 265.]),\n",
       " array([0. , 0.1, 0.2, 0.3, 0.4, 0.5, 0.6, 0.7, 0.8, 0.9, 1. ]),\n",
       " <BarContainer object of 10 artists>)"
      ]
     },
     "execution_count": 33,
     "metadata": {},
     "output_type": "execute_result"
    },
    {
     "data": {
      "image/png": "[encoded data removed]",
      "text/plain": [
       "<Figure size 432x288 with 1 Axes>"
      ]
     },
     "metadata": {
      "needs_background": "light"
     },
     "output_type": "display_data"
    }
   ],
   "source": [
    "# plt.hist(X)\n",
    "plt.hist(y)"
   ]
  },
  {
   "cell_type": "code",
   "execution_count": 34,
   "id": "a760267e",
   "metadata": {
    "ExecuteTime": {
     "end_time": "2021-11-20T09:54:00.479390Z",
     "start_time": "2021-11-20T09:54:00.375620Z"
    }
   },
   "outputs": [
    {
     "data": {
      "text/plain": [
       "(array([735.,   0.,   0.,   0.,   0.,   0.,   0.,   0.,   0., 265.]),\n",
       " array([0. , 0.1, 0.2, 0.3, 0.4, 0.5, 0.6, 0.7, 0.8, 0.9, 1. ]),\n",
       " <BarContainer object of 10 artists>)"
      ]
     },
     "execution_count": 34,
     "metadata": {},
     "output_type": "execute_result"
    },
    {
     "data": {
      "image/png": "[encoded data removed]",
      "text/plain": [
       "<Figure size 432x288 with 1 Axes>"
      ]
     },
     "metadata": {
      "needs_background": "light"
     },
     "output_type": "display_data"
    }
   ],
   "source": [
    "# plt.hist(X_tl)\n",
    "plt.hist(y_tl)\n"
   ]
  },
  {
   "cell_type": "code",
   "execution_count": 36,
   "id": "dfb279ce",
   "metadata": {
    "ExecuteTime": {
     "end_time": "2021-11-20T09:54:10.708466Z",
     "start_time": "2021-11-20T09:54:10.601119Z"
    }
   },
   "outputs": [
    {
     "data": {
      "text/plain": [
       "(array([735.,   0.,   0.,   0.,   0.,   0.,   0.,   0.,   0., 735.]),\n",
       " array([0. , 0.1, 0.2, 0.3, 0.4, 0.5, 0.6, 0.7, 0.8, 0.9, 1. ]),\n",
       " <BarContainer object of 10 artists>)"
      ]
     },
     "execution_count": 36,
     "metadata": {},
     "output_type": "execute_result"
    },
    {
     "data": {
      "image/png": "[encoded data removed]",
      "text/plain": [
       "<Figure size 432x288 with 1 Axes>"
      ]
     },
     "metadata": {
      "needs_background": "light"
     },
     "output_type": "display_data"
    }
   ],
   "source": [
    "# plt.hist(X_sm)\n",
    "plt.hist(y_sm)"
   ]
  },
  {
   "cell_type": "markdown",
   "id": "b38b5361",
   "metadata": {},
   "source": [
    "There are a variety of other methods in the imblearn package for both undersampling(Cluster Centroids, NearMiss, etc.) and oversampling(ADASYN and bSMOTE) that you can check out."
   ]
  },
  {
   "cell_type": "code",
   "execution_count": null,
   "id": "1d5d48d4",
   "metadata": {},
   "outputs": [],
   "source": []
  }
 ],
 "metadata": {
  "hide_input": false,
  "kernelspec": {
   "display_name": "Python 3 (ipykernel)",
   "language": "python",
   "name": "python3"
  },
  "language_info": {
   "codemirror_mode": {
    "name": "ipython",
    "version": 3
   },
   "file_extension": ".py",
   "mimetype": "text/x-python",
   "name": "python",
   "nbconvert_exporter": "python",
   "pygments_lexer": "ipython3",
   "version": "3.10.6"
  },
  "latex_envs": {
   "LaTeX_envs_menu_present": true,
   "autoclose": true,
   "autocomplete": true,
   "bibliofile": "biblio.bib",
   "cite_by": "apalike",
   "current_citInitial": 1,
   "eqLabelWithNumbers": true,
   "eqNumInitial": 1,
   "hotkeys": {
    "equation": "Ctrl-E",
    "itemize": "Ctrl-I"
   },
   "labels_anchors": false,
   "latex_user_defs": false,
   "report_style_numbering": false,
   "user_envs_cfg": false
  },
  "toc": {
   "base_numbering": 1,
   "nav_menu": {},
   "number_sections": true,
   "sideBar": true,
   "skip_h1_title": false,
   "title_cell": "Table of Contents",
   "title_sidebar": "Contents",
   "toc_cell": false,
   "toc_position": {},
   "toc_section_display": true,
   "toc_window_display": false
  },
  "varInspector": {
   "cols": {
    "lenName": 16,
    "lenType": 16,
    "lenVar": 40
   },
   "kernels_config": {
    "python": {
     "delete_cmd_postfix": "",
     "delete_cmd_prefix": "del ",
     "library": "var_list.py",
     "varRefreshCmd": "print(var_dic_list())"
    },
    "r": {
     "delete_cmd_postfix": ") ",
     "delete_cmd_prefix": "rm(",
     "library": "var_list.r",
     "varRefreshCmd": "cat(var_dic_list()) "
    }
   },
   "types_to_exclude": [
    "module",
    "function",
    "builtin_function_or_method",
    "instance",
    "_Feature"
   ],
   "window_display": false
  }
 },
 "nbformat": 4,
 "nbformat_minor": 5
}

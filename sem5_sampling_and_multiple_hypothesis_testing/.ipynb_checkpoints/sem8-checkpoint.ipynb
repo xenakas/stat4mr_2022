{
 "cells": [
  {
   "cell_type": "code",
   "execution_count": 1,
   "id": "47af987f",
   "metadata": {
    "ExecuteTime": {
     "end_time": "2021-11-20T12:29:03.695581Z",
     "start_time": "2021-11-20T12:29:03.525264Z"
    }
   },
   "outputs": [],
   "source": [
    "import pandas as pd"
   ]
  },
  {
   "cell_type": "code",
   "execution_count": 7,
   "id": "b4699ece",
   "metadata": {
    "ExecuteTime": {
     "end_time": "2021-11-20T12:32:12.558525Z",
     "start_time": "2021-11-20T12:32:12.427963Z"
    }
   },
   "outputs": [],
   "source": [
    "df = pd.read_csv('sample')"
   ]
  },
  {
   "cell_type": "code",
   "execution_count": 4,
   "id": "ccbd627c",
   "metadata": {
    "ExecuteTime": {
     "end_time": "2021-11-20T12:29:49.965679Z",
     "start_time": "2021-11-20T12:29:49.956724Z"
    }
   },
   "outputs": [
    {
     "data": {
      "text/html": [
       "<div>\n",
       "<style scoped>\n",
       "    .dataframe tbody tr th:only-of-type {\n",
       "        vertical-align: middle;\n",
       "    }\n",
       "\n",
       "    .dataframe tbody tr th {\n",
       "        vertical-align: top;\n",
       "    }\n",
       "\n",
       "    .dataframe thead th {\n",
       "        text-align: right;\n",
       "    }\n",
       "</style>\n",
       "<table border=\"1\" class=\"dataframe\">\n",
       "  <thead>\n",
       "    <tr style=\"text-align: right;\">\n",
       "      <th></th>\n",
       "      <th>smoker</th>\n",
       "      <th>treatment</th>\n",
       "      <th>dead</th>\n",
       "    </tr>\n",
       "  </thead>\n",
       "  <tbody>\n",
       "    <tr>\n",
       "      <th>0</th>\n",
       "      <td>0</td>\n",
       "      <td>0</td>\n",
       "      <td>0</td>\n",
       "    </tr>\n",
       "    <tr>\n",
       "      <th>1</th>\n",
       "      <td>1</td>\n",
       "      <td>1</td>\n",
       "      <td>0</td>\n",
       "    </tr>\n",
       "    <tr>\n",
       "      <th>2</th>\n",
       "      <td>1</td>\n",
       "      <td>1</td>\n",
       "      <td>0</td>\n",
       "    </tr>\n",
       "    <tr>\n",
       "      <th>3</th>\n",
       "      <td>0</td>\n",
       "      <td>1</td>\n",
       "      <td>0</td>\n",
       "    </tr>\n",
       "    <tr>\n",
       "      <th>4</th>\n",
       "      <td>0</td>\n",
       "      <td>0</td>\n",
       "      <td>0</td>\n",
       "    </tr>\n",
       "    <tr>\n",
       "      <th>...</th>\n",
       "      <td>...</td>\n",
       "      <td>...</td>\n",
       "      <td>...</td>\n",
       "    </tr>\n",
       "    <tr>\n",
       "      <th>999995</th>\n",
       "      <td>0</td>\n",
       "      <td>0</td>\n",
       "      <td>0</td>\n",
       "    </tr>\n",
       "    <tr>\n",
       "      <th>999996</th>\n",
       "      <td>1</td>\n",
       "      <td>1</td>\n",
       "      <td>0</td>\n",
       "    </tr>\n",
       "    <tr>\n",
       "      <th>999997</th>\n",
       "      <td>0</td>\n",
       "      <td>0</td>\n",
       "      <td>0</td>\n",
       "    </tr>\n",
       "    <tr>\n",
       "      <th>999998</th>\n",
       "      <td>0</td>\n",
       "      <td>0</td>\n",
       "      <td>0</td>\n",
       "    </tr>\n",
       "    <tr>\n",
       "      <th>999999</th>\n",
       "      <td>0</td>\n",
       "      <td>0</td>\n",
       "      <td>0</td>\n",
       "    </tr>\n",
       "  </tbody>\n",
       "</table>\n",
       "<p>1000000 rows × 3 columns</p>\n",
       "</div>"
      ],
      "text/plain": [
       "        smoker  treatment  dead\n",
       "0            0          0     0\n",
       "1            1          1     0\n",
       "2            1          1     0\n",
       "3            0          1     0\n",
       "4            0          0     0\n",
       "...        ...        ...   ...\n",
       "999995       0          0     0\n",
       "999996       1          1     0\n",
       "999997       0          0     0\n",
       "999998       0          0     0\n",
       "999999       0          0     0\n",
       "\n",
       "[1000000 rows x 3 columns]"
      ]
     },
     "execution_count": 4,
     "metadata": {},
     "output_type": "execute_result"
    }
   ],
   "source": [
    "df"
   ]
  },
  {
   "cell_type": "markdown",
   "id": "a58f58c7",
   "metadata": {},
   "source": [
    "#### SRS"
   ]
  },
  {
   "cell_type": "code",
   "execution_count": 8,
   "id": "15a42f55",
   "metadata": {
    "ExecuteTime": {
     "end_time": "2021-11-20T12:32:14.899727Z",
     "start_time": "2021-11-20T12:32:14.860410Z"
    }
   },
   "outputs": [],
   "source": [
    "df1 = df.sample(5000)"
   ]
  },
  {
   "cell_type": "code",
   "execution_count": 9,
   "id": "aebe50e8",
   "metadata": {
    "ExecuteTime": {
     "end_time": "2021-11-20T12:32:15.618657Z",
     "start_time": "2021-11-20T12:32:15.611558Z"
    },
    "scrolled": false
   },
   "outputs": [
    {
     "data": {
      "text/html": [
       "<div>\n",
       "<style scoped>\n",
       "    .dataframe tbody tr th:only-of-type {\n",
       "        vertical-align: middle;\n",
       "    }\n",
       "\n",
       "    .dataframe tbody tr th {\n",
       "        vertical-align: top;\n",
       "    }\n",
       "\n",
       "    .dataframe thead th {\n",
       "        text-align: right;\n",
       "    }\n",
       "</style>\n",
       "<table border=\"1\" class=\"dataframe\">\n",
       "  <thead>\n",
       "    <tr style=\"text-align: right;\">\n",
       "      <th></th>\n",
       "      <th>smoker</th>\n",
       "      <th>treatment</th>\n",
       "      <th>dead</th>\n",
       "    </tr>\n",
       "  </thead>\n",
       "  <tbody>\n",
       "    <tr>\n",
       "      <th>650563</th>\n",
       "      <td>1</td>\n",
       "      <td>1</td>\n",
       "      <td>0</td>\n",
       "    </tr>\n",
       "    <tr>\n",
       "      <th>918997</th>\n",
       "      <td>1</td>\n",
       "      <td>0</td>\n",
       "      <td>1</td>\n",
       "    </tr>\n",
       "    <tr>\n",
       "      <th>535103</th>\n",
       "      <td>0</td>\n",
       "      <td>0</td>\n",
       "      <td>1</td>\n",
       "    </tr>\n",
       "    <tr>\n",
       "      <th>950908</th>\n",
       "      <td>0</td>\n",
       "      <td>0</td>\n",
       "      <td>0</td>\n",
       "    </tr>\n",
       "    <tr>\n",
       "      <th>485142</th>\n",
       "      <td>0</td>\n",
       "      <td>0</td>\n",
       "      <td>0</td>\n",
       "    </tr>\n",
       "    <tr>\n",
       "      <th>...</th>\n",
       "      <td>...</td>\n",
       "      <td>...</td>\n",
       "      <td>...</td>\n",
       "    </tr>\n",
       "    <tr>\n",
       "      <th>40991</th>\n",
       "      <td>0</td>\n",
       "      <td>1</td>\n",
       "      <td>0</td>\n",
       "    </tr>\n",
       "    <tr>\n",
       "      <th>315403</th>\n",
       "      <td>1</td>\n",
       "      <td>1</td>\n",
       "      <td>0</td>\n",
       "    </tr>\n",
       "    <tr>\n",
       "      <th>795049</th>\n",
       "      <td>1</td>\n",
       "      <td>0</td>\n",
       "      <td>0</td>\n",
       "    </tr>\n",
       "    <tr>\n",
       "      <th>880497</th>\n",
       "      <td>0</td>\n",
       "      <td>0</td>\n",
       "      <td>0</td>\n",
       "    </tr>\n",
       "    <tr>\n",
       "      <th>858210</th>\n",
       "      <td>1</td>\n",
       "      <td>0</td>\n",
       "      <td>1</td>\n",
       "    </tr>\n",
       "  </tbody>\n",
       "</table>\n",
       "<p>5000 rows × 3 columns</p>\n",
       "</div>"
      ],
      "text/plain": [
       "        smoker  treatment  dead\n",
       "650563       1          1     0\n",
       "918997       1          0     1\n",
       "535103       0          0     1\n",
       "950908       0          0     0\n",
       "485142       0          0     0\n",
       "...        ...        ...   ...\n",
       "40991        0          1     0\n",
       "315403       1          1     0\n",
       "795049       1          0     0\n",
       "880497       0          0     0\n",
       "858210       1          0     1\n",
       "\n",
       "[5000 rows x 3 columns]"
      ]
     },
     "execution_count": 9,
     "metadata": {},
     "output_type": "execute_result"
    }
   ],
   "source": [
    "df1"
   ]
  },
  {
   "cell_type": "markdown",
   "id": "aecba080",
   "metadata": {},
   "source": [
    "#### Stratified sampling"
   ]
  },
  {
   "cell_type": "code",
   "execution_count": 20,
   "id": "308902df",
   "metadata": {
    "ExecuteTime": {
     "end_time": "2021-11-20T12:37:50.574750Z",
     "start_time": "2021-11-20T12:37:50.571525Z"
    }
   },
   "outputs": [],
   "source": [
    "X = df1.iloc[:,:2]\n",
    "y = df1.iloc[:,2]"
   ]
  },
  {
   "cell_type": "code",
   "execution_count": 21,
   "id": "333b66a2",
   "metadata": {
    "ExecuteTime": {
     "end_time": "2021-11-20T12:37:53.818732Z",
     "start_time": "2021-11-20T12:37:53.812235Z"
    }
   },
   "outputs": [],
   "source": [
    "from sklearn.model_selection import train_test_split\n",
    "\n",
    "X_train, X_test, y_train, y_test = train_test_split(X, y, stratify=y, test_size=0.25)"
   ]
  },
  {
   "cell_type": "code",
   "execution_count": 13,
   "id": "562a64e2",
   "metadata": {
    "ExecuteTime": {
     "end_time": "2021-11-20T12:36:50.920351Z",
     "start_time": "2021-11-20T12:36:50.797093Z"
    }
   },
   "outputs": [],
   "source": [
    "import matplotlib.pyplot as plt"
   ]
  },
  {
   "cell_type": "code",
   "execution_count": 22,
   "id": "c6481e76",
   "metadata": {
    "ExecuteTime": {
     "end_time": "2021-11-20T12:37:54.925194Z",
     "start_time": "2021-11-20T12:37:54.783211Z"
    }
   },
   "outputs": [
    {
     "data": {
      "text/plain": [
       "(array([[3485.,    0.,    0.,    0.,    0.,    0.,    0.,    0.,    0.,\n",
       "         1515.],\n",
       "        [3477.,    0.,    0.,    0.,    0.,    0.,    0.,    0.,    0.,\n",
       "         1523.]]),\n",
       " array([0. , 0.1, 0.2, 0.3, 0.4, 0.5, 0.6, 0.7, 0.8, 0.9, 1. ]),\n",
       " <a list of 2 BarContainer objects>)"
      ]
     },
     "execution_count": 22,
     "metadata": {},
     "output_type": "execute_result"
    },
    {
     "data": {
      "image/png": "[encoded data removed]",
      "text/plain": [
       "<Figure size 432x288 with 1 Axes>"
      ]
     },
     "metadata": {
      "needs_background": "light"
     },
     "output_type": "display_data"
    }
   ],
   "source": [
    "plt.hist(X)"
   ]
  },
  {
   "cell_type": "code",
   "execution_count": 23,
   "id": "ef80f732",
   "metadata": {
    "ExecuteTime": {
     "end_time": "2021-11-20T12:38:04.625452Z",
     "start_time": "2021-11-20T12:38:04.497869Z"
    }
   },
   "outputs": [
    {
     "data": {
      "text/plain": [
       "(array([[2624.,    0.,    0.,    0.,    0.,    0.,    0.,    0.,    0.,\n",
       "         1126.],\n",
       "        [2615.,    0.,    0.,    0.,    0.,    0.,    0.,    0.,    0.,\n",
       "         1135.]]),\n",
       " array([0. , 0.1, 0.2, 0.3, 0.4, 0.5, 0.6, 0.7, 0.8, 0.9, 1. ]),\n",
       " <a list of 2 BarContainer objects>)"
      ]
     },
     "execution_count": 23,
     "metadata": {},
     "output_type": "execute_result"
    },
    {
     "data": {
      "image/png": "[encoded data removed]",
      "text/plain": [
       "<Figure size 432x288 with 1 Axes>"
      ]
     },
     "metadata": {
      "needs_background": "light"
     },
     "output_type": "display_data"
    }
   ],
   "source": [
    "plt.hist(X_train)"
   ]
  },
  {
   "cell_type": "markdown",
   "id": "487afb6f",
   "metadata": {},
   "source": [
    "#### Undersampling and Oversampling"
   ]
  },
  {
   "cell_type": "code",
   "execution_count": 30,
   "id": "e4e0da60",
   "metadata": {
    "ExecuteTime": {
     "end_time": "2021-11-20T12:50:27.158350Z",
     "start_time": "2021-11-20T12:50:27.046652Z"
    }
   },
   "outputs": [
    {
     "data": {
      "text/plain": [
       "(array([3485.,    0.,    0.,    0.,    0.,    0.,    0.,    0.,    0.,\n",
       "        1515.]),\n",
       " array([0. , 0.1, 0.2, 0.3, 0.4, 0.5, 0.6, 0.7, 0.8, 0.9, 1. ]),\n",
       " <BarContainer object of 10 artists>)"
      ]
     },
     "execution_count": 30,
     "metadata": {},
     "output_type": "execute_result"
    },
    {
     "data": {
      "image/png": "[encoded data removed]",
      "text/plain": [
       "<Figure size 432x288 with 1 Axes>"
      ]
     },
     "metadata": {
      "needs_background": "light"
     },
     "output_type": "display_data"
    }
   ],
   "source": [
    "plt.hist(df1['smoker'])"
   ]
  },
  {
   "cell_type": "code",
   "execution_count": 32,
   "id": "c35c8fa2",
   "metadata": {
    "ExecuteTime": {
     "end_time": "2021-11-20T12:50:53.543371Z",
     "start_time": "2021-11-20T12:50:53.538179Z"
    }
   },
   "outputs": [
    {
     "data": {
      "text/plain": [
       "(3485, 1515)"
      ]
     },
     "execution_count": 32,
     "metadata": {},
     "output_type": "execute_result"
    }
   ],
   "source": [
    "n_0 = df1.loc[df1['smoker']==0,].shape[0]\n",
    "n_1 = df1.loc[df1['smoker']==1,].shape[0]\n",
    "n_0, n_1"
   ]
  },
  {
   "cell_type": "code",
   "execution_count": 38,
   "id": "0bc961f4",
   "metadata": {
    "ExecuteTime": {
     "end_time": "2021-11-20T12:52:47.525811Z",
     "start_time": "2021-11-20T12:52:47.514242Z"
    },
    "scrolled": true
   },
   "outputs": [
    {
     "data": {
      "text/plain": [
       "(3030, 3)"
      ]
     },
     "execution_count": 38,
     "metadata": {},
     "output_type": "execute_result"
    }
   ],
   "source": [
    "df_under = pd.concat([df1.loc[df1['smoker']==0,].sample(n_1), df1.loc[df1['smoker']==1,]])\n",
    "df_under.shape"
   ]
  },
  {
   "cell_type": "code",
   "execution_count": 39,
   "id": "657dfd96",
   "metadata": {
    "ExecuteTime": {
     "end_time": "2021-11-20T12:53:45.039111Z",
     "start_time": "2021-11-20T12:53:45.024924Z"
    }
   },
   "outputs": [
    {
     "data": {
      "text/plain": [
       "(6970, 3)"
      ]
     },
     "execution_count": 39,
     "metadata": {},
     "output_type": "execute_result"
    }
   ],
   "source": [
    "df_over = pd.concat([df1.loc[df1['smoker']==0,], df1.loc[df1['smoker']==1,].sample(n_0, replace=True)])\n",
    "df_over.shape"
   ]
  },
  {
   "cell_type": "code",
   "execution_count": 41,
   "id": "e68b0bbb",
   "metadata": {
    "ExecuteTime": {
     "end_time": "2021-11-20T12:54:26.057791Z",
     "start_time": "2021-11-20T12:54:25.818577Z"
    }
   },
   "outputs": [
    {
     "data": {
      "image/png": "[encoded data removed]",
      "text/plain": [
       "<Figure size 432x288 with 1 Axes>"
      ]
     },
     "metadata": {
      "needs_background": "light"
     },
     "output_type": "display_data"
    }
   ],
   "source": [
    "plt.hist(df);"
   ]
  },
  {
   "cell_type": "code",
   "execution_count": 42,
   "id": "ccf46609",
   "metadata": {
    "ExecuteTime": {
     "end_time": "2021-11-20T12:54:48.029291Z",
     "start_time": "2021-11-20T12:54:47.854359Z"
    }
   },
   "outputs": [
    {
     "data": {
      "image/png": "[encoded data removed]",
      "text/plain": [
       "<Figure size 432x288 with 1 Axes>"
      ]
     },
     "metadata": {
      "needs_background": "light"
     },
     "output_type": "display_data"
    }
   ],
   "source": [
    "plt.hist(df_under);"
   ]
  },
  {
   "cell_type": "code",
   "execution_count": 43,
   "id": "ae849a2d",
   "metadata": {
    "ExecuteTime": {
     "end_time": "2021-11-20T12:55:15.914557Z",
     "start_time": "2021-11-20T12:55:15.781731Z"
    }
   },
   "outputs": [
    {
     "data": {
      "image/png": "[encoded data removed]",
      "text/plain": [
       "<Figure size 432x288 with 1 Axes>"
      ]
     },
     "metadata": {
      "needs_background": "light"
     },
     "output_type": "display_data"
    }
   ],
   "source": [
    "plt.hist(df_over);"
   ]
  },
  {
   "cell_type": "code",
   "execution_count": 44,
   "id": "0f16feba",
   "metadata": {
    "ExecuteTime": {
     "end_time": "2021-11-20T12:56:10.010341Z",
     "start_time": "2021-11-20T12:56:10.007680Z"
    }
   },
   "outputs": [],
   "source": [
    "from imblearn.under_sampling import TomekLinks"
   ]
  },
  {
   "cell_type": "code",
   "execution_count": 47,
   "id": "a54511da",
   "metadata": {
    "ExecuteTime": {
     "end_time": "2021-11-20T12:57:35.416083Z",
     "start_time": "2021-11-20T12:57:35.413542Z"
    }
   },
   "outputs": [],
   "source": [
    "# df1"
   ]
  },
  {
   "cell_type": "code",
   "execution_count": 45,
   "id": "86989c34",
   "metadata": {
    "ExecuteTime": {
     "end_time": "2021-11-20T12:57:24.014694Z",
     "start_time": "2021-11-20T12:57:24.010079Z"
    }
   },
   "outputs": [],
   "source": [
    "X = df1.iloc[:,:2]\n",
    "y = df1.iloc[:,2]"
   ]
  },
  {
   "cell_type": "code",
   "execution_count": 48,
   "id": "f45d3f9d",
   "metadata": {
    "ExecuteTime": {
     "end_time": "2021-11-20T12:58:00.966395Z",
     "start_time": "2021-11-20T12:58:00.884708Z"
    }
   },
   "outputs": [],
   "source": [
    "tl = TomekLinks(sampling_strategy=\"majority\")\n",
    "X_tl, y_tl = tl.fit_resample(X,y)"
   ]
  },
  {
   "cell_type": "code",
   "execution_count": 49,
   "id": "db995bbb",
   "metadata": {
    "ExecuteTime": {
     "end_time": "2021-11-20T12:58:30.485224Z",
     "start_time": "2021-11-20T12:58:30.343125Z"
    }
   },
   "outputs": [
    {
     "data": {
      "image/png": "[encoded data removed]",
      "text/plain": [
       "<Figure size 432x288 with 1 Axes>"
      ]
     },
     "metadata": {
      "needs_background": "light"
     },
     "output_type": "display_data"
    }
   ],
   "source": [
    "plt.hist(X);"
   ]
  },
  {
   "cell_type": "code",
   "execution_count": 50,
   "id": "6519cd0c",
   "metadata": {
    "ExecuteTime": {
     "end_time": "2021-11-20T12:58:34.860522Z",
     "start_time": "2021-11-20T12:58:34.736143Z"
    }
   },
   "outputs": [
    {
     "data": {
      "image/png": "[encoded data removed]",
      "text/plain": [
       "<Figure size 432x288 with 1 Axes>"
      ]
     },
     "metadata": {
      "needs_background": "light"
     },
     "output_type": "display_data"
    }
   ],
   "source": [
    "plt.hist(X_tl);"
   ]
  },
  {
   "cell_type": "code",
   "execution_count": 53,
   "id": "f03bda9a",
   "metadata": {
    "ExecuteTime": {
     "end_time": "2021-11-20T13:00:13.273682Z",
     "start_time": "2021-11-20T13:00:13.271322Z"
    }
   },
   "outputs": [],
   "source": [
    "from imblearn.over_sampling import SMOTE"
   ]
  },
  {
   "cell_type": "code",
   "execution_count": 54,
   "id": "b507c9a3",
   "metadata": {
    "ExecuteTime": {
     "end_time": "2021-11-20T13:01:31.903440Z",
     "start_time": "2021-11-20T13:01:31.879552Z"
    }
   },
   "outputs": [],
   "source": [
    "smote = SMOTE(sampling_strategy='minority')\n",
    "X_sm, y_sm = smote.fit_resample(X,y)"
   ]
  },
  {
   "cell_type": "code",
   "execution_count": 61,
   "id": "44781f8d",
   "metadata": {
    "ExecuteTime": {
     "end_time": "2021-11-20T13:02:29.139893Z",
     "start_time": "2021-11-20T13:02:29.015769Z"
    }
   },
   "outputs": [
    {
     "data": {
      "image/png": "[encoded data removed]",
      "text/plain": [
       "<Figure size 432x288 with 1 Axes>"
      ]
     },
     "metadata": {
      "needs_background": "light"
     },
     "output_type": "display_data"
    }
   ],
   "source": [
    "plt.hist(X);"
   ]
  },
  {
   "cell_type": "code",
   "execution_count": 62,
   "id": "8c485649",
   "metadata": {
    "ExecuteTime": {
     "end_time": "2021-11-20T13:02:30.386637Z",
     "start_time": "2021-11-20T13:02:30.272022Z"
    }
   },
   "outputs": [
    {
     "data": {
      "image/png": "[encoded data removed]",
      "text/plain": [
       "<Figure size 432x288 with 1 Axes>"
      ]
     },
     "metadata": {
      "needs_background": "light"
     },
     "output_type": "display_data"
    }
   ],
   "source": [
    "plt.hist(X_sm);"
   ]
  },
  {
   "cell_type": "code",
   "execution_count": 63,
   "id": "9cc6f493",
   "metadata": {
    "ExecuteTime": {
     "end_time": "2021-11-20T13:03:09.348170Z",
     "start_time": "2021-11-20T13:03:09.336043Z"
    }
   },
   "outputs": [
    {
     "data": {
      "text/html": [
       "<div>\n",
       "<style scoped>\n",
       "    .dataframe tbody tr th:only-of-type {\n",
       "        vertical-align: middle;\n",
       "    }\n",
       "\n",
       "    .dataframe tbody tr th {\n",
       "        vertical-align: top;\n",
       "    }\n",
       "\n",
       "    .dataframe thead th {\n",
       "        text-align: right;\n",
       "    }\n",
       "</style>\n",
       "<table border=\"1\" class=\"dataframe\">\n",
       "  <thead>\n",
       "    <tr style=\"text-align: right;\">\n",
       "      <th></th>\n",
       "      <th>smoker</th>\n",
       "      <th>treatment</th>\n",
       "    </tr>\n",
       "  </thead>\n",
       "  <tbody>\n",
       "    <tr>\n",
       "      <th>0</th>\n",
       "      <td>1</td>\n",
       "      <td>1</td>\n",
       "    </tr>\n",
       "    <tr>\n",
       "      <th>1</th>\n",
       "      <td>1</td>\n",
       "      <td>0</td>\n",
       "    </tr>\n",
       "    <tr>\n",
       "      <th>2</th>\n",
       "      <td>0</td>\n",
       "      <td>0</td>\n",
       "    </tr>\n",
       "    <tr>\n",
       "      <th>3</th>\n",
       "      <td>0</td>\n",
       "      <td>0</td>\n",
       "    </tr>\n",
       "    <tr>\n",
       "      <th>4</th>\n",
       "      <td>0</td>\n",
       "      <td>0</td>\n",
       "    </tr>\n",
       "    <tr>\n",
       "      <th>...</th>\n",
       "      <td>...</td>\n",
       "      <td>...</td>\n",
       "    </tr>\n",
       "    <tr>\n",
       "      <th>7321</th>\n",
       "      <td>1</td>\n",
       "      <td>0</td>\n",
       "    </tr>\n",
       "    <tr>\n",
       "      <th>7322</th>\n",
       "      <td>1</td>\n",
       "      <td>1</td>\n",
       "    </tr>\n",
       "    <tr>\n",
       "      <th>7323</th>\n",
       "      <td>0</td>\n",
       "      <td>1</td>\n",
       "    </tr>\n",
       "    <tr>\n",
       "      <th>7324</th>\n",
       "      <td>1</td>\n",
       "      <td>0</td>\n",
       "    </tr>\n",
       "    <tr>\n",
       "      <th>7325</th>\n",
       "      <td>1</td>\n",
       "      <td>0</td>\n",
       "    </tr>\n",
       "  </tbody>\n",
       "</table>\n",
       "<p>7326 rows × 2 columns</p>\n",
       "</div>"
      ],
      "text/plain": [
       "      smoker  treatment\n",
       "0          1          1\n",
       "1          1          0\n",
       "2          0          0\n",
       "3          0          0\n",
       "4          0          0\n",
       "...      ...        ...\n",
       "7321       1          0\n",
       "7322       1          1\n",
       "7323       0          1\n",
       "7324       1          0\n",
       "7325       1          0\n",
       "\n",
       "[7326 rows x 2 columns]"
      ]
     },
     "execution_count": 63,
     "metadata": {},
     "output_type": "execute_result"
    }
   ],
   "source": [
    "# X_sm"
   ]
  }
 ],
 "metadata": {
  "hide_input": false,
  "kernelspec": {
   "display_name": "Python 3 (ipykernel)",
   "language": "python",
   "name": "python3"
  },
  "language_info": {
   "codemirror_mode": {
    "name": "ipython",
    "version": 3
   },
   "file_extension": ".py",
   "mimetype": "text/x-python",
   "name": "python",
   "nbconvert_exporter": "python",
   "pygments_lexer": "ipython3",
   "version": "3.10.6"
  },
  "latex_envs": {
   "LaTeX_envs_menu_present": true,
   "autoclose": true,
   "autocomplete": true,
   "bibliofile": "biblio.bib",
   "cite_by": "apalike",
   "current_citInitial": 1,
   "eqLabelWithNumbers": true,
   "eqNumInitial": 1,
   "hotkeys": {
    "equation": "Ctrl-E",
    "itemize": "Ctrl-I"
   },
   "labels_anchors": false,
   "latex_user_defs": false,
   "report_style_numbering": false,
   "user_envs_cfg": false
  },
  "toc": {
   "base_numbering": 1,
   "nav_menu": {},
   "number_sections": true,
   "sideBar": true,
   "skip_h1_title": false,
   "title_cell": "Table of Contents",
   "title_sidebar": "Contents",
   "toc_cell": false,
   "toc_position": {},
   "toc_section_display": true,
   "toc_window_display": false
  },
  "varInspector": {
   "cols": {
    "lenName": 16,
    "lenType": 16,
    "lenVar": 40
   },
   "kernels_config": {
    "python": {
     "delete_cmd_postfix": "",
     "delete_cmd_prefix": "del ",
     "library": "var_list.py",
     "varRefreshCmd": "print(var_dic_list())"
    },
    "r": {
     "delete_cmd_postfix": ") ",
     "delete_cmd_prefix": "rm(",
     "library": "var_list.r",
     "varRefreshCmd": "cat(var_dic_list()) "
    }
   },
   "types_to_exclude": [
    "module",
    "function",
    "builtin_function_or_method",
    "instance",
    "_Feature"
   ],
   "window_display": false
  }
 },
 "nbformat": 4,
 "nbformat_minor": 5
}

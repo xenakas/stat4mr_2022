{
 "cells": [
  {
   "cell_type": "markdown",
   "id": "136cd1aa",
   "metadata": {},
   "source": [
    "# DAGs and Control Variables"
   ]
  },
  {
   "cell_type": "markdown",
   "id": "350545ff",
   "metadata": {},
   "source": [
    "When analyzing causal relationships, it is very hard to understand which variables to **condition the analysis on**, i.e. how to \"split\" the data so that we are **comparing apples to apples**. For example, if you want to understand the effect of having a tablet in class on studenta' performance, it makes sense to compare schools where students have similar socio-economic backgrounds. Otherwise, the risk is that only wealthier students can afford a tablet and, without controlling for it, we might attribute the effect to tablets instead of the socio-economic background.\n",
    "\n",
    "When the treatment of interest comes from a proper **randomized experiment**, we do not need to worry about conditioning on other variables. If tablets are distributed randomly across schools, and we have enough schools in the experiment, we do not have to worry about the socio-economic background of students. The only advantage of conditioning the analysis on some so-called \"control variable\" could be an increase in power. However, this is a different story.\n",
    "\n",
    "In this post, we are going to have a brief introduction to Directed Acyclic Graphs and how they can be useful to select variables to condition a causal analysis on. Not only DAGs provide visual intuition on which variables we need to *include* in the analysis, but also on which variables we should *not include*, and why."
   ]
  },
  {
   "cell_type": "markdown",
   "id": "0567fdbd",
   "metadata": {},
   "source": [
    "## Directed Acyclic Graphs"
   ]
  },
  {
   "cell_type": "markdown",
   "id": "60fc5191",
   "metadata": {},
   "source": [
    "### Definitions"
   ]
  },
  {
   "cell_type": "markdown",
   "id": "e7a4dc22",
   "metadata": {},
   "source": [
    "**Directed acyclic graphs** (**DAG**s) provide a visual representation of the data generating process. Random variables are represented with letters (e.g. $X$) and causal relationships are represented with arrows (e.g. $\\to$). For example, we interpret \n",
    "\n",
    "```mermaid\n",
    "flowchart LR\n",
    "classDef white fill:#FFFFFF,stroke:#000000,stroke-width:2px\n",
    "X((X)):::white --> Y((Y)):::white\n",
    "```\n",
    "\n",
    "as $X$ (possibly) causes $Y$. We call a **path** between two variables $X$ and $Y$ any connection, *independently of the direction of the arrows*. If all arrows point forward, we call it a **causal path**, otherwise we call it a **spurious path**.\n",
    "\n",
    "```mermaid\n",
    "flowchart LR\n",
    "classDef included fill:#DCDCDC,stroke:#000000,stroke-width:2px;\n",
    "classDef excluded fill:#ffffff,stroke:#000000,stroke-width:2px;\n",
    "\n",
    "X((X))\n",
    "Y((Y))\n",
    "Z1((Z1))\n",
    "Z2((Z2))\n",
    "Z3((Z3))\n",
    "\n",
    "X --> Z1\n",
    "Z1 --> Z2\n",
    "Z3 --> Z2\n",
    "Z3 --> Y\n",
    "\n",
    "class X,Y included;\n",
    "class Z1,Z2,Z3 excluded;\n",
    "```\n",
    "\n",
    "In the example above, we have a path between $X$ and $Y$ passing through the variables $Z_1$, $Z_2$, and $Z_3$. Since not all arrows point forward, the path is *spurious* and there is no causal relationship of $X$ on $Y$. In fact, variable $Z_2$ is caused by both $Z_1$ and $Z_3$ and therefore **blocks** the path. \n",
    "\n",
    "$Z_2$ is called a **collider**.\n",
    "\n",
    "The purpose of our analysis is to assess the **causal relationship** between two variables $X$ and $Y$. Directed acyclic graphs are useful because they provide us instructions on which other variables $Z$ we need to **condition** our analysis on. Conditioning the analysis on a variable means that we keep it fixed and we draw our conclusions *ceteris paribus*. For example, in a linear regression framework, inserting another regressor $Z$ means that we are computing the best linear approximation of the conditional expectation function of $Y$ given $X$, *conditional* on the observed values of $Z$."
   ]
  },
  {
   "cell_type": "markdown",
   "id": "87724c3f",
   "metadata": {},
   "source": [
    "### Causality"
   ]
  },
  {
   "cell_type": "markdown",
   "id": "3cabf7cd",
   "metadata": {},
   "source": [
    "In order to assess causality, we want to **close all spurious paths** between $X$ and $Y$. The **questions** now are: \n",
    "\n",
    "- When is a path **open**?\n",
    "    - If it does not contain *colliders*. Otherwise, it is *closed*.\n",
    "- How do you **close an open path**?\n",
    "    - You condition on *at least one* intermediate variable.\n",
    "- How do you **open a closed path**?\n",
    "    - You condition on *all* colliders along the path.\n",
    "\n",
    "Suppose we are again interested in the causal relationship of $X$ on $Y$. Let's consider the following graph\n",
    "\n",
    "```mermaid\n",
    "flowchart LR\n",
    "classDef included fill:#DCDCDC,stroke:#000000,stroke-width:2px;\n",
    "classDef excluded fill:#ffffff,stroke:#000000,stroke-width:2px;\n",
    "\n",
    "X((X))\n",
    "Y((Y))\n",
    "Z1((Z1))\n",
    "Z2((Z2))\n",
    "Z3((Z3))\n",
    "\n",
    "X --> Y\n",
    "X --> Z2\n",
    "Z2 --> Y\n",
    "Z1 --> X\n",
    "Z1 --> Y\n",
    "X --> Z3\n",
    "Y --> Z3\n",
    "\n",
    "class X,Y included;\n",
    "class Z1,Z2,Z3 excluded;\n",
    "```\n",
    "\n",
    "In this case, apart from the direct path, there are **three non-direct paths** between $X$ and $Y$ through the variables $Z_1$, $Z_2$, and $Z_3$. \n",
    "\n",
    "Let's consider the case in which we analyze the relationship between $X$ and $Y$, ignoring all other variables.\n",
    "\n",
    "1. The path through $Z_1$ is **open** but it is **spurious**\n",
    "2. The path through $Z_2$ is **open** and **causal**\n",
    "2. The path through $Z_3$ is **closed** since $Z_3$ is a *collider* and it is **spurious**\n",
    "\n",
    "Let's draw the same graph indicating in *grey* variables that we are conditioning on, with *dotted lines* closed paths, with *red lines* spurious open paths, and with *green lines* causal open paths.\n",
    "\n",
    "```mermaid\n",
    "flowchart LR\n",
    "classDef included fill:#DCDCDC,stroke:#000000,stroke-width:2px;\n",
    "classDef excluded fill:#ffffff,stroke:#000000,stroke-width:2px;\n",
    "\n",
    "X((X))\n",
    "Y((Y))\n",
    "Z1((Z1))\n",
    "Z2((Z2))\n",
    "Z3((Z3))\n",
    "\n",
    "X --> Y\n",
    "X --> Z2\n",
    "Z2 --> Y\n",
    "Z1 --> X\n",
    "Z1 --> Y\n",
    "X -.-> Z3\n",
    "Y -.-> Z3\n",
    "\n",
    "linkStyle 0,1,2 stroke:#00ff00,stroke-width:4px;\n",
    "linkStyle 3,4 stroke:#ff0000,stroke-width:4px;\n",
    "class X,Y included;\n",
    "class Z1,Z2,Z3 excluded;\n",
    "```\n",
    "\n",
    "In this case, to assess the **causal** relationship between $X$ and $Y$ we need to **close** the path that passes through $Z_1$. We can do that by conditioning the analysis on $Z_1$. \n",
    "\n",
    "```mermaid\n",
    "flowchart LR\n",
    "classDef included fill:#DCDCDC,stroke:#000000,stroke-width:2px;\n",
    "classDef excluded fill:#ffffff,stroke:#000000,stroke-width:2px;\n",
    "\n",
    "X((X))\n",
    "Y((Y))\n",
    "Z1((Z1))\n",
    "Z2((Z2))\n",
    "Z3((Z3))\n",
    "\n",
    "X --> Y\n",
    "X --> Z2\n",
    "Z2 --> Y\n",
    "Z1 -.-> X\n",
    "Z1 -.-> Y\n",
    "X -.-> Z3\n",
    "Y -.-> Z3\n",
    "\n",
    "linkStyle 0,1,2 stroke:#00ff00,stroke-width:4px;\n",
    "class X,Y,Z1 included;\n",
    "class Z2,Z3 excluded;\n",
    "```\n",
    "\n",
    "Now we are able to recover the causal relationship between $X$ and $Y$ by conditioning on $Z_1$.\n",
    "\n",
    "What would happen if we were also **conditioning on $Z_2$**? In this case, we would **close** the path passing through $Z_2$ leaving only the *direct* path between $X$ and $Y$ open. We would then recover only the **direct effect** of $X$ on $Y$ and not the *indirect* one.\n",
    "\n",
    "```mermaid\n",
    "flowchart LR\n",
    "classDef included fill:#DCDCDC,stroke:#000000,stroke-width:2px;\n",
    "classDef excluded fill:#ffffff,stroke:#000000,stroke-width:2px;\n",
    "\n",
    "X((X))\n",
    "Y((Y))\n",
    "Z1((Z1))\n",
    "Z2((Z2))\n",
    "Z3((Z3))\n",
    "\n",
    "X --> Y\n",
    "X -.-> Z2\n",
    "Z2 -.-> Y\n",
    "Z1 -.-> X\n",
    "Z1 -.-> Y\n",
    "X -.-> Z3\n",
    "Y -.-> Z3\n",
    "\n",
    "linkStyle 0 stroke:#00ff00,stroke-width:4px;\n",
    "class X,Y,Z1,Z2 included;\n",
    "class Z3 excluded;\n",
    "```\n",
    "\n",
    "What would happen if we were also **conditioning on $Z_3$**? In this case, we would **open** the path passing through $Z_3$ which is a **spurious** path. We would then **not** be able to recover the causal effect of $X$ on $Y$.\n",
    "\n",
    "```mermaid\n",
    "flowchart LR\n",
    "classDef included fill:#DCDCDC,stroke:#000000,stroke-width:2px;\n",
    "\n",
    "X((X))\n",
    "Y((Y))\n",
    "Z1((Z1))\n",
    "Z2((Z2))\n",
    "Z3((Z3))\n",
    "\n",
    "X --> Y\n",
    "X -.-> Z2\n",
    "Z2 -.-> Y\n",
    "Z1 -.-> X\n",
    "Z1 -.-> Y\n",
    "X --> Z3\n",
    "Y --> Z3\n",
    "\n",
    "linkStyle 0 stroke:#00ff00,stroke-width:4px;\n",
    "linkStyle 5,6 stroke:#ff0000,stroke-width:4px;\n",
    "class X,Y,Z1,Z2,Z3 included;\n",
    "```"
   ]
  },
  {
   "cell_type": "markdown",
   "id": "530b02b7",
   "metadata": {},
   "source": [
    "## Example: Class Size and Math Scores"
   ]
  },
  {
   "cell_type": "markdown",
   "id": "420524e2",
   "metadata": {},
   "source": [
    "Suppose you are interested in the **effect of class size on math scores**. Are bigger classes better or worse for students' performance? \n",
    "\n",
    "Assume that the data generating process can be represented with the following **DAG**.\n",
    "\n",
    "```mermaid\n",
    "flowchart TB\n",
    "classDef included fill:#DCDCDC,stroke:#000000,stroke-width:2px;\n",
    "classDef excluded fill:#ffffff,stroke:#000000,stroke-width:2px;\n",
    "classDef unobserved fill:#ffffff,stroke:#000000,stroke-width:2px,stroke-dasharray: 5 5;\n",
    "\n",
    "\n",
    "X((class size))\n",
    "Y((math score))\n",
    "Z1((class year))\n",
    "Z2((good school))\n",
    "Z3((math hours))\n",
    "Z4((hist score))\n",
    "U((ability))\n",
    "\n",
    "X --> Y\n",
    "Z1 --> X\n",
    "X --> Z4\n",
    "U --> Y\n",
    "U --> Z4\n",
    "Z2 --> X\n",
    "Z2 --> Y\n",
    "Z2 --> Z4\n",
    "Z3 --> Y\n",
    "\n",
    "class X,Y included;\n",
    "class Z1,Z2,Z3,Z4 excluded;\n",
    "class U unobserved;\n",
    "```\n",
    "\n",
    "The variables of interest are highlighted. Moreover, the dotted line around `ability` indicates that this is a variable that we do not observe in the data. \n",
    "\n",
    "We can now load the data and check what it looks like."
   ]
  },
  {
   "cell_type": "code",
   "execution_count": 1,
   "id": "99d16676",
   "metadata": {},
   "outputs": [],
   "source": [
    "%matplotlib inline\n",
    "%config InlineBackend.figure_format = 'retina'\n",
    "from src.utils import *"
   ]
  },
  {
   "cell_type": "code",
   "execution_count": 2,
   "id": "1c2a84d9",
   "metadata": {},
   "outputs": [
    {
     "data": {
      "text/html": [
       "<div>\n",
       "<style scoped>\n",
       "    .dataframe tbody tr th:only-of-type {\n",
       "        vertical-align: middle;\n",
       "    }\n",
       "\n",
       "    .dataframe tbody tr th {\n",
       "        vertical-align: top;\n",
       "    }\n",
       "\n",
       "    .dataframe thead th {\n",
       "        text-align: right;\n",
       "    }\n",
       "</style>\n",
       "<table border=\"1\" class=\"dataframe\">\n",
       "  <thead>\n",
       "    <tr style=\"text-align: right;\">\n",
       "      <th></th>\n",
       "      <th>math_hours</th>\n",
       "      <th>history_hours</th>\n",
       "      <th>good_school</th>\n",
       "      <th>class_year</th>\n",
       "      <th>class_size</th>\n",
       "      <th>math_score</th>\n",
       "      <th>hist_score</th>\n",
       "    </tr>\n",
       "  </thead>\n",
       "  <tbody>\n",
       "    <tr>\n",
       "      <th>0</th>\n",
       "      <td>3</td>\n",
       "      <td>3</td>\n",
       "      <td>1</td>\n",
       "      <td>3</td>\n",
       "      <td>15</td>\n",
       "      <td>13.009309</td>\n",
       "      <td>15.167024</td>\n",
       "    </tr>\n",
       "    <tr>\n",
       "      <th>1</th>\n",
       "      <td>2</td>\n",
       "      <td>3</td>\n",
       "      <td>1</td>\n",
       "      <td>3</td>\n",
       "      <td>19</td>\n",
       "      <td>13.047033</td>\n",
       "      <td>13.387456</td>\n",
       "    </tr>\n",
       "    <tr>\n",
       "      <th>2</th>\n",
       "      <td>2</td>\n",
       "      <td>4</td>\n",
       "      <td>0</td>\n",
       "      <td>1</td>\n",
       "      <td>25</td>\n",
       "      <td>8.330311</td>\n",
       "      <td>10.824070</td>\n",
       "    </tr>\n",
       "    <tr>\n",
       "      <th>3</th>\n",
       "      <td>3</td>\n",
       "      <td>4</td>\n",
       "      <td>1</td>\n",
       "      <td>3</td>\n",
       "      <td>22</td>\n",
       "      <td>11.322190</td>\n",
       "      <td>14.594394</td>\n",
       "    </tr>\n",
       "    <tr>\n",
       "      <th>4</th>\n",
       "      <td>3</td>\n",
       "      <td>3</td>\n",
       "      <td>1</td>\n",
       "      <td>4</td>\n",
       "      <td>15</td>\n",
       "      <td>12.338458</td>\n",
       "      <td>11.871626</td>\n",
       "    </tr>\n",
       "  </tbody>\n",
       "</table>\n",
       "</div>"
      ],
      "text/plain": [
       "   math_hours  history_hours  good_school  class_year  class_size  math_score  \\\n",
       "0           3              3            1           3          15   13.009309   \n",
       "1           2              3            1           3          19   13.047033   \n",
       "2           2              4            0           1          25    8.330311   \n",
       "3           3              4            1           3          22   11.322190   \n",
       "4           3              3            1           4          15   12.338458   \n",
       "\n",
       "   hist_score  \n",
       "0   15.167024  \n",
       "1   13.387456  \n",
       "2   10.824070  \n",
       "3   14.594394  \n",
       "4   11.871626  "
      ]
     },
     "execution_count": 2,
     "metadata": {},
     "output_type": "execute_result"
    }
   ],
   "source": [
    "from src.dgp import dgp_school\n",
    "\n",
    "df = dgp_school().generate_data()\n",
    "df.head()"
   ]
  },
  {
   "cell_type": "markdown",
   "id": "e18d6bab",
   "metadata": {},
   "source": [
    "What variables should we condition our regression on, in order to estimate the causal effect of `class size` on `math scores`? \n",
    "\n",
    "First of all, let's look at what happens if we do not condition our analysis on any variable and we just regress `math score` on `class size`."
   ]
  },
  {
   "cell_type": "code",
   "execution_count": 3,
   "id": "b043c522",
   "metadata": {},
   "outputs": [
    {
     "data": {
      "text/html": [
       "<table class=\"simpletable\">\n",
       "<tr>\n",
       "       <td></td>         <th>coef</th>     <th>std err</th>      <th>t</th>      <th>P>|t|</th>  <th>[0.025</th>    <th>0.975]</th>  \n",
       "</tr>\n",
       "<tr>\n",
       "  <th>Intercept</th>  <td>   12.0421</td> <td>    0.259</td> <td>   46.569</td> <td> 0.000</td> <td>   11.535</td> <td>   12.550</td>\n",
       "</tr>\n",
       "<tr>\n",
       "  <th>class_size</th> <td>   -0.0399</td> <td>    0.013</td> <td>   -3.025</td> <td> 0.003</td> <td>   -0.066</td> <td>   -0.014</td>\n",
       "</tr>\n",
       "</table>"
      ],
      "text/plain": [
       "<class 'statsmodels.iolib.table.SimpleTable'>"
      ]
     },
     "execution_count": 3,
     "metadata": {},
     "output_type": "execute_result"
    }
   ],
   "source": [
    "smf.ols('math_score ~ class_size', df).fit().summary().tables[1]"
   ]
  },
  {
   "cell_type": "markdown",
   "id": "68028a79",
   "metadata": {},
   "source": [
    "The effect of `class_size` is negative and statistically different from zero. \n",
    "\n",
    "But should we believe this estimated effect? Without controlling for anything, this is **DAG representation** of the effect we are capturing.\n",
    "\n",
    "```mermaid\n",
    "flowchart TB\n",
    "classDef included fill:#DCDCDC,stroke:#000000,stroke-width:2px;\n",
    "classDef excluded fill:#ffffff,stroke:#000000,stroke-width:2px;\n",
    "classDef unobserved fill:#ffffff,stroke:#000000,stroke-width:2px,stroke-dasharray: 5 5;\n",
    "\n",
    "\n",
    "X((class size))\n",
    "Y((math score))\n",
    "Z1((class year))\n",
    "Z2((good school))\n",
    "Z3((math hours))\n",
    "Z4((hist score))\n",
    "U((ability))\n",
    "\n",
    "X --> Y\n",
    "Z1 --> X\n",
    "X -.-> Z4\n",
    "U --> Y\n",
    "U -.-> Z4\n",
    "Z2 --> X\n",
    "Z2 --> Y\n",
    "Z2 --> Z4\n",
    "Z3 --> Y\n",
    "\n",
    "linkStyle 0 stroke:#00ff00,stroke-width:4px;\n",
    "linkStyle 5,6 stroke:#ff0000,stroke-width:4px;\n",
    "\n",
    "class X,Y included;\n",
    "class Z1,Z2,Z3,Z4 excluded;\n",
    "class U unobserved;\n",
    "```\n",
    "\n",
    "There is a **spurious** path passing through `good school` that **biases** our estimated coefficient. Intuitively, being enrolled in a better school improves the students' math scores and better schools might have smaller class sizes. We need to control for the quality of the school."
   ]
  },
  {
   "cell_type": "code",
   "execution_count": 4,
   "id": "82d69511",
   "metadata": {},
   "outputs": [
    {
     "data": {
      "text/html": [
       "<table class=\"simpletable\">\n",
       "<tr>\n",
       "       <td></td>          <th>coef</th>     <th>std err</th>      <th>t</th>      <th>P>|t|</th>  <th>[0.025</th>    <th>0.975]</th>  \n",
       "</tr>\n",
       "<tr>\n",
       "  <th>Intercept</th>   <td>    4.7449</td> <td>    0.247</td> <td>   19.176</td> <td> 0.000</td> <td>    4.259</td> <td>    5.230</td>\n",
       "</tr>\n",
       "<tr>\n",
       "  <th>class_size</th>  <td>    0.2095</td> <td>    0.010</td> <td>   20.020</td> <td> 0.000</td> <td>    0.189</td> <td>    0.230</td>\n",
       "</tr>\n",
       "<tr>\n",
       "  <th>good_school</th> <td>    5.0807</td> <td>    0.130</td> <td>   39.111</td> <td> 0.000</td> <td>    4.826</td> <td>    5.336</td>\n",
       "</tr>\n",
       "</table>"
      ],
      "text/plain": [
       "<class 'statsmodels.iolib.table.SimpleTable'>"
      ]
     },
     "execution_count": 4,
     "metadata": {},
     "output_type": "execute_result"
    }
   ],
   "source": [
    "smf.ols('math_score ~ class_size + good_school', df).fit().summary().tables[1]"
   ]
  },
  {
   "cell_type": "markdown",
   "id": "f7d4d0a7",
   "metadata": {},
   "source": [
    "Now the estimate of the effect of `class size` on `math score` is **unbiased**! Indeed, the true coefficient in the data generating process was $0.2$.\n",
    "\n",
    "```mermaid\n",
    "flowchart TB\n",
    "classDef included fill:#DCDCDC,stroke:#000000,stroke-width:2px;\n",
    "classDef excluded fill:#ffffff,stroke:#000000,stroke-width:2px;\n",
    "classDef unobserved fill:#ffffff,stroke:#000000,stroke-width:2px,stroke-dasharray: 5 5;\n",
    "\n",
    "\n",
    "X((class size))\n",
    "Y((math score))\n",
    "Z1((class year))\n",
    "Z2((good school))\n",
    "Z3((math hours))\n",
    "Z4((hist score))\n",
    "U((ability))\n",
    "\n",
    "X --> Y\n",
    "Z1 --> X\n",
    "X -.-> Z4\n",
    "U --> Y\n",
    "U -.-> Z4\n",
    "Z2 -.-> X\n",
    "Z2 -.-> Y\n",
    "Z2 --> Z4\n",
    "Z3 --> Y\n",
    "\n",
    "linkStyle 0 stroke:#00ff00,stroke-width:4px;\n",
    "\n",
    "class X,Y,Z2 included;\n",
    "class Z1,Z3,Z4 excluded;\n",
    "class U unobserved;\n",
    "```\n",
    "\n",
    "What would happen if we were to instead **control for all variables**?"
   ]
  },
  {
   "cell_type": "code",
   "execution_count": 5,
   "id": "ad0d83a9",
   "metadata": {},
   "outputs": [
    {
     "data": {
      "text/html": [
       "<table class=\"simpletable\">\n",
       "<tr>\n",
       "       <td></td>          <th>coef</th>     <th>std err</th>      <th>t</th>      <th>P>|t|</th>  <th>[0.025</th>    <th>0.975]</th>  \n",
       "</tr>\n",
       "<tr>\n",
       "  <th>Intercept</th>   <td>   -0.7847</td> <td>    0.310</td> <td>   -2.529</td> <td> 0.012</td> <td>   -1.394</td> <td>   -0.176</td>\n",
       "</tr>\n",
       "<tr>\n",
       "  <th>class_size</th>  <td>    0.1292</td> <td>    0.010</td> <td>   13.054</td> <td> 0.000</td> <td>    0.110</td> <td>    0.149</td>\n",
       "</tr>\n",
       "<tr>\n",
       "  <th>good_school</th> <td>    2.9815</td> <td>    0.170</td> <td>   17.533</td> <td> 0.000</td> <td>    2.648</td> <td>    3.315</td>\n",
       "</tr>\n",
       "<tr>\n",
       "  <th>math_hours</th>  <td>    1.0516</td> <td>    0.048</td> <td>   21.744</td> <td> 0.000</td> <td>    0.957</td> <td>    1.147</td>\n",
       "</tr>\n",
       "<tr>\n",
       "  <th>class_year</th>  <td>    0.0424</td> <td>    0.037</td> <td>    1.130</td> <td> 0.259</td> <td>   -0.031</td> <td>    0.116</td>\n",
       "</tr>\n",
       "<tr>\n",
       "  <th>hist_score</th>  <td>    0.4116</td> <td>    0.027</td> <td>   15.419</td> <td> 0.000</td> <td>    0.359</td> <td>    0.464</td>\n",
       "</tr>\n",
       "</table>"
      ],
      "text/plain": [
       "<class 'statsmodels.iolib.table.SimpleTable'>"
      ]
     },
     "execution_count": 5,
     "metadata": {},
     "output_type": "execute_result"
    }
   ],
   "source": [
    "smf.ols('math_score ~ class_size + good_school + math_hours + class_year + hist_score', df).fit().summary().tables[1]"
   ]
  },
  {
   "cell_type": "markdown",
   "id": "ea96c64e",
   "metadata": {},
   "source": [
    "The coefficient is again **biased**. Why? \n",
    "\n",
    "We have opened a new spurious path by controlling for `hist score`. In fact, `hist score` is a **collider** and controlling for it has opened a path through `hist score` and `ability` that was otherwise closed.\n",
    "\n",
    "```mermaid\n",
    "flowchart TB\n",
    "classDef included fill:#DCDCDC,stroke:#000000,stroke-width:2px;\n",
    "classDef excluded fill:#ffffff,stroke:#000000,stroke-width:2px;\n",
    "classDef unobserved fill:#ffffff,stroke:#000000,stroke-width:2px,stroke-dasharray: 5 5;\n",
    "\n",
    "\n",
    "X((class size))\n",
    "Y((math score))\n",
    "Z1((class year))\n",
    "Z2((good school))\n",
    "Z3((math hours))\n",
    "Z4((hist score))\n",
    "U((ability))\n",
    "\n",
    "X --> Y\n",
    "Z1 --> X\n",
    "X --> Z4\n",
    "U --> Y\n",
    "U --> Z4\n",
    "Z2 -.-> X\n",
    "Z2 -.-> Y\n",
    "Z2 --> Z4\n",
    "Z3 --> Y\n",
    "\n",
    "linkStyle 0 stroke:#00ff00,stroke-width:4px;\n",
    "linkStyle 2,3,4 stroke:#ff0000,stroke-width:4px;\n",
    "\n",
    "class X,Y,Z1,Z2,Z3,Z4 included;\n",
    "class U unobserved;\n",
    "```"
   ]
  },
  {
   "cell_type": "markdown",
   "id": "092e4bd4",
   "metadata": {},
   "source": [
    "The example was inspired by the following tweet.\n",
    "\n",
    "{{< tweet 1502793254592401409 >}}"
   ]
  },
  {
   "cell_type": "markdown",
   "id": "9ec10cd4",
   "metadata": {},
   "source": [
    "## Conclusion"
   ]
  },
  {
   "cell_type": "markdown",
   "id": "e5963727",
   "metadata": {},
   "source": [
    "In this post, we have seen how to use Directed Acyclic Graphs to select control variables in a causal analysis. DAGs are very helpful tools since they provide an intuitive graphical representation of causal relationships between random variables. Contrary to common intuition that \"the more information the better\", sometimes including extra variables might bias the analysis, preventing a causal interpretation of the results. In particular, we must pay attention not to include *colliders* that open *spurious* paths that would otherwise be closed."
   ]
  },
  {
   "cell_type": "markdown",
   "id": "0287d32c",
   "metadata": {},
   "source": [
    "## References"
   ]
  },
  {
   "cell_type": "markdown",
   "id": "0d9b5861",
   "metadata": {},
   "source": [
    "[1] C. Cinelli, A. Forney, J. Pearl, [A Crash Course in Good and Bad Controls](https://papers.ssrn.com/sol3/papers.cfm?abstract_id=3689437) (2018), working paper.\n",
    "\n",
    "[2] J. Pearl, [Causality](http://bayes.cs.ucla.edu/BOOK-2K/) (2009), Cambridge University Press.\n",
    "\n",
    "[3] S. Cunningham, Chapter 3 of [The Causal Inference Mixtape](https://mixtape.scunning.com/dag.html) (2021), Yale University Press."
   ]
  }
 ],
 "metadata": {
  "hide_input": false,
  "kernelspec": {
   "display_name": "Python 3 (ipykernel)",
   "language": "python",
   "name": "python3"
  },
  "language_info": {
   "codemirror_mode": {
    "name": "ipython",
    "version": 3
   },
   "file_extension": ".py",
   "mimetype": "text/x-python",
   "name": "python",
   "nbconvert_exporter": "python",
   "pygments_lexer": "ipython3",
   "version": "3.10.6"
  },
  "latex_envs": {
   "LaTeX_envs_menu_present": true,
   "autoclose": true,
   "autocomplete": true,
   "bibliofile": "biblio.bib",
   "cite_by": "apalike",
   "current_citInitial": 1,
   "eqLabelWithNumbers": true,
   "eqNumInitial": 1,
   "hotkeys": {
    "equation": "Ctrl-E",
    "itemize": "Ctrl-I"
   },
   "labels_anchors": false,
   "latex_user_defs": false,
   "report_style_numbering": false,
   "user_envs_cfg": false
  },
  "toc": {
   "base_numbering": 1,
   "nav_menu": {},
   "number_sections": false,
   "sideBar": true,
   "skip_h1_title": true,
   "title_cell": "Table of Contents",
   "title_sidebar": "Contents",
   "toc_cell": false,
   "toc_position": {},
   "toc_section_display": true,
   "toc_window_display": true
  },
  "varInspector": {
   "cols": {
    "lenName": 16,
    "lenType": 16,
    "lenVar": 40
   },
   "kernels_config": {
    "python": {
     "delete_cmd_postfix": "",
     "delete_cmd_prefix": "del ",
     "library": "var_list.py",
     "varRefreshCmd": "print(var_dic_list())"
    },
    "r": {
     "delete_cmd_postfix": ") ",
     "delete_cmd_prefix": "rm(",
     "library": "var_list.r",
     "varRefreshCmd": "cat(var_dic_list()) "
    }
   },
   "types_to_exclude": [
    "module",
    "function",
    "builtin_function_or_method",
    "instance",
    "_Feature"
   ],
   "window_display": false
  }
 },
 "nbformat": 4,
 "nbformat_minor": 5
}

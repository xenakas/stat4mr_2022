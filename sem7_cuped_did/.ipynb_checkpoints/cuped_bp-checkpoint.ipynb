{
 "cells": [
  {
   "cell_type": "markdown",
   "id": "6a88bbc6",
   "metadata": {},
   "source": [
    "# CUPED"
   ]
  },
  {
   "cell_type": "markdown",
   "id": "554212bc",
   "metadata": {},
   "source": [
    "Let's assume we are a firm that is testing an **ad campaign** and we are interested in understanding whether it increases revenue or not. We randomly split a set of users into a treatment and control group and we show the ad campaign to the treatment group. Differently from the standard A/B test setting, assume we observe users also before the test.\n",
    "\n",
    "We can now generate the simulated data, using the data generating process `dgp_cuped()` from [`src.dgp`](https://github.com/matteocourthoud/Blog-Posts/blob/main/notebooks/src/dgp.py). I also import some plotting functions and libraries from [`src.utils`](https://github.com/matteocourthoud/Blog-Posts/blob/main/notebooks/src/utils.py)."
   ]
  },
  {
   "cell_type": "code",
   "execution_count": null,
   "id": "78359868",
   "metadata": {
    "ExecuteTime": {
     "end_time": "2022-11-07T09:34:15.647113Z",
     "start_time": "2022-11-07T09:34:15.045640Z"
    }
   },
   "outputs": [],
   "source": [
    "%matplotlib inline\n",
    "%config InlineBackend.figure_format = 'retina'"
   ]
  },
  {
   "cell_type": "code",
   "execution_count": null,
   "id": "9c6c717e",
   "metadata": {
    "ExecuteTime": {
     "end_time": "2022-11-07T09:34:18.718558Z",
     "start_time": "2022-11-07T09:34:17.416040Z"
    }
   },
   "outputs": [],
   "source": [
    "from src.utils import *\n",
    "from src.dgp import dgp_cuped"
   ]
  },
  {
   "cell_type": "code",
   "execution_count": null,
   "id": "23e36d5e",
   "metadata": {
    "ExecuteTime": {
     "end_time": "2022-11-07T09:34:19.615333Z",
     "start_time": "2022-11-07T09:34:19.589237Z"
    },
    "scrolled": false
   },
   "outputs": [],
   "source": [
    "df = dgp_cuped().generate_data()\n",
    "df.head()"
   ]
  },
  {
   "cell_type": "markdown",
   "id": "a2b39301",
   "metadata": {},
   "source": [
    "We have informations on 1000 individuals indexed by `i` for whom we observe the revenue generated pre and post treatment, `revenue0` and `revenue1` respectively, and whether they have been exposed to the `ad_campaign`."
   ]
  },
  {
   "cell_type": "markdown",
   "id": "95fdd00e",
   "metadata": {},
   "source": [
    "### Difference in Means"
   ]
  },
  {
   "cell_type": "markdown",
   "id": "b0222035",
   "metadata": {},
   "source": [
    "In randomized experiments or A/B tests, **randomization** allows us to estimate the average treatment effect using a simple difference in means. We can just compare the average outcome post-treatment $Y_1$ (`revenue`) across control and treated units and randomization guarantees that this difference is due to the treatment alone, in expectation.\n",
    "\n",
    "$$\n",
    "\\widehat {ATE}^{simple} = \\bar Y_{t=1, d=1} - \\bar Y_{t=1, d=0}\n",
    "$$\n",
    "\n",
    "Where the bar indicates the average over individuals. In our case, we compute the average revenue post ad campaign in the treatment group, minus the average revenue post ad campaign in the control group."
   ]
  },
  {
   "cell_type": "code",
   "execution_count": null,
   "id": "1bd449d0",
   "metadata": {
    "ExecuteTime": {
     "end_time": "2022-11-07T09:34:25.180194Z",
     "start_time": "2022-11-07T09:34:25.172313Z"
    }
   },
   "outputs": [],
   "source": [
    "np.mean(df.loc[df.ad_campaign==True, 'revenue1']) - np.mean(df.loc[df.ad_campaign==False, 'revenue1'])"
   ]
  },
  {
   "cell_type": "markdown",
   "id": "1b2ce127",
   "metadata": {},
   "source": [
    "The estimated treatment effect is 1.79, very close to the **true value** of 2. We can obtain the same estimate by regressing the post-treatment outcome `revenue1` on the treatment indicator `ad_campaign`.\n",
    "\n",
    "$$\n",
    "Y_{i, t=1} = \\alpha + \\beta D_i + \\varepsilon_i\n",
    "$$\n",
    "\n",
    "Where $\\beta$ is the coefficient of interest."
   ]
  },
  {
   "cell_type": "code",
   "execution_count": null,
   "id": "745ff819",
   "metadata": {
    "ExecuteTime": {
     "end_time": "2022-11-07T09:34:27.883820Z",
     "start_time": "2022-11-07T09:34:27.859467Z"
    }
   },
   "outputs": [],
   "source": [
    "smf.ols('revenue1 ~ ad_campaign', data=df).fit().summary().tables[1]"
   ]
  },
  {
   "cell_type": "markdown",
   "id": "95db480a",
   "metadata": {},
   "source": [
    "This estimator is **unbiased**, which means it delivers the correct estimate, on average. However, it can still be improved: we could **decrease its variance**. Decreasing the variance of an estimator is extremely important since it allows us to \n",
    "\n",
    "- **detect smaller effects**\n",
    "- detect the same effect, but with a **smaller sample size**\n",
    "\n",
    "In general, an estimator with a smaller variance allows us to run tests with higher [**power**](https://en.wikipedia.org/wiki/Power_of_a_test), i.e. ability to detect smaller effects.\n",
    "\n",
    "Can we improve the power of our AB test? Yes, with CUPED (among other methods)."
   ]
  },
  {
   "cell_type": "markdown",
   "id": "551c65f1",
   "metadata": {},
   "source": [
    "## CUPED"
   ]
  },
  {
   "cell_type": "markdown",
   "id": "b6dc8fec",
   "metadata": {},
   "source": [
    "The **idea** of CUPED is the following. Suppose you are running an AB test and $Y$ is the outcome of interest (`revenue` in our example) and the binary variable $D$ indicates whether a single individual has been treated or not (`ad_campaign` in our example).\n",
    "\n",
    "Suppose you have access to another random variable $X$ which is **not affected** by the treatment and has known expectation $\\mathbb E[X]$. Then define\n",
    "\n",
    "$$\n",
    "\\hat Y^{cuped}_{1} = \\bar Y_1 - \\theta \\bar X + \\theta \\mathbb E [X]\n",
    "$$\n",
    "\n",
    "where $\\theta$ is a scalar. This estimator is an **unbiased** estimator for $\\mathbb E[Y]$ since in expectation the two last terms cancel out. However, the variance of $\\hat Y^{cuped}_{1}$ is \n",
    "\n",
    "$$\n",
    "\\begin{aligned}\n",
    "\\text{Var} \\left( \\hat Y^{cuped}_{1} \\right) &= \\text{Var} \\left( \\bar Y_1 - \\theta \\bar X + \\theta \\mathbb E [X] \\right) = \\newline\n",
    "&= \\text{Var} \\left( Y_1 - \\theta X \\right) / n = \\newline\n",
    "&= \\Big( \\text{Var} (Y_1) + \\theta^2 \\text{Var} (X) - 2 \\theta \\text{Cov} (X,Y) \\Big) / n\n",
    "\\end{aligned}\n",
    "$$\n",
    "\n",
    "Note that the variance of $\\hat Y^{cuped}_{1}$ is minimized for \n",
    "\n",
    "$$\n",
    "\\theta^* = \\frac{\\text{Cov} (X,Y)}{\\text{Var} (X)} \n",
    "$$\n",
    "\n",
    "Which is the **OLS** estimator of a linear regression of $Y$ on $X$. Substituting $\\theta^*$ into the formula of the variance of $\\hat Y^{cuped}_{1}$ we obtain\n",
    "\n",
    "$$\n",
    "\\text{Var} \\left( \\hat Y^{cuped}_{1} \\right) = \\text{Var} (\\bar Y) (1 - \\rho^2)\n",
    "$$\n",
    "\n",
    "where $\\rho$ is the **correlation** between $Y$ and $X$. Therefore, the higher the correlation between $Y$ and $X$, the higher the variance reduction of CUPED.\n",
    "\n",
    "We can then **estimate the average treatment effect**as the average difference in the transformed outcome between the control and treatment group.\n",
    "\n",
    "$$\n",
    "\\begin{aligned}\n",
    "\\widehat {ATE}^{cuped} &= \\hat Y^{cuped}_{1} (D=1) - \\hat Y^{cuped}_{1}(D=0) = \\newline\n",
    "&= \\big( \\bar Y_1 - \\theta \\bar X + \\theta \\mathbb E [X] \\ \\big| \\ D = 1 \\big) - \\big( \\bar Y_1 - \\theta \\bar X + \\theta \\mathbb E [X] \\ \\big| \\ D = 0 \\big) = \\newline\n",
    "&= \\big( \\bar Y_1 - \\theta \\bar X \\ \\big| \\ D = 1 \\big) - \\big( \\bar Y_1 - \\theta \\bar X \\ \\big| \\ D = 0 \\big)\n",
    "\\end{aligned}\n",
    "$$\n",
    "\n",
    "Note that $\\mathbb E[X]$ cancels out when taking the difference. Therefore, it is sufficient to compute \n",
    "\n",
    "$$\n",
    "\\hat Y_{cuped,1}' = \\bar Y_1 - \\theta \\bar X\n",
    "$$\n",
    "\n",
    "This is not an unbiased estimator of $\\mathbb E[Y]$ but still delivers an unbiased estimator of the average treatment effect."
   ]
  },
  {
   "cell_type": "markdown",
   "id": "d8f20ef6",
   "metadata": {},
   "source": [
    "### Optimal X"
   ]
  },
  {
   "cell_type": "markdown",
   "id": "bf807d81",
   "metadata": {},
   "source": [
    "What is the **optimal choice** for the control variable $X$?\n",
    "\n",
    "We know that $X$ should have the following **properties**:\n",
    "\n",
    "- not affected by the treatment\n",
    "- as correlated with $Y_1$ as possible\n",
    "\n",
    "The authors of the paper suggest using the **pre-treatment outcome** $Y_{0}$ since it gives the most reduction in variance in practice. \n",
    "\n",
    "Therefore, **in practice**, we can compute the CUPED estimate of the average treatment effect as follows:\n",
    "\n",
    "1. Regress $Y_1$ on $Y_0$ and estimate $\\hat \\theta$\n",
    "2. Compute $\\hat Y^{cuped}_{1} = \\bar Y_1 - \\hat \\theta \\bar Y_0$\n",
    "3. Compute the difference of $\\hat Y^{cuped}_{1}$ between treatment and control group\n",
    "\n",
    "Equivalently, we can compute $\\hat Y^{cuped}_{1}$ at the individual level and then regress it on the treatment dummy variable $D$."
   ]
  },
  {
   "cell_type": "markdown",
   "id": "ba56a267",
   "metadata": {},
   "source": [
    "### Back To The Data"
   ]
  },
  {
   "cell_type": "markdown",
   "id": "1615e5a3",
   "metadata": {},
   "source": [
    "Let's compute the CUPED estimate for the treatment effect, one step at the time. First, let's estimate $\\theta$."
   ]
  },
  {
   "cell_type": "code",
   "execution_count": null,
   "id": "b8aa96cd",
   "metadata": {
    "ExecuteTime": {
     "end_time": "2022-11-07T09:34:42.207100Z",
     "start_time": "2022-11-07T09:34:42.179323Z"
    }
   },
   "outputs": [],
   "source": [
    "theta = smf.ols('revenue1 ~ revenue0', data=df).fit().params[1]\n",
    "theta"
   ]
  },
  {
   "cell_type": "markdown",
   "id": "53e9667a",
   "metadata": {},
   "source": [
    "Now we can compute the transformed outcome $\\hat Y^{cuped}_{1}$."
   ]
  },
  {
   "cell_type": "code",
   "execution_count": null,
   "id": "5c0c7949",
   "metadata": {
    "ExecuteTime": {
     "end_time": "2022-11-07T09:34:44.355887Z",
     "start_time": "2022-11-07T09:34:44.342858Z"
    }
   },
   "outputs": [],
   "source": [
    "df['revenue1_cuped'] = df['revenue1'] - theta * (df['revenue0'] - np.mean(df['revenue0']))"
   ]
  },
  {
   "cell_type": "markdown",
   "id": "b69b1fc8",
   "metadata": {},
   "source": [
    "Lastly, we estimate the treatment effect as a difference in means, with the transformed outcome $\\hat Y^{cuped}_{1}$."
   ]
  },
  {
   "cell_type": "code",
   "execution_count": null,
   "id": "6b897e2a",
   "metadata": {
    "ExecuteTime": {
     "end_time": "2022-11-07T09:34:46.500509Z",
     "start_time": "2022-11-07T09:34:46.490084Z"
    }
   },
   "outputs": [],
   "source": [
    "smf.ols('revenue1_cuped ~ ad_campaign', data=df).fit().summary().tables[1]"
   ]
  },
  {
   "cell_type": "markdown",
   "id": "26cdaa98",
   "metadata": {},
   "source": [
    "The standard error is 33% smaller!"
   ]
  },
  {
   "cell_type": "markdown",
   "id": "82d58308",
   "metadata": {},
   "source": [
    "### Equivalent Formulation"
   ]
  },
  {
   "cell_type": "markdown",
   "id": "a28f4be1",
   "metadata": {},
   "source": [
    "An alternative but algebraically **equivalent** way of obtaining the CUPED estimate is the folowing\n",
    "\n",
    "1. Regress $Y_1$ on $Y_0$ and compute the residuals $\\tilde Y_1$\n",
    "2. Compute $\\hat Y^{cuped}_{1} = \\tilde Y_1 + \\bar Y_1$\n",
    "3. Compute the difference of $\\hat Y^{cuped}_{1}$ between treatment and control group\n",
    "\n",
    "Step (3) is the same as before but (1) and (2) are different. This procedure is called **partialling out** and the algebraic equivalence is guaranteed by the [Frisch-Waugh-Lowell Theorem](https://towardsdatascience.com/59f801eb3299).\n",
    "\n",
    "Let's check if we indeed obtain the same result."
   ]
  },
  {
   "cell_type": "code",
   "execution_count": null,
   "id": "8ebeabf9",
   "metadata": {
    "ExecuteTime": {
     "end_time": "2022-11-07T09:34:51.351896Z",
     "start_time": "2022-11-07T09:34:51.331409Z"
    }
   },
   "outputs": [],
   "source": [
    "df['revenue1_tilde'] = smf.ols('revenue1 ~ revenue0', data=df).fit().resid + np.mean(df['revenue1'])"
   ]
  },
  {
   "cell_type": "code",
   "execution_count": null,
   "id": "7df389f8",
   "metadata": {
    "ExecuteTime": {
     "end_time": "2022-11-07T09:34:53.096063Z",
     "start_time": "2022-11-07T09:34:53.077255Z"
    }
   },
   "outputs": [],
   "source": [
    "smf.ols('revenue1_tilde ~ ad_campaign', data=df).fit().summary().tables[1]"
   ]
  },
  {
   "cell_type": "markdown",
   "id": "0c771a6f",
   "metadata": {},
   "source": [
    "Yes! The regression table is exactly identical."
   ]
  },
  {
   "cell_type": "markdown",
   "id": "e556d2bd",
   "metadata": {},
   "source": [
    "## CUPED vs Other"
   ]
  },
  {
   "cell_type": "markdown",
   "id": "628ca203",
   "metadata": {},
   "source": [
    "CUPED seems to be a very powerful procedure but it is remindful of at least a couple of other methods.\n",
    "\n",
    "1. Autoregression or regression with control variables\n",
    "2. [Difference-in-Differences](https://diff.healthpolicydatascience.org/)\n",
    "\n",
    "Are these methods the same or is there a difference? Let's check."
   ]
  },
  {
   "cell_type": "markdown",
   "id": "8ffe477e",
   "metadata": {},
   "source": [
    "### Autoregression"
   ]
  },
  {
   "cell_type": "markdown",
   "id": "b195377e",
   "metadata": {},
   "source": [
    "The **first question** that came to my mind when I first saw CUPED was \"*is CUPED just the simple difference with an additional control variable?*\". Or equivalently, is CUPED equivalent to running the following regression\n",
    "\n",
    "$$\n",
    "Y_{i, t=1} = \\alpha + \\beta D_i + \\gamma Y_{i, t=0} + \\varepsilon_i\n",
    "$$\n",
    "\n",
    "and estimating $\\gamma$ via least squares?"
   ]
  },
  {
   "cell_type": "code",
   "execution_count": null,
   "id": "203e92a7",
   "metadata": {
    "ExecuteTime": {
     "end_time": "2022-11-07T09:34:56.553217Z",
     "start_time": "2022-11-07T09:34:56.519096Z"
    }
   },
   "outputs": [],
   "source": [
    "smf.ols('revenue1 ~ revenue0 + ad_campaign', data=df).fit().summary().tables[1]"
   ]
  },
  {
   "cell_type": "markdown",
   "id": "c6ccff4f",
   "metadata": {},
   "source": [
    "The estimated coefficient is very similar to the one we obtained with CUPED and also the standard error is very close. However, they are not exactly the same. \n",
    "\n",
    "If you are familiar with the [Frisch-Waugh-Lowell Theorem](https://towardsdatascience.com/59f801eb3299), you might wonder why the two procedures are **not equivalent**. The reason is that with CUPED we are partialling out only $Y$, while the FWL theorem holds when we are partialling out either X or both X and Y."
   ]
  },
  {
   "cell_type": "markdown",
   "id": "dc818747",
   "metadata": {},
   "source": [
    "### Diff-in-Diffs"
   ]
  },
  {
   "cell_type": "markdown",
   "id": "4823fb22",
   "metadata": {},
   "source": [
    "The **second question** that came to my mind was \"i*s CUPED just difference-in-differences?*\". [Difference-in-Differences](https://diff.healthpolicydatascience.org/) (or diff-in-diffs, or DiD) is an estimator that computes the treatment effect as a **double-difference** instead of a single one: pre-post and treatment-control instead of just treatment-control. \n",
    "\n",
    "$$\n",
    "\\widehat {ATE}^{DiD} = \\big( \\bar Y_{t=1, d=1} - \\bar Y_{t=1, d=0} \\big) - \\big( \\bar Y_{t=0, d=1} - \\bar Y_{t=0, d=0} \\big)\n",
    "$$\n",
    "\n",
    "This method was initially introduced in the 19th century to estimate the causes of a Cholera epidemic in London. The main advantage of diff-in-diff is that it allows to estimate the average treatment effect also when randomization is not perfect and the treatment and control group are not comparable. The **key assumption** that is needed is that these difference between the treatment and control group is constant over time. By taking a double difference, we difference it out.\n",
    "\n",
    "Let's check how diff-in-diff works empirically. The most common way to compute the diff-in-diff estiamtor is to first reshape the data in a **long format** or **panel format** (one observation is an individual $i$ at time period $t$) and then to regress the outcome $Y$ on the full interaction between the post-treatment dummy $T$ and the treatment dummy $D$.\n",
    "\n",
    "$$\n",
    "Y_{i,t} = \\alpha + \\beta D_i + \\gamma \\mathbb I (t=1) + \\delta D_i * \\mathbb I (t=1) + \\varepsilon_{i,t}\n",
    "$$\n",
    "\n",
    "The estimator of the average treatment effect is the coefficient of the interaction coefficient, $\\delta$."
   ]
  },
  {
   "cell_type": "code",
   "execution_count": null,
   "id": "961b582d",
   "metadata": {
    "ExecuteTime": {
     "end_time": "2022-11-07T09:35:07.630090Z",
     "start_time": "2022-11-07T09:35:07.602212Z"
    }
   },
   "outputs": [],
   "source": [
    "df_long = pd.wide_to_long(df, stubnames='revenue', i='i', j='t').reset_index()\n",
    "df_long.head()"
   ]
  },
  {
   "cell_type": "markdown",
   "id": "d544b224",
   "metadata": {},
   "source": [
    "The long dataset is now indexed by individuals $i$ and time $t$. We can now run the diff-in-diffs regression."
   ]
  },
  {
   "cell_type": "code",
   "execution_count": null,
   "id": "32b19aba",
   "metadata": {
    "ExecuteTime": {
     "end_time": "2022-11-07T09:35:10.500542Z",
     "start_time": "2022-11-07T09:35:10.488974Z"
    }
   },
   "outputs": [],
   "source": [
    "smf.ols('revenue ~ t * ad_campaign', data=df_long).fit().summary().tables[1]"
   ]
  },
  {
   "cell_type": "markdown",
   "id": "0402d74a",
   "metadata": {},
   "source": [
    "The estimated coefficient is close to the true value, 2, but the standard errors are bigger than the ones obtained with all other methods (0.35 >> 0.2). What did we miss? We didn't **cluster the standard errors**! \n",
    "\n",
    "I won't go in detail here on what standard error clustering means, but the intuition is the following. The `statsmodels` package by default computes the standard errors assuming that outcomes are **independent** across observations. This assumption is unlikely to be true in this setting where we observe individuals over time and we are trying to exploit this information. Clustering allows for **correlation** of the outcome variable within clusters. In our case, it makes sense (even without knowing the data generating process) to cluster the standard errors at the individual levels, allowing the outcome to be correlated over time for an individual $i$."
   ]
  },
  {
   "cell_type": "code",
   "execution_count": null,
   "id": "a27817a5",
   "metadata": {
    "ExecuteTime": {
     "end_time": "2022-11-07T09:35:13.742937Z",
     "start_time": "2022-11-07T09:35:13.728192Z"
    }
   },
   "outputs": [],
   "source": [
    "smf.ols('revenue ~ t * ad_campaign', data=df_long)\\\n",
    "    .fit(cov_type='cluster', cov_kwds={'groups': df_long['i']})\\\n",
    "    .summary().tables[1]"
   ]
  },
  {
   "cell_type": "markdown",
   "id": "6096ddaa",
   "metadata": {},
   "source": [
    "Clustering standard errors at the individual level we obtain standard errors that are comparable to the previous estimates ($\\sim 0.2$).\n",
    "\n",
    "Note that diff-in-diffs is **equivalent to CUPED** when we assume the CUPED coefficient $\\theta=1$."
   ]
  },
  {
   "cell_type": "code",
   "execution_count": null,
   "id": "2428aefa",
   "metadata": {
    "ExecuteTime": {
     "end_time": "2022-11-07T09:35:16.251935Z",
     "start_time": "2022-11-07T09:35:16.234936Z"
    }
   },
   "outputs": [],
   "source": [
    "df['revenue1_cuped2'] = df['revenue1'] - 1 * (df['revenue0'] - np.mean(df['revenue0']))\n",
    "smf.ols('revenue1_cuped2 ~ ad_campaign', data=df).fit().summary().tables[1]"
   ]
  },
  {
   "cell_type": "markdown",
   "id": "964181fd",
   "metadata": {},
   "source": [
    "Indeed, we obtain the same exact coefficient and almost identical standard errors!"
   ]
  },
  {
   "cell_type": "markdown",
   "id": "44c4a3f3",
   "metadata": {},
   "source": [
    "### Comparison"
   ]
  },
  {
   "cell_type": "markdown",
   "id": "24209912",
   "metadata": {},
   "source": [
    "Which method is better? From what we have seen so far, all methods seem to deliver an accurate estimate, but the simple difference has a larger standard deviation.\n",
    "\n",
    "Let's now compare all the methods we have seen so far via **simulation**. We simulate the data generating process `dgp_cuped()` 1000 times and we save the estimated coefficient of the following methods:\n",
    "\n",
    "1. Simple difference\n",
    "2. Autoregression\n",
    "3. Diff-in-diffs\n",
    "4. CUPED"
   ]
  },
  {
   "cell_type": "code",
   "execution_count": null,
   "id": "d940d367",
   "metadata": {
    "ExecuteTime": {
     "end_time": "2022-11-07T09:35:20.685665Z",
     "start_time": "2022-11-07T09:35:20.673776Z"
    }
   },
   "outputs": [],
   "source": [
    "def simulate(dgp, K=300, x='revenue0'):\n",
    "    \n",
    "    # Initialize coefficients\n",
    "    results = pd.DataFrame(columns=['k', 'Estimator', 'Estimate'])\n",
    "    \n",
    "    # Compute coefficients\n",
    "    for k in range(K):\n",
    "        temp = pd.DataFrame({'k': [k] * 4, \n",
    "                             'Estimator': ['1. Diff ', '2. Areg ', '3. DiD  ', '4. CUPED'], \n",
    "                             'Estimate': [0] * 4})\n",
    "        \n",
    "        # Draw data\n",
    "        df = dgp.generate_data(seed=k)\n",
    "\n",
    "        # Single diff\n",
    "        temp['Estimate'][0] = smf.ols('revenue1 ~ ad_campaign', data=df).fit().params[1]\n",
    "        \n",
    "        # Autoregression\n",
    "        temp['Estimate'][1] = smf.ols(f'revenue1 ~ ad_campaign + {x}', data=df).fit().params[1]\n",
    "        \n",
    "        # Double diff\n",
    "        df_long = pd.wide_to_long(df.dropna(), stubnames='revenue', i='i', j='t').reset_index()\n",
    "        temp['Estimate'][2] = smf.ols('revenue ~ ad_campaign * t', data=df_long)\\\n",
    "            .fit(cov_type='cluster', cov_kwds={'groups': df_long['i']}).params[3]\n",
    "        \n",
    "        # Cuped\n",
    "        df['revenue1_tilde'] = smf.ols(f'revenue1 ~ {x}', data=df).fit().resid + np.mean(df['revenue1'])\n",
    "        temp['Estimate'][3] = smf.ols('revenue1_tilde ~ ad_campaign', data=df).fit().params[1]\n",
    "                \n",
    "        # Combine estimates\n",
    "        results = pd.concat((results, temp))\n",
    "    \n",
    "    return results.reset_index(drop=True)"
   ]
  },
  {
   "cell_type": "code",
   "execution_count": null,
   "id": "145c6092",
   "metadata": {
    "ExecuteTime": {
     "end_time": "2022-11-07T09:35:36.412538Z",
     "start_time": "2022-11-07T09:35:23.659580Z"
    }
   },
   "outputs": [],
   "source": [
    "results = simulate(dgp=dgp_cuped())"
   ]
  },
  {
   "cell_type": "markdown",
   "id": "0db4577b",
   "metadata": {},
   "source": [
    "Let's plot the distribution of the estimated parameters."
   ]
  },
  {
   "cell_type": "code",
   "execution_count": null,
   "id": "b181de02",
   "metadata": {
    "ExecuteTime": {
     "end_time": "2022-11-07T09:35:36.729301Z",
     "start_time": "2022-11-07T09:35:36.440497Z"
    }
   },
   "outputs": [],
   "source": [
    "sns.kdeplot(data=results, x=\"Estimate\", hue=\"Estimator\");\n",
    "plt.axvline(x=2, c='k', ls='--');\n",
    "plt.title('Simulated Distributions');"
   ]
  },
  {
   "cell_type": "markdown",
   "id": "f9d992b9",
   "metadata": {},
   "source": [
    "We can also tabulate the simulated mean and standard deviation of each estimator."
   ]
  },
  {
   "cell_type": "code",
   "execution_count": null,
   "id": "6d81e32b",
   "metadata": {
    "ExecuteTime": {
     "end_time": "2022-11-07T09:35:36.774260Z",
     "start_time": "2022-11-07T09:35:36.760319Z"
    },
    "scrolled": true
   },
   "outputs": [],
   "source": [
    "results.groupby('Estimator').agg(mean=(\"Estimate\", \"mean\"), std=(\"Estimate\", \"std\"))"
   ]
  },
  {
   "cell_type": "markdown",
   "id": "fa7c3b77",
   "metadata": {},
   "source": [
    "All estimators seem **unbiased**: the average values are all close to the true value of 2. Moreover, all estimators have a very similar standard deviation, apart from the single-difference estimator!"
   ]
  },
  {
   "cell_type": "markdown",
   "id": "2a79ee22",
   "metadata": {},
   "source": [
    "### Always Identical?"
   ]
  },
  {
   "cell_type": "markdown",
   "id": "9b29ca97",
   "metadata": {},
   "source": [
    "Are the estimators always identical, or is there some difference among them? \n",
    "\n",
    "We could check many different departures from the original data generating process. For simplicity, I will consider only one here: **imperfect randomization**. Other tweaks of the data generating process that I considered are:\n",
    "\n",
    "- pre-treatment missing values\n",
    "- additional covariates / control variables\n",
    "- multiple pre-treatment periods\n",
    "- heterogeneous treatment effects\n",
    "\n",
    "and combinations of them. However, I found imperfect randomization to be the most informative example.\n",
    "\n",
    "Suppose now that **randomization was not perfect** and two groups are not identical. In particular, if the data generating process is\n",
    "\n",
    "$$\n",
    "Y_{i,t} = \\alpha + \\beta D_i + \\gamma \\mathbb I (t=1) + \\delta D_i * \\mathbb I (t=1) + u_i + \\varepsilon_{i,t}\n",
    "$$\n",
    "\n",
    "assume that $\\beta \\neq 0$."
   ]
  },
  {
   "cell_type": "code",
   "execution_count": null,
   "id": "10ccae8f",
   "metadata": {
    "ExecuteTime": {
     "end_time": "2022-11-07T09:36:01.594498Z",
     "start_time": "2022-11-07T09:35:48.911782Z"
    }
   },
   "outputs": [],
   "source": [
    "results_beta1 = simulate(dgp=dgp_cuped(beta=1))"
   ]
  },
  {
   "cell_type": "markdown",
   "id": "8624dbaa",
   "metadata": {},
   "source": [
    "Let's plot the distribution of the estimated parameters."
   ]
  },
  {
   "cell_type": "code",
   "execution_count": null,
   "id": "7f7d6cd6",
   "metadata": {
    "ExecuteTime": {
     "end_time": "2022-11-07T11:29:02.599446Z",
     "start_time": "2022-11-07T11:29:02.218265Z"
    }
   },
   "outputs": [],
   "source": [
    "sns.kdeplot(data=results_beta1, x=\"Estimate\", hue=\"Estimator\");\n",
    "plt.axvline(x=2, c='k', ls='--');\n",
    "plt.title('Simulated Distributions');"
   ]
  },
  {
   "cell_type": "code",
   "execution_count": null,
   "id": "5c2a4e54",
   "metadata": {
    "ExecuteTime": {
     "end_time": "2022-11-07T09:36:01.848895Z",
     "start_time": "2022-11-07T09:36:01.837545Z"
    },
    "scrolled": true
   },
   "outputs": [],
   "source": [
    "results_beta1.groupby('Estimator').agg(mean=(\"Estimate\", \"mean\"), std=(\"Estimate\", \"std\"))"
   ]
  },
  {
   "cell_type": "markdown",
   "id": "b751cf7d",
   "metadata": {},
   "source": [
    "With imperfect treatment assignment, both difference-in-differences and autoregression are unbiased for the true treatment effect, however diff-in-diffs is more efficient. Both CUPED and simple difference are **biased** instead. Why?\n",
    "\n",
    "Diff-in-diffs explicily controls for **systematic differences** between treatment and control group that are **constant over time**. This is exactly what this estimator was built for. Autoregression performs some sort of matching on the additional covariate, $Y_{t=0}$, effectively controlling for these systematic differences as well, but less efficiently (if you want to know more, I wrote related posts on control variables [here](https://towardsdatascience.com/b63dc69e3d8c) and [here](https://towardsdatascience.com/58b63d25d2ef)). CUPED controls for persistent heterogeneity at the individual level, but not at the treatment assignment level. Lastly, the simple difference estimator does not control for anything."
   ]
  },
  {
   "cell_type": "markdown",
   "id": "fe94c6a1",
   "metadata": {},
   "source": [
    "The key idea is that, by exploiting pre-treatment data, CUPED can **achieve a lower variance** by controlling for individual-level variation that is persistent over time. \n",
    "\n"
   ]
  },
  {
   "cell_type": "markdown",
   "id": "c9e271b8",
   "metadata": {},
   "source": [
    "You can find the original Jupyter Notebook here:\n",
    "\n",
    "https://github.com/matteocourthoud/Blog-Posts/blob/main/notebooks/cuped.ipynb"
   ]
  }
 ],
 "metadata": {
  "@webio": {
   "lastCommId": null,
   "lastKernelId": null
  },
  "hide_input": false,
  "kernelspec": {
   "display_name": "Python 3 (ipykernel)",
   "language": "python",
   "name": "python3"
  },
  "language_info": {
   "codemirror_mode": {
    "name": "ipython",
    "version": 3
   },
   "file_extension": ".py",
   "mimetype": "text/x-python",
   "name": "python",
   "nbconvert_exporter": "python",
   "pygments_lexer": "ipython3",
   "version": "3.10.6"
  },
  "latex_envs": {
   "LaTeX_envs_menu_present": true,
   "autoclose": true,
   "autocomplete": true,
   "bibliofile": "biblio.bib",
   "cite_by": "apalike",
   "current_citInitial": 1,
   "eqLabelWithNumbers": true,
   "eqNumInitial": 1,
   "hotkeys": {
    "equation": "Ctrl-E",
    "itemize": "Ctrl-I"
   },
   "labels_anchors": false,
   "latex_user_defs": false,
   "report_style_numbering": false,
   "user_envs_cfg": false
  },
  "toc": {
   "base_numbering": 1,
   "nav_menu": {},
   "number_sections": false,
   "sideBar": true,
   "skip_h1_title": true,
   "title_cell": "Table of Contents",
   "title_sidebar": "Contents",
   "toc_cell": false,
   "toc_position": {
    "height": "calc(100% - 180px)",
    "left": "10px",
    "top": "150px",
    "width": "271px"
   },
   "toc_section_display": true,
   "toc_window_display": false
  },
  "varInspector": {
   "cols": {
    "lenName": 16,
    "lenType": 16,
    "lenVar": 40
   },
   "kernels_config": {
    "python": {
     "delete_cmd_postfix": "",
     "delete_cmd_prefix": "del ",
     "library": "var_list.py",
     "varRefreshCmd": "print(var_dic_list())"
    },
    "r": {
     "delete_cmd_postfix": ") ",
     "delete_cmd_prefix": "rm(",
     "library": "var_list.r",
     "varRefreshCmd": "cat(var_dic_list()) "
    }
   },
   "types_to_exclude": [
    "module",
    "function",
    "builtin_function_or_method",
    "instance",
    "_Feature"
   ],
   "window_display": false
  }
 },
 "nbformat": 4,
 "nbformat_minor": 5
}

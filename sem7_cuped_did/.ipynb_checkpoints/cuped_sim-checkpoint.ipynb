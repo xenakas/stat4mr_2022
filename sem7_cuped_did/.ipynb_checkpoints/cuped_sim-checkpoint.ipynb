{
 "cells": [
  {
   "cell_type": "code",
   "execution_count": 48,
   "id": "2ad82729",
   "metadata": {
    "ExecuteTime": {
     "end_time": "2022-11-07T11:19:37.051677Z",
     "start_time": "2022-11-07T11:19:37.040169Z"
    }
   },
   "outputs": [],
   "source": [
    "import numpy.random as npr\n",
    "import numpy as np\n",
    "import pandas as pd\n",
    "import numpy.random as npr\n",
    "import matplotlib.pyplot as plt\n",
    "import seaborn as sns\n",
    "import statsmodels.api as sm\n",
    "# import statsmodels.formula.api as sm\n",
    "from sklearn.linear_model import LinearRegression"
   ]
  },
  {
   "cell_type": "code",
   "execution_count": 49,
   "id": "a9f0735e",
   "metadata": {
    "ExecuteTime": {
     "end_time": "2022-11-07T11:19:39.848930Z",
     "start_time": "2022-11-07T11:19:39.837191Z"
    }
   },
   "outputs": [],
   "source": [
    "nusers = 100\n",
    "treeatment = npr.choice([0,1], nusers)\n",
    "group = npr.choice(np.arange(7),nusers)+1\n",
    "covariate = npr.normal(0,1,nusers)\n",
    "metric = 1 * covariate + npr.normal(0,0.1*group,nusers) +  0.1*treeatment                      "
   ]
  },
  {
   "cell_type": "code",
   "execution_count": 50,
   "id": "60d5b329",
   "metadata": {
    "ExecuteTime": {
     "end_time": "2022-11-07T11:19:40.238635Z",
     "start_time": "2022-11-07T11:19:40.193222Z"
    }
   },
   "outputs": [
    {
     "data": {
      "text/html": [
       "<div>\n",
       "<style scoped>\n",
       "    .dataframe tbody tr th:only-of-type {\n",
       "        vertical-align: middle;\n",
       "    }\n",
       "\n",
       "    .dataframe tbody tr th {\n",
       "        vertical-align: top;\n",
       "    }\n",
       "\n",
       "    .dataframe thead th {\n",
       "        text-align: right;\n",
       "    }\n",
       "</style>\n",
       "<table border=\"1\" class=\"dataframe\">\n",
       "  <thead>\n",
       "    <tr style=\"text-align: right;\">\n",
       "      <th></th>\n",
       "      <th>treeatment</th>\n",
       "      <th>group</th>\n",
       "      <th>covariate</th>\n",
       "      <th>metric</th>\n",
       "    </tr>\n",
       "  </thead>\n",
       "  <tbody>\n",
       "    <tr>\n",
       "      <th>0</th>\n",
       "      <td>1.0</td>\n",
       "      <td>2.0</td>\n",
       "      <td>0.272822</td>\n",
       "      <td>0.690744</td>\n",
       "    </tr>\n",
       "    <tr>\n",
       "      <th>1</th>\n",
       "      <td>0.0</td>\n",
       "      <td>6.0</td>\n",
       "      <td>-1.745190</td>\n",
       "      <td>-0.743403</td>\n",
       "    </tr>\n",
       "    <tr>\n",
       "      <th>2</th>\n",
       "      <td>1.0</td>\n",
       "      <td>6.0</td>\n",
       "      <td>0.170527</td>\n",
       "      <td>-0.136818</td>\n",
       "    </tr>\n",
       "    <tr>\n",
       "      <th>3</th>\n",
       "      <td>0.0</td>\n",
       "      <td>6.0</td>\n",
       "      <td>0.065030</td>\n",
       "      <td>0.083995</td>\n",
       "    </tr>\n",
       "    <tr>\n",
       "      <th>4</th>\n",
       "      <td>0.0</td>\n",
       "      <td>3.0</td>\n",
       "      <td>0.781796</td>\n",
       "      <td>1.071559</td>\n",
       "    </tr>\n",
       "    <tr>\n",
       "      <th>...</th>\n",
       "      <td>...</td>\n",
       "      <td>...</td>\n",
       "      <td>...</td>\n",
       "      <td>...</td>\n",
       "    </tr>\n",
       "    <tr>\n",
       "      <th>95</th>\n",
       "      <td>0.0</td>\n",
       "      <td>2.0</td>\n",
       "      <td>0.852484</td>\n",
       "      <td>0.862993</td>\n",
       "    </tr>\n",
       "    <tr>\n",
       "      <th>96</th>\n",
       "      <td>0.0</td>\n",
       "      <td>4.0</td>\n",
       "      <td>-1.721760</td>\n",
       "      <td>-1.453622</td>\n",
       "    </tr>\n",
       "    <tr>\n",
       "      <th>97</th>\n",
       "      <td>0.0</td>\n",
       "      <td>4.0</td>\n",
       "      <td>1.149904</td>\n",
       "      <td>1.011631</td>\n",
       "    </tr>\n",
       "    <tr>\n",
       "      <th>98</th>\n",
       "      <td>1.0</td>\n",
       "      <td>7.0</td>\n",
       "      <td>1.177929</td>\n",
       "      <td>0.405840</td>\n",
       "    </tr>\n",
       "    <tr>\n",
       "      <th>99</th>\n",
       "      <td>0.0</td>\n",
       "      <td>3.0</td>\n",
       "      <td>0.927545</td>\n",
       "      <td>0.554188</td>\n",
       "    </tr>\n",
       "  </tbody>\n",
       "</table>\n",
       "<p>100 rows × 4 columns</p>\n",
       "</div>"
      ],
      "text/plain": [
       "    treeatment  group  covariate    metric\n",
       "0          1.0    2.0   0.272822  0.690744\n",
       "1          0.0    6.0  -1.745190 -0.743403\n",
       "2          1.0    6.0   0.170527 -0.136818\n",
       "3          0.0    6.0   0.065030  0.083995\n",
       "4          0.0    3.0   0.781796  1.071559\n",
       "..         ...    ...        ...       ...\n",
       "95         0.0    2.0   0.852484  0.862993\n",
       "96         0.0    4.0  -1.721760 -1.453622\n",
       "97         0.0    4.0   1.149904  1.011631\n",
       "98         1.0    7.0   1.177929  0.405840\n",
       "99         0.0    3.0   0.927545  0.554188\n",
       "\n",
       "[100 rows x 4 columns]"
      ]
     },
     "execution_count": 50,
     "metadata": {},
     "output_type": "execute_result"
    }
   ],
   "source": [
    "df = pd.DataFrame([treeatment, group, covariate, metric], index=['treeatment', 'group', 'covariate', 'metric']).T\n",
    "df"
   ]
  },
  {
   "cell_type": "code",
   "execution_count": 51,
   "id": "2a18f124",
   "metadata": {
    "ExecuteTime": {
     "end_time": "2022-11-07T11:19:40.595271Z",
     "start_time": "2022-11-07T11:19:40.559604Z"
    }
   },
   "outputs": [
    {
     "data": {
      "text/html": [
       "<div>\n",
       "<style scoped>\n",
       "    .dataframe tbody tr th:only-of-type {\n",
       "        vertical-align: middle;\n",
       "    }\n",
       "\n",
       "    .dataframe tbody tr th {\n",
       "        vertical-align: top;\n",
       "    }\n",
       "\n",
       "    .dataframe thead th {\n",
       "        text-align: right;\n",
       "    }\n",
       "</style>\n",
       "<table border=\"1\" class=\"dataframe\">\n",
       "  <thead>\n",
       "    <tr style=\"text-align: right;\">\n",
       "      <th></th>\n",
       "      <th></th>\n",
       "      <th>covariate</th>\n",
       "      <th>metric</th>\n",
       "    </tr>\n",
       "    <tr>\n",
       "      <th>treeatment</th>\n",
       "      <th>group</th>\n",
       "      <th></th>\n",
       "      <th></th>\n",
       "    </tr>\n",
       "  </thead>\n",
       "  <tbody>\n",
       "    <tr>\n",
       "      <th rowspan=\"7\" valign=\"top\">0.0</th>\n",
       "      <th>1.0</th>\n",
       "      <td>-0.586872</td>\n",
       "      <td>-0.597823</td>\n",
       "    </tr>\n",
       "    <tr>\n",
       "      <th>2.0</th>\n",
       "      <td>0.234000</td>\n",
       "      <td>0.207138</td>\n",
       "    </tr>\n",
       "    <tr>\n",
       "      <th>3.0</th>\n",
       "      <td>0.182328</td>\n",
       "      <td>0.197622</td>\n",
       "    </tr>\n",
       "    <tr>\n",
       "      <th>4.0</th>\n",
       "      <td>-0.568608</td>\n",
       "      <td>-0.551366</td>\n",
       "    </tr>\n",
       "    <tr>\n",
       "      <th>5.0</th>\n",
       "      <td>-0.176293</td>\n",
       "      <td>-0.316944</td>\n",
       "    </tr>\n",
       "    <tr>\n",
       "      <th>6.0</th>\n",
       "      <td>-0.297206</td>\n",
       "      <td>-0.323270</td>\n",
       "    </tr>\n",
       "    <tr>\n",
       "      <th>7.0</th>\n",
       "      <td>0.268982</td>\n",
       "      <td>-0.137283</td>\n",
       "    </tr>\n",
       "    <tr>\n",
       "      <th rowspan=\"7\" valign=\"top\">1.0</th>\n",
       "      <th>1.0</th>\n",
       "      <td>0.335152</td>\n",
       "      <td>0.446195</td>\n",
       "    </tr>\n",
       "    <tr>\n",
       "      <th>2.0</th>\n",
       "      <td>-0.389656</td>\n",
       "      <td>-0.182029</td>\n",
       "    </tr>\n",
       "    <tr>\n",
       "      <th>3.0</th>\n",
       "      <td>-0.304211</td>\n",
       "      <td>-0.221323</td>\n",
       "    </tr>\n",
       "    <tr>\n",
       "      <th>4.0</th>\n",
       "      <td>0.320815</td>\n",
       "      <td>0.329215</td>\n",
       "    </tr>\n",
       "    <tr>\n",
       "      <th>5.0</th>\n",
       "      <td>-0.001009</td>\n",
       "      <td>0.106990</td>\n",
       "    </tr>\n",
       "    <tr>\n",
       "      <th>6.0</th>\n",
       "      <td>0.752307</td>\n",
       "      <td>0.267667</td>\n",
       "    </tr>\n",
       "    <tr>\n",
       "      <th>7.0</th>\n",
       "      <td>0.499902</td>\n",
       "      <td>0.496830</td>\n",
       "    </tr>\n",
       "  </tbody>\n",
       "</table>\n",
       "</div>"
      ],
      "text/plain": [
       "                  covariate    metric\n",
       "treeatment group                     \n",
       "0.0        1.0    -0.586872 -0.597823\n",
       "           2.0     0.234000  0.207138\n",
       "           3.0     0.182328  0.197622\n",
       "           4.0    -0.568608 -0.551366\n",
       "           5.0    -0.176293 -0.316944\n",
       "           6.0    -0.297206 -0.323270\n",
       "           7.0     0.268982 -0.137283\n",
       "1.0        1.0     0.335152  0.446195\n",
       "           2.0    -0.389656 -0.182029\n",
       "           3.0    -0.304211 -0.221323\n",
       "           4.0     0.320815  0.329215\n",
       "           5.0    -0.001009  0.106990\n",
       "           6.0     0.752307  0.267667\n",
       "           7.0     0.499902  0.496830"
      ]
     },
     "execution_count": 51,
     "metadata": {},
     "output_type": "execute_result"
    }
   ],
   "source": [
    "df.groupby([df.treeatment, df.group]).mean()"
   ]
  },
  {
   "cell_type": "code",
   "execution_count": 52,
   "id": "41eabb69",
   "metadata": {
    "ExecuteTime": {
     "end_time": "2022-11-07T11:19:40.920958Z",
     "start_time": "2022-11-07T11:19:40.911436Z"
    }
   },
   "outputs": [],
   "source": [
    "df['cuped_metric'] = metric - (np.cov(covariate,metric)[0,1]/np.var(covariate)) * (covariate - np.mean(covariate))"
   ]
  },
  {
   "cell_type": "code",
   "execution_count": 53,
   "id": "5efea8be",
   "metadata": {
    "ExecuteTime": {
     "end_time": "2022-11-07T11:19:41.282749Z",
     "start_time": "2022-11-07T11:19:41.271142Z"
    }
   },
   "outputs": [
    {
     "data": {
      "text/plain": [
       "(0.9524978014954129, 0.1675358849794191)"
      ]
     },
     "execution_count": 53,
     "metadata": {},
     "output_type": "execute_result"
    }
   ],
   "source": [
    "np.var(df['metric']), np.var(df['cuped_metric'])"
   ]
  },
  {
   "cell_type": "code",
   "execution_count": 54,
   "id": "e7b62618",
   "metadata": {
    "ExecuteTime": {
     "end_time": "2022-11-07T11:19:41.674776Z",
     "start_time": "2022-11-07T11:19:41.657269Z"
    }
   },
   "outputs": [
    {
     "data": {
      "text/plain": [
       "0.08777195300040636"
      ]
     },
     "execution_count": 54,
     "metadata": {},
     "output_type": "execute_result"
    }
   ],
   "source": [
    "# VAR_Y_HAT = \n",
    "np.var(metric) * (1 - np.corrcoef(covariate,metric)[0,1])"
   ]
  },
  {
   "cell_type": "code",
   "execution_count": 55,
   "id": "b3f6f926",
   "metadata": {
    "ExecuteTime": {
     "end_time": "2022-11-07T11:19:42.042298Z",
     "start_time": "2022-11-07T11:19:42.034935Z"
    }
   },
   "outputs": [],
   "source": [
    "import statsmodels.stats.weightstats as smw"
   ]
  },
  {
   "cell_type": "code",
   "execution_count": 56,
   "id": "2d78a4a5",
   "metadata": {
    "ExecuteTime": {
     "end_time": "2022-11-07T11:19:42.390530Z",
     "start_time": "2022-11-07T11:19:42.383417Z"
    }
   },
   "outputs": [],
   "source": [
    "x = df['metric'][df['treeatment']==0]\n",
    "y = df['metric'][df['treeatment']!=0]"
   ]
  },
  {
   "cell_type": "code",
   "execution_count": 57,
   "id": "03acbac3",
   "metadata": {
    "ExecuteTime": {
     "end_time": "2022-11-07T11:19:42.665246Z",
     "start_time": "2022-11-07T11:19:42.650903Z"
    }
   },
   "outputs": [
    {
     "data": {
      "text/plain": [
       "(-1.605311596990935, 0.11164303148005304, 98.0)"
      ]
     },
     "execution_count": 57,
     "metadata": {},
     "output_type": "execute_result"
    }
   ],
   "source": [
    "smw.ttest_ind(x,y,usevar='pooled')"
   ]
  },
  {
   "cell_type": "code",
   "execution_count": 58,
   "id": "ff24a9b7",
   "metadata": {
    "ExecuteTime": {
     "end_time": "2022-11-07T11:19:42.936856Z",
     "start_time": "2022-11-07T11:19:42.924431Z"
    }
   },
   "outputs": [
    {
     "data": {
      "text/plain": [
       "(-1.6120505032869026, 0.11016867406626063, 97.94754676810769)"
      ]
     },
     "execution_count": 58,
     "metadata": {},
     "output_type": "execute_result"
    }
   ],
   "source": [
    "smw.ttest_ind(x,y,usevar='unequal')"
   ]
  },
  {
   "cell_type": "code",
   "execution_count": 59,
   "id": "3c236184",
   "metadata": {
    "ExecuteTime": {
     "end_time": "2022-11-07T11:19:43.185360Z",
     "start_time": "2022-11-07T11:19:43.178112Z"
    }
   },
   "outputs": [],
   "source": [
    "x = df['cuped_metric'][df['treeatment']==0]\n",
    "y = df['cuped_metric'][df['treeatment']!=0]"
   ]
  },
  {
   "cell_type": "code",
   "execution_count": 60,
   "id": "60d7a21b",
   "metadata": {
    "ExecuteTime": {
     "end_time": "2022-11-07T11:19:43.445976Z",
     "start_time": "2022-11-07T11:19:43.435975Z"
    }
   },
   "outputs": [
    {
     "data": {
      "text/plain": [
       "(-1.8196654633756078, 0.07186296917660022, 98.0)"
      ]
     },
     "execution_count": 60,
     "metadata": {},
     "output_type": "execute_result"
    }
   ],
   "source": [
    "smw.ttest_ind(x,y,usevar='pooled')"
   ]
  },
  {
   "cell_type": "code",
   "execution_count": 61,
   "id": "606c9b66",
   "metadata": {
    "ExecuteTime": {
     "end_time": "2022-11-07T11:19:43.725456Z",
     "start_time": "2022-11-07T11:19:43.711888Z"
    }
   },
   "outputs": [
    {
     "data": {
      "text/plain": [
       "(-1.8055422277075281, 0.07428763218554889, 91.24590131513291)"
      ]
     },
     "execution_count": 61,
     "metadata": {},
     "output_type": "execute_result"
    }
   ],
   "source": [
    "smw.ttest_ind(x,y,usevar='unequal')"
   ]
  },
  {
   "cell_type": "markdown",
   "id": "8d15602e",
   "metadata": {
    "ExecuteTime": {
     "end_time": "2021-10-09T09:09:04.830942Z",
     "start_time": "2021-10-09T09:09:04.825542Z"
    }
   },
   "source": [
    "### Linear Regression\n"
   ]
  },
  {
   "cell_type": "code",
   "execution_count": 65,
   "id": "7af43907",
   "metadata": {
    "ExecuteTime": {
     "end_time": "2022-11-07T11:19:59.772148Z",
     "start_time": "2022-11-07T11:19:59.732887Z"
    }
   },
   "outputs": [
    {
     "name": "stdout",
     "output_type": "stream",
     "text": [
      "                            OLS Regression Results                            \n",
      "==============================================================================\n",
      "Dep. Variable:                 metric   R-squared:                       0.824\n",
      "Model:                            OLS   Adj. R-squared:                  0.822\n",
      "Method:                 Least Squares   F-statistic:                     459.4\n",
      "Date:                Mon, 07 Nov 2022   Prob (F-statistic):           8.98e-39\n",
      "Time:                        14:19:59   Log-Likelihood:                -52.542\n",
      "No. Observations:                 100   AIC:                             109.1\n",
      "Df Residuals:                      98   BIC:                             114.3\n",
      "Df Model:                           1                                         \n",
      "Covariance Type:            nonrobust                                         \n",
      "==============================================================================\n",
      "                 coef    std err          t      P>|t|      [0.025      0.975]\n",
      "------------------------------------------------------------------------------\n",
      "const         -0.0348      0.041     -0.840      0.403      -0.117       0.047\n",
      "covariate      0.9070      0.042     21.434      0.000       0.823       0.991\n",
      "==============================================================================\n",
      "Omnibus:                        7.807   Durbin-Watson:                   2.011\n",
      "Prob(Omnibus):                  0.020   Jarque-Bera (JB):                9.268\n",
      "Skew:                           0.421   Prob(JB):                      0.00972\n",
      "Kurtosis:                       4.231   Cond. No.                         1.06\n",
      "==============================================================================\n",
      "\n",
      "Notes:\n",
      "[1] Standard Errors assume that the covariance matrix of the errors is correctly specified.\n"
     ]
    }
   ],
   "source": [
    "x = df['covariate']\n",
    "x = sm.add_constant(x)\n",
    "model = sm.OLS(df['metric'], x)\n",
    "results = model.fit()\n",
    "print(results.summary())"
   ]
  },
  {
   "cell_type": "code",
   "execution_count": 63,
   "id": "acac00d6",
   "metadata": {
    "ExecuteTime": {
     "end_time": "2022-11-07T11:19:44.386649Z",
     "start_time": "2022-11-07T11:19:44.376950Z"
    }
   },
   "outputs": [
    {
     "name": "stdout",
     "output_type": "stream",
     "text": [
      "Parameters:  const       -0.034777\n",
      "covariate    0.906973\n",
      "dtype: float64\n",
      "R2:  0.824192993871725\n"
     ]
    }
   ],
   "source": [
    "print(\"Parameters: \", results.params)\n",
    "print(\"R2: \", results.rsquared)"
   ]
  },
  {
   "cell_type": "code",
   "execution_count": 67,
   "id": "7487ac0f",
   "metadata": {
    "ExecuteTime": {
     "end_time": "2022-11-07T11:20:23.669994Z",
     "start_time": "2022-11-07T11:20:23.348085Z"
    }
   },
   "outputs": [
    {
     "data": {
      "text/plain": [
       "<matplotlib.legend.Legend at 0x7f80c83f5b10>"
      ]
     },
     "execution_count": 67,
     "metadata": {},
     "output_type": "execute_result"
    },
    {
     "data": {
      "image/png": "[encoded data removed]",
      "text/plain": [
       "<Figure size 432x288 with 1 Axes>"
      ]
     },
     "metadata": {
      "needs_background": "light"
     },
     "output_type": "display_data"
    }
   ],
   "source": [
    "plt.hist(df['metric'])\n",
    "plt.hist(results.resid)\n",
    "plt.legend(['before','after'])"
   ]
  },
  {
   "cell_type": "code",
   "execution_count": 19,
   "id": "ca3d2fce",
   "metadata": {
    "ExecuteTime": {
     "end_time": "2022-11-07T09:55:03.010253Z",
     "start_time": "2022-11-07T09:55:02.981883Z"
    }
   },
   "outputs": [
    {
     "name": "stdout",
     "output_type": "stream",
     "text": [
      "                            OLS Regression Results                            \n",
      "==============================================================================\n",
      "Dep. Variable:                      y   R-squared:                       0.000\n",
      "Model:                            OLS   Adj. R-squared:                 -0.010\n",
      "Method:                 Least Squares   F-statistic:                     0.000\n",
      "Date:                Mon, 07 Nov 2022   Prob (F-statistic):               1.00\n",
      "Time:                        12:55:02   Log-Likelihood:                -70.358\n",
      "No. Observations:                 100   AIC:                             144.7\n",
      "Df Residuals:                      98   BIC:                             149.9\n",
      "Df Model:                           1                                         \n",
      "Covariance Type:            nonrobust                                         \n",
      "==============================================================================\n",
      "                 coef    std err          t      P>|t|      [0.025      0.975]\n",
      "------------------------------------------------------------------------------\n",
      "const       5.638e-17      0.050   1.14e-15      1.000      -0.098       0.098\n",
      "covariate   2.778e-16      0.046   6.06e-15      1.000      -0.091       0.091\n",
      "==============================================================================\n",
      "Omnibus:                        3.941   Durbin-Watson:                   2.059\n",
      "Prob(Omnibus):                  0.139   Jarque-Bera (JB):                4.679\n",
      "Skew:                          -0.057   Prob(JB):                       0.0964\n",
      "Kurtosis:                       4.054   Cond. No.                         1.13\n",
      "==============================================================================\n",
      "\n",
      "Notes:\n",
      "[1] Standard Errors assume that the covariance matrix of the errors is correctly specified.\n"
     ]
    }
   ],
   "source": [
    "model = sm.OLS(results.resid, x)\n",
    "results = model.fit()\n",
    "print(results.summary())"
   ]
  },
  {
   "cell_type": "code",
   "execution_count": 24,
   "id": "9ad3fc52",
   "metadata": {
    "ExecuteTime": {
     "end_time": "2022-11-07T09:55:32.939124Z",
     "start_time": "2022-11-07T09:55:32.915202Z"
    }
   },
   "outputs": [
    {
     "name": "stdout",
     "output_type": "stream",
     "text": [
      "                            OLS Regression Results                            \n",
      "==============================================================================\n",
      "Dep. Variable:                      y   R-squared:                      -0.000\n",
      "Model:                            OLS   Adj. R-squared:                 -0.010\n",
      "Method:                 Least Squares   F-statistic:                -1.558e-14\n",
      "Date:                Mon, 07 Nov 2022   Prob (F-statistic):               1.00\n",
      "Time:                        12:55:32   Log-Likelihood:                -66.980\n",
      "No. Observations:                 100   AIC:                             138.0\n",
      "Df Residuals:                      98   BIC:                             143.2\n",
      "Df Model:                           1                                         \n",
      "Covariance Type:            nonrobust                                         \n",
      "==============================================================================\n",
      "                 coef    std err          t      P>|t|      [0.025      0.975]\n",
      "------------------------------------------------------------------------------\n",
      "const       2.729e-18      0.067   4.08e-17      1.000      -0.133       0.133\n",
      "treeatment  1.084e-16      0.096   1.13e-15      1.000      -0.190       0.190\n",
      "==============================================================================\n",
      "Omnibus:                        2.535   Durbin-Watson:                   2.134\n",
      "Prob(Omnibus):                  0.281   Jarque-Bera (JB):                2.118\n",
      "Skew:                          -0.145   Prob(JB):                        0.347\n",
      "Kurtosis:                       3.651   Cond. No.                         2.60\n",
      "==============================================================================\n",
      "\n",
      "Notes:\n",
      "[1] Standard Errors assume that the covariance matrix of the errors is correctly specified.\n"
     ]
    }
   ],
   "source": [
    "x = df['treeatment']\n",
    "x = sm.add_constant(x)\n",
    "model = sm.OLS(results.resid, x)\n",
    "results_1 = model.fit()\n",
    "print(results_1.summary())"
   ]
  },
  {
   "cell_type": "code",
   "execution_count": 25,
   "id": "b5d6112b",
   "metadata": {
    "ExecuteTime": {
     "end_time": "2022-11-07T09:55:42.607573Z",
     "start_time": "2022-11-07T09:55:42.602399Z"
    }
   },
   "outputs": [
    {
     "name": "stdout",
     "output_type": "stream",
     "text": [
      "Parameters:  const         2.729312e-18\n",
      "treeatment    1.084202e-16\n",
      "dtype: float64\n",
      "R2:  -2.220446049250313e-16\n"
     ]
    }
   ],
   "source": [
    "print(\"Parameters: \", results_1.params)\n",
    "print(\"R2: \", results_1.rsquared)\n"
   ]
  },
  {
   "cell_type": "code",
   "execution_count": 27,
   "id": "a4a958db",
   "metadata": {
    "ExecuteTime": {
     "end_time": "2022-11-07T09:55:50.590626Z",
     "start_time": "2022-11-07T09:55:50.579188Z"
    }
   },
   "outputs": [
    {
     "name": "stdout",
     "output_type": "stream",
     "text": [
      "                            OLS Regression Results                            \n",
      "==============================================================================\n",
      "Dep. Variable:                 metric   R-squared:                       0.839\n",
      "Model:                            OLS   Adj. R-squared:                  0.835\n",
      "Method:                 Least Squares   F-statistic:                     252.1\n",
      "Date:                Mon, 07 Nov 2022   Prob (F-statistic):           3.76e-39\n",
      "Time:                        12:55:50   Log-Likelihood:                -66.960\n",
      "No. Observations:                 100   AIC:                             139.9\n",
      "Df Residuals:                      97   BIC:                             147.7\n",
      "Df Model:                           2                                         \n",
      "Covariance Type:            nonrobust                                         \n",
      "==============================================================================\n",
      "                 coef    std err          t      P>|t|      [0.025      0.975]\n",
      "------------------------------------------------------------------------------\n",
      "const         -0.0316      0.068     -0.467      0.642      -0.166       0.103\n",
      "covariate      0.9842      0.045     22.041      0.000       0.896       1.073\n",
      "treeatment     0.2515      0.096      2.612      0.010       0.060       0.443\n",
      "==============================================================================\n",
      "Omnibus:                        2.538   Durbin-Watson:                   2.131\n",
      "Prob(Omnibus):                  0.281   Jarque-Bera (JB):                2.102\n",
      "Skew:                          -0.154   Prob(JB):                        0.350\n",
      "Kurtosis:                       3.640   Cond. No.                         2.66\n",
      "==============================================================================\n",
      "\n",
      "Notes:\n",
      "[1] Standard Errors assume that the covariance matrix of the errors is correctly specified.\n"
     ]
    }
   ],
   "source": [
    "x = df.loc[:,['covariate', 'treeatment']]\n",
    "x = sm.add_constant(x)\n",
    "model = sm.OLS(df['metric'], x)\n",
    "results = model.fit()\n",
    "print(results.summary())"
   ]
  },
  {
   "cell_type": "code",
   "execution_count": 28,
   "id": "3c2a171a",
   "metadata": {
    "ExecuteTime": {
     "end_time": "2022-11-07T09:55:50.929845Z",
     "start_time": "2022-11-07T09:55:50.920009Z"
    }
   },
   "outputs": [
    {
     "name": "stdout",
     "output_type": "stream",
     "text": [
      "Parameters:  const        -0.031623\n",
      "covariate     0.984180\n",
      "treeatment    0.251485\n",
      "dtype: float64\n",
      "R2:  0.8386592708112424\n"
     ]
    }
   ],
   "source": [
    "print(\"Parameters: \", results.params)\n",
    "print(\"R2: \", results.rsquared)\n"
   ]
  },
  {
   "cell_type": "code",
   "execution_count": 30,
   "id": "e7669026",
   "metadata": {
    "ExecuteTime": {
     "end_time": "2022-11-07T09:55:56.697922Z",
     "start_time": "2022-11-07T09:55:56.661325Z"
    }
   },
   "outputs": [
    {
     "name": "stdout",
     "output_type": "stream",
     "text": [
      "                            OLS Regression Results                            \n",
      "==============================================================================\n",
      "Dep. Variable:                 metric   R-squared:                       0.038\n",
      "Model:                            OLS   Adj. R-squared:                  0.018\n",
      "Method:                 Least Squares   F-statistic:                     1.922\n",
      "Date:                Mon, 07 Nov 2022   Prob (F-statistic):              0.152\n",
      "Time:                        12:55:56   Log-Likelihood:                -156.23\n",
      "No. Observations:                 100   AIC:                             318.5\n",
      "Df Residuals:                      97   BIC:                             326.3\n",
      "Df Model:                           2                                         \n",
      "Covariance Type:            nonrobust                                         \n",
      "==============================================================================\n",
      "                 coef    std err          t      P>|t|      [0.025      0.975]\n",
      "------------------------------------------------------------------------------\n",
      "const         -0.4257      0.295     -1.443      0.152      -1.011       0.160\n",
      "group          0.0512      0.059      0.867      0.388      -0.066       0.168\n",
      "treeatment     0.4055      0.235      1.729      0.087      -0.060       0.871\n",
      "==============================================================================\n",
      "Omnibus:                        3.084   Durbin-Watson:                   2.029\n",
      "Prob(Omnibus):                  0.214   Jarque-Bera (JB):                2.497\n",
      "Skew:                           0.366   Prob(JB):                        0.287\n",
      "Kurtosis:                       3.251   Cond. No.                         13.0\n",
      "==============================================================================\n",
      "\n",
      "Notes:\n",
      "[1] Standard Errors assume that the covariance matrix of the errors is correctly specified.\n"
     ]
    }
   ],
   "source": [
    "x = df.loc[:,['group', 'treeatment']]\n",
    "x = sm.add_constant(x)\n",
    "model = sm.OLS(df['metric'], x)\n",
    "results = model.fit()\n",
    "print(results.summary())"
   ]
  },
  {
   "cell_type": "code",
   "execution_count": 31,
   "id": "cd959e36",
   "metadata": {
    "ExecuteTime": {
     "end_time": "2022-11-07T09:55:59.668086Z",
     "start_time": "2022-11-07T09:55:59.660327Z"
    }
   },
   "outputs": [
    {
     "name": "stdout",
     "output_type": "stream",
     "text": [
      "Parameters:  const        -0.425678\n",
      "group         0.051163\n",
      "treeatment    0.405542\n",
      "dtype: float64\n",
      "R2:  0.03811365984183768\n"
     ]
    }
   ],
   "source": [
    "print(\"Parameters: \", results.params)\n",
    "print(\"R2: \", results.rsquared)\n"
   ]
  },
  {
   "cell_type": "code",
   "execution_count": 33,
   "id": "f2ebea00",
   "metadata": {
    "ExecuteTime": {
     "end_time": "2022-11-07T09:56:05.277881Z",
     "start_time": "2022-11-07T09:56:05.256308Z"
    }
   },
   "outputs": [
    {
     "name": "stdout",
     "output_type": "stream",
     "text": [
      "                            OLS Regression Results                            \n",
      "==============================================================================\n",
      "Dep. Variable:                 metric   R-squared:                       0.840\n",
      "Model:                            OLS   Adj. R-squared:                  0.835\n",
      "Method:                 Least Squares   F-statistic:                     167.7\n",
      "Date:                Mon, 07 Nov 2022   Prob (F-statistic):           4.84e-38\n",
      "Time:                        12:56:05   Log-Likelihood:                -66.609\n",
      "No. Observations:                 100   AIC:                             141.2\n",
      "Df Residuals:                      96   BIC:                             151.6\n",
      "Df Model:                           3                                         \n",
      "Covariance Type:            nonrobust                                         \n",
      "==============================================================================\n",
      "                 coef    std err          t      P>|t|      [0.025      0.975]\n",
      "------------------------------------------------------------------------------\n",
      "const         -0.1149      0.122     -0.943      0.348      -0.357       0.127\n",
      "group          0.0199      0.024      0.822      0.413      -0.028       0.068\n",
      "covariate      0.9820      0.045     21.917      0.000       0.893       1.071\n",
      "treeatment     0.2493      0.096      2.584      0.011       0.058       0.441\n",
      "==============================================================================\n",
      "Omnibus:                        4.421   Durbin-Watson:                   2.154\n",
      "Prob(Omnibus):                  0.110   Jarque-Bera (JB):                4.062\n",
      "Skew:                          -0.320   Prob(JB):                        0.131\n",
      "Kurtosis:                       3.751   Cond. No.                         13.1\n",
      "==============================================================================\n",
      "\n",
      "Notes:\n",
      "[1] Standard Errors assume that the covariance matrix of the errors is correctly specified.\n"
     ]
    }
   ],
   "source": [
    "x = df.loc[:,['group', 'covariate', 'treeatment']]\n",
    "x = sm.add_constant(x)\n",
    "model = sm.OLS(df['metric'], x)\n",
    "results = model.fit()\n",
    "print(results.summary())"
   ]
  },
  {
   "cell_type": "code",
   "execution_count": 34,
   "id": "b76444a7",
   "metadata": {
    "ExecuteTime": {
     "end_time": "2022-11-07T09:56:07.831955Z",
     "start_time": "2022-11-07T09:56:07.828777Z"
    }
   },
   "outputs": [
    {
     "name": "stdout",
     "output_type": "stream",
     "text": [
      "Parameters:  const        -0.114874\n",
      "group         0.019931\n",
      "covariate     0.982014\n",
      "treeatment    0.249270\n",
      "dtype: float64\n",
      "R2:  0.8397877643344308\n"
     ]
    }
   ],
   "source": [
    "print(\"Parameters: \", results.params)\n",
    "print(\"R2: \", results.rsquared)\n"
   ]
  },
  {
   "cell_type": "markdown",
   "id": "9ce1bf0b",
   "metadata": {},
   "source": [
    "### Clicks"
   ]
  },
  {
   "cell_type": "markdown",
   "id": "b1d40f66",
   "metadata": {},
   "source": [
    "Pageviews: Number of unique cookies to view the course overview page that day.\n",
    "\n",
    "Clicks: Number of unique cookies to click the course overview page that day.\n",
    "\n",
    "Enrollments: Number of user-ids to enroll in the free trial that day.\n",
    "\n",
    "Payments: Number of user-ids who who enrolled on that day to remain enrolled for 14 days and thus make a payment. (Note that the date for this column is the start date, that is, the date\n",
    "of enrollment, rather than the date of the payment. The payment happened 14 days later. Because of this, the enrollments and payments are tracked for 14 fewer days than the other columns.)"
   ]
  },
  {
   "cell_type": "code",
   "execution_count": 35,
   "id": "44ffaa7e",
   "metadata": {
    "ExecuteTime": {
     "end_time": "2022-11-07T09:56:10.919443Z",
     "start_time": "2022-11-07T09:56:10.916379Z"
    }
   },
   "outputs": [],
   "source": [
    "import math as mt\n",
    "from scipy.stats import norm"
   ]
  },
  {
   "cell_type": "code",
   "execution_count": 36,
   "id": "d9dab75f",
   "metadata": {
    "ExecuteTime": {
     "end_time": "2022-11-07T09:56:14.786333Z",
     "start_time": "2022-11-07T09:56:14.770984Z"
    }
   },
   "outputs": [],
   "source": [
    "control = pd.read_csv('control_data.csv')\n",
    "treat = pd.read_csv('experiment_data.csv')"
   ]
  },
  {
   "cell_type": "code",
   "execution_count": 37,
   "id": "c8fcb125",
   "metadata": {
    "ExecuteTime": {
     "end_time": "2022-11-07T09:56:15.728160Z",
     "start_time": "2022-11-07T09:56:15.724875Z"
    }
   },
   "outputs": [],
   "source": [
    "control['treatment'] = 0"
   ]
  },
  {
   "cell_type": "code",
   "execution_count": 38,
   "id": "c24f6cfa",
   "metadata": {
    "ExecuteTime": {
     "end_time": "2022-11-07T09:56:16.515421Z",
     "start_time": "2022-11-07T09:56:16.506018Z"
    }
   },
   "outputs": [],
   "source": [
    "treat['treatment'] = 1"
   ]
  },
  {
   "cell_type": "code",
   "execution_count": 39,
   "id": "38de9fdf",
   "metadata": {
    "ExecuteTime": {
     "end_time": "2022-11-07T09:56:18.189744Z",
     "start_time": "2022-11-07T09:56:18.085494Z"
    }
   },
   "outputs": [
    {
     "name": "stderr",
     "output_type": "stream",
     "text": [
      "/tmp/ipykernel_338251/3961528094.py:1: FutureWarning: The frame.append method is deprecated and will be removed from pandas in a future version. Use pandas.concat instead.\n",
      "  df = control.append(treat)\n"
     ]
    }
   ],
   "source": [
    "df = control.append(treat)"
   ]
  },
  {
   "cell_type": "code",
   "execution_count": 40,
   "id": "d9b80602",
   "metadata": {
    "ExecuteTime": {
     "end_time": "2022-11-07T09:56:18.307911Z",
     "start_time": "2022-11-07T09:56:18.297726Z"
    }
   },
   "outputs": [
    {
     "data": {
      "text/html": [
       "<div>\n",
       "<style scoped>\n",
       "    .dataframe tbody tr th:only-of-type {\n",
       "        vertical-align: middle;\n",
       "    }\n",
       "\n",
       "    .dataframe tbody tr th {\n",
       "        vertical-align: top;\n",
       "    }\n",
       "\n",
       "    .dataframe thead th {\n",
       "        text-align: right;\n",
       "    }\n",
       "</style>\n",
       "<table border=\"1\" class=\"dataframe\">\n",
       "  <thead>\n",
       "    <tr style=\"text-align: right;\">\n",
       "      <th></th>\n",
       "      <th>Date</th>\n",
       "      <th>Pageviews</th>\n",
       "      <th>Clicks</th>\n",
       "      <th>Enrollments</th>\n",
       "      <th>Payments</th>\n",
       "      <th>treatment</th>\n",
       "    </tr>\n",
       "  </thead>\n",
       "  <tbody>\n",
       "    <tr>\n",
       "      <th>0</th>\n",
       "      <td>Sat, Oct 11</td>\n",
       "      <td>7723</td>\n",
       "      <td>687</td>\n",
       "      <td>134.0</td>\n",
       "      <td>70.0</td>\n",
       "      <td>0</td>\n",
       "    </tr>\n",
       "    <tr>\n",
       "      <th>1</th>\n",
       "      <td>Sun, Oct 12</td>\n",
       "      <td>9102</td>\n",
       "      <td>779</td>\n",
       "      <td>147.0</td>\n",
       "      <td>70.0</td>\n",
       "      <td>0</td>\n",
       "    </tr>\n",
       "    <tr>\n",
       "      <th>2</th>\n",
       "      <td>Mon, Oct 13</td>\n",
       "      <td>10511</td>\n",
       "      <td>909</td>\n",
       "      <td>167.0</td>\n",
       "      <td>95.0</td>\n",
       "      <td>0</td>\n",
       "    </tr>\n",
       "    <tr>\n",
       "      <th>3</th>\n",
       "      <td>Tue, Oct 14</td>\n",
       "      <td>9871</td>\n",
       "      <td>836</td>\n",
       "      <td>156.0</td>\n",
       "      <td>105.0</td>\n",
       "      <td>0</td>\n",
       "    </tr>\n",
       "    <tr>\n",
       "      <th>4</th>\n",
       "      <td>Wed, Oct 15</td>\n",
       "      <td>10014</td>\n",
       "      <td>837</td>\n",
       "      <td>163.0</td>\n",
       "      <td>64.0</td>\n",
       "      <td>0</td>\n",
       "    </tr>\n",
       "    <tr>\n",
       "      <th>...</th>\n",
       "      <td>...</td>\n",
       "      <td>...</td>\n",
       "      <td>...</td>\n",
       "      <td>...</td>\n",
       "      <td>...</td>\n",
       "      <td>...</td>\n",
       "    </tr>\n",
       "    <tr>\n",
       "      <th>32</th>\n",
       "      <td>Wed, Nov 12</td>\n",
       "      <td>10042</td>\n",
       "      <td>802</td>\n",
       "      <td>NaN</td>\n",
       "      <td>NaN</td>\n",
       "      <td>1</td>\n",
       "    </tr>\n",
       "    <tr>\n",
       "      <th>33</th>\n",
       "      <td>Thu, Nov 13</td>\n",
       "      <td>9721</td>\n",
       "      <td>829</td>\n",
       "      <td>NaN</td>\n",
       "      <td>NaN</td>\n",
       "      <td>1</td>\n",
       "    </tr>\n",
       "    <tr>\n",
       "      <th>34</th>\n",
       "      <td>Fri, Nov 14</td>\n",
       "      <td>9304</td>\n",
       "      <td>770</td>\n",
       "      <td>NaN</td>\n",
       "      <td>NaN</td>\n",
       "      <td>1</td>\n",
       "    </tr>\n",
       "    <tr>\n",
       "      <th>35</th>\n",
       "      <td>Sat, Nov 15</td>\n",
       "      <td>8668</td>\n",
       "      <td>724</td>\n",
       "      <td>NaN</td>\n",
       "      <td>NaN</td>\n",
       "      <td>1</td>\n",
       "    </tr>\n",
       "    <tr>\n",
       "      <th>36</th>\n",
       "      <td>Sun, Nov 16</td>\n",
       "      <td>8988</td>\n",
       "      <td>710</td>\n",
       "      <td>NaN</td>\n",
       "      <td>NaN</td>\n",
       "      <td>1</td>\n",
       "    </tr>\n",
       "  </tbody>\n",
       "</table>\n",
       "<p>74 rows × 6 columns</p>\n",
       "</div>"
      ],
      "text/plain": [
       "           Date  Pageviews  Clicks  Enrollments  Payments  treatment\n",
       "0   Sat, Oct 11       7723     687        134.0      70.0          0\n",
       "1   Sun, Oct 12       9102     779        147.0      70.0          0\n",
       "2   Mon, Oct 13      10511     909        167.0      95.0          0\n",
       "3   Tue, Oct 14       9871     836        156.0     105.0          0\n",
       "4   Wed, Oct 15      10014     837        163.0      64.0          0\n",
       "..          ...        ...     ...          ...       ...        ...\n",
       "32  Wed, Nov 12      10042     802          NaN       NaN          1\n",
       "33  Thu, Nov 13       9721     829          NaN       NaN          1\n",
       "34  Fri, Nov 14       9304     770          NaN       NaN          1\n",
       "35  Sat, Nov 15       8668     724          NaN       NaN          1\n",
       "36  Sun, Nov 16       8988     710          NaN       NaN          1\n",
       "\n",
       "[74 rows x 6 columns]"
      ]
     },
     "execution_count": 40,
     "metadata": {},
     "output_type": "execute_result"
    }
   ],
   "source": [
    "df"
   ]
  },
  {
   "cell_type": "code",
   "execution_count": 41,
   "id": "c1bfcd25",
   "metadata": {
    "ExecuteTime": {
     "end_time": "2022-11-07T09:56:22.032440Z",
     "start_time": "2022-11-07T09:56:22.020924Z"
    }
   },
   "outputs": [],
   "source": [
    "Y = df['Clicks']\n",
    "X = df['Pageviews']\n",
    "Y_HAT = Y - (np.cov(X,Y)[0,1]/np.var(X)) * (X - np.mean(X))"
   ]
  },
  {
   "cell_type": "code",
   "execution_count": 42,
   "id": "43f1fe4c",
   "metadata": {
    "ExecuteTime": {
     "end_time": "2022-11-07T09:56:23.993496Z",
     "start_time": "2022-11-07T09:56:23.985973Z"
    }
   },
   "outputs": [],
   "source": [
    "VAR_Y_HAT = np.var(Y) * (1 - np.corrcoef(X,Y)[0,1])"
   ]
  },
  {
   "cell_type": "code",
   "execution_count": 43,
   "id": "6391752e",
   "metadata": {
    "ExecuteTime": {
     "end_time": "2022-11-07T09:56:26.360573Z",
     "start_time": "2022-11-07T09:56:26.353615Z"
    }
   },
   "outputs": [
    {
     "data": {
      "text/plain": [
       "array([[517616.6392077 ,  42725.43446872],\n",
       "       [ 42725.43446872,   4356.74139208]])"
      ]
     },
     "execution_count": 43,
     "metadata": {},
     "output_type": "execute_result"
    }
   ],
   "source": [
    "# np.corrcoef(X,Y)\n",
    "np.cov(X,Y)"
   ]
  },
  {
   "cell_type": "code",
   "execution_count": 44,
   "id": "b39d46a0",
   "metadata": {
    "ExecuteTime": {
     "end_time": "2022-11-07T09:56:28.258255Z",
     "start_time": "2022-11-07T09:56:28.250310Z"
    }
   },
   "outputs": [
    {
     "data": {
      "text/plain": [
       "(819.5076707711819, 431.0425152954054)"
      ]
     },
     "execution_count": 44,
     "metadata": {},
     "output_type": "execute_result"
    }
   ],
   "source": [
    "np.var(Y_HAT), VAR_Y_HAT"
   ]
  }
 ],
 "metadata": {
  "hide_input": false,
  "kernelspec": {
   "display_name": "Python 3 (ipykernel)",
   "language": "python",
   "name": "python3"
  },
  "language_info": {
   "codemirror_mode": {
    "name": "ipython",
    "version": 3
   },
   "file_extension": ".py",
   "mimetype": "text/x-python",
   "name": "python",
   "nbconvert_exporter": "python",
   "pygments_lexer": "ipython3",
   "version": "3.10.6"
  },
  "latex_envs": {
   "LaTeX_envs_menu_present": true,
   "autoclose": true,
   "autocomplete": true,
   "bibliofile": "biblio.bib",
   "cite_by": "apalike",
   "current_citInitial": 1,
   "eqLabelWithNumbers": true,
   "eqNumInitial": 1,
   "hotkeys": {
    "equation": "Ctrl-E",
    "itemize": "Ctrl-I"
   },
   "labels_anchors": false,
   "latex_user_defs": false,
   "report_style_numbering": false,
   "user_envs_cfg": false
  },
  "toc": {
   "base_numbering": 1,
   "nav_menu": {},
   "number_sections": true,
   "sideBar": true,
   "skip_h1_title": false,
   "title_cell": "Table of Contents",
   "title_sidebar": "Contents",
   "toc_cell": false,
   "toc_position": {},
   "toc_section_display": true,
   "toc_window_display": false
  },
  "varInspector": {
   "cols": {
    "lenName": 16,
    "lenType": 16,
    "lenVar": 40
   },
   "kernels_config": {
    "python": {
     "delete_cmd_postfix": "",
     "delete_cmd_prefix": "del ",
     "library": "var_list.py",
     "varRefreshCmd": "print(var_dic_list())"
    },
    "r": {
     "delete_cmd_postfix": ") ",
     "delete_cmd_prefix": "rm(",
     "library": "var_list.r",
     "varRefreshCmd": "cat(var_dic_list()) "
    }
   },
   "types_to_exclude": [
    "module",
    "function",
    "builtin_function_or_method",
    "instance",
    "_Feature"
   ],
   "window_display": false
  }
 },
 "nbformat": 4,
 "nbformat_minor": 5
}

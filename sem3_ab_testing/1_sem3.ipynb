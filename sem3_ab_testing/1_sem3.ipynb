{
 "cells": [
  {
   "cell_type": "markdown",
   "id": "5d2be1ca",
   "metadata": {},
   "source": [
    "### Ratio-metric\n",
    "\n",
    "$R(U)=\\frac{\\sum_{u\\in U}X(u)}{\\sum_{u\\in U}Y(u)}$\n",
    "\n",
    "- Bootstrap \n",
    "- [Linearization](https://www.stat.cmu.edu/~hseltman/files/ratio.pdf)\n",
    "- [Delta-method](https://arxiv.org/pdf/1803.06336.pdf)"
   ]
  },
  {
   "cell_type": "markdown",
   "id": "aefe50a5",
   "metadata": {},
   "source": [
    "### Comparing Nominal Type I Error rates"
   ]
  },
  {
   "cell_type": "code",
   "execution_count": 1,
   "id": "3bbc9bc0",
   "metadata": {
    "ExecuteTime": {
     "end_time": "2022-10-03T18:19:30.991330Z",
     "start_time": "2022-10-03T18:19:30.926642Z"
    }
   },
   "outputs": [],
   "source": [
    "import numpy as np\n",
    "import numpy.random as npr"
   ]
  },
  {
   "cell_type": "code",
   "execution_count": 2,
   "id": "054b0b57",
   "metadata": {
    "ExecuteTime": {
     "end_time": "2022-10-03T18:19:31.001391Z",
     "start_time": "2022-10-03T18:19:30.992999Z"
    }
   },
   "outputs": [
    {
     "data": {
      "text/plain": [
       "0.0"
      ]
     },
     "execution_count": 2,
     "metadata": {},
     "output_type": "execute_result"
    }
   ],
   "source": [
    "n1=38 #size x\n",
    "n2=22 #size y\n",
    "sd1=1.11 #sd x\n",
    "sd2=1.84 #sd y \n",
    " \n",
    "m1 = 0 # true\n",
    "m2 = 0 # true\n",
    "\n",
    "trueD = (m2 - m1) / (np.sqrt((((n1 - 1) * ((sd1 ** 2))) +\n",
    "                           (n2 - 1) * ((sd2 ** 2))) / ((n1 + n2) - 2)))\n",
    "trueD"
   ]
  },
  {
   "cell_type": "code",
   "execution_count": 3,
   "id": "f0fe7e96",
   "metadata": {
    "ExecuteTime": {
     "end_time": "2022-10-03T18:19:31.006432Z",
     "start_time": "2022-10-03T18:19:31.002643Z"
    }
   },
   "outputs": [],
   "source": [
    "sim_x = npr.normal(m1, sd1, n1)  # simulate participants condition x\n",
    "sim_y = npr.normal(m2, sd2, n2)  # simulate participants condition y"
   ]
  },
  {
   "cell_type": "code",
   "execution_count": 4,
   "id": "dc2c7048",
   "metadata": {
    "ExecuteTime": {
     "end_time": "2022-10-03T18:19:31.460485Z",
     "start_time": "2022-10-03T18:19:31.009005Z"
    }
   },
   "outputs": [],
   "source": [
    "import scipy.stats as sp"
   ]
  },
  {
   "cell_type": "code",
   "execution_count": 5,
   "id": "adc435f1",
   "metadata": {
    "ExecuteTime": {
     "end_time": "2022-10-03T18:19:31.466283Z",
     "start_time": "2022-10-03T18:19:31.462048Z"
    }
   },
   "outputs": [
    {
     "data": {
      "text/plain": [
       "Ttest_indResult(statistic=-1.0549143758531334, pvalue=0.29583913226541814)"
      ]
     },
     "execution_count": 5,
     "metadata": {},
     "output_type": "execute_result"
    }
   ],
   "source": [
    "sp.ttest_ind(sim_x,sim_y, equal_var=True) #t-test"
   ]
  },
  {
   "cell_type": "code",
   "execution_count": 6,
   "id": "8b8c14e4",
   "metadata": {
    "ExecuteTime": {
     "end_time": "2022-10-03T18:19:31.470996Z",
     "start_time": "2022-10-03T18:19:31.467624Z"
    }
   },
   "outputs": [
    {
     "data": {
      "text/plain": [
       "Ttest_indResult(statistic=-0.8639366295067997, pvalue=0.39585312059790423)"
      ]
     },
     "execution_count": 6,
     "metadata": {},
     "output_type": "execute_result"
    }
   ],
   "source": [
    "sp.ttest_ind(sim_x,sim_y, equal_var=False) #Welch"
   ]
  },
  {
   "cell_type": "code",
   "execution_count": 7,
   "id": "497de23c",
   "metadata": {
    "ExecuteTime": {
     "end_time": "2022-10-03T18:19:32.334440Z",
     "start_time": "2022-10-03T18:19:31.472556Z"
    }
   },
   "outputs": [],
   "source": [
    "import pingouin as pg"
   ]
  },
  {
   "cell_type": "code",
   "execution_count": 8,
   "id": "6b2aad0e",
   "metadata": {
    "ExecuteTime": {
     "end_time": "2022-10-03T18:19:32.348954Z",
     "start_time": "2022-10-03T18:19:32.335771Z"
    }
   },
   "outputs": [
    {
     "data": {
      "text/html": [
       "<div>\n",
       "<style scoped>\n",
       "    .dataframe tbody tr th:only-of-type {\n",
       "        vertical-align: middle;\n",
       "    }\n",
       "\n",
       "    .dataframe tbody tr th {\n",
       "        vertical-align: top;\n",
       "    }\n",
       "\n",
       "    .dataframe thead th {\n",
       "        text-align: right;\n",
       "    }\n",
       "</style>\n",
       "<table border=\"1\" class=\"dataframe\">\n",
       "  <thead>\n",
       "    <tr style=\"text-align: right;\">\n",
       "      <th></th>\n",
       "      <th>T</th>\n",
       "      <th>dof</th>\n",
       "      <th>alternative</th>\n",
       "      <th>p-val</th>\n",
       "      <th>CI95%</th>\n",
       "      <th>cohen-d</th>\n",
       "      <th>BF10</th>\n",
       "      <th>power</th>\n",
       "    </tr>\n",
       "  </thead>\n",
       "  <tbody>\n",
       "    <tr>\n",
       "      <th>T-test</th>\n",
       "      <td>-1.054914</td>\n",
       "      <td>58</td>\n",
       "      <td>two-sided</td>\n",
       "      <td>0.295839</td>\n",
       "      <td>[-1.17, 0.36]</td>\n",
       "      <td>0.282611</td>\n",
       "      <td>0.429</td>\n",
       "      <td>0.179507</td>\n",
       "    </tr>\n",
       "  </tbody>\n",
       "</table>\n",
       "</div>"
      ],
      "text/plain": [
       "               T  dof alternative     p-val          CI95%   cohen-d   BF10  \\\n",
       "T-test -1.054914   58   two-sided  0.295839  [-1.17, 0.36]  0.282611  0.429   \n",
       "\n",
       "           power  \n",
       "T-test  0.179507  "
      ]
     },
     "execution_count": 8,
     "metadata": {},
     "output_type": "execute_result"
    }
   ],
   "source": [
    "pg.ttest(sim_x,sim_y, correction=False)"
   ]
  },
  {
   "cell_type": "code",
   "execution_count": 9,
   "id": "5eb119fe",
   "metadata": {
    "ExecuteTime": {
     "end_time": "2022-10-03T18:19:32.361521Z",
     "start_time": "2022-10-03T18:19:32.350303Z"
    }
   },
   "outputs": [
    {
     "data": {
      "text/html": [
       "<div>\n",
       "<style scoped>\n",
       "    .dataframe tbody tr th:only-of-type {\n",
       "        vertical-align: middle;\n",
       "    }\n",
       "\n",
       "    .dataframe tbody tr th {\n",
       "        vertical-align: top;\n",
       "    }\n",
       "\n",
       "    .dataframe thead th {\n",
       "        text-align: right;\n",
       "    }\n",
       "</style>\n",
       "<table border=\"1\" class=\"dataframe\">\n",
       "  <thead>\n",
       "    <tr style=\"text-align: right;\">\n",
       "      <th></th>\n",
       "      <th>T</th>\n",
       "      <th>dof</th>\n",
       "      <th>alternative</th>\n",
       "      <th>p-val</th>\n",
       "      <th>CI95%</th>\n",
       "      <th>cohen-d</th>\n",
       "      <th>BF10</th>\n",
       "      <th>power</th>\n",
       "    </tr>\n",
       "  </thead>\n",
       "  <tbody>\n",
       "    <tr>\n",
       "      <th>T-test</th>\n",
       "      <td>-0.863937</td>\n",
       "      <td>24.948425</td>\n",
       "      <td>two-sided</td>\n",
       "      <td>0.395853</td>\n",
       "      <td>[-1.37, 0.56]</td>\n",
       "      <td>0.282611</td>\n",
       "      <td>0.369</td>\n",
       "      <td>0.179507</td>\n",
       "    </tr>\n",
       "  </tbody>\n",
       "</table>\n",
       "</div>"
      ],
      "text/plain": [
       "               T        dof alternative     p-val          CI95%   cohen-d  \\\n",
       "T-test -0.863937  24.948425   two-sided  0.395853  [-1.37, 0.56]  0.282611   \n",
       "\n",
       "         BF10     power  \n",
       "T-test  0.369  0.179507  "
      ]
     },
     "execution_count": 9,
     "metadata": {},
     "output_type": "execute_result"
    }
   ],
   "source": [
    "pg.ttest(sim_x,sim_y, correction=True)"
   ]
  },
  {
   "cell_type": "code",
   "execution_count": 10,
   "id": "b9cefddc",
   "metadata": {
    "ExecuteTime": {
     "end_time": "2022-10-03T18:19:32.372314Z",
     "start_time": "2022-10-03T18:19:32.365032Z"
    }
   },
   "outputs": [],
   "source": [
    "from statsmodels.stats.weightstats import ttest_ind\n",
    "from scipy.stats import mannwhitneyu"
   ]
  },
  {
   "cell_type": "code",
   "execution_count": 11,
   "id": "a6ddb540",
   "metadata": {
    "ExecuteTime": {
     "end_time": "2022-10-03T18:19:32.377427Z",
     "start_time": "2022-10-03T18:19:32.373619Z"
    }
   },
   "outputs": [
    {
     "data": {
      "text/plain": [
       "(-1.0549143758531336, 0.29583913226541814, 58.0)"
      ]
     },
     "execution_count": 11,
     "metadata": {},
     "output_type": "execute_result"
    }
   ],
   "source": [
    "ttest_ind(sim_x, sim_y,usevar='pooled')"
   ]
  },
  {
   "cell_type": "code",
   "execution_count": 12,
   "id": "40ef3786",
   "metadata": {
    "ExecuteTime": {
     "end_time": "2022-10-03T18:19:32.383587Z",
     "start_time": "2022-10-03T18:19:32.379181Z"
    }
   },
   "outputs": [
    {
     "data": {
      "text/plain": [
       "LeveneResult(statistic=19.86990279880302, pvalue=3.8507897683616645e-05)"
      ]
     },
     "execution_count": 12,
     "metadata": {},
     "output_type": "execute_result"
    }
   ],
   "source": [
    "sp.levene(sim_x, sim_y, center='mean')\n",
    "#     ‘median’: recommended for skewed distributions.\n",
    "#     ‘mean’: recommended for symmetric, moderate-tailed distributions.\n",
    "#     ‘trimmed’: recommended for heavy-tailed distributions."
   ]
  },
  {
   "cell_type": "code",
   "execution_count": 13,
   "id": "185ce4c3",
   "metadata": {
    "ExecuteTime": {
     "end_time": "2022-10-03T18:19:32.388527Z",
     "start_time": "2022-10-03T18:19:32.385240Z"
    }
   },
   "outputs": [
    {
     "data": {
      "text/plain": [
       "(-0.8639366295067998, 0.39585312059790423, 24.948425310198846)"
      ]
     },
     "execution_count": 13,
     "metadata": {},
     "output_type": "execute_result"
    }
   ],
   "source": [
    "ttest_ind(sim_x, sim_y,usevar='unequal')"
   ]
  },
  {
   "cell_type": "code",
   "execution_count": 14,
   "id": "7600b5ce",
   "metadata": {
    "ExecuteTime": {
     "end_time": "2022-10-03T18:19:32.561267Z",
     "start_time": "2022-10-03T18:19:32.390009Z"
    }
   },
   "outputs": [
    {
     "data": {
      "text/plain": [
       "MannwhitneyuResult(statistic=363.0, pvalue=0.4061751221843095)"
      ]
     },
     "execution_count": 14,
     "metadata": {},
     "output_type": "execute_result"
    }
   ],
   "source": [
    "mannwhitneyu(sim_x, sim_y, method='exact')"
   ]
  },
  {
   "cell_type": "code",
   "execution_count": 15,
   "id": "40b01bc8",
   "metadata": {
    "ExecuteTime": {
     "end_time": "2022-10-03T18:19:38.469049Z",
     "start_time": "2022-10-03T18:19:32.562476Z"
    }
   },
   "outputs": [],
   "source": [
    "# create variables for dataframe\n",
    "nSims = 5000 \n",
    "# set up empty container for all simulated Student's t-test p-values\n",
    "p1 = [] \n",
    "# set up empty container for all simulated Welch's t-test p-values\n",
    "p2 = [] \n",
    "# set up empty container for all simulated MW's p-values \n",
    "p3 = []\n",
    "# set up empty container for all Levene's t-test p-values\n",
    "pvalueLevene = [] \n",
    "for i in range(1, nSims):\n",
    "    # for each simulated experiment\n",
    "    sim_x = npr.normal(m1, sd1, n1)  # simulate participants condition x\n",
    "    sim_y = npr.normal(m2, sd2, n2)  # simulate participants condition y\n",
    "    # perform Student and Welch t-test and MW\n",
    "    # perform the tests and store p-value\n",
    "    p1.append(ttest_ind(sim_x,sim_y, usevar='pooled')[1])\n",
    "    p2.append(ttest_ind(sim_x,sim_y, usevar='unequal')[1])\n",
    "    p3.append(mannwhitneyu(sim_x, sim_y, method=\"exact\")[1])\n",
    "\n",
    "    # perform Levene's test\n",
    "    pvalueLevene.append(sp.levene(sim_x,sim_y, center='mean')[1])"
   ]
  },
  {
   "cell_type": "code",
   "execution_count": 16,
   "id": "67fa8557",
   "metadata": {
    "ExecuteTime": {
     "end_time": "2022-10-03T18:19:38.473942Z",
     "start_time": "2022-10-03T18:19:38.470509Z"
    }
   },
   "outputs": [
    {
     "data": {
      "text/plain": [
       "0.3639236767485823"
      ]
     },
     "execution_count": 16,
     "metadata": {},
     "output_type": "execute_result"
    }
   ],
   "source": [
    "var_ratio = sd1 ** 2 / sd2 ** 2\n",
    "var_ratio"
   ]
  },
  {
   "cell_type": "code",
   "execution_count": 17,
   "id": "92f428ea",
   "metadata": {
    "ExecuteTime": {
     "end_time": "2022-10-03T18:19:38.478207Z",
     "start_time": "2022-10-03T18:19:38.475152Z"
    }
   },
   "outputs": [],
   "source": [
    "import matplotlib.pyplot as plt"
   ]
  },
  {
   "cell_type": "code",
   "execution_count": 18,
   "id": "46d69bd5",
   "metadata": {
    "ExecuteTime": {
     "end_time": "2022-10-03T18:19:38.627935Z",
     "start_time": "2022-10-03T18:19:38.479773Z"
    }
   },
   "outputs": [
    {
     "data": {
      "image/png": "[encoded data removed]",
      "text/plain": [
       "<Figure size 432x288 with 1 Axes>"
      ]
     },
     "metadata": {
      "needs_background": "light"
     },
     "output_type": "display_data"
    }
   ],
   "source": [
    "plt.hist(p1);"
   ]
  },
  {
   "cell_type": "code",
   "execution_count": 19,
   "id": "5bfe1e2a",
   "metadata": {
    "ExecuteTime": {
     "end_time": "2022-10-03T18:19:38.643955Z",
     "start_time": "2022-10-03T18:19:38.629890Z"
    }
   },
   "outputs": [
    {
     "data": {
      "text/plain": [
       "8.48"
      ]
     },
     "execution_count": 19,
     "metadata": {},
     "output_type": "execute_result"
    }
   ],
   "source": [
    "# Calculate Type 1 error in simulation for Student t-test\n",
    "errorrate = sum(np.array(p1) < 0.05) / nSims * 100\n",
    "errorrate"
   ]
  },
  {
   "cell_type": "code",
   "execution_count": 20,
   "id": "f1cacfd5",
   "metadata": {
    "ExecuteTime": {
     "end_time": "2022-10-03T18:19:38.785949Z",
     "start_time": "2022-10-03T18:19:38.645919Z"
    }
   },
   "outputs": [
    {
     "data": {
      "image/png": "[encoded data removed]",
      "text/plain": [
       "<Figure size 432x288 with 1 Axes>"
      ]
     },
     "metadata": {
      "needs_background": "light"
     },
     "output_type": "display_data"
    }
   ],
   "source": [
    "plt.hist(p2);"
   ]
  },
  {
   "cell_type": "code",
   "execution_count": 21,
   "id": "aaf8f111",
   "metadata": {
    "ExecuteTime": {
     "end_time": "2022-10-03T18:19:38.798925Z",
     "start_time": "2022-10-03T18:19:38.787422Z"
    }
   },
   "outputs": [
    {
     "data": {
      "text/plain": [
       "5.46"
      ]
     },
     "execution_count": 21,
     "metadata": {},
     "output_type": "execute_result"
    }
   ],
   "source": [
    "# Calculate Type 1 error in simulation for Welch t-test\n",
    "errorrate = sum(np.array(p2) < 0.05) / nSims * 100\n",
    "errorrate"
   ]
  },
  {
   "cell_type": "code",
   "execution_count": 22,
   "id": "b9d048e8",
   "metadata": {
    "ExecuteTime": {
     "end_time": "2022-10-03T18:19:38.898338Z",
     "start_time": "2022-10-03T18:19:38.800167Z"
    }
   },
   "outputs": [
    {
     "data": {
      "image/png": "[encoded data removed]",
      "text/plain": [
       "<Figure size 432x288 with 1 Axes>"
      ]
     },
     "metadata": {
      "needs_background": "light"
     },
     "output_type": "display_data"
    }
   ],
   "source": [
    "plt.hist(p3);"
   ]
  },
  {
   "cell_type": "code",
   "execution_count": 23,
   "id": "5ed1cf78",
   "metadata": {
    "ExecuteTime": {
     "end_time": "2022-10-03T18:19:38.911584Z",
     "start_time": "2022-10-03T18:19:38.899616Z"
    }
   },
   "outputs": [
    {
     "data": {
      "text/plain": [
       "7.24"
      ]
     },
     "execution_count": 23,
     "metadata": {},
     "output_type": "execute_result"
    }
   ],
   "source": [
    "# Calculate Type 1 error in simulation for MW test\n",
    "errorrate = sum(np.array(p3) < 0.05) / nSims * 100\n",
    "errorrate"
   ]
  },
  {
   "cell_type": "code",
   "execution_count": 24,
   "id": "c2fa8cd4",
   "metadata": {
    "ExecuteTime": {
     "end_time": "2022-10-03T18:19:39.021546Z",
     "start_time": "2022-10-03T18:19:38.913005Z"
    }
   },
   "outputs": [
    {
     "data": {
      "image/png": "[encoded data removed]",
      "text/plain": [
       "<Figure size 432x288 with 1 Axes>"
      ]
     },
     "metadata": {
      "needs_background": "light"
     },
     "output_type": "display_data"
    }
   ],
   "source": [
    "plt.scatter(p1,p2,alpha=0.05)\n",
    "x = np.linspace(0, 1)\n",
    "y = x\n",
    "plt.plot(x, y, color='red');"
   ]
  },
  {
   "cell_type": "code",
   "execution_count": 25,
   "id": "b8380661",
   "metadata": {
    "ExecuteTime": {
     "end_time": "2022-10-03T18:19:39.191847Z",
     "start_time": "2022-10-03T18:19:39.023175Z"
    }
   },
   "outputs": [
    {
     "data": {
      "text/plain": [
       "<matplotlib.lines.Line2D at 0x7f0392da71f0>"
      ]
     },
     "execution_count": 25,
     "metadata": {},
     "output_type": "execute_result"
    },
    {
     "data": {
      "image/png": "[encoded data removed]",
      "text/plain": [
       "<Figure size 432x288 with 1 Axes>"
      ]
     },
     "metadata": {
      "needs_background": "light"
     },
     "output_type": "display_data"
    }
   ],
   "source": [
    "plt.scatter(p1,p2,alpha=0.05)\n",
    "plt.xlim([0,0.15])\n",
    "plt.ylim([0,0.15])\n",
    "x = np.linspace(0, 1)\n",
    "y = x\n",
    "plt.plot(x, y, color='red')\n",
    "plt.axhline(y=0.05, color='k', linestyle='--')\n",
    "plt.axvline(x=0.05, color='k', linestyle='--')"
   ]
  },
  {
   "cell_type": "code",
   "execution_count": 26,
   "id": "9b0dee23",
   "metadata": {
    "ExecuteTime": {
     "end_time": "2022-10-03T18:19:39.203971Z",
     "start_time": "2022-10-03T18:19:39.193194Z"
    }
   },
   "outputs": [
    {
     "data": {
      "text/plain": [
       "67.14"
      ]
     },
     "execution_count": 26,
     "metadata": {},
     "output_type": "execute_result"
    }
   ],
   "source": [
    "observedpowerLevene = sum(np.array(pvalueLevene) < 0.05) / nSims * 100\n",
    "observedpowerLevene"
   ]
  }
 ],
 "metadata": {
  "hide_input": false,
  "kernelspec": {
   "display_name": "Python 3 (ipykernel)",
   "language": "python",
   "name": "python3"
  },
  "language_info": {
   "codemirror_mode": {
    "name": "ipython",
    "version": 3
   },
   "file_extension": ".py",
   "mimetype": "text/x-python",
   "name": "python",
   "nbconvert_exporter": "python",
   "pygments_lexer": "ipython3",
   "version": "3.10.6"
  },
  "latex_envs": {
   "LaTeX_envs_menu_present": true,
   "autoclose": true,
   "autocomplete": true,
   "bibliofile": "biblio.bib",
   "cite_by": "apalike",
   "current_citInitial": 1,
   "eqLabelWithNumbers": true,
   "eqNumInitial": 1,
   "hotkeys": {
    "equation": "Ctrl-E",
    "itemize": "Ctrl-I"
   },
   "labels_anchors": false,
   "latex_user_defs": false,
   "report_style_numbering": false,
   "user_envs_cfg": false
  },
  "toc": {
   "base_numbering": 1,
   "nav_menu": {},
   "number_sections": true,
   "sideBar": true,
   "skip_h1_title": false,
   "title_cell": "Table of Contents",
   "title_sidebar": "Contents",
   "toc_cell": false,
   "toc_position": {},
   "toc_section_display": true,
   "toc_window_display": false
  },
  "varInspector": {
   "cols": {
    "lenName": 16,
    "lenType": 16,
    "lenVar": 40
   },
   "kernels_config": {
    "python": {
     "delete_cmd_postfix": "",
     "delete_cmd_prefix": "del ",
     "library": "var_list.py",
     "varRefreshCmd": "print(var_dic_list())"
    },
    "r": {
     "delete_cmd_postfix": ") ",
     "delete_cmd_prefix": "rm(",
     "library": "var_list.r",
     "varRefreshCmd": "cat(var_dic_list()) "
    }
   },
   "types_to_exclude": [
    "module",
    "function",
    "builtin_function_or_method",
    "instance",
    "_Feature"
   ],
   "window_display": false
  }
 },
 "nbformat": 4,
 "nbformat_minor": 5
}

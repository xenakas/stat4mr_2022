{
 "cells": [
  {
   "cell_type": "code",
   "execution_count": 2,
   "id": "e771babb",
   "metadata": {
    "ExecuteTime": {
     "end_time": "2021-10-02T10:50:44.117977Z",
     "start_time": "2021-10-02T10:50:44.115982Z"
    }
   },
   "outputs": [],
   "source": [
    "import numpy as np\n",
    "import numpy.random as npr"
   ]
  },
  {
   "cell_type": "code",
   "execution_count": 17,
   "id": "7ef07945",
   "metadata": {
    "ExecuteTime": {
     "end_time": "2021-10-02T10:57:49.869904Z",
     "start_time": "2021-10-02T10:57:49.866202Z"
    }
   },
   "outputs": [],
   "source": [
    "\n",
    "x = npr.normal(m1,sd1,n1)\n",
    "y = npr.normal(m2,sd2,n2)"
   ]
  },
  {
   "cell_type": "code",
   "execution_count": 8,
   "id": "9e8ca50e",
   "metadata": {
    "ExecuteTime": {
     "end_time": "2021-10-02T10:54:57.925724Z",
     "start_time": "2021-10-02T10:54:57.923631Z"
    }
   },
   "outputs": [],
   "source": [
    "import statsmodels.stats.weightstats as smw"
   ]
  },
  {
   "cell_type": "code",
   "execution_count": 11,
   "id": "e0465edb",
   "metadata": {
    "ExecuteTime": {
     "end_time": "2021-10-02T10:55:17.092552Z",
     "start_time": "2021-10-02T10:55:17.081895Z"
    }
   },
   "outputs": [
    {
     "data": {
      "text/plain": [
       "(-0.5533269408533764, 0.5817074965474656, 74.0)"
      ]
     },
     "execution_count": 11,
     "metadata": {},
     "output_type": "execute_result"
    }
   ],
   "source": [
    "smw.ttest_ind(x,y, usevar='pooled')"
   ]
  },
  {
   "cell_type": "code",
   "execution_count": 13,
   "id": "7bd6a25c",
   "metadata": {
    "ExecuteTime": {
     "end_time": "2021-10-02T10:55:24.070305Z",
     "start_time": "2021-10-02T10:55:24.066754Z"
    }
   },
   "outputs": [
    {
     "data": {
      "text/plain": [
       "(-0.5533269408533764, 0.5817083695088712, 73.96120317300827)"
      ]
     },
     "execution_count": 13,
     "metadata": {},
     "output_type": "execute_result"
    }
   ],
   "source": [
    "smw.ttest_ind(x,y, usevar='unequal')"
   ]
  },
  {
   "cell_type": "code",
   "execution_count": 14,
   "id": "cc3d4603",
   "metadata": {
    "ExecuteTime": {
     "end_time": "2021-10-02T10:55:59.303312Z",
     "start_time": "2021-10-02T10:55:58.860461Z"
    }
   },
   "outputs": [],
   "source": [
    "import pingouin as pg"
   ]
  },
  {
   "cell_type": "code",
   "execution_count": 18,
   "id": "08125bdd",
   "metadata": {
    "ExecuteTime": {
     "end_time": "2021-10-02T10:57:52.168379Z",
     "start_time": "2021-10-02T10:57:52.156139Z"
    }
   },
   "outputs": [
    {
     "data": {
      "text/html": [
       "<div>\n",
       "<style scoped>\n",
       "    .dataframe tbody tr th:only-of-type {\n",
       "        vertical-align: middle;\n",
       "    }\n",
       "\n",
       "    .dataframe tbody tr th {\n",
       "        vertical-align: top;\n",
       "    }\n",
       "\n",
       "    .dataframe thead th {\n",
       "        text-align: right;\n",
       "    }\n",
       "</style>\n",
       "<table border=\"1\" class=\"dataframe\">\n",
       "  <thead>\n",
       "    <tr style=\"text-align: right;\">\n",
       "      <th></th>\n",
       "      <th>U-val</th>\n",
       "      <th>alternative</th>\n",
       "      <th>p-val</th>\n",
       "      <th>RBC</th>\n",
       "      <th>CLES</th>\n",
       "    </tr>\n",
       "  </thead>\n",
       "  <tbody>\n",
       "    <tr>\n",
       "      <th>MWU</th>\n",
       "      <td>9.0</td>\n",
       "      <td>two-sided</td>\n",
       "      <td>0.547619</td>\n",
       "      <td>0.28</td>\n",
       "      <td>0.36</td>\n",
       "    </tr>\n",
       "  </tbody>\n",
       "</table>\n",
       "</div>"
      ],
      "text/plain": [
       "     U-val alternative     p-val   RBC  CLES\n",
       "MWU    9.0   two-sided  0.547619  0.28  0.36"
      ]
     },
     "execution_count": 18,
     "metadata": {},
     "output_type": "execute_result"
    }
   ],
   "source": [
    "pg.mwu(x,y,alternative='two-sided')"
   ]
  },
  {
   "cell_type": "code",
   "execution_count": 21,
   "id": "bb89db02",
   "metadata": {
    "ExecuteTime": {
     "end_time": "2021-10-02T11:00:04.507736Z",
     "start_time": "2021-10-02T11:00:04.502115Z"
    }
   },
   "outputs": [
    {
     "data": {
      "text/plain": [
       "0.5476190476190477"
      ]
     },
     "execution_count": 21,
     "metadata": {},
     "output_type": "execute_result"
    }
   ],
   "source": [
    "pg.mwu(x,y,alternative='two-sided', method='exact').iloc[0,2]"
   ]
  },
  {
   "cell_type": "code",
   "execution_count": 64,
   "id": "1776ba8d",
   "metadata": {
    "ExecuteTime": {
     "end_time": "2021-10-02T11:12:49.038854Z",
     "start_time": "2021-10-02T11:12:49.036338Z"
    }
   },
   "outputs": [],
   "source": [
    "n1 = 10\n",
    "n2 = 10\n",
    "sd1 = 1.11\n",
    "sd2 = 1.84\n",
    "m1 = 0 \n",
    "m2 = 1"
   ]
  },
  {
   "cell_type": "code",
   "execution_count": 71,
   "id": "40f36d16",
   "metadata": {
    "ExecuteTime": {
     "end_time": "2021-10-02T11:18:34.563334Z",
     "start_time": "2021-10-02T11:18:27.990703Z"
    }
   },
   "outputs": [],
   "source": [
    "nSims = 1000\n",
    "pow1 = []\n",
    "pow2 = []\n",
    "pow3 = []\n",
    "for n in [2,5,10,20,50]:\n",
    "    p1 = [] # t-test\n",
    "    p2 = [] # Welch- test\n",
    "    p3 = [] # MW\n",
    "#     m1=0\n",
    "#     m2=0+j\n",
    "    j=0.2\n",
    "    for i in range(nSims):\n",
    "#         x = npr.normal(m1,sd1,n1)\n",
    "#         y = npr.normal(m2,sd2,n2)\n",
    "#         x = npr.uniform(0,1,n)\n",
    "#         y = npr.uniform(0+j,1+j,n)\n",
    "        x = npr.exponential(1,n)\n",
    "        y = npr.exponential(5,n)\n",
    "\n",
    "\n",
    "        p1.append(smw.ttest_ind(x,y, usevar='pooled')[1])\n",
    "        p2.append(smw.ttest_ind(x,y, usevar='unequal')[1])\n",
    "        p3.append(pg.mwu(x,y,alternative='two-sided').iloc[0,2])\n",
    "    pow1.append(sum(np.array(p1)<0.05)/nSims * 100)\n",
    "    pow2.append(sum(np.array(p2)<0.05)/nSims * 100)\n",
    "    pow3.append(sum(np.array(p3)<0.05)/nSims * 100)\n",
    "    "
   ]
  },
  {
   "cell_type": "code",
   "execution_count": 53,
   "id": "8ce3bf3e",
   "metadata": {
    "ExecuteTime": {
     "end_time": "2021-10-02T11:08:40.489655Z",
     "start_time": "2021-10-02T11:08:40.486614Z"
    }
   },
   "outputs": [
    {
     "data": {
      "text/plain": [
       "[4.5, 5.8999999999999995, 26.5, 72.5, 99.9]"
      ]
     },
     "execution_count": 53,
     "metadata": {},
     "output_type": "execute_result"
    }
   ],
   "source": [
    "pow1"
   ]
  },
  {
   "cell_type": "code",
   "execution_count": 54,
   "id": "ffdc5f35",
   "metadata": {
    "ExecuteTime": {
     "end_time": "2021-10-02T11:09:16.681957Z",
     "start_time": "2021-10-02T11:09:16.679749Z"
    }
   },
   "outputs": [],
   "source": [
    "import pandas as pd"
   ]
  },
  {
   "cell_type": "code",
   "execution_count": 72,
   "id": "041dc618",
   "metadata": {
    "ExecuteTime": {
     "end_time": "2021-10-02T11:18:39.275143Z",
     "start_time": "2021-10-02T11:18:39.154489Z"
    }
   },
   "outputs": [
    {
     "data": {
      "text/plain": [
       "<matplotlib.legend.Legend at 0x7f49c3c51370>"
      ]
     },
     "execution_count": 72,
     "metadata": {},
     "output_type": "execute_result"
    },
    {
     "data": {
      "image/png": "[encoded data removed]",
      "text/plain": [
       "<Figure size 432x288 with 1 Axes>"
      ]
     },
     "metadata": {
      "needs_background": "light"
     },
     "output_type": "display_data"
    }
   ],
   "source": [
    "plt.plot(pd.DataFrame([pow1,pow2,pow3]).T.iloc[1:,:])\n",
    "plt.legend([1,2,3])"
   ]
  },
  {
   "cell_type": "code",
   "execution_count": 23,
   "id": "9474c49e",
   "metadata": {
    "ExecuteTime": {
     "end_time": "2021-10-02T11:00:30.262561Z",
     "start_time": "2021-10-02T11:00:30.257010Z"
    }
   },
   "outputs": [],
   "source": [
    "import matplotlib.pyplot as plt"
   ]
  },
  {
   "cell_type": "code",
   "execution_count": 44,
   "id": "8a585287",
   "metadata": {
    "ExecuteTime": {
     "end_time": "2021-10-02T11:04:46.676336Z",
     "start_time": "2021-10-02T11:04:46.674614Z"
    }
   },
   "outputs": [],
   "source": [
    "# plt.hist(p1);"
   ]
  },
  {
   "cell_type": "code",
   "execution_count": 45,
   "id": "22f9c357",
   "metadata": {
    "ExecuteTime": {
     "end_time": "2021-10-02T11:04:48.209117Z",
     "start_time": "2021-10-02T11:04:48.205366Z"
    }
   },
   "outputs": [],
   "source": [
    "# plt.hist(p2);"
   ]
  },
  {
   "cell_type": "code",
   "execution_count": 46,
   "id": "8aa340b0",
   "metadata": {
    "ExecuteTime": {
     "end_time": "2021-10-02T11:04:49.874981Z",
     "start_time": "2021-10-02T11:04:49.869948Z"
    }
   },
   "outputs": [],
   "source": [
    "# plt.hist(p3);"
   ]
  },
  {
   "cell_type": "code",
   "execution_count": 36,
   "id": "c65fb506",
   "metadata": {
    "ExecuteTime": {
     "end_time": "2021-10-02T11:03:35.120550Z",
     "start_time": "2021-10-02T11:03:35.103024Z"
    }
   },
   "outputs": [
    {
     "data": {
      "text/plain": [
       "8.0"
      ]
     },
     "execution_count": 36,
     "metadata": {},
     "output_type": "execute_result"
    }
   ],
   "source": [
    "errorrate = sum(np.array(p1) < 0.05) / nSims * 100\n",
    "errorrate"
   ]
  },
  {
   "cell_type": "code",
   "execution_count": 37,
   "id": "b6a038b5",
   "metadata": {
    "ExecuteTime": {
     "end_time": "2021-10-02T11:03:36.818257Z",
     "start_time": "2021-10-02T11:03:36.796652Z"
    }
   },
   "outputs": [
    {
     "data": {
      "text/plain": [
       "6.1"
      ]
     },
     "execution_count": 37,
     "metadata": {},
     "output_type": "execute_result"
    }
   ],
   "source": [
    "errorrate = sum(np.array(p2)<0.05)/nSims * 100\n",
    "errorrate"
   ]
  },
  {
   "cell_type": "code",
   "execution_count": 38,
   "id": "acd82602",
   "metadata": {
    "ExecuteTime": {
     "end_time": "2021-10-02T11:03:38.691317Z",
     "start_time": "2021-10-02T11:03:38.667342Z"
    }
   },
   "outputs": [
    {
     "data": {
      "text/plain": [
       "7.199999999999999"
      ]
     },
     "execution_count": 38,
     "metadata": {},
     "output_type": "execute_result"
    }
   ],
   "source": [
    "errorrate = sum(np.array(p3)<0.05)/nSims * 100\n",
    "errorrate"
   ]
  },
  {
   "cell_type": "code",
   "execution_count": 47,
   "id": "a2df9e03",
   "metadata": {
    "ExecuteTime": {
     "end_time": "2021-10-02T11:05:27.476901Z",
     "start_time": "2021-10-02T11:05:27.471795Z"
    }
   },
   "outputs": [
    {
     "data": {
      "text/plain": [
       "68.89999999999999"
      ]
     },
     "execution_count": 47,
     "metadata": {},
     "output_type": "execute_result"
    }
   ],
   "source": [
    "power = sum(np.array(p1)<0.05)/nSims * 100\n",
    "power"
   ]
  },
  {
   "cell_type": "code",
   "execution_count": 48,
   "id": "3bedd5af",
   "metadata": {
    "ExecuteTime": {
     "end_time": "2021-10-02T11:05:28.522493Z",
     "start_time": "2021-10-02T11:05:28.517328Z"
    }
   },
   "outputs": [
    {
     "data": {
      "text/plain": [
       "68.10000000000001"
      ]
     },
     "execution_count": 48,
     "metadata": {},
     "output_type": "execute_result"
    }
   ],
   "source": [
    "power = sum(np.array(p2)<0.05)/nSims * 100\n",
    "power"
   ]
  },
  {
   "cell_type": "code",
   "execution_count": 49,
   "id": "33b3ce8d",
   "metadata": {
    "ExecuteTime": {
     "end_time": "2021-10-02T11:05:30.560969Z",
     "start_time": "2021-10-02T11:05:30.555954Z"
    }
   },
   "outputs": [
    {
     "data": {
      "text/plain": [
       "65.5"
      ]
     },
     "execution_count": 49,
     "metadata": {},
     "output_type": "execute_result"
    }
   ],
   "source": [
    "power = sum(np.array(p3)<0.05)/nSims * 100\n",
    "power"
   ]
  },
  {
   "cell_type": "code",
   "execution_count": null,
   "id": "70e8d115",
   "metadata": {},
   "outputs": [],
   "source": []
  }
 ],
 "metadata": {
  "hide_input": false,
  "kernelspec": {
   "display_name": "Python 3 (ipykernel)",
   "language": "python",
   "name": "python3"
  },
  "language_info": {
   "codemirror_mode": {
    "name": "ipython",
    "version": 3
   },
   "file_extension": ".py",
   "mimetype": "text/x-python",
   "name": "python",
   "nbconvert_exporter": "python",
   "pygments_lexer": "ipython3",
   "version": "3.10.6"
  },
  "latex_envs": {
   "LaTeX_envs_menu_present": true,
   "autoclose": true,
   "autocomplete": true,
   "bibliofile": "biblio.bib",
   "cite_by": "apalike",
   "current_citInitial": 1,
   "eqLabelWithNumbers": true,
   "eqNumInitial": 1,
   "hotkeys": {
    "equation": "Ctrl-E",
    "itemize": "Ctrl-I"
   },
   "labels_anchors": false,
   "latex_user_defs": false,
   "report_style_numbering": false,
   "user_envs_cfg": false
  },
  "toc": {
   "base_numbering": 1,
   "nav_menu": {},
   "number_sections": true,
   "sideBar": true,
   "skip_h1_title": false,
   "title_cell": "Table of Contents",
   "title_sidebar": "Contents",
   "toc_cell": false,
   "toc_position": {},
   "toc_section_display": true,
   "toc_window_display": false
  },
  "varInspector": {
   "cols": {
    "lenName": 16,
    "lenType": 16,
    "lenVar": 40
   },
   "kernels_config": {
    "python": {
     "delete_cmd_postfix": "",
     "delete_cmd_prefix": "del ",
     "library": "var_list.py",
     "varRefreshCmd": "print(var_dic_list())"
    },
    "r": {
     "delete_cmd_postfix": ") ",
     "delete_cmd_prefix": "rm(",
     "library": "var_list.r",
     "varRefreshCmd": "cat(var_dic_list()) "
    }
   },
   "types_to_exclude": [
    "module",
    "function",
    "builtin_function_or_method",
    "instance",
    "_Feature"
   ],
   "window_display": false
  }
 },
 "nbformat": 4,
 "nbformat_minor": 5
}

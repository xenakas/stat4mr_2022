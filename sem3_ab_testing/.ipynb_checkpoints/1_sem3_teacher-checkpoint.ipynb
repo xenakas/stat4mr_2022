{
 "cells": [
  {
   "cell_type": "markdown",
   "id": "ff4d9dfe",
   "metadata": {},
   "source": [
    "### Ratio-metric\n",
    "\n",
    "$R(U)=\\frac{\\sum_{u\\in U}X(u)}{\\sum_{u\\in U}Y(u)}$\n",
    "\n",
    "- Bootstrap \n",
    "- [Linearization](https://www.stat.cmu.edu/~hseltman/files/ratio.pdf)\n",
    "- [Delta-method](https://arxiv.org/pdf/1803.06336.pdf)"
   ]
  },
  {
   "cell_type": "markdown",
   "id": "21cb3192",
   "metadata": {},
   "source": [
    "### Comparing Nominal Type I Error rates"
   ]
  },
  {
   "cell_type": "markdown",
   "id": "60db21ca",
   "metadata": {},
   "source": [
    "http://daniellakens.blogspot.com/2015/01/always-use-welchs-t-test-instead-of.html"
   ]
  },
  {
   "cell_type": "code",
   "execution_count": 1,
   "id": "3bbc9bc0",
   "metadata": {
    "ExecuteTime": {
     "end_time": "2022-10-03T07:39:18.240268Z",
     "start_time": "2022-10-03T07:39:18.230757Z"
    }
   },
   "outputs": [],
   "source": [
    "import numpy as np\n",
    "import numpy.random as npr"
   ]
  },
  {
   "cell_type": "code",
   "execution_count": 61,
   "id": "054b0b57",
   "metadata": {
    "ExecuteTime": {
     "end_time": "2022-10-03T10:44:32.431560Z",
     "start_time": "2022-10-03T10:44:32.419419Z"
    }
   },
   "outputs": [
    {
     "data": {
      "text/plain": [
       "0.0"
      ]
     },
     "execution_count": 61,
     "metadata": {},
     "output_type": "execute_result"
    }
   ],
   "source": [
    "n1=38 #size x\n",
    "n2=22 #size y\n",
    "sd1=1.11 #sd x\n",
    "sd2=1.84 #sd y \n",
    " \n",
    "m1 = 0 # true\n",
    "m2 = 0 # true\n",
    "\n",
    "trueD = (m2 - m1) / (np.sqrt((((n1 - 1) * ((sd1 ** 2))) +\n",
    "                           (n2 - 1) * ((sd2 ** 2))) / ((n1 + n2) - 2)))\n",
    "trueD"
   ]
  },
  {
   "cell_type": "code",
   "execution_count": 67,
   "id": "f0fe7e96",
   "metadata": {
    "ExecuteTime": {
     "end_time": "2022-10-03T10:44:50.595601Z",
     "start_time": "2022-10-03T10:44:50.588639Z"
    }
   },
   "outputs": [],
   "source": [
    "sim_x = npr.normal(m1, sd1, n1)  # simulate participants condition x\n",
    "sim_y = npr.normal(m2, sd2, n2)  # simulate participants condition y"
   ]
  },
  {
   "cell_type": "code",
   "execution_count": 64,
   "id": "dc2c7048",
   "metadata": {
    "ExecuteTime": {
     "end_time": "2022-10-03T10:44:40.564768Z",
     "start_time": "2022-10-03T10:44:40.556838Z"
    }
   },
   "outputs": [],
   "source": [
    "import scipy.stats as sp"
   ]
  },
  {
   "cell_type": "code",
   "execution_count": 68,
   "id": "adc435f1",
   "metadata": {
    "ExecuteTime": {
     "end_time": "2022-10-03T10:44:51.520434Z",
     "start_time": "2022-10-03T10:44:51.509088Z"
    }
   },
   "outputs": [
    {
     "data": {
      "text/plain": [
       "Ttest_indResult(statistic=-1.693769828274457, pvalue=0.09567349778406734)"
      ]
     },
     "execution_count": 68,
     "metadata": {},
     "output_type": "execute_result"
    }
   ],
   "source": [
    "sp.ttest_ind(sim_x,sim_y, equal_var=True)"
   ]
  },
  {
   "cell_type": "code",
   "execution_count": 69,
   "id": "8b8c14e4",
   "metadata": {
    "ExecuteTime": {
     "end_time": "2022-10-03T10:44:51.922547Z",
     "start_time": "2022-10-03T10:44:51.911266Z"
    }
   },
   "outputs": [
    {
     "data": {
      "text/plain": [
       "Ttest_indResult(statistic=-1.4418173367260172, pvalue=0.1606664978913802)"
      ]
     },
     "execution_count": 69,
     "metadata": {},
     "output_type": "execute_result"
    }
   ],
   "source": [
    "sp.ttest_ind(sim_x,sim_y, equal_var=False)"
   ]
  },
  {
   "cell_type": "code",
   "execution_count": 71,
   "id": "497de23c",
   "metadata": {
    "ExecuteTime": {
     "end_time": "2022-10-03T10:48:54.822868Z",
     "start_time": "2022-10-03T10:48:54.819968Z"
    }
   },
   "outputs": [],
   "source": [
    "import pingouin as pg"
   ]
  },
  {
   "cell_type": "code",
   "execution_count": 72,
   "id": "6b2aad0e",
   "metadata": {
    "ExecuteTime": {
     "end_time": "2022-10-03T10:48:55.181372Z",
     "start_time": "2022-10-03T10:48:55.156888Z"
    }
   },
   "outputs": [
    {
     "data": {
      "text/html": [
       "<div>\n",
       "<style scoped>\n",
       "    .dataframe tbody tr th:only-of-type {\n",
       "        vertical-align: middle;\n",
       "    }\n",
       "\n",
       "    .dataframe tbody tr th {\n",
       "        vertical-align: top;\n",
       "    }\n",
       "\n",
       "    .dataframe thead th {\n",
       "        text-align: right;\n",
       "    }\n",
       "</style>\n",
       "<table border=\"1\" class=\"dataframe\">\n",
       "  <thead>\n",
       "    <tr style=\"text-align: right;\">\n",
       "      <th></th>\n",
       "      <th>T</th>\n",
       "      <th>dof</th>\n",
       "      <th>alternative</th>\n",
       "      <th>p-val</th>\n",
       "      <th>CI95%</th>\n",
       "      <th>cohen-d</th>\n",
       "      <th>BF10</th>\n",
       "      <th>power</th>\n",
       "    </tr>\n",
       "  </thead>\n",
       "  <tbody>\n",
       "    <tr>\n",
       "      <th>T-test</th>\n",
       "      <td>-1.69377</td>\n",
       "      <td>58</td>\n",
       "      <td>two-sided</td>\n",
       "      <td>0.095673</td>\n",
       "      <td>[-1.4, 0.12]</td>\n",
       "      <td>0.453761</td>\n",
       "      <td>0.882</td>\n",
       "      <td>0.384434</td>\n",
       "    </tr>\n",
       "  </tbody>\n",
       "</table>\n",
       "</div>"
      ],
      "text/plain": [
       "              T  dof alternative     p-val         CI95%   cohen-d   BF10  \\\n",
       "T-test -1.69377   58   two-sided  0.095673  [-1.4, 0.12]  0.453761  0.882   \n",
       "\n",
       "           power  \n",
       "T-test  0.384434  "
      ]
     },
     "execution_count": 72,
     "metadata": {},
     "output_type": "execute_result"
    }
   ],
   "source": [
    "pg.ttest(sim_x,sim_y, correction=False)"
   ]
  },
  {
   "cell_type": "code",
   "execution_count": 73,
   "id": "5eb119fe",
   "metadata": {
    "ExecuteTime": {
     "end_time": "2022-10-03T10:48:55.589969Z",
     "start_time": "2022-10-03T10:48:55.572352Z"
    }
   },
   "outputs": [
    {
     "data": {
      "text/html": [
       "<div>\n",
       "<style scoped>\n",
       "    .dataframe tbody tr th:only-of-type {\n",
       "        vertical-align: middle;\n",
       "    }\n",
       "\n",
       "    .dataframe tbody tr th {\n",
       "        vertical-align: top;\n",
       "    }\n",
       "\n",
       "    .dataframe thead th {\n",
       "        text-align: right;\n",
       "    }\n",
       "</style>\n",
       "<table border=\"1\" class=\"dataframe\">\n",
       "  <thead>\n",
       "    <tr style=\"text-align: right;\">\n",
       "      <th></th>\n",
       "      <th>T</th>\n",
       "      <th>dof</th>\n",
       "      <th>alternative</th>\n",
       "      <th>p-val</th>\n",
       "      <th>CI95%</th>\n",
       "      <th>cohen-d</th>\n",
       "      <th>BF10</th>\n",
       "      <th>power</th>\n",
       "    </tr>\n",
       "  </thead>\n",
       "  <tbody>\n",
       "    <tr>\n",
       "      <th>T-test</th>\n",
       "      <td>-1.441817</td>\n",
       "      <td>27.450148</td>\n",
       "      <td>two-sided</td>\n",
       "      <td>0.160666</td>\n",
       "      <td>[-1.55, 0.27]</td>\n",
       "      <td>0.453761</td>\n",
       "      <td>0.639</td>\n",
       "      <td>0.384434</td>\n",
       "    </tr>\n",
       "  </tbody>\n",
       "</table>\n",
       "</div>"
      ],
      "text/plain": [
       "               T        dof alternative     p-val          CI95%   cohen-d  \\\n",
       "T-test -1.441817  27.450148   two-sided  0.160666  [-1.55, 0.27]  0.453761   \n",
       "\n",
       "         BF10     power  \n",
       "T-test  0.639  0.384434  "
      ]
     },
     "execution_count": 73,
     "metadata": {},
     "output_type": "execute_result"
    }
   ],
   "source": [
    "pg.ttest(sim_x,sim_y, correction=True)"
   ]
  },
  {
   "cell_type": "code",
   "execution_count": 74,
   "id": "b9cefddc",
   "metadata": {
    "ExecuteTime": {
     "end_time": "2022-10-03T10:48:57.761366Z",
     "start_time": "2022-10-03T10:48:57.757215Z"
    }
   },
   "outputs": [],
   "source": [
    "from statsmodels.stats.weightstats import ttest_ind\n",
    "from scipy.stats import mannwhitneyu"
   ]
  },
  {
   "cell_type": "code",
   "execution_count": 75,
   "id": "a6ddb540",
   "metadata": {
    "ExecuteTime": {
     "end_time": "2022-10-03T10:49:42.259257Z",
     "start_time": "2022-10-03T10:49:42.251882Z"
    }
   },
   "outputs": [
    {
     "data": {
      "text/plain": [
       "(-1.693769828274457, 0.09567349778406734, 58.0)"
      ]
     },
     "execution_count": 75,
     "metadata": {},
     "output_type": "execute_result"
    }
   ],
   "source": [
    "ttest_ind(sim_x, sim_y,usevar='pooled')"
   ]
  },
  {
   "cell_type": "code",
   "execution_count": 79,
   "id": "40ef3786",
   "metadata": {
    "ExecuteTime": {
     "end_time": "2022-10-03T10:50:31.282744Z",
     "start_time": "2022-10-03T10:50:31.268031Z"
    }
   },
   "outputs": [
    {
     "data": {
      "text/plain": [
       "LeveneResult(statistic=5.429763620474873, pvalue=0.023297108445624735)"
      ]
     },
     "execution_count": 79,
     "metadata": {},
     "output_type": "execute_result"
    }
   ],
   "source": [
    "sp.levene(sim_x, sim_y, center='mean')\n",
    "#     ‘median’: recommended for skewed distributions.\n",
    "#     ‘mean’: recommended for symmetric, moderate-tailed distributions.\n",
    "#     ‘trimmed’: recommended for heavy-tailed distributions."
   ]
  },
  {
   "cell_type": "code",
   "execution_count": 81,
   "id": "185ce4c3",
   "metadata": {
    "ExecuteTime": {
     "end_time": "2022-10-03T10:50:37.504580Z",
     "start_time": "2022-10-03T10:50:37.500899Z"
    }
   },
   "outputs": [
    {
     "data": {
      "text/plain": [
       "(-1.4418173367260172, 0.1606664978913802, 27.450148258918315)"
      ]
     },
     "execution_count": 81,
     "metadata": {},
     "output_type": "execute_result"
    }
   ],
   "source": [
    "ttest_ind(sim_x, sim_y,usevar='unequal')"
   ]
  },
  {
   "cell_type": "code",
   "execution_count": 82,
   "id": "7600b5ce",
   "metadata": {
    "ExecuteTime": {
     "end_time": "2022-10-03T10:50:38.032224Z",
     "start_time": "2022-10-03T10:50:38.012740Z"
    }
   },
   "outputs": [
    {
     "data": {
      "text/plain": [
       "MannwhitneyuResult(statistic=347.0, pvalue=0.2819727791733365)"
      ]
     },
     "execution_count": 82,
     "metadata": {},
     "output_type": "execute_result"
    }
   ],
   "source": [
    "mannwhitneyu(sim_x, sim_y, method='exact')"
   ]
  },
  {
   "cell_type": "code",
   "execution_count": 87,
   "id": "40b01bc8",
   "metadata": {
    "ExecuteTime": {
     "end_time": "2022-10-03T10:54:00.639510Z",
     "start_time": "2022-10-03T10:53:54.581162Z"
    }
   },
   "outputs": [],
   "source": [
    "# create variables for dataframe\n",
    "nSims = 5000 \n",
    "# set up empty container for all simulated Student's t-test p-values\n",
    "p1 = [] \n",
    "# set up empty container for all simulated Welch's t-test p-values\n",
    "p2 = [] \n",
    "# set up empty container for all simulated MW's p-values \n",
    "p3 = []\n",
    "# set up empty container for all Levene's t-test p-values\n",
    "pvalueLevene = [] \n",
    "for i in range(1, nSims):\n",
    "    # for each simulated experiment\n",
    "    sim_x = npr.normal(m1, sd1, n1)  # simulate participants condition x\n",
    "    sim_y = npr.normal(m2, sd2, n2)  # simulate participants condition y\n",
    "    # perform Student and Welch t-test and MW\n",
    "    # perform the tests and store p-value\n",
    "    p1.append(ttest_ind(sim_x,sim_y, usevar='pooled')[1])\n",
    "    p2.append(ttest_ind(sim_x,sim_y, usevar='unequal')[1])\n",
    "    p3.append(mannwhitneyu(sim_x, sim_y, method=\"exact\")[1])\n",
    "\n",
    "    # perform Levene's test\n",
    "    pvalueLevene.append(sp.levene(sim_x,sim_y, center='mean')[1])"
   ]
  },
  {
   "cell_type": "code",
   "execution_count": 89,
   "id": "7d27c3ea",
   "metadata": {
    "ExecuteTime": {
     "end_time": "2022-10-03T10:56:27.689404Z",
     "start_time": "2022-10-03T10:56:27.679508Z"
    }
   },
   "outputs": [
    {
     "data": {
      "text/plain": [
       "0.3639236767485823"
      ]
     },
     "execution_count": 89,
     "metadata": {},
     "output_type": "execute_result"
    }
   ],
   "source": [
    "var_ratio = sd1 ** 2 / sd2 ** 2\n",
    "var_ratio"
   ]
  },
  {
   "cell_type": "code",
   "execution_count": 49,
   "id": "92f428ea",
   "metadata": {
    "ExecuteTime": {
     "end_time": "2022-10-03T07:54:00.586764Z",
     "start_time": "2022-10-03T07:54:00.580034Z"
    }
   },
   "outputs": [],
   "source": [
    "import matplotlib.pyplot as plt"
   ]
  },
  {
   "cell_type": "code",
   "execution_count": 84,
   "id": "46d69bd5",
   "metadata": {
    "ExecuteTime": {
     "end_time": "2022-10-03T10:51:51.207125Z",
     "start_time": "2022-10-03T10:51:51.111678Z"
    }
   },
   "outputs": [
    {
     "data": {
      "image/png": "[encoded data removed]",
      "text/plain": [
       "<Figure size 432x288 with 1 Axes>"
      ]
     },
     "metadata": {
      "needs_background": "light"
     },
     "output_type": "display_data"
    }
   ],
   "source": [
    "plt.hist(p1);"
   ]
  },
  {
   "cell_type": "code",
   "execution_count": 90,
   "id": "4fe77ce8",
   "metadata": {
    "ExecuteTime": {
     "end_time": "2022-10-03T10:56:32.621180Z",
     "start_time": "2022-10-03T10:56:32.607939Z"
    }
   },
   "outputs": [
    {
     "data": {
      "text/plain": [
       "8.52"
      ]
     },
     "execution_count": 90,
     "metadata": {},
     "output_type": "execute_result"
    }
   ],
   "source": [
    "# Calculate Type 1 error in simulation for Student t-test\n",
    "errorrate = sum(np.array(p1) < 0.05) / nSims * 100\n",
    "errorrate"
   ]
  },
  {
   "cell_type": "code",
   "execution_count": 85,
   "id": "f1cacfd5",
   "metadata": {
    "ExecuteTime": {
     "end_time": "2022-10-03T10:51:53.826659Z",
     "start_time": "2022-10-03T10:51:53.727594Z"
    }
   },
   "outputs": [
    {
     "data": {
      "image/png": "[encoded data removed]",
      "text/plain": [
       "<Figure size 432x288 with 1 Axes>"
      ]
     },
     "metadata": {
      "needs_background": "light"
     },
     "output_type": "display_data"
    }
   ],
   "source": [
    "plt.hist(p2);"
   ]
  },
  {
   "cell_type": "code",
   "execution_count": 91,
   "id": "637e050f",
   "metadata": {
    "ExecuteTime": {
     "end_time": "2022-10-03T10:57:08.350507Z",
     "start_time": "2022-10-03T10:57:08.318929Z"
    }
   },
   "outputs": [
    {
     "data": {
      "text/plain": [
       "8.52"
      ]
     },
     "execution_count": 91,
     "metadata": {},
     "output_type": "execute_result"
    }
   ],
   "source": [
    "# Calculate Type 1 error in simulation for Welch t-test\n",
    "errorrate = sum(np.array(p2) < 0.05) / nSims * 100\n",
    "errorrate"
   ]
  },
  {
   "cell_type": "code",
   "execution_count": 86,
   "id": "b9d048e8",
   "metadata": {
    "ExecuteTime": {
     "end_time": "2022-10-03T10:51:56.717000Z",
     "start_time": "2022-10-03T10:51:56.547049Z"
    }
   },
   "outputs": [
    {
     "data": {
      "image/png": "[encoded data removed]",
      "text/plain": [
       "<Figure size 432x288 with 1 Axes>"
      ]
     },
     "metadata": {
      "needs_background": "light"
     },
     "output_type": "display_data"
    }
   ],
   "source": [
    "plt.hist(p3);"
   ]
  },
  {
   "cell_type": "code",
   "execution_count": 92,
   "id": "4f5f11ee",
   "metadata": {
    "ExecuteTime": {
     "end_time": "2022-10-03T10:58:02.035343Z",
     "start_time": "2022-10-03T10:58:02.024381Z"
    }
   },
   "outputs": [
    {
     "data": {
      "text/plain": [
       "7.64"
      ]
     },
     "execution_count": 92,
     "metadata": {},
     "output_type": "execute_result"
    }
   ],
   "source": [
    "# Calculate Type 1 error in simulation for MW test\n",
    "errorrate = sum(np.array(p3) < 0.05) / nSims * 100\n",
    "errorrate"
   ]
  },
  {
   "cell_type": "markdown",
   "id": "269b3e4a",
   "metadata": {},
   "source": [
    "It is clear that this is not the case for Student’s t-test. We see a skewed distribution, with more p-values below 0.05 than there should be (in this example, the true Type 1 error rate is 8.4%, which is already far enough from the nominal 5% level to be problemantic).\n",
    "\n",
    " Welch’s t-test doesn’t flinch, and performs just as desired.\n",
    "\n"
   ]
  },
  {
   "cell_type": "code",
   "execution_count": 38,
   "id": "c2fa8cd4",
   "metadata": {
    "ExecuteTime": {
     "end_time": "2022-10-03T07:49:25.157627Z",
     "start_time": "2022-10-03T07:49:24.904199Z"
    }
   },
   "outputs": [
    {
     "data": {
      "text/plain": [
       "[<matplotlib.lines.Line2D at 0x7f7427bcd270>]"
      ]
     },
     "execution_count": 38,
     "metadata": {},
     "output_type": "execute_result"
    },
    {
     "data": {
      "image/png": "[encoded data removed]",
      "text/plain": [
       "<Figure size 432x288 with 1 Axes>"
      ]
     },
     "metadata": {
      "needs_background": "light"
     },
     "output_type": "display_data"
    }
   ],
   "source": [
    "plt.scatter(p1,p2,alpha=0.05)\n",
    "x = np.linspace(0, 1)\n",
    "y = x\n",
    "plt.plot(x, y, color='red')"
   ]
  },
  {
   "cell_type": "code",
   "execution_count": 60,
   "id": "b8380661",
   "metadata": {
    "ExecuteTime": {
     "end_time": "2022-10-03T10:18:22.405007Z",
     "start_time": "2022-10-03T10:18:22.264829Z"
    }
   },
   "outputs": [
    {
     "data": {
      "text/plain": [
       "<matplotlib.lines.Line2D at 0x7f7426fe2170>"
      ]
     },
     "execution_count": 60,
     "metadata": {},
     "output_type": "execute_result"
    },
    {
     "data": {
      "image/png": "[encoded data removed]",
      "text/plain": [
       "<Figure size 432x288 with 1 Axes>"
      ]
     },
     "metadata": {
      "needs_background": "light"
     },
     "output_type": "display_data"
    }
   ],
   "source": [
    "plt.scatter(p1,p2,alpha=0.05)\n",
    "plt.xlim([0,0.15])\n",
    "plt.ylim([0,0.15])\n",
    "x = np.linspace(0, 1)\n",
    "y = x\n",
    "plt.plot(x, y, color='red')\n",
    "plt.axhline(y=0.05, color='k', linestyle='--')\n",
    "plt.axvline(x=0.05, color='k', linestyle='--')"
   ]
  },
  {
   "cell_type": "markdown",
   "id": "7f57b1db",
   "metadata": {},
   "source": [
    " We can plot the p-values against each other. Dots fall on the red line when both tests return the same p-value. If the two group sizes are equal, all points fall on this line. **Remember unequal variances are only a problem when group sizes are unequal.** The top left quadrant are all p-values smaller than 0.05 according to a Student’s t-test, but higher than 0.05 according to Welch’s t-test. \n",
    " \n",
    "**Since Welch’s t-test maintains the nominal Type 1 error rate with unequal variances, the p-values in this quadrant represent the bias in Student’s t-test when groups are unequal and variances are unequal** (i.e., the studies that yield a p < .05 with Student's t-test, but not with Welch's t-test).\n"
   ]
  },
  {
   "cell_type": "markdown",
   "id": "168c19ed",
   "metadata": {},
   "source": [
    "The bias works both ways. In the example above, the condition with the larger sample size had the smallest standard deviation. **But when the condition with the larger sample size has the larger standard deviation, the Student’s t-test can return a p-value higher than 0.05, when Welch’s t-test returns a p-value smaller than 0.05** (there is a dip in the number of p-values < 0.05 in the p-value distribution of Student’s t-test, and the majority of the data points fall below the red diagonal line). "
   ]
  },
  {
   "cell_type": "markdown",
   "id": "1fc3b528",
   "metadata": {},
   "source": [
    "You might argue that as long as Levene’s test warns you that variances are not equal, there is nothing to worry about. **If we examine how often Levene’s test is significant, we see it has a statistical power of only 63% with the sample sizes and standard deviations in this example.** Even though the variances in our simulation are not equal, Levene’s test only reveals this difference in 63% of the tests. **The power depends on the size of the difference in variances (the bigger, the higher the power), and on the sample size (the larger, the higher the power).** That is assuming that people check the assumptions of the t-test to begin with, and report Welch's test when Levene’s test is significant."
   ]
  },
  {
   "cell_type": "markdown",
   "id": "05489ec2",
   "metadata": {},
   "source": [
    "Unless you have a very high power (and feel free to use the simulation to calculate what your power would be, given your sample size, for a range of plausible standard deviations), there is no way to be reasonably sure that variances are equal."
   ]
  },
  {
   "cell_type": "markdown",
   "id": "a997aa23",
   "metadata": {},
   "source": [
    "If variances are equal, Welch’s t-test and Student’s t-test return the same p-value. **But Type 1 error rates are only one factor to evaluate a test on.** \n",
    "\n",
    "The second most important factor is statistical power (with ease of calculation being a third, but Welch's test is always reported in SPSS, so that's not a problem). \n",
    "\n",
    "If one test is much more powerful than the other, it can be considered a better test. **Moser, Stevens, & Watts (1989) find that Student's t-test is only slightly more powerful when variances are equal but sample sizes are unequal.** \n",
    "\n",
    "- When the difference between sample sizes is huge (e.g., 20 vs 2000 participants) the Student's t-test is a few percent (e.g., 4%) more powerful. \n",
    "- However, in most other situations, the difference in power is between 1 and 2 percent, which can be mitigated by just a few (sometimes even 1) additional participant(s) in the smaller group. \n",
    "\n",
    "**The only other situation where the Student's t-test is more powerful is when variances and sample sizes are unequal and the larger group has the smaller variance, but in this situation, the Type 1 error rate is inflated in the Student's t-test, so it's not really an option anyway. **\n",
    "\n",
    "These power differences are therefore not a strong reason to ever use Student's t-test instead of Welch's t-test, unless you can be confident variances are exactly equal.\n",
    "\n",
    "The idea that a two-step procedure (first performing Levene's test, then deciding which test statistic to report) should be replaced by unconditionally reporting Welch's t-test is generally accepted by statisticians"
   ]
  },
  {
   "cell_type": "code",
   "execution_count": 40,
   "id": "a51e7ca3",
   "metadata": {
    "ExecuteTime": {
     "end_time": "2022-10-03T07:51:30.127403Z",
     "start_time": "2022-10-03T07:51:30.086607Z"
    }
   },
   "outputs": [],
   "source": [
    "# Calculate Type 1 error in simulation for Student t-test\n",
    "var_ratio = sd1 ** 2 / sd2 ** 2\n",
    "errorrate = sum(np.array(p1) < 0.05) / nSims * 100"
   ]
  },
  {
   "cell_type": "code",
   "execution_count": 41,
   "id": "ff8d910f",
   "metadata": {
    "ExecuteTime": {
     "end_time": "2022-10-03T07:51:31.506380Z",
     "start_time": "2022-10-03T07:51:31.494589Z"
    }
   },
   "outputs": [
    {
     "data": {
      "text/plain": [
       "0.3639236767485823"
      ]
     },
     "execution_count": 41,
     "metadata": {},
     "output_type": "execute_result"
    }
   ],
   "source": [
    "var_ratio"
   ]
  },
  {
   "cell_type": "code",
   "execution_count": 42,
   "id": "d6db26d3",
   "metadata": {
    "ExecuteTime": {
     "end_time": "2022-10-03T07:51:32.473673Z",
     "start_time": "2022-10-03T07:51:32.463026Z"
    }
   },
   "outputs": [
    {
     "data": {
      "text/plain": [
       "8.32"
      ]
     },
     "execution_count": 42,
     "metadata": {},
     "output_type": "execute_result"
    }
   ],
   "source": [
    "errorrate"
   ]
  },
  {
   "cell_type": "code",
   "execution_count": 43,
   "id": "62265819",
   "metadata": {
    "ExecuteTime": {
     "end_time": "2022-10-03T07:51:38.049946Z",
     "start_time": "2022-10-03T07:51:38.041264Z"
    }
   },
   "outputs": [
    {
     "name": "stdout",
     "output_type": "stream",
     "text": [
      "The Type 1 error rate (if the true effect is 0) or the power using Student's t-test is  8.32  with a ratio between the variances of  0.3639236767485823 . Note the nominal Type 1 error rate should be 5%, and equal variances imply a variance ratio of 1\n"
     ]
    }
   ],
   "source": [
    "print(\"The Type 1 error rate (if the true effect is 0) or the power using Student's t-test is \",\n",
    "    errorrate,\n",
    "    \" with a ratio between the variances of \",\n",
    "    var_ratio,\n",
    "    \". Note the nominal Type 1 error rate should be 5%, and equal variances imply a variance ratio of 1\")"
   ]
  },
  {
   "cell_type": "markdown",
   "id": "2074eaf2",
   "metadata": {},
   "source": [
    "Note the nominal Type 1 error rate should be 5%, and equal variances imply a variance ratio of 1"
   ]
  },
  {
   "cell_type": "code",
   "execution_count": 44,
   "id": "99245f20",
   "metadata": {
    "ExecuteTime": {
     "end_time": "2022-10-03T07:51:39.286619Z",
     "start_time": "2022-10-03T07:51:39.265278Z"
    }
   },
   "outputs": [
    {
     "name": "stdout",
     "output_type": "stream",
     "text": [
      "The Type 1 error rate (if the true effect is 0) or the power using Welch's t-test is  5.04  with a ratio between the variances of  0.3639236767485823 . Note the nominal Type 1 error rate should be 5%, and equal variances imply a variance ratio of 1\n"
     ]
    }
   ],
   "source": [
    "# Calculate Type 1 error in simulation for Welch's t-test\n",
    "errorrate2 = sum(np.array(p2) < 0.05) / nSims * 100\n",
    "print(\"The Type 1 error rate (if the true effect is 0) or the power using Welch's t-test is \",\n",
    "    errorrate2,\n",
    "    \" with a ratio between the variances of \",\n",
    "    var_ratio,\n",
    "    \". Note the nominal Type 1 error rate should be 5%, and equal variances imply a variance ratio of 1\")"
   ]
  },
  {
   "cell_type": "code",
   "execution_count": 45,
   "id": "e3af1d96",
   "metadata": {
    "ExecuteTime": {
     "end_time": "2022-10-03T07:51:40.699007Z",
     "start_time": "2022-10-03T07:51:40.690930Z"
    }
   },
   "outputs": [
    {
     "data": {
      "text/plain": [
       "5.04"
      ]
     },
     "execution_count": 45,
     "metadata": {},
     "output_type": "execute_result"
    }
   ],
   "source": [
    "errorrate2"
   ]
  },
  {
   "cell_type": "code",
   "execution_count": 46,
   "id": "9b0dee23",
   "metadata": {
    "ExecuteTime": {
     "end_time": "2022-10-03T07:51:41.084295Z",
     "start_time": "2022-10-03T07:51:41.061237Z"
    }
   },
   "outputs": [
    {
     "name": "stdout",
     "output_type": "stream",
     "text": [
      "The observed power for the Levene test is  67.38\n"
     ]
    }
   ],
   "source": [
    "observedpowerLevene = sum(np.array(pvalueLevene) < 0.05) / nSims * 100\n",
    "print(\"The observed power for the Levene test is \", observedpowerLevene)"
   ]
  },
  {
   "cell_type": "markdown",
   "id": "0a3bb997",
   "metadata": {},
   "source": [
    "Even though the variances in our simulation are not equal, Levene’s test only reveals this difference in 63% of the tests."
   ]
  }
 ],
 "metadata": {
  "hide_input": false,
  "kernelspec": {
   "display_name": "Python 3 (ipykernel)",
   "language": "python",
   "name": "python3"
  },
  "language_info": {
   "codemirror_mode": {
    "name": "ipython",
    "version": 3
   },
   "file_extension": ".py",
   "mimetype": "text/x-python",
   "name": "python",
   "nbconvert_exporter": "python",
   "pygments_lexer": "ipython3",
   "version": "3.10.6"
  },
  "latex_envs": {
   "LaTeX_envs_menu_present": true,
   "autoclose": true,
   "autocomplete": true,
   "bibliofile": "biblio.bib",
   "cite_by": "apalike",
   "current_citInitial": 1,
   "eqLabelWithNumbers": true,
   "eqNumInitial": 1,
   "hotkeys": {
    "equation": "Ctrl-E",
    "itemize": "Ctrl-I"
   },
   "labels_anchors": false,
   "latex_user_defs": false,
   "report_style_numbering": false,
   "user_envs_cfg": false
  },
  "toc": {
   "base_numbering": 1,
   "nav_menu": {},
   "number_sections": true,
   "sideBar": true,
   "skip_h1_title": false,
   "title_cell": "Table of Contents",
   "title_sidebar": "Contents",
   "toc_cell": false,
   "toc_position": {},
   "toc_section_display": true,
   "toc_window_display": false
  },
  "varInspector": {
   "cols": {
    "lenName": 16,
    "lenType": 16,
    "lenVar": 40
   },
   "kernels_config": {
    "python": {
     "delete_cmd_postfix": "",
     "delete_cmd_prefix": "del ",
     "library": "var_list.py",
     "varRefreshCmd": "print(var_dic_list())"
    },
    "r": {
     "delete_cmd_postfix": ") ",
     "delete_cmd_prefix": "rm(",
     "library": "var_list.r",
     "varRefreshCmd": "cat(var_dic_list()) "
    }
   },
   "types_to_exclude": [
    "module",
    "function",
    "builtin_function_or_method",
    "instance",
    "_Feature"
   ],
   "window_display": false
  }
 },
 "nbformat": 4,
 "nbformat_minor": 5
}

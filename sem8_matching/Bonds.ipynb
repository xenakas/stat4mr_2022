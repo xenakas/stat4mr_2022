{
 "cells": [
  {
   "cell_type": "code",
   "execution_count": null,
   "metadata": {
    "ExecuteTime": {
     "end_time": "2022-11-14T14:21:50.274265Z",
     "start_time": "2022-11-14T14:21:50.229Z"
    }
   },
   "outputs": [],
   "source": [
    "df = read.csv('df_matching.csv') \n",
    "df_green = df[df['green'] == 1,]\n",
    "df_not_green = df[df['green'] != 1,]"
   ]
  },
  {
   "cell_type": "code",
   "execution_count": null,
   "metadata": {
    "ExecuteTime": {
     "end_time": "2022-11-14T14:22:29.699141Z",
     "start_time": "2022-11-14T14:22:29.583Z"
    }
   },
   "outputs": [],
   "source": [
    "df"
   ]
  },
  {
   "cell_type": "code",
   "execution_count": null,
   "metadata": {
    "ExecuteTime": {
     "end_time": "2022-11-14T14:22:31.634482Z",
     "start_time": "2022-11-14T14:22:31.619Z"
    }
   },
   "outputs": [],
   "source": [
    "dim(df_green)\n",
    "dim(df_not_green)"
   ]
  },
  {
   "cell_type": "markdown",
   "metadata": {},
   "source": [
    "### Mod 2"
   ]
  },
  {
   "cell_type": "code",
   "execution_count": null,
   "metadata": {
    "ExecuteTime": {
     "end_time": "2022-11-14T14:23:57.014261Z",
     "start_time": "2022-11-14T14:23:57.002Z"
    }
   },
   "outputs": [],
   "source": [
    "# MATCHING:\n",
    "# Issue size\n",
    "# Credit Rating\n",
    "# Maturity\n",
    "# Coupons"
   ]
  },
  {
   "cell_type": "code",
   "execution_count": null,
   "metadata": {
    "ExecuteTime": {
     "end_time": "2022-11-14T14:23:59.584584Z",
     "start_time": "2022-11-14T14:23:59.568Z"
    }
   },
   "outputs": [],
   "source": [
    "df_matching = df"
   ]
  },
  {
   "cell_type": "code",
   "execution_count": null,
   "metadata": {
    "ExecuteTime": {
     "end_time": "2022-11-14T14:24:02.099653Z",
     "start_time": "2022-11-14T14:24:02.023Z"
    }
   },
   "outputs": [],
   "source": [
    "library(MatchIt)"
   ]
  },
  {
   "cell_type": "code",
   "execution_count": null,
   "metadata": {
    "ExecuteTime": {
     "end_time": "2022-11-14T14:24:48.531844Z",
     "start_time": "2022-11-14T14:24:48.435Z"
    }
   },
   "outputs": [],
   "source": [
    "mat <- matchit(green ~ Amt_Issued + mty_years_frm + \n",
    "               years_to_maturity + YAS_Yield_Spread +\n",
    "               X260D_volatility +  Cpn + \n",
    "               comp_return + roe + roe_bit  + \n",
    "               roc + number_of_former_directors + \n",
    "               number_of_executors, data = df_matching,\n",
    "                 method = \"nearest\", distance = \"glm\")\n",
    "summary(mat, un = FALSE)"
   ]
  },
  {
   "cell_type": "code",
   "execution_count": null,
   "metadata": {
    "ExecuteTime": {
     "end_time": "2022-11-14T14:25:00.405388Z",
     "start_time": "2022-11-14T14:25:00.169Z"
    }
   },
   "outputs": [],
   "source": [
    "plot(mat, type = \"jitter\", interactive = FALSE)"
   ]
  },
  {
   "cell_type": "code",
   "execution_count": null,
   "metadata": {
    "ExecuteTime": {
     "end_time": "2022-11-14T14:26:24.166597Z",
     "start_time": "2022-11-14T14:26:24.077Z"
    }
   },
   "outputs": [],
   "source": [
    "plot(summary(mat))"
   ]
  },
  {
   "cell_type": "code",
   "execution_count": null,
   "metadata": {
    "ExecuteTime": {
     "end_time": "2022-11-14T14:28:01.144658Z",
     "start_time": "2022-11-14T14:28:01.133Z"
    }
   },
   "outputs": [],
   "source": [
    "mch <- match.data(mat)"
   ]
  },
  {
   "cell_type": "code",
   "execution_count": null,
   "metadata": {
    "ExecuteTime": {
     "end_time": "2022-11-14T14:28:04.571768Z",
     "start_time": "2022-11-14T14:28:01.979Z"
    }
   },
   "outputs": [],
   "source": [
    "df_diff = data.frame(matrix(NA, nrow=0,ncol=30))\n",
    "for (i in 1:177){\n",
    "    df_1 = mch[mch['subclass']==i,]\n",
    "    df_diff =  rbind(df_diff, df_1[df_1['green']==1,]  -  df_1[df_1['green']==0,] )\n",
    "}"
   ]
  },
  {
   "cell_type": "code",
   "execution_count": null,
   "metadata": {
    "ExecuteTime": {
     "end_time": "2022-11-14T14:28:27.385332Z",
     "start_time": "2022-11-14T14:28:27.345Z"
    },
    "scrolled": false
   },
   "outputs": [],
   "source": [
    "mod_mat <- lm(BVALMidYTM ~ Amt_Issued + mty_years_frm + years_to_maturity + YAS_Yield_Spread +  X260D_volatility +  Cpn + comp_return + \n",
    "              roe + roe_bit  + roc +  number_of_former_directors + number_of_executors + \n",
    "              ecological_index + women_on_board + independent_directors + independence_num  + \n",
    "              + solvency + country_risk_num + rep_risk_num + crs_rating + crif_rating + crif_peer_rating + \n",
    "              + ecological_risk + stability, data = df_diff )\n",
    "\n",
    "summary(mod_mat)"
   ]
  },
  {
   "cell_type": "code",
   "execution_count": null,
   "metadata": {
    "ExecuteTime": {
     "end_time": "2022-11-14T14:29:35.384646Z",
     "start_time": "2022-11-14T14:29:35.367Z"
    }
   },
   "outputs": [],
   "source": [
    "mod_mat <- lm(BVALMidYTM ~ ecological_index + women_on_board + independent_directors + independence_num  + \n",
    "              + solvency + country_risk_num + rep_risk_num + crs_rating + crif_rating + crif_peer_rating + \n",
    "              + ecological_risk + stability, data = df_diff )\n",
    "\n",
    "\n",
    "summary(mod_mat)"
   ]
  },
  {
   "cell_type": "code",
   "execution_count": null,
   "metadata": {},
   "outputs": [],
   "source": []
  }
 ],
 "metadata": {
  "hide_input": false,
  "kernelspec": {
   "display_name": "R 4.1",
   "language": "R",
   "name": "ir41"
  },
  "language_info": {
   "codemirror_mode": "r",
   "file_extension": ".r",
   "mimetype": "text/x-r-source",
   "name": "R",
   "pygments_lexer": "r",
   "version": "4.1.2"
  },
  "latex_envs": {
   "LaTeX_envs_menu_present": true,
   "autoclose": true,
   "autocomplete": true,
   "bibliofile": "biblio.bib",
   "cite_by": "apalike",
   "current_citInitial": 1,
   "eqLabelWithNumbers": true,
   "eqNumInitial": 1,
   "hotkeys": {
    "equation": "Ctrl-E",
    "itemize": "Ctrl-I"
   },
   "labels_anchors": false,
   "latex_user_defs": false,
   "report_style_numbering": false,
   "user_envs_cfg": false
  },
  "toc": {
   "base_numbering": 1,
   "nav_menu": {},
   "number_sections": true,
   "sideBar": true,
   "skip_h1_title": false,
   "title_cell": "Table of Contents",
   "title_sidebar": "Contents",
   "toc_cell": false,
   "toc_position": {},
   "toc_section_display": true,
   "toc_window_display": false
  },
  "varInspector": {
   "cols": {
    "lenName": 16,
    "lenType": 16,
    "lenVar": 40
   },
   "kernels_config": {
    "python": {
     "delete_cmd_postfix": "",
     "delete_cmd_prefix": "del ",
     "library": "var_list.py",
     "varRefreshCmd": "print(var_dic_list())"
    },
    "r": {
     "delete_cmd_postfix": ") ",
     "delete_cmd_prefix": "rm(",
     "library": "var_list.r",
     "varRefreshCmd": "cat(var_dic_list()) "
    }
   },
   "types_to_exclude": [
    "module",
    "function",
    "builtin_function_or_method",
    "instance",
    "_Feature"
   ],
   "window_display": false
  }
 },
 "nbformat": 4,
 "nbformat_minor": 4
}

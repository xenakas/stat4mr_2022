{
 "cells": [
  {
   "cell_type": "markdown",
   "id": "f50ea10e",
   "metadata": {},
   "source": [
    "### [Inflation Targeting](https://www.nottingham.ac.uk/cfcm/documents/seminars/2013-14/17-10-13-geraats.pdf)"
   ]
  },
  {
   "cell_type": "code",
   "execution_count": null,
   "id": "733ab948",
   "metadata": {
    "ExecuteTime": {
     "end_time": "2022-11-14T13:58:29.425794Z",
     "start_time": "2022-11-14T13:58:28.851498Z"
    }
   },
   "outputs": [],
   "source": [
    "import pandas as pd\n",
    "import matplotlib.pyplot as plt"
   ]
  },
  {
   "cell_type": "code",
   "execution_count": null,
   "id": "7ead90a1",
   "metadata": {
    "ExecuteTime": {
     "end_time": "2022-11-14T13:58:30.070727Z",
     "start_time": "2022-11-14T13:58:30.018816Z"
    }
   },
   "outputs": [],
   "source": [
    "df = pd.read_csv('Inflation.csv')\n",
    "df"
   ]
  },
  {
   "cell_type": "code",
   "execution_count": null,
   "id": "0cc11627",
   "metadata": {
    "ExecuteTime": {
     "end_time": "2022-11-14T13:59:37.241457Z",
     "start_time": "2022-11-14T13:59:37.237977Z"
    }
   },
   "outputs": [],
   "source": [
    "df['diff'] = df['mean_after'] - df['mean_before'] "
   ]
  },
  {
   "cell_type": "code",
   "execution_count": null,
   "id": "ad004b4e",
   "metadata": {
    "ExecuteTime": {
     "end_time": "2022-11-14T13:59:43.459207Z",
     "start_time": "2022-11-14T13:59:43.426809Z"
    }
   },
   "outputs": [],
   "source": [
    "df"
   ]
  },
  {
   "cell_type": "code",
   "execution_count": null,
   "id": "5fd96515",
   "metadata": {
    "ExecuteTime": {
     "end_time": "2022-11-14T14:00:18.885108Z",
     "start_time": "2022-11-14T14:00:18.880762Z"
    }
   },
   "outputs": [],
   "source": [
    "df_targ = df.loc[df['targeting_inf']==1,]\n",
    "df_razvit = df.loc[df['razviv']==1,]\n",
    "df_razviv = df.loc[df['razviv']==0,]"
   ]
  },
  {
   "cell_type": "code",
   "execution_count": null,
   "id": "931844de",
   "metadata": {
    "ExecuteTime": {
     "end_time": "2022-11-14T14:00:21.808788Z",
     "start_time": "2022-11-14T14:00:21.682566Z"
    }
   },
   "outputs": [],
   "source": [
    "x=df_targ['mean_before']\n",
    "y=df_targ['mean_after']\n",
    "\n",
    "plt.scatter(x,y,c =df_targ['razviv'] )\n",
    "\n",
    "m, b = np.polyfit(x, y, 1) #m = slope, b=intercept\n",
    "\n",
    "plt.plot(x, m*x + b)\n"
   ]
  },
  {
   "cell_type": "code",
   "execution_count": null,
   "id": "afe3f70e",
   "metadata": {
    "ExecuteTime": {
     "end_time": "2022-11-14T14:01:20.436372Z",
     "start_time": "2022-11-14T14:01:20.147032Z"
    }
   },
   "outputs": [],
   "source": [
    "import scipy.stats as sp\n",
    "# import pingouin as pg"
   ]
  },
  {
   "cell_type": "code",
   "execution_count": null,
   "id": "fd5cc70e",
   "metadata": {
    "ExecuteTime": {
     "end_time": "2022-11-14T14:01:21.551548Z",
     "start_time": "2022-11-14T14:01:21.547642Z"
    }
   },
   "outputs": [],
   "source": [
    "np.mean(x), np.mean(y)"
   ]
  },
  {
   "cell_type": "code",
   "execution_count": null,
   "id": "9795ffd5",
   "metadata": {
    "ExecuteTime": {
     "end_time": "2022-11-14T14:01:24.828299Z",
     "start_time": "2022-11-14T14:01:24.819391Z"
    }
   },
   "outputs": [],
   "source": [
    "sp.ttest_rel(x,y) #paired = TRUE"
   ]
  },
  {
   "cell_type": "code",
   "execution_count": null,
   "id": "400ead44",
   "metadata": {
    "ExecuteTime": {
     "end_time": "2022-11-14T14:02:14.791781Z",
     "start_time": "2022-11-14T14:02:14.743336Z"
    }
   },
   "outputs": [],
   "source": [
    "import statsmodels.formula.api as smf"
   ]
  },
  {
   "cell_type": "code",
   "execution_count": null,
   "id": "49327c8a",
   "metadata": {
    "ExecuteTime": {
     "end_time": "2022-11-14T09:58:18.682404Z",
     "start_time": "2022-11-14T09:58:18.675332Z"
    }
   },
   "outputs": [],
   "source": [
    "#################################"
   ]
  },
  {
   "cell_type": "code",
   "execution_count": null,
   "id": "b4f69ab3",
   "metadata": {
    "ExecuteTime": {
     "end_time": "2022-11-14T14:02:22.955451Z",
     "start_time": "2022-11-14T14:02:22.914781Z"
    }
   },
   "outputs": [],
   "source": [
    "model_a1 = smf.ols(data = df, formula='diff ~ targeting_inf').fit()\n",
    "print(model_a1.params)\n",
    "model_a1.summary()"
   ]
  },
  {
   "cell_type": "code",
   "execution_count": null,
   "id": "ba022f2c",
   "metadata": {
    "ExecuteTime": {
     "end_time": "2022-11-14T14:03:02.546686Z",
     "start_time": "2022-11-14T14:03:02.529720Z"
    }
   },
   "outputs": [],
   "source": [
    "model_a2 = smf.ols(data = df_razviv, formula='diff ~ targeting_inf').fit()\n",
    "print(model_a2.params)\n",
    "model_a2.summary()"
   ]
  },
  {
   "cell_type": "code",
   "execution_count": null,
   "id": "3635b462",
   "metadata": {
    "ExecuteTime": {
     "end_time": "2022-11-14T14:03:25.498711Z",
     "start_time": "2022-11-14T14:03:25.470481Z"
    }
   },
   "outputs": [],
   "source": [
    "model_a3 = smf.ols(data = df_razvit, formula='diff ~ targeting_inf').fit()\n",
    "print(model_a3.params)\n",
    "model_a3.summary()\n"
   ]
  },
  {
   "cell_type": "code",
   "execution_count": null,
   "id": "12379d90",
   "metadata": {
    "ExecuteTime": {
     "end_time": "2022-11-14T09:58:19.351790Z",
     "start_time": "2022-11-14T09:58:19.347119Z"
    }
   },
   "outputs": [],
   "source": [
    "#################################"
   ]
  },
  {
   "cell_type": "code",
   "execution_count": null,
   "id": "3e538692",
   "metadata": {
    "ExecuteTime": {
     "end_time": "2022-11-14T14:05:03.639046Z",
     "start_time": "2022-11-14T14:05:03.616163Z"
    }
   },
   "outputs": [],
   "source": [
    "model_b1 = smf.ols(data = df, formula='diff ~ targeting_inf+mean_before').fit()\n",
    "print(model_b1.params)\n",
    "model_b1.summary()"
   ]
  },
  {
   "cell_type": "code",
   "execution_count": null,
   "id": "43a8b9b9",
   "metadata": {
    "ExecuteTime": {
     "end_time": "2022-11-14T14:06:05.353065Z",
     "start_time": "2022-11-14T14:06:05.280631Z"
    }
   },
   "outputs": [],
   "source": [
    "model_b2 = smf.ols(data = df_razviv, formula='diff ~ targeting_inf+mean_before').fit()\n",
    "print(model_b2.params)\n",
    "model_b2.summary()"
   ]
  },
  {
   "cell_type": "code",
   "execution_count": null,
   "id": "599debb0",
   "metadata": {
    "ExecuteTime": {
     "end_time": "2022-11-14T14:06:48.567401Z",
     "start_time": "2022-11-14T14:06:48.546116Z"
    }
   },
   "outputs": [],
   "source": [
    "model_b3 = smf.ols(data = df_razvit, formula='diff ~ targeting_inf+mean_before').fit()\n",
    "print(model_b3.params)\n",
    "model_b3.summary()"
   ]
  },
  {
   "cell_type": "code",
   "execution_count": null,
   "id": "1c725103",
   "metadata": {},
   "outputs": [],
   "source": []
  },
  {
   "cell_type": "code",
   "execution_count": null,
   "id": "96da7d94",
   "metadata": {},
   "outputs": [],
   "source": []
  }
 ],
 "metadata": {
  "hide_input": false,
  "kernelspec": {
   "display_name": "Python 3 (ipykernel)",
   "language": "python",
   "name": "python3"
  },
  "language_info": {
   "codemirror_mode": {
    "name": "ipython",
    "version": 3
   },
   "file_extension": ".py",
   "mimetype": "text/x-python",
   "name": "python",
   "nbconvert_exporter": "python",
   "pygments_lexer": "ipython3",
   "version": "3.10.6"
  },
  "latex_envs": {
   "LaTeX_envs_menu_present": true,
   "autoclose": true,
   "autocomplete": true,
   "bibliofile": "biblio.bib",
   "cite_by": "apalike",
   "current_citInitial": 1,
   "eqLabelWithNumbers": true,
   "eqNumInitial": 1,
   "hotkeys": {
    "equation": "Ctrl-E",
    "itemize": "Ctrl-I"
   },
   "labels_anchors": false,
   "latex_user_defs": false,
   "report_style_numbering": false,
   "user_envs_cfg": false
  },
  "toc": {
   "base_numbering": 1,
   "nav_menu": {},
   "number_sections": true,
   "sideBar": true,
   "skip_h1_title": false,
   "title_cell": "Table of Contents",
   "title_sidebar": "Contents",
   "toc_cell": false,
   "toc_position": {},
   "toc_section_display": true,
   "toc_window_display": false
  },
  "varInspector": {
   "cols": {
    "lenName": 16,
    "lenType": 16,
    "lenVar": 40
   },
   "kernels_config": {
    "python": {
     "delete_cmd_postfix": "",
     "delete_cmd_prefix": "del ",
     "library": "var_list.py",
     "varRefreshCmd": "print(var_dic_list())"
    },
    "r": {
     "delete_cmd_postfix": ") ",
     "delete_cmd_prefix": "rm(",
     "library": "var_list.r",
     "varRefreshCmd": "cat(var_dic_list()) "
    }
   },
   "types_to_exclude": [
    "module",
    "function",
    "builtin_function_or_method",
    "instance",
    "_Feature"
   ],
   "window_display": false
  }
 },
 "nbformat": 4,
 "nbformat_minor": 5
}
